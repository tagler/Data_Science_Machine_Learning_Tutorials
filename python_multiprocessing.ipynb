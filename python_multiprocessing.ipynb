{
 "cells": [
  {
   "cell_type": "markdown",
   "metadata": {},
   "source": [
    "# Python Multiprocessing with Progress Bar and Timeout"
   ]
  },
  {
   "cell_type": "markdown",
   "metadata": {},
   "source": [
    "## Setup"
   ]
  },
  {
   "cell_type": "code",
   "execution_count": 1,
   "metadata": {},
   "outputs": [],
   "source": [
    "import time\n",
    "import tqdm\n",
    "import pebble\n",
    "import multiprocessing\n",
    "from tqdm import notebook\n",
    "from tqdm.contrib.concurrent import process_map, thread_map\n",
    "from multiprocessing import Pool\n",
    "from multiprocessing.dummy import Pool as ThreadPool \n",
    "from pebble import ProcessPool\n",
    "from concurrent.futures import TimeoutError"
   ]
  },
  {
   "cell_type": "code",
   "execution_count": 2,
   "metadata": {},
   "outputs": [],
   "source": [
    "# fix needed for Python 3.8+ on mac\n",
    "# alternative is to use the 'multiprocess' library \n",
    "multiprocessing.set_start_method('fork')"
   ]
  },
  {
   "cell_type": "code",
   "execution_count": 3,
   "metadata": {},
   "outputs": [],
   "source": [
    "cpu = multiprocessing.cpu_count()"
   ]
  },
  {
   "cell_type": "markdown",
   "metadata": {},
   "source": [
    "## No Multiprocessing"
   ]
  },
  {
   "cell_type": "code",
   "execution_count": 4,
   "metadata": {},
   "outputs": [],
   "source": [
    "inputs = [0,1,2,3,4,5,6,7,8]"
   ]
  },
  {
   "cell_type": "code",
   "execution_count": 5,
   "metadata": {},
   "outputs": [],
   "source": [
    "def function(x):\n",
    "    time.sleep(x)\n",
    "    return x"
   ]
  },
  {
   "cell_type": "code",
   "execution_count": 6,
   "metadata": {},
   "outputs": [
    {
     "name": "stdout",
     "output_type": "stream",
     "text": [
      "36 s ± 0 ns per loop (mean ± std. dev. of 1 run, 1 loop each)\n"
     ]
    }
   ],
   "source": [
    "%%timeit -n1 -r1\n",
    "# standard loop\n",
    "results = []\n",
    "for each_input in inputs:\n",
    "    results.append(function(each_input))"
   ]
  },
  {
   "cell_type": "code",
   "execution_count": 7,
   "metadata": {},
   "outputs": [
    {
     "name": "stdout",
     "output_type": "stream",
     "text": [
      "36 s ± 0 ns per loop (mean ± std. dev. of 1 run, 1 loop each)\n"
     ]
    }
   ],
   "source": [
    "%%timeit -n1 -r1\n",
    "# list comprehension \n",
    "results = [\n",
    "    function(each_input) \n",
    "    for each_input in inputs\n",
    "]"
   ]
  },
  {
   "cell_type": "markdown",
   "metadata": {},
   "source": [
    "## Progress Bars"
   ]
  },
  {
   "cell_type": "code",
   "execution_count": 8,
   "metadata": {},
   "outputs": [
    {
     "name": "stderr",
     "output_type": "stream",
     "text": [
      "100%|██████████| 9/9 [00:36<00:00,  4.01s/it]\n"
     ]
    }
   ],
   "source": [
    "results = []\n",
    "# text progress bar\n",
    "for each_input in tqdm.tqdm(inputs):\n",
    "    results.append(function(each_input))"
   ]
  },
  {
   "cell_type": "code",
   "execution_count": 9,
   "metadata": {},
   "outputs": [
    {
     "data": {
      "application/vnd.jupyter.widget-view+json": {
       "model_id": "51f3953433704bf9945c3d4468bcaeaf",
       "version_major": 2,
       "version_minor": 0
      },
      "text/plain": [
       "HBox(children=(HTML(value=''), FloatProgress(value=0.0, max=9.0), HTML(value='')))"
      ]
     },
     "metadata": {},
     "output_type": "display_data"
    },
    {
     "name": "stdout",
     "output_type": "stream",
     "text": [
      "\n"
     ]
    }
   ],
   "source": [
    "results = []\n",
    "# notebook progress bar\n",
    "for each_input in notebook.tqdm(inputs):\n",
    "    results.append(function(each_input))"
   ]
  },
  {
   "cell_type": "markdown",
   "metadata": {},
   "source": [
    "## Multiprocessing"
   ]
  },
  {
   "cell_type": "code",
   "execution_count": 10,
   "metadata": {},
   "outputs": [
    {
     "name": "stdout",
     "output_type": "stream",
     "text": [
      "12 s ± 0 ns per loop (mean ± std. dev. of 1 run, 1 loop each)\n"
     ]
    }
   ],
   "source": [
    "%%timeit -n1 -r1\n",
    "# map will convert entire iterable to a list before multiprocessing\n",
    "# use for cpu limited\n",
    "with Pool(processes=cpu) as pool:\n",
    "    results = pool.map(function, inputs)"
   ]
  },
  {
   "cell_type": "code",
   "execution_count": 11,
   "metadata": {},
   "outputs": [
    {
     "name": "stdout",
     "output_type": "stream",
     "text": [
      "12 s ± 0 ns per loop (mean ± std. dev. of 1 run, 1 loop each)\n"
     ]
    }
   ],
   "source": [
    "%%timeit -n1 -r1\n",
    "# imap will iterate one element at a time, use if memory limited\n",
    "# use for cpu limited\n",
    "with Pool(processes=cpu) as pool:\n",
    "    pool_results = pool.imap(function, inputs)\n",
    "    results = [p for p in pool_results]"
   ]
  },
  {
   "cell_type": "code",
   "execution_count": 12,
   "metadata": {},
   "outputs": [
    {
     "name": "stdout",
     "output_type": "stream",
     "text": [
      "12 s ± 0 ns per loop (mean ± std. dev. of 1 run, 1 loop each)\n"
     ]
    }
   ],
   "source": [
    "%%timeit -n1 -r1\n",
    "# use apply_async (or starmap) for multiple arguments and callbacks\n",
    "# submits all at once and retrieve once they are finished\n",
    "# results order not guaranteed \n",
    "# use for cpu limited\n",
    "with Pool(processes=cpu) as pool:\n",
    "    pool_results = [\n",
    "        pool.apply_async(function, args=(inputs[i],))\n",
    "        for i in range(0,len(inputs))\n",
    "    ]\n",
    "    global results\n",
    "    results = [p.get() for p in pool_results]"
   ]
  },
  {
   "cell_type": "markdown",
   "metadata": {},
   "source": [
    "## Multithreading"
   ]
  },
  {
   "cell_type": "code",
   "execution_count": 13,
   "metadata": {},
   "outputs": [
    {
     "name": "stdout",
     "output_type": "stream",
     "text": [
      "12 s ± 0 ns per loop (mean ± std. dev. of 1 run, 1 loop each)\n"
     ]
    }
   ],
   "source": [
    "%%timeit -n1 -r1\n",
    "# use for i/o-limited\n",
    "with ThreadPool(processes=cpu) as pool:\n",
    "    results = pool.map(function, inputs)"
   ]
  },
  {
   "cell_type": "code",
   "execution_count": 14,
   "metadata": {},
   "outputs": [
    {
     "name": "stdout",
     "output_type": "stream",
     "text": [
      "12 s ± 0 ns per loop (mean ± std. dev. of 1 run, 1 loop each)\n"
     ]
    }
   ],
   "source": [
    "%%timeit -n1 -r1\n",
    "# use for i/o-limited\n",
    "with ThreadPool(processes=cpu) as pool:\n",
    "    pool_results = pool.imap(function, inputs)\n",
    "    results = [p for p in pool_results]"
   ]
  },
  {
   "cell_type": "code",
   "execution_count": 15,
   "metadata": {},
   "outputs": [
    {
     "name": "stdout",
     "output_type": "stream",
     "text": [
      "12 s ± 0 ns per loop (mean ± std. dev. of 1 run, 1 loop each)\n"
     ]
    }
   ],
   "source": [
    "%%timeit -n1 -r1\n",
    "# use for i/o-limited\n",
    "with ThreadPool(processes=cpu) as pool:\n",
    "    pool_results = [\n",
    "        pool.apply_async(function, args=(inputs[i],))\n",
    "        for i in range(0,len(inputs))\n",
    "    ]\n",
    "    global results\n",
    "    results = [p.get() for p in pool_results]"
   ]
  },
  {
   "cell_type": "markdown",
   "metadata": {},
   "source": [
    "## Multiprocessing with Progress Bar"
   ]
  },
  {
   "cell_type": "code",
   "execution_count": 16,
   "metadata": {},
   "outputs": [
    {
     "data": {
      "application/vnd.jupyter.widget-view+json": {
       "model_id": "0f9fb02e591a4bef8af641d73fa3dfdb",
       "version_major": 2,
       "version_minor": 0
      },
      "text/plain": [
       "HBox(children=(HTML(value=''), FloatProgress(value=0.0, max=9.0), HTML(value='')))"
      ]
     },
     "metadata": {},
     "output_type": "display_data"
    },
    {
     "name": "stdout",
     "output_type": "stream",
     "text": [
      "\n"
     ]
    }
   ],
   "source": [
    "results = process_map(function, inputs, max_workers=cpu)"
   ]
  },
  {
   "cell_type": "code",
   "execution_count": 17,
   "metadata": {},
   "outputs": [
    {
     "data": {
      "application/vnd.jupyter.widget-view+json": {
       "model_id": "e88e3ec2b2724689913ba293e5ec4dd5",
       "version_major": 2,
       "version_minor": 0
      },
      "text/plain": [
       "HBox(children=(HTML(value=''), FloatProgress(value=0.0, max=9.0), HTML(value='')))"
      ]
     },
     "metadata": {},
     "output_type": "display_data"
    },
    {
     "name": "stdout",
     "output_type": "stream",
     "text": [
      "\n"
     ]
    }
   ],
   "source": [
    "results = thread_map(function, inputs, max_workers=cpu)"
   ]
  },
  {
   "cell_type": "code",
   "execution_count": 18,
   "metadata": {},
   "outputs": [
    {
     "data": {
      "application/vnd.jupyter.widget-view+json": {
       "model_id": "20f10f7272f249318fe302f97e52f4b9",
       "version_major": 2,
       "version_minor": 0
      },
      "text/plain": [
       "HBox(children=(HTML(value=''), FloatProgress(value=0.0, max=9.0), HTML(value='')))"
      ]
     },
     "metadata": {},
     "output_type": "display_data"
    }
   ],
   "source": [
    "# custom callback functions \n",
    "progress_bar = notebook.tqdm(total=len(inputs))\n",
    "call_back = lambda _ : progress_bar.update(1)\n",
    "with Pool(processes=cpu) as pool:\n",
    "    pool_results = [\n",
    "        pool.apply_async(function, args=(inputs[i],), callback=call_back)\n",
    "        for i in range(0,len(inputs))\n",
    "    ]\n",
    "    results = [p.get() for p in pool_results]"
   ]
  },
  {
   "cell_type": "markdown",
   "metadata": {},
   "source": [
    "## Multiprocessing with Timeout"
   ]
  },
  {
   "cell_type": "code",
   "execution_count": 19,
   "metadata": {},
   "outputs": [
    {
     "data": {
      "application/vnd.jupyter.widget-view+json": {
       "model_id": "067577e473774271b7ffd2b24a1e7a6a",
       "version_major": 2,
       "version_minor": 0
      },
      "text/plain": [
       "HBox(children=(HTML(value=''), FloatProgress(value=0.0, max=9.0), HTML(value='')))"
      ]
     },
     "metadata": {},
     "output_type": "display_data"
    },
    {
     "name": "stdout",
     "output_type": "stream",
     "text": [
      "function took longer than 5 seconds\n",
      "function took longer than 5 seconds\n",
      "function took longer than 5 seconds\n"
     ]
    }
   ],
   "source": [
    "# pool map\n",
    "progress_bar = notebook.tqdm(total=len(inputs))\n",
    "with ProcessPool(max_workers=cpu) as pool:\n",
    "    future = pool.map(function, inputs, timeout=5)\n",
    "    iterator = future.result()\n",
    "    results = []\n",
    "    for i in range(0,len(inputs)):\n",
    "        try:\n",
    "            each_result = next(iterator)\n",
    "            results.append(each_result)\n",
    "        except TimeoutError as error:\n",
    "            print(\"function took longer than %d seconds\" % error.args[1])\n",
    "            results.append(None)\n",
    "        except StopIteration:\n",
    "            break\n",
    "        finally:\n",
    "            progress_bar.update(1)"
   ]
  },
  {
   "cell_type": "code",
   "execution_count": 20,
   "metadata": {},
   "outputs": [
    {
     "data": {
      "application/vnd.jupyter.widget-view+json": {
       "model_id": "3bd6d99510a34280a70fb4fce7096e31",
       "version_major": 2,
       "version_minor": 0
      },
      "text/plain": [
       "HBox(children=(HTML(value=''), FloatProgress(value=0.0, max=9.0), HTML(value='')))"
      ]
     },
     "metadata": {},
     "output_type": "display_data"
    },
    {
     "name": "stdout",
     "output_type": "stream",
     "text": [
      "function took longer than 5 seconds\n",
      "function took longer than 5 seconds\n",
      "function took longer than 5 seconds\n"
     ]
    }
   ],
   "source": [
    "# pool schedule and callback function \n",
    "def task_done(future):\n",
    "    try:\n",
    "        result = future.result()\n",
    "    except TimeoutError as error:\n",
    "        print(\"function took longer than %d seconds\" % error.args[1])\n",
    "    except Exception as error:\n",
    "        print(\"function raised %s\" % error)\n",
    "        print(error.traceback)\n",
    "    finally:\n",
    "        progress_bar.update(1)\n",
    "global progress_bar\n",
    "progress_bar = notebook.tqdm(total=len(inputs))\n",
    "with ProcessPool(max_workers=cpu) as pool:\n",
    "    pool_results = []\n",
    "    for i in range(0, len(inputs)):\n",
    "        future = pool.schedule(function, args=[inputs[i]], timeout=5)\n",
    "        future.add_done_callback(task_done)\n",
    "        pool_results.append(future)\n",
    "    global results\n",
    "    results = [p.result() if not p.exception() else None for p in pool_results]"
   ]
  },
  {
   "cell_type": "code",
   "execution_count": null,
   "metadata": {},
   "outputs": [],
   "source": []
  }
 ],
 "metadata": {
  "kernelspec": {
   "display_name": "Python 3",
   "language": "python",
   "name": "python3"
  },
  "language_info": {
   "codemirror_mode": {
    "name": "ipython",
    "version": 3
   },
   "file_extension": ".py",
   "mimetype": "text/x-python",
   "name": "python",
   "nbconvert_exporter": "python",
   "pygments_lexer": "ipython3",
   "version": "3.8.5"
  }
 },
 "nbformat": 4,
 "nbformat_minor": 4
}
