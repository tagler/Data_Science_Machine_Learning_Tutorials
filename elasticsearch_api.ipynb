{
 "cells": [
  {
   "cell_type": "markdown",
   "metadata": {},
   "source": [
    "# Elasticsearch "
   ]
  },
  {
   "cell_type": "markdown",
   "metadata": {},
   "source": [
    "# setup"
   ]
  },
  {
   "cell_type": "code",
   "execution_count": 1,
   "metadata": {},
   "outputs": [],
   "source": [
    "# edit conf/kibana.yml, uncomment elasticsearch.hosts: [\"http://localhost:9200\"]\n",
    "# run bin/elasticsearch\n",
    "# run bin/kibana "
   ]
  },
  {
   "cell_type": "code",
   "execution_count": null,
   "metadata": {},
   "outputs": [],
   "source": [
    "# elasticsearch: http://localhost:9200/\n",
    "# kibana: http://localhost:5601/"
   ]
  },
  {
   "cell_type": "code",
   "execution_count": 37,
   "metadata": {},
   "outputs": [],
   "source": [
    "from elasticsearch import Elasticsearch\n",
    "from elasticsearch_dsl import Search, MultiSearch"
   ]
  },
  {
   "cell_type": "code",
   "execution_count": 2,
   "metadata": {},
   "outputs": [],
   "source": [
    "es = Elasticsearch('http://localhost:9200/')"
   ]
  },
  {
   "cell_type": "code",
   "execution_count": 3,
   "metadata": {},
   "outputs": [
    {
     "data": {
      "text/plain": [
       "True"
      ]
     },
     "execution_count": 3,
     "metadata": {},
     "output_type": "execute_result"
    }
   ],
   "source": [
    "es.ping()"
   ]
  },
  {
   "cell_type": "code",
   "execution_count": 4,
   "metadata": {},
   "outputs": [
    {
     "data": {
      "text/plain": [
       "{'name': 'FVFYQ09LHV2G',\n",
       " 'cluster_name': 'elasticsearch',\n",
       " 'cluster_uuid': 'R0BO34yDRzmjtzeWhI0GNw',\n",
       " 'version': {'number': '7.7.1',\n",
       "  'build_flavor': 'default',\n",
       "  'build_type': 'tar',\n",
       "  'build_hash': 'ad56dce891c901a492bb1ee393f12dfff473a423',\n",
       "  'build_date': '2020-05-28T16:30:01.040088Z',\n",
       "  'build_snapshot': False,\n",
       "  'lucene_version': '8.5.1',\n",
       "  'minimum_wire_compatibility_version': '6.8.0',\n",
       "  'minimum_index_compatibility_version': '6.0.0-beta1'},\n",
       " 'tagline': 'You Know, for Search'}"
      ]
     },
     "execution_count": 4,
     "metadata": {},
     "output_type": "execute_result"
    }
   ],
   "source": [
    "es.info()"
   ]
  },
  {
   "cell_type": "markdown",
   "metadata": {},
   "source": [
    "# view indices"
   ]
  },
  {
   "cell_type": "code",
   "execution_count": 5,
   "metadata": {},
   "outputs": [
    {
     "data": {
      "text/plain": [
       "['friends', 'customers', 'autos', 'emplyees', 'courses', 'vehicles']"
      ]
     },
     "execution_count": 5,
     "metadata": {},
     "output_type": "execute_result"
    }
   ],
   "source": [
    "all_indices = es.indices.get_alias(\"*\")\n",
    "[each for each in all_indices if not '.' in each[0]]"
   ]
  },
  {
   "cell_type": "markdown",
   "metadata": {},
   "source": [
    "# view mappings"
   ]
  },
  {
   "cell_type": "code",
   "execution_count": 6,
   "metadata": {},
   "outputs": [
    {
     "data": {
      "text/plain": [
       "{'vehicles': {'mappings': {'properties': {'color': {'type': 'text',\n",
       "     'fields': {'keyword': {'type': 'keyword', 'ignore_above': 256}}},\n",
       "    'condition': {'type': 'text',\n",
       "     'fields': {'keyword': {'type': 'keyword', 'ignore_above': 256}}},\n",
       "    'make': {'type': 'text',\n",
       "     'fields': {'keyword': {'type': 'keyword', 'ignore_above': 256}}},\n",
       "    'price': {'type': 'long'},\n",
       "    'sold': {'type': 'date'}}}}}"
      ]
     },
     "execution_count": 6,
     "metadata": {},
     "output_type": "execute_result"
    }
   ],
   "source": [
    "es.indices.get_mapping(\"vehicles\")"
   ]
  },
  {
   "cell_type": "code",
   "execution_count": 7,
   "metadata": {},
   "outputs": [
    {
     "data": {
      "text/plain": [
       "{'customers': {'mappings': {'dynamic': 'strict',\n",
       "   'properties': {'age': {'type': 'integer'},\n",
       "    'gender': {'type': 'text', 'analyzer': 'standard'},\n",
       "    'is_new': {'type': 'boolean'},\n",
       "    'name': {'type': 'text', 'analyzer': 'standard'},\n",
       "    'total_spent': {'type': 'float'}}}}}"
      ]
     },
     "execution_count": 7,
     "metadata": {},
     "output_type": "execute_result"
    }
   ],
   "source": [
    "es.indices.get_mapping(\"customers\")"
   ]
  },
  {
   "cell_type": "code",
   "execution_count": 8,
   "metadata": {},
   "outputs": [
    {
     "data": {
      "text/plain": [
       "{'courses': {'mappings': {'properties': {'course_description': {'type': 'text',\n",
       "     'fields': {'keyword': {'type': 'keyword', 'ignore_above': 256}}},\n",
       "    'course_publish_date': {'type': 'date'},\n",
       "    'name': {'type': 'text',\n",
       "     'fields': {'keyword': {'type': 'keyword', 'ignore_above': 256}}},\n",
       "    'professor': {'properties': {'department': {'type': 'text',\n",
       "       'fields': {'keyword': {'type': 'keyword', 'ignore_above': 256}}},\n",
       "      'email': {'type': 'text',\n",
       "       'fields': {'keyword': {'type': 'keyword', 'ignore_above': 256}}},\n",
       "      'facutly_type': {'type': 'text',\n",
       "       'fields': {'keyword': {'type': 'keyword', 'ignore_above': 256}}},\n",
       "      'name': {'type': 'text',\n",
       "       'fields': {'keyword': {'type': 'keyword', 'ignore_above': 256}}}}},\n",
       "    'room': {'type': 'text',\n",
       "     'fields': {'keyword': {'type': 'keyword', 'ignore_above': 256}}},\n",
       "    'students_enrolled': {'type': 'long'}}}}}"
      ]
     },
     "execution_count": 8,
     "metadata": {},
     "output_type": "execute_result"
    }
   ],
   "source": [
    "es.indices.get_mapping(\"courses\")"
   ]
  },
  {
   "cell_type": "markdown",
   "metadata": {},
   "source": [
    "# get document"
   ]
  },
  {
   "cell_type": "code",
   "execution_count": 9,
   "metadata": {},
   "outputs": [
    {
     "data": {
      "text/plain": [
       "{'_index': 'autos',\n",
       " '_type': '_doc',\n",
       " '_id': '101',\n",
       " '_version': 4,\n",
       " '_seq_no': 5,\n",
       " '_primary_term': 1,\n",
       " 'found': True,\n",
       " '_source': {'make': 'ford', 'model': 'escape'}}"
      ]
     },
     "execution_count": 9,
     "metadata": {},
     "output_type": "execute_result"
    }
   ],
   "source": [
    "es.get(index=\"autos\", id=101)"
   ]
  },
  {
   "cell_type": "markdown",
   "metadata": {},
   "source": [
    "# search"
   ]
  },
  {
   "cell_type": "code",
   "execution_count": 10,
   "metadata": {},
   "outputs": [],
   "source": [
    "res = es.search(index=\"vehicles\",  body={\"query\": {\"match_all\": {}}})"
   ]
  },
  {
   "cell_type": "code",
   "execution_count": 11,
   "metadata": {},
   "outputs": [
    {
     "data": {
      "text/plain": [
       "32"
      ]
     },
     "execution_count": 11,
     "metadata": {},
     "output_type": "execute_result"
    }
   ],
   "source": [
    "res['hits']['total']['value']"
   ]
  },
  {
   "cell_type": "code",
   "execution_count": 12,
   "metadata": {},
   "outputs": [
    {
     "data": {
      "text/plain": [
       "{'took': 0,\n",
       " 'timed_out': False,\n",
       " '_shards': {'total': 1, 'successful': 1, 'skipped': 0, 'failed': 0},\n",
       " 'hits': {'total': {'value': 32, 'relation': 'eq'},\n",
       "  'max_score': 1.0,\n",
       "  'hits': [{'_index': 'vehicles',\n",
       "    '_type': '_doc',\n",
       "    '_id': 'm2HMhnIBZukbdG7-7pbh',\n",
       "    '_score': 1.0,\n",
       "    '_source': {'price': 10000,\n",
       "     'color': 'white',\n",
       "     'make': 'honda',\n",
       "     'sold': '2016-10-28',\n",
       "     'condition': 'okay'}},\n",
       "   {'_index': 'vehicles',\n",
       "    '_type': '_doc',\n",
       "    '_id': 'nGHMhnIBZukbdG7-7pbh',\n",
       "    '_score': 1.0,\n",
       "    '_source': {'price': 20000,\n",
       "     'color': 'white',\n",
       "     'make': 'honda',\n",
       "     'sold': '2016-11-05',\n",
       "     'condition': 'new'}},\n",
       "   {'_index': 'vehicles',\n",
       "    '_type': '_doc',\n",
       "    '_id': 'nWHMhnIBZukbdG7-7pbh',\n",
       "    '_score': 1.0,\n",
       "    '_source': {'price': 30000,\n",
       "     'color': 'green',\n",
       "     'make': 'ford',\n",
       "     'sold': '2016-05-18',\n",
       "     'condition': 'new'}},\n",
       "   {'_index': 'vehicles',\n",
       "    '_type': '_doc',\n",
       "    '_id': 'nmHMhnIBZukbdG7-7pbh',\n",
       "    '_score': 1.0,\n",
       "    '_source': {'price': 15000,\n",
       "     'color': 'blue',\n",
       "     'make': 'toyota',\n",
       "     'sold': '2016-07-02',\n",
       "     'condition': 'good'}},\n",
       "   {'_index': 'vehicles',\n",
       "    '_type': '_doc',\n",
       "    '_id': 'n2HMhnIBZukbdG7-7pbh',\n",
       "    '_score': 1.0,\n",
       "    '_source': {'price': 12000,\n",
       "     'color': 'green',\n",
       "     'make': 'toyota',\n",
       "     'sold': '2016-08-19',\n",
       "     'condition': 'good'}},\n",
       "   {'_index': 'vehicles',\n",
       "    '_type': '_doc',\n",
       "    '_id': 'oGHMhnIBZukbdG7-7pbh',\n",
       "    '_score': 1.0,\n",
       "    '_source': {'price': 18000,\n",
       "     'color': 'red',\n",
       "     'make': 'dodge',\n",
       "     'sold': '2016-11-05',\n",
       "     'condition': 'good'}},\n",
       "   {'_index': 'vehicles',\n",
       "    '_type': '_doc',\n",
       "    '_id': 'oWHMhnIBZukbdG7-7pbh',\n",
       "    '_score': 1.0,\n",
       "    '_source': {'price': 80000,\n",
       "     'color': 'red',\n",
       "     'make': 'bmw',\n",
       "     'sold': '2016-01-01',\n",
       "     'condition': 'new'}},\n",
       "   {'_index': 'vehicles',\n",
       "    '_type': '_doc',\n",
       "    '_id': 'omHMhnIBZukbdG7-7pbh',\n",
       "    '_score': 1.0,\n",
       "    '_source': {'price': 25000,\n",
       "     'color': 'blue',\n",
       "     'make': 'ford',\n",
       "     'sold': '2016-08-22',\n",
       "     'condition': 'new'}},\n",
       "   {'_index': 'vehicles',\n",
       "    '_type': '_doc',\n",
       "    '_id': 'o2HMhnIBZukbdG7-7pbh',\n",
       "    '_score': 1.0,\n",
       "    '_source': {'price': 10000,\n",
       "     'color': 'gray',\n",
       "     'make': 'dodge',\n",
       "     'sold': '2016-02-12',\n",
       "     'condition': 'okay'}},\n",
       "   {'_index': 'vehicles',\n",
       "    '_type': '_doc',\n",
       "    '_id': 'pGHMhnIBZukbdG7-7pbh',\n",
       "    '_score': 1.0,\n",
       "    '_source': {'price': 19000,\n",
       "     'color': 'red',\n",
       "     'make': 'dodge',\n",
       "     'sold': '2016-02-12',\n",
       "     'condition': 'good'}}]}}"
      ]
     },
     "execution_count": 12,
     "metadata": {},
     "output_type": "execute_result"
    }
   ],
   "source": [
    "res"
   ]
  },
  {
   "cell_type": "code",
   "execution_count": 34,
   "metadata": {},
   "outputs": [],
   "source": [
    "query_json = { \n",
    "    \"query\": {\n",
    "        \"bool\": {\n",
    "            \"filter\": {\n",
    "                \"bool\" : {\n",
    "                    \"must\" : [\n",
    "                        {\"match\" : {\"professor.name\" : \"bill\"}},\n",
    "                        {\"match\" : {\"name\" : \"accounting\"}}\n",
    "                    ],\n",
    "                    \"must_not\":[\n",
    "                        {\"match\" : {\"room\" : \"e7\"}}\n",
    "                    ]\n",
    "                }\n",
    "            }\n",
    "        }\n",
    "    }\n",
    "}"
   ]
  },
  {
   "cell_type": "code",
   "execution_count": 14,
   "metadata": {},
   "outputs": [],
   "source": [
    "res = es.search(index=\"\", body=query_json)"
   ]
  },
  {
   "cell_type": "code",
   "execution_count": 15,
   "metadata": {},
   "outputs": [
    {
     "data": {
      "text/plain": [
       "{'took': 290,\n",
       " 'timed_out': False,\n",
       " '_shards': {'total': 21, 'successful': 21, 'skipped': 0, 'failed': 0},\n",
       " 'hits': {'total': {'value': 1, 'relation': 'eq'},\n",
       "  'max_score': 0.0,\n",
       "  'hits': [{'_index': 'courses',\n",
       "    '_type': '_doc',\n",
       "    '_id': '8',\n",
       "    '_score': 0.0,\n",
       "    '_source': {'name': 'Accounting Info Systems 350',\n",
       "     'room': 'E3',\n",
       "     'professor': {'name': 'Bill Cage',\n",
       "      'department': 'accounting',\n",
       "      'facutly_type': 'full-time',\n",
       "      'email': 'cageb@onuni.com'},\n",
       "     'students_enrolled': 19,\n",
       "     'course_publish_date': '2014-05-15',\n",
       "     'course_description': 'Act Sys 350 is an advanced course providing students a practical understanding of an accounting system in database technology. Students will use MS Access to build a transaction ledger system'}}]}}"
      ]
     },
     "execution_count": 15,
     "metadata": {},
     "output_type": "execute_result"
    }
   ],
   "source": [
    "res"
   ]
  },
  {
   "cell_type": "markdown",
   "metadata": {},
   "source": [
    "# create index and add/delete documents"
   ]
  },
  {
   "cell_type": "code",
   "execution_count": 16,
   "metadata": {},
   "outputs": [],
   "source": [
    "doc = {\n",
    "    \"first_name\" : \"dave\",\n",
    "    \"last_name\" : \"jones\",\n",
    "    \"age\" : 27,\n",
    "    \"about\" : \"best friend\",\n",
    "    \"interests\" : ['sports','music'],\n",
    "}"
   ]
  },
  {
   "cell_type": "code",
   "execution_count": 17,
   "metadata": {},
   "outputs": [
    {
     "data": {
      "text/plain": [
       "{'_index': 'friends',\n",
       " '_type': '_doc',\n",
       " '_id': '1001',\n",
       " '_version': 3,\n",
       " 'result': 'updated',\n",
       " '_shards': {'total': 2, 'successful': 1, 'failed': 0},\n",
       " '_seq_no': 4,\n",
       " '_primary_term': 1}"
      ]
     },
     "execution_count": 17,
     "metadata": {},
     "output_type": "execute_result"
    }
   ],
   "source": [
    "es.index(index='friends', body=doc, id=1001)"
   ]
  },
  {
   "cell_type": "code",
   "execution_count": 18,
   "metadata": {},
   "outputs": [
    {
     "data": {
      "text/plain": [
       "{'took': 0,\n",
       " 'timed_out': False,\n",
       " '_shards': {'total': 1, 'successful': 1, 'skipped': 0, 'failed': 0},\n",
       " 'hits': {'total': {'value': 1, 'relation': 'eq'},\n",
       "  'max_score': 1.0,\n",
       "  'hits': [{'_index': 'friends',\n",
       "    '_type': '_doc',\n",
       "    '_id': '1001',\n",
       "    '_score': 1.0,\n",
       "    '_source': {'first_name': 'dave',\n",
       "     'last_name': 'jones',\n",
       "     'age': 27,\n",
       "     'about': 'best friend',\n",
       "     'interests': ['sports', 'music']}}]}}"
      ]
     },
     "execution_count": 18,
     "metadata": {},
     "output_type": "execute_result"
    }
   ],
   "source": [
    "es.search(index=\"friends\",  body={\"query\": {\"match_all\": {}}})"
   ]
  },
  {
   "cell_type": "code",
   "execution_count": 19,
   "metadata": {},
   "outputs": [],
   "source": [
    "doc_to_delete = {\n",
    "    \"first_name\" : \"jeff\",\n",
    "    \"last_name\" : \"smith\",\n",
    "    \"age\" : 27,\n",
    "    \"about\" : \"neighbor\",\n",
    "    \"interests\" : ['video games'],\n",
    "}"
   ]
  },
  {
   "cell_type": "code",
   "execution_count": 20,
   "metadata": {},
   "outputs": [
    {
     "data": {
      "text/plain": [
       "{'_index': 'friends',\n",
       " '_type': '_doc',\n",
       " '_id': '1002',\n",
       " '_version': 1,\n",
       " 'result': 'created',\n",
       " '_shards': {'total': 2, 'successful': 1, 'failed': 0},\n",
       " '_seq_no': 5,\n",
       " '_primary_term': 1}"
      ]
     },
     "execution_count": 20,
     "metadata": {},
     "output_type": "execute_result"
    }
   ],
   "source": [
    "es.index(index='friends', body=doc_to_delete, id=1002)"
   ]
  },
  {
   "cell_type": "code",
   "execution_count": 21,
   "metadata": {},
   "outputs": [
    {
     "data": {
      "text/plain": [
       "{'took': 0,\n",
       " 'timed_out': False,\n",
       " '_shards': {'total': 1, 'successful': 1, 'skipped': 0, 'failed': 0},\n",
       " 'hits': {'total': {'value': 1, 'relation': 'eq'},\n",
       "  'max_score': 1.0,\n",
       "  'hits': [{'_index': 'friends',\n",
       "    '_type': '_doc',\n",
       "    '_id': '1001',\n",
       "    '_score': 1.0,\n",
       "    '_source': {'first_name': 'dave',\n",
       "     'last_name': 'jones',\n",
       "     'age': 27,\n",
       "     'about': 'best friend',\n",
       "     'interests': ['sports', 'music']}}]}}"
      ]
     },
     "execution_count": 21,
     "metadata": {},
     "output_type": "execute_result"
    }
   ],
   "source": [
    "es.search(index=\"friends\",  body={\"query\": {\"match_all\": {}}})"
   ]
  },
  {
   "cell_type": "code",
   "execution_count": 22,
   "metadata": {},
   "outputs": [
    {
     "data": {
      "text/plain": [
       "{'_index': 'friends',\n",
       " '_type': '_doc',\n",
       " '_id': '1002',\n",
       " '_version': 2,\n",
       " 'result': 'deleted',\n",
       " '_shards': {'total': 2, 'successful': 1, 'failed': 0},\n",
       " '_seq_no': 6,\n",
       " '_primary_term': 1}"
      ]
     },
     "execution_count": 22,
     "metadata": {},
     "output_type": "execute_result"
    }
   ],
   "source": [
    "es.delete(index=\"friends\", id=1002)"
   ]
  },
  {
   "cell_type": "code",
   "execution_count": 23,
   "metadata": {},
   "outputs": [
    {
     "data": {
      "text/plain": [
       "{'took': 0,\n",
       " 'timed_out': False,\n",
       " '_shards': {'total': 1, 'successful': 1, 'skipped': 0, 'failed': 0},\n",
       " 'hits': {'total': {'value': 1, 'relation': 'eq'},\n",
       "  'max_score': 1.0,\n",
       "  'hits': [{'_index': 'friends',\n",
       "    '_type': '_doc',\n",
       "    '_id': '1001',\n",
       "    '_score': 1.0,\n",
       "    '_source': {'first_name': 'dave',\n",
       "     'last_name': 'jones',\n",
       "     'age': 27,\n",
       "     'about': 'best friend',\n",
       "     'interests': ['sports', 'music']}}]}}"
      ]
     },
     "execution_count": 23,
     "metadata": {},
     "output_type": "execute_result"
    }
   ],
   "source": [
    "es.search(index=\"friends\",  body={\"query\": {\"match_all\": {}}})"
   ]
  },
  {
   "cell_type": "markdown",
   "metadata": {},
   "source": [
    "# search with pythonic API"
   ]
  },
  {
   "cell_type": "code",
   "execution_count": 24,
   "metadata": {},
   "outputs": [
    {
     "data": {
      "text/plain": [
       "<Response: [<Hit(courses/1): {'name': 'Accounting 101', 'room': 'E3', 'professor': {'name...}>, <Hit(courses/6): {'name': 'Cost Accounting 400', 'room': 'E7', 'professor': {...}>, <Hit(courses/9): {'name': 'Tax Accounting 200', 'room': 'E7', 'professor': {'...}>, <Hit(courses/8): {'name': 'Accounting Info Systems 350', 'room': 'E3', 'profe...}>]>"
      ]
     },
     "execution_count": 24,
     "metadata": {},
     "output_type": "execute_result"
    }
   ],
   "source": [
    "Search(using=es, index=\"courses\").query(\"match\", name=\"accounting\").execute()"
   ]
  },
  {
   "cell_type": "code",
   "execution_count": 25,
   "metadata": {},
   "outputs": [],
   "source": [
    "response = Search(using=es, index=\"courses\") \\\n",
    "    .filter(\"term\", name = \"accounting\") \\\n",
    "    .query(\"match\", room = \"e3\") \\\n",
    "    .exclude(\"match\", name=\"201\") \\\n",
    "    .execute()"
   ]
  },
  {
   "cell_type": "code",
   "execution_count": 26,
   "metadata": {},
   "outputs": [
    {
     "data": {
      "text/plain": [
       "{'value': 2, 'relation': 'eq'}"
      ]
     },
     "execution_count": 26,
     "metadata": {},
     "output_type": "execute_result"
    }
   ],
   "source": [
    "response.hits.total"
   ]
  },
  {
   "cell_type": "code",
   "execution_count": 27,
   "metadata": {},
   "outputs": [
    {
     "data": {
      "text/plain": [
       "[{'_index': 'courses', '_type': '_doc', '_id': '1', '_score': 1.2321435, '_source': {'name': 'Accounting 101', 'room': 'E3', 'professor': {'name': 'Thomas Baszo', 'department': 'finance', 'facutly_type': 'part-time', 'email': 'baszot@onuni.com'}, 'students_enrolled': 27, 'course_publish_date': '2015-01-19', 'course_description': 'Act 101 is a course from the business school on the introduction to accounting that teaches students how to read and compose basic financial statements'}}, {'_index': 'courses', '_type': '_doc', '_id': '8', '_score': 1.2321435, '_source': {'name': 'Accounting Info Systems 350', 'room': 'E3', 'professor': {'name': 'Bill Cage', 'department': 'accounting', 'facutly_type': 'full-time', 'email': 'cageb@onuni.com'}, 'students_enrolled': 19, 'course_publish_date': '2014-05-15', 'course_description': 'Act Sys 350 is an advanced course providing students a practical understanding of an accounting system in database technology. Students will use MS Access to build a transaction ledger system'}}]"
      ]
     },
     "execution_count": 27,
     "metadata": {},
     "output_type": "execute_result"
    }
   ],
   "source": [
    "response.hits.hits"
   ]
  },
  {
   "cell_type": "code",
   "execution_count": 28,
   "metadata": {},
   "outputs": [
    {
     "name": "stdout",
     "output_type": "stream",
     "text": [
      "1.2321435 Accounting 101\n",
      "1.2321435 Accounting Info Systems 350\n"
     ]
    }
   ],
   "source": [
    "for hit in response:\n",
    "    print(hit.meta.score, hit.name)"
   ]
  },
  {
   "cell_type": "code",
   "execution_count": 29,
   "metadata": {},
   "outputs": [],
   "source": [
    "s = Search(using=es, index=\"vehicles\") \\\n",
    "    .query(\"match\", color = \"red\") "
   ]
  },
  {
   "cell_type": "code",
   "execution_count": 30,
   "metadata": {},
   "outputs": [
    {
     "data": {
      "text/plain": [
       "Terms(aggs={'stats_on_price': Stats(field='price')}, field='make.keyword')"
      ]
     },
     "execution_count": 30,
     "metadata": {},
     "output_type": "execute_result"
    }
   ],
   "source": [
    "s.aggs.bucket(\"popular_cars\", \"terms\", field= \"make.keyword\") \\\n",
    "    .metric(\"stats_on_price\", \"stats\", field=\"price\")"
   ]
  },
  {
   "cell_type": "code",
   "execution_count": 31,
   "metadata": {},
   "outputs": [],
   "source": [
    "response = s.execute()"
   ]
  },
  {
   "cell_type": "code",
   "execution_count": 32,
   "metadata": {},
   "outputs": [
    {
     "data": {
      "text/plain": [
       "[{'_index': 'vehicles', '_type': '_doc', '_id': 'oGHMhnIBZukbdG7-7pbh', '_score': 1.1451323, '_source': {'price': 18000, 'color': 'red', 'make': 'dodge', 'sold': '2016-11-05', 'condition': 'good'}}, {'_index': 'vehicles', '_type': '_doc', '_id': 'oWHMhnIBZukbdG7-7pbh', '_score': 1.1451323, '_source': {'price': 80000, 'color': 'red', 'make': 'bmw', 'sold': '2016-01-01', 'condition': 'new'}}, {'_index': 'vehicles', '_type': '_doc', '_id': 'pGHMhnIBZukbdG7-7pbh', '_score': 1.1451323, '_source': {'price': 19000, 'color': 'red', 'make': 'dodge', 'sold': '2016-02-12', 'condition': 'good'}}, {'_index': 'vehicles', '_type': '_doc', '_id': 'pWHMhnIBZukbdG7-7pbh', '_score': 1.1451323, '_source': {'price': 20000, 'color': 'red', 'make': 'chevrolet', 'sold': '2016-08-15', 'condition': 'good'}}, {'_index': 'vehicles', '_type': '_doc', '_id': 'qGHMhnIBZukbdG7-7pbh', '_score': 1.1451323, '_source': {'price': 35000, 'color': 'red', 'make': 'dodge', 'sold': '2016-04-10', 'condition': 'new'}}, {'_index': 'vehicles', '_type': '_doc', '_id': 'x2HNhnIBZukbdG7-JZaj', '_score': 1.1451323, '_source': {'price': 18000, 'color': 'red', 'make': 'dodge', 'sold': '2016-11-05', 'condition': 'good'}}, {'_index': 'vehicles', '_type': '_doc', '_id': 'yGHNhnIBZukbdG7-JZaj', '_score': 1.1451323, '_source': {'price': 80000, 'color': 'red', 'make': 'bmw', 'sold': '2016-01-01', 'condition': 'new'}}, {'_index': 'vehicles', '_type': '_doc', '_id': 'y2HNhnIBZukbdG7-JZaj', '_score': 1.1451323, '_source': {'price': 19000, 'color': 'red', 'make': 'dodge', 'sold': '2016-02-12', 'condition': 'good'}}, {'_index': 'vehicles', '_type': '_doc', '_id': 'zGHNhnIBZukbdG7-JZaj', '_score': 1.1451323, '_source': {'price': 20000, 'color': 'red', 'make': 'chevrolet', 'sold': '2016-08-15', 'condition': 'good'}}, {'_index': 'vehicles', '_type': '_doc', '_id': 'z2HNhnIBZukbdG7-JZaj', '_score': 1.1451323, '_source': {'price': 35000, 'color': 'red', 'make': 'dodge', 'sold': '2016-04-10', 'condition': 'new'}}]"
      ]
     },
     "execution_count": 32,
     "metadata": {},
     "output_type": "execute_result"
    }
   ],
   "source": [
    "response.hits.hits"
   ]
  },
  {
   "cell_type": "code",
   "execution_count": 33,
   "metadata": {},
   "outputs": [
    {
     "name": "stdout",
     "output_type": "stream",
     "text": [
      "dodge {'count': 6, 'min': 18000.0, 'max': 35000.0, 'avg': 24000.0,...}\n",
      "bmw {'count': 2, 'min': 80000.0, 'max': 80000.0, 'avg': 80000.0,...}\n",
      "chevrolet {'count': 2, 'min': 20000.0, 'max': 20000.0, 'avg': 20000.0,...}\n"
     ]
    }
   ],
   "source": [
    "for each_make in response.aggregations.popular_cars.buckets:\n",
    "    print(each_make.key, each_make.stats_on_price)"
   ]
  },
  {
   "cell_type": "code",
   "execution_count": null,
   "metadata": {},
   "outputs": [],
   "source": []
  }
 ],
 "metadata": {
  "kernelspec": {
   "display_name": "Python 3",
   "language": "python",
   "name": "python3"
  },
  "language_info": {
   "codemirror_mode": {
    "name": "ipython",
    "version": 3
   },
   "file_extension": ".py",
   "mimetype": "text/x-python",
   "name": "python",
   "nbconvert_exporter": "python",
   "pygments_lexer": "ipython3",
   "version": "3.7.6"
  }
 },
 "nbformat": 4,
 "nbformat_minor": 4
}
