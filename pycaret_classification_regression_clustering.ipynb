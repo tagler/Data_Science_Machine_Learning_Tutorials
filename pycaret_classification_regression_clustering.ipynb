{
 "cells": [
  {
   "cell_type": "markdown",
   "metadata": {},
   "source": [
    "# pycaret machine learning"
   ]
  },
  {
   "cell_type": "markdown",
   "metadata": {},
   "source": [
    "# setup"
   ]
  },
  {
   "cell_type": "code",
   "execution_count": 1,
   "metadata": {},
   "outputs": [],
   "source": [
    "import numpy as np\n",
    "import pandas as pd\n",
    "import matplotlib \n",
    "import matplotlib.pyplot as plt\n",
    "import seaborn as sns"
   ]
  },
  {
   "cell_type": "code",
   "execution_count": 2,
   "metadata": {},
   "outputs": [],
   "source": [
    "# reference: https://www.pycaret.org/\n",
    "# reference: https://pycaret.org/guide/\n",
    "# reference: https://github.com/pycaret/"
   ]
  },
  {
   "cell_type": "code",
   "execution_count": 3,
   "metadata": {},
   "outputs": [],
   "source": [
    "# reference: https://pycaret.org/install/\n",
    "# pip install pycaret\n",
    "# pip install pycaret==2.0\n",
    "# pip install pycaret-nightly (if stable won't install)\n",
    "# conda install -c conda-forge shap"
   ]
  },
  {
   "cell_type": "code",
   "execution_count": 4,
   "metadata": {},
   "outputs": [],
   "source": [
    "import pycaret\n",
    "from pycaret import classification, regression, clustering, nlp, utils"
   ]
  },
  {
   "cell_type": "code",
   "execution_count": 5,
   "metadata": {},
   "outputs": [
    {
     "name": "stdout",
     "output_type": "stream",
     "text": [
      "2.0\n"
     ]
    }
   ],
   "source": [
    "utils.version()"
   ]
  },
  {
   "cell_type": "code",
   "execution_count": 6,
   "metadata": {},
   "outputs": [],
   "source": [
    "# workflow:\n",
    "# .setup() > process data\n",
    "# .compare_models() > find best model\n",
    "# .create_model() > create model\n",
    "# .tune_model() > tune model hyperparameters for 'accuracy' metric \n",
    "# .optimize_threshold() > precision vs. recall, when false positive != false negative (classification)\n",
    "# .calibrate_model() > calibrate model propabilities (classification)\n",
    "# .evaluate_model() > result plots\n",
    "# .interpret_model() > interpretation plot\n",
    "# .automl() > select best model generated based on metric\n",
    "# .predict_model() > predictions on test data\n",
    "# .finalize_model() > recreate model with all data\n",
    "# .deploy_model()"
   ]
  },
  {
   "cell_type": "code",
   "execution_count": 7,
   "metadata": {},
   "outputs": [],
   "source": [
    "# ensemble examples:\n",
    "# blender = blend_models(estimator_list = [dt,rf,adaboost], method = 'soft')\n",
    "# blender_top5_dynamic = blend_models(compare_models(n_select = 5))\n",
    "# stacker = stack_models(estimator_list = [dt,rf], meta_model = adaboost)\n",
    "# stacker_top5_dynamic = stack_models(estimator_list = comparemodels(n_select = 5)[1:], \n",
    "#    meta_model = compare_models(n_select = 5)[0])"
   ]
  },
  {
   "cell_type": "code",
   "execution_count": 8,
   "metadata": {},
   "outputs": [],
   "source": [
    "# other functions:\n",
    "# .save_model()\n",
    "# .load_model()\n",
    "# .get_config()\n",
    "# .get_logs() \n",
    "# .get_system_logs()\n",
    "# .set_seed()"
   ]
  },
  {
   "cell_type": "code",
   "execution_count": 9,
   "metadata": {},
   "outputs": [],
   "source": [
    "# integration with mlflow:\n",
    "# pip install mlflow\n",
    "# !mlflow ui"
   ]
  },
  {
   "cell_type": "markdown",
   "metadata": {},
   "source": [
    "# datasets"
   ]
  },
  {
   "cell_type": "code",
   "execution_count": 10,
   "metadata": {},
   "outputs": [],
   "source": [
    "df_titanic = sns.load_dataset('titanic')\n",
    "df_iris = sns.load_dataset('iris')\n",
    "df_diamonds = sns.load_dataset('diamonds')"
   ]
  },
  {
   "cell_type": "markdown",
   "metadata": {},
   "source": [
    "# classification (binary)"
   ]
  },
  {
   "cell_type": "code",
   "execution_count": 11,
   "metadata": {},
   "outputs": [
    {
     "name": "stdout",
     "output_type": "stream",
     "text": [
      "Setup Succesfully Completed!\n"
     ]
    },
    {
     "data": {
      "text/html": [
       "<style  type=\"text/css\" >\n",
       "    #T_bfb3f138_d5b4_11ea_8811_38f9d3db5c17row4_col1 {\n",
       "            background-color:  lightgreen;\n",
       "        }    #T_bfb3f138_d5b4_11ea_8811_38f9d3db5c17row7_col1 {\n",
       "            background-color:  lightgreen;\n",
       "        }    #T_bfb3f138_d5b4_11ea_8811_38f9d3db5c17row15_col1 {\n",
       "            background-color:  lightgreen;\n",
       "        }</style><table id=\"T_bfb3f138_d5b4_11ea_8811_38f9d3db5c17\" ><thead>    <tr>        <th class=\"blank level0\" ></th>        <th class=\"col_heading level0 col0\" >Description</th>        <th class=\"col_heading level0 col1\" >Value</th>    </tr></thead><tbody>\n",
       "                <tr>\n",
       "                        <th id=\"T_bfb3f138_d5b4_11ea_8811_38f9d3db5c17level0_row0\" class=\"row_heading level0 row0\" >0</th>\n",
       "                        <td id=\"T_bfb3f138_d5b4_11ea_8811_38f9d3db5c17row0_col0\" class=\"data row0 col0\" >session_id</td>\n",
       "                        <td id=\"T_bfb3f138_d5b4_11ea_8811_38f9d3db5c17row0_col1\" class=\"data row0 col1\" >5902</td>\n",
       "            </tr>\n",
       "            <tr>\n",
       "                        <th id=\"T_bfb3f138_d5b4_11ea_8811_38f9d3db5c17level0_row1\" class=\"row_heading level0 row1\" >1</th>\n",
       "                        <td id=\"T_bfb3f138_d5b4_11ea_8811_38f9d3db5c17row1_col0\" class=\"data row1 col0\" >Target Type</td>\n",
       "                        <td id=\"T_bfb3f138_d5b4_11ea_8811_38f9d3db5c17row1_col1\" class=\"data row1 col1\" >Binary</td>\n",
       "            </tr>\n",
       "            <tr>\n",
       "                        <th id=\"T_bfb3f138_d5b4_11ea_8811_38f9d3db5c17level0_row2\" class=\"row_heading level0 row2\" >2</th>\n",
       "                        <td id=\"T_bfb3f138_d5b4_11ea_8811_38f9d3db5c17row2_col0\" class=\"data row2 col0\" >Label Encoded</td>\n",
       "                        <td id=\"T_bfb3f138_d5b4_11ea_8811_38f9d3db5c17row2_col1\" class=\"data row2 col1\" >None</td>\n",
       "            </tr>\n",
       "            <tr>\n",
       "                        <th id=\"T_bfb3f138_d5b4_11ea_8811_38f9d3db5c17level0_row3\" class=\"row_heading level0 row3\" >3</th>\n",
       "                        <td id=\"T_bfb3f138_d5b4_11ea_8811_38f9d3db5c17row3_col0\" class=\"data row3 col0\" >Original Data</td>\n",
       "                        <td id=\"T_bfb3f138_d5b4_11ea_8811_38f9d3db5c17row3_col1\" class=\"data row3 col1\" >(891, 15)</td>\n",
       "            </tr>\n",
       "            <tr>\n",
       "                        <th id=\"T_bfb3f138_d5b4_11ea_8811_38f9d3db5c17level0_row4\" class=\"row_heading level0 row4\" >4</th>\n",
       "                        <td id=\"T_bfb3f138_d5b4_11ea_8811_38f9d3db5c17row4_col0\" class=\"data row4 col0\" >Missing Values </td>\n",
       "                        <td id=\"T_bfb3f138_d5b4_11ea_8811_38f9d3db5c17row4_col1\" class=\"data row4 col1\" >True</td>\n",
       "            </tr>\n",
       "            <tr>\n",
       "                        <th id=\"T_bfb3f138_d5b4_11ea_8811_38f9d3db5c17level0_row5\" class=\"row_heading level0 row5\" >5</th>\n",
       "                        <td id=\"T_bfb3f138_d5b4_11ea_8811_38f9d3db5c17row5_col0\" class=\"data row5 col0\" >Numeric Features </td>\n",
       "                        <td id=\"T_bfb3f138_d5b4_11ea_8811_38f9d3db5c17row5_col1\" class=\"data row5 col1\" >4</td>\n",
       "            </tr>\n",
       "            <tr>\n",
       "                        <th id=\"T_bfb3f138_d5b4_11ea_8811_38f9d3db5c17level0_row6\" class=\"row_heading level0 row6\" >6</th>\n",
       "                        <td id=\"T_bfb3f138_d5b4_11ea_8811_38f9d3db5c17row6_col0\" class=\"data row6 col0\" >Categorical Features </td>\n",
       "                        <td id=\"T_bfb3f138_d5b4_11ea_8811_38f9d3db5c17row6_col1\" class=\"data row6 col1\" >8</td>\n",
       "            </tr>\n",
       "            <tr>\n",
       "                        <th id=\"T_bfb3f138_d5b4_11ea_8811_38f9d3db5c17level0_row7\" class=\"row_heading level0 row7\" >7</th>\n",
       "                        <td id=\"T_bfb3f138_d5b4_11ea_8811_38f9d3db5c17row7_col0\" class=\"data row7 col0\" >Ordinal Features </td>\n",
       "                        <td id=\"T_bfb3f138_d5b4_11ea_8811_38f9d3db5c17row7_col1\" class=\"data row7 col1\" >True</td>\n",
       "            </tr>\n",
       "            <tr>\n",
       "                        <th id=\"T_bfb3f138_d5b4_11ea_8811_38f9d3db5c17level0_row8\" class=\"row_heading level0 row8\" >8</th>\n",
       "                        <td id=\"T_bfb3f138_d5b4_11ea_8811_38f9d3db5c17row8_col0\" class=\"data row8 col0\" >High Cardinality Features </td>\n",
       "                        <td id=\"T_bfb3f138_d5b4_11ea_8811_38f9d3db5c17row8_col1\" class=\"data row8 col1\" >False</td>\n",
       "            </tr>\n",
       "            <tr>\n",
       "                        <th id=\"T_bfb3f138_d5b4_11ea_8811_38f9d3db5c17level0_row9\" class=\"row_heading level0 row9\" >9</th>\n",
       "                        <td id=\"T_bfb3f138_d5b4_11ea_8811_38f9d3db5c17row9_col0\" class=\"data row9 col0\" >High Cardinality Method </td>\n",
       "                        <td id=\"T_bfb3f138_d5b4_11ea_8811_38f9d3db5c17row9_col1\" class=\"data row9 col1\" >None</td>\n",
       "            </tr>\n",
       "            <tr>\n",
       "                        <th id=\"T_bfb3f138_d5b4_11ea_8811_38f9d3db5c17level0_row10\" class=\"row_heading level0 row10\" >10</th>\n",
       "                        <td id=\"T_bfb3f138_d5b4_11ea_8811_38f9d3db5c17row10_col0\" class=\"data row10 col0\" >Sampled Data</td>\n",
       "                        <td id=\"T_bfb3f138_d5b4_11ea_8811_38f9d3db5c17row10_col1\" class=\"data row10 col1\" >(891, 15)</td>\n",
       "            </tr>\n",
       "            <tr>\n",
       "                        <th id=\"T_bfb3f138_d5b4_11ea_8811_38f9d3db5c17level0_row11\" class=\"row_heading level0 row11\" >11</th>\n",
       "                        <td id=\"T_bfb3f138_d5b4_11ea_8811_38f9d3db5c17row11_col0\" class=\"data row11 col0\" >Transformed Train Set</td>\n",
       "                        <td id=\"T_bfb3f138_d5b4_11ea_8811_38f9d3db5c17row11_col1\" class=\"data row11 col1\" >(623, 18)</td>\n",
       "            </tr>\n",
       "            <tr>\n",
       "                        <th id=\"T_bfb3f138_d5b4_11ea_8811_38f9d3db5c17level0_row12\" class=\"row_heading level0 row12\" >12</th>\n",
       "                        <td id=\"T_bfb3f138_d5b4_11ea_8811_38f9d3db5c17row12_col0\" class=\"data row12 col0\" >Transformed Test Set</td>\n",
       "                        <td id=\"T_bfb3f138_d5b4_11ea_8811_38f9d3db5c17row12_col1\" class=\"data row12 col1\" >(268, 18)</td>\n",
       "            </tr>\n",
       "            <tr>\n",
       "                        <th id=\"T_bfb3f138_d5b4_11ea_8811_38f9d3db5c17level0_row13\" class=\"row_heading level0 row13\" >13</th>\n",
       "                        <td id=\"T_bfb3f138_d5b4_11ea_8811_38f9d3db5c17row13_col0\" class=\"data row13 col0\" >Numeric Imputer </td>\n",
       "                        <td id=\"T_bfb3f138_d5b4_11ea_8811_38f9d3db5c17row13_col1\" class=\"data row13 col1\" >mean</td>\n",
       "            </tr>\n",
       "            <tr>\n",
       "                        <th id=\"T_bfb3f138_d5b4_11ea_8811_38f9d3db5c17level0_row14\" class=\"row_heading level0 row14\" >14</th>\n",
       "                        <td id=\"T_bfb3f138_d5b4_11ea_8811_38f9d3db5c17row14_col0\" class=\"data row14 col0\" >Categorical Imputer </td>\n",
       "                        <td id=\"T_bfb3f138_d5b4_11ea_8811_38f9d3db5c17row14_col1\" class=\"data row14 col1\" >constant</td>\n",
       "            </tr>\n",
       "            <tr>\n",
       "                        <th id=\"T_bfb3f138_d5b4_11ea_8811_38f9d3db5c17level0_row15\" class=\"row_heading level0 row15\" >15</th>\n",
       "                        <td id=\"T_bfb3f138_d5b4_11ea_8811_38f9d3db5c17row15_col0\" class=\"data row15 col0\" >Normalize </td>\n",
       "                        <td id=\"T_bfb3f138_d5b4_11ea_8811_38f9d3db5c17row15_col1\" class=\"data row15 col1\" >True</td>\n",
       "            </tr>\n",
       "            <tr>\n",
       "                        <th id=\"T_bfb3f138_d5b4_11ea_8811_38f9d3db5c17level0_row16\" class=\"row_heading level0 row16\" >16</th>\n",
       "                        <td id=\"T_bfb3f138_d5b4_11ea_8811_38f9d3db5c17row16_col0\" class=\"data row16 col0\" >Normalize Method </td>\n",
       "                        <td id=\"T_bfb3f138_d5b4_11ea_8811_38f9d3db5c17row16_col1\" class=\"data row16 col1\" >zscore</td>\n",
       "            </tr>\n",
       "            <tr>\n",
       "                        <th id=\"T_bfb3f138_d5b4_11ea_8811_38f9d3db5c17level0_row17\" class=\"row_heading level0 row17\" >17</th>\n",
       "                        <td id=\"T_bfb3f138_d5b4_11ea_8811_38f9d3db5c17row17_col0\" class=\"data row17 col0\" >Transformation </td>\n",
       "                        <td id=\"T_bfb3f138_d5b4_11ea_8811_38f9d3db5c17row17_col1\" class=\"data row17 col1\" >False</td>\n",
       "            </tr>\n",
       "            <tr>\n",
       "                        <th id=\"T_bfb3f138_d5b4_11ea_8811_38f9d3db5c17level0_row18\" class=\"row_heading level0 row18\" >18</th>\n",
       "                        <td id=\"T_bfb3f138_d5b4_11ea_8811_38f9d3db5c17row18_col0\" class=\"data row18 col0\" >Transformation Method </td>\n",
       "                        <td id=\"T_bfb3f138_d5b4_11ea_8811_38f9d3db5c17row18_col1\" class=\"data row18 col1\" >None</td>\n",
       "            </tr>\n",
       "            <tr>\n",
       "                        <th id=\"T_bfb3f138_d5b4_11ea_8811_38f9d3db5c17level0_row19\" class=\"row_heading level0 row19\" >19</th>\n",
       "                        <td id=\"T_bfb3f138_d5b4_11ea_8811_38f9d3db5c17row19_col0\" class=\"data row19 col0\" >PCA </td>\n",
       "                        <td id=\"T_bfb3f138_d5b4_11ea_8811_38f9d3db5c17row19_col1\" class=\"data row19 col1\" >False</td>\n",
       "            </tr>\n",
       "            <tr>\n",
       "                        <th id=\"T_bfb3f138_d5b4_11ea_8811_38f9d3db5c17level0_row20\" class=\"row_heading level0 row20\" >20</th>\n",
       "                        <td id=\"T_bfb3f138_d5b4_11ea_8811_38f9d3db5c17row20_col0\" class=\"data row20 col0\" >PCA Method </td>\n",
       "                        <td id=\"T_bfb3f138_d5b4_11ea_8811_38f9d3db5c17row20_col1\" class=\"data row20 col1\" >None</td>\n",
       "            </tr>\n",
       "            <tr>\n",
       "                        <th id=\"T_bfb3f138_d5b4_11ea_8811_38f9d3db5c17level0_row21\" class=\"row_heading level0 row21\" >21</th>\n",
       "                        <td id=\"T_bfb3f138_d5b4_11ea_8811_38f9d3db5c17row21_col0\" class=\"data row21 col0\" >PCA Components </td>\n",
       "                        <td id=\"T_bfb3f138_d5b4_11ea_8811_38f9d3db5c17row21_col1\" class=\"data row21 col1\" >None</td>\n",
       "            </tr>\n",
       "            <tr>\n",
       "                        <th id=\"T_bfb3f138_d5b4_11ea_8811_38f9d3db5c17level0_row22\" class=\"row_heading level0 row22\" >22</th>\n",
       "                        <td id=\"T_bfb3f138_d5b4_11ea_8811_38f9d3db5c17row22_col0\" class=\"data row22 col0\" >Ignore Low Variance </td>\n",
       "                        <td id=\"T_bfb3f138_d5b4_11ea_8811_38f9d3db5c17row22_col1\" class=\"data row22 col1\" >False</td>\n",
       "            </tr>\n",
       "            <tr>\n",
       "                        <th id=\"T_bfb3f138_d5b4_11ea_8811_38f9d3db5c17level0_row23\" class=\"row_heading level0 row23\" >23</th>\n",
       "                        <td id=\"T_bfb3f138_d5b4_11ea_8811_38f9d3db5c17row23_col0\" class=\"data row23 col0\" >Combine Rare Levels </td>\n",
       "                        <td id=\"T_bfb3f138_d5b4_11ea_8811_38f9d3db5c17row23_col1\" class=\"data row23 col1\" >False</td>\n",
       "            </tr>\n",
       "            <tr>\n",
       "                        <th id=\"T_bfb3f138_d5b4_11ea_8811_38f9d3db5c17level0_row24\" class=\"row_heading level0 row24\" >24</th>\n",
       "                        <td id=\"T_bfb3f138_d5b4_11ea_8811_38f9d3db5c17row24_col0\" class=\"data row24 col0\" >Rare Level Threshold </td>\n",
       "                        <td id=\"T_bfb3f138_d5b4_11ea_8811_38f9d3db5c17row24_col1\" class=\"data row24 col1\" >None</td>\n",
       "            </tr>\n",
       "            <tr>\n",
       "                        <th id=\"T_bfb3f138_d5b4_11ea_8811_38f9d3db5c17level0_row25\" class=\"row_heading level0 row25\" >25</th>\n",
       "                        <td id=\"T_bfb3f138_d5b4_11ea_8811_38f9d3db5c17row25_col0\" class=\"data row25 col0\" >Numeric Binning </td>\n",
       "                        <td id=\"T_bfb3f138_d5b4_11ea_8811_38f9d3db5c17row25_col1\" class=\"data row25 col1\" >False</td>\n",
       "            </tr>\n",
       "            <tr>\n",
       "                        <th id=\"T_bfb3f138_d5b4_11ea_8811_38f9d3db5c17level0_row26\" class=\"row_heading level0 row26\" >26</th>\n",
       "                        <td id=\"T_bfb3f138_d5b4_11ea_8811_38f9d3db5c17row26_col0\" class=\"data row26 col0\" >Remove Outliers </td>\n",
       "                        <td id=\"T_bfb3f138_d5b4_11ea_8811_38f9d3db5c17row26_col1\" class=\"data row26 col1\" >False</td>\n",
       "            </tr>\n",
       "            <tr>\n",
       "                        <th id=\"T_bfb3f138_d5b4_11ea_8811_38f9d3db5c17level0_row27\" class=\"row_heading level0 row27\" >27</th>\n",
       "                        <td id=\"T_bfb3f138_d5b4_11ea_8811_38f9d3db5c17row27_col0\" class=\"data row27 col0\" >Outliers Threshold </td>\n",
       "                        <td id=\"T_bfb3f138_d5b4_11ea_8811_38f9d3db5c17row27_col1\" class=\"data row27 col1\" >None</td>\n",
       "            </tr>\n",
       "            <tr>\n",
       "                        <th id=\"T_bfb3f138_d5b4_11ea_8811_38f9d3db5c17level0_row28\" class=\"row_heading level0 row28\" >28</th>\n",
       "                        <td id=\"T_bfb3f138_d5b4_11ea_8811_38f9d3db5c17row28_col0\" class=\"data row28 col0\" >Remove Multicollinearity </td>\n",
       "                        <td id=\"T_bfb3f138_d5b4_11ea_8811_38f9d3db5c17row28_col1\" class=\"data row28 col1\" >False</td>\n",
       "            </tr>\n",
       "            <tr>\n",
       "                        <th id=\"T_bfb3f138_d5b4_11ea_8811_38f9d3db5c17level0_row29\" class=\"row_heading level0 row29\" >29</th>\n",
       "                        <td id=\"T_bfb3f138_d5b4_11ea_8811_38f9d3db5c17row29_col0\" class=\"data row29 col0\" >Multicollinearity Threshold </td>\n",
       "                        <td id=\"T_bfb3f138_d5b4_11ea_8811_38f9d3db5c17row29_col1\" class=\"data row29 col1\" >None</td>\n",
       "            </tr>\n",
       "            <tr>\n",
       "                        <th id=\"T_bfb3f138_d5b4_11ea_8811_38f9d3db5c17level0_row30\" class=\"row_heading level0 row30\" >30</th>\n",
       "                        <td id=\"T_bfb3f138_d5b4_11ea_8811_38f9d3db5c17row30_col0\" class=\"data row30 col0\" >Clustering </td>\n",
       "                        <td id=\"T_bfb3f138_d5b4_11ea_8811_38f9d3db5c17row30_col1\" class=\"data row30 col1\" >False</td>\n",
       "            </tr>\n",
       "            <tr>\n",
       "                        <th id=\"T_bfb3f138_d5b4_11ea_8811_38f9d3db5c17level0_row31\" class=\"row_heading level0 row31\" >31</th>\n",
       "                        <td id=\"T_bfb3f138_d5b4_11ea_8811_38f9d3db5c17row31_col0\" class=\"data row31 col0\" >Clustering Iteration </td>\n",
       "                        <td id=\"T_bfb3f138_d5b4_11ea_8811_38f9d3db5c17row31_col1\" class=\"data row31 col1\" >None</td>\n",
       "            </tr>\n",
       "            <tr>\n",
       "                        <th id=\"T_bfb3f138_d5b4_11ea_8811_38f9d3db5c17level0_row32\" class=\"row_heading level0 row32\" >32</th>\n",
       "                        <td id=\"T_bfb3f138_d5b4_11ea_8811_38f9d3db5c17row32_col0\" class=\"data row32 col0\" >Polynomial Features </td>\n",
       "                        <td id=\"T_bfb3f138_d5b4_11ea_8811_38f9d3db5c17row32_col1\" class=\"data row32 col1\" >False</td>\n",
       "            </tr>\n",
       "            <tr>\n",
       "                        <th id=\"T_bfb3f138_d5b4_11ea_8811_38f9d3db5c17level0_row33\" class=\"row_heading level0 row33\" >33</th>\n",
       "                        <td id=\"T_bfb3f138_d5b4_11ea_8811_38f9d3db5c17row33_col0\" class=\"data row33 col0\" >Polynomial Degree </td>\n",
       "                        <td id=\"T_bfb3f138_d5b4_11ea_8811_38f9d3db5c17row33_col1\" class=\"data row33 col1\" >None</td>\n",
       "            </tr>\n",
       "            <tr>\n",
       "                        <th id=\"T_bfb3f138_d5b4_11ea_8811_38f9d3db5c17level0_row34\" class=\"row_heading level0 row34\" >34</th>\n",
       "                        <td id=\"T_bfb3f138_d5b4_11ea_8811_38f9d3db5c17row34_col0\" class=\"data row34 col0\" >Trignometry Features </td>\n",
       "                        <td id=\"T_bfb3f138_d5b4_11ea_8811_38f9d3db5c17row34_col1\" class=\"data row34 col1\" >False</td>\n",
       "            </tr>\n",
       "            <tr>\n",
       "                        <th id=\"T_bfb3f138_d5b4_11ea_8811_38f9d3db5c17level0_row35\" class=\"row_heading level0 row35\" >35</th>\n",
       "                        <td id=\"T_bfb3f138_d5b4_11ea_8811_38f9d3db5c17row35_col0\" class=\"data row35 col0\" >Polynomial Threshold </td>\n",
       "                        <td id=\"T_bfb3f138_d5b4_11ea_8811_38f9d3db5c17row35_col1\" class=\"data row35 col1\" >None</td>\n",
       "            </tr>\n",
       "            <tr>\n",
       "                        <th id=\"T_bfb3f138_d5b4_11ea_8811_38f9d3db5c17level0_row36\" class=\"row_heading level0 row36\" >36</th>\n",
       "                        <td id=\"T_bfb3f138_d5b4_11ea_8811_38f9d3db5c17row36_col0\" class=\"data row36 col0\" >Group Features </td>\n",
       "                        <td id=\"T_bfb3f138_d5b4_11ea_8811_38f9d3db5c17row36_col1\" class=\"data row36 col1\" >False</td>\n",
       "            </tr>\n",
       "            <tr>\n",
       "                        <th id=\"T_bfb3f138_d5b4_11ea_8811_38f9d3db5c17level0_row37\" class=\"row_heading level0 row37\" >37</th>\n",
       "                        <td id=\"T_bfb3f138_d5b4_11ea_8811_38f9d3db5c17row37_col0\" class=\"data row37 col0\" >Feature Selection </td>\n",
       "                        <td id=\"T_bfb3f138_d5b4_11ea_8811_38f9d3db5c17row37_col1\" class=\"data row37 col1\" >False</td>\n",
       "            </tr>\n",
       "            <tr>\n",
       "                        <th id=\"T_bfb3f138_d5b4_11ea_8811_38f9d3db5c17level0_row38\" class=\"row_heading level0 row38\" >38</th>\n",
       "                        <td id=\"T_bfb3f138_d5b4_11ea_8811_38f9d3db5c17row38_col0\" class=\"data row38 col0\" >Features Selection Threshold </td>\n",
       "                        <td id=\"T_bfb3f138_d5b4_11ea_8811_38f9d3db5c17row38_col1\" class=\"data row38 col1\" >None</td>\n",
       "            </tr>\n",
       "            <tr>\n",
       "                        <th id=\"T_bfb3f138_d5b4_11ea_8811_38f9d3db5c17level0_row39\" class=\"row_heading level0 row39\" >39</th>\n",
       "                        <td id=\"T_bfb3f138_d5b4_11ea_8811_38f9d3db5c17row39_col0\" class=\"data row39 col0\" >Feature Interaction </td>\n",
       "                        <td id=\"T_bfb3f138_d5b4_11ea_8811_38f9d3db5c17row39_col1\" class=\"data row39 col1\" >False</td>\n",
       "            </tr>\n",
       "            <tr>\n",
       "                        <th id=\"T_bfb3f138_d5b4_11ea_8811_38f9d3db5c17level0_row40\" class=\"row_heading level0 row40\" >40</th>\n",
       "                        <td id=\"T_bfb3f138_d5b4_11ea_8811_38f9d3db5c17row40_col0\" class=\"data row40 col0\" >Feature Ratio </td>\n",
       "                        <td id=\"T_bfb3f138_d5b4_11ea_8811_38f9d3db5c17row40_col1\" class=\"data row40 col1\" >False</td>\n",
       "            </tr>\n",
       "            <tr>\n",
       "                        <th id=\"T_bfb3f138_d5b4_11ea_8811_38f9d3db5c17level0_row41\" class=\"row_heading level0 row41\" >41</th>\n",
       "                        <td id=\"T_bfb3f138_d5b4_11ea_8811_38f9d3db5c17row41_col0\" class=\"data row41 col0\" >Interaction Threshold </td>\n",
       "                        <td id=\"T_bfb3f138_d5b4_11ea_8811_38f9d3db5c17row41_col1\" class=\"data row41 col1\" >None</td>\n",
       "            </tr>\n",
       "            <tr>\n",
       "                        <th id=\"T_bfb3f138_d5b4_11ea_8811_38f9d3db5c17level0_row42\" class=\"row_heading level0 row42\" >42</th>\n",
       "                        <td id=\"T_bfb3f138_d5b4_11ea_8811_38f9d3db5c17row42_col0\" class=\"data row42 col0\" >Fix Imbalance</td>\n",
       "                        <td id=\"T_bfb3f138_d5b4_11ea_8811_38f9d3db5c17row42_col1\" class=\"data row42 col1\" >False</td>\n",
       "            </tr>\n",
       "            <tr>\n",
       "                        <th id=\"T_bfb3f138_d5b4_11ea_8811_38f9d3db5c17level0_row43\" class=\"row_heading level0 row43\" >43</th>\n",
       "                        <td id=\"T_bfb3f138_d5b4_11ea_8811_38f9d3db5c17row43_col0\" class=\"data row43 col0\" >Fix Imbalance Method</td>\n",
       "                        <td id=\"T_bfb3f138_d5b4_11ea_8811_38f9d3db5c17row43_col1\" class=\"data row43 col1\" >SMOTE</td>\n",
       "            </tr>\n",
       "    </tbody></table>"
      ],
      "text/plain": [
       "<pandas.io.formats.style.Styler at 0x128d73fa0>"
      ]
     },
     "metadata": {},
     "output_type": "display_data"
    }
   ],
   "source": [
    "# process dataset\n",
    "classification_experiment_1 = classification.setup(\n",
    "    data=df_titanic,\n",
    "    target='survived',\n",
    "    train_size=0.7,\n",
    "    normalize=True,\n",
    "    numeric_features=['age','sibsp','parch','fare'],\n",
    "    categorical_features=['sex','who','adult_male','alone','embarked'], \n",
    "    ordinal_features={'pclass' : ['3','2','1']},\n",
    "    ignore_features=['embark_town','alive','class','deck'],\n",
    "    log_experiment = True, \n",
    "    experiment_name = 'classification_experiment_1'\n",
    ")"
   ]
  },
  {
   "cell_type": "code",
   "execution_count": 12,
   "metadata": {},
   "outputs": [
    {
     "data": {
      "text/html": [
       "<style  type=\"text/css\" >\n",
       "    #T_dfefe088_d5b4_11ea_8811_38f9d3db5c17 th {\n",
       "          text-align: left;\n",
       "    }    #T_dfefe088_d5b4_11ea_8811_38f9d3db5c17row0_col0 {\n",
       "            text-align:  left;\n",
       "        }    #T_dfefe088_d5b4_11ea_8811_38f9d3db5c17row0_col1 {\n",
       "            background-color:  yellow;\n",
       "            text-align:  left;\n",
       "        }    #T_dfefe088_d5b4_11ea_8811_38f9d3db5c17row0_col2 {\n",
       "            : ;\n",
       "            text-align:  left;\n",
       "        }    #T_dfefe088_d5b4_11ea_8811_38f9d3db5c17row0_col3 {\n",
       "            : ;\n",
       "            text-align:  left;\n",
       "        }    #T_dfefe088_d5b4_11ea_8811_38f9d3db5c17row0_col4 {\n",
       "            background-color:  yellow;\n",
       "            text-align:  left;\n",
       "        }    #T_dfefe088_d5b4_11ea_8811_38f9d3db5c17row0_col5 {\n",
       "            background-color:  yellow;\n",
       "            text-align:  left;\n",
       "        }    #T_dfefe088_d5b4_11ea_8811_38f9d3db5c17row0_col6 {\n",
       "            background-color:  yellow;\n",
       "            text-align:  left;\n",
       "        }    #T_dfefe088_d5b4_11ea_8811_38f9d3db5c17row0_col7 {\n",
       "            background-color:  yellow;\n",
       "            text-align:  left;\n",
       "        }    #T_dfefe088_d5b4_11ea_8811_38f9d3db5c17row0_col8 {\n",
       "            background-color:  lightgrey;\n",
       "            text-align:  left;\n",
       "        }    #T_dfefe088_d5b4_11ea_8811_38f9d3db5c17row1_col0 {\n",
       "            text-align:  left;\n",
       "        }    #T_dfefe088_d5b4_11ea_8811_38f9d3db5c17row1_col1 {\n",
       "            : ;\n",
       "            text-align:  left;\n",
       "        }    #T_dfefe088_d5b4_11ea_8811_38f9d3db5c17row1_col2 {\n",
       "            : ;\n",
       "            text-align:  left;\n",
       "        }    #T_dfefe088_d5b4_11ea_8811_38f9d3db5c17row1_col3 {\n",
       "            : ;\n",
       "            text-align:  left;\n",
       "        }    #T_dfefe088_d5b4_11ea_8811_38f9d3db5c17row1_col4 {\n",
       "            : ;\n",
       "            text-align:  left;\n",
       "        }    #T_dfefe088_d5b4_11ea_8811_38f9d3db5c17row1_col5 {\n",
       "            : ;\n",
       "            text-align:  left;\n",
       "        }    #T_dfefe088_d5b4_11ea_8811_38f9d3db5c17row1_col6 {\n",
       "            : ;\n",
       "            text-align:  left;\n",
       "        }    #T_dfefe088_d5b4_11ea_8811_38f9d3db5c17row1_col7 {\n",
       "            : ;\n",
       "            text-align:  left;\n",
       "        }    #T_dfefe088_d5b4_11ea_8811_38f9d3db5c17row1_col8 {\n",
       "            background-color:  lightgrey;\n",
       "            text-align:  left;\n",
       "        }    #T_dfefe088_d5b4_11ea_8811_38f9d3db5c17row2_col0 {\n",
       "            text-align:  left;\n",
       "        }    #T_dfefe088_d5b4_11ea_8811_38f9d3db5c17row2_col1 {\n",
       "            : ;\n",
       "            text-align:  left;\n",
       "        }    #T_dfefe088_d5b4_11ea_8811_38f9d3db5c17row2_col2 {\n",
       "            : ;\n",
       "            text-align:  left;\n",
       "        }    #T_dfefe088_d5b4_11ea_8811_38f9d3db5c17row2_col3 {\n",
       "            : ;\n",
       "            text-align:  left;\n",
       "        }    #T_dfefe088_d5b4_11ea_8811_38f9d3db5c17row2_col4 {\n",
       "            : ;\n",
       "            text-align:  left;\n",
       "        }    #T_dfefe088_d5b4_11ea_8811_38f9d3db5c17row2_col5 {\n",
       "            : ;\n",
       "            text-align:  left;\n",
       "        }    #T_dfefe088_d5b4_11ea_8811_38f9d3db5c17row2_col6 {\n",
       "            : ;\n",
       "            text-align:  left;\n",
       "        }    #T_dfefe088_d5b4_11ea_8811_38f9d3db5c17row2_col7 {\n",
       "            : ;\n",
       "            text-align:  left;\n",
       "        }    #T_dfefe088_d5b4_11ea_8811_38f9d3db5c17row2_col8 {\n",
       "            background-color:  lightgrey;\n",
       "            text-align:  left;\n",
       "        }    #T_dfefe088_d5b4_11ea_8811_38f9d3db5c17row3_col0 {\n",
       "            text-align:  left;\n",
       "        }    #T_dfefe088_d5b4_11ea_8811_38f9d3db5c17row3_col1 {\n",
       "            : ;\n",
       "            text-align:  left;\n",
       "        }    #T_dfefe088_d5b4_11ea_8811_38f9d3db5c17row3_col2 {\n",
       "            : ;\n",
       "            text-align:  left;\n",
       "        }    #T_dfefe088_d5b4_11ea_8811_38f9d3db5c17row3_col3 {\n",
       "            : ;\n",
       "            text-align:  left;\n",
       "        }    #T_dfefe088_d5b4_11ea_8811_38f9d3db5c17row3_col4 {\n",
       "            : ;\n",
       "            text-align:  left;\n",
       "        }    #T_dfefe088_d5b4_11ea_8811_38f9d3db5c17row3_col5 {\n",
       "            : ;\n",
       "            text-align:  left;\n",
       "        }    #T_dfefe088_d5b4_11ea_8811_38f9d3db5c17row3_col6 {\n",
       "            : ;\n",
       "            text-align:  left;\n",
       "        }    #T_dfefe088_d5b4_11ea_8811_38f9d3db5c17row3_col7 {\n",
       "            : ;\n",
       "            text-align:  left;\n",
       "        }    #T_dfefe088_d5b4_11ea_8811_38f9d3db5c17row3_col8 {\n",
       "            background-color:  lightgrey;\n",
       "            text-align:  left;\n",
       "        }    #T_dfefe088_d5b4_11ea_8811_38f9d3db5c17row4_col0 {\n",
       "            text-align:  left;\n",
       "        }    #T_dfefe088_d5b4_11ea_8811_38f9d3db5c17row4_col1 {\n",
       "            : ;\n",
       "            text-align:  left;\n",
       "        }    #T_dfefe088_d5b4_11ea_8811_38f9d3db5c17row4_col2 {\n",
       "            background-color:  yellow;\n",
       "            text-align:  left;\n",
       "        }    #T_dfefe088_d5b4_11ea_8811_38f9d3db5c17row4_col3 {\n",
       "            : ;\n",
       "            text-align:  left;\n",
       "        }    #T_dfefe088_d5b4_11ea_8811_38f9d3db5c17row4_col4 {\n",
       "            : ;\n",
       "            text-align:  left;\n",
       "        }    #T_dfefe088_d5b4_11ea_8811_38f9d3db5c17row4_col5 {\n",
       "            : ;\n",
       "            text-align:  left;\n",
       "        }    #T_dfefe088_d5b4_11ea_8811_38f9d3db5c17row4_col6 {\n",
       "            : ;\n",
       "            text-align:  left;\n",
       "        }    #T_dfefe088_d5b4_11ea_8811_38f9d3db5c17row4_col7 {\n",
       "            : ;\n",
       "            text-align:  left;\n",
       "        }    #T_dfefe088_d5b4_11ea_8811_38f9d3db5c17row4_col8 {\n",
       "            background-color:  lightgrey;\n",
       "            text-align:  left;\n",
       "        }    #T_dfefe088_d5b4_11ea_8811_38f9d3db5c17row5_col0 {\n",
       "            text-align:  left;\n",
       "        }    #T_dfefe088_d5b4_11ea_8811_38f9d3db5c17row5_col1 {\n",
       "            : ;\n",
       "            text-align:  left;\n",
       "        }    #T_dfefe088_d5b4_11ea_8811_38f9d3db5c17row5_col2 {\n",
       "            : ;\n",
       "            text-align:  left;\n",
       "        }    #T_dfefe088_d5b4_11ea_8811_38f9d3db5c17row5_col3 {\n",
       "            : ;\n",
       "            text-align:  left;\n",
       "        }    #T_dfefe088_d5b4_11ea_8811_38f9d3db5c17row5_col4 {\n",
       "            : ;\n",
       "            text-align:  left;\n",
       "        }    #T_dfefe088_d5b4_11ea_8811_38f9d3db5c17row5_col5 {\n",
       "            : ;\n",
       "            text-align:  left;\n",
       "        }    #T_dfefe088_d5b4_11ea_8811_38f9d3db5c17row5_col6 {\n",
       "            : ;\n",
       "            text-align:  left;\n",
       "        }    #T_dfefe088_d5b4_11ea_8811_38f9d3db5c17row5_col7 {\n",
       "            : ;\n",
       "            text-align:  left;\n",
       "        }    #T_dfefe088_d5b4_11ea_8811_38f9d3db5c17row5_col8 {\n",
       "            background-color:  lightgrey;\n",
       "            text-align:  left;\n",
       "        }    #T_dfefe088_d5b4_11ea_8811_38f9d3db5c17row6_col0 {\n",
       "            text-align:  left;\n",
       "        }    #T_dfefe088_d5b4_11ea_8811_38f9d3db5c17row6_col1 {\n",
       "            : ;\n",
       "            text-align:  left;\n",
       "        }    #T_dfefe088_d5b4_11ea_8811_38f9d3db5c17row6_col2 {\n",
       "            : ;\n",
       "            text-align:  left;\n",
       "        }    #T_dfefe088_d5b4_11ea_8811_38f9d3db5c17row6_col3 {\n",
       "            : ;\n",
       "            text-align:  left;\n",
       "        }    #T_dfefe088_d5b4_11ea_8811_38f9d3db5c17row6_col4 {\n",
       "            : ;\n",
       "            text-align:  left;\n",
       "        }    #T_dfefe088_d5b4_11ea_8811_38f9d3db5c17row6_col5 {\n",
       "            : ;\n",
       "            text-align:  left;\n",
       "        }    #T_dfefe088_d5b4_11ea_8811_38f9d3db5c17row6_col6 {\n",
       "            : ;\n",
       "            text-align:  left;\n",
       "        }    #T_dfefe088_d5b4_11ea_8811_38f9d3db5c17row6_col7 {\n",
       "            : ;\n",
       "            text-align:  left;\n",
       "        }    #T_dfefe088_d5b4_11ea_8811_38f9d3db5c17row6_col8 {\n",
       "            background-color:  lightgrey;\n",
       "            text-align:  left;\n",
       "        }    #T_dfefe088_d5b4_11ea_8811_38f9d3db5c17row7_col0 {\n",
       "            text-align:  left;\n",
       "        }    #T_dfefe088_d5b4_11ea_8811_38f9d3db5c17row7_col1 {\n",
       "            : ;\n",
       "            text-align:  left;\n",
       "        }    #T_dfefe088_d5b4_11ea_8811_38f9d3db5c17row7_col2 {\n",
       "            : ;\n",
       "            text-align:  left;\n",
       "        }    #T_dfefe088_d5b4_11ea_8811_38f9d3db5c17row7_col3 {\n",
       "            : ;\n",
       "            text-align:  left;\n",
       "        }    #T_dfefe088_d5b4_11ea_8811_38f9d3db5c17row7_col4 {\n",
       "            : ;\n",
       "            text-align:  left;\n",
       "        }    #T_dfefe088_d5b4_11ea_8811_38f9d3db5c17row7_col5 {\n",
       "            : ;\n",
       "            text-align:  left;\n",
       "        }    #T_dfefe088_d5b4_11ea_8811_38f9d3db5c17row7_col6 {\n",
       "            : ;\n",
       "            text-align:  left;\n",
       "        }    #T_dfefe088_d5b4_11ea_8811_38f9d3db5c17row7_col7 {\n",
       "            : ;\n",
       "            text-align:  left;\n",
       "        }    #T_dfefe088_d5b4_11ea_8811_38f9d3db5c17row7_col8 {\n",
       "            background-color:  lightgrey;\n",
       "            text-align:  left;\n",
       "        }    #T_dfefe088_d5b4_11ea_8811_38f9d3db5c17row8_col0 {\n",
       "            text-align:  left;\n",
       "        }    #T_dfefe088_d5b4_11ea_8811_38f9d3db5c17row8_col1 {\n",
       "            : ;\n",
       "            text-align:  left;\n",
       "        }    #T_dfefe088_d5b4_11ea_8811_38f9d3db5c17row8_col2 {\n",
       "            : ;\n",
       "            text-align:  left;\n",
       "        }    #T_dfefe088_d5b4_11ea_8811_38f9d3db5c17row8_col3 {\n",
       "            : ;\n",
       "            text-align:  left;\n",
       "        }    #T_dfefe088_d5b4_11ea_8811_38f9d3db5c17row8_col4 {\n",
       "            : ;\n",
       "            text-align:  left;\n",
       "        }    #T_dfefe088_d5b4_11ea_8811_38f9d3db5c17row8_col5 {\n",
       "            : ;\n",
       "            text-align:  left;\n",
       "        }    #T_dfefe088_d5b4_11ea_8811_38f9d3db5c17row8_col6 {\n",
       "            : ;\n",
       "            text-align:  left;\n",
       "        }    #T_dfefe088_d5b4_11ea_8811_38f9d3db5c17row8_col7 {\n",
       "            : ;\n",
       "            text-align:  left;\n",
       "        }    #T_dfefe088_d5b4_11ea_8811_38f9d3db5c17row8_col8 {\n",
       "            background-color:  lightgrey;\n",
       "            text-align:  left;\n",
       "        }    #T_dfefe088_d5b4_11ea_8811_38f9d3db5c17row9_col0 {\n",
       "            text-align:  left;\n",
       "        }    #T_dfefe088_d5b4_11ea_8811_38f9d3db5c17row9_col1 {\n",
       "            : ;\n",
       "            text-align:  left;\n",
       "        }    #T_dfefe088_d5b4_11ea_8811_38f9d3db5c17row9_col2 {\n",
       "            : ;\n",
       "            text-align:  left;\n",
       "        }    #T_dfefe088_d5b4_11ea_8811_38f9d3db5c17row9_col3 {\n",
       "            : ;\n",
       "            text-align:  left;\n",
       "        }    #T_dfefe088_d5b4_11ea_8811_38f9d3db5c17row9_col4 {\n",
       "            : ;\n",
       "            text-align:  left;\n",
       "        }    #T_dfefe088_d5b4_11ea_8811_38f9d3db5c17row9_col5 {\n",
       "            : ;\n",
       "            text-align:  left;\n",
       "        }    #T_dfefe088_d5b4_11ea_8811_38f9d3db5c17row9_col6 {\n",
       "            : ;\n",
       "            text-align:  left;\n",
       "        }    #T_dfefe088_d5b4_11ea_8811_38f9d3db5c17row9_col7 {\n",
       "            : ;\n",
       "            text-align:  left;\n",
       "        }    #T_dfefe088_d5b4_11ea_8811_38f9d3db5c17row9_col8 {\n",
       "            background-color:  lightgrey;\n",
       "            text-align:  left;\n",
       "        }    #T_dfefe088_d5b4_11ea_8811_38f9d3db5c17row10_col0 {\n",
       "            text-align:  left;\n",
       "        }    #T_dfefe088_d5b4_11ea_8811_38f9d3db5c17row10_col1 {\n",
       "            : ;\n",
       "            text-align:  left;\n",
       "        }    #T_dfefe088_d5b4_11ea_8811_38f9d3db5c17row10_col2 {\n",
       "            : ;\n",
       "            text-align:  left;\n",
       "        }    #T_dfefe088_d5b4_11ea_8811_38f9d3db5c17row10_col3 {\n",
       "            : ;\n",
       "            text-align:  left;\n",
       "        }    #T_dfefe088_d5b4_11ea_8811_38f9d3db5c17row10_col4 {\n",
       "            : ;\n",
       "            text-align:  left;\n",
       "        }    #T_dfefe088_d5b4_11ea_8811_38f9d3db5c17row10_col5 {\n",
       "            : ;\n",
       "            text-align:  left;\n",
       "        }    #T_dfefe088_d5b4_11ea_8811_38f9d3db5c17row10_col6 {\n",
       "            : ;\n",
       "            text-align:  left;\n",
       "        }    #T_dfefe088_d5b4_11ea_8811_38f9d3db5c17row10_col7 {\n",
       "            : ;\n",
       "            text-align:  left;\n",
       "        }    #T_dfefe088_d5b4_11ea_8811_38f9d3db5c17row10_col8 {\n",
       "            background-color:  lightgrey;\n",
       "            text-align:  left;\n",
       "        }    #T_dfefe088_d5b4_11ea_8811_38f9d3db5c17row11_col0 {\n",
       "            text-align:  left;\n",
       "        }    #T_dfefe088_d5b4_11ea_8811_38f9d3db5c17row11_col1 {\n",
       "            : ;\n",
       "            text-align:  left;\n",
       "        }    #T_dfefe088_d5b4_11ea_8811_38f9d3db5c17row11_col2 {\n",
       "            : ;\n",
       "            text-align:  left;\n",
       "        }    #T_dfefe088_d5b4_11ea_8811_38f9d3db5c17row11_col3 {\n",
       "            : ;\n",
       "            text-align:  left;\n",
       "        }    #T_dfefe088_d5b4_11ea_8811_38f9d3db5c17row11_col4 {\n",
       "            : ;\n",
       "            text-align:  left;\n",
       "        }    #T_dfefe088_d5b4_11ea_8811_38f9d3db5c17row11_col5 {\n",
       "            : ;\n",
       "            text-align:  left;\n",
       "        }    #T_dfefe088_d5b4_11ea_8811_38f9d3db5c17row11_col6 {\n",
       "            : ;\n",
       "            text-align:  left;\n",
       "        }    #T_dfefe088_d5b4_11ea_8811_38f9d3db5c17row11_col7 {\n",
       "            : ;\n",
       "            text-align:  left;\n",
       "        }    #T_dfefe088_d5b4_11ea_8811_38f9d3db5c17row11_col8 {\n",
       "            background-color:  lightgrey;\n",
       "            text-align:  left;\n",
       "        }    #T_dfefe088_d5b4_11ea_8811_38f9d3db5c17row12_col0 {\n",
       "            text-align:  left;\n",
       "        }    #T_dfefe088_d5b4_11ea_8811_38f9d3db5c17row12_col1 {\n",
       "            : ;\n",
       "            text-align:  left;\n",
       "        }    #T_dfefe088_d5b4_11ea_8811_38f9d3db5c17row12_col2 {\n",
       "            : ;\n",
       "            text-align:  left;\n",
       "        }    #T_dfefe088_d5b4_11ea_8811_38f9d3db5c17row12_col3 {\n",
       "            : ;\n",
       "            text-align:  left;\n",
       "        }    #T_dfefe088_d5b4_11ea_8811_38f9d3db5c17row12_col4 {\n",
       "            : ;\n",
       "            text-align:  left;\n",
       "        }    #T_dfefe088_d5b4_11ea_8811_38f9d3db5c17row12_col5 {\n",
       "            : ;\n",
       "            text-align:  left;\n",
       "        }    #T_dfefe088_d5b4_11ea_8811_38f9d3db5c17row12_col6 {\n",
       "            : ;\n",
       "            text-align:  left;\n",
       "        }    #T_dfefe088_d5b4_11ea_8811_38f9d3db5c17row12_col7 {\n",
       "            : ;\n",
       "            text-align:  left;\n",
       "        }    #T_dfefe088_d5b4_11ea_8811_38f9d3db5c17row12_col8 {\n",
       "            background-color:  lightgrey;\n",
       "            text-align:  left;\n",
       "        }    #T_dfefe088_d5b4_11ea_8811_38f9d3db5c17row13_col0 {\n",
       "            text-align:  left;\n",
       "        }    #T_dfefe088_d5b4_11ea_8811_38f9d3db5c17row13_col1 {\n",
       "            : ;\n",
       "            text-align:  left;\n",
       "        }    #T_dfefe088_d5b4_11ea_8811_38f9d3db5c17row13_col2 {\n",
       "            : ;\n",
       "            text-align:  left;\n",
       "        }    #T_dfefe088_d5b4_11ea_8811_38f9d3db5c17row13_col3 {\n",
       "            : ;\n",
       "            text-align:  left;\n",
       "        }    #T_dfefe088_d5b4_11ea_8811_38f9d3db5c17row13_col4 {\n",
       "            : ;\n",
       "            text-align:  left;\n",
       "        }    #T_dfefe088_d5b4_11ea_8811_38f9d3db5c17row13_col5 {\n",
       "            : ;\n",
       "            text-align:  left;\n",
       "        }    #T_dfefe088_d5b4_11ea_8811_38f9d3db5c17row13_col6 {\n",
       "            : ;\n",
       "            text-align:  left;\n",
       "        }    #T_dfefe088_d5b4_11ea_8811_38f9d3db5c17row13_col7 {\n",
       "            : ;\n",
       "            text-align:  left;\n",
       "        }    #T_dfefe088_d5b4_11ea_8811_38f9d3db5c17row13_col8 {\n",
       "            background-color:  lightgrey;\n",
       "            text-align:  left;\n",
       "        }    #T_dfefe088_d5b4_11ea_8811_38f9d3db5c17row14_col0 {\n",
       "            text-align:  left;\n",
       "        }    #T_dfefe088_d5b4_11ea_8811_38f9d3db5c17row14_col1 {\n",
       "            : ;\n",
       "            text-align:  left;\n",
       "        }    #T_dfefe088_d5b4_11ea_8811_38f9d3db5c17row14_col2 {\n",
       "            : ;\n",
       "            text-align:  left;\n",
       "        }    #T_dfefe088_d5b4_11ea_8811_38f9d3db5c17row14_col3 {\n",
       "            : ;\n",
       "            text-align:  left;\n",
       "        }    #T_dfefe088_d5b4_11ea_8811_38f9d3db5c17row14_col4 {\n",
       "            : ;\n",
       "            text-align:  left;\n",
       "        }    #T_dfefe088_d5b4_11ea_8811_38f9d3db5c17row14_col5 {\n",
       "            : ;\n",
       "            text-align:  left;\n",
       "        }    #T_dfefe088_d5b4_11ea_8811_38f9d3db5c17row14_col6 {\n",
       "            : ;\n",
       "            text-align:  left;\n",
       "        }    #T_dfefe088_d5b4_11ea_8811_38f9d3db5c17row14_col7 {\n",
       "            : ;\n",
       "            text-align:  left;\n",
       "        }    #T_dfefe088_d5b4_11ea_8811_38f9d3db5c17row14_col8 {\n",
       "            background-color:  lightgrey;\n",
       "            text-align:  left;\n",
       "        }    #T_dfefe088_d5b4_11ea_8811_38f9d3db5c17row15_col0 {\n",
       "            text-align:  left;\n",
       "        }    #T_dfefe088_d5b4_11ea_8811_38f9d3db5c17row15_col1 {\n",
       "            : ;\n",
       "            text-align:  left;\n",
       "        }    #T_dfefe088_d5b4_11ea_8811_38f9d3db5c17row15_col2 {\n",
       "            : ;\n",
       "            text-align:  left;\n",
       "        }    #T_dfefe088_d5b4_11ea_8811_38f9d3db5c17row15_col3 {\n",
       "            : ;\n",
       "            text-align:  left;\n",
       "        }    #T_dfefe088_d5b4_11ea_8811_38f9d3db5c17row15_col4 {\n",
       "            : ;\n",
       "            text-align:  left;\n",
       "        }    #T_dfefe088_d5b4_11ea_8811_38f9d3db5c17row15_col5 {\n",
       "            : ;\n",
       "            text-align:  left;\n",
       "        }    #T_dfefe088_d5b4_11ea_8811_38f9d3db5c17row15_col6 {\n",
       "            : ;\n",
       "            text-align:  left;\n",
       "        }    #T_dfefe088_d5b4_11ea_8811_38f9d3db5c17row15_col7 {\n",
       "            : ;\n",
       "            text-align:  left;\n",
       "        }    #T_dfefe088_d5b4_11ea_8811_38f9d3db5c17row15_col8 {\n",
       "            background-color:  lightgrey;\n",
       "            text-align:  left;\n",
       "        }    #T_dfefe088_d5b4_11ea_8811_38f9d3db5c17row16_col0 {\n",
       "            text-align:  left;\n",
       "        }    #T_dfefe088_d5b4_11ea_8811_38f9d3db5c17row16_col1 {\n",
       "            : ;\n",
       "            text-align:  left;\n",
       "        }    #T_dfefe088_d5b4_11ea_8811_38f9d3db5c17row16_col2 {\n",
       "            : ;\n",
       "            text-align:  left;\n",
       "        }    #T_dfefe088_d5b4_11ea_8811_38f9d3db5c17row16_col3 {\n",
       "            background-color:  yellow;\n",
       "            text-align:  left;\n",
       "        }    #T_dfefe088_d5b4_11ea_8811_38f9d3db5c17row16_col4 {\n",
       "            : ;\n",
       "            text-align:  left;\n",
       "        }    #T_dfefe088_d5b4_11ea_8811_38f9d3db5c17row16_col5 {\n",
       "            : ;\n",
       "            text-align:  left;\n",
       "        }    #T_dfefe088_d5b4_11ea_8811_38f9d3db5c17row16_col6 {\n",
       "            : ;\n",
       "            text-align:  left;\n",
       "        }    #T_dfefe088_d5b4_11ea_8811_38f9d3db5c17row16_col7 {\n",
       "            : ;\n",
       "            text-align:  left;\n",
       "        }    #T_dfefe088_d5b4_11ea_8811_38f9d3db5c17row16_col8 {\n",
       "            background-color:  lightgrey;\n",
       "            text-align:  left;\n",
       "        }</style><table id=\"T_dfefe088_d5b4_11ea_8811_38f9d3db5c17\" ><thead>    <tr>        <th class=\"blank level0\" ></th>        <th class=\"col_heading level0 col0\" >Model</th>        <th class=\"col_heading level0 col1\" >Accuracy</th>        <th class=\"col_heading level0 col2\" >AUC</th>        <th class=\"col_heading level0 col3\" >Recall</th>        <th class=\"col_heading level0 col4\" >Prec.</th>        <th class=\"col_heading level0 col5\" >F1</th>        <th class=\"col_heading level0 col6\" >Kappa</th>        <th class=\"col_heading level0 col7\" >MCC</th>        <th class=\"col_heading level0 col8\" >TT (Sec)</th>    </tr></thead><tbody>\n",
       "                <tr>\n",
       "                        <th id=\"T_dfefe088_d5b4_11ea_8811_38f9d3db5c17level0_row0\" class=\"row_heading level0 row0\" >0</th>\n",
       "                        <td id=\"T_dfefe088_d5b4_11ea_8811_38f9d3db5c17row0_col0\" class=\"data row0 col0\" >SVM - Radial Kernel</td>\n",
       "                        <td id=\"T_dfefe088_d5b4_11ea_8811_38f9d3db5c17row0_col1\" class=\"data row0 col1\" >0.8249</td>\n",
       "                        <td id=\"T_dfefe088_d5b4_11ea_8811_38f9d3db5c17row0_col2\" class=\"data row0 col2\" >0.8481</td>\n",
       "                        <td id=\"T_dfefe088_d5b4_11ea_8811_38f9d3db5c17row0_col3\" class=\"data row0 col3\" >0.7192</td>\n",
       "                        <td id=\"T_dfefe088_d5b4_11ea_8811_38f9d3db5c17row0_col4\" class=\"data row0 col4\" >0.8071</td>\n",
       "                        <td id=\"T_dfefe088_d5b4_11ea_8811_38f9d3db5c17row0_col5\" class=\"data row0 col5\" >0.7581</td>\n",
       "                        <td id=\"T_dfefe088_d5b4_11ea_8811_38f9d3db5c17row0_col6\" class=\"data row0 col6\" >0.6219</td>\n",
       "                        <td id=\"T_dfefe088_d5b4_11ea_8811_38f9d3db5c17row0_col7\" class=\"data row0 col7\" >0.6266</td>\n",
       "                        <td id=\"T_dfefe088_d5b4_11ea_8811_38f9d3db5c17row0_col8\" class=\"data row0 col8\" >0.0780</td>\n",
       "            </tr>\n",
       "            <tr>\n",
       "                        <th id=\"T_dfefe088_d5b4_11ea_8811_38f9d3db5c17level0_row1\" class=\"row_heading level0 row1\" >1</th>\n",
       "                        <td id=\"T_dfefe088_d5b4_11ea_8811_38f9d3db5c17row1_col0\" class=\"data row1 col0\" >Linear Discriminant Analysis</td>\n",
       "                        <td id=\"T_dfefe088_d5b4_11ea_8811_38f9d3db5c17row1_col1\" class=\"data row1 col1\" >0.8185</td>\n",
       "                        <td id=\"T_dfefe088_d5b4_11ea_8811_38f9d3db5c17row1_col2\" class=\"data row1 col2\" >0.8700</td>\n",
       "                        <td id=\"T_dfefe088_d5b4_11ea_8811_38f9d3db5c17row1_col3\" class=\"data row1 col3\" >0.7361</td>\n",
       "                        <td id=\"T_dfefe088_d5b4_11ea_8811_38f9d3db5c17row1_col4\" class=\"data row1 col4\" >0.7816</td>\n",
       "                        <td id=\"T_dfefe088_d5b4_11ea_8811_38f9d3db5c17row1_col5\" class=\"data row1 col5\" >0.7547</td>\n",
       "                        <td id=\"T_dfefe088_d5b4_11ea_8811_38f9d3db5c17row1_col6\" class=\"data row1 col6\" >0.6113</td>\n",
       "                        <td id=\"T_dfefe088_d5b4_11ea_8811_38f9d3db5c17row1_col7\" class=\"data row1 col7\" >0.6152</td>\n",
       "                        <td id=\"T_dfefe088_d5b4_11ea_8811_38f9d3db5c17row1_col8\" class=\"data row1 col8\" >0.0234</td>\n",
       "            </tr>\n",
       "            <tr>\n",
       "                        <th id=\"T_dfefe088_d5b4_11ea_8811_38f9d3db5c17level0_row2\" class=\"row_heading level0 row2\" >2</th>\n",
       "                        <td id=\"T_dfefe088_d5b4_11ea_8811_38f9d3db5c17row2_col0\" class=\"data row2 col0\" >Logistic Regression</td>\n",
       "                        <td id=\"T_dfefe088_d5b4_11ea_8811_38f9d3db5c17row2_col1\" class=\"data row2 col1\" >0.8169</td>\n",
       "                        <td id=\"T_dfefe088_d5b4_11ea_8811_38f9d3db5c17row2_col2\" class=\"data row2 col2\" >0.8700</td>\n",
       "                        <td id=\"T_dfefe088_d5b4_11ea_8811_38f9d3db5c17row2_col3\" class=\"data row2 col3\" >0.7404</td>\n",
       "                        <td id=\"T_dfefe088_d5b4_11ea_8811_38f9d3db5c17row2_col4\" class=\"data row2 col4\" >0.7788</td>\n",
       "                        <td id=\"T_dfefe088_d5b4_11ea_8811_38f9d3db5c17row2_col5\" class=\"data row2 col5\" >0.7555</td>\n",
       "                        <td id=\"T_dfefe088_d5b4_11ea_8811_38f9d3db5c17row2_col6\" class=\"data row2 col6\" >0.6097</td>\n",
       "                        <td id=\"T_dfefe088_d5b4_11ea_8811_38f9d3db5c17row2_col7\" class=\"data row2 col7\" >0.6137</td>\n",
       "                        <td id=\"T_dfefe088_d5b4_11ea_8811_38f9d3db5c17row2_col8\" class=\"data row2 col8\" >0.0745</td>\n",
       "            </tr>\n",
       "            <tr>\n",
       "                        <th id=\"T_dfefe088_d5b4_11ea_8811_38f9d3db5c17level0_row3\" class=\"row_heading level0 row3\" >3</th>\n",
       "                        <td id=\"T_dfefe088_d5b4_11ea_8811_38f9d3db5c17row3_col0\" class=\"data row3 col0\" >Ridge Classifier</td>\n",
       "                        <td id=\"T_dfefe088_d5b4_11ea_8811_38f9d3db5c17row3_col1\" class=\"data row3 col1\" >0.8169</td>\n",
       "                        <td id=\"T_dfefe088_d5b4_11ea_8811_38f9d3db5c17row3_col2\" class=\"data row3 col2\" >0.0000</td>\n",
       "                        <td id=\"T_dfefe088_d5b4_11ea_8811_38f9d3db5c17row3_col3\" class=\"data row3 col3\" >0.7319</td>\n",
       "                        <td id=\"T_dfefe088_d5b4_11ea_8811_38f9d3db5c17row3_col4\" class=\"data row3 col4\" >0.7806</td>\n",
       "                        <td id=\"T_dfefe088_d5b4_11ea_8811_38f9d3db5c17row3_col5\" class=\"data row3 col5\" >0.7521</td>\n",
       "                        <td id=\"T_dfefe088_d5b4_11ea_8811_38f9d3db5c17row3_col6\" class=\"data row3 col6\" >0.6076</td>\n",
       "                        <td id=\"T_dfefe088_d5b4_11ea_8811_38f9d3db5c17row3_col7\" class=\"data row3 col7\" >0.6115</td>\n",
       "                        <td id=\"T_dfefe088_d5b4_11ea_8811_38f9d3db5c17row3_col8\" class=\"data row3 col8\" >0.0074</td>\n",
       "            </tr>\n",
       "            <tr>\n",
       "                        <th id=\"T_dfefe088_d5b4_11ea_8811_38f9d3db5c17level0_row4\" class=\"row_heading level0 row4\" >4</th>\n",
       "                        <td id=\"T_dfefe088_d5b4_11ea_8811_38f9d3db5c17row4_col0\" class=\"data row4 col0\" >Gradient Boosting Classifier</td>\n",
       "                        <td id=\"T_dfefe088_d5b4_11ea_8811_38f9d3db5c17row4_col1\" class=\"data row4 col1\" >0.8168</td>\n",
       "                        <td id=\"T_dfefe088_d5b4_11ea_8811_38f9d3db5c17row4_col2\" class=\"data row4 col2\" >0.8746</td>\n",
       "                        <td id=\"T_dfefe088_d5b4_11ea_8811_38f9d3db5c17row4_col3\" class=\"data row4 col3\" >0.7071</td>\n",
       "                        <td id=\"T_dfefe088_d5b4_11ea_8811_38f9d3db5c17row4_col4\" class=\"data row4 col4\" >0.7959</td>\n",
       "                        <td id=\"T_dfefe088_d5b4_11ea_8811_38f9d3db5c17row4_col5\" class=\"data row4 col5\" >0.7466</td>\n",
       "                        <td id=\"T_dfefe088_d5b4_11ea_8811_38f9d3db5c17row4_col6\" class=\"data row4 col6\" >0.6044</td>\n",
       "                        <td id=\"T_dfefe088_d5b4_11ea_8811_38f9d3db5c17row4_col7\" class=\"data row4 col7\" >0.6089</td>\n",
       "                        <td id=\"T_dfefe088_d5b4_11ea_8811_38f9d3db5c17row4_col8\" class=\"data row4 col8\" >0.1301</td>\n",
       "            </tr>\n",
       "            <tr>\n",
       "                        <th id=\"T_dfefe088_d5b4_11ea_8811_38f9d3db5c17level0_row5\" class=\"row_heading level0 row5\" >5</th>\n",
       "                        <td id=\"T_dfefe088_d5b4_11ea_8811_38f9d3db5c17row5_col0\" class=\"data row5 col0\" >Ada Boost Classifier</td>\n",
       "                        <td id=\"T_dfefe088_d5b4_11ea_8811_38f9d3db5c17row5_col1\" class=\"data row5 col1\" >0.8073</td>\n",
       "                        <td id=\"T_dfefe088_d5b4_11ea_8811_38f9d3db5c17row5_col2\" class=\"data row5 col2\" >0.8512</td>\n",
       "                        <td id=\"T_dfefe088_d5b4_11ea_8811_38f9d3db5c17row5_col3\" class=\"data row5 col3\" >0.7404</td>\n",
       "                        <td id=\"T_dfefe088_d5b4_11ea_8811_38f9d3db5c17row5_col4\" class=\"data row5 col4\" >0.7561</td>\n",
       "                        <td id=\"T_dfefe088_d5b4_11ea_8811_38f9d3db5c17row5_col5\" class=\"data row5 col5\" >0.7460</td>\n",
       "                        <td id=\"T_dfefe088_d5b4_11ea_8811_38f9d3db5c17row5_col6\" class=\"data row5 col6\" >0.5910</td>\n",
       "                        <td id=\"T_dfefe088_d5b4_11ea_8811_38f9d3db5c17row5_col7\" class=\"data row5 col7\" >0.5933</td>\n",
       "                        <td id=\"T_dfefe088_d5b4_11ea_8811_38f9d3db5c17row5_col8\" class=\"data row5 col8\" >0.1184</td>\n",
       "            </tr>\n",
       "            <tr>\n",
       "                        <th id=\"T_dfefe088_d5b4_11ea_8811_38f9d3db5c17level0_row6\" class=\"row_heading level0 row6\" >6</th>\n",
       "                        <td id=\"T_dfefe088_d5b4_11ea_8811_38f9d3db5c17row6_col0\" class=\"data row6 col0\" >Light Gradient Boosting Machine</td>\n",
       "                        <td id=\"T_dfefe088_d5b4_11ea_8811_38f9d3db5c17row6_col1\" class=\"data row6 col1\" >0.8072</td>\n",
       "                        <td id=\"T_dfefe088_d5b4_11ea_8811_38f9d3db5c17row6_col2\" class=\"data row6 col2\" >0.8613</td>\n",
       "                        <td id=\"T_dfefe088_d5b4_11ea_8811_38f9d3db5c17row6_col3\" class=\"data row6 col3\" >0.7114</td>\n",
       "                        <td id=\"T_dfefe088_d5b4_11ea_8811_38f9d3db5c17row6_col4\" class=\"data row6 col4\" >0.7715</td>\n",
       "                        <td id=\"T_dfefe088_d5b4_11ea_8811_38f9d3db5c17row6_col5\" class=\"data row6 col5\" >0.7367</td>\n",
       "                        <td id=\"T_dfefe088_d5b4_11ea_8811_38f9d3db5c17row6_col6\" class=\"data row6 col6\" >0.5858</td>\n",
       "                        <td id=\"T_dfefe088_d5b4_11ea_8811_38f9d3db5c17row6_col7\" class=\"data row6 col7\" >0.5899</td>\n",
       "                        <td id=\"T_dfefe088_d5b4_11ea_8811_38f9d3db5c17row6_col8\" class=\"data row6 col8\" >0.0531</td>\n",
       "            </tr>\n",
       "            <tr>\n",
       "                        <th id=\"T_dfefe088_d5b4_11ea_8811_38f9d3db5c17level0_row7\" class=\"row_heading level0 row7\" >7</th>\n",
       "                        <td id=\"T_dfefe088_d5b4_11ea_8811_38f9d3db5c17row7_col0\" class=\"data row7 col0\" >MLP Classifier</td>\n",
       "                        <td id=\"T_dfefe088_d5b4_11ea_8811_38f9d3db5c17row7_col1\" class=\"data row7 col1\" >0.7993</td>\n",
       "                        <td id=\"T_dfefe088_d5b4_11ea_8811_38f9d3db5c17row7_col2\" class=\"data row7 col2\" >0.8566</td>\n",
       "                        <td id=\"T_dfefe088_d5b4_11ea_8811_38f9d3db5c17row7_col3\" class=\"data row7 col3\" >0.6688</td>\n",
       "                        <td id=\"T_dfefe088_d5b4_11ea_8811_38f9d3db5c17row7_col4\" class=\"data row7 col4\" >0.7826</td>\n",
       "                        <td id=\"T_dfefe088_d5b4_11ea_8811_38f9d3db5c17row7_col5\" class=\"data row7 col5\" >0.7175</td>\n",
       "                        <td id=\"T_dfefe088_d5b4_11ea_8811_38f9d3db5c17row7_col6\" class=\"data row7 col6\" >0.5637</td>\n",
       "                        <td id=\"T_dfefe088_d5b4_11ea_8811_38f9d3db5c17row7_col7\" class=\"data row7 col7\" >0.5709</td>\n",
       "                        <td id=\"T_dfefe088_d5b4_11ea_8811_38f9d3db5c17row7_col8\" class=\"data row7 col8\" >2.1310</td>\n",
       "            </tr>\n",
       "            <tr>\n",
       "                        <th id=\"T_dfefe088_d5b4_11ea_8811_38f9d3db5c17level0_row8\" class=\"row_heading level0 row8\" >8</th>\n",
       "                        <td id=\"T_dfefe088_d5b4_11ea_8811_38f9d3db5c17row8_col0\" class=\"data row8 col0\" >Naive Bayes</td>\n",
       "                        <td id=\"T_dfefe088_d5b4_11ea_8811_38f9d3db5c17row8_col1\" class=\"data row8 col1\" >0.7945</td>\n",
       "                        <td id=\"T_dfefe088_d5b4_11ea_8811_38f9d3db5c17row8_col2\" class=\"data row8 col2\" >0.8429</td>\n",
       "                        <td id=\"T_dfefe088_d5b4_11ea_8811_38f9d3db5c17row8_col3\" class=\"data row8 col3\" >0.7025</td>\n",
       "                        <td id=\"T_dfefe088_d5b4_11ea_8811_38f9d3db5c17row8_col4\" class=\"data row8 col4\" >0.7516</td>\n",
       "                        <td id=\"T_dfefe088_d5b4_11ea_8811_38f9d3db5c17row8_col5\" class=\"data row8 col5\" >0.7227</td>\n",
       "                        <td id=\"T_dfefe088_d5b4_11ea_8811_38f9d3db5c17row8_col6\" class=\"data row8 col6\" >0.5601</td>\n",
       "                        <td id=\"T_dfefe088_d5b4_11ea_8811_38f9d3db5c17row8_col7\" class=\"data row8 col7\" >0.5642</td>\n",
       "                        <td id=\"T_dfefe088_d5b4_11ea_8811_38f9d3db5c17row8_col8\" class=\"data row8 col8\" >0.0046</td>\n",
       "            </tr>\n",
       "            <tr>\n",
       "                        <th id=\"T_dfefe088_d5b4_11ea_8811_38f9d3db5c17level0_row9\" class=\"row_heading level0 row9\" >9</th>\n",
       "                        <td id=\"T_dfefe088_d5b4_11ea_8811_38f9d3db5c17row9_col0\" class=\"data row9 col0\" >Extra Trees Classifier</td>\n",
       "                        <td id=\"T_dfefe088_d5b4_11ea_8811_38f9d3db5c17row9_col1\" class=\"data row9 col1\" >0.7944</td>\n",
       "                        <td id=\"T_dfefe088_d5b4_11ea_8811_38f9d3db5c17row9_col2\" class=\"data row9 col2\" >0.8282</td>\n",
       "                        <td id=\"T_dfefe088_d5b4_11ea_8811_38f9d3db5c17row9_col3\" class=\"data row9 col3\" >0.7197</td>\n",
       "                        <td id=\"T_dfefe088_d5b4_11ea_8811_38f9d3db5c17row9_col4\" class=\"data row9 col4\" >0.7381</td>\n",
       "                        <td id=\"T_dfefe088_d5b4_11ea_8811_38f9d3db5c17row9_col5\" class=\"data row9 col5\" >0.7264</td>\n",
       "                        <td id=\"T_dfefe088_d5b4_11ea_8811_38f9d3db5c17row9_col6\" class=\"data row9 col6\" >0.5623</td>\n",
       "                        <td id=\"T_dfefe088_d5b4_11ea_8811_38f9d3db5c17row9_col7\" class=\"data row9 col7\" >0.5644</td>\n",
       "                        <td id=\"T_dfefe088_d5b4_11ea_8811_38f9d3db5c17row9_col8\" class=\"data row9 col8\" >0.1692</td>\n",
       "            </tr>\n",
       "            <tr>\n",
       "                        <th id=\"T_dfefe088_d5b4_11ea_8811_38f9d3db5c17level0_row10\" class=\"row_heading level0 row10\" >10</th>\n",
       "                        <td id=\"T_dfefe088_d5b4_11ea_8811_38f9d3db5c17row10_col0\" class=\"data row10 col0\" >Gaussian Process Classifier</td>\n",
       "                        <td id=\"T_dfefe088_d5b4_11ea_8811_38f9d3db5c17row10_col1\" class=\"data row10 col1\" >0.7928</td>\n",
       "                        <td id=\"T_dfefe088_d5b4_11ea_8811_38f9d3db5c17row10_col2\" class=\"data row10 col2\" >0.8591</td>\n",
       "                        <td id=\"T_dfefe088_d5b4_11ea_8811_38f9d3db5c17row10_col3\" class=\"data row10 col3\" >0.6649</td>\n",
       "                        <td id=\"T_dfefe088_d5b4_11ea_8811_38f9d3db5c17row10_col4\" class=\"data row10 col4\" >0.7688</td>\n",
       "                        <td id=\"T_dfefe088_d5b4_11ea_8811_38f9d3db5c17row10_col5\" class=\"data row10 col5\" >0.7082</td>\n",
       "                        <td id=\"T_dfefe088_d5b4_11ea_8811_38f9d3db5c17row10_col6\" class=\"data row10 col6\" >0.5497</td>\n",
       "                        <td id=\"T_dfefe088_d5b4_11ea_8811_38f9d3db5c17row10_col7\" class=\"data row10 col7\" >0.5570</td>\n",
       "                        <td id=\"T_dfefe088_d5b4_11ea_8811_38f9d3db5c17row10_col8\" class=\"data row10 col8\" >0.2226</td>\n",
       "            </tr>\n",
       "            <tr>\n",
       "                        <th id=\"T_dfefe088_d5b4_11ea_8811_38f9d3db5c17level0_row11\" class=\"row_heading level0 row11\" >11</th>\n",
       "                        <td id=\"T_dfefe088_d5b4_11ea_8811_38f9d3db5c17row11_col0\" class=\"data row11 col0\" >K Neighbors Classifier</td>\n",
       "                        <td id=\"T_dfefe088_d5b4_11ea_8811_38f9d3db5c17row11_col1\" class=\"data row11 col1\" >0.7913</td>\n",
       "                        <td id=\"T_dfefe088_d5b4_11ea_8811_38f9d3db5c17row11_col2\" class=\"data row11 col2\" >0.8550</td>\n",
       "                        <td id=\"T_dfefe088_d5b4_11ea_8811_38f9d3db5c17row11_col3\" class=\"data row11 col3\" >0.6855</td>\n",
       "                        <td id=\"T_dfefe088_d5b4_11ea_8811_38f9d3db5c17row11_col4\" class=\"data row11 col4\" >0.7530</td>\n",
       "                        <td id=\"T_dfefe088_d5b4_11ea_8811_38f9d3db5c17row11_col5\" class=\"data row11 col5\" >0.7144</td>\n",
       "                        <td id=\"T_dfefe088_d5b4_11ea_8811_38f9d3db5c17row11_col6\" class=\"data row11 col6\" >0.5509</td>\n",
       "                        <td id=\"T_dfefe088_d5b4_11ea_8811_38f9d3db5c17row11_col7\" class=\"data row11 col7\" >0.5552</td>\n",
       "                        <td id=\"T_dfefe088_d5b4_11ea_8811_38f9d3db5c17row11_col8\" class=\"data row11 col8\" >0.0064</td>\n",
       "            </tr>\n",
       "            <tr>\n",
       "                        <th id=\"T_dfefe088_d5b4_11ea_8811_38f9d3db5c17level0_row12\" class=\"row_heading level0 row12\" >12</th>\n",
       "                        <td id=\"T_dfefe088_d5b4_11ea_8811_38f9d3db5c17row12_col0\" class=\"data row12 col0\" >Extreme Gradient Boosting</td>\n",
       "                        <td id=\"T_dfefe088_d5b4_11ea_8811_38f9d3db5c17row12_col1\" class=\"data row12 col1\" >0.7880</td>\n",
       "                        <td id=\"T_dfefe088_d5b4_11ea_8811_38f9d3db5c17row12_col2\" class=\"data row12 col2\" >0.8518</td>\n",
       "                        <td id=\"T_dfefe088_d5b4_11ea_8811_38f9d3db5c17row12_col3\" class=\"data row12 col3\" >0.7116</td>\n",
       "                        <td id=\"T_dfefe088_d5b4_11ea_8811_38f9d3db5c17row12_col4\" class=\"data row12 col4\" >0.7303</td>\n",
       "                        <td id=\"T_dfefe088_d5b4_11ea_8811_38f9d3db5c17row12_col5\" class=\"data row12 col5\" >0.7180</td>\n",
       "                        <td id=\"T_dfefe088_d5b4_11ea_8811_38f9d3db5c17row12_col6\" class=\"data row12 col6\" >0.5488</td>\n",
       "                        <td id=\"T_dfefe088_d5b4_11ea_8811_38f9d3db5c17row12_col7\" class=\"data row12 col7\" >0.5516</td>\n",
       "                        <td id=\"T_dfefe088_d5b4_11ea_8811_38f9d3db5c17row12_col8\" class=\"data row12 col8\" >0.1194</td>\n",
       "            </tr>\n",
       "            <tr>\n",
       "                        <th id=\"T_dfefe088_d5b4_11ea_8811_38f9d3db5c17level0_row13\" class=\"row_heading level0 row13\" >13</th>\n",
       "                        <td id=\"T_dfefe088_d5b4_11ea_8811_38f9d3db5c17row13_col0\" class=\"data row13 col0\" >Random Forest Classifier</td>\n",
       "                        <td id=\"T_dfefe088_d5b4_11ea_8811_38f9d3db5c17row13_col1\" class=\"data row13 col1\" >0.7863</td>\n",
       "                        <td id=\"T_dfefe088_d5b4_11ea_8811_38f9d3db5c17row13_col2\" class=\"data row13 col2\" >0.8392</td>\n",
       "                        <td id=\"T_dfefe088_d5b4_11ea_8811_38f9d3db5c17row13_col3\" class=\"data row13 col3\" >0.7072</td>\n",
       "                        <td id=\"T_dfefe088_d5b4_11ea_8811_38f9d3db5c17row13_col4\" class=\"data row13 col4\" >0.7297</td>\n",
       "                        <td id=\"T_dfefe088_d5b4_11ea_8811_38f9d3db5c17row13_col5\" class=\"data row13 col5\" >0.7148</td>\n",
       "                        <td id=\"T_dfefe088_d5b4_11ea_8811_38f9d3db5c17row13_col6\" class=\"data row13 col6\" >0.5447</td>\n",
       "                        <td id=\"T_dfefe088_d5b4_11ea_8811_38f9d3db5c17row13_col7\" class=\"data row13 col7\" >0.5478</td>\n",
       "                        <td id=\"T_dfefe088_d5b4_11ea_8811_38f9d3db5c17row13_col8\" class=\"data row13 col8\" >0.0262</td>\n",
       "            </tr>\n",
       "            <tr>\n",
       "                        <th id=\"T_dfefe088_d5b4_11ea_8811_38f9d3db5c17level0_row14\" class=\"row_heading level0 row14\" >14</th>\n",
       "                        <td id=\"T_dfefe088_d5b4_11ea_8811_38f9d3db5c17row14_col0\" class=\"data row14 col0\" >SVM - Linear Kernel</td>\n",
       "                        <td id=\"T_dfefe088_d5b4_11ea_8811_38f9d3db5c17row14_col1\" class=\"data row14 col1\" >0.7799</td>\n",
       "                        <td id=\"T_dfefe088_d5b4_11ea_8811_38f9d3db5c17row14_col2\" class=\"data row14 col2\" >0.0000</td>\n",
       "                        <td id=\"T_dfefe088_d5b4_11ea_8811_38f9d3db5c17row14_col3\" class=\"data row14 col3\" >0.6553</td>\n",
       "                        <td id=\"T_dfefe088_d5b4_11ea_8811_38f9d3db5c17row14_col4\" class=\"data row14 col4\" >0.7668</td>\n",
       "                        <td id=\"T_dfefe088_d5b4_11ea_8811_38f9d3db5c17row14_col5\" class=\"data row14 col5\" >0.6849</td>\n",
       "                        <td id=\"T_dfefe088_d5b4_11ea_8811_38f9d3db5c17row14_col6\" class=\"data row14 col6\" >0.5211</td>\n",
       "                        <td id=\"T_dfefe088_d5b4_11ea_8811_38f9d3db5c17row14_col7\" class=\"data row14 col7\" >0.5387</td>\n",
       "                        <td id=\"T_dfefe088_d5b4_11ea_8811_38f9d3db5c17row14_col8\" class=\"data row14 col8\" >0.0076</td>\n",
       "            </tr>\n",
       "            <tr>\n",
       "                        <th id=\"T_dfefe088_d5b4_11ea_8811_38f9d3db5c17level0_row15\" class=\"row_heading level0 row15\" >15</th>\n",
       "                        <td id=\"T_dfefe088_d5b4_11ea_8811_38f9d3db5c17row15_col0\" class=\"data row15 col0\" >Decision Tree Classifier</td>\n",
       "                        <td id=\"T_dfefe088_d5b4_11ea_8811_38f9d3db5c17row15_col1\" class=\"data row15 col1\" >0.7414</td>\n",
       "                        <td id=\"T_dfefe088_d5b4_11ea_8811_38f9d3db5c17row15_col2\" class=\"data row15 col2\" >0.7358</td>\n",
       "                        <td id=\"T_dfefe088_d5b4_11ea_8811_38f9d3db5c17row15_col3\" class=\"data row15 col3\" >0.6783</td>\n",
       "                        <td id=\"T_dfefe088_d5b4_11ea_8811_38f9d3db5c17row15_col4\" class=\"data row15 col4\" >0.6583</td>\n",
       "                        <td id=\"T_dfefe088_d5b4_11ea_8811_38f9d3db5c17row15_col5\" class=\"data row15 col5\" >0.6668</td>\n",
       "                        <td id=\"T_dfefe088_d5b4_11ea_8811_38f9d3db5c17row15_col6\" class=\"data row15 col6\" >0.4559</td>\n",
       "                        <td id=\"T_dfefe088_d5b4_11ea_8811_38f9d3db5c17row15_col7\" class=\"data row15 col7\" >0.4574</td>\n",
       "                        <td id=\"T_dfefe088_d5b4_11ea_8811_38f9d3db5c17row15_col8\" class=\"data row15 col8\" >0.0065</td>\n",
       "            </tr>\n",
       "            <tr>\n",
       "                        <th id=\"T_dfefe088_d5b4_11ea_8811_38f9d3db5c17level0_row16\" class=\"row_heading level0 row16\" >16</th>\n",
       "                        <td id=\"T_dfefe088_d5b4_11ea_8811_38f9d3db5c17row16_col0\" class=\"data row16 col0\" >Quadratic Discriminant Analysis</td>\n",
       "                        <td id=\"T_dfefe088_d5b4_11ea_8811_38f9d3db5c17row16_col1\" class=\"data row16 col1\" >0.4526</td>\n",
       "                        <td id=\"T_dfefe088_d5b4_11ea_8811_38f9d3db5c17row16_col2\" class=\"data row16 col2\" >0.5474</td>\n",
       "                        <td id=\"T_dfefe088_d5b4_11ea_8811_38f9d3db5c17row16_col3\" class=\"data row16 col3\" >0.9333</td>\n",
       "                        <td id=\"T_dfefe088_d5b4_11ea_8811_38f9d3db5c17row16_col4\" class=\"data row16 col4\" >0.4206</td>\n",
       "                        <td id=\"T_dfefe088_d5b4_11ea_8811_38f9d3db5c17row16_col5\" class=\"data row16 col5\" >0.5718</td>\n",
       "                        <td id=\"T_dfefe088_d5b4_11ea_8811_38f9d3db5c17row16_col6\" class=\"data row16 col6\" >0.0791</td>\n",
       "                        <td id=\"T_dfefe088_d5b4_11ea_8811_38f9d3db5c17row16_col7\" class=\"data row16 col7\" >0.0993</td>\n",
       "                        <td id=\"T_dfefe088_d5b4_11ea_8811_38f9d3db5c17row16_col8\" class=\"data row16 col8\" >0.0042</td>\n",
       "            </tr>\n",
       "    </tbody></table>"
      ],
      "text/plain": [
       "<pandas.io.formats.style.Styler at 0x128f4d610>"
      ]
     },
     "metadata": {},
     "output_type": "display_data"
    }
   ],
   "source": [
    "# automatically compare all models \n",
    "best_classification_models = classification.compare_models(\n",
    "    turbo=False,\n",
    "    n_select=5,\n",
    "    blacklist=['catboost']\n",
    ")"
   ]
  },
  {
   "cell_type": "code",
   "execution_count": 13,
   "metadata": {},
   "outputs": [
    {
     "data": {
      "text/html": [
       "<style  type=\"text/css\" >\n",
       "    #T_092cf22e_d5b5_11ea_8811_38f9d3db5c17 th {\n",
       "          text-align: left;\n",
       "    }    #T_092cf22e_d5b5_11ea_8811_38f9d3db5c17row0_col0 {\n",
       "            text-align:  left;\n",
       "        }    #T_092cf22e_d5b5_11ea_8811_38f9d3db5c17row0_col1 {\n",
       "            : ;\n",
       "            text-align:  left;\n",
       "        }    #T_092cf22e_d5b5_11ea_8811_38f9d3db5c17row0_col2 {\n",
       "            background-color:  yellow;\n",
       "            text-align:  left;\n",
       "        }    #T_092cf22e_d5b5_11ea_8811_38f9d3db5c17row0_col3 {\n",
       "            : ;\n",
       "            text-align:  left;\n",
       "        }    #T_092cf22e_d5b5_11ea_8811_38f9d3db5c17row0_col4 {\n",
       "            background-color:  yellow;\n",
       "            text-align:  left;\n",
       "        }    #T_092cf22e_d5b5_11ea_8811_38f9d3db5c17row0_col5 {\n",
       "            : ;\n",
       "            text-align:  left;\n",
       "        }    #T_092cf22e_d5b5_11ea_8811_38f9d3db5c17row0_col6 {\n",
       "            : ;\n",
       "            text-align:  left;\n",
       "        }    #T_092cf22e_d5b5_11ea_8811_38f9d3db5c17row0_col7 {\n",
       "            : ;\n",
       "            text-align:  left;\n",
       "        }    #T_092cf22e_d5b5_11ea_8811_38f9d3db5c17row0_col8 {\n",
       "            background-color:  lightgrey;\n",
       "            text-align:  left;\n",
       "        }    #T_092cf22e_d5b5_11ea_8811_38f9d3db5c17row1_col0 {\n",
       "            text-align:  left;\n",
       "        }    #T_092cf22e_d5b5_11ea_8811_38f9d3db5c17row1_col1 {\n",
       "            : ;\n",
       "            text-align:  left;\n",
       "        }    #T_092cf22e_d5b5_11ea_8811_38f9d3db5c17row1_col2 {\n",
       "            : ;\n",
       "            text-align:  left;\n",
       "        }    #T_092cf22e_d5b5_11ea_8811_38f9d3db5c17row1_col3 {\n",
       "            : ;\n",
       "            text-align:  left;\n",
       "        }    #T_092cf22e_d5b5_11ea_8811_38f9d3db5c17row1_col4 {\n",
       "            : ;\n",
       "            text-align:  left;\n",
       "        }    #T_092cf22e_d5b5_11ea_8811_38f9d3db5c17row1_col5 {\n",
       "            : ;\n",
       "            text-align:  left;\n",
       "        }    #T_092cf22e_d5b5_11ea_8811_38f9d3db5c17row1_col6 {\n",
       "            : ;\n",
       "            text-align:  left;\n",
       "        }    #T_092cf22e_d5b5_11ea_8811_38f9d3db5c17row1_col7 {\n",
       "            : ;\n",
       "            text-align:  left;\n",
       "        }    #T_092cf22e_d5b5_11ea_8811_38f9d3db5c17row1_col8 {\n",
       "            background-color:  lightgrey;\n",
       "            text-align:  left;\n",
       "        }    #T_092cf22e_d5b5_11ea_8811_38f9d3db5c17row2_col0 {\n",
       "            text-align:  left;\n",
       "        }    #T_092cf22e_d5b5_11ea_8811_38f9d3db5c17row2_col1 {\n",
       "            : ;\n",
       "            text-align:  left;\n",
       "        }    #T_092cf22e_d5b5_11ea_8811_38f9d3db5c17row2_col2 {\n",
       "            : ;\n",
       "            text-align:  left;\n",
       "        }    #T_092cf22e_d5b5_11ea_8811_38f9d3db5c17row2_col3 {\n",
       "            : ;\n",
       "            text-align:  left;\n",
       "        }    #T_092cf22e_d5b5_11ea_8811_38f9d3db5c17row2_col4 {\n",
       "            : ;\n",
       "            text-align:  left;\n",
       "        }    #T_092cf22e_d5b5_11ea_8811_38f9d3db5c17row2_col5 {\n",
       "            : ;\n",
       "            text-align:  left;\n",
       "        }    #T_092cf22e_d5b5_11ea_8811_38f9d3db5c17row2_col6 {\n",
       "            : ;\n",
       "            text-align:  left;\n",
       "        }    #T_092cf22e_d5b5_11ea_8811_38f9d3db5c17row2_col7 {\n",
       "            : ;\n",
       "            text-align:  left;\n",
       "        }    #T_092cf22e_d5b5_11ea_8811_38f9d3db5c17row2_col8 {\n",
       "            background-color:  lightgrey;\n",
       "            text-align:  left;\n",
       "        }    #T_092cf22e_d5b5_11ea_8811_38f9d3db5c17row3_col0 {\n",
       "            text-align:  left;\n",
       "        }    #T_092cf22e_d5b5_11ea_8811_38f9d3db5c17row3_col1 {\n",
       "            : ;\n",
       "            text-align:  left;\n",
       "        }    #T_092cf22e_d5b5_11ea_8811_38f9d3db5c17row3_col2 {\n",
       "            : ;\n",
       "            text-align:  left;\n",
       "        }    #T_092cf22e_d5b5_11ea_8811_38f9d3db5c17row3_col3 {\n",
       "            : ;\n",
       "            text-align:  left;\n",
       "        }    #T_092cf22e_d5b5_11ea_8811_38f9d3db5c17row3_col4 {\n",
       "            : ;\n",
       "            text-align:  left;\n",
       "        }    #T_092cf22e_d5b5_11ea_8811_38f9d3db5c17row3_col5 {\n",
       "            : ;\n",
       "            text-align:  left;\n",
       "        }    #T_092cf22e_d5b5_11ea_8811_38f9d3db5c17row3_col6 {\n",
       "            : ;\n",
       "            text-align:  left;\n",
       "        }    #T_092cf22e_d5b5_11ea_8811_38f9d3db5c17row3_col7 {\n",
       "            : ;\n",
       "            text-align:  left;\n",
       "        }    #T_092cf22e_d5b5_11ea_8811_38f9d3db5c17row3_col8 {\n",
       "            background-color:  lightgrey;\n",
       "            text-align:  left;\n",
       "        }    #T_092cf22e_d5b5_11ea_8811_38f9d3db5c17row4_col0 {\n",
       "            text-align:  left;\n",
       "        }    #T_092cf22e_d5b5_11ea_8811_38f9d3db5c17row4_col1 {\n",
       "            : ;\n",
       "            text-align:  left;\n",
       "        }    #T_092cf22e_d5b5_11ea_8811_38f9d3db5c17row4_col2 {\n",
       "            : ;\n",
       "            text-align:  left;\n",
       "        }    #T_092cf22e_d5b5_11ea_8811_38f9d3db5c17row4_col3 {\n",
       "            : ;\n",
       "            text-align:  left;\n",
       "        }    #T_092cf22e_d5b5_11ea_8811_38f9d3db5c17row4_col4 {\n",
       "            : ;\n",
       "            text-align:  left;\n",
       "        }    #T_092cf22e_d5b5_11ea_8811_38f9d3db5c17row4_col5 {\n",
       "            : ;\n",
       "            text-align:  left;\n",
       "        }    #T_092cf22e_d5b5_11ea_8811_38f9d3db5c17row4_col6 {\n",
       "            : ;\n",
       "            text-align:  left;\n",
       "        }    #T_092cf22e_d5b5_11ea_8811_38f9d3db5c17row4_col7 {\n",
       "            : ;\n",
       "            text-align:  left;\n",
       "        }    #T_092cf22e_d5b5_11ea_8811_38f9d3db5c17row4_col8 {\n",
       "            background-color:  lightgrey;\n",
       "            text-align:  left;\n",
       "        }    #T_092cf22e_d5b5_11ea_8811_38f9d3db5c17row5_col0 {\n",
       "            text-align:  left;\n",
       "        }    #T_092cf22e_d5b5_11ea_8811_38f9d3db5c17row5_col1 {\n",
       "            : ;\n",
       "            text-align:  left;\n",
       "        }    #T_092cf22e_d5b5_11ea_8811_38f9d3db5c17row5_col2 {\n",
       "            : ;\n",
       "            text-align:  left;\n",
       "        }    #T_092cf22e_d5b5_11ea_8811_38f9d3db5c17row5_col3 {\n",
       "            : ;\n",
       "            text-align:  left;\n",
       "        }    #T_092cf22e_d5b5_11ea_8811_38f9d3db5c17row5_col4 {\n",
       "            : ;\n",
       "            text-align:  left;\n",
       "        }    #T_092cf22e_d5b5_11ea_8811_38f9d3db5c17row5_col5 {\n",
       "            : ;\n",
       "            text-align:  left;\n",
       "        }    #T_092cf22e_d5b5_11ea_8811_38f9d3db5c17row5_col6 {\n",
       "            : ;\n",
       "            text-align:  left;\n",
       "        }    #T_092cf22e_d5b5_11ea_8811_38f9d3db5c17row5_col7 {\n",
       "            : ;\n",
       "            text-align:  left;\n",
       "        }    #T_092cf22e_d5b5_11ea_8811_38f9d3db5c17row5_col8 {\n",
       "            background-color:  lightgrey;\n",
       "            text-align:  left;\n",
       "        }    #T_092cf22e_d5b5_11ea_8811_38f9d3db5c17row6_col0 {\n",
       "            text-align:  left;\n",
       "        }    #T_092cf22e_d5b5_11ea_8811_38f9d3db5c17row6_col1 {\n",
       "            : ;\n",
       "            text-align:  left;\n",
       "        }    #T_092cf22e_d5b5_11ea_8811_38f9d3db5c17row6_col2 {\n",
       "            : ;\n",
       "            text-align:  left;\n",
       "        }    #T_092cf22e_d5b5_11ea_8811_38f9d3db5c17row6_col3 {\n",
       "            : ;\n",
       "            text-align:  left;\n",
       "        }    #T_092cf22e_d5b5_11ea_8811_38f9d3db5c17row6_col4 {\n",
       "            : ;\n",
       "            text-align:  left;\n",
       "        }    #T_092cf22e_d5b5_11ea_8811_38f9d3db5c17row6_col5 {\n",
       "            : ;\n",
       "            text-align:  left;\n",
       "        }    #T_092cf22e_d5b5_11ea_8811_38f9d3db5c17row6_col6 {\n",
       "            : ;\n",
       "            text-align:  left;\n",
       "        }    #T_092cf22e_d5b5_11ea_8811_38f9d3db5c17row6_col7 {\n",
       "            : ;\n",
       "            text-align:  left;\n",
       "        }    #T_092cf22e_d5b5_11ea_8811_38f9d3db5c17row6_col8 {\n",
       "            background-color:  lightgrey;\n",
       "            text-align:  left;\n",
       "        }    #T_092cf22e_d5b5_11ea_8811_38f9d3db5c17row7_col0 {\n",
       "            text-align:  left;\n",
       "        }    #T_092cf22e_d5b5_11ea_8811_38f9d3db5c17row7_col1 {\n",
       "            : ;\n",
       "            text-align:  left;\n",
       "        }    #T_092cf22e_d5b5_11ea_8811_38f9d3db5c17row7_col2 {\n",
       "            : ;\n",
       "            text-align:  left;\n",
       "        }    #T_092cf22e_d5b5_11ea_8811_38f9d3db5c17row7_col3 {\n",
       "            : ;\n",
       "            text-align:  left;\n",
       "        }    #T_092cf22e_d5b5_11ea_8811_38f9d3db5c17row7_col4 {\n",
       "            : ;\n",
       "            text-align:  left;\n",
       "        }    #T_092cf22e_d5b5_11ea_8811_38f9d3db5c17row7_col5 {\n",
       "            : ;\n",
       "            text-align:  left;\n",
       "        }    #T_092cf22e_d5b5_11ea_8811_38f9d3db5c17row7_col6 {\n",
       "            : ;\n",
       "            text-align:  left;\n",
       "        }    #T_092cf22e_d5b5_11ea_8811_38f9d3db5c17row7_col7 {\n",
       "            : ;\n",
       "            text-align:  left;\n",
       "        }    #T_092cf22e_d5b5_11ea_8811_38f9d3db5c17row7_col8 {\n",
       "            background-color:  lightgrey;\n",
       "            text-align:  left;\n",
       "        }    #T_092cf22e_d5b5_11ea_8811_38f9d3db5c17row8_col0 {\n",
       "            text-align:  left;\n",
       "        }    #T_092cf22e_d5b5_11ea_8811_38f9d3db5c17row8_col1 {\n",
       "            : ;\n",
       "            text-align:  left;\n",
       "        }    #T_092cf22e_d5b5_11ea_8811_38f9d3db5c17row8_col2 {\n",
       "            : ;\n",
       "            text-align:  left;\n",
       "        }    #T_092cf22e_d5b5_11ea_8811_38f9d3db5c17row8_col3 {\n",
       "            : ;\n",
       "            text-align:  left;\n",
       "        }    #T_092cf22e_d5b5_11ea_8811_38f9d3db5c17row8_col4 {\n",
       "            : ;\n",
       "            text-align:  left;\n",
       "        }    #T_092cf22e_d5b5_11ea_8811_38f9d3db5c17row8_col5 {\n",
       "            : ;\n",
       "            text-align:  left;\n",
       "        }    #T_092cf22e_d5b5_11ea_8811_38f9d3db5c17row8_col6 {\n",
       "            : ;\n",
       "            text-align:  left;\n",
       "        }    #T_092cf22e_d5b5_11ea_8811_38f9d3db5c17row8_col7 {\n",
       "            : ;\n",
       "            text-align:  left;\n",
       "        }    #T_092cf22e_d5b5_11ea_8811_38f9d3db5c17row8_col8 {\n",
       "            background-color:  lightgrey;\n",
       "            text-align:  left;\n",
       "        }    #T_092cf22e_d5b5_11ea_8811_38f9d3db5c17row9_col0 {\n",
       "            text-align:  left;\n",
       "        }    #T_092cf22e_d5b5_11ea_8811_38f9d3db5c17row9_col1 {\n",
       "            : ;\n",
       "            text-align:  left;\n",
       "        }    #T_092cf22e_d5b5_11ea_8811_38f9d3db5c17row9_col2 {\n",
       "            : ;\n",
       "            text-align:  left;\n",
       "        }    #T_092cf22e_d5b5_11ea_8811_38f9d3db5c17row9_col3 {\n",
       "            : ;\n",
       "            text-align:  left;\n",
       "        }    #T_092cf22e_d5b5_11ea_8811_38f9d3db5c17row9_col4 {\n",
       "            : ;\n",
       "            text-align:  left;\n",
       "        }    #T_092cf22e_d5b5_11ea_8811_38f9d3db5c17row9_col5 {\n",
       "            : ;\n",
       "            text-align:  left;\n",
       "        }    #T_092cf22e_d5b5_11ea_8811_38f9d3db5c17row9_col6 {\n",
       "            : ;\n",
       "            text-align:  left;\n",
       "        }    #T_092cf22e_d5b5_11ea_8811_38f9d3db5c17row9_col7 {\n",
       "            : ;\n",
       "            text-align:  left;\n",
       "        }    #T_092cf22e_d5b5_11ea_8811_38f9d3db5c17row9_col8 {\n",
       "            background-color:  lightgrey;\n",
       "            text-align:  left;\n",
       "        }    #T_092cf22e_d5b5_11ea_8811_38f9d3db5c17row10_col0 {\n",
       "            text-align:  left;\n",
       "        }    #T_092cf22e_d5b5_11ea_8811_38f9d3db5c17row10_col1 {\n",
       "            background-color:  yellow;\n",
       "            text-align:  left;\n",
       "        }    #T_092cf22e_d5b5_11ea_8811_38f9d3db5c17row10_col2 {\n",
       "            : ;\n",
       "            text-align:  left;\n",
       "        }    #T_092cf22e_d5b5_11ea_8811_38f9d3db5c17row10_col3 {\n",
       "            : ;\n",
       "            text-align:  left;\n",
       "        }    #T_092cf22e_d5b5_11ea_8811_38f9d3db5c17row10_col4 {\n",
       "            : ;\n",
       "            text-align:  left;\n",
       "        }    #T_092cf22e_d5b5_11ea_8811_38f9d3db5c17row10_col5 {\n",
       "            background-color:  yellow;\n",
       "            text-align:  left;\n",
       "        }    #T_092cf22e_d5b5_11ea_8811_38f9d3db5c17row10_col6 {\n",
       "            background-color:  yellow;\n",
       "            text-align:  left;\n",
       "        }    #T_092cf22e_d5b5_11ea_8811_38f9d3db5c17row10_col7 {\n",
       "            background-color:  yellow;\n",
       "            text-align:  left;\n",
       "        }    #T_092cf22e_d5b5_11ea_8811_38f9d3db5c17row10_col8 {\n",
       "            background-color:  lightgrey;\n",
       "            text-align:  left;\n",
       "        }    #T_092cf22e_d5b5_11ea_8811_38f9d3db5c17row11_col0 {\n",
       "            text-align:  left;\n",
       "        }    #T_092cf22e_d5b5_11ea_8811_38f9d3db5c17row11_col1 {\n",
       "            : ;\n",
       "            text-align:  left;\n",
       "        }    #T_092cf22e_d5b5_11ea_8811_38f9d3db5c17row11_col2 {\n",
       "            : ;\n",
       "            text-align:  left;\n",
       "        }    #T_092cf22e_d5b5_11ea_8811_38f9d3db5c17row11_col3 {\n",
       "            : ;\n",
       "            text-align:  left;\n",
       "        }    #T_092cf22e_d5b5_11ea_8811_38f9d3db5c17row11_col4 {\n",
       "            : ;\n",
       "            text-align:  left;\n",
       "        }    #T_092cf22e_d5b5_11ea_8811_38f9d3db5c17row11_col5 {\n",
       "            : ;\n",
       "            text-align:  left;\n",
       "        }    #T_092cf22e_d5b5_11ea_8811_38f9d3db5c17row11_col6 {\n",
       "            : ;\n",
       "            text-align:  left;\n",
       "        }    #T_092cf22e_d5b5_11ea_8811_38f9d3db5c17row11_col7 {\n",
       "            : ;\n",
       "            text-align:  left;\n",
       "        }    #T_092cf22e_d5b5_11ea_8811_38f9d3db5c17row11_col8 {\n",
       "            background-color:  lightgrey;\n",
       "            text-align:  left;\n",
       "        }    #T_092cf22e_d5b5_11ea_8811_38f9d3db5c17row12_col0 {\n",
       "            text-align:  left;\n",
       "        }    #T_092cf22e_d5b5_11ea_8811_38f9d3db5c17row12_col1 {\n",
       "            : ;\n",
       "            text-align:  left;\n",
       "        }    #T_092cf22e_d5b5_11ea_8811_38f9d3db5c17row12_col2 {\n",
       "            : ;\n",
       "            text-align:  left;\n",
       "        }    #T_092cf22e_d5b5_11ea_8811_38f9d3db5c17row12_col3 {\n",
       "            : ;\n",
       "            text-align:  left;\n",
       "        }    #T_092cf22e_d5b5_11ea_8811_38f9d3db5c17row12_col4 {\n",
       "            : ;\n",
       "            text-align:  left;\n",
       "        }    #T_092cf22e_d5b5_11ea_8811_38f9d3db5c17row12_col5 {\n",
       "            : ;\n",
       "            text-align:  left;\n",
       "        }    #T_092cf22e_d5b5_11ea_8811_38f9d3db5c17row12_col6 {\n",
       "            : ;\n",
       "            text-align:  left;\n",
       "        }    #T_092cf22e_d5b5_11ea_8811_38f9d3db5c17row12_col7 {\n",
       "            : ;\n",
       "            text-align:  left;\n",
       "        }    #T_092cf22e_d5b5_11ea_8811_38f9d3db5c17row12_col8 {\n",
       "            background-color:  lightgrey;\n",
       "            text-align:  left;\n",
       "        }    #T_092cf22e_d5b5_11ea_8811_38f9d3db5c17row13_col0 {\n",
       "            text-align:  left;\n",
       "        }    #T_092cf22e_d5b5_11ea_8811_38f9d3db5c17row13_col1 {\n",
       "            : ;\n",
       "            text-align:  left;\n",
       "        }    #T_092cf22e_d5b5_11ea_8811_38f9d3db5c17row13_col2 {\n",
       "            : ;\n",
       "            text-align:  left;\n",
       "        }    #T_092cf22e_d5b5_11ea_8811_38f9d3db5c17row13_col3 {\n",
       "            : ;\n",
       "            text-align:  left;\n",
       "        }    #T_092cf22e_d5b5_11ea_8811_38f9d3db5c17row13_col4 {\n",
       "            : ;\n",
       "            text-align:  left;\n",
       "        }    #T_092cf22e_d5b5_11ea_8811_38f9d3db5c17row13_col5 {\n",
       "            : ;\n",
       "            text-align:  left;\n",
       "        }    #T_092cf22e_d5b5_11ea_8811_38f9d3db5c17row13_col6 {\n",
       "            : ;\n",
       "            text-align:  left;\n",
       "        }    #T_092cf22e_d5b5_11ea_8811_38f9d3db5c17row13_col7 {\n",
       "            : ;\n",
       "            text-align:  left;\n",
       "        }    #T_092cf22e_d5b5_11ea_8811_38f9d3db5c17row13_col8 {\n",
       "            background-color:  lightgrey;\n",
       "            text-align:  left;\n",
       "        }    #T_092cf22e_d5b5_11ea_8811_38f9d3db5c17row14_col0 {\n",
       "            text-align:  left;\n",
       "        }    #T_092cf22e_d5b5_11ea_8811_38f9d3db5c17row14_col1 {\n",
       "            : ;\n",
       "            text-align:  left;\n",
       "        }    #T_092cf22e_d5b5_11ea_8811_38f9d3db5c17row14_col2 {\n",
       "            : ;\n",
       "            text-align:  left;\n",
       "        }    #T_092cf22e_d5b5_11ea_8811_38f9d3db5c17row14_col3 {\n",
       "            : ;\n",
       "            text-align:  left;\n",
       "        }    #T_092cf22e_d5b5_11ea_8811_38f9d3db5c17row14_col4 {\n",
       "            : ;\n",
       "            text-align:  left;\n",
       "        }    #T_092cf22e_d5b5_11ea_8811_38f9d3db5c17row14_col5 {\n",
       "            : ;\n",
       "            text-align:  left;\n",
       "        }    #T_092cf22e_d5b5_11ea_8811_38f9d3db5c17row14_col6 {\n",
       "            : ;\n",
       "            text-align:  left;\n",
       "        }    #T_092cf22e_d5b5_11ea_8811_38f9d3db5c17row14_col7 {\n",
       "            : ;\n",
       "            text-align:  left;\n",
       "        }    #T_092cf22e_d5b5_11ea_8811_38f9d3db5c17row14_col8 {\n",
       "            background-color:  lightgrey;\n",
       "            text-align:  left;\n",
       "        }    #T_092cf22e_d5b5_11ea_8811_38f9d3db5c17row15_col0 {\n",
       "            text-align:  left;\n",
       "        }    #T_092cf22e_d5b5_11ea_8811_38f9d3db5c17row15_col1 {\n",
       "            : ;\n",
       "            text-align:  left;\n",
       "        }    #T_092cf22e_d5b5_11ea_8811_38f9d3db5c17row15_col2 {\n",
       "            : ;\n",
       "            text-align:  left;\n",
       "        }    #T_092cf22e_d5b5_11ea_8811_38f9d3db5c17row15_col3 {\n",
       "            background-color:  yellow;\n",
       "            text-align:  left;\n",
       "        }    #T_092cf22e_d5b5_11ea_8811_38f9d3db5c17row15_col4 {\n",
       "            : ;\n",
       "            text-align:  left;\n",
       "        }    #T_092cf22e_d5b5_11ea_8811_38f9d3db5c17row15_col5 {\n",
       "            : ;\n",
       "            text-align:  left;\n",
       "        }    #T_092cf22e_d5b5_11ea_8811_38f9d3db5c17row15_col6 {\n",
       "            : ;\n",
       "            text-align:  left;\n",
       "        }    #T_092cf22e_d5b5_11ea_8811_38f9d3db5c17row15_col7 {\n",
       "            : ;\n",
       "            text-align:  left;\n",
       "        }    #T_092cf22e_d5b5_11ea_8811_38f9d3db5c17row15_col8 {\n",
       "            background-color:  lightgrey;\n",
       "            text-align:  left;\n",
       "        }    #T_092cf22e_d5b5_11ea_8811_38f9d3db5c17row16_col0 {\n",
       "            text-align:  left;\n",
       "        }    #T_092cf22e_d5b5_11ea_8811_38f9d3db5c17row16_col1 {\n",
       "            : ;\n",
       "            text-align:  left;\n",
       "        }    #T_092cf22e_d5b5_11ea_8811_38f9d3db5c17row16_col2 {\n",
       "            : ;\n",
       "            text-align:  left;\n",
       "        }    #T_092cf22e_d5b5_11ea_8811_38f9d3db5c17row16_col3 {\n",
       "            : ;\n",
       "            text-align:  left;\n",
       "        }    #T_092cf22e_d5b5_11ea_8811_38f9d3db5c17row16_col4 {\n",
       "            : ;\n",
       "            text-align:  left;\n",
       "        }    #T_092cf22e_d5b5_11ea_8811_38f9d3db5c17row16_col5 {\n",
       "            : ;\n",
       "            text-align:  left;\n",
       "        }    #T_092cf22e_d5b5_11ea_8811_38f9d3db5c17row16_col6 {\n",
       "            : ;\n",
       "            text-align:  left;\n",
       "        }    #T_092cf22e_d5b5_11ea_8811_38f9d3db5c17row16_col7 {\n",
       "            : ;\n",
       "            text-align:  left;\n",
       "        }    #T_092cf22e_d5b5_11ea_8811_38f9d3db5c17row16_col8 {\n",
       "            background-color:  lightgrey;\n",
       "            text-align:  left;\n",
       "        }    #T_092cf22e_d5b5_11ea_8811_38f9d3db5c17row17_col0 {\n",
       "            text-align:  left;\n",
       "        }    #T_092cf22e_d5b5_11ea_8811_38f9d3db5c17row17_col1 {\n",
       "            : ;\n",
       "            text-align:  left;\n",
       "        }    #T_092cf22e_d5b5_11ea_8811_38f9d3db5c17row17_col2 {\n",
       "            : ;\n",
       "            text-align:  left;\n",
       "        }    #T_092cf22e_d5b5_11ea_8811_38f9d3db5c17row17_col3 {\n",
       "            : ;\n",
       "            text-align:  left;\n",
       "        }    #T_092cf22e_d5b5_11ea_8811_38f9d3db5c17row17_col4 {\n",
       "            : ;\n",
       "            text-align:  left;\n",
       "        }    #T_092cf22e_d5b5_11ea_8811_38f9d3db5c17row17_col5 {\n",
       "            : ;\n",
       "            text-align:  left;\n",
       "        }    #T_092cf22e_d5b5_11ea_8811_38f9d3db5c17row17_col6 {\n",
       "            : ;\n",
       "            text-align:  left;\n",
       "        }    #T_092cf22e_d5b5_11ea_8811_38f9d3db5c17row17_col7 {\n",
       "            : ;\n",
       "            text-align:  left;\n",
       "        }    #T_092cf22e_d5b5_11ea_8811_38f9d3db5c17row17_col8 {\n",
       "            background-color:  lightgrey;\n",
       "            text-align:  left;\n",
       "        }</style><table id=\"T_092cf22e_d5b5_11ea_8811_38f9d3db5c17\" ><thead>    <tr>        <th class=\"blank level0\" ></th>        <th class=\"col_heading level0 col0\" >Model</th>        <th class=\"col_heading level0 col1\" >Accuracy</th>        <th class=\"col_heading level0 col2\" >AUC</th>        <th class=\"col_heading level0 col3\" >Recall</th>        <th class=\"col_heading level0 col4\" >Prec.</th>        <th class=\"col_heading level0 col5\" >F1</th>        <th class=\"col_heading level0 col6\" >Kappa</th>        <th class=\"col_heading level0 col7\" >MCC</th>        <th class=\"col_heading level0 col8\" >TT (Sec)</th>    </tr></thead><tbody>\n",
       "                <tr>\n",
       "                        <th id=\"T_092cf22e_d5b5_11ea_8811_38f9d3db5c17level0_row0\" class=\"row_heading level0 row0\" >0</th>\n",
       "                        <td id=\"T_092cf22e_d5b5_11ea_8811_38f9d3db5c17row0_col0\" class=\"data row0 col0\" >CatBoost Classifier</td>\n",
       "                        <td id=\"T_092cf22e_d5b5_11ea_8811_38f9d3db5c17row0_col1\" class=\"data row0 col1\" >0.8201</td>\n",
       "                        <td id=\"T_092cf22e_d5b5_11ea_8811_38f9d3db5c17row0_col2\" class=\"data row0 col2\" >0.8790</td>\n",
       "                        <td id=\"T_092cf22e_d5b5_11ea_8811_38f9d3db5c17row0_col3\" class=\"data row0 col3\" >0.6986</td>\n",
       "                        <td id=\"T_092cf22e_d5b5_11ea_8811_38f9d3db5c17row0_col4\" class=\"data row0 col4\" >0.8113</td>\n",
       "                        <td id=\"T_092cf22e_d5b5_11ea_8811_38f9d3db5c17row0_col5\" class=\"data row0 col5\" >0.7463</td>\n",
       "                        <td id=\"T_092cf22e_d5b5_11ea_8811_38f9d3db5c17row0_col6\" class=\"data row0 col6\" >0.6089</td>\n",
       "                        <td id=\"T_092cf22e_d5b5_11ea_8811_38f9d3db5c17row0_col7\" class=\"data row0 col7\" >0.6166</td>\n",
       "                        <td id=\"T_092cf22e_d5b5_11ea_8811_38f9d3db5c17row0_col8\" class=\"data row0 col8\" >1.2530</td>\n",
       "            </tr>\n",
       "            <tr>\n",
       "                        <th id=\"T_092cf22e_d5b5_11ea_8811_38f9d3db5c17level0_row1\" class=\"row_heading level0 row1\" >1</th>\n",
       "                        <td id=\"T_092cf22e_d5b5_11ea_8811_38f9d3db5c17row1_col0\" class=\"data row1 col0\" >Gradient Boosting Classifier</td>\n",
       "                        <td id=\"T_092cf22e_d5b5_11ea_8811_38f9d3db5c17row1_col1\" class=\"data row1 col1\" >0.8168</td>\n",
       "                        <td id=\"T_092cf22e_d5b5_11ea_8811_38f9d3db5c17row1_col2\" class=\"data row1 col2\" >0.8746</td>\n",
       "                        <td id=\"T_092cf22e_d5b5_11ea_8811_38f9d3db5c17row1_col3\" class=\"data row1 col3\" >0.7071</td>\n",
       "                        <td id=\"T_092cf22e_d5b5_11ea_8811_38f9d3db5c17row1_col4\" class=\"data row1 col4\" >0.7959</td>\n",
       "                        <td id=\"T_092cf22e_d5b5_11ea_8811_38f9d3db5c17row1_col5\" class=\"data row1 col5\" >0.7466</td>\n",
       "                        <td id=\"T_092cf22e_d5b5_11ea_8811_38f9d3db5c17row1_col6\" class=\"data row1 col6\" >0.6044</td>\n",
       "                        <td id=\"T_092cf22e_d5b5_11ea_8811_38f9d3db5c17row1_col7\" class=\"data row1 col7\" >0.6089</td>\n",
       "                        <td id=\"T_092cf22e_d5b5_11ea_8811_38f9d3db5c17row1_col8\" class=\"data row1 col8\" >0.0966</td>\n",
       "            </tr>\n",
       "            <tr>\n",
       "                        <th id=\"T_092cf22e_d5b5_11ea_8811_38f9d3db5c17level0_row2\" class=\"row_heading level0 row2\" >2</th>\n",
       "                        <td id=\"T_092cf22e_d5b5_11ea_8811_38f9d3db5c17row2_col0\" class=\"data row2 col0\" >Linear Discriminant Analysis</td>\n",
       "                        <td id=\"T_092cf22e_d5b5_11ea_8811_38f9d3db5c17row2_col1\" class=\"data row2 col1\" >0.8185</td>\n",
       "                        <td id=\"T_092cf22e_d5b5_11ea_8811_38f9d3db5c17row2_col2\" class=\"data row2 col2\" >0.8700</td>\n",
       "                        <td id=\"T_092cf22e_d5b5_11ea_8811_38f9d3db5c17row2_col3\" class=\"data row2 col3\" >0.7361</td>\n",
       "                        <td id=\"T_092cf22e_d5b5_11ea_8811_38f9d3db5c17row2_col4\" class=\"data row2 col4\" >0.7816</td>\n",
       "                        <td id=\"T_092cf22e_d5b5_11ea_8811_38f9d3db5c17row2_col5\" class=\"data row2 col5\" >0.7547</td>\n",
       "                        <td id=\"T_092cf22e_d5b5_11ea_8811_38f9d3db5c17row2_col6\" class=\"data row2 col6\" >0.6113</td>\n",
       "                        <td id=\"T_092cf22e_d5b5_11ea_8811_38f9d3db5c17row2_col7\" class=\"data row2 col7\" >0.6152</td>\n",
       "                        <td id=\"T_092cf22e_d5b5_11ea_8811_38f9d3db5c17row2_col8\" class=\"data row2 col8\" >0.0141</td>\n",
       "            </tr>\n",
       "            <tr>\n",
       "                        <th id=\"T_092cf22e_d5b5_11ea_8811_38f9d3db5c17level0_row3\" class=\"row_heading level0 row3\" >3</th>\n",
       "                        <td id=\"T_092cf22e_d5b5_11ea_8811_38f9d3db5c17row3_col0\" class=\"data row3 col0\" >Logistic Regression</td>\n",
       "                        <td id=\"T_092cf22e_d5b5_11ea_8811_38f9d3db5c17row3_col1\" class=\"data row3 col1\" >0.8169</td>\n",
       "                        <td id=\"T_092cf22e_d5b5_11ea_8811_38f9d3db5c17row3_col2\" class=\"data row3 col2\" >0.8700</td>\n",
       "                        <td id=\"T_092cf22e_d5b5_11ea_8811_38f9d3db5c17row3_col3\" class=\"data row3 col3\" >0.7404</td>\n",
       "                        <td id=\"T_092cf22e_d5b5_11ea_8811_38f9d3db5c17row3_col4\" class=\"data row3 col4\" >0.7788</td>\n",
       "                        <td id=\"T_092cf22e_d5b5_11ea_8811_38f9d3db5c17row3_col5\" class=\"data row3 col5\" >0.7555</td>\n",
       "                        <td id=\"T_092cf22e_d5b5_11ea_8811_38f9d3db5c17row3_col6\" class=\"data row3 col6\" >0.6097</td>\n",
       "                        <td id=\"T_092cf22e_d5b5_11ea_8811_38f9d3db5c17row3_col7\" class=\"data row3 col7\" >0.6137</td>\n",
       "                        <td id=\"T_092cf22e_d5b5_11ea_8811_38f9d3db5c17row3_col8\" class=\"data row3 col8\" >0.0657</td>\n",
       "            </tr>\n",
       "            <tr>\n",
       "                        <th id=\"T_092cf22e_d5b5_11ea_8811_38f9d3db5c17level0_row4\" class=\"row_heading level0 row4\" >4</th>\n",
       "                        <td id=\"T_092cf22e_d5b5_11ea_8811_38f9d3db5c17row4_col0\" class=\"data row4 col0\" >Light Gradient Boosting Machine</td>\n",
       "                        <td id=\"T_092cf22e_d5b5_11ea_8811_38f9d3db5c17row4_col1\" class=\"data row4 col1\" >0.8072</td>\n",
       "                        <td id=\"T_092cf22e_d5b5_11ea_8811_38f9d3db5c17row4_col2\" class=\"data row4 col2\" >0.8613</td>\n",
       "                        <td id=\"T_092cf22e_d5b5_11ea_8811_38f9d3db5c17row4_col3\" class=\"data row4 col3\" >0.7114</td>\n",
       "                        <td id=\"T_092cf22e_d5b5_11ea_8811_38f9d3db5c17row4_col4\" class=\"data row4 col4\" >0.7715</td>\n",
       "                        <td id=\"T_092cf22e_d5b5_11ea_8811_38f9d3db5c17row4_col5\" class=\"data row4 col5\" >0.7367</td>\n",
       "                        <td id=\"T_092cf22e_d5b5_11ea_8811_38f9d3db5c17row4_col6\" class=\"data row4 col6\" >0.5858</td>\n",
       "                        <td id=\"T_092cf22e_d5b5_11ea_8811_38f9d3db5c17row4_col7\" class=\"data row4 col7\" >0.5899</td>\n",
       "                        <td id=\"T_092cf22e_d5b5_11ea_8811_38f9d3db5c17row4_col8\" class=\"data row4 col8\" >0.0423</td>\n",
       "            </tr>\n",
       "            <tr>\n",
       "                        <th id=\"T_092cf22e_d5b5_11ea_8811_38f9d3db5c17level0_row5\" class=\"row_heading level0 row5\" >5</th>\n",
       "                        <td id=\"T_092cf22e_d5b5_11ea_8811_38f9d3db5c17row5_col0\" class=\"data row5 col0\" >Gaussian Process Classifier</td>\n",
       "                        <td id=\"T_092cf22e_d5b5_11ea_8811_38f9d3db5c17row5_col1\" class=\"data row5 col1\" >0.7928</td>\n",
       "                        <td id=\"T_092cf22e_d5b5_11ea_8811_38f9d3db5c17row5_col2\" class=\"data row5 col2\" >0.8591</td>\n",
       "                        <td id=\"T_092cf22e_d5b5_11ea_8811_38f9d3db5c17row5_col3\" class=\"data row5 col3\" >0.6649</td>\n",
       "                        <td id=\"T_092cf22e_d5b5_11ea_8811_38f9d3db5c17row5_col4\" class=\"data row5 col4\" >0.7688</td>\n",
       "                        <td id=\"T_092cf22e_d5b5_11ea_8811_38f9d3db5c17row5_col5\" class=\"data row5 col5\" >0.7082</td>\n",
       "                        <td id=\"T_092cf22e_d5b5_11ea_8811_38f9d3db5c17row5_col6\" class=\"data row5 col6\" >0.5497</td>\n",
       "                        <td id=\"T_092cf22e_d5b5_11ea_8811_38f9d3db5c17row5_col7\" class=\"data row5 col7\" >0.5570</td>\n",
       "                        <td id=\"T_092cf22e_d5b5_11ea_8811_38f9d3db5c17row5_col8\" class=\"data row5 col8\" >0.1738</td>\n",
       "            </tr>\n",
       "            <tr>\n",
       "                        <th id=\"T_092cf22e_d5b5_11ea_8811_38f9d3db5c17level0_row6\" class=\"row_heading level0 row6\" >6</th>\n",
       "                        <td id=\"T_092cf22e_d5b5_11ea_8811_38f9d3db5c17row6_col0\" class=\"data row6 col0\" >MLP Classifier</td>\n",
       "                        <td id=\"T_092cf22e_d5b5_11ea_8811_38f9d3db5c17row6_col1\" class=\"data row6 col1\" >0.7993</td>\n",
       "                        <td id=\"T_092cf22e_d5b5_11ea_8811_38f9d3db5c17row6_col2\" class=\"data row6 col2\" >0.8566</td>\n",
       "                        <td id=\"T_092cf22e_d5b5_11ea_8811_38f9d3db5c17row6_col3\" class=\"data row6 col3\" >0.6688</td>\n",
       "                        <td id=\"T_092cf22e_d5b5_11ea_8811_38f9d3db5c17row6_col4\" class=\"data row6 col4\" >0.7826</td>\n",
       "                        <td id=\"T_092cf22e_d5b5_11ea_8811_38f9d3db5c17row6_col5\" class=\"data row6 col5\" >0.7175</td>\n",
       "                        <td id=\"T_092cf22e_d5b5_11ea_8811_38f9d3db5c17row6_col6\" class=\"data row6 col6\" >0.5637</td>\n",
       "                        <td id=\"T_092cf22e_d5b5_11ea_8811_38f9d3db5c17row6_col7\" class=\"data row6 col7\" >0.5709</td>\n",
       "                        <td id=\"T_092cf22e_d5b5_11ea_8811_38f9d3db5c17row6_col8\" class=\"data row6 col8\" >2.0312</td>\n",
       "            </tr>\n",
       "            <tr>\n",
       "                        <th id=\"T_092cf22e_d5b5_11ea_8811_38f9d3db5c17level0_row7\" class=\"row_heading level0 row7\" >7</th>\n",
       "                        <td id=\"T_092cf22e_d5b5_11ea_8811_38f9d3db5c17row7_col0\" class=\"data row7 col0\" >K Neighbors Classifier</td>\n",
       "                        <td id=\"T_092cf22e_d5b5_11ea_8811_38f9d3db5c17row7_col1\" class=\"data row7 col1\" >0.7913</td>\n",
       "                        <td id=\"T_092cf22e_d5b5_11ea_8811_38f9d3db5c17row7_col2\" class=\"data row7 col2\" >0.8550</td>\n",
       "                        <td id=\"T_092cf22e_d5b5_11ea_8811_38f9d3db5c17row7_col3\" class=\"data row7 col3\" >0.6855</td>\n",
       "                        <td id=\"T_092cf22e_d5b5_11ea_8811_38f9d3db5c17row7_col4\" class=\"data row7 col4\" >0.7530</td>\n",
       "                        <td id=\"T_092cf22e_d5b5_11ea_8811_38f9d3db5c17row7_col5\" class=\"data row7 col5\" >0.7144</td>\n",
       "                        <td id=\"T_092cf22e_d5b5_11ea_8811_38f9d3db5c17row7_col6\" class=\"data row7 col6\" >0.5509</td>\n",
       "                        <td id=\"T_092cf22e_d5b5_11ea_8811_38f9d3db5c17row7_col7\" class=\"data row7 col7\" >0.5552</td>\n",
       "                        <td id=\"T_092cf22e_d5b5_11ea_8811_38f9d3db5c17row7_col8\" class=\"data row7 col8\" >0.0035</td>\n",
       "            </tr>\n",
       "            <tr>\n",
       "                        <th id=\"T_092cf22e_d5b5_11ea_8811_38f9d3db5c17level0_row8\" class=\"row_heading level0 row8\" >8</th>\n",
       "                        <td id=\"T_092cf22e_d5b5_11ea_8811_38f9d3db5c17row8_col0\" class=\"data row8 col0\" >Extreme Gradient Boosting</td>\n",
       "                        <td id=\"T_092cf22e_d5b5_11ea_8811_38f9d3db5c17row8_col1\" class=\"data row8 col1\" >0.7880</td>\n",
       "                        <td id=\"T_092cf22e_d5b5_11ea_8811_38f9d3db5c17row8_col2\" class=\"data row8 col2\" >0.8518</td>\n",
       "                        <td id=\"T_092cf22e_d5b5_11ea_8811_38f9d3db5c17row8_col3\" class=\"data row8 col3\" >0.7116</td>\n",
       "                        <td id=\"T_092cf22e_d5b5_11ea_8811_38f9d3db5c17row8_col4\" class=\"data row8 col4\" >0.7303</td>\n",
       "                        <td id=\"T_092cf22e_d5b5_11ea_8811_38f9d3db5c17row8_col5\" class=\"data row8 col5\" >0.7180</td>\n",
       "                        <td id=\"T_092cf22e_d5b5_11ea_8811_38f9d3db5c17row8_col6\" class=\"data row8 col6\" >0.5488</td>\n",
       "                        <td id=\"T_092cf22e_d5b5_11ea_8811_38f9d3db5c17row8_col7\" class=\"data row8 col7\" >0.5516</td>\n",
       "                        <td id=\"T_092cf22e_d5b5_11ea_8811_38f9d3db5c17row8_col8\" class=\"data row8 col8\" >0.1021</td>\n",
       "            </tr>\n",
       "            <tr>\n",
       "                        <th id=\"T_092cf22e_d5b5_11ea_8811_38f9d3db5c17level0_row9\" class=\"row_heading level0 row9\" >9</th>\n",
       "                        <td id=\"T_092cf22e_d5b5_11ea_8811_38f9d3db5c17row9_col0\" class=\"data row9 col0\" >Ada Boost Classifier</td>\n",
       "                        <td id=\"T_092cf22e_d5b5_11ea_8811_38f9d3db5c17row9_col1\" class=\"data row9 col1\" >0.8073</td>\n",
       "                        <td id=\"T_092cf22e_d5b5_11ea_8811_38f9d3db5c17row9_col2\" class=\"data row9 col2\" >0.8512</td>\n",
       "                        <td id=\"T_092cf22e_d5b5_11ea_8811_38f9d3db5c17row9_col3\" class=\"data row9 col3\" >0.7404</td>\n",
       "                        <td id=\"T_092cf22e_d5b5_11ea_8811_38f9d3db5c17row9_col4\" class=\"data row9 col4\" >0.7561</td>\n",
       "                        <td id=\"T_092cf22e_d5b5_11ea_8811_38f9d3db5c17row9_col5\" class=\"data row9 col5\" >0.7460</td>\n",
       "                        <td id=\"T_092cf22e_d5b5_11ea_8811_38f9d3db5c17row9_col6\" class=\"data row9 col6\" >0.5910</td>\n",
       "                        <td id=\"T_092cf22e_d5b5_11ea_8811_38f9d3db5c17row9_col7\" class=\"data row9 col7\" >0.5933</td>\n",
       "                        <td id=\"T_092cf22e_d5b5_11ea_8811_38f9d3db5c17row9_col8\" class=\"data row9 col8\" >0.0822</td>\n",
       "            </tr>\n",
       "            <tr>\n",
       "                        <th id=\"T_092cf22e_d5b5_11ea_8811_38f9d3db5c17level0_row10\" class=\"row_heading level0 row10\" >10</th>\n",
       "                        <td id=\"T_092cf22e_d5b5_11ea_8811_38f9d3db5c17row10_col0\" class=\"data row10 col0\" >SVM - Radial Kernel</td>\n",
       "                        <td id=\"T_092cf22e_d5b5_11ea_8811_38f9d3db5c17row10_col1\" class=\"data row10 col1\" >0.8249</td>\n",
       "                        <td id=\"T_092cf22e_d5b5_11ea_8811_38f9d3db5c17row10_col2\" class=\"data row10 col2\" >0.8481</td>\n",
       "                        <td id=\"T_092cf22e_d5b5_11ea_8811_38f9d3db5c17row10_col3\" class=\"data row10 col3\" >0.7192</td>\n",
       "                        <td id=\"T_092cf22e_d5b5_11ea_8811_38f9d3db5c17row10_col4\" class=\"data row10 col4\" >0.8071</td>\n",
       "                        <td id=\"T_092cf22e_d5b5_11ea_8811_38f9d3db5c17row10_col5\" class=\"data row10 col5\" >0.7581</td>\n",
       "                        <td id=\"T_092cf22e_d5b5_11ea_8811_38f9d3db5c17row10_col6\" class=\"data row10 col6\" >0.6219</td>\n",
       "                        <td id=\"T_092cf22e_d5b5_11ea_8811_38f9d3db5c17row10_col7\" class=\"data row10 col7\" >0.6266</td>\n",
       "                        <td id=\"T_092cf22e_d5b5_11ea_8811_38f9d3db5c17row10_col8\" class=\"data row10 col8\" >0.0562</td>\n",
       "            </tr>\n",
       "            <tr>\n",
       "                        <th id=\"T_092cf22e_d5b5_11ea_8811_38f9d3db5c17level0_row11\" class=\"row_heading level0 row11\" >11</th>\n",
       "                        <td id=\"T_092cf22e_d5b5_11ea_8811_38f9d3db5c17row11_col0\" class=\"data row11 col0\" >Naive Bayes</td>\n",
       "                        <td id=\"T_092cf22e_d5b5_11ea_8811_38f9d3db5c17row11_col1\" class=\"data row11 col1\" >0.7945</td>\n",
       "                        <td id=\"T_092cf22e_d5b5_11ea_8811_38f9d3db5c17row11_col2\" class=\"data row11 col2\" >0.8429</td>\n",
       "                        <td id=\"T_092cf22e_d5b5_11ea_8811_38f9d3db5c17row11_col3\" class=\"data row11 col3\" >0.7025</td>\n",
       "                        <td id=\"T_092cf22e_d5b5_11ea_8811_38f9d3db5c17row11_col4\" class=\"data row11 col4\" >0.7516</td>\n",
       "                        <td id=\"T_092cf22e_d5b5_11ea_8811_38f9d3db5c17row11_col5\" class=\"data row11 col5\" >0.7227</td>\n",
       "                        <td id=\"T_092cf22e_d5b5_11ea_8811_38f9d3db5c17row11_col6\" class=\"data row11 col6\" >0.5601</td>\n",
       "                        <td id=\"T_092cf22e_d5b5_11ea_8811_38f9d3db5c17row11_col7\" class=\"data row11 col7\" >0.5642</td>\n",
       "                        <td id=\"T_092cf22e_d5b5_11ea_8811_38f9d3db5c17row11_col8\" class=\"data row11 col8\" >0.0037</td>\n",
       "            </tr>\n",
       "            <tr>\n",
       "                        <th id=\"T_092cf22e_d5b5_11ea_8811_38f9d3db5c17level0_row12\" class=\"row_heading level0 row12\" >12</th>\n",
       "                        <td id=\"T_092cf22e_d5b5_11ea_8811_38f9d3db5c17row12_col0\" class=\"data row12 col0\" >Random Forest Classifier</td>\n",
       "                        <td id=\"T_092cf22e_d5b5_11ea_8811_38f9d3db5c17row12_col1\" class=\"data row12 col1\" >0.7863</td>\n",
       "                        <td id=\"T_092cf22e_d5b5_11ea_8811_38f9d3db5c17row12_col2\" class=\"data row12 col2\" >0.8392</td>\n",
       "                        <td id=\"T_092cf22e_d5b5_11ea_8811_38f9d3db5c17row12_col3\" class=\"data row12 col3\" >0.7072</td>\n",
       "                        <td id=\"T_092cf22e_d5b5_11ea_8811_38f9d3db5c17row12_col4\" class=\"data row12 col4\" >0.7297</td>\n",
       "                        <td id=\"T_092cf22e_d5b5_11ea_8811_38f9d3db5c17row12_col5\" class=\"data row12 col5\" >0.7148</td>\n",
       "                        <td id=\"T_092cf22e_d5b5_11ea_8811_38f9d3db5c17row12_col6\" class=\"data row12 col6\" >0.5447</td>\n",
       "                        <td id=\"T_092cf22e_d5b5_11ea_8811_38f9d3db5c17row12_col7\" class=\"data row12 col7\" >0.5478</td>\n",
       "                        <td id=\"T_092cf22e_d5b5_11ea_8811_38f9d3db5c17row12_col8\" class=\"data row12 col8\" >0.0254</td>\n",
       "            </tr>\n",
       "            <tr>\n",
       "                        <th id=\"T_092cf22e_d5b5_11ea_8811_38f9d3db5c17level0_row13\" class=\"row_heading level0 row13\" >13</th>\n",
       "                        <td id=\"T_092cf22e_d5b5_11ea_8811_38f9d3db5c17row13_col0\" class=\"data row13 col0\" >Extra Trees Classifier</td>\n",
       "                        <td id=\"T_092cf22e_d5b5_11ea_8811_38f9d3db5c17row13_col1\" class=\"data row13 col1\" >0.7944</td>\n",
       "                        <td id=\"T_092cf22e_d5b5_11ea_8811_38f9d3db5c17row13_col2\" class=\"data row13 col2\" >0.8282</td>\n",
       "                        <td id=\"T_092cf22e_d5b5_11ea_8811_38f9d3db5c17row13_col3\" class=\"data row13 col3\" >0.7197</td>\n",
       "                        <td id=\"T_092cf22e_d5b5_11ea_8811_38f9d3db5c17row13_col4\" class=\"data row13 col4\" >0.7381</td>\n",
       "                        <td id=\"T_092cf22e_d5b5_11ea_8811_38f9d3db5c17row13_col5\" class=\"data row13 col5\" >0.7264</td>\n",
       "                        <td id=\"T_092cf22e_d5b5_11ea_8811_38f9d3db5c17row13_col6\" class=\"data row13 col6\" >0.5623</td>\n",
       "                        <td id=\"T_092cf22e_d5b5_11ea_8811_38f9d3db5c17row13_col7\" class=\"data row13 col7\" >0.5644</td>\n",
       "                        <td id=\"T_092cf22e_d5b5_11ea_8811_38f9d3db5c17row13_col8\" class=\"data row13 col8\" >0.1286</td>\n",
       "            </tr>\n",
       "            <tr>\n",
       "                        <th id=\"T_092cf22e_d5b5_11ea_8811_38f9d3db5c17level0_row14\" class=\"row_heading level0 row14\" >14</th>\n",
       "                        <td id=\"T_092cf22e_d5b5_11ea_8811_38f9d3db5c17row14_col0\" class=\"data row14 col0\" >Decision Tree Classifier</td>\n",
       "                        <td id=\"T_092cf22e_d5b5_11ea_8811_38f9d3db5c17row14_col1\" class=\"data row14 col1\" >0.7414</td>\n",
       "                        <td id=\"T_092cf22e_d5b5_11ea_8811_38f9d3db5c17row14_col2\" class=\"data row14 col2\" >0.7358</td>\n",
       "                        <td id=\"T_092cf22e_d5b5_11ea_8811_38f9d3db5c17row14_col3\" class=\"data row14 col3\" >0.6783</td>\n",
       "                        <td id=\"T_092cf22e_d5b5_11ea_8811_38f9d3db5c17row14_col4\" class=\"data row14 col4\" >0.6583</td>\n",
       "                        <td id=\"T_092cf22e_d5b5_11ea_8811_38f9d3db5c17row14_col5\" class=\"data row14 col5\" >0.6668</td>\n",
       "                        <td id=\"T_092cf22e_d5b5_11ea_8811_38f9d3db5c17row14_col6\" class=\"data row14 col6\" >0.4559</td>\n",
       "                        <td id=\"T_092cf22e_d5b5_11ea_8811_38f9d3db5c17row14_col7\" class=\"data row14 col7\" >0.4574</td>\n",
       "                        <td id=\"T_092cf22e_d5b5_11ea_8811_38f9d3db5c17row14_col8\" class=\"data row14 col8\" >0.0069</td>\n",
       "            </tr>\n",
       "            <tr>\n",
       "                        <th id=\"T_092cf22e_d5b5_11ea_8811_38f9d3db5c17level0_row15\" class=\"row_heading level0 row15\" >15</th>\n",
       "                        <td id=\"T_092cf22e_d5b5_11ea_8811_38f9d3db5c17row15_col0\" class=\"data row15 col0\" >Quadratic Discriminant Analysis</td>\n",
       "                        <td id=\"T_092cf22e_d5b5_11ea_8811_38f9d3db5c17row15_col1\" class=\"data row15 col1\" >0.4526</td>\n",
       "                        <td id=\"T_092cf22e_d5b5_11ea_8811_38f9d3db5c17row15_col2\" class=\"data row15 col2\" >0.5474</td>\n",
       "                        <td id=\"T_092cf22e_d5b5_11ea_8811_38f9d3db5c17row15_col3\" class=\"data row15 col3\" >0.9333</td>\n",
       "                        <td id=\"T_092cf22e_d5b5_11ea_8811_38f9d3db5c17row15_col4\" class=\"data row15 col4\" >0.4206</td>\n",
       "                        <td id=\"T_092cf22e_d5b5_11ea_8811_38f9d3db5c17row15_col5\" class=\"data row15 col5\" >0.5718</td>\n",
       "                        <td id=\"T_092cf22e_d5b5_11ea_8811_38f9d3db5c17row15_col6\" class=\"data row15 col6\" >0.0791</td>\n",
       "                        <td id=\"T_092cf22e_d5b5_11ea_8811_38f9d3db5c17row15_col7\" class=\"data row15 col7\" >0.0993</td>\n",
       "                        <td id=\"T_092cf22e_d5b5_11ea_8811_38f9d3db5c17row15_col8\" class=\"data row15 col8\" >0.0042</td>\n",
       "            </tr>\n",
       "            <tr>\n",
       "                        <th id=\"T_092cf22e_d5b5_11ea_8811_38f9d3db5c17level0_row16\" class=\"row_heading level0 row16\" >16</th>\n",
       "                        <td id=\"T_092cf22e_d5b5_11ea_8811_38f9d3db5c17row16_col0\" class=\"data row16 col0\" >SVM - Linear Kernel</td>\n",
       "                        <td id=\"T_092cf22e_d5b5_11ea_8811_38f9d3db5c17row16_col1\" class=\"data row16 col1\" >0.7799</td>\n",
       "                        <td id=\"T_092cf22e_d5b5_11ea_8811_38f9d3db5c17row16_col2\" class=\"data row16 col2\" >0.0000</td>\n",
       "                        <td id=\"T_092cf22e_d5b5_11ea_8811_38f9d3db5c17row16_col3\" class=\"data row16 col3\" >0.6553</td>\n",
       "                        <td id=\"T_092cf22e_d5b5_11ea_8811_38f9d3db5c17row16_col4\" class=\"data row16 col4\" >0.7668</td>\n",
       "                        <td id=\"T_092cf22e_d5b5_11ea_8811_38f9d3db5c17row16_col5\" class=\"data row16 col5\" >0.6849</td>\n",
       "                        <td id=\"T_092cf22e_d5b5_11ea_8811_38f9d3db5c17row16_col6\" class=\"data row16 col6\" >0.5211</td>\n",
       "                        <td id=\"T_092cf22e_d5b5_11ea_8811_38f9d3db5c17row16_col7\" class=\"data row16 col7\" >0.5387</td>\n",
       "                        <td id=\"T_092cf22e_d5b5_11ea_8811_38f9d3db5c17row16_col8\" class=\"data row16 col8\" >0.0087</td>\n",
       "            </tr>\n",
       "            <tr>\n",
       "                        <th id=\"T_092cf22e_d5b5_11ea_8811_38f9d3db5c17level0_row17\" class=\"row_heading level0 row17\" >17</th>\n",
       "                        <td id=\"T_092cf22e_d5b5_11ea_8811_38f9d3db5c17row17_col0\" class=\"data row17 col0\" >Ridge Classifier</td>\n",
       "                        <td id=\"T_092cf22e_d5b5_11ea_8811_38f9d3db5c17row17_col1\" class=\"data row17 col1\" >0.8169</td>\n",
       "                        <td id=\"T_092cf22e_d5b5_11ea_8811_38f9d3db5c17row17_col2\" class=\"data row17 col2\" >0.0000</td>\n",
       "                        <td id=\"T_092cf22e_d5b5_11ea_8811_38f9d3db5c17row17_col3\" class=\"data row17 col3\" >0.7319</td>\n",
       "                        <td id=\"T_092cf22e_d5b5_11ea_8811_38f9d3db5c17row17_col4\" class=\"data row17 col4\" >0.7806</td>\n",
       "                        <td id=\"T_092cf22e_d5b5_11ea_8811_38f9d3db5c17row17_col5\" class=\"data row17 col5\" >0.7521</td>\n",
       "                        <td id=\"T_092cf22e_d5b5_11ea_8811_38f9d3db5c17row17_col6\" class=\"data row17 col6\" >0.6076</td>\n",
       "                        <td id=\"T_092cf22e_d5b5_11ea_8811_38f9d3db5c17row17_col7\" class=\"data row17 col7\" >0.6115</td>\n",
       "                        <td id=\"T_092cf22e_d5b5_11ea_8811_38f9d3db5c17row17_col8\" class=\"data row17 col8\" >0.0060</td>\n",
       "            </tr>\n",
       "    </tbody></table>"
      ],
      "text/plain": [
       "<pandas.io.formats.style.Styler at 0x128952460>"
      ]
     },
     "metadata": {},
     "output_type": "display_data"
    }
   ],
   "source": [
    "# automatically compare all models \n",
    "best_classification_models_2 = classification.compare_models(\n",
    "    turbo=False,\n",
    "    n_select=5,\n",
    "    sort='AUC',\n",
    ")"
   ]
  },
  {
   "cell_type": "code",
   "execution_count": 14,
   "metadata": {},
   "outputs": [
    {
     "data": {
      "text/html": [
       "<div>\n",
       "<style scoped>\n",
       "    .dataframe tbody tr th:only-of-type {\n",
       "        vertical-align: middle;\n",
       "    }\n",
       "\n",
       "    .dataframe tbody tr th {\n",
       "        vertical-align: top;\n",
       "    }\n",
       "\n",
       "    .dataframe thead th {\n",
       "        text-align: right;\n",
       "    }\n",
       "</style>\n",
       "<table border=\"1\" class=\"dataframe\">\n",
       "  <thead>\n",
       "    <tr style=\"text-align: right;\">\n",
       "      <th></th>\n",
       "      <th>Name</th>\n",
       "      <th>Reference</th>\n",
       "      <th>Turbo</th>\n",
       "    </tr>\n",
       "    <tr>\n",
       "      <th>ID</th>\n",
       "      <th></th>\n",
       "      <th></th>\n",
       "      <th></th>\n",
       "    </tr>\n",
       "  </thead>\n",
       "  <tbody>\n",
       "    <tr>\n",
       "      <th>lr</th>\n",
       "      <td>Logistic Regression</td>\n",
       "      <td>sklearn.linear_model.LogisticRegression</td>\n",
       "      <td>True</td>\n",
       "    </tr>\n",
       "    <tr>\n",
       "      <th>knn</th>\n",
       "      <td>K Neighbors Classifier</td>\n",
       "      <td>sklearn.neighbors.KNeighborsClassifier</td>\n",
       "      <td>True</td>\n",
       "    </tr>\n",
       "    <tr>\n",
       "      <th>nb</th>\n",
       "      <td>Naive Bayes</td>\n",
       "      <td>sklearn.naive_bayes.GaussianNB</td>\n",
       "      <td>True</td>\n",
       "    </tr>\n",
       "    <tr>\n",
       "      <th>dt</th>\n",
       "      <td>Decision Tree Classifier</td>\n",
       "      <td>sklearn.tree.DecisionTreeClassifier</td>\n",
       "      <td>True</td>\n",
       "    </tr>\n",
       "    <tr>\n",
       "      <th>svm</th>\n",
       "      <td>SVM - Linear Kernel</td>\n",
       "      <td>sklearn.linear_model.SGDClassifier</td>\n",
       "      <td>True</td>\n",
       "    </tr>\n",
       "    <tr>\n",
       "      <th>rbfsvm</th>\n",
       "      <td>SVM - Radial Kernel</td>\n",
       "      <td>sklearn.svm.SVC</td>\n",
       "      <td>False</td>\n",
       "    </tr>\n",
       "    <tr>\n",
       "      <th>gpc</th>\n",
       "      <td>Gaussian Process Classifier</td>\n",
       "      <td>sklearn.gaussian_process.GPC</td>\n",
       "      <td>False</td>\n",
       "    </tr>\n",
       "    <tr>\n",
       "      <th>mlp</th>\n",
       "      <td>MLP Classifier</td>\n",
       "      <td>sklearn.neural_network.MLPClassifier</td>\n",
       "      <td>False</td>\n",
       "    </tr>\n",
       "    <tr>\n",
       "      <th>ridge</th>\n",
       "      <td>Ridge Classifier</td>\n",
       "      <td>sklearn.linear_model.RidgeClassifier</td>\n",
       "      <td>True</td>\n",
       "    </tr>\n",
       "    <tr>\n",
       "      <th>rf</th>\n",
       "      <td>Random Forest Classifier</td>\n",
       "      <td>sklearn.ensemble.RandomForestClassifier</td>\n",
       "      <td>True</td>\n",
       "    </tr>\n",
       "    <tr>\n",
       "      <th>qda</th>\n",
       "      <td>Quadratic Discriminant Analysis</td>\n",
       "      <td>sklearn.discriminant_analysis.QDA</td>\n",
       "      <td>True</td>\n",
       "    </tr>\n",
       "    <tr>\n",
       "      <th>ada</th>\n",
       "      <td>Ada Boost Classifier</td>\n",
       "      <td>sklearn.ensemble.AdaBoostClassifier</td>\n",
       "      <td>True</td>\n",
       "    </tr>\n",
       "    <tr>\n",
       "      <th>gbc</th>\n",
       "      <td>Gradient Boosting Classifier</td>\n",
       "      <td>sklearn.ensemble.GradientBoostingClassifier</td>\n",
       "      <td>True</td>\n",
       "    </tr>\n",
       "    <tr>\n",
       "      <th>lda</th>\n",
       "      <td>Linear Discriminant Analysis</td>\n",
       "      <td>sklearn.discriminant_analysis.LDA</td>\n",
       "      <td>True</td>\n",
       "    </tr>\n",
       "    <tr>\n",
       "      <th>et</th>\n",
       "      <td>Extra Trees Classifier</td>\n",
       "      <td>sklearn.ensemble.ExtraTreesClassifier</td>\n",
       "      <td>True</td>\n",
       "    </tr>\n",
       "    <tr>\n",
       "      <th>xgboost</th>\n",
       "      <td>Extreme Gradient Boosting</td>\n",
       "      <td>xgboost.readthedocs.io</td>\n",
       "      <td>True</td>\n",
       "    </tr>\n",
       "    <tr>\n",
       "      <th>lightgbm</th>\n",
       "      <td>Light Gradient Boosting Machine</td>\n",
       "      <td>github.com/microsoft/LightGBM</td>\n",
       "      <td>True</td>\n",
       "    </tr>\n",
       "    <tr>\n",
       "      <th>catboost</th>\n",
       "      <td>CatBoost Classifier</td>\n",
       "      <td>catboost.ai</td>\n",
       "      <td>True</td>\n",
       "    </tr>\n",
       "  </tbody>\n",
       "</table>\n",
       "</div>"
      ],
      "text/plain": [
       "                                     Name  \\\n",
       "ID                                          \n",
       "lr                    Logistic Regression   \n",
       "knn                K Neighbors Classifier   \n",
       "nb                            Naive Bayes   \n",
       "dt               Decision Tree Classifier   \n",
       "svm                   SVM - Linear Kernel   \n",
       "rbfsvm                SVM - Radial Kernel   \n",
       "gpc           Gaussian Process Classifier   \n",
       "mlp                        MLP Classifier   \n",
       "ridge                    Ridge Classifier   \n",
       "rf               Random Forest Classifier   \n",
       "qda       Quadratic Discriminant Analysis   \n",
       "ada                  Ada Boost Classifier   \n",
       "gbc          Gradient Boosting Classifier   \n",
       "lda          Linear Discriminant Analysis   \n",
       "et                 Extra Trees Classifier   \n",
       "xgboost         Extreme Gradient Boosting   \n",
       "lightgbm  Light Gradient Boosting Machine   \n",
       "catboost              CatBoost Classifier   \n",
       "\n",
       "                                            Reference  Turbo  \n",
       "ID                                                            \n",
       "lr            sklearn.linear_model.LogisticRegression   True  \n",
       "knn            sklearn.neighbors.KNeighborsClassifier   True  \n",
       "nb                     sklearn.naive_bayes.GaussianNB   True  \n",
       "dt                sklearn.tree.DecisionTreeClassifier   True  \n",
       "svm                sklearn.linear_model.SGDClassifier   True  \n",
       "rbfsvm                                sklearn.svm.SVC  False  \n",
       "gpc                      sklearn.gaussian_process.GPC  False  \n",
       "mlp              sklearn.neural_network.MLPClassifier  False  \n",
       "ridge            sklearn.linear_model.RidgeClassifier   True  \n",
       "rf            sklearn.ensemble.RandomForestClassifier   True  \n",
       "qda                 sklearn.discriminant_analysis.QDA   True  \n",
       "ada               sklearn.ensemble.AdaBoostClassifier   True  \n",
       "gbc       sklearn.ensemble.GradientBoostingClassifier   True  \n",
       "lda                 sklearn.discriminant_analysis.LDA   True  \n",
       "et              sklearn.ensemble.ExtraTreesClassifier   True  \n",
       "xgboost                        xgboost.readthedocs.io   True  \n",
       "lightgbm                github.com/microsoft/LightGBM   True  \n",
       "catboost                                  catboost.ai   True  "
      ]
     },
     "execution_count": 14,
     "metadata": {},
     "output_type": "execute_result"
    }
   ],
   "source": [
    "# models info\n",
    "classification.models()"
   ]
  },
  {
   "cell_type": "code",
   "execution_count": 15,
   "metadata": {},
   "outputs": [
    {
     "data": {
      "text/html": [
       "<style  type=\"text/css\" >\n",
       "    #T_0a01ecea_d5b5_11ea_8811_38f9d3db5c17row10_col0 {\n",
       "            background:  yellow;\n",
       "        }    #T_0a01ecea_d5b5_11ea_8811_38f9d3db5c17row10_col1 {\n",
       "            background:  yellow;\n",
       "        }    #T_0a01ecea_d5b5_11ea_8811_38f9d3db5c17row10_col2 {\n",
       "            background:  yellow;\n",
       "        }    #T_0a01ecea_d5b5_11ea_8811_38f9d3db5c17row10_col3 {\n",
       "            background:  yellow;\n",
       "        }    #T_0a01ecea_d5b5_11ea_8811_38f9d3db5c17row10_col4 {\n",
       "            background:  yellow;\n",
       "        }    #T_0a01ecea_d5b5_11ea_8811_38f9d3db5c17row10_col5 {\n",
       "            background:  yellow;\n",
       "        }    #T_0a01ecea_d5b5_11ea_8811_38f9d3db5c17row10_col6 {\n",
       "            background:  yellow;\n",
       "        }</style><table id=\"T_0a01ecea_d5b5_11ea_8811_38f9d3db5c17\" ><thead>    <tr>        <th class=\"blank level0\" ></th>        <th class=\"col_heading level0 col0\" >Accuracy</th>        <th class=\"col_heading level0 col1\" >AUC</th>        <th class=\"col_heading level0 col2\" >Recall</th>        <th class=\"col_heading level0 col3\" >Prec.</th>        <th class=\"col_heading level0 col4\" >F1</th>        <th class=\"col_heading level0 col5\" >Kappa</th>        <th class=\"col_heading level0 col6\" >MCC</th>    </tr></thead><tbody>\n",
       "                <tr>\n",
       "                        <th id=\"T_0a01ecea_d5b5_11ea_8811_38f9d3db5c17level0_row0\" class=\"row_heading level0 row0\" >0</th>\n",
       "                        <td id=\"T_0a01ecea_d5b5_11ea_8811_38f9d3db5c17row0_col0\" class=\"data row0 col0\" >0.8730</td>\n",
       "                        <td id=\"T_0a01ecea_d5b5_11ea_8811_38f9d3db5c17row0_col1\" class=\"data row0 col1\" >0.8868</td>\n",
       "                        <td id=\"T_0a01ecea_d5b5_11ea_8811_38f9d3db5c17row0_col2\" class=\"data row0 col2\" >0.8333</td>\n",
       "                        <td id=\"T_0a01ecea_d5b5_11ea_8811_38f9d3db5c17row0_col3\" class=\"data row0 col3\" >0.8333</td>\n",
       "                        <td id=\"T_0a01ecea_d5b5_11ea_8811_38f9d3db5c17row0_col4\" class=\"data row0 col4\" >0.8333</td>\n",
       "                        <td id=\"T_0a01ecea_d5b5_11ea_8811_38f9d3db5c17row0_col5\" class=\"data row0 col5\" >0.7308</td>\n",
       "                        <td id=\"T_0a01ecea_d5b5_11ea_8811_38f9d3db5c17row0_col6\" class=\"data row0 col6\" >0.7308</td>\n",
       "            </tr>\n",
       "            <tr>\n",
       "                        <th id=\"T_0a01ecea_d5b5_11ea_8811_38f9d3db5c17level0_row1\" class=\"row_heading level0 row1\" >1</th>\n",
       "                        <td id=\"T_0a01ecea_d5b5_11ea_8811_38f9d3db5c17row1_col0\" class=\"data row1 col0\" >0.7937</td>\n",
       "                        <td id=\"T_0a01ecea_d5b5_11ea_8811_38f9d3db5c17row1_col1\" class=\"data row1 col1\" >0.8483</td>\n",
       "                        <td id=\"T_0a01ecea_d5b5_11ea_8811_38f9d3db5c17row1_col2\" class=\"data row1 col2\" >0.7500</td>\n",
       "                        <td id=\"T_0a01ecea_d5b5_11ea_8811_38f9d3db5c17row1_col3\" class=\"data row1 col3\" >0.7200</td>\n",
       "                        <td id=\"T_0a01ecea_d5b5_11ea_8811_38f9d3db5c17row1_col4\" class=\"data row1 col4\" >0.7347</td>\n",
       "                        <td id=\"T_0a01ecea_d5b5_11ea_8811_38f9d3db5c17row1_col5\" class=\"data row1 col5\" >0.5660</td>\n",
       "                        <td id=\"T_0a01ecea_d5b5_11ea_8811_38f9d3db5c17row1_col6\" class=\"data row1 col6\" >0.5663</td>\n",
       "            </tr>\n",
       "            <tr>\n",
       "                        <th id=\"T_0a01ecea_d5b5_11ea_8811_38f9d3db5c17level0_row2\" class=\"row_heading level0 row2\" >2</th>\n",
       "                        <td id=\"T_0a01ecea_d5b5_11ea_8811_38f9d3db5c17row2_col0\" class=\"data row2 col0\" >0.8254</td>\n",
       "                        <td id=\"T_0a01ecea_d5b5_11ea_8811_38f9d3db5c17row2_col1\" class=\"data row2 col1\" >0.8787</td>\n",
       "                        <td id=\"T_0a01ecea_d5b5_11ea_8811_38f9d3db5c17row2_col2\" class=\"data row2 col2\" >0.7500</td>\n",
       "                        <td id=\"T_0a01ecea_d5b5_11ea_8811_38f9d3db5c17row2_col3\" class=\"data row2 col3\" >0.7826</td>\n",
       "                        <td id=\"T_0a01ecea_d5b5_11ea_8811_38f9d3db5c17row2_col4\" class=\"data row2 col4\" >0.7660</td>\n",
       "                        <td id=\"T_0a01ecea_d5b5_11ea_8811_38f9d3db5c17row2_col5\" class=\"data row2 col5\" >0.6268</td>\n",
       "                        <td id=\"T_0a01ecea_d5b5_11ea_8811_38f9d3db5c17row2_col6\" class=\"data row2 col6\" >0.6272</td>\n",
       "            </tr>\n",
       "            <tr>\n",
       "                        <th id=\"T_0a01ecea_d5b5_11ea_8811_38f9d3db5c17level0_row3\" class=\"row_heading level0 row3\" >3</th>\n",
       "                        <td id=\"T_0a01ecea_d5b5_11ea_8811_38f9d3db5c17row3_col0\" class=\"data row3 col0\" >0.8226</td>\n",
       "                        <td id=\"T_0a01ecea_d5b5_11ea_8811_38f9d3db5c17row3_col1\" class=\"data row3 col1\" >0.8980</td>\n",
       "                        <td id=\"T_0a01ecea_d5b5_11ea_8811_38f9d3db5c17row3_col2\" class=\"data row3 col2\" >0.7391</td>\n",
       "                        <td id=\"T_0a01ecea_d5b5_11ea_8811_38f9d3db5c17row3_col3\" class=\"data row3 col3\" >0.7727</td>\n",
       "                        <td id=\"T_0a01ecea_d5b5_11ea_8811_38f9d3db5c17row3_col4\" class=\"data row3 col4\" >0.7556</td>\n",
       "                        <td id=\"T_0a01ecea_d5b5_11ea_8811_38f9d3db5c17row3_col5\" class=\"data row3 col5\" >0.6164</td>\n",
       "                        <td id=\"T_0a01ecea_d5b5_11ea_8811_38f9d3db5c17row3_col6\" class=\"data row3 col6\" >0.6168</td>\n",
       "            </tr>\n",
       "            <tr>\n",
       "                        <th id=\"T_0a01ecea_d5b5_11ea_8811_38f9d3db5c17level0_row4\" class=\"row_heading level0 row4\" >4</th>\n",
       "                        <td id=\"T_0a01ecea_d5b5_11ea_8811_38f9d3db5c17row4_col0\" class=\"data row4 col0\" >0.8226</td>\n",
       "                        <td id=\"T_0a01ecea_d5b5_11ea_8811_38f9d3db5c17row4_col1\" class=\"data row4 col1\" >0.8372</td>\n",
       "                        <td id=\"T_0a01ecea_d5b5_11ea_8811_38f9d3db5c17row4_col2\" class=\"data row4 col2\" >0.7500</td>\n",
       "                        <td id=\"T_0a01ecea_d5b5_11ea_8811_38f9d3db5c17row4_col3\" class=\"data row4 col3\" >0.7826</td>\n",
       "                        <td id=\"T_0a01ecea_d5b5_11ea_8811_38f9d3db5c17row4_col4\" class=\"data row4 col4\" >0.7660</td>\n",
       "                        <td id=\"T_0a01ecea_d5b5_11ea_8811_38f9d3db5c17row4_col5\" class=\"data row4 col5\" >0.6232</td>\n",
       "                        <td id=\"T_0a01ecea_d5b5_11ea_8811_38f9d3db5c17row4_col6\" class=\"data row4 col6\" >0.6236</td>\n",
       "            </tr>\n",
       "            <tr>\n",
       "                        <th id=\"T_0a01ecea_d5b5_11ea_8811_38f9d3db5c17level0_row5\" class=\"row_heading level0 row5\" >5</th>\n",
       "                        <td id=\"T_0a01ecea_d5b5_11ea_8811_38f9d3db5c17row5_col0\" class=\"data row5 col0\" >0.7258</td>\n",
       "                        <td id=\"T_0a01ecea_d5b5_11ea_8811_38f9d3db5c17row5_col1\" class=\"data row5 col1\" >0.8081</td>\n",
       "                        <td id=\"T_0a01ecea_d5b5_11ea_8811_38f9d3db5c17row5_col2\" class=\"data row5 col2\" >0.5833</td>\n",
       "                        <td id=\"T_0a01ecea_d5b5_11ea_8811_38f9d3db5c17row5_col3\" class=\"data row5 col3\" >0.6667</td>\n",
       "                        <td id=\"T_0a01ecea_d5b5_11ea_8811_38f9d3db5c17row5_col4\" class=\"data row5 col4\" >0.6222</td>\n",
       "                        <td id=\"T_0a01ecea_d5b5_11ea_8811_38f9d3db5c17row5_col5\" class=\"data row5 col5\" >0.4085</td>\n",
       "                        <td id=\"T_0a01ecea_d5b5_11ea_8811_38f9d3db5c17row5_col6\" class=\"data row5 col6\" >0.4108</td>\n",
       "            </tr>\n",
       "            <tr>\n",
       "                        <th id=\"T_0a01ecea_d5b5_11ea_8811_38f9d3db5c17level0_row6\" class=\"row_heading level0 row6\" >6</th>\n",
       "                        <td id=\"T_0a01ecea_d5b5_11ea_8811_38f9d3db5c17row6_col0\" class=\"data row6 col0\" >0.7097</td>\n",
       "                        <td id=\"T_0a01ecea_d5b5_11ea_8811_38f9d3db5c17row6_col1\" class=\"data row6 col1\" >0.8098</td>\n",
       "                        <td id=\"T_0a01ecea_d5b5_11ea_8811_38f9d3db5c17row6_col2\" class=\"data row6 col2\" >0.6250</td>\n",
       "                        <td id=\"T_0a01ecea_d5b5_11ea_8811_38f9d3db5c17row6_col3\" class=\"data row6 col3\" >0.6250</td>\n",
       "                        <td id=\"T_0a01ecea_d5b5_11ea_8811_38f9d3db5c17row6_col4\" class=\"data row6 col4\" >0.6250</td>\n",
       "                        <td id=\"T_0a01ecea_d5b5_11ea_8811_38f9d3db5c17row6_col5\" class=\"data row6 col5\" >0.3882</td>\n",
       "                        <td id=\"T_0a01ecea_d5b5_11ea_8811_38f9d3db5c17row6_col6\" class=\"data row6 col6\" >0.3882</td>\n",
       "            </tr>\n",
       "            <tr>\n",
       "                        <th id=\"T_0a01ecea_d5b5_11ea_8811_38f9d3db5c17level0_row7\" class=\"row_heading level0 row7\" >7</th>\n",
       "                        <td id=\"T_0a01ecea_d5b5_11ea_8811_38f9d3db5c17row7_col0\" class=\"data row7 col0\" >0.7258</td>\n",
       "                        <td id=\"T_0a01ecea_d5b5_11ea_8811_38f9d3db5c17row7_col1\" class=\"data row7 col1\" >0.7719</td>\n",
       "                        <td id=\"T_0a01ecea_d5b5_11ea_8811_38f9d3db5c17row7_col2\" class=\"data row7 col2\" >0.6667</td>\n",
       "                        <td id=\"T_0a01ecea_d5b5_11ea_8811_38f9d3db5c17row7_col3\" class=\"data row7 col3\" >0.6400</td>\n",
       "                        <td id=\"T_0a01ecea_d5b5_11ea_8811_38f9d3db5c17row7_col4\" class=\"data row7 col4\" >0.6531</td>\n",
       "                        <td id=\"T_0a01ecea_d5b5_11ea_8811_38f9d3db5c17row7_col5\" class=\"data row7 col5\" >0.4266</td>\n",
       "                        <td id=\"T_0a01ecea_d5b5_11ea_8811_38f9d3db5c17row7_col6\" class=\"data row7 col6\" >0.4268</td>\n",
       "            </tr>\n",
       "            <tr>\n",
       "                        <th id=\"T_0a01ecea_d5b5_11ea_8811_38f9d3db5c17level0_row8\" class=\"row_heading level0 row8\" >8</th>\n",
       "                        <td id=\"T_0a01ecea_d5b5_11ea_8811_38f9d3db5c17row8_col0\" class=\"data row8 col0\" >0.8226</td>\n",
       "                        <td id=\"T_0a01ecea_d5b5_11ea_8811_38f9d3db5c17row8_col1\" class=\"data row8 col1\" >0.8854</td>\n",
       "                        <td id=\"T_0a01ecea_d5b5_11ea_8811_38f9d3db5c17row8_col2\" class=\"data row8 col2\" >0.8750</td>\n",
       "                        <td id=\"T_0a01ecea_d5b5_11ea_8811_38f9d3db5c17row8_col3\" class=\"data row8 col3\" >0.7241</td>\n",
       "                        <td id=\"T_0a01ecea_d5b5_11ea_8811_38f9d3db5c17row8_col4\" class=\"data row8 col4\" >0.7925</td>\n",
       "                        <td id=\"T_0a01ecea_d5b5_11ea_8811_38f9d3db5c17row8_col5\" class=\"data row8 col5\" >0.6399</td>\n",
       "                        <td id=\"T_0a01ecea_d5b5_11ea_8811_38f9d3db5c17row8_col6\" class=\"data row8 col6\" >0.6487</td>\n",
       "            </tr>\n",
       "            <tr>\n",
       "                        <th id=\"T_0a01ecea_d5b5_11ea_8811_38f9d3db5c17level0_row9\" class=\"row_heading level0 row9\" >9</th>\n",
       "                        <td id=\"T_0a01ecea_d5b5_11ea_8811_38f9d3db5c17row9_col0\" class=\"data row9 col0\" >0.7419</td>\n",
       "                        <td id=\"T_0a01ecea_d5b5_11ea_8811_38f9d3db5c17row9_col1\" class=\"data row9 col1\" >0.7675</td>\n",
       "                        <td id=\"T_0a01ecea_d5b5_11ea_8811_38f9d3db5c17row9_col2\" class=\"data row9 col2\" >0.5000</td>\n",
       "                        <td id=\"T_0a01ecea_d5b5_11ea_8811_38f9d3db5c17row9_col3\" class=\"data row9 col3\" >0.7500</td>\n",
       "                        <td id=\"T_0a01ecea_d5b5_11ea_8811_38f9d3db5c17row9_col4\" class=\"data row9 col4\" >0.6000</td>\n",
       "                        <td id=\"T_0a01ecea_d5b5_11ea_8811_38f9d3db5c17row9_col5\" class=\"data row9 col5\" >0.4206</td>\n",
       "                        <td id=\"T_0a01ecea_d5b5_11ea_8811_38f9d3db5c17row9_col6\" class=\"data row9 col6\" >0.4394</td>\n",
       "            </tr>\n",
       "            <tr>\n",
       "                        <th id=\"T_0a01ecea_d5b5_11ea_8811_38f9d3db5c17level0_row10\" class=\"row_heading level0 row10\" >Mean</th>\n",
       "                        <td id=\"T_0a01ecea_d5b5_11ea_8811_38f9d3db5c17row10_col0\" class=\"data row10 col0\" >0.7863</td>\n",
       "                        <td id=\"T_0a01ecea_d5b5_11ea_8811_38f9d3db5c17row10_col1\" class=\"data row10 col1\" >0.8392</td>\n",
       "                        <td id=\"T_0a01ecea_d5b5_11ea_8811_38f9d3db5c17row10_col2\" class=\"data row10 col2\" >0.7072</td>\n",
       "                        <td id=\"T_0a01ecea_d5b5_11ea_8811_38f9d3db5c17row10_col3\" class=\"data row10 col3\" >0.7297</td>\n",
       "                        <td id=\"T_0a01ecea_d5b5_11ea_8811_38f9d3db5c17row10_col4\" class=\"data row10 col4\" >0.7148</td>\n",
       "                        <td id=\"T_0a01ecea_d5b5_11ea_8811_38f9d3db5c17row10_col5\" class=\"data row10 col5\" >0.5447</td>\n",
       "                        <td id=\"T_0a01ecea_d5b5_11ea_8811_38f9d3db5c17row10_col6\" class=\"data row10 col6\" >0.5478</td>\n",
       "            </tr>\n",
       "            <tr>\n",
       "                        <th id=\"T_0a01ecea_d5b5_11ea_8811_38f9d3db5c17level0_row11\" class=\"row_heading level0 row11\" >SD</th>\n",
       "                        <td id=\"T_0a01ecea_d5b5_11ea_8811_38f9d3db5c17row11_col0\" class=\"data row11 col0\" >0.0531</td>\n",
       "                        <td id=\"T_0a01ecea_d5b5_11ea_8811_38f9d3db5c17row11_col1\" class=\"data row11 col1\" >0.0458</td>\n",
       "                        <td id=\"T_0a01ecea_d5b5_11ea_8811_38f9d3db5c17row11_col2\" class=\"data row11 col2\" >0.1083</td>\n",
       "                        <td id=\"T_0a01ecea_d5b5_11ea_8811_38f9d3db5c17row11_col3\" class=\"data row11 col3\" >0.0646</td>\n",
       "                        <td id=\"T_0a01ecea_d5b5_11ea_8811_38f9d3db5c17row11_col4\" class=\"data row11 col4\" >0.0781</td>\n",
       "                        <td id=\"T_0a01ecea_d5b5_11ea_8811_38f9d3db5c17row11_col5\" class=\"data row11 col5\" >0.1160</td>\n",
       "                        <td id=\"T_0a01ecea_d5b5_11ea_8811_38f9d3db5c17row11_col6\" class=\"data row11 col6\" >0.1147</td>\n",
       "            </tr>\n",
       "    </tbody></table>"
      ],
      "text/plain": [
       "<pandas.io.formats.style.Styler at 0x128ee88e0>"
      ]
     },
     "metadata": {},
     "output_type": "display_data"
    }
   ],
   "source": [
    "# create a model \n",
    "# 'lr'        Logistic Regression             \n",
    "# 'knn'       K Nearest Neighbour            \n",
    "# 'nb'        Naive Bayes             \n",
    "# 'dt'        Decision Tree Classifier                   \n",
    "# 'svm'       SVM - Linear Kernel                 \n",
    "# 'rbfsvm'    SVM - Radial Kernel               \n",
    "# 'gpc'       Gaussian Process Classifier                  \n",
    "# 'mlp'       Multi Level Perceptron                  \n",
    "# 'ridge'     Ridge Classifier                \n",
    "# 'rf'        Random Forest Classifier                   \n",
    "# 'qda'       Quadratic Discriminant Analysis                  \n",
    "# 'ada'       Ada Boost Classifier                 \n",
    "# 'gbc'       Gradient Boosting Classifier                  \n",
    "# 'lda'       Linear Discriminant Analysis                  \n",
    "# 'et'        Extra Trees Classifier                   \n",
    "# 'xgboost'   Extreme Gradient Boosting              \n",
    "# 'lightgbm'  Light Gradient Boosting              \n",
    "# 'catboost'  CatBoost Classifier   \n",
    "classification_model = classification.create_model(\n",
    "    estimator='rf'\n",
    ")"
   ]
  },
  {
   "cell_type": "code",
   "execution_count": 16,
   "metadata": {},
   "outputs": [
    {
     "data": {
      "text/html": [
       "<div>\n",
       "<style scoped>\n",
       "    .dataframe tbody tr th:only-of-type {\n",
       "        vertical-align: middle;\n",
       "    }\n",
       "\n",
       "    .dataframe tbody tr th {\n",
       "        vertical-align: top;\n",
       "    }\n",
       "\n",
       "    .dataframe thead th {\n",
       "        text-align: right;\n",
       "    }\n",
       "</style>\n",
       "<table border=\"1\" class=\"dataframe\">\n",
       "  <thead>\n",
       "    <tr style=\"text-align: right;\">\n",
       "      <th></th>\n",
       "      <th>Accuracy</th>\n",
       "      <th>AUC</th>\n",
       "      <th>Recall</th>\n",
       "      <th>Prec.</th>\n",
       "      <th>F1</th>\n",
       "      <th>Kappa</th>\n",
       "      <th>MCC</th>\n",
       "    </tr>\n",
       "  </thead>\n",
       "  <tbody>\n",
       "    <tr>\n",
       "      <th>0</th>\n",
       "      <td>0.8730</td>\n",
       "      <td>0.8868</td>\n",
       "      <td>0.8333</td>\n",
       "      <td>0.8333</td>\n",
       "      <td>0.8333</td>\n",
       "      <td>0.7308</td>\n",
       "      <td>0.7308</td>\n",
       "    </tr>\n",
       "    <tr>\n",
       "      <th>1</th>\n",
       "      <td>0.7937</td>\n",
       "      <td>0.8483</td>\n",
       "      <td>0.7500</td>\n",
       "      <td>0.7200</td>\n",
       "      <td>0.7347</td>\n",
       "      <td>0.5660</td>\n",
       "      <td>0.5663</td>\n",
       "    </tr>\n",
       "    <tr>\n",
       "      <th>2</th>\n",
       "      <td>0.8254</td>\n",
       "      <td>0.8787</td>\n",
       "      <td>0.7500</td>\n",
       "      <td>0.7826</td>\n",
       "      <td>0.7660</td>\n",
       "      <td>0.6268</td>\n",
       "      <td>0.6272</td>\n",
       "    </tr>\n",
       "    <tr>\n",
       "      <th>3</th>\n",
       "      <td>0.8226</td>\n",
       "      <td>0.8980</td>\n",
       "      <td>0.7391</td>\n",
       "      <td>0.7727</td>\n",
       "      <td>0.7556</td>\n",
       "      <td>0.6164</td>\n",
       "      <td>0.6168</td>\n",
       "    </tr>\n",
       "    <tr>\n",
       "      <th>4</th>\n",
       "      <td>0.8226</td>\n",
       "      <td>0.8372</td>\n",
       "      <td>0.7500</td>\n",
       "      <td>0.7826</td>\n",
       "      <td>0.7660</td>\n",
       "      <td>0.6232</td>\n",
       "      <td>0.6236</td>\n",
       "    </tr>\n",
       "    <tr>\n",
       "      <th>5</th>\n",
       "      <td>0.7258</td>\n",
       "      <td>0.8081</td>\n",
       "      <td>0.5833</td>\n",
       "      <td>0.6667</td>\n",
       "      <td>0.6222</td>\n",
       "      <td>0.4085</td>\n",
       "      <td>0.4108</td>\n",
       "    </tr>\n",
       "    <tr>\n",
       "      <th>6</th>\n",
       "      <td>0.7097</td>\n",
       "      <td>0.8098</td>\n",
       "      <td>0.6250</td>\n",
       "      <td>0.6250</td>\n",
       "      <td>0.6250</td>\n",
       "      <td>0.3882</td>\n",
       "      <td>0.3882</td>\n",
       "    </tr>\n",
       "    <tr>\n",
       "      <th>7</th>\n",
       "      <td>0.7258</td>\n",
       "      <td>0.7719</td>\n",
       "      <td>0.6667</td>\n",
       "      <td>0.6400</td>\n",
       "      <td>0.6531</td>\n",
       "      <td>0.4266</td>\n",
       "      <td>0.4268</td>\n",
       "    </tr>\n",
       "    <tr>\n",
       "      <th>8</th>\n",
       "      <td>0.8226</td>\n",
       "      <td>0.8854</td>\n",
       "      <td>0.8750</td>\n",
       "      <td>0.7241</td>\n",
       "      <td>0.7925</td>\n",
       "      <td>0.6399</td>\n",
       "      <td>0.6487</td>\n",
       "    </tr>\n",
       "    <tr>\n",
       "      <th>9</th>\n",
       "      <td>0.7419</td>\n",
       "      <td>0.7675</td>\n",
       "      <td>0.5000</td>\n",
       "      <td>0.7500</td>\n",
       "      <td>0.6000</td>\n",
       "      <td>0.4206</td>\n",
       "      <td>0.4394</td>\n",
       "    </tr>\n",
       "    <tr>\n",
       "      <th>Mean</th>\n",
       "      <td>0.7863</td>\n",
       "      <td>0.8392</td>\n",
       "      <td>0.7072</td>\n",
       "      <td>0.7297</td>\n",
       "      <td>0.7148</td>\n",
       "      <td>0.5447</td>\n",
       "      <td>0.5478</td>\n",
       "    </tr>\n",
       "    <tr>\n",
       "      <th>SD</th>\n",
       "      <td>0.0531</td>\n",
       "      <td>0.0458</td>\n",
       "      <td>0.1083</td>\n",
       "      <td>0.0646</td>\n",
       "      <td>0.0781</td>\n",
       "      <td>0.1160</td>\n",
       "      <td>0.1147</td>\n",
       "    </tr>\n",
       "  </tbody>\n",
       "</table>\n",
       "</div>"
      ],
      "text/plain": [
       "      Accuracy     AUC  Recall   Prec.      F1   Kappa     MCC\n",
       "0       0.8730  0.8868  0.8333  0.8333  0.8333  0.7308  0.7308\n",
       "1       0.7937  0.8483  0.7500  0.7200  0.7347  0.5660  0.5663\n",
       "2       0.8254  0.8787  0.7500  0.7826  0.7660  0.6268  0.6272\n",
       "3       0.8226  0.8980  0.7391  0.7727  0.7556  0.6164  0.6168\n",
       "4       0.8226  0.8372  0.7500  0.7826  0.7660  0.6232  0.6236\n",
       "5       0.7258  0.8081  0.5833  0.6667  0.6222  0.4085  0.4108\n",
       "6       0.7097  0.8098  0.6250  0.6250  0.6250  0.3882  0.3882\n",
       "7       0.7258  0.7719  0.6667  0.6400  0.6531  0.4266  0.4268\n",
       "8       0.8226  0.8854  0.8750  0.7241  0.7925  0.6399  0.6487\n",
       "9       0.7419  0.7675  0.5000  0.7500  0.6000  0.4206  0.4394\n",
       "Mean    0.7863  0.8392  0.7072  0.7297  0.7148  0.5447  0.5478\n",
       "SD      0.0531  0.0458  0.1083  0.0646  0.0781  0.1160  0.1147"
      ]
     },
     "execution_count": 16,
     "metadata": {},
     "output_type": "execute_result"
    }
   ],
   "source": [
    "# view results in dataframe\n",
    "classification_model_results_df = classification.pull()\n",
    "classification_model_results_df"
   ]
  },
  {
   "cell_type": "code",
   "execution_count": 17,
   "metadata": {},
   "outputs": [
    {
     "data": {
      "text/html": [
       "<style  type=\"text/css\" >\n",
       "    #T_0aea2cc6_d5b5_11ea_8811_38f9d3db5c17row10_col0 {\n",
       "            background:  yellow;\n",
       "        }    #T_0aea2cc6_d5b5_11ea_8811_38f9d3db5c17row10_col1 {\n",
       "            background:  yellow;\n",
       "        }    #T_0aea2cc6_d5b5_11ea_8811_38f9d3db5c17row10_col2 {\n",
       "            background:  yellow;\n",
       "        }    #T_0aea2cc6_d5b5_11ea_8811_38f9d3db5c17row10_col3 {\n",
       "            background:  yellow;\n",
       "        }    #T_0aea2cc6_d5b5_11ea_8811_38f9d3db5c17row10_col4 {\n",
       "            background:  yellow;\n",
       "        }    #T_0aea2cc6_d5b5_11ea_8811_38f9d3db5c17row10_col5 {\n",
       "            background:  yellow;\n",
       "        }    #T_0aea2cc6_d5b5_11ea_8811_38f9d3db5c17row10_col6 {\n",
       "            background:  yellow;\n",
       "        }</style><table id=\"T_0aea2cc6_d5b5_11ea_8811_38f9d3db5c17\" ><thead>    <tr>        <th class=\"blank level0\" ></th>        <th class=\"col_heading level0 col0\" >Accuracy</th>        <th class=\"col_heading level0 col1\" >AUC</th>        <th class=\"col_heading level0 col2\" >Recall</th>        <th class=\"col_heading level0 col3\" >Prec.</th>        <th class=\"col_heading level0 col4\" >F1</th>        <th class=\"col_heading level0 col5\" >Kappa</th>        <th class=\"col_heading level0 col6\" >MCC</th>    </tr></thead><tbody>\n",
       "                <tr>\n",
       "                        <th id=\"T_0aea2cc6_d5b5_11ea_8811_38f9d3db5c17level0_row0\" class=\"row_heading level0 row0\" >0</th>\n",
       "                        <td id=\"T_0aea2cc6_d5b5_11ea_8811_38f9d3db5c17row0_col0\" class=\"data row0 col0\" >0.8730</td>\n",
       "                        <td id=\"T_0aea2cc6_d5b5_11ea_8811_38f9d3db5c17row0_col1\" class=\"data row0 col1\" >0.9252</td>\n",
       "                        <td id=\"T_0aea2cc6_d5b5_11ea_8811_38f9d3db5c17row0_col2\" class=\"data row0 col2\" >0.8333</td>\n",
       "                        <td id=\"T_0aea2cc6_d5b5_11ea_8811_38f9d3db5c17row0_col3\" class=\"data row0 col3\" >0.8333</td>\n",
       "                        <td id=\"T_0aea2cc6_d5b5_11ea_8811_38f9d3db5c17row0_col4\" class=\"data row0 col4\" >0.8333</td>\n",
       "                        <td id=\"T_0aea2cc6_d5b5_11ea_8811_38f9d3db5c17row0_col5\" class=\"data row0 col5\" >0.7308</td>\n",
       "                        <td id=\"T_0aea2cc6_d5b5_11ea_8811_38f9d3db5c17row0_col6\" class=\"data row0 col6\" >0.7308</td>\n",
       "            </tr>\n",
       "            <tr>\n",
       "                        <th id=\"T_0aea2cc6_d5b5_11ea_8811_38f9d3db5c17level0_row1\" class=\"row_heading level0 row1\" >1</th>\n",
       "                        <td id=\"T_0aea2cc6_d5b5_11ea_8811_38f9d3db5c17row1_col0\" class=\"data row1 col0\" >0.8254</td>\n",
       "                        <td id=\"T_0aea2cc6_d5b5_11ea_8811_38f9d3db5c17row1_col1\" class=\"data row1 col1\" >0.8761</td>\n",
       "                        <td id=\"T_0aea2cc6_d5b5_11ea_8811_38f9d3db5c17row1_col2\" class=\"data row1 col2\" >0.7917</td>\n",
       "                        <td id=\"T_0aea2cc6_d5b5_11ea_8811_38f9d3db5c17row1_col3\" class=\"data row1 col3\" >0.7600</td>\n",
       "                        <td id=\"T_0aea2cc6_d5b5_11ea_8811_38f9d3db5c17row1_col4\" class=\"data row1 col4\" >0.7755</td>\n",
       "                        <td id=\"T_0aea2cc6_d5b5_11ea_8811_38f9d3db5c17row1_col5\" class=\"data row1 col5\" >0.6328</td>\n",
       "                        <td id=\"T_0aea2cc6_d5b5_11ea_8811_38f9d3db5c17row1_col6\" class=\"data row1 col6\" >0.6331</td>\n",
       "            </tr>\n",
       "            <tr>\n",
       "                        <th id=\"T_0aea2cc6_d5b5_11ea_8811_38f9d3db5c17level0_row2\" class=\"row_heading level0 row2\" >2</th>\n",
       "                        <td id=\"T_0aea2cc6_d5b5_11ea_8811_38f9d3db5c17row2_col0\" class=\"data row2 col0\" >0.8413</td>\n",
       "                        <td id=\"T_0aea2cc6_d5b5_11ea_8811_38f9d3db5c17row2_col1\" class=\"data row2 col1\" >0.8921</td>\n",
       "                        <td id=\"T_0aea2cc6_d5b5_11ea_8811_38f9d3db5c17row2_col2\" class=\"data row2 col2\" >0.7500</td>\n",
       "                        <td id=\"T_0aea2cc6_d5b5_11ea_8811_38f9d3db5c17row2_col3\" class=\"data row2 col3\" >0.8182</td>\n",
       "                        <td id=\"T_0aea2cc6_d5b5_11ea_8811_38f9d3db5c17row2_col4\" class=\"data row2 col4\" >0.7826</td>\n",
       "                        <td id=\"T_0aea2cc6_d5b5_11ea_8811_38f9d3db5c17row2_col5\" class=\"data row2 col5\" >0.6580</td>\n",
       "                        <td id=\"T_0aea2cc6_d5b5_11ea_8811_38f9d3db5c17row2_col6\" class=\"data row2 col6\" >0.6595</td>\n",
       "            </tr>\n",
       "            <tr>\n",
       "                        <th id=\"T_0aea2cc6_d5b5_11ea_8811_38f9d3db5c17level0_row3\" class=\"row_heading level0 row3\" >3</th>\n",
       "                        <td id=\"T_0aea2cc6_d5b5_11ea_8811_38f9d3db5c17row3_col0\" class=\"data row3 col0\" >0.7903</td>\n",
       "                        <td id=\"T_0aea2cc6_d5b5_11ea_8811_38f9d3db5c17row3_col1\" class=\"data row3 col1\" >0.8629</td>\n",
       "                        <td id=\"T_0aea2cc6_d5b5_11ea_8811_38f9d3db5c17row3_col2\" class=\"data row3 col2\" >0.7391</td>\n",
       "                        <td id=\"T_0aea2cc6_d5b5_11ea_8811_38f9d3db5c17row3_col3\" class=\"data row3 col3\" >0.7083</td>\n",
       "                        <td id=\"T_0aea2cc6_d5b5_11ea_8811_38f9d3db5c17row3_col4\" class=\"data row3 col4\" >0.7234</td>\n",
       "                        <td id=\"T_0aea2cc6_d5b5_11ea_8811_38f9d3db5c17row3_col5\" class=\"data row3 col5\" >0.5547</td>\n",
       "                        <td id=\"T_0aea2cc6_d5b5_11ea_8811_38f9d3db5c17row3_col6\" class=\"data row3 col6\" >0.5550</td>\n",
       "            </tr>\n",
       "            <tr>\n",
       "                        <th id=\"T_0aea2cc6_d5b5_11ea_8811_38f9d3db5c17level0_row4\" class=\"row_heading level0 row4\" >4</th>\n",
       "                        <td id=\"T_0aea2cc6_d5b5_11ea_8811_38f9d3db5c17row4_col0\" class=\"data row4 col0\" >0.8226</td>\n",
       "                        <td id=\"T_0aea2cc6_d5b5_11ea_8811_38f9d3db5c17row4_col1\" class=\"data row4 col1\" >0.8673</td>\n",
       "                        <td id=\"T_0aea2cc6_d5b5_11ea_8811_38f9d3db5c17row4_col2\" class=\"data row4 col2\" >0.7083</td>\n",
       "                        <td id=\"T_0aea2cc6_d5b5_11ea_8811_38f9d3db5c17row4_col3\" class=\"data row4 col3\" >0.8095</td>\n",
       "                        <td id=\"T_0aea2cc6_d5b5_11ea_8811_38f9d3db5c17row4_col4\" class=\"data row4 col4\" >0.7556</td>\n",
       "                        <td id=\"T_0aea2cc6_d5b5_11ea_8811_38f9d3db5c17row4_col5\" class=\"data row4 col5\" >0.6173</td>\n",
       "                        <td id=\"T_0aea2cc6_d5b5_11ea_8811_38f9d3db5c17row4_col6\" class=\"data row4 col6\" >0.6207</td>\n",
       "            </tr>\n",
       "            <tr>\n",
       "                        <th id=\"T_0aea2cc6_d5b5_11ea_8811_38f9d3db5c17level0_row5\" class=\"row_heading level0 row5\" >5</th>\n",
       "                        <td id=\"T_0aea2cc6_d5b5_11ea_8811_38f9d3db5c17row5_col0\" class=\"data row5 col0\" >0.8065</td>\n",
       "                        <td id=\"T_0aea2cc6_d5b5_11ea_8811_38f9d3db5c17row5_col1\" class=\"data row5 col1\" >0.8454</td>\n",
       "                        <td id=\"T_0aea2cc6_d5b5_11ea_8811_38f9d3db5c17row5_col2\" class=\"data row5 col2\" >0.6667</td>\n",
       "                        <td id=\"T_0aea2cc6_d5b5_11ea_8811_38f9d3db5c17row5_col3\" class=\"data row5 col3\" >0.8000</td>\n",
       "                        <td id=\"T_0aea2cc6_d5b5_11ea_8811_38f9d3db5c17row5_col4\" class=\"data row5 col4\" >0.7273</td>\n",
       "                        <td id=\"T_0aea2cc6_d5b5_11ea_8811_38f9d3db5c17row5_col5\" class=\"data row5 col5\" >0.5792</td>\n",
       "                        <td id=\"T_0aea2cc6_d5b5_11ea_8811_38f9d3db5c17row5_col6\" class=\"data row5 col6\" >0.5850</td>\n",
       "            </tr>\n",
       "            <tr>\n",
       "                        <th id=\"T_0aea2cc6_d5b5_11ea_8811_38f9d3db5c17level0_row6\" class=\"row_heading level0 row6\" >6</th>\n",
       "                        <td id=\"T_0aea2cc6_d5b5_11ea_8811_38f9d3db5c17row6_col0\" class=\"data row6 col0\" >0.7742</td>\n",
       "                        <td id=\"T_0aea2cc6_d5b5_11ea_8811_38f9d3db5c17row6_col1\" class=\"data row6 col1\" >0.8454</td>\n",
       "                        <td id=\"T_0aea2cc6_d5b5_11ea_8811_38f9d3db5c17row6_col2\" class=\"data row6 col2\" >0.5833</td>\n",
       "                        <td id=\"T_0aea2cc6_d5b5_11ea_8811_38f9d3db5c17row6_col3\" class=\"data row6 col3\" >0.7778</td>\n",
       "                        <td id=\"T_0aea2cc6_d5b5_11ea_8811_38f9d3db5c17row6_col4\" class=\"data row6 col4\" >0.6667</td>\n",
       "                        <td id=\"T_0aea2cc6_d5b5_11ea_8811_38f9d3db5c17row6_col5\" class=\"data row6 col5\" >0.5011</td>\n",
       "                        <td id=\"T_0aea2cc6_d5b5_11ea_8811_38f9d3db5c17row6_col6\" class=\"data row6 col6\" >0.5130</td>\n",
       "            </tr>\n",
       "            <tr>\n",
       "                        <th id=\"T_0aea2cc6_d5b5_11ea_8811_38f9d3db5c17level0_row7\" class=\"row_heading level0 row7\" >7</th>\n",
       "                        <td id=\"T_0aea2cc6_d5b5_11ea_8811_38f9d3db5c17row7_col0\" class=\"data row7 col0\" >0.7903</td>\n",
       "                        <td id=\"T_0aea2cc6_d5b5_11ea_8811_38f9d3db5c17row7_col1\" class=\"data row7 col1\" >0.7895</td>\n",
       "                        <td id=\"T_0aea2cc6_d5b5_11ea_8811_38f9d3db5c17row7_col2\" class=\"data row7 col2\" >0.7083</td>\n",
       "                        <td id=\"T_0aea2cc6_d5b5_11ea_8811_38f9d3db5c17row7_col3\" class=\"data row7 col3\" >0.7391</td>\n",
       "                        <td id=\"T_0aea2cc6_d5b5_11ea_8811_38f9d3db5c17row7_col4\" class=\"data row7 col4\" >0.7234</td>\n",
       "                        <td id=\"T_0aea2cc6_d5b5_11ea_8811_38f9d3db5c17row7_col5\" class=\"data row7 col5\" >0.5547</td>\n",
       "                        <td id=\"T_0aea2cc6_d5b5_11ea_8811_38f9d3db5c17row7_col6\" class=\"data row7 col6\" >0.5550</td>\n",
       "            </tr>\n",
       "            <tr>\n",
       "                        <th id=\"T_0aea2cc6_d5b5_11ea_8811_38f9d3db5c17level0_row8\" class=\"row_heading level0 row8\" >8</th>\n",
       "                        <td id=\"T_0aea2cc6_d5b5_11ea_8811_38f9d3db5c17row8_col0\" class=\"data row8 col0\" >0.7903</td>\n",
       "                        <td id=\"T_0aea2cc6_d5b5_11ea_8811_38f9d3db5c17row8_col1\" class=\"data row8 col1\" >0.8980</td>\n",
       "                        <td id=\"T_0aea2cc6_d5b5_11ea_8811_38f9d3db5c17row8_col2\" class=\"data row8 col2\" >0.7917</td>\n",
       "                        <td id=\"T_0aea2cc6_d5b5_11ea_8811_38f9d3db5c17row8_col3\" class=\"data row8 col3\" >0.7037</td>\n",
       "                        <td id=\"T_0aea2cc6_d5b5_11ea_8811_38f9d3db5c17row8_col4\" class=\"data row8 col4\" >0.7451</td>\n",
       "                        <td id=\"T_0aea2cc6_d5b5_11ea_8811_38f9d3db5c17row8_col5\" class=\"data row8 col5\" >0.5681</td>\n",
       "                        <td id=\"T_0aea2cc6_d5b5_11ea_8811_38f9d3db5c17row8_col6\" class=\"data row8 col6\" >0.5709</td>\n",
       "            </tr>\n",
       "            <tr>\n",
       "                        <th id=\"T_0aea2cc6_d5b5_11ea_8811_38f9d3db5c17level0_row9\" class=\"row_heading level0 row9\" >9</th>\n",
       "                        <td id=\"T_0aea2cc6_d5b5_11ea_8811_38f9d3db5c17row9_col0\" class=\"data row9 col0\" >0.7581</td>\n",
       "                        <td id=\"T_0aea2cc6_d5b5_11ea_8811_38f9d3db5c17row9_col1\" class=\"data row9 col1\" >0.8114</td>\n",
       "                        <td id=\"T_0aea2cc6_d5b5_11ea_8811_38f9d3db5c17row9_col2\" class=\"data row9 col2\" >0.5417</td>\n",
       "                        <td id=\"T_0aea2cc6_d5b5_11ea_8811_38f9d3db5c17row9_col3\" class=\"data row9 col3\" >0.7647</td>\n",
       "                        <td id=\"T_0aea2cc6_d5b5_11ea_8811_38f9d3db5c17row9_col4\" class=\"data row9 col4\" >0.6341</td>\n",
       "                        <td id=\"T_0aea2cc6_d5b5_11ea_8811_38f9d3db5c17row9_col5\" class=\"data row9 col5\" >0.4612</td>\n",
       "                        <td id=\"T_0aea2cc6_d5b5_11ea_8811_38f9d3db5c17row9_col6\" class=\"data row9 col6\" >0.4765</td>\n",
       "            </tr>\n",
       "            <tr>\n",
       "                        <th id=\"T_0aea2cc6_d5b5_11ea_8811_38f9d3db5c17level0_row10\" class=\"row_heading level0 row10\" >Mean</th>\n",
       "                        <td id=\"T_0aea2cc6_d5b5_11ea_8811_38f9d3db5c17row10_col0\" class=\"data row10 col0\" >0.8072</td>\n",
       "                        <td id=\"T_0aea2cc6_d5b5_11ea_8811_38f9d3db5c17row10_col1\" class=\"data row10 col1\" >0.8613</td>\n",
       "                        <td id=\"T_0aea2cc6_d5b5_11ea_8811_38f9d3db5c17row10_col2\" class=\"data row10 col2\" >0.7114</td>\n",
       "                        <td id=\"T_0aea2cc6_d5b5_11ea_8811_38f9d3db5c17row10_col3\" class=\"data row10 col3\" >0.7715</td>\n",
       "                        <td id=\"T_0aea2cc6_d5b5_11ea_8811_38f9d3db5c17row10_col4\" class=\"data row10 col4\" >0.7367</td>\n",
       "                        <td id=\"T_0aea2cc6_d5b5_11ea_8811_38f9d3db5c17row10_col5\" class=\"data row10 col5\" >0.5858</td>\n",
       "                        <td id=\"T_0aea2cc6_d5b5_11ea_8811_38f9d3db5c17row10_col6\" class=\"data row10 col6\" >0.5899</td>\n",
       "            </tr>\n",
       "            <tr>\n",
       "                        <th id=\"T_0aea2cc6_d5b5_11ea_8811_38f9d3db5c17level0_row11\" class=\"row_heading level0 row11\" >SD</th>\n",
       "                        <td id=\"T_0aea2cc6_d5b5_11ea_8811_38f9d3db5c17row11_col0\" class=\"data row11 col0\" >0.0323</td>\n",
       "                        <td id=\"T_0aea2cc6_d5b5_11ea_8811_38f9d3db5c17row11_col1\" class=\"data row11 col1\" >0.0385</td>\n",
       "                        <td id=\"T_0aea2cc6_d5b5_11ea_8811_38f9d3db5c17row11_col2\" class=\"data row11 col2\" >0.0879</td>\n",
       "                        <td id=\"T_0aea2cc6_d5b5_11ea_8811_38f9d3db5c17row11_col3\" class=\"data row11 col3\" >0.0426</td>\n",
       "                        <td id=\"T_0aea2cc6_d5b5_11ea_8811_38f9d3db5c17row11_col4\" class=\"data row11 col4\" >0.0541</td>\n",
       "                        <td id=\"T_0aea2cc6_d5b5_11ea_8811_38f9d3db5c17row11_col5\" class=\"data row11 col5\" >0.0738</td>\n",
       "                        <td id=\"T_0aea2cc6_d5b5_11ea_8811_38f9d3db5c17row11_col6\" class=\"data row11 col6\" >0.0701</td>\n",
       "            </tr>\n",
       "    </tbody></table>"
      ],
      "text/plain": [
       "<pandas.io.formats.style.Styler at 0x128ed7220>"
      ]
     },
     "metadata": {},
     "output_type": "display_data"
    }
   ],
   "source": [
    "# custom model hyperparameters\n",
    "example_classification_model_hyperparameters_1 = classification.create_model(\n",
    "    estimator='lightgbm',\n",
    "    learning_rate=0.1,\n",
    ")"
   ]
  },
  {
   "cell_type": "code",
   "execution_count": 18,
   "metadata": {},
   "outputs": [
    {
     "data": {
      "text/html": [
       "<style  type=\"text/css\" >\n",
       "    #T_0c5cee0e_d5b5_11ea_8811_38f9d3db5c17row10_col0 {\n",
       "            background:  yellow;\n",
       "        }    #T_0c5cee0e_d5b5_11ea_8811_38f9d3db5c17row10_col1 {\n",
       "            background:  yellow;\n",
       "        }    #T_0c5cee0e_d5b5_11ea_8811_38f9d3db5c17row10_col2 {\n",
       "            background:  yellow;\n",
       "        }    #T_0c5cee0e_d5b5_11ea_8811_38f9d3db5c17row10_col3 {\n",
       "            background:  yellow;\n",
       "        }    #T_0c5cee0e_d5b5_11ea_8811_38f9d3db5c17row10_col4 {\n",
       "            background:  yellow;\n",
       "        }    #T_0c5cee0e_d5b5_11ea_8811_38f9d3db5c17row10_col5 {\n",
       "            background:  yellow;\n",
       "        }    #T_0c5cee0e_d5b5_11ea_8811_38f9d3db5c17row10_col6 {\n",
       "            background:  yellow;\n",
       "        }</style><table id=\"T_0c5cee0e_d5b5_11ea_8811_38f9d3db5c17\" ><thead>    <tr>        <th class=\"blank level0\" ></th>        <th class=\"col_heading level0 col0\" >Accuracy</th>        <th class=\"col_heading level0 col1\" >AUC</th>        <th class=\"col_heading level0 col2\" >Recall</th>        <th class=\"col_heading level0 col3\" >Prec.</th>        <th class=\"col_heading level0 col4\" >F1</th>        <th class=\"col_heading level0 col5\" >Kappa</th>        <th class=\"col_heading level0 col6\" >MCC</th>    </tr></thead><tbody>\n",
       "                <tr>\n",
       "                        <th id=\"T_0c5cee0e_d5b5_11ea_8811_38f9d3db5c17level0_row0\" class=\"row_heading level0 row0\" >0</th>\n",
       "                        <td id=\"T_0c5cee0e_d5b5_11ea_8811_38f9d3db5c17row0_col0\" class=\"data row0 col0\" >0.8254</td>\n",
       "                        <td id=\"T_0c5cee0e_d5b5_11ea_8811_38f9d3db5c17row0_col1\" class=\"data row0 col1\" >0.9231</td>\n",
       "                        <td id=\"T_0c5cee0e_d5b5_11ea_8811_38f9d3db5c17row0_col2\" class=\"data row0 col2\" >0.8333</td>\n",
       "                        <td id=\"T_0c5cee0e_d5b5_11ea_8811_38f9d3db5c17row0_col3\" class=\"data row0 col3\" >0.7407</td>\n",
       "                        <td id=\"T_0c5cee0e_d5b5_11ea_8811_38f9d3db5c17row0_col4\" class=\"data row0 col4\" >0.7843</td>\n",
       "                        <td id=\"T_0c5cee0e_d5b5_11ea_8811_38f9d3db5c17row0_col5\" class=\"data row0 col5\" >0.6385</td>\n",
       "                        <td id=\"T_0c5cee0e_d5b5_11ea_8811_38f9d3db5c17row0_col6\" class=\"data row0 col6\" >0.6416</td>\n",
       "            </tr>\n",
       "            <tr>\n",
       "                        <th id=\"T_0c5cee0e_d5b5_11ea_8811_38f9d3db5c17level0_row1\" class=\"row_heading level0 row1\" >1</th>\n",
       "                        <td id=\"T_0c5cee0e_d5b5_11ea_8811_38f9d3db5c17row1_col0\" class=\"data row1 col0\" >0.7619</td>\n",
       "                        <td id=\"T_0c5cee0e_d5b5_11ea_8811_38f9d3db5c17row1_col1\" class=\"data row1 col1\" >0.8376</td>\n",
       "                        <td id=\"T_0c5cee0e_d5b5_11ea_8811_38f9d3db5c17row1_col2\" class=\"data row1 col2\" >0.7500</td>\n",
       "                        <td id=\"T_0c5cee0e_d5b5_11ea_8811_38f9d3db5c17row1_col3\" class=\"data row1 col3\" >0.6667</td>\n",
       "                        <td id=\"T_0c5cee0e_d5b5_11ea_8811_38f9d3db5c17row1_col4\" class=\"data row1 col4\" >0.7059</td>\n",
       "                        <td id=\"T_0c5cee0e_d5b5_11ea_8811_38f9d3db5c17row1_col5\" class=\"data row1 col5\" >0.5070</td>\n",
       "                        <td id=\"T_0c5cee0e_d5b5_11ea_8811_38f9d3db5c17row1_col6\" class=\"data row1 col6\" >0.5095</td>\n",
       "            </tr>\n",
       "            <tr>\n",
       "                        <th id=\"T_0c5cee0e_d5b5_11ea_8811_38f9d3db5c17level0_row2\" class=\"row_heading level0 row2\" >2</th>\n",
       "                        <td id=\"T_0c5cee0e_d5b5_11ea_8811_38f9d3db5c17row2_col0\" class=\"data row2 col0\" >0.8254</td>\n",
       "                        <td id=\"T_0c5cee0e_d5b5_11ea_8811_38f9d3db5c17row2_col1\" class=\"data row2 col1\" >0.8942</td>\n",
       "                        <td id=\"T_0c5cee0e_d5b5_11ea_8811_38f9d3db5c17row2_col2\" class=\"data row2 col2\" >0.7500</td>\n",
       "                        <td id=\"T_0c5cee0e_d5b5_11ea_8811_38f9d3db5c17row2_col3\" class=\"data row2 col3\" >0.7826</td>\n",
       "                        <td id=\"T_0c5cee0e_d5b5_11ea_8811_38f9d3db5c17row2_col4\" class=\"data row2 col4\" >0.7660</td>\n",
       "                        <td id=\"T_0c5cee0e_d5b5_11ea_8811_38f9d3db5c17row2_col5\" class=\"data row2 col5\" >0.6268</td>\n",
       "                        <td id=\"T_0c5cee0e_d5b5_11ea_8811_38f9d3db5c17row2_col6\" class=\"data row2 col6\" >0.6272</td>\n",
       "            </tr>\n",
       "            <tr>\n",
       "                        <th id=\"T_0c5cee0e_d5b5_11ea_8811_38f9d3db5c17level0_row3\" class=\"row_heading level0 row3\" >3</th>\n",
       "                        <td id=\"T_0c5cee0e_d5b5_11ea_8811_38f9d3db5c17row3_col0\" class=\"data row3 col0\" >0.8387</td>\n",
       "                        <td id=\"T_0c5cee0e_d5b5_11ea_8811_38f9d3db5c17row3_col1\" class=\"data row3 col1\" >0.8506</td>\n",
       "                        <td id=\"T_0c5cee0e_d5b5_11ea_8811_38f9d3db5c17row3_col2\" class=\"data row3 col2\" >0.8261</td>\n",
       "                        <td id=\"T_0c5cee0e_d5b5_11ea_8811_38f9d3db5c17row3_col3\" class=\"data row3 col3\" >0.7600</td>\n",
       "                        <td id=\"T_0c5cee0e_d5b5_11ea_8811_38f9d3db5c17row3_col4\" class=\"data row3 col4\" >0.7917</td>\n",
       "                        <td id=\"T_0c5cee0e_d5b5_11ea_8811_38f9d3db5c17row3_col5\" class=\"data row3 col5\" >0.6605</td>\n",
       "                        <td id=\"T_0c5cee0e_d5b5_11ea_8811_38f9d3db5c17row3_col6\" class=\"data row3 col6\" >0.6620</td>\n",
       "            </tr>\n",
       "            <tr>\n",
       "                        <th id=\"T_0c5cee0e_d5b5_11ea_8811_38f9d3db5c17level0_row4\" class=\"row_heading level0 row4\" >4</th>\n",
       "                        <td id=\"T_0c5cee0e_d5b5_11ea_8811_38f9d3db5c17row4_col0\" class=\"data row4 col0\" >0.7581</td>\n",
       "                        <td id=\"T_0c5cee0e_d5b5_11ea_8811_38f9d3db5c17row4_col1\" class=\"data row4 col1\" >0.8629</td>\n",
       "                        <td id=\"T_0c5cee0e_d5b5_11ea_8811_38f9d3db5c17row4_col2\" class=\"data row4 col2\" >0.6667</td>\n",
       "                        <td id=\"T_0c5cee0e_d5b5_11ea_8811_38f9d3db5c17row4_col3\" class=\"data row4 col3\" >0.6957</td>\n",
       "                        <td id=\"T_0c5cee0e_d5b5_11ea_8811_38f9d3db5c17row4_col4\" class=\"data row4 col4\" >0.6809</td>\n",
       "                        <td id=\"T_0c5cee0e_d5b5_11ea_8811_38f9d3db5c17row4_col5\" class=\"data row4 col5\" >0.4862</td>\n",
       "                        <td id=\"T_0c5cee0e_d5b5_11ea_8811_38f9d3db5c17row4_col6\" class=\"data row4 col6\" >0.4865</td>\n",
       "            </tr>\n",
       "            <tr>\n",
       "                        <th id=\"T_0c5cee0e_d5b5_11ea_8811_38f9d3db5c17level0_row5\" class=\"row_heading level0 row5\" >5</th>\n",
       "                        <td id=\"T_0c5cee0e_d5b5_11ea_8811_38f9d3db5c17row5_col0\" class=\"data row5 col0\" >0.7419</td>\n",
       "                        <td id=\"T_0c5cee0e_d5b5_11ea_8811_38f9d3db5c17row5_col1\" class=\"data row5 col1\" >0.8224</td>\n",
       "                        <td id=\"T_0c5cee0e_d5b5_11ea_8811_38f9d3db5c17row5_col2\" class=\"data row5 col2\" >0.6667</td>\n",
       "                        <td id=\"T_0c5cee0e_d5b5_11ea_8811_38f9d3db5c17row5_col3\" class=\"data row5 col3\" >0.6667</td>\n",
       "                        <td id=\"T_0c5cee0e_d5b5_11ea_8811_38f9d3db5c17row5_col4\" class=\"data row5 col4\" >0.6667</td>\n",
       "                        <td id=\"T_0c5cee0e_d5b5_11ea_8811_38f9d3db5c17row5_col5\" class=\"data row5 col5\" >0.4561</td>\n",
       "                        <td id=\"T_0c5cee0e_d5b5_11ea_8811_38f9d3db5c17row5_col6\" class=\"data row5 col6\" >0.4561</td>\n",
       "            </tr>\n",
       "            <tr>\n",
       "                        <th id=\"T_0c5cee0e_d5b5_11ea_8811_38f9d3db5c17level0_row6\" class=\"row_heading level0 row6\" >6</th>\n",
       "                        <td id=\"T_0c5cee0e_d5b5_11ea_8811_38f9d3db5c17row6_col0\" class=\"data row6 col0\" >0.7581</td>\n",
       "                        <td id=\"T_0c5cee0e_d5b5_11ea_8811_38f9d3db5c17row6_col1\" class=\"data row6 col1\" >0.8388</td>\n",
       "                        <td id=\"T_0c5cee0e_d5b5_11ea_8811_38f9d3db5c17row6_col2\" class=\"data row6 col2\" >0.7083</td>\n",
       "                        <td id=\"T_0c5cee0e_d5b5_11ea_8811_38f9d3db5c17row6_col3\" class=\"data row6 col3\" >0.6800</td>\n",
       "                        <td id=\"T_0c5cee0e_d5b5_11ea_8811_38f9d3db5c17row6_col4\" class=\"data row6 col4\" >0.6939</td>\n",
       "                        <td id=\"T_0c5cee0e_d5b5_11ea_8811_38f9d3db5c17row6_col5\" class=\"data row6 col5\" >0.4940</td>\n",
       "                        <td id=\"T_0c5cee0e_d5b5_11ea_8811_38f9d3db5c17row6_col6\" class=\"data row6 col6\" >0.4943</td>\n",
       "            </tr>\n",
       "            <tr>\n",
       "                        <th id=\"T_0c5cee0e_d5b5_11ea_8811_38f9d3db5c17level0_row7\" class=\"row_heading level0 row7\" >7</th>\n",
       "                        <td id=\"T_0c5cee0e_d5b5_11ea_8811_38f9d3db5c17row7_col0\" class=\"data row7 col0\" >0.7419</td>\n",
       "                        <td id=\"T_0c5cee0e_d5b5_11ea_8811_38f9d3db5c17row7_col1\" class=\"data row7 col1\" >0.7873</td>\n",
       "                        <td id=\"T_0c5cee0e_d5b5_11ea_8811_38f9d3db5c17row7_col2\" class=\"data row7 col2\" >0.6667</td>\n",
       "                        <td id=\"T_0c5cee0e_d5b5_11ea_8811_38f9d3db5c17row7_col3\" class=\"data row7 col3\" >0.6667</td>\n",
       "                        <td id=\"T_0c5cee0e_d5b5_11ea_8811_38f9d3db5c17row7_col4\" class=\"data row7 col4\" >0.6667</td>\n",
       "                        <td id=\"T_0c5cee0e_d5b5_11ea_8811_38f9d3db5c17row7_col5\" class=\"data row7 col5\" >0.4561</td>\n",
       "                        <td id=\"T_0c5cee0e_d5b5_11ea_8811_38f9d3db5c17row7_col6\" class=\"data row7 col6\" >0.4561</td>\n",
       "            </tr>\n",
       "            <tr>\n",
       "                        <th id=\"T_0c5cee0e_d5b5_11ea_8811_38f9d3db5c17level0_row8\" class=\"row_heading level0 row8\" >8</th>\n",
       "                        <td id=\"T_0c5cee0e_d5b5_11ea_8811_38f9d3db5c17row8_col0\" class=\"data row8 col0\" >0.8387</td>\n",
       "                        <td id=\"T_0c5cee0e_d5b5_11ea_8811_38f9d3db5c17row8_col1\" class=\"data row8 col1\" >0.9013</td>\n",
       "                        <td id=\"T_0c5cee0e_d5b5_11ea_8811_38f9d3db5c17row8_col2\" class=\"data row8 col2\" >0.8750</td>\n",
       "                        <td id=\"T_0c5cee0e_d5b5_11ea_8811_38f9d3db5c17row8_col3\" class=\"data row8 col3\" >0.7500</td>\n",
       "                        <td id=\"T_0c5cee0e_d5b5_11ea_8811_38f9d3db5c17row8_col4\" class=\"data row8 col4\" >0.8077</td>\n",
       "                        <td id=\"T_0c5cee0e_d5b5_11ea_8811_38f9d3db5c17row8_col5\" class=\"data row8 col5\" >0.6702</td>\n",
       "                        <td id=\"T_0c5cee0e_d5b5_11ea_8811_38f9d3db5c17row8_col6\" class=\"data row8 col6\" >0.6761</td>\n",
       "            </tr>\n",
       "            <tr>\n",
       "                        <th id=\"T_0c5cee0e_d5b5_11ea_8811_38f9d3db5c17level0_row9\" class=\"row_heading level0 row9\" >9</th>\n",
       "                        <td id=\"T_0c5cee0e_d5b5_11ea_8811_38f9d3db5c17row9_col0\" class=\"data row9 col0\" >0.7419</td>\n",
       "                        <td id=\"T_0c5cee0e_d5b5_11ea_8811_38f9d3db5c17row9_col1\" class=\"data row9 col1\" >0.7971</td>\n",
       "                        <td id=\"T_0c5cee0e_d5b5_11ea_8811_38f9d3db5c17row9_col2\" class=\"data row9 col2\" >0.5417</td>\n",
       "                        <td id=\"T_0c5cee0e_d5b5_11ea_8811_38f9d3db5c17row9_col3\" class=\"data row9 col3\" >0.7222</td>\n",
       "                        <td id=\"T_0c5cee0e_d5b5_11ea_8811_38f9d3db5c17row9_col4\" class=\"data row9 col4\" >0.6190</td>\n",
       "                        <td id=\"T_0c5cee0e_d5b5_11ea_8811_38f9d3db5c17row9_col5\" class=\"data row9 col5\" >0.4299</td>\n",
       "                        <td id=\"T_0c5cee0e_d5b5_11ea_8811_38f9d3db5c17row9_col6\" class=\"data row9 col6\" >0.4401</td>\n",
       "            </tr>\n",
       "            <tr>\n",
       "                        <th id=\"T_0c5cee0e_d5b5_11ea_8811_38f9d3db5c17level0_row10\" class=\"row_heading level0 row10\" >Mean</th>\n",
       "                        <td id=\"T_0c5cee0e_d5b5_11ea_8811_38f9d3db5c17row10_col0\" class=\"data row10 col0\" >0.7832</td>\n",
       "                        <td id=\"T_0c5cee0e_d5b5_11ea_8811_38f9d3db5c17row10_col1\" class=\"data row10 col1\" >0.8515</td>\n",
       "                        <td id=\"T_0c5cee0e_d5b5_11ea_8811_38f9d3db5c17row10_col2\" class=\"data row10 col2\" >0.7284</td>\n",
       "                        <td id=\"T_0c5cee0e_d5b5_11ea_8811_38f9d3db5c17row10_col3\" class=\"data row10 col3\" >0.7131</td>\n",
       "                        <td id=\"T_0c5cee0e_d5b5_11ea_8811_38f9d3db5c17row10_col4\" class=\"data row10 col4\" >0.7183</td>\n",
       "                        <td id=\"T_0c5cee0e_d5b5_11ea_8811_38f9d3db5c17row10_col5\" class=\"data row10 col5\" >0.5425</td>\n",
       "                        <td id=\"T_0c5cee0e_d5b5_11ea_8811_38f9d3db5c17row10_col6\" class=\"data row10 col6\" >0.5450</td>\n",
       "            </tr>\n",
       "            <tr>\n",
       "                        <th id=\"T_0c5cee0e_d5b5_11ea_8811_38f9d3db5c17level0_row11\" class=\"row_heading level0 row11\" >SD</th>\n",
       "                        <td id=\"T_0c5cee0e_d5b5_11ea_8811_38f9d3db5c17row11_col0\" class=\"data row11 col0\" >0.0407</td>\n",
       "                        <td id=\"T_0c5cee0e_d5b5_11ea_8811_38f9d3db5c17row11_col1\" class=\"data row11 col1\" >0.0422</td>\n",
       "                        <td id=\"T_0c5cee0e_d5b5_11ea_8811_38f9d3db5c17row11_col2\" class=\"data row11 col2\" >0.0947</td>\n",
       "                        <td id=\"T_0c5cee0e_d5b5_11ea_8811_38f9d3db5c17row11_col3\" class=\"data row11 col3\" >0.0414</td>\n",
       "                        <td id=\"T_0c5cee0e_d5b5_11ea_8811_38f9d3db5c17row11_col4\" class=\"data row11 col4\" >0.0611</td>\n",
       "                        <td id=\"T_0c5cee0e_d5b5_11ea_8811_38f9d3db5c17row11_col5\" class=\"data row11 col5\" >0.0900</td>\n",
       "                        <td id=\"T_0c5cee0e_d5b5_11ea_8811_38f9d3db5c17row11_col6\" class=\"data row11 col6\" >0.0900</td>\n",
       "            </tr>\n",
       "    </tbody></table>"
      ],
      "text/plain": [
       "<pandas.io.formats.style.Styler at 0x128ee8550>"
      ]
     },
     "metadata": {},
     "output_type": "display_data"
    }
   ],
   "source": [
    "# custom model hyperparameters: use xgboost gpu\n",
    "example_classification_model_hyperparameters_2 = classification.create_model(\n",
    "    estimator='xgboost',\n",
    "    ltree_method = 'gpu_hist', \n",
    "    max_depth=10,\n",
    "    gpu_id = 0,\n",
    ")"
   ]
  },
  {
   "cell_type": "code",
   "execution_count": 19,
   "metadata": {},
   "outputs": [
    {
     "data": {
      "text/html": [
       "<style  type=\"text/css\" >\n",
       "    #T_16b1ba10_d5b5_11ea_8811_38f9d3db5c17row10_col0 {\n",
       "            background:  yellow;\n",
       "        }    #T_16b1ba10_d5b5_11ea_8811_38f9d3db5c17row10_col1 {\n",
       "            background:  yellow;\n",
       "        }    #T_16b1ba10_d5b5_11ea_8811_38f9d3db5c17row10_col2 {\n",
       "            background:  yellow;\n",
       "        }    #T_16b1ba10_d5b5_11ea_8811_38f9d3db5c17row10_col3 {\n",
       "            background:  yellow;\n",
       "        }    #T_16b1ba10_d5b5_11ea_8811_38f9d3db5c17row10_col4 {\n",
       "            background:  yellow;\n",
       "        }    #T_16b1ba10_d5b5_11ea_8811_38f9d3db5c17row10_col5 {\n",
       "            background:  yellow;\n",
       "        }    #T_16b1ba10_d5b5_11ea_8811_38f9d3db5c17row10_col6 {\n",
       "            background:  yellow;\n",
       "        }</style><table id=\"T_16b1ba10_d5b5_11ea_8811_38f9d3db5c17\" ><thead>    <tr>        <th class=\"blank level0\" ></th>        <th class=\"col_heading level0 col0\" >Accuracy</th>        <th class=\"col_heading level0 col1\" >AUC</th>        <th class=\"col_heading level0 col2\" >Recall</th>        <th class=\"col_heading level0 col3\" >Prec.</th>        <th class=\"col_heading level0 col4\" >F1</th>        <th class=\"col_heading level0 col5\" >Kappa</th>        <th class=\"col_heading level0 col6\" >MCC</th>    </tr></thead><tbody>\n",
       "                <tr>\n",
       "                        <th id=\"T_16b1ba10_d5b5_11ea_8811_38f9d3db5c17level0_row0\" class=\"row_heading level0 row0\" >0</th>\n",
       "                        <td id=\"T_16b1ba10_d5b5_11ea_8811_38f9d3db5c17row0_col0\" class=\"data row0 col0\" >0.8730</td>\n",
       "                        <td id=\"T_16b1ba10_d5b5_11ea_8811_38f9d3db5c17row0_col1\" class=\"data row0 col1\" >0.9332</td>\n",
       "                        <td id=\"T_16b1ba10_d5b5_11ea_8811_38f9d3db5c17row0_col2\" class=\"data row0 col2\" >0.7917</td>\n",
       "                        <td id=\"T_16b1ba10_d5b5_11ea_8811_38f9d3db5c17row0_col3\" class=\"data row0 col3\" >0.8636</td>\n",
       "                        <td id=\"T_16b1ba10_d5b5_11ea_8811_38f9d3db5c17row0_col4\" class=\"data row0 col4\" >0.8261</td>\n",
       "                        <td id=\"T_16b1ba10_d5b5_11ea_8811_38f9d3db5c17row0_col5\" class=\"data row0 col5\" >0.7264</td>\n",
       "                        <td id=\"T_16b1ba10_d5b5_11ea_8811_38f9d3db5c17row0_col6\" class=\"data row0 col6\" >0.7281</td>\n",
       "            </tr>\n",
       "            <tr>\n",
       "                        <th id=\"T_16b1ba10_d5b5_11ea_8811_38f9d3db5c17level0_row1\" class=\"row_heading level0 row1\" >1</th>\n",
       "                        <td id=\"T_16b1ba10_d5b5_11ea_8811_38f9d3db5c17row1_col0\" class=\"data row1 col0\" >0.8095</td>\n",
       "                        <td id=\"T_16b1ba10_d5b5_11ea_8811_38f9d3db5c17row1_col1\" class=\"data row1 col1\" >0.9097</td>\n",
       "                        <td id=\"T_16b1ba10_d5b5_11ea_8811_38f9d3db5c17row1_col2\" class=\"data row1 col2\" >0.7917</td>\n",
       "                        <td id=\"T_16b1ba10_d5b5_11ea_8811_38f9d3db5c17row1_col3\" class=\"data row1 col3\" >0.7308</td>\n",
       "                        <td id=\"T_16b1ba10_d5b5_11ea_8811_38f9d3db5c17row1_col4\" class=\"data row1 col4\" >0.7600</td>\n",
       "                        <td id=\"T_16b1ba10_d5b5_11ea_8811_38f9d3db5c17row1_col5\" class=\"data row1 col5\" >0.6025</td>\n",
       "                        <td id=\"T_16b1ba10_d5b5_11ea_8811_38f9d3db5c17row1_col6\" class=\"data row1 col6\" >0.6039</td>\n",
       "            </tr>\n",
       "            <tr>\n",
       "                        <th id=\"T_16b1ba10_d5b5_11ea_8811_38f9d3db5c17level0_row2\" class=\"row_heading level0 row2\" >2</th>\n",
       "                        <td id=\"T_16b1ba10_d5b5_11ea_8811_38f9d3db5c17row2_col0\" class=\"data row2 col0\" >0.8413</td>\n",
       "                        <td id=\"T_16b1ba10_d5b5_11ea_8811_38f9d3db5c17row2_col1\" class=\"data row2 col1\" >0.9199</td>\n",
       "                        <td id=\"T_16b1ba10_d5b5_11ea_8811_38f9d3db5c17row2_col2\" class=\"data row2 col2\" >0.7083</td>\n",
       "                        <td id=\"T_16b1ba10_d5b5_11ea_8811_38f9d3db5c17row2_col3\" class=\"data row2 col3\" >0.8500</td>\n",
       "                        <td id=\"T_16b1ba10_d5b5_11ea_8811_38f9d3db5c17row2_col4\" class=\"data row2 col4\" >0.7727</td>\n",
       "                        <td id=\"T_16b1ba10_d5b5_11ea_8811_38f9d3db5c17row2_col5\" class=\"data row2 col5\" >0.6523</td>\n",
       "                        <td id=\"T_16b1ba10_d5b5_11ea_8811_38f9d3db5c17row2_col6\" class=\"data row2 col6\" >0.6587</td>\n",
       "            </tr>\n",
       "            <tr>\n",
       "                        <th id=\"T_16b1ba10_d5b5_11ea_8811_38f9d3db5c17level0_row3\" class=\"row_heading level0 row3\" >3</th>\n",
       "                        <td id=\"T_16b1ba10_d5b5_11ea_8811_38f9d3db5c17row3_col0\" class=\"data row3 col0\" >0.7903</td>\n",
       "                        <td id=\"T_16b1ba10_d5b5_11ea_8811_38f9d3db5c17row3_col1\" class=\"data row3 col1\" >0.8885</td>\n",
       "                        <td id=\"T_16b1ba10_d5b5_11ea_8811_38f9d3db5c17row3_col2\" class=\"data row3 col2\" >0.5652</td>\n",
       "                        <td id=\"T_16b1ba10_d5b5_11ea_8811_38f9d3db5c17row3_col3\" class=\"data row3 col3\" >0.8125</td>\n",
       "                        <td id=\"T_16b1ba10_d5b5_11ea_8811_38f9d3db5c17row3_col4\" class=\"data row3 col4\" >0.6667</td>\n",
       "                        <td id=\"T_16b1ba10_d5b5_11ea_8811_38f9d3db5c17row3_col5\" class=\"data row3 col5\" >0.5208</td>\n",
       "                        <td id=\"T_16b1ba10_d5b5_11ea_8811_38f9d3db5c17row3_col6\" class=\"data row3 col6\" >0.5391</td>\n",
       "            </tr>\n",
       "            <tr>\n",
       "                        <th id=\"T_16b1ba10_d5b5_11ea_8811_38f9d3db5c17level0_row4\" class=\"row_heading level0 row4\" >4</th>\n",
       "                        <td id=\"T_16b1ba10_d5b5_11ea_8811_38f9d3db5c17row4_col0\" class=\"data row4 col0\" >0.8226</td>\n",
       "                        <td id=\"T_16b1ba10_d5b5_11ea_8811_38f9d3db5c17row4_col1\" class=\"data row4 col1\" >0.8712</td>\n",
       "                        <td id=\"T_16b1ba10_d5b5_11ea_8811_38f9d3db5c17row4_col2\" class=\"data row4 col2\" >0.7083</td>\n",
       "                        <td id=\"T_16b1ba10_d5b5_11ea_8811_38f9d3db5c17row4_col3\" class=\"data row4 col3\" >0.8095</td>\n",
       "                        <td id=\"T_16b1ba10_d5b5_11ea_8811_38f9d3db5c17row4_col4\" class=\"data row4 col4\" >0.7556</td>\n",
       "                        <td id=\"T_16b1ba10_d5b5_11ea_8811_38f9d3db5c17row4_col5\" class=\"data row4 col5\" >0.6173</td>\n",
       "                        <td id=\"T_16b1ba10_d5b5_11ea_8811_38f9d3db5c17row4_col6\" class=\"data row4 col6\" >0.6207</td>\n",
       "            </tr>\n",
       "            <tr>\n",
       "                        <th id=\"T_16b1ba10_d5b5_11ea_8811_38f9d3db5c17level0_row5\" class=\"row_heading level0 row5\" >5</th>\n",
       "                        <td id=\"T_16b1ba10_d5b5_11ea_8811_38f9d3db5c17row5_col0\" class=\"data row5 col0\" >0.8548</td>\n",
       "                        <td id=\"T_16b1ba10_d5b5_11ea_8811_38f9d3db5c17row5_col1\" class=\"data row5 col1\" >0.8925</td>\n",
       "                        <td id=\"T_16b1ba10_d5b5_11ea_8811_38f9d3db5c17row5_col2\" class=\"data row5 col2\" >0.7083</td>\n",
       "                        <td id=\"T_16b1ba10_d5b5_11ea_8811_38f9d3db5c17row5_col3\" class=\"data row5 col3\" >0.8947</td>\n",
       "                        <td id=\"T_16b1ba10_d5b5_11ea_8811_38f9d3db5c17row5_col4\" class=\"data row5 col4\" >0.7907</td>\n",
       "                        <td id=\"T_16b1ba10_d5b5_11ea_8811_38f9d3db5c17row5_col5\" class=\"data row5 col5\" >0.6819</td>\n",
       "                        <td id=\"T_16b1ba10_d5b5_11ea_8811_38f9d3db5c17row5_col6\" class=\"data row5 col6\" >0.6928</td>\n",
       "            </tr>\n",
       "            <tr>\n",
       "                        <th id=\"T_16b1ba10_d5b5_11ea_8811_38f9d3db5c17level0_row6\" class=\"row_heading level0 row6\" >6</th>\n",
       "                        <td id=\"T_16b1ba10_d5b5_11ea_8811_38f9d3db5c17row6_col0\" class=\"data row6 col0\" >0.7742</td>\n",
       "                        <td id=\"T_16b1ba10_d5b5_11ea_8811_38f9d3db5c17row6_col1\" class=\"data row6 col1\" >0.8602</td>\n",
       "                        <td id=\"T_16b1ba10_d5b5_11ea_8811_38f9d3db5c17row6_col2\" class=\"data row6 col2\" >0.5417</td>\n",
       "                        <td id=\"T_16b1ba10_d5b5_11ea_8811_38f9d3db5c17row6_col3\" class=\"data row6 col3\" >0.8125</td>\n",
       "                        <td id=\"T_16b1ba10_d5b5_11ea_8811_38f9d3db5c17row6_col4\" class=\"data row6 col4\" >0.6500</td>\n",
       "                        <td id=\"T_16b1ba10_d5b5_11ea_8811_38f9d3db5c17row6_col5\" class=\"data row6 col5\" >0.4930</td>\n",
       "                        <td id=\"T_16b1ba10_d5b5_11ea_8811_38f9d3db5c17row6_col6\" class=\"data row6 col6\" >0.5151</td>\n",
       "            </tr>\n",
       "            <tr>\n",
       "                        <th id=\"T_16b1ba10_d5b5_11ea_8811_38f9d3db5c17level0_row7\" class=\"row_heading level0 row7\" >7</th>\n",
       "                        <td id=\"T_16b1ba10_d5b5_11ea_8811_38f9d3db5c17row7_col0\" class=\"data row7 col0\" >0.8065</td>\n",
       "                        <td id=\"T_16b1ba10_d5b5_11ea_8811_38f9d3db5c17row7_col1\" class=\"data row7 col1\" >0.8525</td>\n",
       "                        <td id=\"T_16b1ba10_d5b5_11ea_8811_38f9d3db5c17row7_col2\" class=\"data row7 col2\" >0.7500</td>\n",
       "                        <td id=\"T_16b1ba10_d5b5_11ea_8811_38f9d3db5c17row7_col3\" class=\"data row7 col3\" >0.7500</td>\n",
       "                        <td id=\"T_16b1ba10_d5b5_11ea_8811_38f9d3db5c17row7_col4\" class=\"data row7 col4\" >0.7500</td>\n",
       "                        <td id=\"T_16b1ba10_d5b5_11ea_8811_38f9d3db5c17row7_col5\" class=\"data row7 col5\" >0.5921</td>\n",
       "                        <td id=\"T_16b1ba10_d5b5_11ea_8811_38f9d3db5c17row7_col6\" class=\"data row7 col6\" >0.5921</td>\n",
       "            </tr>\n",
       "            <tr>\n",
       "                        <th id=\"T_16b1ba10_d5b5_11ea_8811_38f9d3db5c17level0_row8\" class=\"row_heading level0 row8\" >8</th>\n",
       "                        <td id=\"T_16b1ba10_d5b5_11ea_8811_38f9d3db5c17row8_col0\" class=\"data row8 col0\" >0.8710</td>\n",
       "                        <td id=\"T_16b1ba10_d5b5_11ea_8811_38f9d3db5c17row8_col1\" class=\"data row8 col1\" >0.8651</td>\n",
       "                        <td id=\"T_16b1ba10_d5b5_11ea_8811_38f9d3db5c17row8_col2\" class=\"data row8 col2\" >0.7917</td>\n",
       "                        <td id=\"T_16b1ba10_d5b5_11ea_8811_38f9d3db5c17row8_col3\" class=\"data row8 col3\" >0.8636</td>\n",
       "                        <td id=\"T_16b1ba10_d5b5_11ea_8811_38f9d3db5c17row8_col4\" class=\"data row8 col4\" >0.8261</td>\n",
       "                        <td id=\"T_16b1ba10_d5b5_11ea_8811_38f9d3db5c17row8_col5\" class=\"data row8 col5\" >0.7238</td>\n",
       "                        <td id=\"T_16b1ba10_d5b5_11ea_8811_38f9d3db5c17row8_col6\" class=\"data row8 col6\" >0.7256</td>\n",
       "            </tr>\n",
       "            <tr>\n",
       "                        <th id=\"T_16b1ba10_d5b5_11ea_8811_38f9d3db5c17level0_row9\" class=\"row_heading level0 row9\" >9</th>\n",
       "                        <td id=\"T_16b1ba10_d5b5_11ea_8811_38f9d3db5c17row9_col0\" class=\"data row9 col0\" >0.7742</td>\n",
       "                        <td id=\"T_16b1ba10_d5b5_11ea_8811_38f9d3db5c17row9_col1\" class=\"data row9 col1\" >0.8169</td>\n",
       "                        <td id=\"T_16b1ba10_d5b5_11ea_8811_38f9d3db5c17row9_col2\" class=\"data row9 col2\" >0.5833</td>\n",
       "                        <td id=\"T_16b1ba10_d5b5_11ea_8811_38f9d3db5c17row9_col3\" class=\"data row9 col3\" >0.7778</td>\n",
       "                        <td id=\"T_16b1ba10_d5b5_11ea_8811_38f9d3db5c17row9_col4\" class=\"data row9 col4\" >0.6667</td>\n",
       "                        <td id=\"T_16b1ba10_d5b5_11ea_8811_38f9d3db5c17row9_col5\" class=\"data row9 col5\" >0.5011</td>\n",
       "                        <td id=\"T_16b1ba10_d5b5_11ea_8811_38f9d3db5c17row9_col6\" class=\"data row9 col6\" >0.5130</td>\n",
       "            </tr>\n",
       "            <tr>\n",
       "                        <th id=\"T_16b1ba10_d5b5_11ea_8811_38f9d3db5c17level0_row10\" class=\"row_heading level0 row10\" >Mean</th>\n",
       "                        <td id=\"T_16b1ba10_d5b5_11ea_8811_38f9d3db5c17row10_col0\" class=\"data row10 col0\" >0.8217</td>\n",
       "                        <td id=\"T_16b1ba10_d5b5_11ea_8811_38f9d3db5c17row10_col1\" class=\"data row10 col1\" >0.8810</td>\n",
       "                        <td id=\"T_16b1ba10_d5b5_11ea_8811_38f9d3db5c17row10_col2\" class=\"data row10 col2\" >0.6940</td>\n",
       "                        <td id=\"T_16b1ba10_d5b5_11ea_8811_38f9d3db5c17row10_col3\" class=\"data row10 col3\" >0.8165</td>\n",
       "                        <td id=\"T_16b1ba10_d5b5_11ea_8811_38f9d3db5c17row10_col4\" class=\"data row10 col4\" >0.7464</td>\n",
       "                        <td id=\"T_16b1ba10_d5b5_11ea_8811_38f9d3db5c17row10_col5\" class=\"data row10 col5\" >0.6111</td>\n",
       "                        <td id=\"T_16b1ba10_d5b5_11ea_8811_38f9d3db5c17row10_col6\" class=\"data row10 col6\" >0.6189</td>\n",
       "            </tr>\n",
       "            <tr>\n",
       "                        <th id=\"T_16b1ba10_d5b5_11ea_8811_38f9d3db5c17level0_row11\" class=\"row_heading level0 row11\" >SD</th>\n",
       "                        <td id=\"T_16b1ba10_d5b5_11ea_8811_38f9d3db5c17row11_col0\" class=\"data row11 col0\" >0.0352</td>\n",
       "                        <td id=\"T_16b1ba10_d5b5_11ea_8811_38f9d3db5c17row11_col1\" class=\"data row11 col1\" >0.0331</td>\n",
       "                        <td id=\"T_16b1ba10_d5b5_11ea_8811_38f9d3db5c17row11_col2\" class=\"data row11 col2\" >0.0919</td>\n",
       "                        <td id=\"T_16b1ba10_d5b5_11ea_8811_38f9d3db5c17row11_col3\" class=\"data row11 col3\" >0.0500</td>\n",
       "                        <td id=\"T_16b1ba10_d5b5_11ea_8811_38f9d3db5c17row11_col4\" class=\"data row11 col4\" >0.0614</td>\n",
       "                        <td id=\"T_16b1ba10_d5b5_11ea_8811_38f9d3db5c17row11_col5\" class=\"data row11 col5\" >0.0821</td>\n",
       "                        <td id=\"T_16b1ba10_d5b5_11ea_8811_38f9d3db5c17row11_col6\" class=\"data row11 col6\" >0.0772</td>\n",
       "            </tr>\n",
       "    </tbody></table>"
      ],
      "text/plain": [
       "<pandas.io.formats.style.Styler at 0x128f4a670>"
      ]
     },
     "metadata": {},
     "output_type": "display_data"
    }
   ],
   "source": [
    "# automatically tune model for accuracy \n",
    "# can use custom_grid={} to fine tune specific parameters \n",
    "tuned_classification_model = classification.tune_model(\n",
    "    estimator=classification_model,\n",
    "    n_iter=100,\n",
    "    optimize = 'AUC',\n",
    ")"
   ]
  },
  {
   "cell_type": "code",
   "execution_count": 20,
   "metadata": {},
   "outputs": [
    {
     "data": {
      "text/html": [
       "<style  type=\"text/css\" >\n",
       "    #T_1fe894c8_d5b5_11ea_8811_38f9d3db5c17row10_col0 {\n",
       "            background:  yellow;\n",
       "        }    #T_1fe894c8_d5b5_11ea_8811_38f9d3db5c17row10_col1 {\n",
       "            background:  yellow;\n",
       "        }    #T_1fe894c8_d5b5_11ea_8811_38f9d3db5c17row10_col2 {\n",
       "            background:  yellow;\n",
       "        }    #T_1fe894c8_d5b5_11ea_8811_38f9d3db5c17row10_col3 {\n",
       "            background:  yellow;\n",
       "        }    #T_1fe894c8_d5b5_11ea_8811_38f9d3db5c17row10_col4 {\n",
       "            background:  yellow;\n",
       "        }    #T_1fe894c8_d5b5_11ea_8811_38f9d3db5c17row10_col5 {\n",
       "            background:  yellow;\n",
       "        }    #T_1fe894c8_d5b5_11ea_8811_38f9d3db5c17row10_col6 {\n",
       "            background:  yellow;\n",
       "        }</style><table id=\"T_1fe894c8_d5b5_11ea_8811_38f9d3db5c17\" ><thead>    <tr>        <th class=\"blank level0\" ></th>        <th class=\"col_heading level0 col0\" >Accuracy</th>        <th class=\"col_heading level0 col1\" >AUC</th>        <th class=\"col_heading level0 col2\" >Recall</th>        <th class=\"col_heading level0 col3\" >Prec.</th>        <th class=\"col_heading level0 col4\" >F1</th>        <th class=\"col_heading level0 col5\" >Kappa</th>        <th class=\"col_heading level0 col6\" >MCC</th>    </tr></thead><tbody>\n",
       "                <tr>\n",
       "                        <th id=\"T_1fe894c8_d5b5_11ea_8811_38f9d3db5c17level0_row0\" class=\"row_heading level0 row0\" >0</th>\n",
       "                        <td id=\"T_1fe894c8_d5b5_11ea_8811_38f9d3db5c17row0_col0\" class=\"data row0 col0\" >0.8571</td>\n",
       "                        <td id=\"T_1fe894c8_d5b5_11ea_8811_38f9d3db5c17row0_col1\" class=\"data row0 col1\" >0.9274</td>\n",
       "                        <td id=\"T_1fe894c8_d5b5_11ea_8811_38f9d3db5c17row0_col2\" class=\"data row0 col2\" >0.7917</td>\n",
       "                        <td id=\"T_1fe894c8_d5b5_11ea_8811_38f9d3db5c17row0_col3\" class=\"data row0 col3\" >0.8261</td>\n",
       "                        <td id=\"T_1fe894c8_d5b5_11ea_8811_38f9d3db5c17row0_col4\" class=\"data row0 col4\" >0.8085</td>\n",
       "                        <td id=\"T_1fe894c8_d5b5_11ea_8811_38f9d3db5c17row0_col5\" class=\"data row0 col5\" >0.6947</td>\n",
       "                        <td id=\"T_1fe894c8_d5b5_11ea_8811_38f9d3db5c17row0_col6\" class=\"data row0 col6\" >0.6951</td>\n",
       "            </tr>\n",
       "            <tr>\n",
       "                        <th id=\"T_1fe894c8_d5b5_11ea_8811_38f9d3db5c17level0_row1\" class=\"row_heading level0 row1\" >1</th>\n",
       "                        <td id=\"T_1fe894c8_d5b5_11ea_8811_38f9d3db5c17row1_col0\" class=\"data row1 col0\" >0.8254</td>\n",
       "                        <td id=\"T_1fe894c8_d5b5_11ea_8811_38f9d3db5c17row1_col1\" class=\"data row1 col1\" >0.9193</td>\n",
       "                        <td id=\"T_1fe894c8_d5b5_11ea_8811_38f9d3db5c17row1_col2\" class=\"data row1 col2\" >0.7917</td>\n",
       "                        <td id=\"T_1fe894c8_d5b5_11ea_8811_38f9d3db5c17row1_col3\" class=\"data row1 col3\" >0.7600</td>\n",
       "                        <td id=\"T_1fe894c8_d5b5_11ea_8811_38f9d3db5c17row1_col4\" class=\"data row1 col4\" >0.7755</td>\n",
       "                        <td id=\"T_1fe894c8_d5b5_11ea_8811_38f9d3db5c17row1_col5\" class=\"data row1 col5\" >0.6328</td>\n",
       "                        <td id=\"T_1fe894c8_d5b5_11ea_8811_38f9d3db5c17row1_col6\" class=\"data row1 col6\" >0.6331</td>\n",
       "            </tr>\n",
       "            <tr>\n",
       "                        <th id=\"T_1fe894c8_d5b5_11ea_8811_38f9d3db5c17level0_row2\" class=\"row_heading level0 row2\" >2</th>\n",
       "                        <td id=\"T_1fe894c8_d5b5_11ea_8811_38f9d3db5c17row2_col0\" class=\"data row2 col0\" >0.8254</td>\n",
       "                        <td id=\"T_1fe894c8_d5b5_11ea_8811_38f9d3db5c17row2_col1\" class=\"data row2 col1\" >0.9017</td>\n",
       "                        <td id=\"T_1fe894c8_d5b5_11ea_8811_38f9d3db5c17row2_col2\" class=\"data row2 col2\" >0.7083</td>\n",
       "                        <td id=\"T_1fe894c8_d5b5_11ea_8811_38f9d3db5c17row2_col3\" class=\"data row2 col3\" >0.8095</td>\n",
       "                        <td id=\"T_1fe894c8_d5b5_11ea_8811_38f9d3db5c17row2_col4\" class=\"data row2 col4\" >0.7556</td>\n",
       "                        <td id=\"T_1fe894c8_d5b5_11ea_8811_38f9d3db5c17row2_col5\" class=\"data row2 col5\" >0.6207</td>\n",
       "                        <td id=\"T_1fe894c8_d5b5_11ea_8811_38f9d3db5c17row2_col6\" class=\"data row2 col6\" >0.6240</td>\n",
       "            </tr>\n",
       "            <tr>\n",
       "                        <th id=\"T_1fe894c8_d5b5_11ea_8811_38f9d3db5c17level0_row3\" class=\"row_heading level0 row3\" >3</th>\n",
       "                        <td id=\"T_1fe894c8_d5b5_11ea_8811_38f9d3db5c17row3_col0\" class=\"data row3 col0\" >0.7903</td>\n",
       "                        <td id=\"T_1fe894c8_d5b5_11ea_8811_38f9d3db5c17row3_col1\" class=\"data row3 col1\" >0.8974</td>\n",
       "                        <td id=\"T_1fe894c8_d5b5_11ea_8811_38f9d3db5c17row3_col2\" class=\"data row3 col2\" >0.5652</td>\n",
       "                        <td id=\"T_1fe894c8_d5b5_11ea_8811_38f9d3db5c17row3_col3\" class=\"data row3 col3\" >0.8125</td>\n",
       "                        <td id=\"T_1fe894c8_d5b5_11ea_8811_38f9d3db5c17row3_col4\" class=\"data row3 col4\" >0.6667</td>\n",
       "                        <td id=\"T_1fe894c8_d5b5_11ea_8811_38f9d3db5c17row3_col5\" class=\"data row3 col5\" >0.5208</td>\n",
       "                        <td id=\"T_1fe894c8_d5b5_11ea_8811_38f9d3db5c17row3_col6\" class=\"data row3 col6\" >0.5391</td>\n",
       "            </tr>\n",
       "            <tr>\n",
       "                        <th id=\"T_1fe894c8_d5b5_11ea_8811_38f9d3db5c17level0_row4\" class=\"row_heading level0 row4\" >4</th>\n",
       "                        <td id=\"T_1fe894c8_d5b5_11ea_8811_38f9d3db5c17row4_col0\" class=\"data row4 col0\" >0.8065</td>\n",
       "                        <td id=\"T_1fe894c8_d5b5_11ea_8811_38f9d3db5c17row4_col1\" class=\"data row4 col1\" >0.8701</td>\n",
       "                        <td id=\"T_1fe894c8_d5b5_11ea_8811_38f9d3db5c17row4_col2\" class=\"data row4 col2\" >0.7083</td>\n",
       "                        <td id=\"T_1fe894c8_d5b5_11ea_8811_38f9d3db5c17row4_col3\" class=\"data row4 col3\" >0.7727</td>\n",
       "                        <td id=\"T_1fe894c8_d5b5_11ea_8811_38f9d3db5c17row4_col4\" class=\"data row4 col4\" >0.7391</td>\n",
       "                        <td id=\"T_1fe894c8_d5b5_11ea_8811_38f9d3db5c17row4_col5\" class=\"data row4 col5\" >0.5857</td>\n",
       "                        <td id=\"T_1fe894c8_d5b5_11ea_8811_38f9d3db5c17row4_col6\" class=\"data row4 col6\" >0.5871</td>\n",
       "            </tr>\n",
       "            <tr>\n",
       "                        <th id=\"T_1fe894c8_d5b5_11ea_8811_38f9d3db5c17level0_row5\" class=\"row_heading level0 row5\" >5</th>\n",
       "                        <td id=\"T_1fe894c8_d5b5_11ea_8811_38f9d3db5c17row5_col0\" class=\"data row5 col0\" >0.8548</td>\n",
       "                        <td id=\"T_1fe894c8_d5b5_11ea_8811_38f9d3db5c17row5_col1\" class=\"data row5 col1\" >0.8980</td>\n",
       "                        <td id=\"T_1fe894c8_d5b5_11ea_8811_38f9d3db5c17row5_col2\" class=\"data row5 col2\" >0.7083</td>\n",
       "                        <td id=\"T_1fe894c8_d5b5_11ea_8811_38f9d3db5c17row5_col3\" class=\"data row5 col3\" >0.8947</td>\n",
       "                        <td id=\"T_1fe894c8_d5b5_11ea_8811_38f9d3db5c17row5_col4\" class=\"data row5 col4\" >0.7907</td>\n",
       "                        <td id=\"T_1fe894c8_d5b5_11ea_8811_38f9d3db5c17row5_col5\" class=\"data row5 col5\" >0.6819</td>\n",
       "                        <td id=\"T_1fe894c8_d5b5_11ea_8811_38f9d3db5c17row5_col6\" class=\"data row5 col6\" >0.6928</td>\n",
       "            </tr>\n",
       "            <tr>\n",
       "                        <th id=\"T_1fe894c8_d5b5_11ea_8811_38f9d3db5c17level0_row6\" class=\"row_heading level0 row6\" >6</th>\n",
       "                        <td id=\"T_1fe894c8_d5b5_11ea_8811_38f9d3db5c17row6_col0\" class=\"data row6 col0\" >0.7903</td>\n",
       "                        <td id=\"T_1fe894c8_d5b5_11ea_8811_38f9d3db5c17row6_col1\" class=\"data row6 col1\" >0.8591</td>\n",
       "                        <td id=\"T_1fe894c8_d5b5_11ea_8811_38f9d3db5c17row6_col2\" class=\"data row6 col2\" >0.5833</td>\n",
       "                        <td id=\"T_1fe894c8_d5b5_11ea_8811_38f9d3db5c17row6_col3\" class=\"data row6 col3\" >0.8235</td>\n",
       "                        <td id=\"T_1fe894c8_d5b5_11ea_8811_38f9d3db5c17row6_col4\" class=\"data row6 col4\" >0.6829</td>\n",
       "                        <td id=\"T_1fe894c8_d5b5_11ea_8811_38f9d3db5c17row6_col5\" class=\"data row6 col5\" >0.5330</td>\n",
       "                        <td id=\"T_1fe894c8_d5b5_11ea_8811_38f9d3db5c17row6_col6\" class=\"data row6 col6\" >0.5507</td>\n",
       "            </tr>\n",
       "            <tr>\n",
       "                        <th id=\"T_1fe894c8_d5b5_11ea_8811_38f9d3db5c17level0_row7\" class=\"row_heading level0 row7\" >7</th>\n",
       "                        <td id=\"T_1fe894c8_d5b5_11ea_8811_38f9d3db5c17row7_col0\" class=\"data row7 col0\" >0.7581</td>\n",
       "                        <td id=\"T_1fe894c8_d5b5_11ea_8811_38f9d3db5c17row7_col1\" class=\"data row7 col1\" >0.8410</td>\n",
       "                        <td id=\"T_1fe894c8_d5b5_11ea_8811_38f9d3db5c17row7_col2\" class=\"data row7 col2\" >0.7500</td>\n",
       "                        <td id=\"T_1fe894c8_d5b5_11ea_8811_38f9d3db5c17row7_col3\" class=\"data row7 col3\" >0.6667</td>\n",
       "                        <td id=\"T_1fe894c8_d5b5_11ea_8811_38f9d3db5c17row7_col4\" class=\"data row7 col4\" >0.7059</td>\n",
       "                        <td id=\"T_1fe894c8_d5b5_11ea_8811_38f9d3db5c17row7_col5\" class=\"data row7 col5\" >0.5016</td>\n",
       "                        <td id=\"T_1fe894c8_d5b5_11ea_8811_38f9d3db5c17row7_col6\" class=\"data row7 col6\" >0.5041</td>\n",
       "            </tr>\n",
       "            <tr>\n",
       "                        <th id=\"T_1fe894c8_d5b5_11ea_8811_38f9d3db5c17level0_row8\" class=\"row_heading level0 row8\" >8</th>\n",
       "                        <td id=\"T_1fe894c8_d5b5_11ea_8811_38f9d3db5c17row8_col0\" class=\"data row8 col0\" >0.8387</td>\n",
       "                        <td id=\"T_1fe894c8_d5b5_11ea_8811_38f9d3db5c17row8_col1\" class=\"data row8 col1\" >0.8876</td>\n",
       "                        <td id=\"T_1fe894c8_d5b5_11ea_8811_38f9d3db5c17row8_col2\" class=\"data row8 col2\" >0.7917</td>\n",
       "                        <td id=\"T_1fe894c8_d5b5_11ea_8811_38f9d3db5c17row8_col3\" class=\"data row8 col3\" >0.7917</td>\n",
       "                        <td id=\"T_1fe894c8_d5b5_11ea_8811_38f9d3db5c17row8_col4\" class=\"data row8 col4\" >0.7917</td>\n",
       "                        <td id=\"T_1fe894c8_d5b5_11ea_8811_38f9d3db5c17row8_col5\" class=\"data row8 col5\" >0.6601</td>\n",
       "                        <td id=\"T_1fe894c8_d5b5_11ea_8811_38f9d3db5c17row8_col6\" class=\"data row8 col6\" >0.6601</td>\n",
       "            </tr>\n",
       "            <tr>\n",
       "                        <th id=\"T_1fe894c8_d5b5_11ea_8811_38f9d3db5c17level0_row9\" class=\"row_heading level0 row9\" >9</th>\n",
       "                        <td id=\"T_1fe894c8_d5b5_11ea_8811_38f9d3db5c17row9_col0\" class=\"data row9 col0\" >0.7742</td>\n",
       "                        <td id=\"T_1fe894c8_d5b5_11ea_8811_38f9d3db5c17row9_col1\" class=\"data row9 col1\" >0.8355</td>\n",
       "                        <td id=\"T_1fe894c8_d5b5_11ea_8811_38f9d3db5c17row9_col2\" class=\"data row9 col2\" >0.5833</td>\n",
       "                        <td id=\"T_1fe894c8_d5b5_11ea_8811_38f9d3db5c17row9_col3\" class=\"data row9 col3\" >0.7778</td>\n",
       "                        <td id=\"T_1fe894c8_d5b5_11ea_8811_38f9d3db5c17row9_col4\" class=\"data row9 col4\" >0.6667</td>\n",
       "                        <td id=\"T_1fe894c8_d5b5_11ea_8811_38f9d3db5c17row9_col5\" class=\"data row9 col5\" >0.5011</td>\n",
       "                        <td id=\"T_1fe894c8_d5b5_11ea_8811_38f9d3db5c17row9_col6\" class=\"data row9 col6\" >0.5130</td>\n",
       "            </tr>\n",
       "            <tr>\n",
       "                        <th id=\"T_1fe894c8_d5b5_11ea_8811_38f9d3db5c17level0_row10\" class=\"row_heading level0 row10\" >Mean</th>\n",
       "                        <td id=\"T_1fe894c8_d5b5_11ea_8811_38f9d3db5c17row10_col0\" class=\"data row10 col0\" >0.8121</td>\n",
       "                        <td id=\"T_1fe894c8_d5b5_11ea_8811_38f9d3db5c17row10_col1\" class=\"data row10 col1\" >0.8837</td>\n",
       "                        <td id=\"T_1fe894c8_d5b5_11ea_8811_38f9d3db5c17row10_col2\" class=\"data row10 col2\" >0.6982</td>\n",
       "                        <td id=\"T_1fe894c8_d5b5_11ea_8811_38f9d3db5c17row10_col3\" class=\"data row10 col3\" >0.7935</td>\n",
       "                        <td id=\"T_1fe894c8_d5b5_11ea_8811_38f9d3db5c17row10_col4\" class=\"data row10 col4\" >0.7383</td>\n",
       "                        <td id=\"T_1fe894c8_d5b5_11ea_8811_38f9d3db5c17row10_col5\" class=\"data row10 col5\" >0.5932</td>\n",
       "                        <td id=\"T_1fe894c8_d5b5_11ea_8811_38f9d3db5c17row10_col6\" class=\"data row10 col6\" >0.5999</td>\n",
       "            </tr>\n",
       "            <tr>\n",
       "                        <th id=\"T_1fe894c8_d5b5_11ea_8811_38f9d3db5c17level0_row11\" class=\"row_heading level0 row11\" >SD</th>\n",
       "                        <td id=\"T_1fe894c8_d5b5_11ea_8811_38f9d3db5c17row11_col0\" class=\"data row11 col0\" >0.0320</td>\n",
       "                        <td id=\"T_1fe894c8_d5b5_11ea_8811_38f9d3db5c17row11_col1\" class=\"data row11 col1\" >0.0297</td>\n",
       "                        <td id=\"T_1fe894c8_d5b5_11ea_8811_38f9d3db5c17row11_col2\" class=\"data row11 col2\" >0.0856</td>\n",
       "                        <td id=\"T_1fe894c8_d5b5_11ea_8811_38f9d3db5c17row11_col3\" class=\"data row11 col3\" >0.0554</td>\n",
       "                        <td id=\"T_1fe894c8_d5b5_11ea_8811_38f9d3db5c17row11_col4\" class=\"data row11 col4\" >0.0516</td>\n",
       "                        <td id=\"T_1fe894c8_d5b5_11ea_8811_38f9d3db5c17row11_col5\" class=\"data row11 col5\" >0.0712</td>\n",
       "                        <td id=\"T_1fe894c8_d5b5_11ea_8811_38f9d3db5c17row11_col6\" class=\"data row11 col6\" >0.0678</td>\n",
       "            </tr>\n",
       "    </tbody></table>"
      ],
      "text/plain": [
       "<pandas.io.formats.style.Styler at 0x11ef5d640>"
      ]
     },
     "metadata": {},
     "output_type": "display_data"
    }
   ],
   "source": [
    "# automatically tune model for other metric \n",
    "tuned_classification_model_2 = classification.tune_model(\n",
    "    estimator=classification_model,\n",
    "    n_iter=100,\n",
    "    optimize = 'F1',\n",
    ")"
   ]
  },
  {
   "cell_type": "code",
   "execution_count": 21,
   "metadata": {},
   "outputs": [
    {
     "data": {
      "application/vnd.jupyter.widget-view+json": {
       "model_id": "3663cd90b2f7408a833ebc7984c833c6",
       "version_major": 2,
       "version_minor": 0
      },
      "text/plain": [
       "interactive(children=(ToggleButtons(description='Plot Type:', icons=('',), options=(('Hyperparameters', 'param…"
      ]
     },
     "metadata": {},
     "output_type": "display_data"
    }
   ],
   "source": [
    "# model evaluation plots\n",
    "classification.evaluate_model(\n",
    "    estimator=tuned_classification_model\n",
    ")"
   ]
  },
  {
   "cell_type": "code",
   "execution_count": 22,
   "metadata": {},
   "outputs": [
    {
     "data": {
      "text/html": [
       "<style  type=\"text/css\" >\n",
       "    #T_25539c5a_d5b5_11ea_8811_38f9d3db5c17row10_col0 {\n",
       "            background:  yellow;\n",
       "        }    #T_25539c5a_d5b5_11ea_8811_38f9d3db5c17row10_col1 {\n",
       "            background:  yellow;\n",
       "        }    #T_25539c5a_d5b5_11ea_8811_38f9d3db5c17row10_col2 {\n",
       "            background:  yellow;\n",
       "        }    #T_25539c5a_d5b5_11ea_8811_38f9d3db5c17row10_col3 {\n",
       "            background:  yellow;\n",
       "        }    #T_25539c5a_d5b5_11ea_8811_38f9d3db5c17row10_col4 {\n",
       "            background:  yellow;\n",
       "        }    #T_25539c5a_d5b5_11ea_8811_38f9d3db5c17row10_col5 {\n",
       "            background:  yellow;\n",
       "        }    #T_25539c5a_d5b5_11ea_8811_38f9d3db5c17row10_col6 {\n",
       "            background:  yellow;\n",
       "        }</style><table id=\"T_25539c5a_d5b5_11ea_8811_38f9d3db5c17\" ><thead>    <tr>        <th class=\"blank level0\" ></th>        <th class=\"col_heading level0 col0\" >Accuracy</th>        <th class=\"col_heading level0 col1\" >AUC</th>        <th class=\"col_heading level0 col2\" >Recall</th>        <th class=\"col_heading level0 col3\" >Prec.</th>        <th class=\"col_heading level0 col4\" >F1</th>        <th class=\"col_heading level0 col5\" >Kappa</th>        <th class=\"col_heading level0 col6\" >MCC</th>    </tr></thead><tbody>\n",
       "                <tr>\n",
       "                        <th id=\"T_25539c5a_d5b5_11ea_8811_38f9d3db5c17level0_row0\" class=\"row_heading level0 row0\" >0</th>\n",
       "                        <td id=\"T_25539c5a_d5b5_11ea_8811_38f9d3db5c17row0_col0\" class=\"data row0 col0\" >0.8730</td>\n",
       "                        <td id=\"T_25539c5a_d5b5_11ea_8811_38f9d3db5c17row0_col1\" class=\"data row0 col1\" >0.9348</td>\n",
       "                        <td id=\"T_25539c5a_d5b5_11ea_8811_38f9d3db5c17row0_col2\" class=\"data row0 col2\" >0.7917</td>\n",
       "                        <td id=\"T_25539c5a_d5b5_11ea_8811_38f9d3db5c17row0_col3\" class=\"data row0 col3\" >0.8636</td>\n",
       "                        <td id=\"T_25539c5a_d5b5_11ea_8811_38f9d3db5c17row0_col4\" class=\"data row0 col4\" >0.8261</td>\n",
       "                        <td id=\"T_25539c5a_d5b5_11ea_8811_38f9d3db5c17row0_col5\" class=\"data row0 col5\" >0.7264</td>\n",
       "                        <td id=\"T_25539c5a_d5b5_11ea_8811_38f9d3db5c17row0_col6\" class=\"data row0 col6\" >0.7281</td>\n",
       "            </tr>\n",
       "            <tr>\n",
       "                        <th id=\"T_25539c5a_d5b5_11ea_8811_38f9d3db5c17level0_row1\" class=\"row_heading level0 row1\" >1</th>\n",
       "                        <td id=\"T_25539c5a_d5b5_11ea_8811_38f9d3db5c17row1_col0\" class=\"data row1 col0\" >0.8095</td>\n",
       "                        <td id=\"T_25539c5a_d5b5_11ea_8811_38f9d3db5c17row1_col1\" class=\"data row1 col1\" >0.9167</td>\n",
       "                        <td id=\"T_25539c5a_d5b5_11ea_8811_38f9d3db5c17row1_col2\" class=\"data row1 col2\" >0.7917</td>\n",
       "                        <td id=\"T_25539c5a_d5b5_11ea_8811_38f9d3db5c17row1_col3\" class=\"data row1 col3\" >0.7308</td>\n",
       "                        <td id=\"T_25539c5a_d5b5_11ea_8811_38f9d3db5c17row1_col4\" class=\"data row1 col4\" >0.7600</td>\n",
       "                        <td id=\"T_25539c5a_d5b5_11ea_8811_38f9d3db5c17row1_col5\" class=\"data row1 col5\" >0.6025</td>\n",
       "                        <td id=\"T_25539c5a_d5b5_11ea_8811_38f9d3db5c17row1_col6\" class=\"data row1 col6\" >0.6039</td>\n",
       "            </tr>\n",
       "            <tr>\n",
       "                        <th id=\"T_25539c5a_d5b5_11ea_8811_38f9d3db5c17level0_row2\" class=\"row_heading level0 row2\" >2</th>\n",
       "                        <td id=\"T_25539c5a_d5b5_11ea_8811_38f9d3db5c17row2_col0\" class=\"data row2 col0\" >0.8571</td>\n",
       "                        <td id=\"T_25539c5a_d5b5_11ea_8811_38f9d3db5c17row2_col1\" class=\"data row2 col1\" >0.9167</td>\n",
       "                        <td id=\"T_25539c5a_d5b5_11ea_8811_38f9d3db5c17row2_col2\" class=\"data row2 col2\" >0.7083</td>\n",
       "                        <td id=\"T_25539c5a_d5b5_11ea_8811_38f9d3db5c17row2_col3\" class=\"data row2 col3\" >0.8947</td>\n",
       "                        <td id=\"T_25539c5a_d5b5_11ea_8811_38f9d3db5c17row2_col4\" class=\"data row2 col4\" >0.7907</td>\n",
       "                        <td id=\"T_25539c5a_d5b5_11ea_8811_38f9d3db5c17row2_col5\" class=\"data row2 col5\" >0.6845</td>\n",
       "                        <td id=\"T_25539c5a_d5b5_11ea_8811_38f9d3db5c17row2_col6\" class=\"data row2 col6\" >0.6952</td>\n",
       "            </tr>\n",
       "            <tr>\n",
       "                        <th id=\"T_25539c5a_d5b5_11ea_8811_38f9d3db5c17level0_row3\" class=\"row_heading level0 row3\" >3</th>\n",
       "                        <td id=\"T_25539c5a_d5b5_11ea_8811_38f9d3db5c17row3_col0\" class=\"data row3 col0\" >0.7581</td>\n",
       "                        <td id=\"T_25539c5a_d5b5_11ea_8811_38f9d3db5c17row3_col1\" class=\"data row3 col1\" >0.8852</td>\n",
       "                        <td id=\"T_25539c5a_d5b5_11ea_8811_38f9d3db5c17row3_col2\" class=\"data row3 col2\" >0.4783</td>\n",
       "                        <td id=\"T_25539c5a_d5b5_11ea_8811_38f9d3db5c17row3_col3\" class=\"data row3 col3\" >0.7857</td>\n",
       "                        <td id=\"T_25539c5a_d5b5_11ea_8811_38f9d3db5c17row3_col4\" class=\"data row3 col4\" >0.5946</td>\n",
       "                        <td id=\"T_25539c5a_d5b5_11ea_8811_38f9d3db5c17row3_col5\" class=\"data row3 col5\" >0.4364</td>\n",
       "                        <td id=\"T_25539c5a_d5b5_11ea_8811_38f9d3db5c17row3_col6\" class=\"data row3 col6\" >0.4637</td>\n",
       "            </tr>\n",
       "            <tr>\n",
       "                        <th id=\"T_25539c5a_d5b5_11ea_8811_38f9d3db5c17level0_row4\" class=\"row_heading level0 row4\" >4</th>\n",
       "                        <td id=\"T_25539c5a_d5b5_11ea_8811_38f9d3db5c17row4_col0\" class=\"data row4 col0\" >0.8226</td>\n",
       "                        <td id=\"T_25539c5a_d5b5_11ea_8811_38f9d3db5c17row4_col1\" class=\"data row4 col1\" >0.8613</td>\n",
       "                        <td id=\"T_25539c5a_d5b5_11ea_8811_38f9d3db5c17row4_col2\" class=\"data row4 col2\" >0.7083</td>\n",
       "                        <td id=\"T_25539c5a_d5b5_11ea_8811_38f9d3db5c17row4_col3\" class=\"data row4 col3\" >0.8095</td>\n",
       "                        <td id=\"T_25539c5a_d5b5_11ea_8811_38f9d3db5c17row4_col4\" class=\"data row4 col4\" >0.7556</td>\n",
       "                        <td id=\"T_25539c5a_d5b5_11ea_8811_38f9d3db5c17row4_col5\" class=\"data row4 col5\" >0.6173</td>\n",
       "                        <td id=\"T_25539c5a_d5b5_11ea_8811_38f9d3db5c17row4_col6\" class=\"data row4 col6\" >0.6207</td>\n",
       "            </tr>\n",
       "            <tr>\n",
       "                        <th id=\"T_25539c5a_d5b5_11ea_8811_38f9d3db5c17level0_row5\" class=\"row_heading level0 row5\" >5</th>\n",
       "                        <td id=\"T_25539c5a_d5b5_11ea_8811_38f9d3db5c17row5_col0\" class=\"data row5 col0\" >0.8387</td>\n",
       "                        <td id=\"T_25539c5a_d5b5_11ea_8811_38f9d3db5c17row5_col1\" class=\"data row5 col1\" >0.8936</td>\n",
       "                        <td id=\"T_25539c5a_d5b5_11ea_8811_38f9d3db5c17row5_col2\" class=\"data row5 col2\" >0.7083</td>\n",
       "                        <td id=\"T_25539c5a_d5b5_11ea_8811_38f9d3db5c17row5_col3\" class=\"data row5 col3\" >0.8500</td>\n",
       "                        <td id=\"T_25539c5a_d5b5_11ea_8811_38f9d3db5c17row5_col4\" class=\"data row5 col4\" >0.7727</td>\n",
       "                        <td id=\"T_25539c5a_d5b5_11ea_8811_38f9d3db5c17row5_col5\" class=\"data row5 col5\" >0.6493</td>\n",
       "                        <td id=\"T_25539c5a_d5b5_11ea_8811_38f9d3db5c17row5_col6\" class=\"data row5 col6\" >0.6558</td>\n",
       "            </tr>\n",
       "            <tr>\n",
       "                        <th id=\"T_25539c5a_d5b5_11ea_8811_38f9d3db5c17level0_row6\" class=\"row_heading level0 row6\" >6</th>\n",
       "                        <td id=\"T_25539c5a_d5b5_11ea_8811_38f9d3db5c17row6_col0\" class=\"data row6 col0\" >0.7742</td>\n",
       "                        <td id=\"T_25539c5a_d5b5_11ea_8811_38f9d3db5c17row6_col1\" class=\"data row6 col1\" >0.8777</td>\n",
       "                        <td id=\"T_25539c5a_d5b5_11ea_8811_38f9d3db5c17row6_col2\" class=\"data row6 col2\" >0.5417</td>\n",
       "                        <td id=\"T_25539c5a_d5b5_11ea_8811_38f9d3db5c17row6_col3\" class=\"data row6 col3\" >0.8125</td>\n",
       "                        <td id=\"T_25539c5a_d5b5_11ea_8811_38f9d3db5c17row6_col4\" class=\"data row6 col4\" >0.6500</td>\n",
       "                        <td id=\"T_25539c5a_d5b5_11ea_8811_38f9d3db5c17row6_col5\" class=\"data row6 col5\" >0.4930</td>\n",
       "                        <td id=\"T_25539c5a_d5b5_11ea_8811_38f9d3db5c17row6_col6\" class=\"data row6 col6\" >0.5151</td>\n",
       "            </tr>\n",
       "            <tr>\n",
       "                        <th id=\"T_25539c5a_d5b5_11ea_8811_38f9d3db5c17level0_row7\" class=\"row_heading level0 row7\" >7</th>\n",
       "                        <td id=\"T_25539c5a_d5b5_11ea_8811_38f9d3db5c17row7_col0\" class=\"data row7 col0\" >0.8065</td>\n",
       "                        <td id=\"T_25539c5a_d5b5_11ea_8811_38f9d3db5c17row7_col1\" class=\"data row7 col1\" >0.8443</td>\n",
       "                        <td id=\"T_25539c5a_d5b5_11ea_8811_38f9d3db5c17row7_col2\" class=\"data row7 col2\" >0.7083</td>\n",
       "                        <td id=\"T_25539c5a_d5b5_11ea_8811_38f9d3db5c17row7_col3\" class=\"data row7 col3\" >0.7727</td>\n",
       "                        <td id=\"T_25539c5a_d5b5_11ea_8811_38f9d3db5c17row7_col4\" class=\"data row7 col4\" >0.7391</td>\n",
       "                        <td id=\"T_25539c5a_d5b5_11ea_8811_38f9d3db5c17row7_col5\" class=\"data row7 col5\" >0.5857</td>\n",
       "                        <td id=\"T_25539c5a_d5b5_11ea_8811_38f9d3db5c17row7_col6\" class=\"data row7 col6\" >0.5871</td>\n",
       "            </tr>\n",
       "            <tr>\n",
       "                        <th id=\"T_25539c5a_d5b5_11ea_8811_38f9d3db5c17level0_row8\" class=\"row_heading level0 row8\" >8</th>\n",
       "                        <td id=\"T_25539c5a_d5b5_11ea_8811_38f9d3db5c17row8_col0\" class=\"data row8 col0\" >0.8710</td>\n",
       "                        <td id=\"T_25539c5a_d5b5_11ea_8811_38f9d3db5c17row8_col1\" class=\"data row8 col1\" >0.8772</td>\n",
       "                        <td id=\"T_25539c5a_d5b5_11ea_8811_38f9d3db5c17row8_col2\" class=\"data row8 col2\" >0.7917</td>\n",
       "                        <td id=\"T_25539c5a_d5b5_11ea_8811_38f9d3db5c17row8_col3\" class=\"data row8 col3\" >0.8636</td>\n",
       "                        <td id=\"T_25539c5a_d5b5_11ea_8811_38f9d3db5c17row8_col4\" class=\"data row8 col4\" >0.8261</td>\n",
       "                        <td id=\"T_25539c5a_d5b5_11ea_8811_38f9d3db5c17row8_col5\" class=\"data row8 col5\" >0.7238</td>\n",
       "                        <td id=\"T_25539c5a_d5b5_11ea_8811_38f9d3db5c17row8_col6\" class=\"data row8 col6\" >0.7256</td>\n",
       "            </tr>\n",
       "            <tr>\n",
       "                        <th id=\"T_25539c5a_d5b5_11ea_8811_38f9d3db5c17level0_row9\" class=\"row_heading level0 row9\" >9</th>\n",
       "                        <td id=\"T_25539c5a_d5b5_11ea_8811_38f9d3db5c17row9_col0\" class=\"data row9 col0\" >0.7742</td>\n",
       "                        <td id=\"T_25539c5a_d5b5_11ea_8811_38f9d3db5c17row9_col1\" class=\"data row9 col1\" >0.8191</td>\n",
       "                        <td id=\"T_25539c5a_d5b5_11ea_8811_38f9d3db5c17row9_col2\" class=\"data row9 col2\" >0.5833</td>\n",
       "                        <td id=\"T_25539c5a_d5b5_11ea_8811_38f9d3db5c17row9_col3\" class=\"data row9 col3\" >0.7778</td>\n",
       "                        <td id=\"T_25539c5a_d5b5_11ea_8811_38f9d3db5c17row9_col4\" class=\"data row9 col4\" >0.6667</td>\n",
       "                        <td id=\"T_25539c5a_d5b5_11ea_8811_38f9d3db5c17row9_col5\" class=\"data row9 col5\" >0.5011</td>\n",
       "                        <td id=\"T_25539c5a_d5b5_11ea_8811_38f9d3db5c17row9_col6\" class=\"data row9 col6\" >0.5130</td>\n",
       "            </tr>\n",
       "            <tr>\n",
       "                        <th id=\"T_25539c5a_d5b5_11ea_8811_38f9d3db5c17level0_row10\" class=\"row_heading level0 row10\" >Mean</th>\n",
       "                        <td id=\"T_25539c5a_d5b5_11ea_8811_38f9d3db5c17row10_col0\" class=\"data row10 col0\" >0.8185</td>\n",
       "                        <td id=\"T_25539c5a_d5b5_11ea_8811_38f9d3db5c17row10_col1\" class=\"data row10 col1\" >0.8827</td>\n",
       "                        <td id=\"T_25539c5a_d5b5_11ea_8811_38f9d3db5c17row10_col2\" class=\"data row10 col2\" >0.6812</td>\n",
       "                        <td id=\"T_25539c5a_d5b5_11ea_8811_38f9d3db5c17row10_col3\" class=\"data row10 col3\" >0.8161</td>\n",
       "                        <td id=\"T_25539c5a_d5b5_11ea_8811_38f9d3db5c17row10_col4\" class=\"data row10 col4\" >0.7382</td>\n",
       "                        <td id=\"T_25539c5a_d5b5_11ea_8811_38f9d3db5c17row10_col5\" class=\"data row10 col5\" >0.6020</td>\n",
       "                        <td id=\"T_25539c5a_d5b5_11ea_8811_38f9d3db5c17row10_col6\" class=\"data row10 col6\" >0.6108</td>\n",
       "            </tr>\n",
       "            <tr>\n",
       "                        <th id=\"T_25539c5a_d5b5_11ea_8811_38f9d3db5c17level0_row11\" class=\"row_heading level0 row11\" >SD</th>\n",
       "                        <td id=\"T_25539c5a_d5b5_11ea_8811_38f9d3db5c17row11_col0\" class=\"data row11 col0\" >0.0393</td>\n",
       "                        <td id=\"T_25539c5a_d5b5_11ea_8811_38f9d3db5c17row11_col1\" class=\"data row11 col1\" >0.0334</td>\n",
       "                        <td id=\"T_25539c5a_d5b5_11ea_8811_38f9d3db5c17row11_col2\" class=\"data row11 col2\" >0.1048</td>\n",
       "                        <td id=\"T_25539c5a_d5b5_11ea_8811_38f9d3db5c17row11_col3\" class=\"data row11 col3\" >0.0484</td>\n",
       "                        <td id=\"T_25539c5a_d5b5_11ea_8811_38f9d3db5c17row11_col4\" class=\"data row11 col4\" >0.0733</td>\n",
       "                        <td id=\"T_25539c5a_d5b5_11ea_8811_38f9d3db5c17row11_col5\" class=\"data row11 col5\" >0.0945</td>\n",
       "                        <td id=\"T_25539c5a_d5b5_11ea_8811_38f9d3db5c17row11_col6\" class=\"data row11 col6\" >0.0878</td>\n",
       "            </tr>\n",
       "    </tbody></table>"
      ],
      "text/plain": [
       "<pandas.io.formats.style.Styler at 0x12a1eb520>"
      ]
     },
     "metadata": {},
     "output_type": "display_data"
    }
   ],
   "source": [
    "# calibrate model\n",
    "calibrated_classification_model = classification.calibrate_model(\n",
    "    estimator=tuned_classification_model\n",
    ")"
   ]
  },
  {
   "cell_type": "code",
   "execution_count": 23,
   "metadata": {},
   "outputs": [],
   "source": [
    "# tune multiple top models simultaneously \n",
    "tuned_best_models = [classification.tune_model(i, n_iter=50, verbose=False) for i in best_classification_models]"
   ]
  },
  {
   "cell_type": "code",
   "execution_count": 24,
   "metadata": {},
   "outputs": [
    {
     "data": {
      "text/html": [
       "<style  type=\"text/css\" >\n",
       "    #T_355d616c_d5b5_11ea_8811_38f9d3db5c17row10_col0 {\n",
       "            background:  yellow;\n",
       "        }    #T_355d616c_d5b5_11ea_8811_38f9d3db5c17row10_col1 {\n",
       "            background:  yellow;\n",
       "        }    #T_355d616c_d5b5_11ea_8811_38f9d3db5c17row10_col2 {\n",
       "            background:  yellow;\n",
       "        }    #T_355d616c_d5b5_11ea_8811_38f9d3db5c17row10_col3 {\n",
       "            background:  yellow;\n",
       "        }    #T_355d616c_d5b5_11ea_8811_38f9d3db5c17row10_col4 {\n",
       "            background:  yellow;\n",
       "        }    #T_355d616c_d5b5_11ea_8811_38f9d3db5c17row10_col5 {\n",
       "            background:  yellow;\n",
       "        }    #T_355d616c_d5b5_11ea_8811_38f9d3db5c17row10_col6 {\n",
       "            background:  yellow;\n",
       "        }</style><table id=\"T_355d616c_d5b5_11ea_8811_38f9d3db5c17\" ><thead>    <tr>        <th class=\"blank level0\" ></th>        <th class=\"col_heading level0 col0\" >Accuracy</th>        <th class=\"col_heading level0 col1\" >AUC</th>        <th class=\"col_heading level0 col2\" >Recall</th>        <th class=\"col_heading level0 col3\" >Prec.</th>        <th class=\"col_heading level0 col4\" >F1</th>        <th class=\"col_heading level0 col5\" >Kappa</th>        <th class=\"col_heading level0 col6\" >MCC</th>    </tr></thead><tbody>\n",
       "                <tr>\n",
       "                        <th id=\"T_355d616c_d5b5_11ea_8811_38f9d3db5c17level0_row0\" class=\"row_heading level0 row0\" >0</th>\n",
       "                        <td id=\"T_355d616c_d5b5_11ea_8811_38f9d3db5c17row0_col0\" class=\"data row0 col0\" >0.9048</td>\n",
       "                        <td id=\"T_355d616c_d5b5_11ea_8811_38f9d3db5c17row0_col1\" class=\"data row0 col1\" >0.0000</td>\n",
       "                        <td id=\"T_355d616c_d5b5_11ea_8811_38f9d3db5c17row0_col2\" class=\"data row0 col2\" >0.8333</td>\n",
       "                        <td id=\"T_355d616c_d5b5_11ea_8811_38f9d3db5c17row0_col3\" class=\"data row0 col3\" >0.9091</td>\n",
       "                        <td id=\"T_355d616c_d5b5_11ea_8811_38f9d3db5c17row0_col4\" class=\"data row0 col4\" >0.8696</td>\n",
       "                        <td id=\"T_355d616c_d5b5_11ea_8811_38f9d3db5c17row0_col5\" class=\"data row0 col5\" >0.7948</td>\n",
       "                        <td id=\"T_355d616c_d5b5_11ea_8811_38f9d3db5c17row0_col6\" class=\"data row0 col6\" >0.7967</td>\n",
       "            </tr>\n",
       "            <tr>\n",
       "                        <th id=\"T_355d616c_d5b5_11ea_8811_38f9d3db5c17level0_row1\" class=\"row_heading level0 row1\" >1</th>\n",
       "                        <td id=\"T_355d616c_d5b5_11ea_8811_38f9d3db5c17row1_col0\" class=\"data row1 col0\" >0.8095</td>\n",
       "                        <td id=\"T_355d616c_d5b5_11ea_8811_38f9d3db5c17row1_col1\" class=\"data row1 col1\" >0.0000</td>\n",
       "                        <td id=\"T_355d616c_d5b5_11ea_8811_38f9d3db5c17row1_col2\" class=\"data row1 col2\" >0.7917</td>\n",
       "                        <td id=\"T_355d616c_d5b5_11ea_8811_38f9d3db5c17row1_col3\" class=\"data row1 col3\" >0.7308</td>\n",
       "                        <td id=\"T_355d616c_d5b5_11ea_8811_38f9d3db5c17row1_col4\" class=\"data row1 col4\" >0.7600</td>\n",
       "                        <td id=\"T_355d616c_d5b5_11ea_8811_38f9d3db5c17row1_col5\" class=\"data row1 col5\" >0.6025</td>\n",
       "                        <td id=\"T_355d616c_d5b5_11ea_8811_38f9d3db5c17row1_col6\" class=\"data row1 col6\" >0.6039</td>\n",
       "            </tr>\n",
       "            <tr>\n",
       "                        <th id=\"T_355d616c_d5b5_11ea_8811_38f9d3db5c17level0_row2\" class=\"row_heading level0 row2\" >2</th>\n",
       "                        <td id=\"T_355d616c_d5b5_11ea_8811_38f9d3db5c17row2_col0\" class=\"data row2 col0\" >0.8254</td>\n",
       "                        <td id=\"T_355d616c_d5b5_11ea_8811_38f9d3db5c17row2_col1\" class=\"data row2 col1\" >0.0000</td>\n",
       "                        <td id=\"T_355d616c_d5b5_11ea_8811_38f9d3db5c17row2_col2\" class=\"data row2 col2\" >0.7083</td>\n",
       "                        <td id=\"T_355d616c_d5b5_11ea_8811_38f9d3db5c17row2_col3\" class=\"data row2 col3\" >0.8095</td>\n",
       "                        <td id=\"T_355d616c_d5b5_11ea_8811_38f9d3db5c17row2_col4\" class=\"data row2 col4\" >0.7556</td>\n",
       "                        <td id=\"T_355d616c_d5b5_11ea_8811_38f9d3db5c17row2_col5\" class=\"data row2 col5\" >0.6207</td>\n",
       "                        <td id=\"T_355d616c_d5b5_11ea_8811_38f9d3db5c17row2_col6\" class=\"data row2 col6\" >0.6240</td>\n",
       "            </tr>\n",
       "            <tr>\n",
       "                        <th id=\"T_355d616c_d5b5_11ea_8811_38f9d3db5c17level0_row3\" class=\"row_heading level0 row3\" >3</th>\n",
       "                        <td id=\"T_355d616c_d5b5_11ea_8811_38f9d3db5c17row3_col0\" class=\"data row3 col0\" >0.8065</td>\n",
       "                        <td id=\"T_355d616c_d5b5_11ea_8811_38f9d3db5c17row3_col1\" class=\"data row3 col1\" >0.0000</td>\n",
       "                        <td id=\"T_355d616c_d5b5_11ea_8811_38f9d3db5c17row3_col2\" class=\"data row3 col2\" >0.6087</td>\n",
       "                        <td id=\"T_355d616c_d5b5_11ea_8811_38f9d3db5c17row3_col3\" class=\"data row3 col3\" >0.8235</td>\n",
       "                        <td id=\"T_355d616c_d5b5_11ea_8811_38f9d3db5c17row3_col4\" class=\"data row3 col4\" >0.7000</td>\n",
       "                        <td id=\"T_355d616c_d5b5_11ea_8811_38f9d3db5c17row3_col5\" class=\"data row3 col5\" >0.5618</td>\n",
       "                        <td id=\"T_355d616c_d5b5_11ea_8811_38f9d3db5c17row3_col6\" class=\"data row3 col6\" >0.5758</td>\n",
       "            </tr>\n",
       "            <tr>\n",
       "                        <th id=\"T_355d616c_d5b5_11ea_8811_38f9d3db5c17level0_row4\" class=\"row_heading level0 row4\" >4</th>\n",
       "                        <td id=\"T_355d616c_d5b5_11ea_8811_38f9d3db5c17row4_col0\" class=\"data row4 col0\" >0.7903</td>\n",
       "                        <td id=\"T_355d616c_d5b5_11ea_8811_38f9d3db5c17row4_col1\" class=\"data row4 col1\" >0.0000</td>\n",
       "                        <td id=\"T_355d616c_d5b5_11ea_8811_38f9d3db5c17row4_col2\" class=\"data row4 col2\" >0.7917</td>\n",
       "                        <td id=\"T_355d616c_d5b5_11ea_8811_38f9d3db5c17row4_col3\" class=\"data row4 col3\" >0.7037</td>\n",
       "                        <td id=\"T_355d616c_d5b5_11ea_8811_38f9d3db5c17row4_col4\" class=\"data row4 col4\" >0.7451</td>\n",
       "                        <td id=\"T_355d616c_d5b5_11ea_8811_38f9d3db5c17row4_col5\" class=\"data row4 col5\" >0.5681</td>\n",
       "                        <td id=\"T_355d616c_d5b5_11ea_8811_38f9d3db5c17row4_col6\" class=\"data row4 col6\" >0.5709</td>\n",
       "            </tr>\n",
       "            <tr>\n",
       "                        <th id=\"T_355d616c_d5b5_11ea_8811_38f9d3db5c17level0_row5\" class=\"row_heading level0 row5\" >5</th>\n",
       "                        <td id=\"T_355d616c_d5b5_11ea_8811_38f9d3db5c17row5_col0\" class=\"data row5 col0\" >0.8065</td>\n",
       "                        <td id=\"T_355d616c_d5b5_11ea_8811_38f9d3db5c17row5_col1\" class=\"data row5 col1\" >0.0000</td>\n",
       "                        <td id=\"T_355d616c_d5b5_11ea_8811_38f9d3db5c17row5_col2\" class=\"data row5 col2\" >0.6667</td>\n",
       "                        <td id=\"T_355d616c_d5b5_11ea_8811_38f9d3db5c17row5_col3\" class=\"data row5 col3\" >0.8000</td>\n",
       "                        <td id=\"T_355d616c_d5b5_11ea_8811_38f9d3db5c17row5_col4\" class=\"data row5 col4\" >0.7273</td>\n",
       "                        <td id=\"T_355d616c_d5b5_11ea_8811_38f9d3db5c17row5_col5\" class=\"data row5 col5\" >0.5792</td>\n",
       "                        <td id=\"T_355d616c_d5b5_11ea_8811_38f9d3db5c17row5_col6\" class=\"data row5 col6\" >0.5850</td>\n",
       "            </tr>\n",
       "            <tr>\n",
       "                        <th id=\"T_355d616c_d5b5_11ea_8811_38f9d3db5c17level0_row6\" class=\"row_heading level0 row6\" >6</th>\n",
       "                        <td id=\"T_355d616c_d5b5_11ea_8811_38f9d3db5c17row6_col0\" class=\"data row6 col0\" >0.8065</td>\n",
       "                        <td id=\"T_355d616c_d5b5_11ea_8811_38f9d3db5c17row6_col1\" class=\"data row6 col1\" >0.0000</td>\n",
       "                        <td id=\"T_355d616c_d5b5_11ea_8811_38f9d3db5c17row6_col2\" class=\"data row6 col2\" >0.6667</td>\n",
       "                        <td id=\"T_355d616c_d5b5_11ea_8811_38f9d3db5c17row6_col3\" class=\"data row6 col3\" >0.8000</td>\n",
       "                        <td id=\"T_355d616c_d5b5_11ea_8811_38f9d3db5c17row6_col4\" class=\"data row6 col4\" >0.7273</td>\n",
       "                        <td id=\"T_355d616c_d5b5_11ea_8811_38f9d3db5c17row6_col5\" class=\"data row6 col5\" >0.5792</td>\n",
       "                        <td id=\"T_355d616c_d5b5_11ea_8811_38f9d3db5c17row6_col6\" class=\"data row6 col6\" >0.5850</td>\n",
       "            </tr>\n",
       "            <tr>\n",
       "                        <th id=\"T_355d616c_d5b5_11ea_8811_38f9d3db5c17level0_row7\" class=\"row_heading level0 row7\" >7</th>\n",
       "                        <td id=\"T_355d616c_d5b5_11ea_8811_38f9d3db5c17row7_col0\" class=\"data row7 col0\" >0.8387</td>\n",
       "                        <td id=\"T_355d616c_d5b5_11ea_8811_38f9d3db5c17row7_col1\" class=\"data row7 col1\" >0.0000</td>\n",
       "                        <td id=\"T_355d616c_d5b5_11ea_8811_38f9d3db5c17row7_col2\" class=\"data row7 col2\" >0.7917</td>\n",
       "                        <td id=\"T_355d616c_d5b5_11ea_8811_38f9d3db5c17row7_col3\" class=\"data row7 col3\" >0.7917</td>\n",
       "                        <td id=\"T_355d616c_d5b5_11ea_8811_38f9d3db5c17row7_col4\" class=\"data row7 col4\" >0.7917</td>\n",
       "                        <td id=\"T_355d616c_d5b5_11ea_8811_38f9d3db5c17row7_col5\" class=\"data row7 col5\" >0.6601</td>\n",
       "                        <td id=\"T_355d616c_d5b5_11ea_8811_38f9d3db5c17row7_col6\" class=\"data row7 col6\" >0.6601</td>\n",
       "            </tr>\n",
       "            <tr>\n",
       "                        <th id=\"T_355d616c_d5b5_11ea_8811_38f9d3db5c17level0_row8\" class=\"row_heading level0 row8\" >8</th>\n",
       "                        <td id=\"T_355d616c_d5b5_11ea_8811_38f9d3db5c17row8_col0\" class=\"data row8 col0\" >0.8548</td>\n",
       "                        <td id=\"T_355d616c_d5b5_11ea_8811_38f9d3db5c17row8_col1\" class=\"data row8 col1\" >0.0000</td>\n",
       "                        <td id=\"T_355d616c_d5b5_11ea_8811_38f9d3db5c17row8_col2\" class=\"data row8 col2\" >0.7917</td>\n",
       "                        <td id=\"T_355d616c_d5b5_11ea_8811_38f9d3db5c17row8_col3\" class=\"data row8 col3\" >0.8261</td>\n",
       "                        <td id=\"T_355d616c_d5b5_11ea_8811_38f9d3db5c17row8_col4\" class=\"data row8 col4\" >0.8085</td>\n",
       "                        <td id=\"T_355d616c_d5b5_11ea_8811_38f9d3db5c17row8_col5\" class=\"data row8 col5\" >0.6917</td>\n",
       "                        <td id=\"T_355d616c_d5b5_11ea_8811_38f9d3db5c17row8_col6\" class=\"data row8 col6\" >0.6921</td>\n",
       "            </tr>\n",
       "            <tr>\n",
       "                        <th id=\"T_355d616c_d5b5_11ea_8811_38f9d3db5c17level0_row9\" class=\"row_heading level0 row9\" >9</th>\n",
       "                        <td id=\"T_355d616c_d5b5_11ea_8811_38f9d3db5c17row9_col0\" class=\"data row9 col0\" >0.7581</td>\n",
       "                        <td id=\"T_355d616c_d5b5_11ea_8811_38f9d3db5c17row9_col1\" class=\"data row9 col1\" >0.0000</td>\n",
       "                        <td id=\"T_355d616c_d5b5_11ea_8811_38f9d3db5c17row9_col2\" class=\"data row9 col2\" >0.5833</td>\n",
       "                        <td id=\"T_355d616c_d5b5_11ea_8811_38f9d3db5c17row9_col3\" class=\"data row9 col3\" >0.7368</td>\n",
       "                        <td id=\"T_355d616c_d5b5_11ea_8811_38f9d3db5c17row9_col4\" class=\"data row9 col4\" >0.6512</td>\n",
       "                        <td id=\"T_355d616c_d5b5_11ea_8811_38f9d3db5c17row9_col5\" class=\"data row9 col5\" >0.4698</td>\n",
       "                        <td id=\"T_355d616c_d5b5_11ea_8811_38f9d3db5c17row9_col6\" class=\"data row9 col6\" >0.4773</td>\n",
       "            </tr>\n",
       "            <tr>\n",
       "                        <th id=\"T_355d616c_d5b5_11ea_8811_38f9d3db5c17level0_row10\" class=\"row_heading level0 row10\" >Mean</th>\n",
       "                        <td id=\"T_355d616c_d5b5_11ea_8811_38f9d3db5c17row10_col0\" class=\"data row10 col0\" >0.8201</td>\n",
       "                        <td id=\"T_355d616c_d5b5_11ea_8811_38f9d3db5c17row10_col1\" class=\"data row10 col1\" >0.0000</td>\n",
       "                        <td id=\"T_355d616c_d5b5_11ea_8811_38f9d3db5c17row10_col2\" class=\"data row10 col2\" >0.7234</td>\n",
       "                        <td id=\"T_355d616c_d5b5_11ea_8811_38f9d3db5c17row10_col3\" class=\"data row10 col3\" >0.7931</td>\n",
       "                        <td id=\"T_355d616c_d5b5_11ea_8811_38f9d3db5c17row10_col4\" class=\"data row10 col4\" >0.7536</td>\n",
       "                        <td id=\"T_355d616c_d5b5_11ea_8811_38f9d3db5c17row10_col5\" class=\"data row10 col5\" >0.6128</td>\n",
       "                        <td id=\"T_355d616c_d5b5_11ea_8811_38f9d3db5c17row10_col6\" class=\"data row10 col6\" >0.6171</td>\n",
       "            </tr>\n",
       "            <tr>\n",
       "                        <th id=\"T_355d616c_d5b5_11ea_8811_38f9d3db5c17level0_row11\" class=\"row_heading level0 row11\" >SD</th>\n",
       "                        <td id=\"T_355d616c_d5b5_11ea_8811_38f9d3db5c17row11_col0\" class=\"data row11 col0\" >0.0376</td>\n",
       "                        <td id=\"T_355d616c_d5b5_11ea_8811_38f9d3db5c17row11_col1\" class=\"data row11 col1\" >0.0000</td>\n",
       "                        <td id=\"T_355d616c_d5b5_11ea_8811_38f9d3db5c17row11_col2\" class=\"data row11 col2\" >0.0838</td>\n",
       "                        <td id=\"T_355d616c_d5b5_11ea_8811_38f9d3db5c17row11_col3\" class=\"data row11 col3\" >0.0556</td>\n",
       "                        <td id=\"T_355d616c_d5b5_11ea_8811_38f9d3db5c17row11_col4\" class=\"data row11 col4\" >0.0573</td>\n",
       "                        <td id=\"T_355d616c_d5b5_11ea_8811_38f9d3db5c17row11_col5\" class=\"data row11 col5\" >0.0831</td>\n",
       "                        <td id=\"T_355d616c_d5b5_11ea_8811_38f9d3db5c17row11_col6\" class=\"data row11 col6\" >0.0809</td>\n",
       "            </tr>\n",
       "    </tbody></table>"
      ],
      "text/plain": [
       "<pandas.io.formats.style.Styler at 0x129e05be0>"
      ]
     },
     "metadata": {},
     "output_type": "display_data"
    }
   ],
   "source": [
    "# ensemble models\n",
    "example_ensemble_blended_models = classification.blend_models(\n",
    "    estimator_list = tuned_best_models\n",
    ")"
   ]
  },
  {
   "cell_type": "code",
   "execution_count": 25,
   "metadata": {},
   "outputs": [
    {
     "data": {
      "text/html": [
       "<style  type=\"text/css\" >\n",
       "    #T_37b8c91a_d5b5_11ea_8811_38f9d3db5c17row10_col0 {\n",
       "            background:  yellow;\n",
       "        }    #T_37b8c91a_d5b5_11ea_8811_38f9d3db5c17row10_col1 {\n",
       "            background:  yellow;\n",
       "        }    #T_37b8c91a_d5b5_11ea_8811_38f9d3db5c17row10_col2 {\n",
       "            background:  yellow;\n",
       "        }    #T_37b8c91a_d5b5_11ea_8811_38f9d3db5c17row10_col3 {\n",
       "            background:  yellow;\n",
       "        }    #T_37b8c91a_d5b5_11ea_8811_38f9d3db5c17row10_col4 {\n",
       "            background:  yellow;\n",
       "        }    #T_37b8c91a_d5b5_11ea_8811_38f9d3db5c17row10_col5 {\n",
       "            background:  yellow;\n",
       "        }    #T_37b8c91a_d5b5_11ea_8811_38f9d3db5c17row10_col6 {\n",
       "            background:  yellow;\n",
       "        }</style><table id=\"T_37b8c91a_d5b5_11ea_8811_38f9d3db5c17\" ><thead>    <tr>        <th class=\"blank level0\" ></th>        <th class=\"col_heading level0 col0\" >Accuracy</th>        <th class=\"col_heading level0 col1\" >AUC</th>        <th class=\"col_heading level0 col2\" >Recall</th>        <th class=\"col_heading level0 col3\" >Prec.</th>        <th class=\"col_heading level0 col4\" >F1</th>        <th class=\"col_heading level0 col5\" >Kappa</th>        <th class=\"col_heading level0 col6\" >MCC</th>    </tr></thead><tbody>\n",
       "                <tr>\n",
       "                        <th id=\"T_37b8c91a_d5b5_11ea_8811_38f9d3db5c17level0_row0\" class=\"row_heading level0 row0\" >0</th>\n",
       "                        <td id=\"T_37b8c91a_d5b5_11ea_8811_38f9d3db5c17row0_col0\" class=\"data row0 col0\" >0.9206</td>\n",
       "                        <td id=\"T_37b8c91a_d5b5_11ea_8811_38f9d3db5c17row0_col1\" class=\"data row0 col1\" >0.9370</td>\n",
       "                        <td id=\"T_37b8c91a_d5b5_11ea_8811_38f9d3db5c17row0_col2\" class=\"data row0 col2\" >0.8750</td>\n",
       "                        <td id=\"T_37b8c91a_d5b5_11ea_8811_38f9d3db5c17row0_col3\" class=\"data row0 col3\" >0.9130</td>\n",
       "                        <td id=\"T_37b8c91a_d5b5_11ea_8811_38f9d3db5c17row0_col4\" class=\"data row0 col4\" >0.8936</td>\n",
       "                        <td id=\"T_37b8c91a_d5b5_11ea_8811_38f9d3db5c17row0_col5\" class=\"data row0 col5\" >0.8304</td>\n",
       "                        <td id=\"T_37b8c91a_d5b5_11ea_8811_38f9d3db5c17row0_col6\" class=\"data row0 col6\" >0.8308</td>\n",
       "            </tr>\n",
       "            <tr>\n",
       "                        <th id=\"T_37b8c91a_d5b5_11ea_8811_38f9d3db5c17level0_row1\" class=\"row_heading level0 row1\" >1</th>\n",
       "                        <td id=\"T_37b8c91a_d5b5_11ea_8811_38f9d3db5c17row1_col0\" class=\"data row1 col0\" >0.8095</td>\n",
       "                        <td id=\"T_37b8c91a_d5b5_11ea_8811_38f9d3db5c17row1_col1\" class=\"data row1 col1\" >0.8996</td>\n",
       "                        <td id=\"T_37b8c91a_d5b5_11ea_8811_38f9d3db5c17row1_col2\" class=\"data row1 col2\" >0.8333</td>\n",
       "                        <td id=\"T_37b8c91a_d5b5_11ea_8811_38f9d3db5c17row1_col3\" class=\"data row1 col3\" >0.7143</td>\n",
       "                        <td id=\"T_37b8c91a_d5b5_11ea_8811_38f9d3db5c17row1_col4\" class=\"data row1 col4\" >0.7692</td>\n",
       "                        <td id=\"T_37b8c91a_d5b5_11ea_8811_38f9d3db5c17row1_col5\" class=\"data row1 col5\" >0.6087</td>\n",
       "                        <td id=\"T_37b8c91a_d5b5_11ea_8811_38f9d3db5c17row1_col6\" class=\"data row1 col6\" >0.6139</td>\n",
       "            </tr>\n",
       "            <tr>\n",
       "                        <th id=\"T_37b8c91a_d5b5_11ea_8811_38f9d3db5c17level0_row2\" class=\"row_heading level0 row2\" >2</th>\n",
       "                        <td id=\"T_37b8c91a_d5b5_11ea_8811_38f9d3db5c17row2_col0\" class=\"data row2 col0\" >0.8254</td>\n",
       "                        <td id=\"T_37b8c91a_d5b5_11ea_8811_38f9d3db5c17row2_col1\" class=\"data row2 col1\" >0.8665</td>\n",
       "                        <td id=\"T_37b8c91a_d5b5_11ea_8811_38f9d3db5c17row2_col2\" class=\"data row2 col2\" >0.7500</td>\n",
       "                        <td id=\"T_37b8c91a_d5b5_11ea_8811_38f9d3db5c17row2_col3\" class=\"data row2 col3\" >0.7826</td>\n",
       "                        <td id=\"T_37b8c91a_d5b5_11ea_8811_38f9d3db5c17row2_col4\" class=\"data row2 col4\" >0.7660</td>\n",
       "                        <td id=\"T_37b8c91a_d5b5_11ea_8811_38f9d3db5c17row2_col5\" class=\"data row2 col5\" >0.6268</td>\n",
       "                        <td id=\"T_37b8c91a_d5b5_11ea_8811_38f9d3db5c17row2_col6\" class=\"data row2 col6\" >0.6272</td>\n",
       "            </tr>\n",
       "            <tr>\n",
       "                        <th id=\"T_37b8c91a_d5b5_11ea_8811_38f9d3db5c17level0_row3\" class=\"row_heading level0 row3\" >3</th>\n",
       "                        <td id=\"T_37b8c91a_d5b5_11ea_8811_38f9d3db5c17row3_col0\" class=\"data row3 col0\" >0.8226</td>\n",
       "                        <td id=\"T_37b8c91a_d5b5_11ea_8811_38f9d3db5c17row3_col1\" class=\"data row3 col1\" >0.8685</td>\n",
       "                        <td id=\"T_37b8c91a_d5b5_11ea_8811_38f9d3db5c17row3_col2\" class=\"data row3 col2\" >0.6522</td>\n",
       "                        <td id=\"T_37b8c91a_d5b5_11ea_8811_38f9d3db5c17row3_col3\" class=\"data row3 col3\" >0.8333</td>\n",
       "                        <td id=\"T_37b8c91a_d5b5_11ea_8811_38f9d3db5c17row3_col4\" class=\"data row3 col4\" >0.7317</td>\n",
       "                        <td id=\"T_37b8c91a_d5b5_11ea_8811_38f9d3db5c17row3_col5\" class=\"data row3 col5\" >0.6021</td>\n",
       "                        <td id=\"T_37b8c91a_d5b5_11ea_8811_38f9d3db5c17row3_col6\" class=\"data row3 col6\" >0.6122</td>\n",
       "            </tr>\n",
       "            <tr>\n",
       "                        <th id=\"T_37b8c91a_d5b5_11ea_8811_38f9d3db5c17level0_row4\" class=\"row_heading level0 row4\" >4</th>\n",
       "                        <td id=\"T_37b8c91a_d5b5_11ea_8811_38f9d3db5c17row4_col0\" class=\"data row4 col0\" >0.7742</td>\n",
       "                        <td id=\"T_37b8c91a_d5b5_11ea_8811_38f9d3db5c17row4_col1\" class=\"data row4 col1\" >0.8717</td>\n",
       "                        <td id=\"T_37b8c91a_d5b5_11ea_8811_38f9d3db5c17row4_col2\" class=\"data row4 col2\" >0.7500</td>\n",
       "                        <td id=\"T_37b8c91a_d5b5_11ea_8811_38f9d3db5c17row4_col3\" class=\"data row4 col3\" >0.6923</td>\n",
       "                        <td id=\"T_37b8c91a_d5b5_11ea_8811_38f9d3db5c17row4_col4\" class=\"data row4 col4\" >0.7200</td>\n",
       "                        <td id=\"T_37b8c91a_d5b5_11ea_8811_38f9d3db5c17row4_col5\" class=\"data row4 col5\" >0.5313</td>\n",
       "                        <td id=\"T_37b8c91a_d5b5_11ea_8811_38f9d3db5c17row4_col6\" class=\"data row4 col6\" >0.5325</td>\n",
       "            </tr>\n",
       "            <tr>\n",
       "                        <th id=\"T_37b8c91a_d5b5_11ea_8811_38f9d3db5c17level0_row5\" class=\"row_heading level0 row5\" >5</th>\n",
       "                        <td id=\"T_37b8c91a_d5b5_11ea_8811_38f9d3db5c17row5_col0\" class=\"data row5 col0\" >0.8226</td>\n",
       "                        <td id=\"T_37b8c91a_d5b5_11ea_8811_38f9d3db5c17row5_col1\" class=\"data row5 col1\" >0.8816</td>\n",
       "                        <td id=\"T_37b8c91a_d5b5_11ea_8811_38f9d3db5c17row5_col2\" class=\"data row5 col2\" >0.6667</td>\n",
       "                        <td id=\"T_37b8c91a_d5b5_11ea_8811_38f9d3db5c17row5_col3\" class=\"data row5 col3\" >0.8421</td>\n",
       "                        <td id=\"T_37b8c91a_d5b5_11ea_8811_38f9d3db5c17row5_col4\" class=\"data row5 col4\" >0.7442</td>\n",
       "                        <td id=\"T_37b8c91a_d5b5_11ea_8811_38f9d3db5c17row5_col5\" class=\"data row5 col5\" >0.6112</td>\n",
       "                        <td id=\"T_37b8c91a_d5b5_11ea_8811_38f9d3db5c17row5_col6\" class=\"data row5 col6\" >0.6209</td>\n",
       "            </tr>\n",
       "            <tr>\n",
       "                        <th id=\"T_37b8c91a_d5b5_11ea_8811_38f9d3db5c17level0_row6\" class=\"row_heading level0 row6\" >6</th>\n",
       "                        <td id=\"T_37b8c91a_d5b5_11ea_8811_38f9d3db5c17row6_col0\" class=\"data row6 col0\" >0.8065</td>\n",
       "                        <td id=\"T_37b8c91a_d5b5_11ea_8811_38f9d3db5c17row6_col1\" class=\"data row6 col1\" >0.8169</td>\n",
       "                        <td id=\"T_37b8c91a_d5b5_11ea_8811_38f9d3db5c17row6_col2\" class=\"data row6 col2\" >0.6250</td>\n",
       "                        <td id=\"T_37b8c91a_d5b5_11ea_8811_38f9d3db5c17row6_col3\" class=\"data row6 col3\" >0.8333</td>\n",
       "                        <td id=\"T_37b8c91a_d5b5_11ea_8811_38f9d3db5c17row6_col4\" class=\"data row6 col4\" >0.7143</td>\n",
       "                        <td id=\"T_37b8c91a_d5b5_11ea_8811_38f9d3db5c17row6_col5\" class=\"data row6 col5\" >0.5724</td>\n",
       "                        <td id=\"T_37b8c91a_d5b5_11ea_8811_38f9d3db5c17row6_col6\" class=\"data row6 col6\" >0.5860</td>\n",
       "            </tr>\n",
       "            <tr>\n",
       "                        <th id=\"T_37b8c91a_d5b5_11ea_8811_38f9d3db5c17level0_row7\" class=\"row_heading level0 row7\" >7</th>\n",
       "                        <td id=\"T_37b8c91a_d5b5_11ea_8811_38f9d3db5c17row7_col0\" class=\"data row7 col0\" >0.7742</td>\n",
       "                        <td id=\"T_37b8c91a_d5b5_11ea_8811_38f9d3db5c17row7_col1\" class=\"data row7 col1\" >0.8673</td>\n",
       "                        <td id=\"T_37b8c91a_d5b5_11ea_8811_38f9d3db5c17row7_col2\" class=\"data row7 col2\" >0.7083</td>\n",
       "                        <td id=\"T_37b8c91a_d5b5_11ea_8811_38f9d3db5c17row7_col3\" class=\"data row7 col3\" >0.7083</td>\n",
       "                        <td id=\"T_37b8c91a_d5b5_11ea_8811_38f9d3db5c17row7_col4\" class=\"data row7 col4\" >0.7083</td>\n",
       "                        <td id=\"T_37b8c91a_d5b5_11ea_8811_38f9d3db5c17row7_col5\" class=\"data row7 col5\" >0.5241</td>\n",
       "                        <td id=\"T_37b8c91a_d5b5_11ea_8811_38f9d3db5c17row7_col6\" class=\"data row7 col6\" >0.5241</td>\n",
       "            </tr>\n",
       "            <tr>\n",
       "                        <th id=\"T_37b8c91a_d5b5_11ea_8811_38f9d3db5c17level0_row8\" class=\"row_heading level0 row8\" >8</th>\n",
       "                        <td id=\"T_37b8c91a_d5b5_11ea_8811_38f9d3db5c17row8_col0\" class=\"data row8 col0\" >0.8226</td>\n",
       "                        <td id=\"T_37b8c91a_d5b5_11ea_8811_38f9d3db5c17row8_col1\" class=\"data row8 col1\" >0.8936</td>\n",
       "                        <td id=\"T_37b8c91a_d5b5_11ea_8811_38f9d3db5c17row8_col2\" class=\"data row8 col2\" >0.7917</td>\n",
       "                        <td id=\"T_37b8c91a_d5b5_11ea_8811_38f9d3db5c17row8_col3\" class=\"data row8 col3\" >0.7600</td>\n",
       "                        <td id=\"T_37b8c91a_d5b5_11ea_8811_38f9d3db5c17row8_col4\" class=\"data row8 col4\" >0.7755</td>\n",
       "                        <td id=\"T_37b8c91a_d5b5_11ea_8811_38f9d3db5c17row8_col5\" class=\"data row8 col5\" >0.6289</td>\n",
       "                        <td id=\"T_37b8c91a_d5b5_11ea_8811_38f9d3db5c17row8_col6\" class=\"data row8 col6\" >0.6293</td>\n",
       "            </tr>\n",
       "            <tr>\n",
       "                        <th id=\"T_37b8c91a_d5b5_11ea_8811_38f9d3db5c17level0_row9\" class=\"row_heading level0 row9\" >9</th>\n",
       "                        <td id=\"T_37b8c91a_d5b5_11ea_8811_38f9d3db5c17row9_col0\" class=\"data row9 col0\" >0.7903</td>\n",
       "                        <td id=\"T_37b8c91a_d5b5_11ea_8811_38f9d3db5c17row9_col1\" class=\"data row9 col1\" >0.8300</td>\n",
       "                        <td id=\"T_37b8c91a_d5b5_11ea_8811_38f9d3db5c17row9_col2\" class=\"data row9 col2\" >0.5833</td>\n",
       "                        <td id=\"T_37b8c91a_d5b5_11ea_8811_38f9d3db5c17row9_col3\" class=\"data row9 col3\" >0.8235</td>\n",
       "                        <td id=\"T_37b8c91a_d5b5_11ea_8811_38f9d3db5c17row9_col4\" class=\"data row9 col4\" >0.6829</td>\n",
       "                        <td id=\"T_37b8c91a_d5b5_11ea_8811_38f9d3db5c17row9_col5\" class=\"data row9 col5\" >0.5330</td>\n",
       "                        <td id=\"T_37b8c91a_d5b5_11ea_8811_38f9d3db5c17row9_col6\" class=\"data row9 col6\" >0.5507</td>\n",
       "            </tr>\n",
       "            <tr>\n",
       "                        <th id=\"T_37b8c91a_d5b5_11ea_8811_38f9d3db5c17level0_row10\" class=\"row_heading level0 row10\" >Mean</th>\n",
       "                        <td id=\"T_37b8c91a_d5b5_11ea_8811_38f9d3db5c17row10_col0\" class=\"data row10 col0\" >0.8168</td>\n",
       "                        <td id=\"T_37b8c91a_d5b5_11ea_8811_38f9d3db5c17row10_col1\" class=\"data row10 col1\" >0.8733</td>\n",
       "                        <td id=\"T_37b8c91a_d5b5_11ea_8811_38f9d3db5c17row10_col2\" class=\"data row10 col2\" >0.7236</td>\n",
       "                        <td id=\"T_37b8c91a_d5b5_11ea_8811_38f9d3db5c17row10_col3\" class=\"data row10 col3\" >0.7903</td>\n",
       "                        <td id=\"T_37b8c91a_d5b5_11ea_8811_38f9d3db5c17row10_col4\" class=\"data row10 col4\" >0.7506</td>\n",
       "                        <td id=\"T_37b8c91a_d5b5_11ea_8811_38f9d3db5c17row10_col5\" class=\"data row10 col5\" >0.6069</td>\n",
       "                        <td id=\"T_37b8c91a_d5b5_11ea_8811_38f9d3db5c17row10_col6\" class=\"data row10 col6\" >0.6128</td>\n",
       "            </tr>\n",
       "            <tr>\n",
       "                        <th id=\"T_37b8c91a_d5b5_11ea_8811_38f9d3db5c17level0_row11\" class=\"row_heading level0 row11\" >SD</th>\n",
       "                        <td id=\"T_37b8c91a_d5b5_11ea_8811_38f9d3db5c17row11_col0\" class=\"data row11 col0\" >0.0393</td>\n",
       "                        <td id=\"T_37b8c91a_d5b5_11ea_8811_38f9d3db5c17row11_col1\" class=\"data row11 col1\" >0.0322</td>\n",
       "                        <td id=\"T_37b8c91a_d5b5_11ea_8811_38f9d3db5c17row11_col2\" class=\"data row11 col2\" >0.0889</td>\n",
       "                        <td id=\"T_37b8c91a_d5b5_11ea_8811_38f9d3db5c17row11_col3\" class=\"data row11 col3\" >0.0676</td>\n",
       "                        <td id=\"T_37b8c91a_d5b5_11ea_8811_38f9d3db5c17row11_col4\" class=\"data row11 col4\" >0.0554</td>\n",
       "                        <td id=\"T_37b8c91a_d5b5_11ea_8811_38f9d3db5c17row11_col5\" class=\"data row11 col5\" >0.0837</td>\n",
       "                        <td id=\"T_37b8c91a_d5b5_11ea_8811_38f9d3db5c17row11_col6\" class=\"data row11 col6\" >0.0818</td>\n",
       "            </tr>\n",
       "    </tbody></table>"
      ],
      "text/plain": [
       "<pandas.io.formats.style.Styler at 0x128adf370>"
      ]
     },
     "metadata": {},
     "output_type": "display_data"
    }
   ],
   "source": [
    "# ensemble models\n",
    "example_ensemble_stacked_models = classification.stack_models(\n",
    "    estimator_list = tuned_best_models\n",
    ")"
   ]
  },
  {
   "cell_type": "code",
   "execution_count": 26,
   "metadata": {},
   "outputs": [],
   "source": [
    "# automl (returns best model out of all created)\n",
    "best_model = classification.automl(\n",
    "    optimize='AUC'\n",
    ")"
   ]
  },
  {
   "cell_type": "code",
   "execution_count": 27,
   "metadata": {},
   "outputs": [
    {
     "name": "stdout",
     "output_type": "stream",
     "text": [
      "RandomForestClassifier(bootstrap=False, ccp_alpha=0.0, class_weight=None,\n",
      "                       criterion='gini', max_depth=40, max_features='auto',\n",
      "                       max_leaf_nodes=None, max_samples=None,\n",
      "                       min_impurity_decrease=0.0, min_impurity_split=None,\n",
      "                       min_samples_leaf=2, min_samples_split=10,\n",
      "                       min_weight_fraction_leaf=0.0, n_estimators=70, n_jobs=-1,\n",
      "                       oob_score=False, random_state=5902, verbose=0,\n",
      "                       warm_start=False)\n"
     ]
    }
   ],
   "source": [
    "# display model\n",
    "print(best_model)"
   ]
  },
  {
   "cell_type": "code",
   "execution_count": 28,
   "metadata": {},
   "outputs": [
    {
     "data": {
      "text/html": [
       "<div>\n",
       "<style scoped>\n",
       "    .dataframe tbody tr th:only-of-type {\n",
       "        vertical-align: middle;\n",
       "    }\n",
       "\n",
       "    .dataframe tbody tr th {\n",
       "        vertical-align: top;\n",
       "    }\n",
       "\n",
       "    .dataframe thead th {\n",
       "        text-align: right;\n",
       "    }\n",
       "</style>\n",
       "<table border=\"1\" class=\"dataframe\">\n",
       "  <thead>\n",
       "    <tr style=\"text-align: right;\">\n",
       "      <th></th>\n",
       "      <th>Model</th>\n",
       "      <th>Accuracy</th>\n",
       "      <th>AUC</th>\n",
       "      <th>Recall</th>\n",
       "      <th>Prec.</th>\n",
       "      <th>F1</th>\n",
       "      <th>Kappa</th>\n",
       "      <th>MCC</th>\n",
       "    </tr>\n",
       "  </thead>\n",
       "  <tbody>\n",
       "    <tr>\n",
       "      <th>0</th>\n",
       "      <td>Random Forest Classifier</td>\n",
       "      <td>0.9067</td>\n",
       "      <td>0.977</td>\n",
       "      <td>0.835</td>\n",
       "      <td>0.9149</td>\n",
       "      <td>0.8731</td>\n",
       "      <td>0.7996</td>\n",
       "      <td>0.8017</td>\n",
       "    </tr>\n",
       "  </tbody>\n",
       "</table>\n",
       "</div>"
      ],
      "text/plain": [
       "                      Model  Accuracy    AUC  Recall   Prec.      F1   Kappa  \\\n",
       "0  Random Forest Classifier    0.9067  0.977   0.835  0.9149  0.8731  0.7996   \n",
       "\n",
       "      MCC  \n",
       "0  0.8017  "
      ]
     },
     "metadata": {},
     "output_type": "display_data"
    }
   ],
   "source": [
    "# test set prediction\n",
    "test_predictions = classification.predict_model(\n",
    "    estimator=best_model,\n",
    ")"
   ]
  },
  {
   "cell_type": "code",
   "execution_count": 29,
   "metadata": {},
   "outputs": [
    {
     "data": {
      "text/html": [
       "        <script type=\"text/javascript\">\n",
       "        window.PlotlyConfig = {MathJaxConfig: 'local'};\n",
       "        if (window.MathJax) {MathJax.Hub.Config({SVG: {font: \"STIX-Web\"}});}\n",
       "        if (typeof require !== 'undefined') {\n",
       "        require.undef(\"plotly\");\n",
       "        requirejs.config({\n",
       "            paths: {\n",
       "                'plotly': ['https://cdn.plot.ly/plotly-latest.min']\n",
       "            }\n",
       "        });\n",
       "        require(['plotly'], function(Plotly) {\n",
       "            window._Plotly = Plotly;\n",
       "        });\n",
       "        }\n",
       "        </script>\n",
       "        "
      ]
     },
     "metadata": {},
     "output_type": "display_data"
    },
    {
     "data": {
      "application/vnd.plotly.v1+json": {
       "config": {
        "plotlyServerURL": "https://plot.ly"
       },
       "data": [
        {
         "hovertemplate": "Probability Threshold=%{x}<br>Cost Function=%{y}<extra></extra>",
         "legendgroup": "",
         "line": {
          "color": "#636efa",
          "dash": "solid",
          "shape": "linear"
         },
         "mode": "lines",
         "name": "",
         "orientation": "v",
         "showlegend": false,
         "type": "scatter",
         "x": [
          0,
          0.01,
          0.02,
          0.03,
          0.04,
          0.05,
          0.06,
          0.07,
          0.08,
          0.09,
          0.1,
          0.11,
          0.12,
          0.13,
          0.14,
          0.15,
          0.16,
          0.17,
          0.18,
          0.19,
          0.2,
          0.21,
          0.22,
          0.23,
          0.24,
          0.25,
          0.26,
          0.27,
          0.28,
          0.29,
          0.3,
          0.31,
          0.32,
          0.33,
          0.34,
          0.35000000000000003,
          0.36,
          0.37,
          0.38,
          0.39,
          0.4,
          0.41000000000000003,
          0.42,
          0.43,
          0.44,
          0.45,
          0.46,
          0.47000000000000003,
          0.48,
          0.49,
          0.5,
          0.51,
          0.52,
          0.53,
          0.54,
          0.55,
          0.56,
          0.5700000000000001,
          0.58,
          0.59,
          0.6,
          0.61,
          0.62,
          0.63,
          0.64,
          0.65,
          0.66,
          0.67,
          0.68,
          0.6900000000000001,
          0.7000000000000001,
          0.71,
          0.72,
          0.73,
          0.74,
          0.75,
          0.76,
          0.77,
          0.78,
          0.79,
          0.8,
          0.81,
          0.8200000000000001,
          0.8300000000000001,
          0.84,
          0.85,
          0.86,
          0.87,
          0.88,
          0.89,
          0.9,
          0.91,
          0.92,
          0.93,
          0.9400000000000001,
          0.9500000000000001,
          0.96,
          0.97,
          0.98,
          0.99
         ],
         "xaxis": "x",
         "y": [
          -6200,
          -6400,
          -5800,
          -4800,
          -3400,
          -2000,
          -1000,
          600,
          200,
          1200,
          3000,
          3400,
          3600,
          4600,
          5000,
          5800,
          6200,
          6600,
          7400,
          7000,
          6000,
          6800,
          6400,
          5200,
          5000,
          5200,
          6000,
          6200,
          6200,
          6600,
          7400,
          6400,
          5800,
          6600,
          6800,
          6200,
          6400,
          7200,
          7400,
          7000,
          7000,
          7000,
          6400,
          6800,
          7000,
          7000,
          7400,
          7600,
          7200,
          7200,
          7200,
          7200,
          6000,
          6200,
          6400,
          5200,
          4600,
          3800,
          3800,
          4000,
          4000,
          3400,
          2200,
          1600,
          400,
          600,
          -400,
          -800,
          -1200,
          -2800,
          -5800,
          -6800,
          -6800,
          -7400,
          -8400,
          -8400,
          -8400,
          -9000,
          -9600,
          -9600,
          -10200,
          -12000,
          -12000,
          -12600,
          -12600,
          -13200,
          -13800,
          -13800,
          -15000,
          -16800,
          -17400,
          -18600,
          -19200,
          -19800,
          -20400,
          -24000,
          -24400,
          -26000,
          -28400,
          -34400
         ],
         "yaxis": "y"
        }
       ],
       "layout": {
        "legend": {
         "tracegroupgap": 0
        },
        "margin": {
         "t": 60
        },
        "plot_bgcolor": "rgb(245,245,245)",
        "shapes": [
         {
          "line": {
           "color": "red",
           "width": 2
          },
          "type": "line",
          "x0": 0.47000000000000003,
          "x1": 0.47000000000000003,
          "y0": -34400,
          "y1": 7600
         }
        ],
        "template": {
         "data": {
          "bar": [
           {
            "error_x": {
             "color": "#2a3f5f"
            },
            "error_y": {
             "color": "#2a3f5f"
            },
            "marker": {
             "line": {
              "color": "#E5ECF6",
              "width": 0.5
             }
            },
            "type": "bar"
           }
          ],
          "barpolar": [
           {
            "marker": {
             "line": {
              "color": "#E5ECF6",
              "width": 0.5
             }
            },
            "type": "barpolar"
           }
          ],
          "carpet": [
           {
            "aaxis": {
             "endlinecolor": "#2a3f5f",
             "gridcolor": "white",
             "linecolor": "white",
             "minorgridcolor": "white",
             "startlinecolor": "#2a3f5f"
            },
            "baxis": {
             "endlinecolor": "#2a3f5f",
             "gridcolor": "white",
             "linecolor": "white",
             "minorgridcolor": "white",
             "startlinecolor": "#2a3f5f"
            },
            "type": "carpet"
           }
          ],
          "choropleth": [
           {
            "colorbar": {
             "outlinewidth": 0,
             "ticks": ""
            },
            "type": "choropleth"
           }
          ],
          "contour": [
           {
            "colorbar": {
             "outlinewidth": 0,
             "ticks": ""
            },
            "colorscale": [
             [
              0,
              "#0d0887"
             ],
             [
              0.1111111111111111,
              "#46039f"
             ],
             [
              0.2222222222222222,
              "#7201a8"
             ],
             [
              0.3333333333333333,
              "#9c179e"
             ],
             [
              0.4444444444444444,
              "#bd3786"
             ],
             [
              0.5555555555555556,
              "#d8576b"
             ],
             [
              0.6666666666666666,
              "#ed7953"
             ],
             [
              0.7777777777777778,
              "#fb9f3a"
             ],
             [
              0.8888888888888888,
              "#fdca26"
             ],
             [
              1,
              "#f0f921"
             ]
            ],
            "type": "contour"
           }
          ],
          "contourcarpet": [
           {
            "colorbar": {
             "outlinewidth": 0,
             "ticks": ""
            },
            "type": "contourcarpet"
           }
          ],
          "heatmap": [
           {
            "colorbar": {
             "outlinewidth": 0,
             "ticks": ""
            },
            "colorscale": [
             [
              0,
              "#0d0887"
             ],
             [
              0.1111111111111111,
              "#46039f"
             ],
             [
              0.2222222222222222,
              "#7201a8"
             ],
             [
              0.3333333333333333,
              "#9c179e"
             ],
             [
              0.4444444444444444,
              "#bd3786"
             ],
             [
              0.5555555555555556,
              "#d8576b"
             ],
             [
              0.6666666666666666,
              "#ed7953"
             ],
             [
              0.7777777777777778,
              "#fb9f3a"
             ],
             [
              0.8888888888888888,
              "#fdca26"
             ],
             [
              1,
              "#f0f921"
             ]
            ],
            "type": "heatmap"
           }
          ],
          "heatmapgl": [
           {
            "colorbar": {
             "outlinewidth": 0,
             "ticks": ""
            },
            "colorscale": [
             [
              0,
              "#0d0887"
             ],
             [
              0.1111111111111111,
              "#46039f"
             ],
             [
              0.2222222222222222,
              "#7201a8"
             ],
             [
              0.3333333333333333,
              "#9c179e"
             ],
             [
              0.4444444444444444,
              "#bd3786"
             ],
             [
              0.5555555555555556,
              "#d8576b"
             ],
             [
              0.6666666666666666,
              "#ed7953"
             ],
             [
              0.7777777777777778,
              "#fb9f3a"
             ],
             [
              0.8888888888888888,
              "#fdca26"
             ],
             [
              1,
              "#f0f921"
             ]
            ],
            "type": "heatmapgl"
           }
          ],
          "histogram": [
           {
            "marker": {
             "colorbar": {
              "outlinewidth": 0,
              "ticks": ""
             }
            },
            "type": "histogram"
           }
          ],
          "histogram2d": [
           {
            "colorbar": {
             "outlinewidth": 0,
             "ticks": ""
            },
            "colorscale": [
             [
              0,
              "#0d0887"
             ],
             [
              0.1111111111111111,
              "#46039f"
             ],
             [
              0.2222222222222222,
              "#7201a8"
             ],
             [
              0.3333333333333333,
              "#9c179e"
             ],
             [
              0.4444444444444444,
              "#bd3786"
             ],
             [
              0.5555555555555556,
              "#d8576b"
             ],
             [
              0.6666666666666666,
              "#ed7953"
             ],
             [
              0.7777777777777778,
              "#fb9f3a"
             ],
             [
              0.8888888888888888,
              "#fdca26"
             ],
             [
              1,
              "#f0f921"
             ]
            ],
            "type": "histogram2d"
           }
          ],
          "histogram2dcontour": [
           {
            "colorbar": {
             "outlinewidth": 0,
             "ticks": ""
            },
            "colorscale": [
             [
              0,
              "#0d0887"
             ],
             [
              0.1111111111111111,
              "#46039f"
             ],
             [
              0.2222222222222222,
              "#7201a8"
             ],
             [
              0.3333333333333333,
              "#9c179e"
             ],
             [
              0.4444444444444444,
              "#bd3786"
             ],
             [
              0.5555555555555556,
              "#d8576b"
             ],
             [
              0.6666666666666666,
              "#ed7953"
             ],
             [
              0.7777777777777778,
              "#fb9f3a"
             ],
             [
              0.8888888888888888,
              "#fdca26"
             ],
             [
              1,
              "#f0f921"
             ]
            ],
            "type": "histogram2dcontour"
           }
          ],
          "mesh3d": [
           {
            "colorbar": {
             "outlinewidth": 0,
             "ticks": ""
            },
            "type": "mesh3d"
           }
          ],
          "parcoords": [
           {
            "line": {
             "colorbar": {
              "outlinewidth": 0,
              "ticks": ""
             }
            },
            "type": "parcoords"
           }
          ],
          "pie": [
           {
            "automargin": true,
            "type": "pie"
           }
          ],
          "scatter": [
           {
            "marker": {
             "colorbar": {
              "outlinewidth": 0,
              "ticks": ""
             }
            },
            "type": "scatter"
           }
          ],
          "scatter3d": [
           {
            "line": {
             "colorbar": {
              "outlinewidth": 0,
              "ticks": ""
             }
            },
            "marker": {
             "colorbar": {
              "outlinewidth": 0,
              "ticks": ""
             }
            },
            "type": "scatter3d"
           }
          ],
          "scattercarpet": [
           {
            "marker": {
             "colorbar": {
              "outlinewidth": 0,
              "ticks": ""
             }
            },
            "type": "scattercarpet"
           }
          ],
          "scattergeo": [
           {
            "marker": {
             "colorbar": {
              "outlinewidth": 0,
              "ticks": ""
             }
            },
            "type": "scattergeo"
           }
          ],
          "scattergl": [
           {
            "marker": {
             "colorbar": {
              "outlinewidth": 0,
              "ticks": ""
             }
            },
            "type": "scattergl"
           }
          ],
          "scattermapbox": [
           {
            "marker": {
             "colorbar": {
              "outlinewidth": 0,
              "ticks": ""
             }
            },
            "type": "scattermapbox"
           }
          ],
          "scatterpolar": [
           {
            "marker": {
             "colorbar": {
              "outlinewidth": 0,
              "ticks": ""
             }
            },
            "type": "scatterpolar"
           }
          ],
          "scatterpolargl": [
           {
            "marker": {
             "colorbar": {
              "outlinewidth": 0,
              "ticks": ""
             }
            },
            "type": "scatterpolargl"
           }
          ],
          "scatterternary": [
           {
            "marker": {
             "colorbar": {
              "outlinewidth": 0,
              "ticks": ""
             }
            },
            "type": "scatterternary"
           }
          ],
          "surface": [
           {
            "colorbar": {
             "outlinewidth": 0,
             "ticks": ""
            },
            "colorscale": [
             [
              0,
              "#0d0887"
             ],
             [
              0.1111111111111111,
              "#46039f"
             ],
             [
              0.2222222222222222,
              "#7201a8"
             ],
             [
              0.3333333333333333,
              "#9c179e"
             ],
             [
              0.4444444444444444,
              "#bd3786"
             ],
             [
              0.5555555555555556,
              "#d8576b"
             ],
             [
              0.6666666666666666,
              "#ed7953"
             ],
             [
              0.7777777777777778,
              "#fb9f3a"
             ],
             [
              0.8888888888888888,
              "#fdca26"
             ],
             [
              1,
              "#f0f921"
             ]
            ],
            "type": "surface"
           }
          ],
          "table": [
           {
            "cells": {
             "fill": {
              "color": "#EBF0F8"
             },
             "line": {
              "color": "white"
             }
            },
            "header": {
             "fill": {
              "color": "#C8D4E3"
             },
             "line": {
              "color": "white"
             }
            },
            "type": "table"
           }
          ]
         },
         "layout": {
          "annotationdefaults": {
           "arrowcolor": "#2a3f5f",
           "arrowhead": 0,
           "arrowwidth": 1
          },
          "coloraxis": {
           "colorbar": {
            "outlinewidth": 0,
            "ticks": ""
           }
          },
          "colorscale": {
           "diverging": [
            [
             0,
             "#8e0152"
            ],
            [
             0.1,
             "#c51b7d"
            ],
            [
             0.2,
             "#de77ae"
            ],
            [
             0.3,
             "#f1b6da"
            ],
            [
             0.4,
             "#fde0ef"
            ],
            [
             0.5,
             "#f7f7f7"
            ],
            [
             0.6,
             "#e6f5d0"
            ],
            [
             0.7,
             "#b8e186"
            ],
            [
             0.8,
             "#7fbc41"
            ],
            [
             0.9,
             "#4d9221"
            ],
            [
             1,
             "#276419"
            ]
           ],
           "sequential": [
            [
             0,
             "#0d0887"
            ],
            [
             0.1111111111111111,
             "#46039f"
            ],
            [
             0.2222222222222222,
             "#7201a8"
            ],
            [
             0.3333333333333333,
             "#9c179e"
            ],
            [
             0.4444444444444444,
             "#bd3786"
            ],
            [
             0.5555555555555556,
             "#d8576b"
            ],
            [
             0.6666666666666666,
             "#ed7953"
            ],
            [
             0.7777777777777778,
             "#fb9f3a"
            ],
            [
             0.8888888888888888,
             "#fdca26"
            ],
            [
             1,
             "#f0f921"
            ]
           ],
           "sequentialminus": [
            [
             0,
             "#0d0887"
            ],
            [
             0.1111111111111111,
             "#46039f"
            ],
            [
             0.2222222222222222,
             "#7201a8"
            ],
            [
             0.3333333333333333,
             "#9c179e"
            ],
            [
             0.4444444444444444,
             "#bd3786"
            ],
            [
             0.5555555555555556,
             "#d8576b"
            ],
            [
             0.6666666666666666,
             "#ed7953"
            ],
            [
             0.7777777777777778,
             "#fb9f3a"
            ],
            [
             0.8888888888888888,
             "#fdca26"
            ],
            [
             1,
             "#f0f921"
            ]
           ]
          },
          "colorway": [
           "#636efa",
           "#EF553B",
           "#00cc96",
           "#ab63fa",
           "#FFA15A",
           "#19d3f3",
           "#FF6692",
           "#B6E880",
           "#FF97FF",
           "#FECB52"
          ],
          "font": {
           "color": "#2a3f5f"
          },
          "geo": {
           "bgcolor": "white",
           "lakecolor": "white",
           "landcolor": "#E5ECF6",
           "showlakes": true,
           "showland": true,
           "subunitcolor": "white"
          },
          "hoverlabel": {
           "align": "left"
          },
          "hovermode": "closest",
          "mapbox": {
           "style": "light"
          },
          "paper_bgcolor": "white",
          "plot_bgcolor": "#E5ECF6",
          "polar": {
           "angularaxis": {
            "gridcolor": "white",
            "linecolor": "white",
            "ticks": ""
           },
           "bgcolor": "#E5ECF6",
           "radialaxis": {
            "gridcolor": "white",
            "linecolor": "white",
            "ticks": ""
           }
          },
          "scene": {
           "xaxis": {
            "backgroundcolor": "#E5ECF6",
            "gridcolor": "white",
            "gridwidth": 2,
            "linecolor": "white",
            "showbackground": true,
            "ticks": "",
            "zerolinecolor": "white"
           },
           "yaxis": {
            "backgroundcolor": "#E5ECF6",
            "gridcolor": "white",
            "gridwidth": 2,
            "linecolor": "white",
            "showbackground": true,
            "ticks": "",
            "zerolinecolor": "white"
           },
           "zaxis": {
            "backgroundcolor": "#E5ECF6",
            "gridcolor": "white",
            "gridwidth": 2,
            "linecolor": "white",
            "showbackground": true,
            "ticks": "",
            "zerolinecolor": "white"
           }
          },
          "shapedefaults": {
           "line": {
            "color": "#2a3f5f"
           }
          },
          "ternary": {
           "aaxis": {
            "gridcolor": "white",
            "linecolor": "white",
            "ticks": ""
           },
           "baxis": {
            "gridcolor": "white",
            "linecolor": "white",
            "ticks": ""
           },
           "bgcolor": "#E5ECF6",
           "caxis": {
            "gridcolor": "white",
            "linecolor": "white",
            "ticks": ""
           }
          },
          "title": {
           "x": 0.05
          },
          "xaxis": {
           "automargin": true,
           "gridcolor": "white",
           "linecolor": "white",
           "ticks": "",
           "title": {
            "standoff": 15
           },
           "zerolinecolor": "white",
           "zerolinewidth": 2
          },
          "yaxis": {
           "automargin": true,
           "gridcolor": "white",
           "linecolor": "white",
           "ticks": "",
           "title": {
            "standoff": 15
           },
           "zerolinecolor": "white",
           "zerolinewidth": 2
          }
         }
        },
        "title": {
         "text": "RandomForestClassifier Probability Threshold Optimization",
         "x": 0.45,
         "xanchor": "center",
         "y": 0.95,
         "yanchor": "top"
        },
        "xaxis": {
         "anchor": "y",
         "domain": [
          0,
          1
         ],
         "title": {
          "text": "Probability Threshold"
         }
        },
        "yaxis": {
         "anchor": "x",
         "domain": [
          0,
          1
         ],
         "title": {
          "text": "Cost Function"
         }
        }
       }
      },
      "text/html": [
       "<div>\n",
       "        \n",
       "        \n",
       "            <div id=\"fbc02f7a-0de3-4771-ba0a-247e2e63902b\" class=\"plotly-graph-div\" style=\"height:525px; width:100%;\"></div>\n",
       "            <script type=\"text/javascript\">\n",
       "                require([\"plotly\"], function(Plotly) {\n",
       "                    window.PLOTLYENV=window.PLOTLYENV || {};\n",
       "                    \n",
       "                if (document.getElementById(\"fbc02f7a-0de3-4771-ba0a-247e2e63902b\")) {\n",
       "                    Plotly.newPlot(\n",
       "                        'fbc02f7a-0de3-4771-ba0a-247e2e63902b',\n",
       "                        [{\"hovertemplate\": \"Probability Threshold=%{x}<br>Cost Function=%{y}<extra></extra>\", \"legendgroup\": \"\", \"line\": {\"color\": \"#636efa\", \"dash\": \"solid\", \"shape\": \"linear\"}, \"mode\": \"lines\", \"name\": \"\", \"orientation\": \"v\", \"showlegend\": false, \"type\": \"scatter\", \"x\": [0.0, 0.01, 0.02, 0.03, 0.04, 0.05, 0.06, 0.07, 0.08, 0.09, 0.1, 0.11, 0.12, 0.13, 0.14, 0.15, 0.16, 0.17, 0.18, 0.19, 0.2, 0.21, 0.22, 0.23, 0.24, 0.25, 0.26, 0.27, 0.28, 0.29, 0.3, 0.31, 0.32, 0.33, 0.34, 0.35000000000000003, 0.36, 0.37, 0.38, 0.39, 0.4, 0.41000000000000003, 0.42, 0.43, 0.44, 0.45, 0.46, 0.47000000000000003, 0.48, 0.49, 0.5, 0.51, 0.52, 0.53, 0.54, 0.55, 0.56, 0.5700000000000001, 0.58, 0.59, 0.6, 0.61, 0.62, 0.63, 0.64, 0.65, 0.66, 0.67, 0.68, 0.6900000000000001, 0.7000000000000001, 0.71, 0.72, 0.73, 0.74, 0.75, 0.76, 0.77, 0.78, 0.79, 0.8, 0.81, 0.8200000000000001, 0.8300000000000001, 0.84, 0.85, 0.86, 0.87, 0.88, 0.89, 0.9, 0.91, 0.92, 0.93, 0.9400000000000001, 0.9500000000000001, 0.96, 0.97, 0.98, 0.99], \"xaxis\": \"x\", \"y\": [-6200, -6400, -5800, -4800, -3400, -2000, -1000, 600, 200, 1200, 3000, 3400, 3600, 4600, 5000, 5800, 6200, 6600, 7400, 7000, 6000, 6800, 6400, 5200, 5000, 5200, 6000, 6200, 6200, 6600, 7400, 6400, 5800, 6600, 6800, 6200, 6400, 7200, 7400, 7000, 7000, 7000, 6400, 6800, 7000, 7000, 7400, 7600, 7200, 7200, 7200, 7200, 6000, 6200, 6400, 5200, 4600, 3800, 3800, 4000, 4000, 3400, 2200, 1600, 400, 600, -400, -800, -1200, -2800, -5800, -6800, -6800, -7400, -8400, -8400, -8400, -9000, -9600, -9600, -10200, -12000, -12000, -12600, -12600, -13200, -13800, -13800, -15000, -16800, -17400, -18600, -19200, -19800, -20400, -24000, -24400, -26000, -28400, -34400], \"yaxis\": \"y\"}],\n",
       "                        {\"legend\": {\"tracegroupgap\": 0}, \"margin\": {\"t\": 60}, \"plot_bgcolor\": \"rgb(245,245,245)\", \"shapes\": [{\"line\": {\"color\": \"red\", \"width\": 2}, \"type\": \"line\", \"x0\": 0.47000000000000003, \"x1\": 0.47000000000000003, \"y0\": -34400, \"y1\": 7600}], \"template\": {\"data\": {\"bar\": [{\"error_x\": {\"color\": \"#2a3f5f\"}, \"error_y\": {\"color\": \"#2a3f5f\"}, \"marker\": {\"line\": {\"color\": \"#E5ECF6\", \"width\": 0.5}}, \"type\": \"bar\"}], \"barpolar\": [{\"marker\": {\"line\": {\"color\": \"#E5ECF6\", \"width\": 0.5}}, \"type\": \"barpolar\"}], \"carpet\": [{\"aaxis\": {\"endlinecolor\": \"#2a3f5f\", \"gridcolor\": \"white\", \"linecolor\": \"white\", \"minorgridcolor\": \"white\", \"startlinecolor\": \"#2a3f5f\"}, \"baxis\": {\"endlinecolor\": \"#2a3f5f\", \"gridcolor\": \"white\", \"linecolor\": \"white\", \"minorgridcolor\": \"white\", \"startlinecolor\": \"#2a3f5f\"}, \"type\": \"carpet\"}], \"choropleth\": [{\"colorbar\": {\"outlinewidth\": 0, \"ticks\": \"\"}, \"type\": \"choropleth\"}], \"contour\": [{\"colorbar\": {\"outlinewidth\": 0, \"ticks\": \"\"}, \"colorscale\": [[0.0, \"#0d0887\"], [0.1111111111111111, \"#46039f\"], [0.2222222222222222, \"#7201a8\"], [0.3333333333333333, \"#9c179e\"], [0.4444444444444444, \"#bd3786\"], [0.5555555555555556, \"#d8576b\"], [0.6666666666666666, \"#ed7953\"], [0.7777777777777778, \"#fb9f3a\"], [0.8888888888888888, \"#fdca26\"], [1.0, \"#f0f921\"]], \"type\": \"contour\"}], \"contourcarpet\": [{\"colorbar\": {\"outlinewidth\": 0, \"ticks\": \"\"}, \"type\": \"contourcarpet\"}], \"heatmap\": [{\"colorbar\": {\"outlinewidth\": 0, \"ticks\": \"\"}, \"colorscale\": [[0.0, \"#0d0887\"], [0.1111111111111111, \"#46039f\"], [0.2222222222222222, \"#7201a8\"], [0.3333333333333333, \"#9c179e\"], [0.4444444444444444, \"#bd3786\"], [0.5555555555555556, \"#d8576b\"], [0.6666666666666666, \"#ed7953\"], [0.7777777777777778, \"#fb9f3a\"], [0.8888888888888888, \"#fdca26\"], [1.0, \"#f0f921\"]], \"type\": \"heatmap\"}], \"heatmapgl\": [{\"colorbar\": {\"outlinewidth\": 0, \"ticks\": \"\"}, \"colorscale\": [[0.0, \"#0d0887\"], [0.1111111111111111, \"#46039f\"], [0.2222222222222222, \"#7201a8\"], [0.3333333333333333, \"#9c179e\"], [0.4444444444444444, \"#bd3786\"], [0.5555555555555556, \"#d8576b\"], [0.6666666666666666, \"#ed7953\"], [0.7777777777777778, \"#fb9f3a\"], [0.8888888888888888, \"#fdca26\"], [1.0, \"#f0f921\"]], \"type\": \"heatmapgl\"}], \"histogram\": [{\"marker\": {\"colorbar\": {\"outlinewidth\": 0, \"ticks\": \"\"}}, \"type\": \"histogram\"}], \"histogram2d\": [{\"colorbar\": {\"outlinewidth\": 0, \"ticks\": \"\"}, \"colorscale\": [[0.0, \"#0d0887\"], [0.1111111111111111, \"#46039f\"], [0.2222222222222222, \"#7201a8\"], [0.3333333333333333, \"#9c179e\"], [0.4444444444444444, \"#bd3786\"], [0.5555555555555556, \"#d8576b\"], [0.6666666666666666, \"#ed7953\"], [0.7777777777777778, \"#fb9f3a\"], [0.8888888888888888, \"#fdca26\"], [1.0, \"#f0f921\"]], \"type\": \"histogram2d\"}], \"histogram2dcontour\": [{\"colorbar\": {\"outlinewidth\": 0, \"ticks\": \"\"}, \"colorscale\": [[0.0, \"#0d0887\"], [0.1111111111111111, \"#46039f\"], [0.2222222222222222, \"#7201a8\"], [0.3333333333333333, \"#9c179e\"], [0.4444444444444444, \"#bd3786\"], [0.5555555555555556, \"#d8576b\"], [0.6666666666666666, \"#ed7953\"], [0.7777777777777778, \"#fb9f3a\"], [0.8888888888888888, \"#fdca26\"], [1.0, \"#f0f921\"]], \"type\": \"histogram2dcontour\"}], \"mesh3d\": [{\"colorbar\": {\"outlinewidth\": 0, \"ticks\": \"\"}, \"type\": \"mesh3d\"}], \"parcoords\": [{\"line\": {\"colorbar\": {\"outlinewidth\": 0, \"ticks\": \"\"}}, \"type\": \"parcoords\"}], \"pie\": [{\"automargin\": true, \"type\": \"pie\"}], \"scatter\": [{\"marker\": {\"colorbar\": {\"outlinewidth\": 0, \"ticks\": \"\"}}, \"type\": \"scatter\"}], \"scatter3d\": [{\"line\": {\"colorbar\": {\"outlinewidth\": 0, \"ticks\": \"\"}}, \"marker\": {\"colorbar\": {\"outlinewidth\": 0, \"ticks\": \"\"}}, \"type\": \"scatter3d\"}], \"scattercarpet\": [{\"marker\": {\"colorbar\": {\"outlinewidth\": 0, \"ticks\": \"\"}}, \"type\": \"scattercarpet\"}], \"scattergeo\": [{\"marker\": {\"colorbar\": {\"outlinewidth\": 0, \"ticks\": \"\"}}, \"type\": \"scattergeo\"}], \"scattergl\": [{\"marker\": {\"colorbar\": {\"outlinewidth\": 0, \"ticks\": \"\"}}, \"type\": \"scattergl\"}], \"scattermapbox\": [{\"marker\": {\"colorbar\": {\"outlinewidth\": 0, \"ticks\": \"\"}}, \"type\": \"scattermapbox\"}], \"scatterpolar\": [{\"marker\": {\"colorbar\": {\"outlinewidth\": 0, \"ticks\": \"\"}}, \"type\": \"scatterpolar\"}], \"scatterpolargl\": [{\"marker\": {\"colorbar\": {\"outlinewidth\": 0, \"ticks\": \"\"}}, \"type\": \"scatterpolargl\"}], \"scatterternary\": [{\"marker\": {\"colorbar\": {\"outlinewidth\": 0, \"ticks\": \"\"}}, \"type\": \"scatterternary\"}], \"surface\": [{\"colorbar\": {\"outlinewidth\": 0, \"ticks\": \"\"}, \"colorscale\": [[0.0, \"#0d0887\"], [0.1111111111111111, \"#46039f\"], [0.2222222222222222, \"#7201a8\"], [0.3333333333333333, \"#9c179e\"], [0.4444444444444444, \"#bd3786\"], [0.5555555555555556, \"#d8576b\"], [0.6666666666666666, \"#ed7953\"], [0.7777777777777778, \"#fb9f3a\"], [0.8888888888888888, \"#fdca26\"], [1.0, \"#f0f921\"]], \"type\": \"surface\"}], \"table\": [{\"cells\": {\"fill\": {\"color\": \"#EBF0F8\"}, \"line\": {\"color\": \"white\"}}, \"header\": {\"fill\": {\"color\": \"#C8D4E3\"}, \"line\": {\"color\": \"white\"}}, \"type\": \"table\"}]}, \"layout\": {\"annotationdefaults\": {\"arrowcolor\": \"#2a3f5f\", \"arrowhead\": 0, \"arrowwidth\": 1}, \"coloraxis\": {\"colorbar\": {\"outlinewidth\": 0, \"ticks\": \"\"}}, \"colorscale\": {\"diverging\": [[0, \"#8e0152\"], [0.1, \"#c51b7d\"], [0.2, \"#de77ae\"], [0.3, \"#f1b6da\"], [0.4, \"#fde0ef\"], [0.5, \"#f7f7f7\"], [0.6, \"#e6f5d0\"], [0.7, \"#b8e186\"], [0.8, \"#7fbc41\"], [0.9, \"#4d9221\"], [1, \"#276419\"]], \"sequential\": [[0.0, \"#0d0887\"], [0.1111111111111111, \"#46039f\"], [0.2222222222222222, \"#7201a8\"], [0.3333333333333333, \"#9c179e\"], [0.4444444444444444, \"#bd3786\"], [0.5555555555555556, \"#d8576b\"], [0.6666666666666666, \"#ed7953\"], [0.7777777777777778, \"#fb9f3a\"], [0.8888888888888888, \"#fdca26\"], [1.0, \"#f0f921\"]], \"sequentialminus\": [[0.0, \"#0d0887\"], [0.1111111111111111, \"#46039f\"], [0.2222222222222222, \"#7201a8\"], [0.3333333333333333, \"#9c179e\"], [0.4444444444444444, \"#bd3786\"], [0.5555555555555556, \"#d8576b\"], [0.6666666666666666, \"#ed7953\"], [0.7777777777777778, \"#fb9f3a\"], [0.8888888888888888, \"#fdca26\"], [1.0, \"#f0f921\"]]}, \"colorway\": [\"#636efa\", \"#EF553B\", \"#00cc96\", \"#ab63fa\", \"#FFA15A\", \"#19d3f3\", \"#FF6692\", \"#B6E880\", \"#FF97FF\", \"#FECB52\"], \"font\": {\"color\": \"#2a3f5f\"}, \"geo\": {\"bgcolor\": \"white\", \"lakecolor\": \"white\", \"landcolor\": \"#E5ECF6\", \"showlakes\": true, \"showland\": true, \"subunitcolor\": \"white\"}, \"hoverlabel\": {\"align\": \"left\"}, \"hovermode\": \"closest\", \"mapbox\": {\"style\": \"light\"}, \"paper_bgcolor\": \"white\", \"plot_bgcolor\": \"#E5ECF6\", \"polar\": {\"angularaxis\": {\"gridcolor\": \"white\", \"linecolor\": \"white\", \"ticks\": \"\"}, \"bgcolor\": \"#E5ECF6\", \"radialaxis\": {\"gridcolor\": \"white\", \"linecolor\": \"white\", \"ticks\": \"\"}}, \"scene\": {\"xaxis\": {\"backgroundcolor\": \"#E5ECF6\", \"gridcolor\": \"white\", \"gridwidth\": 2, \"linecolor\": \"white\", \"showbackground\": true, \"ticks\": \"\", \"zerolinecolor\": \"white\"}, \"yaxis\": {\"backgroundcolor\": \"#E5ECF6\", \"gridcolor\": \"white\", \"gridwidth\": 2, \"linecolor\": \"white\", \"showbackground\": true, \"ticks\": \"\", \"zerolinecolor\": \"white\"}, \"zaxis\": {\"backgroundcolor\": \"#E5ECF6\", \"gridcolor\": \"white\", \"gridwidth\": 2, \"linecolor\": \"white\", \"showbackground\": true, \"ticks\": \"\", \"zerolinecolor\": \"white\"}}, \"shapedefaults\": {\"line\": {\"color\": \"#2a3f5f\"}}, \"ternary\": {\"aaxis\": {\"gridcolor\": \"white\", \"linecolor\": \"white\", \"ticks\": \"\"}, \"baxis\": {\"gridcolor\": \"white\", \"linecolor\": \"white\", \"ticks\": \"\"}, \"bgcolor\": \"#E5ECF6\", \"caxis\": {\"gridcolor\": \"white\", \"linecolor\": \"white\", \"ticks\": \"\"}}, \"title\": {\"x\": 0.05}, \"xaxis\": {\"automargin\": true, \"gridcolor\": \"white\", \"linecolor\": \"white\", \"ticks\": \"\", \"title\": {\"standoff\": 15}, \"zerolinecolor\": \"white\", \"zerolinewidth\": 2}, \"yaxis\": {\"automargin\": true, \"gridcolor\": \"white\", \"linecolor\": \"white\", \"ticks\": \"\", \"title\": {\"standoff\": 15}, \"zerolinecolor\": \"white\", \"zerolinewidth\": 2}}}, \"title\": {\"text\": \"RandomForestClassifier Probability Threshold Optimization\", \"x\": 0.45, \"xanchor\": \"center\", \"y\": 0.95, \"yanchor\": \"top\"}, \"xaxis\": {\"anchor\": \"y\", \"domain\": [0.0, 1.0], \"title\": {\"text\": \"Probability Threshold\"}}, \"yaxis\": {\"anchor\": \"x\", \"domain\": [0.0, 1.0], \"title\": {\"text\": \"Cost Function\"}}},\n",
       "                        {\"responsive\": true}\n",
       "                    ).then(function(){\n",
       "                            \n",
       "var gd = document.getElementById('fbc02f7a-0de3-4771-ba0a-247e2e63902b');\n",
       "var x = new MutationObserver(function (mutations, observer) {{\n",
       "        var display = window.getComputedStyle(gd).display;\n",
       "        if (!display || display === 'none') {{\n",
       "            console.log([gd, 'removed!']);\n",
       "            Plotly.purge(gd);\n",
       "            observer.disconnect();\n",
       "        }}\n",
       "}});\n",
       "\n",
       "// Listen for the removal of the full notebook cells\n",
       "var notebookContainer = gd.closest('#notebook-container');\n",
       "if (notebookContainer) {{\n",
       "    x.observe(notebookContainer, {childList: true});\n",
       "}}\n",
       "\n",
       "// Listen for the clearing of the current output cell\n",
       "var outputEl = gd.closest('.output');\n",
       "if (outputEl) {{\n",
       "    x.observe(outputEl, {childList: true});\n",
       "}}\n",
       "\n",
       "                        })\n",
       "                };\n",
       "                });\n",
       "            </script>\n",
       "        </div>"
      ]
     },
     "metadata": {},
     "output_type": "display_data"
    },
    {
     "name": "stdout",
     "output_type": "stream",
     "text": [
      "Optimized Probability Threshold: 0.47 | Optimized Cost Function: 7600\n"
     ]
    }
   ],
   "source": [
    "# optimize threshold when false positive != false negative\n",
    "# note: then use in .predict_model() later\n",
    "optimized_threshold_model = classification.optimize_threshold(\n",
    "    estimator=tuned_classification_model,\n",
    "    true_positive=100,\n",
    "    false_positive=-100,\n",
    "    true_negative=100, \n",
    "    false_negative=-500\n",
    ")"
   ]
  },
  {
   "cell_type": "code",
   "execution_count": 30,
   "metadata": {},
   "outputs": [
    {
     "data": {
      "text/html": [
       "<div>\n",
       "<style scoped>\n",
       "    .dataframe tbody tr th:only-of-type {\n",
       "        vertical-align: middle;\n",
       "    }\n",
       "\n",
       "    .dataframe tbody tr th {\n",
       "        vertical-align: top;\n",
       "    }\n",
       "\n",
       "    .dataframe thead th {\n",
       "        text-align: right;\n",
       "    }\n",
       "</style>\n",
       "<table border=\"1\" class=\"dataframe\">\n",
       "  <thead>\n",
       "    <tr style=\"text-align: right;\">\n",
       "      <th></th>\n",
       "      <th>Model</th>\n",
       "      <th>Accuracy</th>\n",
       "      <th>AUC</th>\n",
       "      <th>Recall</th>\n",
       "      <th>Prec.</th>\n",
       "      <th>F1</th>\n",
       "      <th>Kappa</th>\n",
       "      <th>MCC</th>\n",
       "    </tr>\n",
       "  </thead>\n",
       "  <tbody>\n",
       "    <tr>\n",
       "      <th>0</th>\n",
       "      <td>Random Forest Classifier</td>\n",
       "      <td>0.9067</td>\n",
       "      <td>0.977</td>\n",
       "      <td>0.932</td>\n",
       "      <td>0.8421</td>\n",
       "      <td>0.8848</td>\n",
       "      <td>0.8068</td>\n",
       "      <td>0.8097</td>\n",
       "    </tr>\n",
       "  </tbody>\n",
       "</table>\n",
       "</div>"
      ],
      "text/plain": [
       "                      Model  Accuracy    AUC  Recall   Prec.      F1   Kappa  \\\n",
       "0  Random Forest Classifier    0.9067  0.977   0.932  0.8421  0.8848  0.8068   \n",
       "\n",
       "      MCC  \n",
       "0  0.8097  "
      ]
     },
     "metadata": {},
     "output_type": "display_data"
    }
   ],
   "source": [
    "# test set prediction with custom threshold\n",
    "test_predictions = classification.predict_model(\n",
    "    estimator=best_model,\n",
    "    probability_threshold=0.3\n",
    ")"
   ]
  },
  {
   "cell_type": "code",
   "execution_count": 31,
   "metadata": {},
   "outputs": [],
   "source": [
    "# finalize model \n",
    "final_classification_model = classification.finalize_model(\n",
    "    estimator=best_model\n",
    ")"
   ]
  },
  {
   "cell_type": "code",
   "execution_count": 32,
   "metadata": {},
   "outputs": [
    {
     "name": "stdout",
     "output_type": "stream",
     "text": [
      "RandomForestClassifier(bootstrap=False, ccp_alpha=0.0, class_weight=None,\n",
      "                       criterion='gini', max_depth=40, max_features='auto',\n",
      "                       max_leaf_nodes=None, max_samples=None,\n",
      "                       min_impurity_decrease=0.0, min_impurity_split=None,\n",
      "                       min_samples_leaf=2, min_samples_split=10,\n",
      "                       min_weight_fraction_leaf=0.0, n_estimators=70, n_jobs=-1,\n",
      "                       oob_score=False, random_state=5902, verbose=0,\n",
      "                       warm_start=False)\n"
     ]
    }
   ],
   "source": [
    "# display model\n",
    "print(final_classification_model)"
   ]
  },
  {
   "cell_type": "code",
   "execution_count": 33,
   "metadata": {},
   "outputs": [
    {
     "data": {
      "text/html": [
       "<div>\n",
       "<style scoped>\n",
       "    .dataframe tbody tr th:only-of-type {\n",
       "        vertical-align: middle;\n",
       "    }\n",
       "\n",
       "    .dataframe tbody tr th {\n",
       "        vertical-align: top;\n",
       "    }\n",
       "\n",
       "    .dataframe thead th {\n",
       "        text-align: right;\n",
       "    }\n",
       "</style>\n",
       "<table border=\"1\" class=\"dataframe\">\n",
       "  <thead>\n",
       "    <tr style=\"text-align: right;\">\n",
       "      <th></th>\n",
       "      <th>run_id</th>\n",
       "      <th>experiment_id</th>\n",
       "      <th>status</th>\n",
       "      <th>artifact_uri</th>\n",
       "      <th>start_time</th>\n",
       "      <th>end_time</th>\n",
       "      <th>metrics.Precision</th>\n",
       "      <th>metrics.Kappa</th>\n",
       "      <th>metrics.TT</th>\n",
       "      <th>metrics.AUC</th>\n",
       "      <th>...</th>\n",
       "      <th>tags.Source</th>\n",
       "      <th>tags.mlflow.user</th>\n",
       "      <th>tags.mlflow.runName</th>\n",
       "      <th>tags.Size KB</th>\n",
       "      <th>tags.mlflow.source.type</th>\n",
       "      <th>tags.Final</th>\n",
       "      <th>tags.URI</th>\n",
       "      <th>tags.Run Time</th>\n",
       "      <th>tags.mlflow.source.name</th>\n",
       "      <th>tags.USI</th>\n",
       "    </tr>\n",
       "  </thead>\n",
       "  <tbody>\n",
       "    <tr>\n",
       "      <th>0</th>\n",
       "      <td>4b03fc82655e476488b23bbecfa1d1c5</td>\n",
       "      <td>2</td>\n",
       "      <td>FINISHED</td>\n",
       "      <td>file:///Users/davidtagler/Desktop/OneDrive%20-...</td>\n",
       "      <td>2020-08-03 18:14:52.529000+00:00</td>\n",
       "      <td>2020-08-03 18:14:54.426000+00:00</td>\n",
       "      <td>0.793500</td>\n",
       "      <td>0.593200</td>\n",
       "      <td>0.180000</td>\n",
       "      <td>0.883700</td>\n",
       "      <td>...</td>\n",
       "      <td>finalize_model</td>\n",
       "      <td>davidtagler</td>\n",
       "      <td>Random Forest Classifier</td>\n",
       "      <td>1238.92</td>\n",
       "      <td>LOCAL</td>\n",
       "      <td>True</td>\n",
       "      <td>91c71fb0</td>\n",
       "      <td>0.18</td>\n",
       "      <td>/opt/anaconda3/envs/pycaret/lib/python3.8/site...</td>\n",
       "      <td>2c2c</td>\n",
       "    </tr>\n",
       "    <tr>\n",
       "      <th>1</th>\n",
       "      <td>15a4e228fc9f463daf40bc7592e3d5ed</td>\n",
       "      <td>2</td>\n",
       "      <td>FINISHED</td>\n",
       "      <td>file:///Users/davidtagler/Desktop/OneDrive%20-...</td>\n",
       "      <td>2020-08-03 18:14:49.057000+00:00</td>\n",
       "      <td>2020-08-03 18:14:50.844000+00:00</td>\n",
       "      <td>0.793500</td>\n",
       "      <td>0.593200</td>\n",
       "      <td>0.140000</td>\n",
       "      <td>0.883700</td>\n",
       "      <td>...</td>\n",
       "      <td>finalize_model</td>\n",
       "      <td>davidtagler</td>\n",
       "      <td>Random Forest Classifier</td>\n",
       "      <td>1238.92</td>\n",
       "      <td>LOCAL</td>\n",
       "      <td>True</td>\n",
       "      <td>1d11123b</td>\n",
       "      <td>0.14</td>\n",
       "      <td>/opt/anaconda3/envs/pycaret/lib/python3.8/site...</td>\n",
       "      <td>2c2c</td>\n",
       "    </tr>\n",
       "    <tr>\n",
       "      <th>2</th>\n",
       "      <td>75e59f04f96c440ebe5ac721b6e4795a</td>\n",
       "      <td>2</td>\n",
       "      <td>FINISHED</td>\n",
       "      <td>file:///Users/davidtagler/Desktop/OneDrive%20-...</td>\n",
       "      <td>2020-08-03 18:14:48.486000+00:00</td>\n",
       "      <td>2020-08-03 18:14:48.845000+00:00</td>\n",
       "      <td>0.790288</td>\n",
       "      <td>0.606898</td>\n",
       "      <td>3.400000</td>\n",
       "      <td>0.873263</td>\n",
       "      <td>...</td>\n",
       "      <td>stack_models</td>\n",
       "      <td>davidtagler</td>\n",
       "      <td>Stacking Classifier</td>\n",
       "      <td>587.99</td>\n",
       "      <td>LOCAL</td>\n",
       "      <td>None</td>\n",
       "      <td>f836dd80</td>\n",
       "      <td>3.47</td>\n",
       "      <td>/opt/anaconda3/envs/pycaret/lib/python3.8/site...</td>\n",
       "      <td>2c2c</td>\n",
       "    </tr>\n",
       "    <tr>\n",
       "      <th>3</th>\n",
       "      <td>3110bcd5f0164fc3b17584c48ffb1c55</td>\n",
       "      <td>2</td>\n",
       "      <td>FINISHED</td>\n",
       "      <td>file:///Users/davidtagler/Desktop/OneDrive%20-...</td>\n",
       "      <td>2020-08-03 18:14:44.598000+00:00</td>\n",
       "      <td>2020-08-03 18:14:44.875000+00:00</td>\n",
       "      <td>0.793121</td>\n",
       "      <td>0.612785</td>\n",
       "      <td>0.140000</td>\n",
       "      <td>0.000000</td>\n",
       "      <td>...</td>\n",
       "      <td>blend_models</td>\n",
       "      <td>davidtagler</td>\n",
       "      <td>Voting Classifier</td>\n",
       "      <td>1083.35</td>\n",
       "      <td>LOCAL</td>\n",
       "      <td>None</td>\n",
       "      <td>5eccff9b</td>\n",
       "      <td>2.16</td>\n",
       "      <td>/opt/anaconda3/envs/pycaret/lib/python3.8/site...</td>\n",
       "      <td>2c2c</td>\n",
       "    </tr>\n",
       "    <tr>\n",
       "      <th>4</th>\n",
       "      <td>38e7beb0cf5f47b1a36e3f534537f982</td>\n",
       "      <td>2</td>\n",
       "      <td>FINISHED</td>\n",
       "      <td>file:///Users/davidtagler/Desktop/OneDrive%20-...</td>\n",
       "      <td>2020-08-03 18:14:41.956000+00:00</td>\n",
       "      <td>2020-08-03 18:14:42.409000+00:00</td>\n",
       "      <td>0.820797</td>\n",
       "      <td>0.598272</td>\n",
       "      <td>0.110000</td>\n",
       "      <td>0.876742</td>\n",
       "      <td>...</td>\n",
       "      <td>tune_model</td>\n",
       "      <td>davidtagler</td>\n",
       "      <td>Gradient Boosting Classifier</td>\n",
       "      <td>535.06</td>\n",
       "      <td>LOCAL</td>\n",
       "      <td>None</td>\n",
       "      <td>cf53dd9d</td>\n",
       "      <td>17.4</td>\n",
       "      <td>/opt/anaconda3/envs/pycaret/lib/python3.8/site...</td>\n",
       "      <td>2c2c</td>\n",
       "    </tr>\n",
       "    <tr>\n",
       "      <th>...</th>\n",
       "      <td>...</td>\n",
       "      <td>...</td>\n",
       "      <td>...</td>\n",
       "      <td>...</td>\n",
       "      <td>...</td>\n",
       "      <td>...</td>\n",
       "      <td>...</td>\n",
       "      <td>...</td>\n",
       "      <td>...</td>\n",
       "      <td>...</td>\n",
       "      <td>...</td>\n",
       "      <td>...</td>\n",
       "      <td>...</td>\n",
       "      <td>...</td>\n",
       "      <td>...</td>\n",
       "      <td>...</td>\n",
       "      <td>...</td>\n",
       "      <td>...</td>\n",
       "      <td>...</td>\n",
       "      <td>...</td>\n",
       "      <td>...</td>\n",
       "    </tr>\n",
       "    <tr>\n",
       "      <th>482</th>\n",
       "      <td>d0f250d5d6a5458fb2b22b7f8ed7af58</td>\n",
       "      <td>2</td>\n",
       "      <td>FINISHED</td>\n",
       "      <td>file:///Users/davidtagler/Desktop/OneDrive%20-...</td>\n",
       "      <td>2020-08-03 15:06:43.922000+00:00</td>\n",
       "      <td>2020-08-03 15:06:44.282000+00:00</td>\n",
       "      <td>0.644946</td>\n",
       "      <td>0.433713</td>\n",
       "      <td>0.005587</td>\n",
       "      <td>0.720475</td>\n",
       "      <td>...</td>\n",
       "      <td>compare_models</td>\n",
       "      <td>davidtagler</td>\n",
       "      <td>Decision Tree Classifier</td>\n",
       "      <td>113.31</td>\n",
       "      <td>LOCAL</td>\n",
       "      <td>None</td>\n",
       "      <td>7e0314c6</td>\n",
       "      <td>0.42</td>\n",
       "      <td>/opt/anaconda3/envs/pycaret/lib/python3.8/site...</td>\n",
       "      <td>cab9</td>\n",
       "    </tr>\n",
       "    <tr>\n",
       "      <th>483</th>\n",
       "      <td>814dd6e76b03415cb6007038c0df74c5</td>\n",
       "      <td>2</td>\n",
       "      <td>FINISHED</td>\n",
       "      <td>file:///Users/davidtagler/Desktop/OneDrive%20-...</td>\n",
       "      <td>2020-08-03 15:06:43.301000+00:00</td>\n",
       "      <td>2020-08-03 15:06:43.501000+00:00</td>\n",
       "      <td>0.737588</td>\n",
       "      <td>0.540735</td>\n",
       "      <td>0.003837</td>\n",
       "      <td>0.833160</td>\n",
       "      <td>...</td>\n",
       "      <td>compare_models</td>\n",
       "      <td>davidtagler</td>\n",
       "      <td>Naive Bayes</td>\n",
       "      <td>93.28</td>\n",
       "      <td>LOCAL</td>\n",
       "      <td>None</td>\n",
       "      <td>7e0314c6</td>\n",
       "      <td>0.41</td>\n",
       "      <td>/opt/anaconda3/envs/pycaret/lib/python3.8/site...</td>\n",
       "      <td>cab9</td>\n",
       "    </tr>\n",
       "    <tr>\n",
       "      <th>484</th>\n",
       "      <td>d33453b3dab742f7825b16ecd38411f5</td>\n",
       "      <td>2</td>\n",
       "      <td>FINISHED</td>\n",
       "      <td>file:///Users/davidtagler/Desktop/OneDrive%20-...</td>\n",
       "      <td>2020-08-03 15:06:42.567000+00:00</td>\n",
       "      <td>2020-08-03 15:06:42.889000+00:00</td>\n",
       "      <td>0.761171</td>\n",
       "      <td>0.566621</td>\n",
       "      <td>0.002927</td>\n",
       "      <td>0.826230</td>\n",
       "      <td>...</td>\n",
       "      <td>compare_models</td>\n",
       "      <td>davidtagler</td>\n",
       "      <td>K Neighbors Classifier</td>\n",
       "      <td>273.84</td>\n",
       "      <td>LOCAL</td>\n",
       "      <td>None</td>\n",
       "      <td>7e0314c6</td>\n",
       "      <td>0.56</td>\n",
       "      <td>/opt/anaconda3/envs/pycaret/lib/python3.8/site...</td>\n",
       "      <td>cab9</td>\n",
       "    </tr>\n",
       "    <tr>\n",
       "      <th>485</th>\n",
       "      <td>2734d598f2ef47beb7bed795c7f7144c</td>\n",
       "      <td>2</td>\n",
       "      <td>FINISHED</td>\n",
       "      <td>file:///Users/davidtagler/Desktop/OneDrive%20-...</td>\n",
       "      <td>2020-08-03 15:06:41.787000+00:00</td>\n",
       "      <td>2020-08-03 15:06:41.998000+00:00</td>\n",
       "      <td>0.775391</td>\n",
       "      <td>0.605739</td>\n",
       "      <td>0.038711</td>\n",
       "      <td>0.856491</td>\n",
       "      <td>...</td>\n",
       "      <td>compare_models</td>\n",
       "      <td>davidtagler</td>\n",
       "      <td>Logistic Regression</td>\n",
       "      <td>92.97</td>\n",
       "      <td>LOCAL</td>\n",
       "      <td>None</td>\n",
       "      <td>7e0314c6</td>\n",
       "      <td>0.69</td>\n",
       "      <td>/opt/anaconda3/envs/pycaret/lib/python3.8/site...</td>\n",
       "      <td>cab9</td>\n",
       "    </tr>\n",
       "    <tr>\n",
       "      <th>486</th>\n",
       "      <td>9f894e6ed86d47c9abe89939a2382968</td>\n",
       "      <td>2</td>\n",
       "      <td>FINISHED</td>\n",
       "      <td>file:///Users/davidtagler/Desktop/OneDrive%20-...</td>\n",
       "      <td>2020-08-03 15:06:18.667000+00:00</td>\n",
       "      <td>2020-08-03 15:06:19.125000+00:00</td>\n",
       "      <td>NaN</td>\n",
       "      <td>NaN</td>\n",
       "      <td>NaN</td>\n",
       "      <td>NaN</td>\n",
       "      <td>...</td>\n",
       "      <td>setup</td>\n",
       "      <td>davidtagler</td>\n",
       "      <td>Session Initialized cab9</td>\n",
       "      <td>92.27</td>\n",
       "      <td>LOCAL</td>\n",
       "      <td>None</td>\n",
       "      <td>cdf26339</td>\n",
       "      <td>7.18</td>\n",
       "      <td>/opt/anaconda3/envs/pycaret/lib/python3.8/site...</td>\n",
       "      <td>cab9</td>\n",
       "    </tr>\n",
       "  </tbody>\n",
       "</table>\n",
       "<p>487 rows × 301 columns</p>\n",
       "</div>"
      ],
      "text/plain": [
       "                               run_id experiment_id    status  \\\n",
       "0    4b03fc82655e476488b23bbecfa1d1c5             2  FINISHED   \n",
       "1    15a4e228fc9f463daf40bc7592e3d5ed             2  FINISHED   \n",
       "2    75e59f04f96c440ebe5ac721b6e4795a             2  FINISHED   \n",
       "3    3110bcd5f0164fc3b17584c48ffb1c55             2  FINISHED   \n",
       "4    38e7beb0cf5f47b1a36e3f534537f982             2  FINISHED   \n",
       "..                                ...           ...       ...   \n",
       "482  d0f250d5d6a5458fb2b22b7f8ed7af58             2  FINISHED   \n",
       "483  814dd6e76b03415cb6007038c0df74c5             2  FINISHED   \n",
       "484  d33453b3dab742f7825b16ecd38411f5             2  FINISHED   \n",
       "485  2734d598f2ef47beb7bed795c7f7144c             2  FINISHED   \n",
       "486  9f894e6ed86d47c9abe89939a2382968             2  FINISHED   \n",
       "\n",
       "                                          artifact_uri  \\\n",
       "0    file:///Users/davidtagler/Desktop/OneDrive%20-...   \n",
       "1    file:///Users/davidtagler/Desktop/OneDrive%20-...   \n",
       "2    file:///Users/davidtagler/Desktop/OneDrive%20-...   \n",
       "3    file:///Users/davidtagler/Desktop/OneDrive%20-...   \n",
       "4    file:///Users/davidtagler/Desktop/OneDrive%20-...   \n",
       "..                                                 ...   \n",
       "482  file:///Users/davidtagler/Desktop/OneDrive%20-...   \n",
       "483  file:///Users/davidtagler/Desktop/OneDrive%20-...   \n",
       "484  file:///Users/davidtagler/Desktop/OneDrive%20-...   \n",
       "485  file:///Users/davidtagler/Desktop/OneDrive%20-...   \n",
       "486  file:///Users/davidtagler/Desktop/OneDrive%20-...   \n",
       "\n",
       "                          start_time                         end_time  \\\n",
       "0   2020-08-03 18:14:52.529000+00:00 2020-08-03 18:14:54.426000+00:00   \n",
       "1   2020-08-03 18:14:49.057000+00:00 2020-08-03 18:14:50.844000+00:00   \n",
       "2   2020-08-03 18:14:48.486000+00:00 2020-08-03 18:14:48.845000+00:00   \n",
       "3   2020-08-03 18:14:44.598000+00:00 2020-08-03 18:14:44.875000+00:00   \n",
       "4   2020-08-03 18:14:41.956000+00:00 2020-08-03 18:14:42.409000+00:00   \n",
       "..                               ...                              ...   \n",
       "482 2020-08-03 15:06:43.922000+00:00 2020-08-03 15:06:44.282000+00:00   \n",
       "483 2020-08-03 15:06:43.301000+00:00 2020-08-03 15:06:43.501000+00:00   \n",
       "484 2020-08-03 15:06:42.567000+00:00 2020-08-03 15:06:42.889000+00:00   \n",
       "485 2020-08-03 15:06:41.787000+00:00 2020-08-03 15:06:41.998000+00:00   \n",
       "486 2020-08-03 15:06:18.667000+00:00 2020-08-03 15:06:19.125000+00:00   \n",
       "\n",
       "     metrics.Precision  metrics.Kappa  metrics.TT  metrics.AUC  ...  \\\n",
       "0             0.793500       0.593200    0.180000     0.883700  ...   \n",
       "1             0.793500       0.593200    0.140000     0.883700  ...   \n",
       "2             0.790288       0.606898    3.400000     0.873263  ...   \n",
       "3             0.793121       0.612785    0.140000     0.000000  ...   \n",
       "4             0.820797       0.598272    0.110000     0.876742  ...   \n",
       "..                 ...            ...         ...          ...  ...   \n",
       "482           0.644946       0.433713    0.005587     0.720475  ...   \n",
       "483           0.737588       0.540735    0.003837     0.833160  ...   \n",
       "484           0.761171       0.566621    0.002927     0.826230  ...   \n",
       "485           0.775391       0.605739    0.038711     0.856491  ...   \n",
       "486                NaN            NaN         NaN          NaN  ...   \n",
       "\n",
       "        tags.Source  tags.mlflow.user           tags.mlflow.runName  \\\n",
       "0    finalize_model       davidtagler      Random Forest Classifier   \n",
       "1    finalize_model       davidtagler      Random Forest Classifier   \n",
       "2      stack_models       davidtagler           Stacking Classifier   \n",
       "3      blend_models       davidtagler             Voting Classifier   \n",
       "4        tune_model       davidtagler  Gradient Boosting Classifier   \n",
       "..              ...               ...                           ...   \n",
       "482  compare_models       davidtagler      Decision Tree Classifier   \n",
       "483  compare_models       davidtagler                   Naive Bayes   \n",
       "484  compare_models       davidtagler        K Neighbors Classifier   \n",
       "485  compare_models       davidtagler           Logistic Regression   \n",
       "486           setup       davidtagler      Session Initialized cab9   \n",
       "\n",
       "     tags.Size KB tags.mlflow.source.type tags.Final  tags.URI tags.Run Time  \\\n",
       "0         1238.92                   LOCAL       True  91c71fb0          0.18   \n",
       "1         1238.92                   LOCAL       True  1d11123b          0.14   \n",
       "2          587.99                   LOCAL       None  f836dd80          3.47   \n",
       "3         1083.35                   LOCAL       None  5eccff9b          2.16   \n",
       "4          535.06                   LOCAL       None  cf53dd9d          17.4   \n",
       "..            ...                     ...        ...       ...           ...   \n",
       "482        113.31                   LOCAL       None  7e0314c6          0.42   \n",
       "483         93.28                   LOCAL       None  7e0314c6          0.41   \n",
       "484        273.84                   LOCAL       None  7e0314c6          0.56   \n",
       "485         92.97                   LOCAL       None  7e0314c6          0.69   \n",
       "486         92.27                   LOCAL       None  cdf26339          7.18   \n",
       "\n",
       "                               tags.mlflow.source.name tags.USI  \n",
       "0    /opt/anaconda3/envs/pycaret/lib/python3.8/site...     2c2c  \n",
       "1    /opt/anaconda3/envs/pycaret/lib/python3.8/site...     2c2c  \n",
       "2    /opt/anaconda3/envs/pycaret/lib/python3.8/site...     2c2c  \n",
       "3    /opt/anaconda3/envs/pycaret/lib/python3.8/site...     2c2c  \n",
       "4    /opt/anaconda3/envs/pycaret/lib/python3.8/site...     2c2c  \n",
       "..                                                 ...      ...  \n",
       "482  /opt/anaconda3/envs/pycaret/lib/python3.8/site...     cab9  \n",
       "483  /opt/anaconda3/envs/pycaret/lib/python3.8/site...     cab9  \n",
       "484  /opt/anaconda3/envs/pycaret/lib/python3.8/site...     cab9  \n",
       "485  /opt/anaconda3/envs/pycaret/lib/python3.8/site...     cab9  \n",
       "486  /opt/anaconda3/envs/pycaret/lib/python3.8/site...     cab9  \n",
       "\n",
       "[487 rows x 301 columns]"
      ]
     },
     "execution_count": 33,
     "metadata": {},
     "output_type": "execute_result"
    }
   ],
   "source": [
    "# display logs\n",
    "classification.get_logs()"
   ]
  },
  {
   "cell_type": "markdown",
   "metadata": {},
   "source": [
    "# classification (multi-class)"
   ]
  },
  {
   "cell_type": "code",
   "execution_count": 34,
   "metadata": {},
   "outputs": [
    {
     "name": "stdout",
     "output_type": "stream",
     "text": [
      "Setup Succesfully Completed!\n"
     ]
    },
    {
     "data": {
      "text/html": [
       "<style  type=\"text/css\" >\n",
       "    #T_f29eca7c_d5b5_11ea_8811_38f9d3db5c17row15_col1 {\n",
       "            background-color:  lightgreen;\n",
       "        }    #T_f29eca7c_d5b5_11ea_8811_38f9d3db5c17row32_col1 {\n",
       "            background-color:  lightgreen;\n",
       "        }    #T_f29eca7c_d5b5_11ea_8811_38f9d3db5c17row34_col1 {\n",
       "            background-color:  lightgreen;\n",
       "        }</style><table id=\"T_f29eca7c_d5b5_11ea_8811_38f9d3db5c17\" ><thead>    <tr>        <th class=\"blank level0\" ></th>        <th class=\"col_heading level0 col0\" >Description</th>        <th class=\"col_heading level0 col1\" >Value</th>    </tr></thead><tbody>\n",
       "                <tr>\n",
       "                        <th id=\"T_f29eca7c_d5b5_11ea_8811_38f9d3db5c17level0_row0\" class=\"row_heading level0 row0\" >0</th>\n",
       "                        <td id=\"T_f29eca7c_d5b5_11ea_8811_38f9d3db5c17row0_col0\" class=\"data row0 col0\" >session_id</td>\n",
       "                        <td id=\"T_f29eca7c_d5b5_11ea_8811_38f9d3db5c17row0_col1\" class=\"data row0 col1\" >1370</td>\n",
       "            </tr>\n",
       "            <tr>\n",
       "                        <th id=\"T_f29eca7c_d5b5_11ea_8811_38f9d3db5c17level0_row1\" class=\"row_heading level0 row1\" >1</th>\n",
       "                        <td id=\"T_f29eca7c_d5b5_11ea_8811_38f9d3db5c17row1_col0\" class=\"data row1 col0\" >Target Type</td>\n",
       "                        <td id=\"T_f29eca7c_d5b5_11ea_8811_38f9d3db5c17row1_col1\" class=\"data row1 col1\" >Multiclass</td>\n",
       "            </tr>\n",
       "            <tr>\n",
       "                        <th id=\"T_f29eca7c_d5b5_11ea_8811_38f9d3db5c17level0_row2\" class=\"row_heading level0 row2\" >2</th>\n",
       "                        <td id=\"T_f29eca7c_d5b5_11ea_8811_38f9d3db5c17row2_col0\" class=\"data row2 col0\" >Label Encoded</td>\n",
       "                        <td id=\"T_f29eca7c_d5b5_11ea_8811_38f9d3db5c17row2_col1\" class=\"data row2 col1\" >setosa: 0, versicolor: 1, virginica: 2</td>\n",
       "            </tr>\n",
       "            <tr>\n",
       "                        <th id=\"T_f29eca7c_d5b5_11ea_8811_38f9d3db5c17level0_row3\" class=\"row_heading level0 row3\" >3</th>\n",
       "                        <td id=\"T_f29eca7c_d5b5_11ea_8811_38f9d3db5c17row3_col0\" class=\"data row3 col0\" >Original Data</td>\n",
       "                        <td id=\"T_f29eca7c_d5b5_11ea_8811_38f9d3db5c17row3_col1\" class=\"data row3 col1\" >(150, 5)</td>\n",
       "            </tr>\n",
       "            <tr>\n",
       "                        <th id=\"T_f29eca7c_d5b5_11ea_8811_38f9d3db5c17level0_row4\" class=\"row_heading level0 row4\" >4</th>\n",
       "                        <td id=\"T_f29eca7c_d5b5_11ea_8811_38f9d3db5c17row4_col0\" class=\"data row4 col0\" >Missing Values </td>\n",
       "                        <td id=\"T_f29eca7c_d5b5_11ea_8811_38f9d3db5c17row4_col1\" class=\"data row4 col1\" >False</td>\n",
       "            </tr>\n",
       "            <tr>\n",
       "                        <th id=\"T_f29eca7c_d5b5_11ea_8811_38f9d3db5c17level0_row5\" class=\"row_heading level0 row5\" >5</th>\n",
       "                        <td id=\"T_f29eca7c_d5b5_11ea_8811_38f9d3db5c17row5_col0\" class=\"data row5 col0\" >Numeric Features </td>\n",
       "                        <td id=\"T_f29eca7c_d5b5_11ea_8811_38f9d3db5c17row5_col1\" class=\"data row5 col1\" >4</td>\n",
       "            </tr>\n",
       "            <tr>\n",
       "                        <th id=\"T_f29eca7c_d5b5_11ea_8811_38f9d3db5c17level0_row6\" class=\"row_heading level0 row6\" >6</th>\n",
       "                        <td id=\"T_f29eca7c_d5b5_11ea_8811_38f9d3db5c17row6_col0\" class=\"data row6 col0\" >Categorical Features </td>\n",
       "                        <td id=\"T_f29eca7c_d5b5_11ea_8811_38f9d3db5c17row6_col1\" class=\"data row6 col1\" >0</td>\n",
       "            </tr>\n",
       "            <tr>\n",
       "                        <th id=\"T_f29eca7c_d5b5_11ea_8811_38f9d3db5c17level0_row7\" class=\"row_heading level0 row7\" >7</th>\n",
       "                        <td id=\"T_f29eca7c_d5b5_11ea_8811_38f9d3db5c17row7_col0\" class=\"data row7 col0\" >Ordinal Features </td>\n",
       "                        <td id=\"T_f29eca7c_d5b5_11ea_8811_38f9d3db5c17row7_col1\" class=\"data row7 col1\" >False</td>\n",
       "            </tr>\n",
       "            <tr>\n",
       "                        <th id=\"T_f29eca7c_d5b5_11ea_8811_38f9d3db5c17level0_row8\" class=\"row_heading level0 row8\" >8</th>\n",
       "                        <td id=\"T_f29eca7c_d5b5_11ea_8811_38f9d3db5c17row8_col0\" class=\"data row8 col0\" >High Cardinality Features </td>\n",
       "                        <td id=\"T_f29eca7c_d5b5_11ea_8811_38f9d3db5c17row8_col1\" class=\"data row8 col1\" >False</td>\n",
       "            </tr>\n",
       "            <tr>\n",
       "                        <th id=\"T_f29eca7c_d5b5_11ea_8811_38f9d3db5c17level0_row9\" class=\"row_heading level0 row9\" >9</th>\n",
       "                        <td id=\"T_f29eca7c_d5b5_11ea_8811_38f9d3db5c17row9_col0\" class=\"data row9 col0\" >High Cardinality Method </td>\n",
       "                        <td id=\"T_f29eca7c_d5b5_11ea_8811_38f9d3db5c17row9_col1\" class=\"data row9 col1\" >None</td>\n",
       "            </tr>\n",
       "            <tr>\n",
       "                        <th id=\"T_f29eca7c_d5b5_11ea_8811_38f9d3db5c17level0_row10\" class=\"row_heading level0 row10\" >10</th>\n",
       "                        <td id=\"T_f29eca7c_d5b5_11ea_8811_38f9d3db5c17row10_col0\" class=\"data row10 col0\" >Sampled Data</td>\n",
       "                        <td id=\"T_f29eca7c_d5b5_11ea_8811_38f9d3db5c17row10_col1\" class=\"data row10 col1\" >(150, 5)</td>\n",
       "            </tr>\n",
       "            <tr>\n",
       "                        <th id=\"T_f29eca7c_d5b5_11ea_8811_38f9d3db5c17level0_row11\" class=\"row_heading level0 row11\" >11</th>\n",
       "                        <td id=\"T_f29eca7c_d5b5_11ea_8811_38f9d3db5c17row11_col0\" class=\"data row11 col0\" >Transformed Train Set</td>\n",
       "                        <td id=\"T_f29eca7c_d5b5_11ea_8811_38f9d3db5c17row11_col1\" class=\"data row11 col1\" >(104, 8)</td>\n",
       "            </tr>\n",
       "            <tr>\n",
       "                        <th id=\"T_f29eca7c_d5b5_11ea_8811_38f9d3db5c17level0_row12\" class=\"row_heading level0 row12\" >12</th>\n",
       "                        <td id=\"T_f29eca7c_d5b5_11ea_8811_38f9d3db5c17row12_col0\" class=\"data row12 col0\" >Transformed Test Set</td>\n",
       "                        <td id=\"T_f29eca7c_d5b5_11ea_8811_38f9d3db5c17row12_col1\" class=\"data row12 col1\" >(46, 8)</td>\n",
       "            </tr>\n",
       "            <tr>\n",
       "                        <th id=\"T_f29eca7c_d5b5_11ea_8811_38f9d3db5c17level0_row13\" class=\"row_heading level0 row13\" >13</th>\n",
       "                        <td id=\"T_f29eca7c_d5b5_11ea_8811_38f9d3db5c17row13_col0\" class=\"data row13 col0\" >Numeric Imputer </td>\n",
       "                        <td id=\"T_f29eca7c_d5b5_11ea_8811_38f9d3db5c17row13_col1\" class=\"data row13 col1\" >mean</td>\n",
       "            </tr>\n",
       "            <tr>\n",
       "                        <th id=\"T_f29eca7c_d5b5_11ea_8811_38f9d3db5c17level0_row14\" class=\"row_heading level0 row14\" >14</th>\n",
       "                        <td id=\"T_f29eca7c_d5b5_11ea_8811_38f9d3db5c17row14_col0\" class=\"data row14 col0\" >Categorical Imputer </td>\n",
       "                        <td id=\"T_f29eca7c_d5b5_11ea_8811_38f9d3db5c17row14_col1\" class=\"data row14 col1\" >constant</td>\n",
       "            </tr>\n",
       "            <tr>\n",
       "                        <th id=\"T_f29eca7c_d5b5_11ea_8811_38f9d3db5c17level0_row15\" class=\"row_heading level0 row15\" >15</th>\n",
       "                        <td id=\"T_f29eca7c_d5b5_11ea_8811_38f9d3db5c17row15_col0\" class=\"data row15 col0\" >Normalize </td>\n",
       "                        <td id=\"T_f29eca7c_d5b5_11ea_8811_38f9d3db5c17row15_col1\" class=\"data row15 col1\" >True</td>\n",
       "            </tr>\n",
       "            <tr>\n",
       "                        <th id=\"T_f29eca7c_d5b5_11ea_8811_38f9d3db5c17level0_row16\" class=\"row_heading level0 row16\" >16</th>\n",
       "                        <td id=\"T_f29eca7c_d5b5_11ea_8811_38f9d3db5c17row16_col0\" class=\"data row16 col0\" >Normalize Method </td>\n",
       "                        <td id=\"T_f29eca7c_d5b5_11ea_8811_38f9d3db5c17row16_col1\" class=\"data row16 col1\" >zscore</td>\n",
       "            </tr>\n",
       "            <tr>\n",
       "                        <th id=\"T_f29eca7c_d5b5_11ea_8811_38f9d3db5c17level0_row17\" class=\"row_heading level0 row17\" >17</th>\n",
       "                        <td id=\"T_f29eca7c_d5b5_11ea_8811_38f9d3db5c17row17_col0\" class=\"data row17 col0\" >Transformation </td>\n",
       "                        <td id=\"T_f29eca7c_d5b5_11ea_8811_38f9d3db5c17row17_col1\" class=\"data row17 col1\" >False</td>\n",
       "            </tr>\n",
       "            <tr>\n",
       "                        <th id=\"T_f29eca7c_d5b5_11ea_8811_38f9d3db5c17level0_row18\" class=\"row_heading level0 row18\" >18</th>\n",
       "                        <td id=\"T_f29eca7c_d5b5_11ea_8811_38f9d3db5c17row18_col0\" class=\"data row18 col0\" >Transformation Method </td>\n",
       "                        <td id=\"T_f29eca7c_d5b5_11ea_8811_38f9d3db5c17row18_col1\" class=\"data row18 col1\" >None</td>\n",
       "            </tr>\n",
       "            <tr>\n",
       "                        <th id=\"T_f29eca7c_d5b5_11ea_8811_38f9d3db5c17level0_row19\" class=\"row_heading level0 row19\" >19</th>\n",
       "                        <td id=\"T_f29eca7c_d5b5_11ea_8811_38f9d3db5c17row19_col0\" class=\"data row19 col0\" >PCA </td>\n",
       "                        <td id=\"T_f29eca7c_d5b5_11ea_8811_38f9d3db5c17row19_col1\" class=\"data row19 col1\" >False</td>\n",
       "            </tr>\n",
       "            <tr>\n",
       "                        <th id=\"T_f29eca7c_d5b5_11ea_8811_38f9d3db5c17level0_row20\" class=\"row_heading level0 row20\" >20</th>\n",
       "                        <td id=\"T_f29eca7c_d5b5_11ea_8811_38f9d3db5c17row20_col0\" class=\"data row20 col0\" >PCA Method </td>\n",
       "                        <td id=\"T_f29eca7c_d5b5_11ea_8811_38f9d3db5c17row20_col1\" class=\"data row20 col1\" >None</td>\n",
       "            </tr>\n",
       "            <tr>\n",
       "                        <th id=\"T_f29eca7c_d5b5_11ea_8811_38f9d3db5c17level0_row21\" class=\"row_heading level0 row21\" >21</th>\n",
       "                        <td id=\"T_f29eca7c_d5b5_11ea_8811_38f9d3db5c17row21_col0\" class=\"data row21 col0\" >PCA Components </td>\n",
       "                        <td id=\"T_f29eca7c_d5b5_11ea_8811_38f9d3db5c17row21_col1\" class=\"data row21 col1\" >None</td>\n",
       "            </tr>\n",
       "            <tr>\n",
       "                        <th id=\"T_f29eca7c_d5b5_11ea_8811_38f9d3db5c17level0_row22\" class=\"row_heading level0 row22\" >22</th>\n",
       "                        <td id=\"T_f29eca7c_d5b5_11ea_8811_38f9d3db5c17row22_col0\" class=\"data row22 col0\" >Ignore Low Variance </td>\n",
       "                        <td id=\"T_f29eca7c_d5b5_11ea_8811_38f9d3db5c17row22_col1\" class=\"data row22 col1\" >False</td>\n",
       "            </tr>\n",
       "            <tr>\n",
       "                        <th id=\"T_f29eca7c_d5b5_11ea_8811_38f9d3db5c17level0_row23\" class=\"row_heading level0 row23\" >23</th>\n",
       "                        <td id=\"T_f29eca7c_d5b5_11ea_8811_38f9d3db5c17row23_col0\" class=\"data row23 col0\" >Combine Rare Levels </td>\n",
       "                        <td id=\"T_f29eca7c_d5b5_11ea_8811_38f9d3db5c17row23_col1\" class=\"data row23 col1\" >False</td>\n",
       "            </tr>\n",
       "            <tr>\n",
       "                        <th id=\"T_f29eca7c_d5b5_11ea_8811_38f9d3db5c17level0_row24\" class=\"row_heading level0 row24\" >24</th>\n",
       "                        <td id=\"T_f29eca7c_d5b5_11ea_8811_38f9d3db5c17row24_col0\" class=\"data row24 col0\" >Rare Level Threshold </td>\n",
       "                        <td id=\"T_f29eca7c_d5b5_11ea_8811_38f9d3db5c17row24_col1\" class=\"data row24 col1\" >None</td>\n",
       "            </tr>\n",
       "            <tr>\n",
       "                        <th id=\"T_f29eca7c_d5b5_11ea_8811_38f9d3db5c17level0_row25\" class=\"row_heading level0 row25\" >25</th>\n",
       "                        <td id=\"T_f29eca7c_d5b5_11ea_8811_38f9d3db5c17row25_col0\" class=\"data row25 col0\" >Numeric Binning </td>\n",
       "                        <td id=\"T_f29eca7c_d5b5_11ea_8811_38f9d3db5c17row25_col1\" class=\"data row25 col1\" >False</td>\n",
       "            </tr>\n",
       "            <tr>\n",
       "                        <th id=\"T_f29eca7c_d5b5_11ea_8811_38f9d3db5c17level0_row26\" class=\"row_heading level0 row26\" >26</th>\n",
       "                        <td id=\"T_f29eca7c_d5b5_11ea_8811_38f9d3db5c17row26_col0\" class=\"data row26 col0\" >Remove Outliers </td>\n",
       "                        <td id=\"T_f29eca7c_d5b5_11ea_8811_38f9d3db5c17row26_col1\" class=\"data row26 col1\" >False</td>\n",
       "            </tr>\n",
       "            <tr>\n",
       "                        <th id=\"T_f29eca7c_d5b5_11ea_8811_38f9d3db5c17level0_row27\" class=\"row_heading level0 row27\" >27</th>\n",
       "                        <td id=\"T_f29eca7c_d5b5_11ea_8811_38f9d3db5c17row27_col0\" class=\"data row27 col0\" >Outliers Threshold </td>\n",
       "                        <td id=\"T_f29eca7c_d5b5_11ea_8811_38f9d3db5c17row27_col1\" class=\"data row27 col1\" >None</td>\n",
       "            </tr>\n",
       "            <tr>\n",
       "                        <th id=\"T_f29eca7c_d5b5_11ea_8811_38f9d3db5c17level0_row28\" class=\"row_heading level0 row28\" >28</th>\n",
       "                        <td id=\"T_f29eca7c_d5b5_11ea_8811_38f9d3db5c17row28_col0\" class=\"data row28 col0\" >Remove Multicollinearity </td>\n",
       "                        <td id=\"T_f29eca7c_d5b5_11ea_8811_38f9d3db5c17row28_col1\" class=\"data row28 col1\" >False</td>\n",
       "            </tr>\n",
       "            <tr>\n",
       "                        <th id=\"T_f29eca7c_d5b5_11ea_8811_38f9d3db5c17level0_row29\" class=\"row_heading level0 row29\" >29</th>\n",
       "                        <td id=\"T_f29eca7c_d5b5_11ea_8811_38f9d3db5c17row29_col0\" class=\"data row29 col0\" >Multicollinearity Threshold </td>\n",
       "                        <td id=\"T_f29eca7c_d5b5_11ea_8811_38f9d3db5c17row29_col1\" class=\"data row29 col1\" >None</td>\n",
       "            </tr>\n",
       "            <tr>\n",
       "                        <th id=\"T_f29eca7c_d5b5_11ea_8811_38f9d3db5c17level0_row30\" class=\"row_heading level0 row30\" >30</th>\n",
       "                        <td id=\"T_f29eca7c_d5b5_11ea_8811_38f9d3db5c17row30_col0\" class=\"data row30 col0\" >Clustering </td>\n",
       "                        <td id=\"T_f29eca7c_d5b5_11ea_8811_38f9d3db5c17row30_col1\" class=\"data row30 col1\" >False</td>\n",
       "            </tr>\n",
       "            <tr>\n",
       "                        <th id=\"T_f29eca7c_d5b5_11ea_8811_38f9d3db5c17level0_row31\" class=\"row_heading level0 row31\" >31</th>\n",
       "                        <td id=\"T_f29eca7c_d5b5_11ea_8811_38f9d3db5c17row31_col0\" class=\"data row31 col0\" >Clustering Iteration </td>\n",
       "                        <td id=\"T_f29eca7c_d5b5_11ea_8811_38f9d3db5c17row31_col1\" class=\"data row31 col1\" >None</td>\n",
       "            </tr>\n",
       "            <tr>\n",
       "                        <th id=\"T_f29eca7c_d5b5_11ea_8811_38f9d3db5c17level0_row32\" class=\"row_heading level0 row32\" >32</th>\n",
       "                        <td id=\"T_f29eca7c_d5b5_11ea_8811_38f9d3db5c17row32_col0\" class=\"data row32 col0\" >Polynomial Features </td>\n",
       "                        <td id=\"T_f29eca7c_d5b5_11ea_8811_38f9d3db5c17row32_col1\" class=\"data row32 col1\" >True</td>\n",
       "            </tr>\n",
       "            <tr>\n",
       "                        <th id=\"T_f29eca7c_d5b5_11ea_8811_38f9d3db5c17level0_row33\" class=\"row_heading level0 row33\" >33</th>\n",
       "                        <td id=\"T_f29eca7c_d5b5_11ea_8811_38f9d3db5c17row33_col0\" class=\"data row33 col0\" >Polynomial Degree </td>\n",
       "                        <td id=\"T_f29eca7c_d5b5_11ea_8811_38f9d3db5c17row33_col1\" class=\"data row33 col1\" >2</td>\n",
       "            </tr>\n",
       "            <tr>\n",
       "                        <th id=\"T_f29eca7c_d5b5_11ea_8811_38f9d3db5c17level0_row34\" class=\"row_heading level0 row34\" >34</th>\n",
       "                        <td id=\"T_f29eca7c_d5b5_11ea_8811_38f9d3db5c17row34_col0\" class=\"data row34 col0\" >Trignometry Features </td>\n",
       "                        <td id=\"T_f29eca7c_d5b5_11ea_8811_38f9d3db5c17row34_col1\" class=\"data row34 col1\" >True</td>\n",
       "            </tr>\n",
       "            <tr>\n",
       "                        <th id=\"T_f29eca7c_d5b5_11ea_8811_38f9d3db5c17level0_row35\" class=\"row_heading level0 row35\" >35</th>\n",
       "                        <td id=\"T_f29eca7c_d5b5_11ea_8811_38f9d3db5c17row35_col0\" class=\"data row35 col0\" >Polynomial Threshold </td>\n",
       "                        <td id=\"T_f29eca7c_d5b5_11ea_8811_38f9d3db5c17row35_col1\" class=\"data row35 col1\" >0.100000</td>\n",
       "            </tr>\n",
       "            <tr>\n",
       "                        <th id=\"T_f29eca7c_d5b5_11ea_8811_38f9d3db5c17level0_row36\" class=\"row_heading level0 row36\" >36</th>\n",
       "                        <td id=\"T_f29eca7c_d5b5_11ea_8811_38f9d3db5c17row36_col0\" class=\"data row36 col0\" >Group Features </td>\n",
       "                        <td id=\"T_f29eca7c_d5b5_11ea_8811_38f9d3db5c17row36_col1\" class=\"data row36 col1\" >False</td>\n",
       "            </tr>\n",
       "            <tr>\n",
       "                        <th id=\"T_f29eca7c_d5b5_11ea_8811_38f9d3db5c17level0_row37\" class=\"row_heading level0 row37\" >37</th>\n",
       "                        <td id=\"T_f29eca7c_d5b5_11ea_8811_38f9d3db5c17row37_col0\" class=\"data row37 col0\" >Feature Selection </td>\n",
       "                        <td id=\"T_f29eca7c_d5b5_11ea_8811_38f9d3db5c17row37_col1\" class=\"data row37 col1\" >False</td>\n",
       "            </tr>\n",
       "            <tr>\n",
       "                        <th id=\"T_f29eca7c_d5b5_11ea_8811_38f9d3db5c17level0_row38\" class=\"row_heading level0 row38\" >38</th>\n",
       "                        <td id=\"T_f29eca7c_d5b5_11ea_8811_38f9d3db5c17row38_col0\" class=\"data row38 col0\" >Features Selection Threshold </td>\n",
       "                        <td id=\"T_f29eca7c_d5b5_11ea_8811_38f9d3db5c17row38_col1\" class=\"data row38 col1\" >None</td>\n",
       "            </tr>\n",
       "            <tr>\n",
       "                        <th id=\"T_f29eca7c_d5b5_11ea_8811_38f9d3db5c17level0_row39\" class=\"row_heading level0 row39\" >39</th>\n",
       "                        <td id=\"T_f29eca7c_d5b5_11ea_8811_38f9d3db5c17row39_col0\" class=\"data row39 col0\" >Feature Interaction </td>\n",
       "                        <td id=\"T_f29eca7c_d5b5_11ea_8811_38f9d3db5c17row39_col1\" class=\"data row39 col1\" >False</td>\n",
       "            </tr>\n",
       "            <tr>\n",
       "                        <th id=\"T_f29eca7c_d5b5_11ea_8811_38f9d3db5c17level0_row40\" class=\"row_heading level0 row40\" >40</th>\n",
       "                        <td id=\"T_f29eca7c_d5b5_11ea_8811_38f9d3db5c17row40_col0\" class=\"data row40 col0\" >Feature Ratio </td>\n",
       "                        <td id=\"T_f29eca7c_d5b5_11ea_8811_38f9d3db5c17row40_col1\" class=\"data row40 col1\" >False</td>\n",
       "            </tr>\n",
       "            <tr>\n",
       "                        <th id=\"T_f29eca7c_d5b5_11ea_8811_38f9d3db5c17level0_row41\" class=\"row_heading level0 row41\" >41</th>\n",
       "                        <td id=\"T_f29eca7c_d5b5_11ea_8811_38f9d3db5c17row41_col0\" class=\"data row41 col0\" >Interaction Threshold </td>\n",
       "                        <td id=\"T_f29eca7c_d5b5_11ea_8811_38f9d3db5c17row41_col1\" class=\"data row41 col1\" >None</td>\n",
       "            </tr>\n",
       "            <tr>\n",
       "                        <th id=\"T_f29eca7c_d5b5_11ea_8811_38f9d3db5c17level0_row42\" class=\"row_heading level0 row42\" >42</th>\n",
       "                        <td id=\"T_f29eca7c_d5b5_11ea_8811_38f9d3db5c17row42_col0\" class=\"data row42 col0\" >Fix Imbalance</td>\n",
       "                        <td id=\"T_f29eca7c_d5b5_11ea_8811_38f9d3db5c17row42_col1\" class=\"data row42 col1\" >False</td>\n",
       "            </tr>\n",
       "            <tr>\n",
       "                        <th id=\"T_f29eca7c_d5b5_11ea_8811_38f9d3db5c17level0_row43\" class=\"row_heading level0 row43\" >43</th>\n",
       "                        <td id=\"T_f29eca7c_d5b5_11ea_8811_38f9d3db5c17row43_col0\" class=\"data row43 col0\" >Fix Imbalance Method</td>\n",
       "                        <td id=\"T_f29eca7c_d5b5_11ea_8811_38f9d3db5c17row43_col1\" class=\"data row43 col1\" >SMOTE</td>\n",
       "            </tr>\n",
       "    </tbody></table>"
      ],
      "text/plain": [
       "<pandas.io.formats.style.Styler at 0x129892d00>"
      ]
     },
     "metadata": {},
     "output_type": "display_data"
    }
   ],
   "source": [
    "# process dataset\n",
    "classification_experiment_2 = classification.setup(\n",
    "    data=df_iris,\n",
    "    target='species',\n",
    "    train_size=0.7,\n",
    "    normalize=True,\n",
    "    remove_perfect_collinearity=True,\n",
    "    polynomial_features=True,\n",
    "    polynomial_degree=2,\n",
    "    trigonometry_features=True,\n",
    "    numeric_features=['sepal_length','sepal_width','petal_length','petal_width'],\n",
    ")"
   ]
  },
  {
   "cell_type": "code",
   "execution_count": 35,
   "metadata": {},
   "outputs": [
    {
     "data": {
      "text/html": [
       "<style  type=\"text/css\" >\n",
       "    #T_142e4370_d5b6_11ea_8811_38f9d3db5c17 th {\n",
       "          text-align: left;\n",
       "    }    #T_142e4370_d5b6_11ea_8811_38f9d3db5c17row0_col0 {\n",
       "            text-align:  left;\n",
       "        }    #T_142e4370_d5b6_11ea_8811_38f9d3db5c17row0_col1 {\n",
       "            background-color:  yellow;\n",
       "            text-align:  left;\n",
       "        }    #T_142e4370_d5b6_11ea_8811_38f9d3db5c17row0_col2 {\n",
       "            text-align:  left;\n",
       "        }    #T_142e4370_d5b6_11ea_8811_38f9d3db5c17row0_col3 {\n",
       "            background-color:  yellow;\n",
       "            text-align:  left;\n",
       "        }    #T_142e4370_d5b6_11ea_8811_38f9d3db5c17row0_col4 {\n",
       "            background-color:  yellow;\n",
       "            text-align:  left;\n",
       "        }    #T_142e4370_d5b6_11ea_8811_38f9d3db5c17row0_col5 {\n",
       "            background-color:  yellow;\n",
       "            text-align:  left;\n",
       "        }    #T_142e4370_d5b6_11ea_8811_38f9d3db5c17row0_col6 {\n",
       "            background-color:  yellow;\n",
       "            text-align:  left;\n",
       "        }    #T_142e4370_d5b6_11ea_8811_38f9d3db5c17row0_col7 {\n",
       "            background-color:  yellow;\n",
       "            text-align:  left;\n",
       "        }    #T_142e4370_d5b6_11ea_8811_38f9d3db5c17row0_col8 {\n",
       "            background-color:  lightgrey;\n",
       "            text-align:  left;\n",
       "        }    #T_142e4370_d5b6_11ea_8811_38f9d3db5c17row1_col0 {\n",
       "            text-align:  left;\n",
       "        }    #T_142e4370_d5b6_11ea_8811_38f9d3db5c17row1_col1 {\n",
       "            background-color:  yellow;\n",
       "            text-align:  left;\n",
       "        }    #T_142e4370_d5b6_11ea_8811_38f9d3db5c17row1_col2 {\n",
       "            text-align:  left;\n",
       "        }    #T_142e4370_d5b6_11ea_8811_38f9d3db5c17row1_col3 {\n",
       "            background-color:  yellow;\n",
       "            text-align:  left;\n",
       "        }    #T_142e4370_d5b6_11ea_8811_38f9d3db5c17row1_col4 {\n",
       "            background-color:  yellow;\n",
       "            text-align:  left;\n",
       "        }    #T_142e4370_d5b6_11ea_8811_38f9d3db5c17row1_col5 {\n",
       "            background-color:  yellow;\n",
       "            text-align:  left;\n",
       "        }    #T_142e4370_d5b6_11ea_8811_38f9d3db5c17row1_col6 {\n",
       "            background-color:  yellow;\n",
       "            text-align:  left;\n",
       "        }    #T_142e4370_d5b6_11ea_8811_38f9d3db5c17row1_col7 {\n",
       "            background-color:  yellow;\n",
       "            text-align:  left;\n",
       "        }    #T_142e4370_d5b6_11ea_8811_38f9d3db5c17row1_col8 {\n",
       "            background-color:  lightgrey;\n",
       "            text-align:  left;\n",
       "        }    #T_142e4370_d5b6_11ea_8811_38f9d3db5c17row2_col0 {\n",
       "            text-align:  left;\n",
       "        }    #T_142e4370_d5b6_11ea_8811_38f9d3db5c17row2_col1 {\n",
       "            : ;\n",
       "            text-align:  left;\n",
       "        }    #T_142e4370_d5b6_11ea_8811_38f9d3db5c17row2_col2 {\n",
       "            text-align:  left;\n",
       "        }    #T_142e4370_d5b6_11ea_8811_38f9d3db5c17row2_col3 {\n",
       "            : ;\n",
       "            text-align:  left;\n",
       "        }    #T_142e4370_d5b6_11ea_8811_38f9d3db5c17row2_col4 {\n",
       "            : ;\n",
       "            text-align:  left;\n",
       "        }    #T_142e4370_d5b6_11ea_8811_38f9d3db5c17row2_col5 {\n",
       "            : ;\n",
       "            text-align:  left;\n",
       "        }    #T_142e4370_d5b6_11ea_8811_38f9d3db5c17row2_col6 {\n",
       "            : ;\n",
       "            text-align:  left;\n",
       "        }    #T_142e4370_d5b6_11ea_8811_38f9d3db5c17row2_col7 {\n",
       "            : ;\n",
       "            text-align:  left;\n",
       "        }    #T_142e4370_d5b6_11ea_8811_38f9d3db5c17row2_col8 {\n",
       "            background-color:  lightgrey;\n",
       "            text-align:  left;\n",
       "        }    #T_142e4370_d5b6_11ea_8811_38f9d3db5c17row3_col0 {\n",
       "            text-align:  left;\n",
       "        }    #T_142e4370_d5b6_11ea_8811_38f9d3db5c17row3_col1 {\n",
       "            : ;\n",
       "            text-align:  left;\n",
       "        }    #T_142e4370_d5b6_11ea_8811_38f9d3db5c17row3_col2 {\n",
       "            text-align:  left;\n",
       "        }    #T_142e4370_d5b6_11ea_8811_38f9d3db5c17row3_col3 {\n",
       "            : ;\n",
       "            text-align:  left;\n",
       "        }    #T_142e4370_d5b6_11ea_8811_38f9d3db5c17row3_col4 {\n",
       "            : ;\n",
       "            text-align:  left;\n",
       "        }    #T_142e4370_d5b6_11ea_8811_38f9d3db5c17row3_col5 {\n",
       "            : ;\n",
       "            text-align:  left;\n",
       "        }    #T_142e4370_d5b6_11ea_8811_38f9d3db5c17row3_col6 {\n",
       "            : ;\n",
       "            text-align:  left;\n",
       "        }    #T_142e4370_d5b6_11ea_8811_38f9d3db5c17row3_col7 {\n",
       "            : ;\n",
       "            text-align:  left;\n",
       "        }    #T_142e4370_d5b6_11ea_8811_38f9d3db5c17row3_col8 {\n",
       "            background-color:  lightgrey;\n",
       "            text-align:  left;\n",
       "        }    #T_142e4370_d5b6_11ea_8811_38f9d3db5c17row4_col0 {\n",
       "            text-align:  left;\n",
       "        }    #T_142e4370_d5b6_11ea_8811_38f9d3db5c17row4_col1 {\n",
       "            : ;\n",
       "            text-align:  left;\n",
       "        }    #T_142e4370_d5b6_11ea_8811_38f9d3db5c17row4_col2 {\n",
       "            text-align:  left;\n",
       "        }    #T_142e4370_d5b6_11ea_8811_38f9d3db5c17row4_col3 {\n",
       "            : ;\n",
       "            text-align:  left;\n",
       "        }    #T_142e4370_d5b6_11ea_8811_38f9d3db5c17row4_col4 {\n",
       "            : ;\n",
       "            text-align:  left;\n",
       "        }    #T_142e4370_d5b6_11ea_8811_38f9d3db5c17row4_col5 {\n",
       "            : ;\n",
       "            text-align:  left;\n",
       "        }    #T_142e4370_d5b6_11ea_8811_38f9d3db5c17row4_col6 {\n",
       "            : ;\n",
       "            text-align:  left;\n",
       "        }    #T_142e4370_d5b6_11ea_8811_38f9d3db5c17row4_col7 {\n",
       "            : ;\n",
       "            text-align:  left;\n",
       "        }    #T_142e4370_d5b6_11ea_8811_38f9d3db5c17row4_col8 {\n",
       "            background-color:  lightgrey;\n",
       "            text-align:  left;\n",
       "        }    #T_142e4370_d5b6_11ea_8811_38f9d3db5c17row5_col0 {\n",
       "            text-align:  left;\n",
       "        }    #T_142e4370_d5b6_11ea_8811_38f9d3db5c17row5_col1 {\n",
       "            : ;\n",
       "            text-align:  left;\n",
       "        }    #T_142e4370_d5b6_11ea_8811_38f9d3db5c17row5_col2 {\n",
       "            text-align:  left;\n",
       "        }    #T_142e4370_d5b6_11ea_8811_38f9d3db5c17row5_col3 {\n",
       "            : ;\n",
       "            text-align:  left;\n",
       "        }    #T_142e4370_d5b6_11ea_8811_38f9d3db5c17row5_col4 {\n",
       "            : ;\n",
       "            text-align:  left;\n",
       "        }    #T_142e4370_d5b6_11ea_8811_38f9d3db5c17row5_col5 {\n",
       "            : ;\n",
       "            text-align:  left;\n",
       "        }    #T_142e4370_d5b6_11ea_8811_38f9d3db5c17row5_col6 {\n",
       "            : ;\n",
       "            text-align:  left;\n",
       "        }    #T_142e4370_d5b6_11ea_8811_38f9d3db5c17row5_col7 {\n",
       "            : ;\n",
       "            text-align:  left;\n",
       "        }    #T_142e4370_d5b6_11ea_8811_38f9d3db5c17row5_col8 {\n",
       "            background-color:  lightgrey;\n",
       "            text-align:  left;\n",
       "        }    #T_142e4370_d5b6_11ea_8811_38f9d3db5c17row6_col0 {\n",
       "            text-align:  left;\n",
       "        }    #T_142e4370_d5b6_11ea_8811_38f9d3db5c17row6_col1 {\n",
       "            : ;\n",
       "            text-align:  left;\n",
       "        }    #T_142e4370_d5b6_11ea_8811_38f9d3db5c17row6_col2 {\n",
       "            text-align:  left;\n",
       "        }    #T_142e4370_d5b6_11ea_8811_38f9d3db5c17row6_col3 {\n",
       "            : ;\n",
       "            text-align:  left;\n",
       "        }    #T_142e4370_d5b6_11ea_8811_38f9d3db5c17row6_col4 {\n",
       "            : ;\n",
       "            text-align:  left;\n",
       "        }    #T_142e4370_d5b6_11ea_8811_38f9d3db5c17row6_col5 {\n",
       "            : ;\n",
       "            text-align:  left;\n",
       "        }    #T_142e4370_d5b6_11ea_8811_38f9d3db5c17row6_col6 {\n",
       "            : ;\n",
       "            text-align:  left;\n",
       "        }    #T_142e4370_d5b6_11ea_8811_38f9d3db5c17row6_col7 {\n",
       "            : ;\n",
       "            text-align:  left;\n",
       "        }    #T_142e4370_d5b6_11ea_8811_38f9d3db5c17row6_col8 {\n",
       "            background-color:  lightgrey;\n",
       "            text-align:  left;\n",
       "        }    #T_142e4370_d5b6_11ea_8811_38f9d3db5c17row7_col0 {\n",
       "            text-align:  left;\n",
       "        }    #T_142e4370_d5b6_11ea_8811_38f9d3db5c17row7_col1 {\n",
       "            : ;\n",
       "            text-align:  left;\n",
       "        }    #T_142e4370_d5b6_11ea_8811_38f9d3db5c17row7_col2 {\n",
       "            text-align:  left;\n",
       "        }    #T_142e4370_d5b6_11ea_8811_38f9d3db5c17row7_col3 {\n",
       "            : ;\n",
       "            text-align:  left;\n",
       "        }    #T_142e4370_d5b6_11ea_8811_38f9d3db5c17row7_col4 {\n",
       "            : ;\n",
       "            text-align:  left;\n",
       "        }    #T_142e4370_d5b6_11ea_8811_38f9d3db5c17row7_col5 {\n",
       "            : ;\n",
       "            text-align:  left;\n",
       "        }    #T_142e4370_d5b6_11ea_8811_38f9d3db5c17row7_col6 {\n",
       "            : ;\n",
       "            text-align:  left;\n",
       "        }    #T_142e4370_d5b6_11ea_8811_38f9d3db5c17row7_col7 {\n",
       "            : ;\n",
       "            text-align:  left;\n",
       "        }    #T_142e4370_d5b6_11ea_8811_38f9d3db5c17row7_col8 {\n",
       "            background-color:  lightgrey;\n",
       "            text-align:  left;\n",
       "        }    #T_142e4370_d5b6_11ea_8811_38f9d3db5c17row8_col0 {\n",
       "            text-align:  left;\n",
       "        }    #T_142e4370_d5b6_11ea_8811_38f9d3db5c17row8_col1 {\n",
       "            : ;\n",
       "            text-align:  left;\n",
       "        }    #T_142e4370_d5b6_11ea_8811_38f9d3db5c17row8_col2 {\n",
       "            text-align:  left;\n",
       "        }    #T_142e4370_d5b6_11ea_8811_38f9d3db5c17row8_col3 {\n",
       "            : ;\n",
       "            text-align:  left;\n",
       "        }    #T_142e4370_d5b6_11ea_8811_38f9d3db5c17row8_col4 {\n",
       "            : ;\n",
       "            text-align:  left;\n",
       "        }    #T_142e4370_d5b6_11ea_8811_38f9d3db5c17row8_col5 {\n",
       "            : ;\n",
       "            text-align:  left;\n",
       "        }    #T_142e4370_d5b6_11ea_8811_38f9d3db5c17row8_col6 {\n",
       "            : ;\n",
       "            text-align:  left;\n",
       "        }    #T_142e4370_d5b6_11ea_8811_38f9d3db5c17row8_col7 {\n",
       "            : ;\n",
       "            text-align:  left;\n",
       "        }    #T_142e4370_d5b6_11ea_8811_38f9d3db5c17row8_col8 {\n",
       "            background-color:  lightgrey;\n",
       "            text-align:  left;\n",
       "        }    #T_142e4370_d5b6_11ea_8811_38f9d3db5c17row9_col0 {\n",
       "            text-align:  left;\n",
       "        }    #T_142e4370_d5b6_11ea_8811_38f9d3db5c17row9_col1 {\n",
       "            : ;\n",
       "            text-align:  left;\n",
       "        }    #T_142e4370_d5b6_11ea_8811_38f9d3db5c17row9_col2 {\n",
       "            text-align:  left;\n",
       "        }    #T_142e4370_d5b6_11ea_8811_38f9d3db5c17row9_col3 {\n",
       "            : ;\n",
       "            text-align:  left;\n",
       "        }    #T_142e4370_d5b6_11ea_8811_38f9d3db5c17row9_col4 {\n",
       "            : ;\n",
       "            text-align:  left;\n",
       "        }    #T_142e4370_d5b6_11ea_8811_38f9d3db5c17row9_col5 {\n",
       "            : ;\n",
       "            text-align:  left;\n",
       "        }    #T_142e4370_d5b6_11ea_8811_38f9d3db5c17row9_col6 {\n",
       "            : ;\n",
       "            text-align:  left;\n",
       "        }    #T_142e4370_d5b6_11ea_8811_38f9d3db5c17row9_col7 {\n",
       "            : ;\n",
       "            text-align:  left;\n",
       "        }    #T_142e4370_d5b6_11ea_8811_38f9d3db5c17row9_col8 {\n",
       "            background-color:  lightgrey;\n",
       "            text-align:  left;\n",
       "        }    #T_142e4370_d5b6_11ea_8811_38f9d3db5c17row10_col0 {\n",
       "            text-align:  left;\n",
       "        }    #T_142e4370_d5b6_11ea_8811_38f9d3db5c17row10_col1 {\n",
       "            : ;\n",
       "            text-align:  left;\n",
       "        }    #T_142e4370_d5b6_11ea_8811_38f9d3db5c17row10_col2 {\n",
       "            text-align:  left;\n",
       "        }    #T_142e4370_d5b6_11ea_8811_38f9d3db5c17row10_col3 {\n",
       "            : ;\n",
       "            text-align:  left;\n",
       "        }    #T_142e4370_d5b6_11ea_8811_38f9d3db5c17row10_col4 {\n",
       "            : ;\n",
       "            text-align:  left;\n",
       "        }    #T_142e4370_d5b6_11ea_8811_38f9d3db5c17row10_col5 {\n",
       "            : ;\n",
       "            text-align:  left;\n",
       "        }    #T_142e4370_d5b6_11ea_8811_38f9d3db5c17row10_col6 {\n",
       "            : ;\n",
       "            text-align:  left;\n",
       "        }    #T_142e4370_d5b6_11ea_8811_38f9d3db5c17row10_col7 {\n",
       "            : ;\n",
       "            text-align:  left;\n",
       "        }    #T_142e4370_d5b6_11ea_8811_38f9d3db5c17row10_col8 {\n",
       "            background-color:  lightgrey;\n",
       "            text-align:  left;\n",
       "        }    #T_142e4370_d5b6_11ea_8811_38f9d3db5c17row11_col0 {\n",
       "            text-align:  left;\n",
       "        }    #T_142e4370_d5b6_11ea_8811_38f9d3db5c17row11_col1 {\n",
       "            : ;\n",
       "            text-align:  left;\n",
       "        }    #T_142e4370_d5b6_11ea_8811_38f9d3db5c17row11_col2 {\n",
       "            text-align:  left;\n",
       "        }    #T_142e4370_d5b6_11ea_8811_38f9d3db5c17row11_col3 {\n",
       "            : ;\n",
       "            text-align:  left;\n",
       "        }    #T_142e4370_d5b6_11ea_8811_38f9d3db5c17row11_col4 {\n",
       "            : ;\n",
       "            text-align:  left;\n",
       "        }    #T_142e4370_d5b6_11ea_8811_38f9d3db5c17row11_col5 {\n",
       "            : ;\n",
       "            text-align:  left;\n",
       "        }    #T_142e4370_d5b6_11ea_8811_38f9d3db5c17row11_col6 {\n",
       "            : ;\n",
       "            text-align:  left;\n",
       "        }    #T_142e4370_d5b6_11ea_8811_38f9d3db5c17row11_col7 {\n",
       "            : ;\n",
       "            text-align:  left;\n",
       "        }    #T_142e4370_d5b6_11ea_8811_38f9d3db5c17row11_col8 {\n",
       "            background-color:  lightgrey;\n",
       "            text-align:  left;\n",
       "        }    #T_142e4370_d5b6_11ea_8811_38f9d3db5c17row12_col0 {\n",
       "            text-align:  left;\n",
       "        }    #T_142e4370_d5b6_11ea_8811_38f9d3db5c17row12_col1 {\n",
       "            : ;\n",
       "            text-align:  left;\n",
       "        }    #T_142e4370_d5b6_11ea_8811_38f9d3db5c17row12_col2 {\n",
       "            text-align:  left;\n",
       "        }    #T_142e4370_d5b6_11ea_8811_38f9d3db5c17row12_col3 {\n",
       "            : ;\n",
       "            text-align:  left;\n",
       "        }    #T_142e4370_d5b6_11ea_8811_38f9d3db5c17row12_col4 {\n",
       "            : ;\n",
       "            text-align:  left;\n",
       "        }    #T_142e4370_d5b6_11ea_8811_38f9d3db5c17row12_col5 {\n",
       "            : ;\n",
       "            text-align:  left;\n",
       "        }    #T_142e4370_d5b6_11ea_8811_38f9d3db5c17row12_col6 {\n",
       "            : ;\n",
       "            text-align:  left;\n",
       "        }    #T_142e4370_d5b6_11ea_8811_38f9d3db5c17row12_col7 {\n",
       "            : ;\n",
       "            text-align:  left;\n",
       "        }    #T_142e4370_d5b6_11ea_8811_38f9d3db5c17row12_col8 {\n",
       "            background-color:  lightgrey;\n",
       "            text-align:  left;\n",
       "        }    #T_142e4370_d5b6_11ea_8811_38f9d3db5c17row13_col0 {\n",
       "            text-align:  left;\n",
       "        }    #T_142e4370_d5b6_11ea_8811_38f9d3db5c17row13_col1 {\n",
       "            : ;\n",
       "            text-align:  left;\n",
       "        }    #T_142e4370_d5b6_11ea_8811_38f9d3db5c17row13_col2 {\n",
       "            text-align:  left;\n",
       "        }    #T_142e4370_d5b6_11ea_8811_38f9d3db5c17row13_col3 {\n",
       "            : ;\n",
       "            text-align:  left;\n",
       "        }    #T_142e4370_d5b6_11ea_8811_38f9d3db5c17row13_col4 {\n",
       "            : ;\n",
       "            text-align:  left;\n",
       "        }    #T_142e4370_d5b6_11ea_8811_38f9d3db5c17row13_col5 {\n",
       "            : ;\n",
       "            text-align:  left;\n",
       "        }    #T_142e4370_d5b6_11ea_8811_38f9d3db5c17row13_col6 {\n",
       "            : ;\n",
       "            text-align:  left;\n",
       "        }    #T_142e4370_d5b6_11ea_8811_38f9d3db5c17row13_col7 {\n",
       "            : ;\n",
       "            text-align:  left;\n",
       "        }    #T_142e4370_d5b6_11ea_8811_38f9d3db5c17row13_col8 {\n",
       "            background-color:  lightgrey;\n",
       "            text-align:  left;\n",
       "        }    #T_142e4370_d5b6_11ea_8811_38f9d3db5c17row14_col0 {\n",
       "            text-align:  left;\n",
       "        }    #T_142e4370_d5b6_11ea_8811_38f9d3db5c17row14_col1 {\n",
       "            : ;\n",
       "            text-align:  left;\n",
       "        }    #T_142e4370_d5b6_11ea_8811_38f9d3db5c17row14_col2 {\n",
       "            text-align:  left;\n",
       "        }    #T_142e4370_d5b6_11ea_8811_38f9d3db5c17row14_col3 {\n",
       "            : ;\n",
       "            text-align:  left;\n",
       "        }    #T_142e4370_d5b6_11ea_8811_38f9d3db5c17row14_col4 {\n",
       "            : ;\n",
       "            text-align:  left;\n",
       "        }    #T_142e4370_d5b6_11ea_8811_38f9d3db5c17row14_col5 {\n",
       "            : ;\n",
       "            text-align:  left;\n",
       "        }    #T_142e4370_d5b6_11ea_8811_38f9d3db5c17row14_col6 {\n",
       "            : ;\n",
       "            text-align:  left;\n",
       "        }    #T_142e4370_d5b6_11ea_8811_38f9d3db5c17row14_col7 {\n",
       "            : ;\n",
       "            text-align:  left;\n",
       "        }    #T_142e4370_d5b6_11ea_8811_38f9d3db5c17row14_col8 {\n",
       "            background-color:  lightgrey;\n",
       "            text-align:  left;\n",
       "        }    #T_142e4370_d5b6_11ea_8811_38f9d3db5c17row15_col0 {\n",
       "            text-align:  left;\n",
       "        }    #T_142e4370_d5b6_11ea_8811_38f9d3db5c17row15_col1 {\n",
       "            : ;\n",
       "            text-align:  left;\n",
       "        }    #T_142e4370_d5b6_11ea_8811_38f9d3db5c17row15_col2 {\n",
       "            text-align:  left;\n",
       "        }    #T_142e4370_d5b6_11ea_8811_38f9d3db5c17row15_col3 {\n",
       "            : ;\n",
       "            text-align:  left;\n",
       "        }    #T_142e4370_d5b6_11ea_8811_38f9d3db5c17row15_col4 {\n",
       "            : ;\n",
       "            text-align:  left;\n",
       "        }    #T_142e4370_d5b6_11ea_8811_38f9d3db5c17row15_col5 {\n",
       "            : ;\n",
       "            text-align:  left;\n",
       "        }    #T_142e4370_d5b6_11ea_8811_38f9d3db5c17row15_col6 {\n",
       "            : ;\n",
       "            text-align:  left;\n",
       "        }    #T_142e4370_d5b6_11ea_8811_38f9d3db5c17row15_col7 {\n",
       "            : ;\n",
       "            text-align:  left;\n",
       "        }    #T_142e4370_d5b6_11ea_8811_38f9d3db5c17row15_col8 {\n",
       "            background-color:  lightgrey;\n",
       "            text-align:  left;\n",
       "        }    #T_142e4370_d5b6_11ea_8811_38f9d3db5c17row16_col0 {\n",
       "            text-align:  left;\n",
       "        }    #T_142e4370_d5b6_11ea_8811_38f9d3db5c17row16_col1 {\n",
       "            : ;\n",
       "            text-align:  left;\n",
       "        }    #T_142e4370_d5b6_11ea_8811_38f9d3db5c17row16_col2 {\n",
       "            text-align:  left;\n",
       "        }    #T_142e4370_d5b6_11ea_8811_38f9d3db5c17row16_col3 {\n",
       "            : ;\n",
       "            text-align:  left;\n",
       "        }    #T_142e4370_d5b6_11ea_8811_38f9d3db5c17row16_col4 {\n",
       "            : ;\n",
       "            text-align:  left;\n",
       "        }    #T_142e4370_d5b6_11ea_8811_38f9d3db5c17row16_col5 {\n",
       "            : ;\n",
       "            text-align:  left;\n",
       "        }    #T_142e4370_d5b6_11ea_8811_38f9d3db5c17row16_col6 {\n",
       "            : ;\n",
       "            text-align:  left;\n",
       "        }    #T_142e4370_d5b6_11ea_8811_38f9d3db5c17row16_col7 {\n",
       "            : ;\n",
       "            text-align:  left;\n",
       "        }    #T_142e4370_d5b6_11ea_8811_38f9d3db5c17row16_col8 {\n",
       "            background-color:  lightgrey;\n",
       "            text-align:  left;\n",
       "        }    #T_142e4370_d5b6_11ea_8811_38f9d3db5c17row17_col0 {\n",
       "            text-align:  left;\n",
       "        }    #T_142e4370_d5b6_11ea_8811_38f9d3db5c17row17_col1 {\n",
       "            : ;\n",
       "            text-align:  left;\n",
       "        }    #T_142e4370_d5b6_11ea_8811_38f9d3db5c17row17_col2 {\n",
       "            text-align:  left;\n",
       "        }    #T_142e4370_d5b6_11ea_8811_38f9d3db5c17row17_col3 {\n",
       "            : ;\n",
       "            text-align:  left;\n",
       "        }    #T_142e4370_d5b6_11ea_8811_38f9d3db5c17row17_col4 {\n",
       "            : ;\n",
       "            text-align:  left;\n",
       "        }    #T_142e4370_d5b6_11ea_8811_38f9d3db5c17row17_col5 {\n",
       "            : ;\n",
       "            text-align:  left;\n",
       "        }    #T_142e4370_d5b6_11ea_8811_38f9d3db5c17row17_col6 {\n",
       "            : ;\n",
       "            text-align:  left;\n",
       "        }    #T_142e4370_d5b6_11ea_8811_38f9d3db5c17row17_col7 {\n",
       "            : ;\n",
       "            text-align:  left;\n",
       "        }    #T_142e4370_d5b6_11ea_8811_38f9d3db5c17row17_col8 {\n",
       "            background-color:  lightgrey;\n",
       "            text-align:  left;\n",
       "        }</style><table id=\"T_142e4370_d5b6_11ea_8811_38f9d3db5c17\" ><thead>    <tr>        <th class=\"blank level0\" ></th>        <th class=\"col_heading level0 col0\" >Model</th>        <th class=\"col_heading level0 col1\" >Accuracy</th>        <th class=\"col_heading level0 col2\" >AUC</th>        <th class=\"col_heading level0 col3\" >Recall</th>        <th class=\"col_heading level0 col4\" >Prec.</th>        <th class=\"col_heading level0 col5\" >F1</th>        <th class=\"col_heading level0 col6\" >Kappa</th>        <th class=\"col_heading level0 col7\" >MCC</th>        <th class=\"col_heading level0 col8\" >TT (Sec)</th>    </tr></thead><tbody>\n",
       "                <tr>\n",
       "                        <th id=\"T_142e4370_d5b6_11ea_8811_38f9d3db5c17level0_row0\" class=\"row_heading level0 row0\" >0</th>\n",
       "                        <td id=\"T_142e4370_d5b6_11ea_8811_38f9d3db5c17row0_col0\" class=\"data row0 col0\" >Ada Boost Classifier</td>\n",
       "                        <td id=\"T_142e4370_d5b6_11ea_8811_38f9d3db5c17row0_col1\" class=\"data row0 col1\" >0.9909</td>\n",
       "                        <td id=\"T_142e4370_d5b6_11ea_8811_38f9d3db5c17row0_col2\" class=\"data row0 col2\" >0.0000</td>\n",
       "                        <td id=\"T_142e4370_d5b6_11ea_8811_38f9d3db5c17row0_col3\" class=\"data row0 col3\" >0.9917</td>\n",
       "                        <td id=\"T_142e4370_d5b6_11ea_8811_38f9d3db5c17row0_col4\" class=\"data row0 col4\" >0.9927</td>\n",
       "                        <td id=\"T_142e4370_d5b6_11ea_8811_38f9d3db5c17row0_col5\" class=\"data row0 col5\" >0.9908</td>\n",
       "                        <td id=\"T_142e4370_d5b6_11ea_8811_38f9d3db5c17row0_col6\" class=\"data row0 col6\" >0.9862</td>\n",
       "                        <td id=\"T_142e4370_d5b6_11ea_8811_38f9d3db5c17row0_col7\" class=\"data row0 col7\" >0.9873</td>\n",
       "                        <td id=\"T_142e4370_d5b6_11ea_8811_38f9d3db5c17row0_col8\" class=\"data row0 col8\" >0.1253</td>\n",
       "            </tr>\n",
       "            <tr>\n",
       "                        <th id=\"T_142e4370_d5b6_11ea_8811_38f9d3db5c17level0_row1\" class=\"row_heading level0 row1\" >1</th>\n",
       "                        <td id=\"T_142e4370_d5b6_11ea_8811_38f9d3db5c17row1_col0\" class=\"data row1 col0\" >Light Gradient Boosting Machine</td>\n",
       "                        <td id=\"T_142e4370_d5b6_11ea_8811_38f9d3db5c17row1_col1\" class=\"data row1 col1\" >0.9909</td>\n",
       "                        <td id=\"T_142e4370_d5b6_11ea_8811_38f9d3db5c17row1_col2\" class=\"data row1 col2\" >0.0000</td>\n",
       "                        <td id=\"T_142e4370_d5b6_11ea_8811_38f9d3db5c17row1_col3\" class=\"data row1 col3\" >0.9917</td>\n",
       "                        <td id=\"T_142e4370_d5b6_11ea_8811_38f9d3db5c17row1_col4\" class=\"data row1 col4\" >0.9927</td>\n",
       "                        <td id=\"T_142e4370_d5b6_11ea_8811_38f9d3db5c17row1_col5\" class=\"data row1 col5\" >0.9908</td>\n",
       "                        <td id=\"T_142e4370_d5b6_11ea_8811_38f9d3db5c17row1_col6\" class=\"data row1 col6\" >0.9862</td>\n",
       "                        <td id=\"T_142e4370_d5b6_11ea_8811_38f9d3db5c17row1_col7\" class=\"data row1 col7\" >0.9873</td>\n",
       "                        <td id=\"T_142e4370_d5b6_11ea_8811_38f9d3db5c17row1_col8\" class=\"data row1 col8\" >0.0408</td>\n",
       "            </tr>\n",
       "            <tr>\n",
       "                        <th id=\"T_142e4370_d5b6_11ea_8811_38f9d3db5c17level0_row2\" class=\"row_heading level0 row2\" >2</th>\n",
       "                        <td id=\"T_142e4370_d5b6_11ea_8811_38f9d3db5c17row2_col0\" class=\"data row2 col0\" >Decision Tree Classifier</td>\n",
       "                        <td id=\"T_142e4370_d5b6_11ea_8811_38f9d3db5c17row2_col1\" class=\"data row2 col1\" >0.9809</td>\n",
       "                        <td id=\"T_142e4370_d5b6_11ea_8811_38f9d3db5c17row2_col2\" class=\"data row2 col2\" >0.0000</td>\n",
       "                        <td id=\"T_142e4370_d5b6_11ea_8811_38f9d3db5c17row2_col3\" class=\"data row2 col3\" >0.9833</td>\n",
       "                        <td id=\"T_142e4370_d5b6_11ea_8811_38f9d3db5c17row2_col4\" class=\"data row2 col4\" >0.9852</td>\n",
       "                        <td id=\"T_142e4370_d5b6_11ea_8811_38f9d3db5c17row2_col5\" class=\"data row2 col5\" >0.9808</td>\n",
       "                        <td id=\"T_142e4370_d5b6_11ea_8811_38f9d3db5c17row2_col6\" class=\"data row2 col6\" >0.9713</td>\n",
       "                        <td id=\"T_142e4370_d5b6_11ea_8811_38f9d3db5c17row2_col7\" class=\"data row2 col7\" >0.9737</td>\n",
       "                        <td id=\"T_142e4370_d5b6_11ea_8811_38f9d3db5c17row2_col8\" class=\"data row2 col8\" >0.0119</td>\n",
       "            </tr>\n",
       "            <tr>\n",
       "                        <th id=\"T_142e4370_d5b6_11ea_8811_38f9d3db5c17level0_row3\" class=\"row_heading level0 row3\" >3</th>\n",
       "                        <td id=\"T_142e4370_d5b6_11ea_8811_38f9d3db5c17row3_col0\" class=\"data row3 col0\" >CatBoost Classifier</td>\n",
       "                        <td id=\"T_142e4370_d5b6_11ea_8811_38f9d3db5c17row3_col1\" class=\"data row3 col1\" >0.9809</td>\n",
       "                        <td id=\"T_142e4370_d5b6_11ea_8811_38f9d3db5c17row3_col2\" class=\"data row3 col2\" >0.0000</td>\n",
       "                        <td id=\"T_142e4370_d5b6_11ea_8811_38f9d3db5c17row3_col3\" class=\"data row3 col3\" >0.9833</td>\n",
       "                        <td id=\"T_142e4370_d5b6_11ea_8811_38f9d3db5c17row3_col4\" class=\"data row3 col4\" >0.9852</td>\n",
       "                        <td id=\"T_142e4370_d5b6_11ea_8811_38f9d3db5c17row3_col5\" class=\"data row3 col5\" >0.9808</td>\n",
       "                        <td id=\"T_142e4370_d5b6_11ea_8811_38f9d3db5c17row3_col6\" class=\"data row3 col6\" >0.9713</td>\n",
       "                        <td id=\"T_142e4370_d5b6_11ea_8811_38f9d3db5c17row3_col7\" class=\"data row3 col7\" >0.9737</td>\n",
       "                        <td id=\"T_142e4370_d5b6_11ea_8811_38f9d3db5c17row3_col8\" class=\"data row3 col8\" >2.4749</td>\n",
       "            </tr>\n",
       "            <tr>\n",
       "                        <th id=\"T_142e4370_d5b6_11ea_8811_38f9d3db5c17level0_row4\" class=\"row_heading level0 row4\" >4</th>\n",
       "                        <td id=\"T_142e4370_d5b6_11ea_8811_38f9d3db5c17row4_col0\" class=\"data row4 col0\" >MLP Classifier</td>\n",
       "                        <td id=\"T_142e4370_d5b6_11ea_8811_38f9d3db5c17row4_col1\" class=\"data row4 col1\" >0.9809</td>\n",
       "                        <td id=\"T_142e4370_d5b6_11ea_8811_38f9d3db5c17row4_col2\" class=\"data row4 col2\" >0.0000</td>\n",
       "                        <td id=\"T_142e4370_d5b6_11ea_8811_38f9d3db5c17row4_col3\" class=\"data row4 col3\" >0.9833</td>\n",
       "                        <td id=\"T_142e4370_d5b6_11ea_8811_38f9d3db5c17row4_col4\" class=\"data row4 col4\" >0.9852</td>\n",
       "                        <td id=\"T_142e4370_d5b6_11ea_8811_38f9d3db5c17row4_col5\" class=\"data row4 col5\" >0.9808</td>\n",
       "                        <td id=\"T_142e4370_d5b6_11ea_8811_38f9d3db5c17row4_col6\" class=\"data row4 col6\" >0.9713</td>\n",
       "                        <td id=\"T_142e4370_d5b6_11ea_8811_38f9d3db5c17row4_col7\" class=\"data row4 col7\" >0.9737</td>\n",
       "                        <td id=\"T_142e4370_d5b6_11ea_8811_38f9d3db5c17row4_col8\" class=\"data row4 col8\" >0.8278</td>\n",
       "            </tr>\n",
       "            <tr>\n",
       "                        <th id=\"T_142e4370_d5b6_11ea_8811_38f9d3db5c17level0_row5\" class=\"row_heading level0 row5\" >5</th>\n",
       "                        <td id=\"T_142e4370_d5b6_11ea_8811_38f9d3db5c17row5_col0\" class=\"data row5 col0\" >SVM - Linear Kernel</td>\n",
       "                        <td id=\"T_142e4370_d5b6_11ea_8811_38f9d3db5c17row5_col1\" class=\"data row5 col1\" >0.9809</td>\n",
       "                        <td id=\"T_142e4370_d5b6_11ea_8811_38f9d3db5c17row5_col2\" class=\"data row5 col2\" >0.0000</td>\n",
       "                        <td id=\"T_142e4370_d5b6_11ea_8811_38f9d3db5c17row5_col3\" class=\"data row5 col3\" >0.9833</td>\n",
       "                        <td id=\"T_142e4370_d5b6_11ea_8811_38f9d3db5c17row5_col4\" class=\"data row5 col4\" >0.9852</td>\n",
       "                        <td id=\"T_142e4370_d5b6_11ea_8811_38f9d3db5c17row5_col5\" class=\"data row5 col5\" >0.9808</td>\n",
       "                        <td id=\"T_142e4370_d5b6_11ea_8811_38f9d3db5c17row5_col6\" class=\"data row5 col6\" >0.9713</td>\n",
       "                        <td id=\"T_142e4370_d5b6_11ea_8811_38f9d3db5c17row5_col7\" class=\"data row5 col7\" >0.9737</td>\n",
       "                        <td id=\"T_142e4370_d5b6_11ea_8811_38f9d3db5c17row5_col8\" class=\"data row5 col8\" >0.0113</td>\n",
       "            </tr>\n",
       "            <tr>\n",
       "                        <th id=\"T_142e4370_d5b6_11ea_8811_38f9d3db5c17level0_row6\" class=\"row_heading level0 row6\" >6</th>\n",
       "                        <td id=\"T_142e4370_d5b6_11ea_8811_38f9d3db5c17row6_col0\" class=\"data row6 col0\" >Logistic Regression</td>\n",
       "                        <td id=\"T_142e4370_d5b6_11ea_8811_38f9d3db5c17row6_col1\" class=\"data row6 col1\" >0.9718</td>\n",
       "                        <td id=\"T_142e4370_d5b6_11ea_8811_38f9d3db5c17row6_col2\" class=\"data row6 col2\" >0.0000</td>\n",
       "                        <td id=\"T_142e4370_d5b6_11ea_8811_38f9d3db5c17row6_col3\" class=\"data row6 col3\" >0.9750</td>\n",
       "                        <td id=\"T_142e4370_d5b6_11ea_8811_38f9d3db5c17row6_col4\" class=\"data row6 col4\" >0.9743</td>\n",
       "                        <td id=\"T_142e4370_d5b6_11ea_8811_38f9d3db5c17row6_col5\" class=\"data row6 col5\" >0.9718</td>\n",
       "                        <td id=\"T_142e4370_d5b6_11ea_8811_38f9d3db5c17row6_col6\" class=\"data row6 col6\" >0.9576</td>\n",
       "                        <td id=\"T_142e4370_d5b6_11ea_8811_38f9d3db5c17row6_col7\" class=\"data row6 col7\" >0.9589</td>\n",
       "                        <td id=\"T_142e4370_d5b6_11ea_8811_38f9d3db5c17row6_col8\" class=\"data row6 col8\" >0.0233</td>\n",
       "            </tr>\n",
       "            <tr>\n",
       "                        <th id=\"T_142e4370_d5b6_11ea_8811_38f9d3db5c17level0_row7\" class=\"row_heading level0 row7\" >7</th>\n",
       "                        <td id=\"T_142e4370_d5b6_11ea_8811_38f9d3db5c17row7_col0\" class=\"data row7 col0\" >K Neighbors Classifier</td>\n",
       "                        <td id=\"T_142e4370_d5b6_11ea_8811_38f9d3db5c17row7_col1\" class=\"data row7 col1\" >0.9718</td>\n",
       "                        <td id=\"T_142e4370_d5b6_11ea_8811_38f9d3db5c17row7_col2\" class=\"data row7 col2\" >0.0000</td>\n",
       "                        <td id=\"T_142e4370_d5b6_11ea_8811_38f9d3db5c17row7_col3\" class=\"data row7 col3\" >0.9750</td>\n",
       "                        <td id=\"T_142e4370_d5b6_11ea_8811_38f9d3db5c17row7_col4\" class=\"data row7 col4\" >0.9743</td>\n",
       "                        <td id=\"T_142e4370_d5b6_11ea_8811_38f9d3db5c17row7_col5\" class=\"data row7 col5\" >0.9718</td>\n",
       "                        <td id=\"T_142e4370_d5b6_11ea_8811_38f9d3db5c17row7_col6\" class=\"data row7 col6\" >0.9576</td>\n",
       "                        <td id=\"T_142e4370_d5b6_11ea_8811_38f9d3db5c17row7_col7\" class=\"data row7 col7\" >0.9589</td>\n",
       "                        <td id=\"T_142e4370_d5b6_11ea_8811_38f9d3db5c17row7_col8\" class=\"data row7 col8\" >0.0099</td>\n",
       "            </tr>\n",
       "            <tr>\n",
       "                        <th id=\"T_142e4370_d5b6_11ea_8811_38f9d3db5c17level0_row8\" class=\"row_heading level0 row8\" >8</th>\n",
       "                        <td id=\"T_142e4370_d5b6_11ea_8811_38f9d3db5c17row8_col0\" class=\"data row8 col0\" >Naive Bayes</td>\n",
       "                        <td id=\"T_142e4370_d5b6_11ea_8811_38f9d3db5c17row8_col1\" class=\"data row8 col1\" >0.9718</td>\n",
       "                        <td id=\"T_142e4370_d5b6_11ea_8811_38f9d3db5c17row8_col2\" class=\"data row8 col2\" >0.0000</td>\n",
       "                        <td id=\"T_142e4370_d5b6_11ea_8811_38f9d3db5c17row8_col3\" class=\"data row8 col3\" >0.9750</td>\n",
       "                        <td id=\"T_142e4370_d5b6_11ea_8811_38f9d3db5c17row8_col4\" class=\"data row8 col4\" >0.9780</td>\n",
       "                        <td id=\"T_142e4370_d5b6_11ea_8811_38f9d3db5c17row8_col5\" class=\"data row8 col5\" >0.9715</td>\n",
       "                        <td id=\"T_142e4370_d5b6_11ea_8811_38f9d3db5c17row8_col6\" class=\"data row8 col6\" >0.9576</td>\n",
       "                        <td id=\"T_142e4370_d5b6_11ea_8811_38f9d3db5c17row8_col7\" class=\"data row8 col7\" >0.9611</td>\n",
       "                        <td id=\"T_142e4370_d5b6_11ea_8811_38f9d3db5c17row8_col8\" class=\"data row8 col8\" >0.0113</td>\n",
       "            </tr>\n",
       "            <tr>\n",
       "                        <th id=\"T_142e4370_d5b6_11ea_8811_38f9d3db5c17level0_row9\" class=\"row_heading level0 row9\" >9</th>\n",
       "                        <td id=\"T_142e4370_d5b6_11ea_8811_38f9d3db5c17row9_col0\" class=\"data row9 col0\" >SVM - Radial Kernel</td>\n",
       "                        <td id=\"T_142e4370_d5b6_11ea_8811_38f9d3db5c17row9_col1\" class=\"data row9 col1\" >0.9718</td>\n",
       "                        <td id=\"T_142e4370_d5b6_11ea_8811_38f9d3db5c17row9_col2\" class=\"data row9 col2\" >0.0000</td>\n",
       "                        <td id=\"T_142e4370_d5b6_11ea_8811_38f9d3db5c17row9_col3\" class=\"data row9 col3\" >0.9750</td>\n",
       "                        <td id=\"T_142e4370_d5b6_11ea_8811_38f9d3db5c17row9_col4\" class=\"data row9 col4\" >0.9743</td>\n",
       "                        <td id=\"T_142e4370_d5b6_11ea_8811_38f9d3db5c17row9_col5\" class=\"data row9 col5\" >0.9718</td>\n",
       "                        <td id=\"T_142e4370_d5b6_11ea_8811_38f9d3db5c17row9_col6\" class=\"data row9 col6\" >0.9576</td>\n",
       "                        <td id=\"T_142e4370_d5b6_11ea_8811_38f9d3db5c17row9_col7\" class=\"data row9 col7\" >0.9589</td>\n",
       "                        <td id=\"T_142e4370_d5b6_11ea_8811_38f9d3db5c17row9_col8\" class=\"data row9 col8\" >0.0126</td>\n",
       "            </tr>\n",
       "            <tr>\n",
       "                        <th id=\"T_142e4370_d5b6_11ea_8811_38f9d3db5c17level0_row10\" class=\"row_heading level0 row10\" >10</th>\n",
       "                        <td id=\"T_142e4370_d5b6_11ea_8811_38f9d3db5c17row10_col0\" class=\"data row10 col0\" >Linear Discriminant Analysis</td>\n",
       "                        <td id=\"T_142e4370_d5b6_11ea_8811_38f9d3db5c17row10_col1\" class=\"data row10 col1\" >0.9718</td>\n",
       "                        <td id=\"T_142e4370_d5b6_11ea_8811_38f9d3db5c17row10_col2\" class=\"data row10 col2\" >0.0000</td>\n",
       "                        <td id=\"T_142e4370_d5b6_11ea_8811_38f9d3db5c17row10_col3\" class=\"data row10 col3\" >0.9750</td>\n",
       "                        <td id=\"T_142e4370_d5b6_11ea_8811_38f9d3db5c17row10_col4\" class=\"data row10 col4\" >0.9743</td>\n",
       "                        <td id=\"T_142e4370_d5b6_11ea_8811_38f9d3db5c17row10_col5\" class=\"data row10 col5\" >0.9718</td>\n",
       "                        <td id=\"T_142e4370_d5b6_11ea_8811_38f9d3db5c17row10_col6\" class=\"data row10 col6\" >0.9576</td>\n",
       "                        <td id=\"T_142e4370_d5b6_11ea_8811_38f9d3db5c17row10_col7\" class=\"data row10 col7\" >0.9589</td>\n",
       "                        <td id=\"T_142e4370_d5b6_11ea_8811_38f9d3db5c17row10_col8\" class=\"data row10 col8\" >0.0124</td>\n",
       "            </tr>\n",
       "            <tr>\n",
       "                        <th id=\"T_142e4370_d5b6_11ea_8811_38f9d3db5c17level0_row11\" class=\"row_heading level0 row11\" >11</th>\n",
       "                        <td id=\"T_142e4370_d5b6_11ea_8811_38f9d3db5c17row11_col0\" class=\"data row11 col0\" >Extreme Gradient Boosting</td>\n",
       "                        <td id=\"T_142e4370_d5b6_11ea_8811_38f9d3db5c17row11_col1\" class=\"data row11 col1\" >0.9718</td>\n",
       "                        <td id=\"T_142e4370_d5b6_11ea_8811_38f9d3db5c17row11_col2\" class=\"data row11 col2\" >0.0000</td>\n",
       "                        <td id=\"T_142e4370_d5b6_11ea_8811_38f9d3db5c17row11_col3\" class=\"data row11 col3\" >0.9750</td>\n",
       "                        <td id=\"T_142e4370_d5b6_11ea_8811_38f9d3db5c17row11_col4\" class=\"data row11 col4\" >0.9743</td>\n",
       "                        <td id=\"T_142e4370_d5b6_11ea_8811_38f9d3db5c17row11_col5\" class=\"data row11 col5\" >0.9718</td>\n",
       "                        <td id=\"T_142e4370_d5b6_11ea_8811_38f9d3db5c17row11_col6\" class=\"data row11 col6\" >0.9576</td>\n",
       "                        <td id=\"T_142e4370_d5b6_11ea_8811_38f9d3db5c17row11_col7\" class=\"data row11 col7\" >0.9589</td>\n",
       "                        <td id=\"T_142e4370_d5b6_11ea_8811_38f9d3db5c17row11_col8\" class=\"data row11 col8\" >0.0330</td>\n",
       "            </tr>\n",
       "            <tr>\n",
       "                        <th id=\"T_142e4370_d5b6_11ea_8811_38f9d3db5c17level0_row12\" class=\"row_heading level0 row12\" >12</th>\n",
       "                        <td id=\"T_142e4370_d5b6_11ea_8811_38f9d3db5c17row12_col0\" class=\"data row12 col0\" >Gaussian Process Classifier</td>\n",
       "                        <td id=\"T_142e4370_d5b6_11ea_8811_38f9d3db5c17row12_col1\" class=\"data row12 col1\" >0.9718</td>\n",
       "                        <td id=\"T_142e4370_d5b6_11ea_8811_38f9d3db5c17row12_col2\" class=\"data row12 col2\" >0.0000</td>\n",
       "                        <td id=\"T_142e4370_d5b6_11ea_8811_38f9d3db5c17row12_col3\" class=\"data row12 col3\" >0.9750</td>\n",
       "                        <td id=\"T_142e4370_d5b6_11ea_8811_38f9d3db5c17row12_col4\" class=\"data row12 col4\" >0.9743</td>\n",
       "                        <td id=\"T_142e4370_d5b6_11ea_8811_38f9d3db5c17row12_col5\" class=\"data row12 col5\" >0.9718</td>\n",
       "                        <td id=\"T_142e4370_d5b6_11ea_8811_38f9d3db5c17row12_col6\" class=\"data row12 col6\" >0.9576</td>\n",
       "                        <td id=\"T_142e4370_d5b6_11ea_8811_38f9d3db5c17row12_col7\" class=\"data row12 col7\" >0.9589</td>\n",
       "                        <td id=\"T_142e4370_d5b6_11ea_8811_38f9d3db5c17row12_col8\" class=\"data row12 col8\" >0.0543</td>\n",
       "            </tr>\n",
       "            <tr>\n",
       "                        <th id=\"T_142e4370_d5b6_11ea_8811_38f9d3db5c17level0_row13\" class=\"row_heading level0 row13\" >13</th>\n",
       "                        <td id=\"T_142e4370_d5b6_11ea_8811_38f9d3db5c17row13_col0\" class=\"data row13 col0\" >Ridge Classifier</td>\n",
       "                        <td id=\"T_142e4370_d5b6_11ea_8811_38f9d3db5c17row13_col1\" class=\"data row13 col1\" >0.9718</td>\n",
       "                        <td id=\"T_142e4370_d5b6_11ea_8811_38f9d3db5c17row13_col2\" class=\"data row13 col2\" >0.0000</td>\n",
       "                        <td id=\"T_142e4370_d5b6_11ea_8811_38f9d3db5c17row13_col3\" class=\"data row13 col3\" >0.9750</td>\n",
       "                        <td id=\"T_142e4370_d5b6_11ea_8811_38f9d3db5c17row13_col4\" class=\"data row13 col4\" >0.9743</td>\n",
       "                        <td id=\"T_142e4370_d5b6_11ea_8811_38f9d3db5c17row13_col5\" class=\"data row13 col5\" >0.9718</td>\n",
       "                        <td id=\"T_142e4370_d5b6_11ea_8811_38f9d3db5c17row13_col6\" class=\"data row13 col6\" >0.9576</td>\n",
       "                        <td id=\"T_142e4370_d5b6_11ea_8811_38f9d3db5c17row13_col7\" class=\"data row13 col7\" >0.9589</td>\n",
       "                        <td id=\"T_142e4370_d5b6_11ea_8811_38f9d3db5c17row13_col8\" class=\"data row13 col8\" >0.0164</td>\n",
       "            </tr>\n",
       "            <tr>\n",
       "                        <th id=\"T_142e4370_d5b6_11ea_8811_38f9d3db5c17level0_row14\" class=\"row_heading level0 row14\" >14</th>\n",
       "                        <td id=\"T_142e4370_d5b6_11ea_8811_38f9d3db5c17row14_col0\" class=\"data row14 col0\" >Quadratic Discriminant Analysis</td>\n",
       "                        <td id=\"T_142e4370_d5b6_11ea_8811_38f9d3db5c17row14_col1\" class=\"data row14 col1\" >0.9709</td>\n",
       "                        <td id=\"T_142e4370_d5b6_11ea_8811_38f9d3db5c17row14_col2\" class=\"data row14 col2\" >0.0000</td>\n",
       "                        <td id=\"T_142e4370_d5b6_11ea_8811_38f9d3db5c17row14_col3\" class=\"data row14 col3\" >0.9722</td>\n",
       "                        <td id=\"T_142e4370_d5b6_11ea_8811_38f9d3db5c17row14_col4\" class=\"data row14 col4\" >0.9777</td>\n",
       "                        <td id=\"T_142e4370_d5b6_11ea_8811_38f9d3db5c17row14_col5\" class=\"data row14 col5\" >0.9705</td>\n",
       "                        <td id=\"T_142e4370_d5b6_11ea_8811_38f9d3db5c17row14_col6\" class=\"data row14 col6\" >0.9562</td>\n",
       "                        <td id=\"T_142e4370_d5b6_11ea_8811_38f9d3db5c17row14_col7\" class=\"data row14 col7\" >0.9599</td>\n",
       "                        <td id=\"T_142e4370_d5b6_11ea_8811_38f9d3db5c17row14_col8\" class=\"data row14 col8\" >0.0107</td>\n",
       "            </tr>\n",
       "            <tr>\n",
       "                        <th id=\"T_142e4370_d5b6_11ea_8811_38f9d3db5c17level0_row15\" class=\"row_heading level0 row15\" >15</th>\n",
       "                        <td id=\"T_142e4370_d5b6_11ea_8811_38f9d3db5c17row15_col0\" class=\"data row15 col0\" >Gradient Boosting Classifier</td>\n",
       "                        <td id=\"T_142e4370_d5b6_11ea_8811_38f9d3db5c17row15_col1\" class=\"data row15 col1\" >0.9709</td>\n",
       "                        <td id=\"T_142e4370_d5b6_11ea_8811_38f9d3db5c17row15_col2\" class=\"data row15 col2\" >0.0000</td>\n",
       "                        <td id=\"T_142e4370_d5b6_11ea_8811_38f9d3db5c17row15_col3\" class=\"data row15 col3\" >0.9722</td>\n",
       "                        <td id=\"T_142e4370_d5b6_11ea_8811_38f9d3db5c17row15_col4\" class=\"data row15 col4\" >0.9777</td>\n",
       "                        <td id=\"T_142e4370_d5b6_11ea_8811_38f9d3db5c17row15_col5\" class=\"data row15 col5\" >0.9705</td>\n",
       "                        <td id=\"T_142e4370_d5b6_11ea_8811_38f9d3db5c17row15_col6\" class=\"data row15 col6\" >0.9562</td>\n",
       "                        <td id=\"T_142e4370_d5b6_11ea_8811_38f9d3db5c17row15_col7\" class=\"data row15 col7\" >0.9599</td>\n",
       "                        <td id=\"T_142e4370_d5b6_11ea_8811_38f9d3db5c17row15_col8\" class=\"data row15 col8\" >0.1436</td>\n",
       "            </tr>\n",
       "            <tr>\n",
       "                        <th id=\"T_142e4370_d5b6_11ea_8811_38f9d3db5c17level0_row16\" class=\"row_heading level0 row16\" >16</th>\n",
       "                        <td id=\"T_142e4370_d5b6_11ea_8811_38f9d3db5c17row16_col0\" class=\"data row16 col0\" >Extra Trees Classifier</td>\n",
       "                        <td id=\"T_142e4370_d5b6_11ea_8811_38f9d3db5c17row16_col1\" class=\"data row16 col1\" >0.9709</td>\n",
       "                        <td id=\"T_142e4370_d5b6_11ea_8811_38f9d3db5c17row16_col2\" class=\"data row16 col2\" >0.0000</td>\n",
       "                        <td id=\"T_142e4370_d5b6_11ea_8811_38f9d3db5c17row16_col3\" class=\"data row16 col3\" >0.9722</td>\n",
       "                        <td id=\"T_142e4370_d5b6_11ea_8811_38f9d3db5c17row16_col4\" class=\"data row16 col4\" >0.9777</td>\n",
       "                        <td id=\"T_142e4370_d5b6_11ea_8811_38f9d3db5c17row16_col5\" class=\"data row16 col5\" >0.9705</td>\n",
       "                        <td id=\"T_142e4370_d5b6_11ea_8811_38f9d3db5c17row16_col6\" class=\"data row16 col6\" >0.9562</td>\n",
       "                        <td id=\"T_142e4370_d5b6_11ea_8811_38f9d3db5c17row16_col7\" class=\"data row16 col7\" >0.9599</td>\n",
       "                        <td id=\"T_142e4370_d5b6_11ea_8811_38f9d3db5c17row16_col8\" class=\"data row16 col8\" >0.2280</td>\n",
       "            </tr>\n",
       "            <tr>\n",
       "                        <th id=\"T_142e4370_d5b6_11ea_8811_38f9d3db5c17level0_row17\" class=\"row_heading level0 row17\" >17</th>\n",
       "                        <td id=\"T_142e4370_d5b6_11ea_8811_38f9d3db5c17row17_col0\" class=\"data row17 col0\" >Random Forest Classifier</td>\n",
       "                        <td id=\"T_142e4370_d5b6_11ea_8811_38f9d3db5c17row17_col1\" class=\"data row17 col1\" >0.9527</td>\n",
       "                        <td id=\"T_142e4370_d5b6_11ea_8811_38f9d3db5c17row17_col2\" class=\"data row17 col2\" >0.0000</td>\n",
       "                        <td id=\"T_142e4370_d5b6_11ea_8811_38f9d3db5c17row17_col3\" class=\"data row17 col3\" >0.9556</td>\n",
       "                        <td id=\"T_142e4370_d5b6_11ea_8811_38f9d3db5c17row17_col4\" class=\"data row17 col4\" >0.9595</td>\n",
       "                        <td id=\"T_142e4370_d5b6_11ea_8811_38f9d3db5c17row17_col5\" class=\"data row17 col5\" >0.9523</td>\n",
       "                        <td id=\"T_142e4370_d5b6_11ea_8811_38f9d3db5c17row17_col6\" class=\"data row17 col6\" >0.9287</td>\n",
       "                        <td id=\"T_142e4370_d5b6_11ea_8811_38f9d3db5c17row17_col7\" class=\"data row17 col7\" >0.9324</td>\n",
       "                        <td id=\"T_142e4370_d5b6_11ea_8811_38f9d3db5c17row17_col8\" class=\"data row17 col8\" >0.2682</td>\n",
       "            </tr>\n",
       "    </tbody></table>"
      ],
      "text/plain": [
       "<pandas.io.formats.style.Styler at 0x129dd9640>"
      ]
     },
     "metadata": {},
     "output_type": "display_data"
    }
   ],
   "source": [
    "# automatically compare all models \n",
    "best_classification_model = classification.compare_models(\n",
    "    turbo=False,\n",
    ")"
   ]
  },
  {
   "cell_type": "code",
   "execution_count": 36,
   "metadata": {},
   "outputs": [
    {
     "data": {
      "text/html": [
       "<div>\n",
       "<style scoped>\n",
       "    .dataframe tbody tr th:only-of-type {\n",
       "        vertical-align: middle;\n",
       "    }\n",
       "\n",
       "    .dataframe tbody tr th {\n",
       "        vertical-align: top;\n",
       "    }\n",
       "\n",
       "    .dataframe thead th {\n",
       "        text-align: right;\n",
       "    }\n",
       "</style>\n",
       "<table border=\"1\" class=\"dataframe\">\n",
       "  <thead>\n",
       "    <tr style=\"text-align: right;\">\n",
       "      <th></th>\n",
       "      <th>Name</th>\n",
       "      <th>Reference</th>\n",
       "      <th>Turbo</th>\n",
       "    </tr>\n",
       "    <tr>\n",
       "      <th>ID</th>\n",
       "      <th></th>\n",
       "      <th></th>\n",
       "      <th></th>\n",
       "    </tr>\n",
       "  </thead>\n",
       "  <tbody>\n",
       "    <tr>\n",
       "      <th>lr</th>\n",
       "      <td>Logistic Regression</td>\n",
       "      <td>sklearn.linear_model.LogisticRegression</td>\n",
       "      <td>True</td>\n",
       "    </tr>\n",
       "    <tr>\n",
       "      <th>knn</th>\n",
       "      <td>K Neighbors Classifier</td>\n",
       "      <td>sklearn.neighbors.KNeighborsClassifier</td>\n",
       "      <td>True</td>\n",
       "    </tr>\n",
       "    <tr>\n",
       "      <th>nb</th>\n",
       "      <td>Naive Bayes</td>\n",
       "      <td>sklearn.naive_bayes.GaussianNB</td>\n",
       "      <td>True</td>\n",
       "    </tr>\n",
       "    <tr>\n",
       "      <th>dt</th>\n",
       "      <td>Decision Tree Classifier</td>\n",
       "      <td>sklearn.tree.DecisionTreeClassifier</td>\n",
       "      <td>True</td>\n",
       "    </tr>\n",
       "    <tr>\n",
       "      <th>svm</th>\n",
       "      <td>SVM - Linear Kernel</td>\n",
       "      <td>sklearn.linear_model.SGDClassifier</td>\n",
       "      <td>True</td>\n",
       "    </tr>\n",
       "    <tr>\n",
       "      <th>rbfsvm</th>\n",
       "      <td>SVM - Radial Kernel</td>\n",
       "      <td>sklearn.svm.SVC</td>\n",
       "      <td>False</td>\n",
       "    </tr>\n",
       "    <tr>\n",
       "      <th>gpc</th>\n",
       "      <td>Gaussian Process Classifier</td>\n",
       "      <td>sklearn.gaussian_process.GPC</td>\n",
       "      <td>False</td>\n",
       "    </tr>\n",
       "    <tr>\n",
       "      <th>mlp</th>\n",
       "      <td>MLP Classifier</td>\n",
       "      <td>sklearn.neural_network.MLPClassifier</td>\n",
       "      <td>False</td>\n",
       "    </tr>\n",
       "    <tr>\n",
       "      <th>ridge</th>\n",
       "      <td>Ridge Classifier</td>\n",
       "      <td>sklearn.linear_model.RidgeClassifier</td>\n",
       "      <td>True</td>\n",
       "    </tr>\n",
       "    <tr>\n",
       "      <th>rf</th>\n",
       "      <td>Random Forest Classifier</td>\n",
       "      <td>sklearn.ensemble.RandomForestClassifier</td>\n",
       "      <td>True</td>\n",
       "    </tr>\n",
       "    <tr>\n",
       "      <th>qda</th>\n",
       "      <td>Quadratic Discriminant Analysis</td>\n",
       "      <td>sklearn.discriminant_analysis.QDA</td>\n",
       "      <td>True</td>\n",
       "    </tr>\n",
       "    <tr>\n",
       "      <th>ada</th>\n",
       "      <td>Ada Boost Classifier</td>\n",
       "      <td>sklearn.ensemble.AdaBoostClassifier</td>\n",
       "      <td>True</td>\n",
       "    </tr>\n",
       "    <tr>\n",
       "      <th>gbc</th>\n",
       "      <td>Gradient Boosting Classifier</td>\n",
       "      <td>sklearn.ensemble.GradientBoostingClassifier</td>\n",
       "      <td>True</td>\n",
       "    </tr>\n",
       "    <tr>\n",
       "      <th>lda</th>\n",
       "      <td>Linear Discriminant Analysis</td>\n",
       "      <td>sklearn.discriminant_analysis.LDA</td>\n",
       "      <td>True</td>\n",
       "    </tr>\n",
       "    <tr>\n",
       "      <th>et</th>\n",
       "      <td>Extra Trees Classifier</td>\n",
       "      <td>sklearn.ensemble.ExtraTreesClassifier</td>\n",
       "      <td>True</td>\n",
       "    </tr>\n",
       "    <tr>\n",
       "      <th>xgboost</th>\n",
       "      <td>Extreme Gradient Boosting</td>\n",
       "      <td>xgboost.readthedocs.io</td>\n",
       "      <td>True</td>\n",
       "    </tr>\n",
       "    <tr>\n",
       "      <th>lightgbm</th>\n",
       "      <td>Light Gradient Boosting Machine</td>\n",
       "      <td>github.com/microsoft/LightGBM</td>\n",
       "      <td>True</td>\n",
       "    </tr>\n",
       "    <tr>\n",
       "      <th>catboost</th>\n",
       "      <td>CatBoost Classifier</td>\n",
       "      <td>catboost.ai</td>\n",
       "      <td>True</td>\n",
       "    </tr>\n",
       "  </tbody>\n",
       "</table>\n",
       "</div>"
      ],
      "text/plain": [
       "                                     Name  \\\n",
       "ID                                          \n",
       "lr                    Logistic Regression   \n",
       "knn                K Neighbors Classifier   \n",
       "nb                            Naive Bayes   \n",
       "dt               Decision Tree Classifier   \n",
       "svm                   SVM - Linear Kernel   \n",
       "rbfsvm                SVM - Radial Kernel   \n",
       "gpc           Gaussian Process Classifier   \n",
       "mlp                        MLP Classifier   \n",
       "ridge                    Ridge Classifier   \n",
       "rf               Random Forest Classifier   \n",
       "qda       Quadratic Discriminant Analysis   \n",
       "ada                  Ada Boost Classifier   \n",
       "gbc          Gradient Boosting Classifier   \n",
       "lda          Linear Discriminant Analysis   \n",
       "et                 Extra Trees Classifier   \n",
       "xgboost         Extreme Gradient Boosting   \n",
       "lightgbm  Light Gradient Boosting Machine   \n",
       "catboost              CatBoost Classifier   \n",
       "\n",
       "                                            Reference  Turbo  \n",
       "ID                                                            \n",
       "lr            sklearn.linear_model.LogisticRegression   True  \n",
       "knn            sklearn.neighbors.KNeighborsClassifier   True  \n",
       "nb                     sklearn.naive_bayes.GaussianNB   True  \n",
       "dt                sklearn.tree.DecisionTreeClassifier   True  \n",
       "svm                sklearn.linear_model.SGDClassifier   True  \n",
       "rbfsvm                                sklearn.svm.SVC  False  \n",
       "gpc                      sklearn.gaussian_process.GPC  False  \n",
       "mlp              sklearn.neural_network.MLPClassifier  False  \n",
       "ridge            sklearn.linear_model.RidgeClassifier   True  \n",
       "rf            sklearn.ensemble.RandomForestClassifier   True  \n",
       "qda                 sklearn.discriminant_analysis.QDA   True  \n",
       "ada               sklearn.ensemble.AdaBoostClassifier   True  \n",
       "gbc       sklearn.ensemble.GradientBoostingClassifier   True  \n",
       "lda                 sklearn.discriminant_analysis.LDA   True  \n",
       "et              sklearn.ensemble.ExtraTreesClassifier   True  \n",
       "xgboost                        xgboost.readthedocs.io   True  \n",
       "lightgbm                github.com/microsoft/LightGBM   True  \n",
       "catboost                                  catboost.ai   True  "
      ]
     },
     "execution_count": 36,
     "metadata": {},
     "output_type": "execute_result"
    }
   ],
   "source": [
    "# models info\n",
    "classification.models()"
   ]
  },
  {
   "cell_type": "code",
   "execution_count": 37,
   "metadata": {},
   "outputs": [
    {
     "data": {
      "text/html": [
       "<style  type=\"text/css\" >\n",
       "    #T_1548e9ae_d5b6_11ea_8811_38f9d3db5c17row10_col0 {\n",
       "            background:  yellow;\n",
       "        }    #T_1548e9ae_d5b6_11ea_8811_38f9d3db5c17row10_col1 {\n",
       "            background:  yellow;\n",
       "        }    #T_1548e9ae_d5b6_11ea_8811_38f9d3db5c17row10_col2 {\n",
       "            background:  yellow;\n",
       "        }    #T_1548e9ae_d5b6_11ea_8811_38f9d3db5c17row10_col3 {\n",
       "            background:  yellow;\n",
       "        }    #T_1548e9ae_d5b6_11ea_8811_38f9d3db5c17row10_col4 {\n",
       "            background:  yellow;\n",
       "        }    #T_1548e9ae_d5b6_11ea_8811_38f9d3db5c17row10_col5 {\n",
       "            background:  yellow;\n",
       "        }    #T_1548e9ae_d5b6_11ea_8811_38f9d3db5c17row10_col6 {\n",
       "            background:  yellow;\n",
       "        }</style><table id=\"T_1548e9ae_d5b6_11ea_8811_38f9d3db5c17\" ><thead>    <tr>        <th class=\"blank level0\" ></th>        <th class=\"col_heading level0 col0\" >Accuracy</th>        <th class=\"col_heading level0 col1\" >AUC</th>        <th class=\"col_heading level0 col2\" >Recall</th>        <th class=\"col_heading level0 col3\" >Prec.</th>        <th class=\"col_heading level0 col4\" >F1</th>        <th class=\"col_heading level0 col5\" >Kappa</th>        <th class=\"col_heading level0 col6\" >MCC</th>    </tr></thead><tbody>\n",
       "                <tr>\n",
       "                        <th id=\"T_1548e9ae_d5b6_11ea_8811_38f9d3db5c17level0_row0\" class=\"row_heading level0 row0\" >0</th>\n",
       "                        <td id=\"T_1548e9ae_d5b6_11ea_8811_38f9d3db5c17row0_col0\" class=\"data row0 col0\" >1.0000</td>\n",
       "                        <td id=\"T_1548e9ae_d5b6_11ea_8811_38f9d3db5c17row0_col1\" class=\"data row0 col1\" >0.0000</td>\n",
       "                        <td id=\"T_1548e9ae_d5b6_11ea_8811_38f9d3db5c17row0_col2\" class=\"data row0 col2\" >1.0000</td>\n",
       "                        <td id=\"T_1548e9ae_d5b6_11ea_8811_38f9d3db5c17row0_col3\" class=\"data row0 col3\" >1.0000</td>\n",
       "                        <td id=\"T_1548e9ae_d5b6_11ea_8811_38f9d3db5c17row0_col4\" class=\"data row0 col4\" >1.0000</td>\n",
       "                        <td id=\"T_1548e9ae_d5b6_11ea_8811_38f9d3db5c17row0_col5\" class=\"data row0 col5\" >1.0000</td>\n",
       "                        <td id=\"T_1548e9ae_d5b6_11ea_8811_38f9d3db5c17row0_col6\" class=\"data row0 col6\" >1.0000</td>\n",
       "            </tr>\n",
       "            <tr>\n",
       "                        <th id=\"T_1548e9ae_d5b6_11ea_8811_38f9d3db5c17level0_row1\" class=\"row_heading level0 row1\" >1</th>\n",
       "                        <td id=\"T_1548e9ae_d5b6_11ea_8811_38f9d3db5c17row1_col0\" class=\"data row1 col0\" >1.0000</td>\n",
       "                        <td id=\"T_1548e9ae_d5b6_11ea_8811_38f9d3db5c17row1_col1\" class=\"data row1 col1\" >0.0000</td>\n",
       "                        <td id=\"T_1548e9ae_d5b6_11ea_8811_38f9d3db5c17row1_col2\" class=\"data row1 col2\" >1.0000</td>\n",
       "                        <td id=\"T_1548e9ae_d5b6_11ea_8811_38f9d3db5c17row1_col3\" class=\"data row1 col3\" >1.0000</td>\n",
       "                        <td id=\"T_1548e9ae_d5b6_11ea_8811_38f9d3db5c17row1_col4\" class=\"data row1 col4\" >1.0000</td>\n",
       "                        <td id=\"T_1548e9ae_d5b6_11ea_8811_38f9d3db5c17row1_col5\" class=\"data row1 col5\" >1.0000</td>\n",
       "                        <td id=\"T_1548e9ae_d5b6_11ea_8811_38f9d3db5c17row1_col6\" class=\"data row1 col6\" >1.0000</td>\n",
       "            </tr>\n",
       "            <tr>\n",
       "                        <th id=\"T_1548e9ae_d5b6_11ea_8811_38f9d3db5c17level0_row2\" class=\"row_heading level0 row2\" >2</th>\n",
       "                        <td id=\"T_1548e9ae_d5b6_11ea_8811_38f9d3db5c17row2_col0\" class=\"data row2 col0\" >0.8182</td>\n",
       "                        <td id=\"T_1548e9ae_d5b6_11ea_8811_38f9d3db5c17row2_col1\" class=\"data row2 col1\" >0.0000</td>\n",
       "                        <td id=\"T_1548e9ae_d5b6_11ea_8811_38f9d3db5c17row2_col2\" class=\"data row2 col2\" >0.8333</td>\n",
       "                        <td id=\"T_1548e9ae_d5b6_11ea_8811_38f9d3db5c17row2_col3\" class=\"data row2 col3\" >0.8182</td>\n",
       "                        <td id=\"T_1548e9ae_d5b6_11ea_8811_38f9d3db5c17row2_col4\" class=\"data row2 col4\" >0.8182</td>\n",
       "                        <td id=\"T_1548e9ae_d5b6_11ea_8811_38f9d3db5c17row2_col5\" class=\"data row2 col5\" >0.7250</td>\n",
       "                        <td id=\"T_1548e9ae_d5b6_11ea_8811_38f9d3db5c17row2_col6\" class=\"data row2 col6\" >0.7250</td>\n",
       "            </tr>\n",
       "            <tr>\n",
       "                        <th id=\"T_1548e9ae_d5b6_11ea_8811_38f9d3db5c17level0_row3\" class=\"row_heading level0 row3\" >3</th>\n",
       "                        <td id=\"T_1548e9ae_d5b6_11ea_8811_38f9d3db5c17row3_col0\" class=\"data row3 col0\" >1.0000</td>\n",
       "                        <td id=\"T_1548e9ae_d5b6_11ea_8811_38f9d3db5c17row3_col1\" class=\"data row3 col1\" >0.0000</td>\n",
       "                        <td id=\"T_1548e9ae_d5b6_11ea_8811_38f9d3db5c17row3_col2\" class=\"data row3 col2\" >1.0000</td>\n",
       "                        <td id=\"T_1548e9ae_d5b6_11ea_8811_38f9d3db5c17row3_col3\" class=\"data row3 col3\" >1.0000</td>\n",
       "                        <td id=\"T_1548e9ae_d5b6_11ea_8811_38f9d3db5c17row3_col4\" class=\"data row3 col4\" >1.0000</td>\n",
       "                        <td id=\"T_1548e9ae_d5b6_11ea_8811_38f9d3db5c17row3_col5\" class=\"data row3 col5\" >1.0000</td>\n",
       "                        <td id=\"T_1548e9ae_d5b6_11ea_8811_38f9d3db5c17row3_col6\" class=\"data row3 col6\" >1.0000</td>\n",
       "            </tr>\n",
       "            <tr>\n",
       "                        <th id=\"T_1548e9ae_d5b6_11ea_8811_38f9d3db5c17level0_row4\" class=\"row_heading level0 row4\" >4</th>\n",
       "                        <td id=\"T_1548e9ae_d5b6_11ea_8811_38f9d3db5c17row4_col0\" class=\"data row4 col0\" >1.0000</td>\n",
       "                        <td id=\"T_1548e9ae_d5b6_11ea_8811_38f9d3db5c17row4_col1\" class=\"data row4 col1\" >0.0000</td>\n",
       "                        <td id=\"T_1548e9ae_d5b6_11ea_8811_38f9d3db5c17row4_col2\" class=\"data row4 col2\" >1.0000</td>\n",
       "                        <td id=\"T_1548e9ae_d5b6_11ea_8811_38f9d3db5c17row4_col3\" class=\"data row4 col3\" >1.0000</td>\n",
       "                        <td id=\"T_1548e9ae_d5b6_11ea_8811_38f9d3db5c17row4_col4\" class=\"data row4 col4\" >1.0000</td>\n",
       "                        <td id=\"T_1548e9ae_d5b6_11ea_8811_38f9d3db5c17row4_col5\" class=\"data row4 col5\" >1.0000</td>\n",
       "                        <td id=\"T_1548e9ae_d5b6_11ea_8811_38f9d3db5c17row4_col6\" class=\"data row4 col6\" >1.0000</td>\n",
       "            </tr>\n",
       "            <tr>\n",
       "                        <th id=\"T_1548e9ae_d5b6_11ea_8811_38f9d3db5c17level0_row5\" class=\"row_heading level0 row5\" >5</th>\n",
       "                        <td id=\"T_1548e9ae_d5b6_11ea_8811_38f9d3db5c17row5_col0\" class=\"data row5 col0\" >1.0000</td>\n",
       "                        <td id=\"T_1548e9ae_d5b6_11ea_8811_38f9d3db5c17row5_col1\" class=\"data row5 col1\" >0.0000</td>\n",
       "                        <td id=\"T_1548e9ae_d5b6_11ea_8811_38f9d3db5c17row5_col2\" class=\"data row5 col2\" >1.0000</td>\n",
       "                        <td id=\"T_1548e9ae_d5b6_11ea_8811_38f9d3db5c17row5_col3\" class=\"data row5 col3\" >1.0000</td>\n",
       "                        <td id=\"T_1548e9ae_d5b6_11ea_8811_38f9d3db5c17row5_col4\" class=\"data row5 col4\" >1.0000</td>\n",
       "                        <td id=\"T_1548e9ae_d5b6_11ea_8811_38f9d3db5c17row5_col5\" class=\"data row5 col5\" >1.0000</td>\n",
       "                        <td id=\"T_1548e9ae_d5b6_11ea_8811_38f9d3db5c17row5_col6\" class=\"data row5 col6\" >1.0000</td>\n",
       "            </tr>\n",
       "            <tr>\n",
       "                        <th id=\"T_1548e9ae_d5b6_11ea_8811_38f9d3db5c17level0_row6\" class=\"row_heading level0 row6\" >6</th>\n",
       "                        <td id=\"T_1548e9ae_d5b6_11ea_8811_38f9d3db5c17row6_col0\" class=\"data row6 col0\" >1.0000</td>\n",
       "                        <td id=\"T_1548e9ae_d5b6_11ea_8811_38f9d3db5c17row6_col1\" class=\"data row6 col1\" >0.0000</td>\n",
       "                        <td id=\"T_1548e9ae_d5b6_11ea_8811_38f9d3db5c17row6_col2\" class=\"data row6 col2\" >1.0000</td>\n",
       "                        <td id=\"T_1548e9ae_d5b6_11ea_8811_38f9d3db5c17row6_col3\" class=\"data row6 col3\" >1.0000</td>\n",
       "                        <td id=\"T_1548e9ae_d5b6_11ea_8811_38f9d3db5c17row6_col4\" class=\"data row6 col4\" >1.0000</td>\n",
       "                        <td id=\"T_1548e9ae_d5b6_11ea_8811_38f9d3db5c17row6_col5\" class=\"data row6 col5\" >1.0000</td>\n",
       "                        <td id=\"T_1548e9ae_d5b6_11ea_8811_38f9d3db5c17row6_col6\" class=\"data row6 col6\" >1.0000</td>\n",
       "            </tr>\n",
       "            <tr>\n",
       "                        <th id=\"T_1548e9ae_d5b6_11ea_8811_38f9d3db5c17level0_row7\" class=\"row_heading level0 row7\" >7</th>\n",
       "                        <td id=\"T_1548e9ae_d5b6_11ea_8811_38f9d3db5c17row7_col0\" class=\"data row7 col0\" >1.0000</td>\n",
       "                        <td id=\"T_1548e9ae_d5b6_11ea_8811_38f9d3db5c17row7_col1\" class=\"data row7 col1\" >0.0000</td>\n",
       "                        <td id=\"T_1548e9ae_d5b6_11ea_8811_38f9d3db5c17row7_col2\" class=\"data row7 col2\" >1.0000</td>\n",
       "                        <td id=\"T_1548e9ae_d5b6_11ea_8811_38f9d3db5c17row7_col3\" class=\"data row7 col3\" >1.0000</td>\n",
       "                        <td id=\"T_1548e9ae_d5b6_11ea_8811_38f9d3db5c17row7_col4\" class=\"data row7 col4\" >1.0000</td>\n",
       "                        <td id=\"T_1548e9ae_d5b6_11ea_8811_38f9d3db5c17row7_col5\" class=\"data row7 col5\" >1.0000</td>\n",
       "                        <td id=\"T_1548e9ae_d5b6_11ea_8811_38f9d3db5c17row7_col6\" class=\"data row7 col6\" >1.0000</td>\n",
       "            </tr>\n",
       "            <tr>\n",
       "                        <th id=\"T_1548e9ae_d5b6_11ea_8811_38f9d3db5c17level0_row8\" class=\"row_heading level0 row8\" >8</th>\n",
       "                        <td id=\"T_1548e9ae_d5b6_11ea_8811_38f9d3db5c17row8_col0\" class=\"data row8 col0\" >1.0000</td>\n",
       "                        <td id=\"T_1548e9ae_d5b6_11ea_8811_38f9d3db5c17row8_col1\" class=\"data row8 col1\" >0.0000</td>\n",
       "                        <td id=\"T_1548e9ae_d5b6_11ea_8811_38f9d3db5c17row8_col2\" class=\"data row8 col2\" >1.0000</td>\n",
       "                        <td id=\"T_1548e9ae_d5b6_11ea_8811_38f9d3db5c17row8_col3\" class=\"data row8 col3\" >1.0000</td>\n",
       "                        <td id=\"T_1548e9ae_d5b6_11ea_8811_38f9d3db5c17row8_col4\" class=\"data row8 col4\" >1.0000</td>\n",
       "                        <td id=\"T_1548e9ae_d5b6_11ea_8811_38f9d3db5c17row8_col5\" class=\"data row8 col5\" >1.0000</td>\n",
       "                        <td id=\"T_1548e9ae_d5b6_11ea_8811_38f9d3db5c17row8_col6\" class=\"data row8 col6\" >1.0000</td>\n",
       "            </tr>\n",
       "            <tr>\n",
       "                        <th id=\"T_1548e9ae_d5b6_11ea_8811_38f9d3db5c17level0_row9\" class=\"row_heading level0 row9\" >9</th>\n",
       "                        <td id=\"T_1548e9ae_d5b6_11ea_8811_38f9d3db5c17row9_col0\" class=\"data row9 col0\" >0.9000</td>\n",
       "                        <td id=\"T_1548e9ae_d5b6_11ea_8811_38f9d3db5c17row9_col1\" class=\"data row9 col1\" >0.0000</td>\n",
       "                        <td id=\"T_1548e9ae_d5b6_11ea_8811_38f9d3db5c17row9_col2\" class=\"data row9 col2\" >0.9167</td>\n",
       "                        <td id=\"T_1548e9ae_d5b6_11ea_8811_38f9d3db5c17row9_col3\" class=\"data row9 col3\" >0.9250</td>\n",
       "                        <td id=\"T_1548e9ae_d5b6_11ea_8811_38f9d3db5c17row9_col4\" class=\"data row9 col4\" >0.9000</td>\n",
       "                        <td id=\"T_1548e9ae_d5b6_11ea_8811_38f9d3db5c17row9_col5\" class=\"data row9 col5\" >0.8507</td>\n",
       "                        <td id=\"T_1548e9ae_d5b6_11ea_8811_38f9d3db5c17row9_col6\" class=\"data row9 col6\" >0.8636</td>\n",
       "            </tr>\n",
       "            <tr>\n",
       "                        <th id=\"T_1548e9ae_d5b6_11ea_8811_38f9d3db5c17level0_row10\" class=\"row_heading level0 row10\" >Mean</th>\n",
       "                        <td id=\"T_1548e9ae_d5b6_11ea_8811_38f9d3db5c17row10_col0\" class=\"data row10 col0\" >0.9718</td>\n",
       "                        <td id=\"T_1548e9ae_d5b6_11ea_8811_38f9d3db5c17row10_col1\" class=\"data row10 col1\" >0.0000</td>\n",
       "                        <td id=\"T_1548e9ae_d5b6_11ea_8811_38f9d3db5c17row10_col2\" class=\"data row10 col2\" >0.9750</td>\n",
       "                        <td id=\"T_1548e9ae_d5b6_11ea_8811_38f9d3db5c17row10_col3\" class=\"data row10 col3\" >0.9743</td>\n",
       "                        <td id=\"T_1548e9ae_d5b6_11ea_8811_38f9d3db5c17row10_col4\" class=\"data row10 col4\" >0.9718</td>\n",
       "                        <td id=\"T_1548e9ae_d5b6_11ea_8811_38f9d3db5c17row10_col5\" class=\"data row10 col5\" >0.9576</td>\n",
       "                        <td id=\"T_1548e9ae_d5b6_11ea_8811_38f9d3db5c17row10_col6\" class=\"data row10 col6\" >0.9589</td>\n",
       "            </tr>\n",
       "            <tr>\n",
       "                        <th id=\"T_1548e9ae_d5b6_11ea_8811_38f9d3db5c17level0_row11\" class=\"row_heading level0 row11\" >SD</th>\n",
       "                        <td id=\"T_1548e9ae_d5b6_11ea_8811_38f9d3db5c17row11_col0\" class=\"data row11 col0\" >0.0593</td>\n",
       "                        <td id=\"T_1548e9ae_d5b6_11ea_8811_38f9d3db5c17row11_col1\" class=\"data row11 col1\" >0.0000</td>\n",
       "                        <td id=\"T_1548e9ae_d5b6_11ea_8811_38f9d3db5c17row11_col2\" class=\"data row11 col2\" >0.0534</td>\n",
       "                        <td id=\"T_1548e9ae_d5b6_11ea_8811_38f9d3db5c17row11_col3\" class=\"data row11 col3\" >0.0566</td>\n",
       "                        <td id=\"T_1548e9ae_d5b6_11ea_8811_38f9d3db5c17row11_col4\" class=\"data row11 col4\" >0.0593</td>\n",
       "                        <td id=\"T_1548e9ae_d5b6_11ea_8811_38f9d3db5c17row11_col5\" class=\"data row11 col5\" >0.0894</td>\n",
       "                        <td id=\"T_1548e9ae_d5b6_11ea_8811_38f9d3db5c17row11_col6\" class=\"data row11 col6\" >0.0879</td>\n",
       "            </tr>\n",
       "    </tbody></table>"
      ],
      "text/plain": [
       "<pandas.io.formats.style.Styler at 0x1298348b0>"
      ]
     },
     "metadata": {},
     "output_type": "display_data"
    }
   ],
   "source": [
    "# create a model \n",
    "# 'lr'        Logistic Regression             \n",
    "# 'knn'       K Nearest Neighbour            \n",
    "# 'nb'        Naive Bayes             \n",
    "# 'dt'        Decision Tree Classifier                   \n",
    "# 'svm'       SVM - Linear Kernel                 \n",
    "# 'rbfsvm'    SVM - Radial Kernel               \n",
    "# 'gpc'       Gaussian Process Classifier                  \n",
    "# 'mlp'       Multi Level Perceptron                  \n",
    "# 'ridge'     Ridge Classifier                \n",
    "# 'rf'        Random Forest Classifier                   \n",
    "# 'qda'       Quadratic Discriminant Analysis                  \n",
    "# 'ada'       Ada Boost Classifier                 \n",
    "# 'gbc'       Gradient Boosting Classifier                  \n",
    "# 'lda'       Linear Discriminant Analysis                  \n",
    "# 'et'        Extra Trees Classifier                   \n",
    "# 'xgboost'   Extreme Gradient Boosting              \n",
    "# 'lightgbm'  Light Gradient Boosting              \n",
    "# 'catboost'  CatBoost Classifier   \n",
    "classification_model = classification.create_model(\n",
    "    estimator='xgboost'\n",
    ")"
   ]
  },
  {
   "cell_type": "code",
   "execution_count": 38,
   "metadata": {},
   "outputs": [
    {
     "data": {
      "text/html": [
       "<style  type=\"text/css\" >\n",
       "    #T_2419d39e_d5b6_11ea_8811_38f9d3db5c17row10_col0 {\n",
       "            background:  yellow;\n",
       "        }    #T_2419d39e_d5b6_11ea_8811_38f9d3db5c17row10_col1 {\n",
       "            background:  yellow;\n",
       "        }    #T_2419d39e_d5b6_11ea_8811_38f9d3db5c17row10_col2 {\n",
       "            background:  yellow;\n",
       "        }    #T_2419d39e_d5b6_11ea_8811_38f9d3db5c17row10_col3 {\n",
       "            background:  yellow;\n",
       "        }    #T_2419d39e_d5b6_11ea_8811_38f9d3db5c17row10_col4 {\n",
       "            background:  yellow;\n",
       "        }    #T_2419d39e_d5b6_11ea_8811_38f9d3db5c17row10_col5 {\n",
       "            background:  yellow;\n",
       "        }    #T_2419d39e_d5b6_11ea_8811_38f9d3db5c17row10_col6 {\n",
       "            background:  yellow;\n",
       "        }</style><table id=\"T_2419d39e_d5b6_11ea_8811_38f9d3db5c17\" ><thead>    <tr>        <th class=\"blank level0\" ></th>        <th class=\"col_heading level0 col0\" >Accuracy</th>        <th class=\"col_heading level0 col1\" >AUC</th>        <th class=\"col_heading level0 col2\" >Recall</th>        <th class=\"col_heading level0 col3\" >Prec.</th>        <th class=\"col_heading level0 col4\" >F1</th>        <th class=\"col_heading level0 col5\" >Kappa</th>        <th class=\"col_heading level0 col6\" >MCC</th>    </tr></thead><tbody>\n",
       "                <tr>\n",
       "                        <th id=\"T_2419d39e_d5b6_11ea_8811_38f9d3db5c17level0_row0\" class=\"row_heading level0 row0\" >0</th>\n",
       "                        <td id=\"T_2419d39e_d5b6_11ea_8811_38f9d3db5c17row0_col0\" class=\"data row0 col0\" >1.0000</td>\n",
       "                        <td id=\"T_2419d39e_d5b6_11ea_8811_38f9d3db5c17row0_col1\" class=\"data row0 col1\" >0.0000</td>\n",
       "                        <td id=\"T_2419d39e_d5b6_11ea_8811_38f9d3db5c17row0_col2\" class=\"data row0 col2\" >1.0000</td>\n",
       "                        <td id=\"T_2419d39e_d5b6_11ea_8811_38f9d3db5c17row0_col3\" class=\"data row0 col3\" >1.0000</td>\n",
       "                        <td id=\"T_2419d39e_d5b6_11ea_8811_38f9d3db5c17row0_col4\" class=\"data row0 col4\" >1.0000</td>\n",
       "                        <td id=\"T_2419d39e_d5b6_11ea_8811_38f9d3db5c17row0_col5\" class=\"data row0 col5\" >1.0000</td>\n",
       "                        <td id=\"T_2419d39e_d5b6_11ea_8811_38f9d3db5c17row0_col6\" class=\"data row0 col6\" >1.0000</td>\n",
       "            </tr>\n",
       "            <tr>\n",
       "                        <th id=\"T_2419d39e_d5b6_11ea_8811_38f9d3db5c17level0_row1\" class=\"row_heading level0 row1\" >1</th>\n",
       "                        <td id=\"T_2419d39e_d5b6_11ea_8811_38f9d3db5c17row1_col0\" class=\"data row1 col0\" >1.0000</td>\n",
       "                        <td id=\"T_2419d39e_d5b6_11ea_8811_38f9d3db5c17row1_col1\" class=\"data row1 col1\" >0.0000</td>\n",
       "                        <td id=\"T_2419d39e_d5b6_11ea_8811_38f9d3db5c17row1_col2\" class=\"data row1 col2\" >1.0000</td>\n",
       "                        <td id=\"T_2419d39e_d5b6_11ea_8811_38f9d3db5c17row1_col3\" class=\"data row1 col3\" >1.0000</td>\n",
       "                        <td id=\"T_2419d39e_d5b6_11ea_8811_38f9d3db5c17row1_col4\" class=\"data row1 col4\" >1.0000</td>\n",
       "                        <td id=\"T_2419d39e_d5b6_11ea_8811_38f9d3db5c17row1_col5\" class=\"data row1 col5\" >1.0000</td>\n",
       "                        <td id=\"T_2419d39e_d5b6_11ea_8811_38f9d3db5c17row1_col6\" class=\"data row1 col6\" >1.0000</td>\n",
       "            </tr>\n",
       "            <tr>\n",
       "                        <th id=\"T_2419d39e_d5b6_11ea_8811_38f9d3db5c17level0_row2\" class=\"row_heading level0 row2\" >2</th>\n",
       "                        <td id=\"T_2419d39e_d5b6_11ea_8811_38f9d3db5c17row2_col0\" class=\"data row2 col0\" >0.8182</td>\n",
       "                        <td id=\"T_2419d39e_d5b6_11ea_8811_38f9d3db5c17row2_col1\" class=\"data row2 col1\" >0.0000</td>\n",
       "                        <td id=\"T_2419d39e_d5b6_11ea_8811_38f9d3db5c17row2_col2\" class=\"data row2 col2\" >0.8333</td>\n",
       "                        <td id=\"T_2419d39e_d5b6_11ea_8811_38f9d3db5c17row2_col3\" class=\"data row2 col3\" >0.8182</td>\n",
       "                        <td id=\"T_2419d39e_d5b6_11ea_8811_38f9d3db5c17row2_col4\" class=\"data row2 col4\" >0.8182</td>\n",
       "                        <td id=\"T_2419d39e_d5b6_11ea_8811_38f9d3db5c17row2_col5\" class=\"data row2 col5\" >0.7250</td>\n",
       "                        <td id=\"T_2419d39e_d5b6_11ea_8811_38f9d3db5c17row2_col6\" class=\"data row2 col6\" >0.7250</td>\n",
       "            </tr>\n",
       "            <tr>\n",
       "                        <th id=\"T_2419d39e_d5b6_11ea_8811_38f9d3db5c17level0_row3\" class=\"row_heading level0 row3\" >3</th>\n",
       "                        <td id=\"T_2419d39e_d5b6_11ea_8811_38f9d3db5c17row3_col0\" class=\"data row3 col0\" >1.0000</td>\n",
       "                        <td id=\"T_2419d39e_d5b6_11ea_8811_38f9d3db5c17row3_col1\" class=\"data row3 col1\" >0.0000</td>\n",
       "                        <td id=\"T_2419d39e_d5b6_11ea_8811_38f9d3db5c17row3_col2\" class=\"data row3 col2\" >1.0000</td>\n",
       "                        <td id=\"T_2419d39e_d5b6_11ea_8811_38f9d3db5c17row3_col3\" class=\"data row3 col3\" >1.0000</td>\n",
       "                        <td id=\"T_2419d39e_d5b6_11ea_8811_38f9d3db5c17row3_col4\" class=\"data row3 col4\" >1.0000</td>\n",
       "                        <td id=\"T_2419d39e_d5b6_11ea_8811_38f9d3db5c17row3_col5\" class=\"data row3 col5\" >1.0000</td>\n",
       "                        <td id=\"T_2419d39e_d5b6_11ea_8811_38f9d3db5c17row3_col6\" class=\"data row3 col6\" >1.0000</td>\n",
       "            </tr>\n",
       "            <tr>\n",
       "                        <th id=\"T_2419d39e_d5b6_11ea_8811_38f9d3db5c17level0_row4\" class=\"row_heading level0 row4\" >4</th>\n",
       "                        <td id=\"T_2419d39e_d5b6_11ea_8811_38f9d3db5c17row4_col0\" class=\"data row4 col0\" >1.0000</td>\n",
       "                        <td id=\"T_2419d39e_d5b6_11ea_8811_38f9d3db5c17row4_col1\" class=\"data row4 col1\" >0.0000</td>\n",
       "                        <td id=\"T_2419d39e_d5b6_11ea_8811_38f9d3db5c17row4_col2\" class=\"data row4 col2\" >1.0000</td>\n",
       "                        <td id=\"T_2419d39e_d5b6_11ea_8811_38f9d3db5c17row4_col3\" class=\"data row4 col3\" >1.0000</td>\n",
       "                        <td id=\"T_2419d39e_d5b6_11ea_8811_38f9d3db5c17row4_col4\" class=\"data row4 col4\" >1.0000</td>\n",
       "                        <td id=\"T_2419d39e_d5b6_11ea_8811_38f9d3db5c17row4_col5\" class=\"data row4 col5\" >1.0000</td>\n",
       "                        <td id=\"T_2419d39e_d5b6_11ea_8811_38f9d3db5c17row4_col6\" class=\"data row4 col6\" >1.0000</td>\n",
       "            </tr>\n",
       "            <tr>\n",
       "                        <th id=\"T_2419d39e_d5b6_11ea_8811_38f9d3db5c17level0_row5\" class=\"row_heading level0 row5\" >5</th>\n",
       "                        <td id=\"T_2419d39e_d5b6_11ea_8811_38f9d3db5c17row5_col0\" class=\"data row5 col0\" >1.0000</td>\n",
       "                        <td id=\"T_2419d39e_d5b6_11ea_8811_38f9d3db5c17row5_col1\" class=\"data row5 col1\" >0.0000</td>\n",
       "                        <td id=\"T_2419d39e_d5b6_11ea_8811_38f9d3db5c17row5_col2\" class=\"data row5 col2\" >1.0000</td>\n",
       "                        <td id=\"T_2419d39e_d5b6_11ea_8811_38f9d3db5c17row5_col3\" class=\"data row5 col3\" >1.0000</td>\n",
       "                        <td id=\"T_2419d39e_d5b6_11ea_8811_38f9d3db5c17row5_col4\" class=\"data row5 col4\" >1.0000</td>\n",
       "                        <td id=\"T_2419d39e_d5b6_11ea_8811_38f9d3db5c17row5_col5\" class=\"data row5 col5\" >1.0000</td>\n",
       "                        <td id=\"T_2419d39e_d5b6_11ea_8811_38f9d3db5c17row5_col6\" class=\"data row5 col6\" >1.0000</td>\n",
       "            </tr>\n",
       "            <tr>\n",
       "                        <th id=\"T_2419d39e_d5b6_11ea_8811_38f9d3db5c17level0_row6\" class=\"row_heading level0 row6\" >6</th>\n",
       "                        <td id=\"T_2419d39e_d5b6_11ea_8811_38f9d3db5c17row6_col0\" class=\"data row6 col0\" >1.0000</td>\n",
       "                        <td id=\"T_2419d39e_d5b6_11ea_8811_38f9d3db5c17row6_col1\" class=\"data row6 col1\" >0.0000</td>\n",
       "                        <td id=\"T_2419d39e_d5b6_11ea_8811_38f9d3db5c17row6_col2\" class=\"data row6 col2\" >1.0000</td>\n",
       "                        <td id=\"T_2419d39e_d5b6_11ea_8811_38f9d3db5c17row6_col3\" class=\"data row6 col3\" >1.0000</td>\n",
       "                        <td id=\"T_2419d39e_d5b6_11ea_8811_38f9d3db5c17row6_col4\" class=\"data row6 col4\" >1.0000</td>\n",
       "                        <td id=\"T_2419d39e_d5b6_11ea_8811_38f9d3db5c17row6_col5\" class=\"data row6 col5\" >1.0000</td>\n",
       "                        <td id=\"T_2419d39e_d5b6_11ea_8811_38f9d3db5c17row6_col6\" class=\"data row6 col6\" >1.0000</td>\n",
       "            </tr>\n",
       "            <tr>\n",
       "                        <th id=\"T_2419d39e_d5b6_11ea_8811_38f9d3db5c17level0_row7\" class=\"row_heading level0 row7\" >7</th>\n",
       "                        <td id=\"T_2419d39e_d5b6_11ea_8811_38f9d3db5c17row7_col0\" class=\"data row7 col0\" >1.0000</td>\n",
       "                        <td id=\"T_2419d39e_d5b6_11ea_8811_38f9d3db5c17row7_col1\" class=\"data row7 col1\" >0.0000</td>\n",
       "                        <td id=\"T_2419d39e_d5b6_11ea_8811_38f9d3db5c17row7_col2\" class=\"data row7 col2\" >1.0000</td>\n",
       "                        <td id=\"T_2419d39e_d5b6_11ea_8811_38f9d3db5c17row7_col3\" class=\"data row7 col3\" >1.0000</td>\n",
       "                        <td id=\"T_2419d39e_d5b6_11ea_8811_38f9d3db5c17row7_col4\" class=\"data row7 col4\" >1.0000</td>\n",
       "                        <td id=\"T_2419d39e_d5b6_11ea_8811_38f9d3db5c17row7_col5\" class=\"data row7 col5\" >1.0000</td>\n",
       "                        <td id=\"T_2419d39e_d5b6_11ea_8811_38f9d3db5c17row7_col6\" class=\"data row7 col6\" >1.0000</td>\n",
       "            </tr>\n",
       "            <tr>\n",
       "                        <th id=\"T_2419d39e_d5b6_11ea_8811_38f9d3db5c17level0_row8\" class=\"row_heading level0 row8\" >8</th>\n",
       "                        <td id=\"T_2419d39e_d5b6_11ea_8811_38f9d3db5c17row8_col0\" class=\"data row8 col0\" >1.0000</td>\n",
       "                        <td id=\"T_2419d39e_d5b6_11ea_8811_38f9d3db5c17row8_col1\" class=\"data row8 col1\" >0.0000</td>\n",
       "                        <td id=\"T_2419d39e_d5b6_11ea_8811_38f9d3db5c17row8_col2\" class=\"data row8 col2\" >1.0000</td>\n",
       "                        <td id=\"T_2419d39e_d5b6_11ea_8811_38f9d3db5c17row8_col3\" class=\"data row8 col3\" >1.0000</td>\n",
       "                        <td id=\"T_2419d39e_d5b6_11ea_8811_38f9d3db5c17row8_col4\" class=\"data row8 col4\" >1.0000</td>\n",
       "                        <td id=\"T_2419d39e_d5b6_11ea_8811_38f9d3db5c17row8_col5\" class=\"data row8 col5\" >1.0000</td>\n",
       "                        <td id=\"T_2419d39e_d5b6_11ea_8811_38f9d3db5c17row8_col6\" class=\"data row8 col6\" >1.0000</td>\n",
       "            </tr>\n",
       "            <tr>\n",
       "                        <th id=\"T_2419d39e_d5b6_11ea_8811_38f9d3db5c17level0_row9\" class=\"row_heading level0 row9\" >9</th>\n",
       "                        <td id=\"T_2419d39e_d5b6_11ea_8811_38f9d3db5c17row9_col0\" class=\"data row9 col0\" >1.0000</td>\n",
       "                        <td id=\"T_2419d39e_d5b6_11ea_8811_38f9d3db5c17row9_col1\" class=\"data row9 col1\" >0.0000</td>\n",
       "                        <td id=\"T_2419d39e_d5b6_11ea_8811_38f9d3db5c17row9_col2\" class=\"data row9 col2\" >1.0000</td>\n",
       "                        <td id=\"T_2419d39e_d5b6_11ea_8811_38f9d3db5c17row9_col3\" class=\"data row9 col3\" >1.0000</td>\n",
       "                        <td id=\"T_2419d39e_d5b6_11ea_8811_38f9d3db5c17row9_col4\" class=\"data row9 col4\" >1.0000</td>\n",
       "                        <td id=\"T_2419d39e_d5b6_11ea_8811_38f9d3db5c17row9_col5\" class=\"data row9 col5\" >1.0000</td>\n",
       "                        <td id=\"T_2419d39e_d5b6_11ea_8811_38f9d3db5c17row9_col6\" class=\"data row9 col6\" >1.0000</td>\n",
       "            </tr>\n",
       "            <tr>\n",
       "                        <th id=\"T_2419d39e_d5b6_11ea_8811_38f9d3db5c17level0_row10\" class=\"row_heading level0 row10\" >Mean</th>\n",
       "                        <td id=\"T_2419d39e_d5b6_11ea_8811_38f9d3db5c17row10_col0\" class=\"data row10 col0\" >0.9818</td>\n",
       "                        <td id=\"T_2419d39e_d5b6_11ea_8811_38f9d3db5c17row10_col1\" class=\"data row10 col1\" >0.0000</td>\n",
       "                        <td id=\"T_2419d39e_d5b6_11ea_8811_38f9d3db5c17row10_col2\" class=\"data row10 col2\" >0.9833</td>\n",
       "                        <td id=\"T_2419d39e_d5b6_11ea_8811_38f9d3db5c17row10_col3\" class=\"data row10 col3\" >0.9818</td>\n",
       "                        <td id=\"T_2419d39e_d5b6_11ea_8811_38f9d3db5c17row10_col4\" class=\"data row10 col4\" >0.9818</td>\n",
       "                        <td id=\"T_2419d39e_d5b6_11ea_8811_38f9d3db5c17row10_col5\" class=\"data row10 col5\" >0.9725</td>\n",
       "                        <td id=\"T_2419d39e_d5b6_11ea_8811_38f9d3db5c17row10_col6\" class=\"data row10 col6\" >0.9725</td>\n",
       "            </tr>\n",
       "            <tr>\n",
       "                        <th id=\"T_2419d39e_d5b6_11ea_8811_38f9d3db5c17level0_row11\" class=\"row_heading level0 row11\" >SD</th>\n",
       "                        <td id=\"T_2419d39e_d5b6_11ea_8811_38f9d3db5c17row11_col0\" class=\"data row11 col0\" >0.0545</td>\n",
       "                        <td id=\"T_2419d39e_d5b6_11ea_8811_38f9d3db5c17row11_col1\" class=\"data row11 col1\" >0.0000</td>\n",
       "                        <td id=\"T_2419d39e_d5b6_11ea_8811_38f9d3db5c17row11_col2\" class=\"data row11 col2\" >0.0500</td>\n",
       "                        <td id=\"T_2419d39e_d5b6_11ea_8811_38f9d3db5c17row11_col3\" class=\"data row11 col3\" >0.0545</td>\n",
       "                        <td id=\"T_2419d39e_d5b6_11ea_8811_38f9d3db5c17row11_col4\" class=\"data row11 col4\" >0.0545</td>\n",
       "                        <td id=\"T_2419d39e_d5b6_11ea_8811_38f9d3db5c17row11_col5\" class=\"data row11 col5\" >0.0825</td>\n",
       "                        <td id=\"T_2419d39e_d5b6_11ea_8811_38f9d3db5c17row11_col6\" class=\"data row11 col6\" >0.0825</td>\n",
       "            </tr>\n",
       "    </tbody></table>"
      ],
      "text/plain": [
       "<pandas.io.formats.style.Styler at 0x129734a90>"
      ]
     },
     "metadata": {},
     "output_type": "display_data"
    }
   ],
   "source": [
    "# automatically tune model\n",
    "tuned_classification_model = classification.tune_model(\n",
    "    estimator=classification_model,\n",
    "    n_iter=100\n",
    ")"
   ]
  },
  {
   "cell_type": "code",
   "execution_count": 39,
   "metadata": {},
   "outputs": [
    {
     "data": {
      "application/vnd.jupyter.widget-view+json": {
       "model_id": "8bf51d73bb0d49f9a207240110beb8c3",
       "version_major": 2,
       "version_minor": 0
      },
      "text/plain": [
       "interactive(children=(ToggleButtons(description='Plot Type:', icons=('',), options=(('Hyperparameters', 'param…"
      ]
     },
     "metadata": {},
     "output_type": "display_data"
    }
   ],
   "source": [
    "# model evaluation plots\n",
    "classification.evaluate_model(\n",
    "    estimator=tuned_classification_model\n",
    ")"
   ]
  },
  {
   "cell_type": "code",
   "execution_count": 40,
   "metadata": {},
   "outputs": [
    {
     "data": {
      "text/html": [
       "<div>\n",
       "<style scoped>\n",
       "    .dataframe tbody tr th:only-of-type {\n",
       "        vertical-align: middle;\n",
       "    }\n",
       "\n",
       "    .dataframe tbody tr th {\n",
       "        vertical-align: top;\n",
       "    }\n",
       "\n",
       "    .dataframe thead th {\n",
       "        text-align: right;\n",
       "    }\n",
       "</style>\n",
       "<table border=\"1\" class=\"dataframe\">\n",
       "  <thead>\n",
       "    <tr style=\"text-align: right;\">\n",
       "      <th></th>\n",
       "      <th>Model</th>\n",
       "      <th>Accuracy</th>\n",
       "      <th>AUC</th>\n",
       "      <th>Recall</th>\n",
       "      <th>Prec.</th>\n",
       "      <th>F1</th>\n",
       "      <th>Kappa</th>\n",
       "      <th>MCC</th>\n",
       "    </tr>\n",
       "  </thead>\n",
       "  <tbody>\n",
       "    <tr>\n",
       "      <th>0</th>\n",
       "      <td>One Vs Rest Classifier</td>\n",
       "      <td>0.913</td>\n",
       "      <td>0</td>\n",
       "      <td>0.9167</td>\n",
       "      <td>0.9314</td>\n",
       "      <td>0.9119</td>\n",
       "      <td>0.8699</td>\n",
       "      <td>0.8799</td>\n",
       "    </tr>\n",
       "  </tbody>\n",
       "</table>\n",
       "</div>"
      ],
      "text/plain": [
       "                    Model  Accuracy  AUC  Recall   Prec.      F1   Kappa  \\\n",
       "0  One Vs Rest Classifier     0.913    0  0.9167  0.9314  0.9119  0.8699   \n",
       "\n",
       "      MCC  \n",
       "0  0.8799  "
      ]
     },
     "metadata": {},
     "output_type": "display_data"
    }
   ],
   "source": [
    "# test set prediction\n",
    "test_predictions = classification.predict_model(\n",
    "    estimator=tuned_classification_model,\n",
    ")"
   ]
  },
  {
   "cell_type": "code",
   "execution_count": 41,
   "metadata": {},
   "outputs": [],
   "source": [
    "# finalize model\n",
    "final_classification_model = classification.finalize_model(\n",
    "    estimator=tuned_classification_model\n",
    ")"
   ]
  },
  {
   "cell_type": "code",
   "execution_count": 42,
   "metadata": {},
   "outputs": [
    {
     "name": "stdout",
     "output_type": "stream",
     "text": [
      "OneVsRestClassifier(estimator=XGBClassifier(base_score=0.5, booster='gbtree',\n",
      "                                            colsample_bylevel=1,\n",
      "                                            colsample_bynode=1,\n",
      "                                            colsample_bytree=0.9, gamma=0,\n",
      "                                            gpu_id=-1, importance_type='gain',\n",
      "                                            interaction_constraints='',\n",
      "                                            learning_rate=0.17,\n",
      "                                            max_delta_step=0, max_depth=110,\n",
      "                                            min_child_weight=1, missing=nan,\n",
      "                                            monotone_constraints='()',\n",
      "                                            n_estimators=490, n_jobs=-1,\n",
      "                                            num_class=3, num_parallel_tree=1,\n",
      "                                            objective='multi:softprob',\n",
      "                                            random_state=1370, reg_alpha=0,\n",
      "                                            reg_lambda=1, scale_pos_weight=None,\n",
      "                                            subsample=1, tree_method='exact',\n",
      "                                            validate_parameters=1,\n",
      "                                            verbosity=0),\n",
      "                    n_jobs=None)\n"
     ]
    }
   ],
   "source": [
    "# display model\n",
    "print(final_classification_model)"
   ]
  },
  {
   "cell_type": "markdown",
   "metadata": {},
   "source": [
    "# regression"
   ]
  },
  {
   "cell_type": "code",
   "execution_count": 43,
   "metadata": {},
   "outputs": [
    {
     "name": "stdout",
     "output_type": "stream",
     "text": [
      " \n",
      "Setup Succesfully Completed.\n"
     ]
    },
    {
     "data": {
      "text/html": [
       "<style  type=\"text/css\" >\n",
       "    #T_2fcd6282_d5b6_11ea_8811_38f9d3db5c17row7_col1 {\n",
       "            background-color:  yellow;\n",
       "        }    #T_2fcd6282_d5b6_11ea_8811_38f9d3db5c17row15_col1 {\n",
       "            background-color:  yellow;\n",
       "        }    #T_2fcd6282_d5b6_11ea_8811_38f9d3db5c17row32_col1 {\n",
       "            background-color:  yellow;\n",
       "        }</style><table id=\"T_2fcd6282_d5b6_11ea_8811_38f9d3db5c17\" ><thead>    <tr>        <th class=\"blank level0\" ></th>        <th class=\"col_heading level0 col0\" >Description</th>        <th class=\"col_heading level0 col1\" >Value</th>    </tr></thead><tbody>\n",
       "                <tr>\n",
       "                        <th id=\"T_2fcd6282_d5b6_11ea_8811_38f9d3db5c17level0_row0\" class=\"row_heading level0 row0\" >0</th>\n",
       "                        <td id=\"T_2fcd6282_d5b6_11ea_8811_38f9d3db5c17row0_col0\" class=\"data row0 col0\" >session_id</td>\n",
       "                        <td id=\"T_2fcd6282_d5b6_11ea_8811_38f9d3db5c17row0_col1\" class=\"data row0 col1\" >1869</td>\n",
       "            </tr>\n",
       "            <tr>\n",
       "                        <th id=\"T_2fcd6282_d5b6_11ea_8811_38f9d3db5c17level0_row1\" class=\"row_heading level0 row1\" >1</th>\n",
       "                        <td id=\"T_2fcd6282_d5b6_11ea_8811_38f9d3db5c17row1_col0\" class=\"data row1 col0\" >Transform Target </td>\n",
       "                        <td id=\"T_2fcd6282_d5b6_11ea_8811_38f9d3db5c17row1_col1\" class=\"data row1 col1\" >False</td>\n",
       "            </tr>\n",
       "            <tr>\n",
       "                        <th id=\"T_2fcd6282_d5b6_11ea_8811_38f9d3db5c17level0_row2\" class=\"row_heading level0 row2\" >2</th>\n",
       "                        <td id=\"T_2fcd6282_d5b6_11ea_8811_38f9d3db5c17row2_col0\" class=\"data row2 col0\" >Transform Target Method</td>\n",
       "                        <td id=\"T_2fcd6282_d5b6_11ea_8811_38f9d3db5c17row2_col1\" class=\"data row2 col1\" >None</td>\n",
       "            </tr>\n",
       "            <tr>\n",
       "                        <th id=\"T_2fcd6282_d5b6_11ea_8811_38f9d3db5c17level0_row3\" class=\"row_heading level0 row3\" >3</th>\n",
       "                        <td id=\"T_2fcd6282_d5b6_11ea_8811_38f9d3db5c17row3_col0\" class=\"data row3 col0\" >Original Data</td>\n",
       "                        <td id=\"T_2fcd6282_d5b6_11ea_8811_38f9d3db5c17row3_col1\" class=\"data row3 col1\" >(53940, 10)</td>\n",
       "            </tr>\n",
       "            <tr>\n",
       "                        <th id=\"T_2fcd6282_d5b6_11ea_8811_38f9d3db5c17level0_row4\" class=\"row_heading level0 row4\" >4</th>\n",
       "                        <td id=\"T_2fcd6282_d5b6_11ea_8811_38f9d3db5c17row4_col0\" class=\"data row4 col0\" >Missing Values </td>\n",
       "                        <td id=\"T_2fcd6282_d5b6_11ea_8811_38f9d3db5c17row4_col1\" class=\"data row4 col1\" >False</td>\n",
       "            </tr>\n",
       "            <tr>\n",
       "                        <th id=\"T_2fcd6282_d5b6_11ea_8811_38f9d3db5c17level0_row5\" class=\"row_heading level0 row5\" >5</th>\n",
       "                        <td id=\"T_2fcd6282_d5b6_11ea_8811_38f9d3db5c17row5_col0\" class=\"data row5 col0\" >Numeric Features </td>\n",
       "                        <td id=\"T_2fcd6282_d5b6_11ea_8811_38f9d3db5c17row5_col1\" class=\"data row5 col1\" >6</td>\n",
       "            </tr>\n",
       "            <tr>\n",
       "                        <th id=\"T_2fcd6282_d5b6_11ea_8811_38f9d3db5c17level0_row6\" class=\"row_heading level0 row6\" >6</th>\n",
       "                        <td id=\"T_2fcd6282_d5b6_11ea_8811_38f9d3db5c17row6_col0\" class=\"data row6 col0\" >Categorical Features </td>\n",
       "                        <td id=\"T_2fcd6282_d5b6_11ea_8811_38f9d3db5c17row6_col1\" class=\"data row6 col1\" >3</td>\n",
       "            </tr>\n",
       "            <tr>\n",
       "                        <th id=\"T_2fcd6282_d5b6_11ea_8811_38f9d3db5c17level0_row7\" class=\"row_heading level0 row7\" >7</th>\n",
       "                        <td id=\"T_2fcd6282_d5b6_11ea_8811_38f9d3db5c17row7_col0\" class=\"data row7 col0\" >Ordinal Features </td>\n",
       "                        <td id=\"T_2fcd6282_d5b6_11ea_8811_38f9d3db5c17row7_col1\" class=\"data row7 col1\" >True</td>\n",
       "            </tr>\n",
       "            <tr>\n",
       "                        <th id=\"T_2fcd6282_d5b6_11ea_8811_38f9d3db5c17level0_row8\" class=\"row_heading level0 row8\" >8</th>\n",
       "                        <td id=\"T_2fcd6282_d5b6_11ea_8811_38f9d3db5c17row8_col0\" class=\"data row8 col0\" >High Cardinality Features </td>\n",
       "                        <td id=\"T_2fcd6282_d5b6_11ea_8811_38f9d3db5c17row8_col1\" class=\"data row8 col1\" >False</td>\n",
       "            </tr>\n",
       "            <tr>\n",
       "                        <th id=\"T_2fcd6282_d5b6_11ea_8811_38f9d3db5c17level0_row9\" class=\"row_heading level0 row9\" >9</th>\n",
       "                        <td id=\"T_2fcd6282_d5b6_11ea_8811_38f9d3db5c17row9_col0\" class=\"data row9 col0\" >High Cardinality Method </td>\n",
       "                        <td id=\"T_2fcd6282_d5b6_11ea_8811_38f9d3db5c17row9_col1\" class=\"data row9 col1\" >None</td>\n",
       "            </tr>\n",
       "            <tr>\n",
       "                        <th id=\"T_2fcd6282_d5b6_11ea_8811_38f9d3db5c17level0_row10\" class=\"row_heading level0 row10\" >10</th>\n",
       "                        <td id=\"T_2fcd6282_d5b6_11ea_8811_38f9d3db5c17row10_col0\" class=\"data row10 col0\" >Sampled Data</td>\n",
       "                        <td id=\"T_2fcd6282_d5b6_11ea_8811_38f9d3db5c17row10_col1\" class=\"data row10 col1\" >(16182, 10)</td>\n",
       "            </tr>\n",
       "            <tr>\n",
       "                        <th id=\"T_2fcd6282_d5b6_11ea_8811_38f9d3db5c17level0_row11\" class=\"row_heading level0 row11\" >11</th>\n",
       "                        <td id=\"T_2fcd6282_d5b6_11ea_8811_38f9d3db5c17row11_col0\" class=\"data row11 col0\" >Transformed Train Set</td>\n",
       "                        <td id=\"T_2fcd6282_d5b6_11ea_8811_38f9d3db5c17row11_col1\" class=\"data row11 col1\" >(11327, 12)</td>\n",
       "            </tr>\n",
       "            <tr>\n",
       "                        <th id=\"T_2fcd6282_d5b6_11ea_8811_38f9d3db5c17level0_row12\" class=\"row_heading level0 row12\" >12</th>\n",
       "                        <td id=\"T_2fcd6282_d5b6_11ea_8811_38f9d3db5c17row12_col0\" class=\"data row12 col0\" >Transformed Test Set</td>\n",
       "                        <td id=\"T_2fcd6282_d5b6_11ea_8811_38f9d3db5c17row12_col1\" class=\"data row12 col1\" >(4855, 12)</td>\n",
       "            </tr>\n",
       "            <tr>\n",
       "                        <th id=\"T_2fcd6282_d5b6_11ea_8811_38f9d3db5c17level0_row13\" class=\"row_heading level0 row13\" >13</th>\n",
       "                        <td id=\"T_2fcd6282_d5b6_11ea_8811_38f9d3db5c17row13_col0\" class=\"data row13 col0\" >Numeric Imputer </td>\n",
       "                        <td id=\"T_2fcd6282_d5b6_11ea_8811_38f9d3db5c17row13_col1\" class=\"data row13 col1\" >mean</td>\n",
       "            </tr>\n",
       "            <tr>\n",
       "                        <th id=\"T_2fcd6282_d5b6_11ea_8811_38f9d3db5c17level0_row14\" class=\"row_heading level0 row14\" >14</th>\n",
       "                        <td id=\"T_2fcd6282_d5b6_11ea_8811_38f9d3db5c17row14_col0\" class=\"data row14 col0\" >Categorical Imputer </td>\n",
       "                        <td id=\"T_2fcd6282_d5b6_11ea_8811_38f9d3db5c17row14_col1\" class=\"data row14 col1\" >constant</td>\n",
       "            </tr>\n",
       "            <tr>\n",
       "                        <th id=\"T_2fcd6282_d5b6_11ea_8811_38f9d3db5c17level0_row15\" class=\"row_heading level0 row15\" >15</th>\n",
       "                        <td id=\"T_2fcd6282_d5b6_11ea_8811_38f9d3db5c17row15_col0\" class=\"data row15 col0\" >Normalize </td>\n",
       "                        <td id=\"T_2fcd6282_d5b6_11ea_8811_38f9d3db5c17row15_col1\" class=\"data row15 col1\" >True</td>\n",
       "            </tr>\n",
       "            <tr>\n",
       "                        <th id=\"T_2fcd6282_d5b6_11ea_8811_38f9d3db5c17level0_row16\" class=\"row_heading level0 row16\" >16</th>\n",
       "                        <td id=\"T_2fcd6282_d5b6_11ea_8811_38f9d3db5c17row16_col0\" class=\"data row16 col0\" >Normalize Method </td>\n",
       "                        <td id=\"T_2fcd6282_d5b6_11ea_8811_38f9d3db5c17row16_col1\" class=\"data row16 col1\" >zscore</td>\n",
       "            </tr>\n",
       "            <tr>\n",
       "                        <th id=\"T_2fcd6282_d5b6_11ea_8811_38f9d3db5c17level0_row17\" class=\"row_heading level0 row17\" >17</th>\n",
       "                        <td id=\"T_2fcd6282_d5b6_11ea_8811_38f9d3db5c17row17_col0\" class=\"data row17 col0\" >Transformation </td>\n",
       "                        <td id=\"T_2fcd6282_d5b6_11ea_8811_38f9d3db5c17row17_col1\" class=\"data row17 col1\" >False</td>\n",
       "            </tr>\n",
       "            <tr>\n",
       "                        <th id=\"T_2fcd6282_d5b6_11ea_8811_38f9d3db5c17level0_row18\" class=\"row_heading level0 row18\" >18</th>\n",
       "                        <td id=\"T_2fcd6282_d5b6_11ea_8811_38f9d3db5c17row18_col0\" class=\"data row18 col0\" >Transformation Method </td>\n",
       "                        <td id=\"T_2fcd6282_d5b6_11ea_8811_38f9d3db5c17row18_col1\" class=\"data row18 col1\" >None</td>\n",
       "            </tr>\n",
       "            <tr>\n",
       "                        <th id=\"T_2fcd6282_d5b6_11ea_8811_38f9d3db5c17level0_row19\" class=\"row_heading level0 row19\" >19</th>\n",
       "                        <td id=\"T_2fcd6282_d5b6_11ea_8811_38f9d3db5c17row19_col0\" class=\"data row19 col0\" >PCA </td>\n",
       "                        <td id=\"T_2fcd6282_d5b6_11ea_8811_38f9d3db5c17row19_col1\" class=\"data row19 col1\" >False</td>\n",
       "            </tr>\n",
       "            <tr>\n",
       "                        <th id=\"T_2fcd6282_d5b6_11ea_8811_38f9d3db5c17level0_row20\" class=\"row_heading level0 row20\" >20</th>\n",
       "                        <td id=\"T_2fcd6282_d5b6_11ea_8811_38f9d3db5c17row20_col0\" class=\"data row20 col0\" >PCA Method </td>\n",
       "                        <td id=\"T_2fcd6282_d5b6_11ea_8811_38f9d3db5c17row20_col1\" class=\"data row20 col1\" >None</td>\n",
       "            </tr>\n",
       "            <tr>\n",
       "                        <th id=\"T_2fcd6282_d5b6_11ea_8811_38f9d3db5c17level0_row21\" class=\"row_heading level0 row21\" >21</th>\n",
       "                        <td id=\"T_2fcd6282_d5b6_11ea_8811_38f9d3db5c17row21_col0\" class=\"data row21 col0\" >PCA Components </td>\n",
       "                        <td id=\"T_2fcd6282_d5b6_11ea_8811_38f9d3db5c17row21_col1\" class=\"data row21 col1\" >None</td>\n",
       "            </tr>\n",
       "            <tr>\n",
       "                        <th id=\"T_2fcd6282_d5b6_11ea_8811_38f9d3db5c17level0_row22\" class=\"row_heading level0 row22\" >22</th>\n",
       "                        <td id=\"T_2fcd6282_d5b6_11ea_8811_38f9d3db5c17row22_col0\" class=\"data row22 col0\" >Ignore Low Variance </td>\n",
       "                        <td id=\"T_2fcd6282_d5b6_11ea_8811_38f9d3db5c17row22_col1\" class=\"data row22 col1\" >False</td>\n",
       "            </tr>\n",
       "            <tr>\n",
       "                        <th id=\"T_2fcd6282_d5b6_11ea_8811_38f9d3db5c17level0_row23\" class=\"row_heading level0 row23\" >23</th>\n",
       "                        <td id=\"T_2fcd6282_d5b6_11ea_8811_38f9d3db5c17row23_col0\" class=\"data row23 col0\" >Combine Rare Levels </td>\n",
       "                        <td id=\"T_2fcd6282_d5b6_11ea_8811_38f9d3db5c17row23_col1\" class=\"data row23 col1\" >False</td>\n",
       "            </tr>\n",
       "            <tr>\n",
       "                        <th id=\"T_2fcd6282_d5b6_11ea_8811_38f9d3db5c17level0_row24\" class=\"row_heading level0 row24\" >24</th>\n",
       "                        <td id=\"T_2fcd6282_d5b6_11ea_8811_38f9d3db5c17row24_col0\" class=\"data row24 col0\" >Rare Level Threshold </td>\n",
       "                        <td id=\"T_2fcd6282_d5b6_11ea_8811_38f9d3db5c17row24_col1\" class=\"data row24 col1\" >None</td>\n",
       "            </tr>\n",
       "            <tr>\n",
       "                        <th id=\"T_2fcd6282_d5b6_11ea_8811_38f9d3db5c17level0_row25\" class=\"row_heading level0 row25\" >25</th>\n",
       "                        <td id=\"T_2fcd6282_d5b6_11ea_8811_38f9d3db5c17row25_col0\" class=\"data row25 col0\" >Numeric Binning </td>\n",
       "                        <td id=\"T_2fcd6282_d5b6_11ea_8811_38f9d3db5c17row25_col1\" class=\"data row25 col1\" >False</td>\n",
       "            </tr>\n",
       "            <tr>\n",
       "                        <th id=\"T_2fcd6282_d5b6_11ea_8811_38f9d3db5c17level0_row26\" class=\"row_heading level0 row26\" >26</th>\n",
       "                        <td id=\"T_2fcd6282_d5b6_11ea_8811_38f9d3db5c17row26_col0\" class=\"data row26 col0\" >Remove Outliers </td>\n",
       "                        <td id=\"T_2fcd6282_d5b6_11ea_8811_38f9d3db5c17row26_col1\" class=\"data row26 col1\" >False</td>\n",
       "            </tr>\n",
       "            <tr>\n",
       "                        <th id=\"T_2fcd6282_d5b6_11ea_8811_38f9d3db5c17level0_row27\" class=\"row_heading level0 row27\" >27</th>\n",
       "                        <td id=\"T_2fcd6282_d5b6_11ea_8811_38f9d3db5c17row27_col0\" class=\"data row27 col0\" >Outliers Threshold </td>\n",
       "                        <td id=\"T_2fcd6282_d5b6_11ea_8811_38f9d3db5c17row27_col1\" class=\"data row27 col1\" >None</td>\n",
       "            </tr>\n",
       "            <tr>\n",
       "                        <th id=\"T_2fcd6282_d5b6_11ea_8811_38f9d3db5c17level0_row28\" class=\"row_heading level0 row28\" >28</th>\n",
       "                        <td id=\"T_2fcd6282_d5b6_11ea_8811_38f9d3db5c17row28_col0\" class=\"data row28 col0\" >Remove Multicollinearity </td>\n",
       "                        <td id=\"T_2fcd6282_d5b6_11ea_8811_38f9d3db5c17row28_col1\" class=\"data row28 col1\" >False</td>\n",
       "            </tr>\n",
       "            <tr>\n",
       "                        <th id=\"T_2fcd6282_d5b6_11ea_8811_38f9d3db5c17level0_row29\" class=\"row_heading level0 row29\" >29</th>\n",
       "                        <td id=\"T_2fcd6282_d5b6_11ea_8811_38f9d3db5c17row29_col0\" class=\"data row29 col0\" >Multicollinearity Threshold </td>\n",
       "                        <td id=\"T_2fcd6282_d5b6_11ea_8811_38f9d3db5c17row29_col1\" class=\"data row29 col1\" >None</td>\n",
       "            </tr>\n",
       "            <tr>\n",
       "                        <th id=\"T_2fcd6282_d5b6_11ea_8811_38f9d3db5c17level0_row30\" class=\"row_heading level0 row30\" >30</th>\n",
       "                        <td id=\"T_2fcd6282_d5b6_11ea_8811_38f9d3db5c17row30_col0\" class=\"data row30 col0\" >Clustering </td>\n",
       "                        <td id=\"T_2fcd6282_d5b6_11ea_8811_38f9d3db5c17row30_col1\" class=\"data row30 col1\" >False</td>\n",
       "            </tr>\n",
       "            <tr>\n",
       "                        <th id=\"T_2fcd6282_d5b6_11ea_8811_38f9d3db5c17level0_row31\" class=\"row_heading level0 row31\" >31</th>\n",
       "                        <td id=\"T_2fcd6282_d5b6_11ea_8811_38f9d3db5c17row31_col0\" class=\"data row31 col0\" >Clustering Iteration </td>\n",
       "                        <td id=\"T_2fcd6282_d5b6_11ea_8811_38f9d3db5c17row31_col1\" class=\"data row31 col1\" >None</td>\n",
       "            </tr>\n",
       "            <tr>\n",
       "                        <th id=\"T_2fcd6282_d5b6_11ea_8811_38f9d3db5c17level0_row32\" class=\"row_heading level0 row32\" >32</th>\n",
       "                        <td id=\"T_2fcd6282_d5b6_11ea_8811_38f9d3db5c17row32_col0\" class=\"data row32 col0\" >Polynomial Features </td>\n",
       "                        <td id=\"T_2fcd6282_d5b6_11ea_8811_38f9d3db5c17row32_col1\" class=\"data row32 col1\" >True</td>\n",
       "            </tr>\n",
       "            <tr>\n",
       "                        <th id=\"T_2fcd6282_d5b6_11ea_8811_38f9d3db5c17level0_row33\" class=\"row_heading level0 row33\" >33</th>\n",
       "                        <td id=\"T_2fcd6282_d5b6_11ea_8811_38f9d3db5c17row33_col0\" class=\"data row33 col0\" >Polynomial Degree </td>\n",
       "                        <td id=\"T_2fcd6282_d5b6_11ea_8811_38f9d3db5c17row33_col1\" class=\"data row33 col1\" >2</td>\n",
       "            </tr>\n",
       "            <tr>\n",
       "                        <th id=\"T_2fcd6282_d5b6_11ea_8811_38f9d3db5c17level0_row34\" class=\"row_heading level0 row34\" >34</th>\n",
       "                        <td id=\"T_2fcd6282_d5b6_11ea_8811_38f9d3db5c17row34_col0\" class=\"data row34 col0\" >Trignometry Features </td>\n",
       "                        <td id=\"T_2fcd6282_d5b6_11ea_8811_38f9d3db5c17row34_col1\" class=\"data row34 col1\" >False</td>\n",
       "            </tr>\n",
       "            <tr>\n",
       "                        <th id=\"T_2fcd6282_d5b6_11ea_8811_38f9d3db5c17level0_row35\" class=\"row_heading level0 row35\" >35</th>\n",
       "                        <td id=\"T_2fcd6282_d5b6_11ea_8811_38f9d3db5c17row35_col0\" class=\"data row35 col0\" >Polynomial Threshold </td>\n",
       "                        <td id=\"T_2fcd6282_d5b6_11ea_8811_38f9d3db5c17row35_col1\" class=\"data row35 col1\" >0.100000</td>\n",
       "            </tr>\n",
       "            <tr>\n",
       "                        <th id=\"T_2fcd6282_d5b6_11ea_8811_38f9d3db5c17level0_row36\" class=\"row_heading level0 row36\" >36</th>\n",
       "                        <td id=\"T_2fcd6282_d5b6_11ea_8811_38f9d3db5c17row36_col0\" class=\"data row36 col0\" >Group Features </td>\n",
       "                        <td id=\"T_2fcd6282_d5b6_11ea_8811_38f9d3db5c17row36_col1\" class=\"data row36 col1\" >False</td>\n",
       "            </tr>\n",
       "            <tr>\n",
       "                        <th id=\"T_2fcd6282_d5b6_11ea_8811_38f9d3db5c17level0_row37\" class=\"row_heading level0 row37\" >37</th>\n",
       "                        <td id=\"T_2fcd6282_d5b6_11ea_8811_38f9d3db5c17row37_col0\" class=\"data row37 col0\" >Feature Selection </td>\n",
       "                        <td id=\"T_2fcd6282_d5b6_11ea_8811_38f9d3db5c17row37_col1\" class=\"data row37 col1\" >False</td>\n",
       "            </tr>\n",
       "            <tr>\n",
       "                        <th id=\"T_2fcd6282_d5b6_11ea_8811_38f9d3db5c17level0_row38\" class=\"row_heading level0 row38\" >38</th>\n",
       "                        <td id=\"T_2fcd6282_d5b6_11ea_8811_38f9d3db5c17row38_col0\" class=\"data row38 col0\" >Features Selection Threshold </td>\n",
       "                        <td id=\"T_2fcd6282_d5b6_11ea_8811_38f9d3db5c17row38_col1\" class=\"data row38 col1\" >None</td>\n",
       "            </tr>\n",
       "            <tr>\n",
       "                        <th id=\"T_2fcd6282_d5b6_11ea_8811_38f9d3db5c17level0_row39\" class=\"row_heading level0 row39\" >39</th>\n",
       "                        <td id=\"T_2fcd6282_d5b6_11ea_8811_38f9d3db5c17row39_col0\" class=\"data row39 col0\" >Feature Interaction </td>\n",
       "                        <td id=\"T_2fcd6282_d5b6_11ea_8811_38f9d3db5c17row39_col1\" class=\"data row39 col1\" >False</td>\n",
       "            </tr>\n",
       "            <tr>\n",
       "                        <th id=\"T_2fcd6282_d5b6_11ea_8811_38f9d3db5c17level0_row40\" class=\"row_heading level0 row40\" >40</th>\n",
       "                        <td id=\"T_2fcd6282_d5b6_11ea_8811_38f9d3db5c17row40_col0\" class=\"data row40 col0\" >Feature Ratio </td>\n",
       "                        <td id=\"T_2fcd6282_d5b6_11ea_8811_38f9d3db5c17row40_col1\" class=\"data row40 col1\" >False</td>\n",
       "            </tr>\n",
       "            <tr>\n",
       "                        <th id=\"T_2fcd6282_d5b6_11ea_8811_38f9d3db5c17level0_row41\" class=\"row_heading level0 row41\" >41</th>\n",
       "                        <td id=\"T_2fcd6282_d5b6_11ea_8811_38f9d3db5c17row41_col0\" class=\"data row41 col0\" >Interaction Threshold </td>\n",
       "                        <td id=\"T_2fcd6282_d5b6_11ea_8811_38f9d3db5c17row41_col1\" class=\"data row41 col1\" >None</td>\n",
       "            </tr>\n",
       "    </tbody></table>"
      ],
      "text/plain": [
       "<pandas.io.formats.style.Styler at 0x1298184c0>"
      ]
     },
     "metadata": {},
     "output_type": "display_data"
    }
   ],
   "source": [
    "# process dataset\n",
    "regression_experiment_1 = regression.setup(\n",
    "    data=df_diamonds,\n",
    "    target='price',\n",
    "    train_size=0.7,\n",
    "    normalize=True,\n",
    "    remove_perfect_collinearity=True,\n",
    "    polynomial_features=True,\n",
    "    polynomial_degree=2,\n",
    "    numeric_features=['carat','depth','table','x','y','z'],\n",
    "    ordinal_features={\n",
    "        'cut' : ['Fair','Good','Very Good','Premium','Ideal'],\n",
    "        'color' : ['J','I','H','G','F','E','D'],\n",
    "        'clarity': ['I1','SI2','SI1','VS2','VS1','VVS2','VVS1','IF'],\n",
    "        },\n",
    ")"
   ]
  },
  {
   "cell_type": "code",
   "execution_count": 44,
   "metadata": {},
   "outputs": [
    {
     "data": {
      "text/html": [
       "<style  type=\"text/css\" >\n",
       "    #T_d6669672_d5b6_11ea_8811_38f9d3db5c17 th {\n",
       "          text-align: left;\n",
       "    }    #T_d6669672_d5b6_11ea_8811_38f9d3db5c17row0_col0 {\n",
       "            text-align:  left;\n",
       "        }    #T_d6669672_d5b6_11ea_8811_38f9d3db5c17row0_col1 {\n",
       "            background-color:  yellow;\n",
       "            text-align:  left;\n",
       "        }    #T_d6669672_d5b6_11ea_8811_38f9d3db5c17row0_col2 {\n",
       "            background-color:  yellow;\n",
       "            text-align:  left;\n",
       "        }    #T_d6669672_d5b6_11ea_8811_38f9d3db5c17row0_col3 {\n",
       "            background-color:  yellow;\n",
       "            text-align:  left;\n",
       "        }    #T_d6669672_d5b6_11ea_8811_38f9d3db5c17row0_col4 {\n",
       "            background-color:  yellow;\n",
       "            text-align:  left;\n",
       "        }    #T_d6669672_d5b6_11ea_8811_38f9d3db5c17row0_col5 {\n",
       "            : ;\n",
       "            text-align:  left;\n",
       "        }    #T_d6669672_d5b6_11ea_8811_38f9d3db5c17row0_col6 {\n",
       "            : ;\n",
       "            text-align:  left;\n",
       "        }    #T_d6669672_d5b6_11ea_8811_38f9d3db5c17row0_col7 {\n",
       "            background-color:  lightgrey;\n",
       "            text-align:  left;\n",
       "        }    #T_d6669672_d5b6_11ea_8811_38f9d3db5c17row1_col0 {\n",
       "            text-align:  left;\n",
       "        }    #T_d6669672_d5b6_11ea_8811_38f9d3db5c17row1_col1 {\n",
       "            : ;\n",
       "            text-align:  left;\n",
       "        }    #T_d6669672_d5b6_11ea_8811_38f9d3db5c17row1_col2 {\n",
       "            : ;\n",
       "            text-align:  left;\n",
       "        }    #T_d6669672_d5b6_11ea_8811_38f9d3db5c17row1_col3 {\n",
       "            : ;\n",
       "            text-align:  left;\n",
       "        }    #T_d6669672_d5b6_11ea_8811_38f9d3db5c17row1_col4 {\n",
       "            : ;\n",
       "            text-align:  left;\n",
       "        }    #T_d6669672_d5b6_11ea_8811_38f9d3db5c17row1_col5 {\n",
       "            : ;\n",
       "            text-align:  left;\n",
       "        }    #T_d6669672_d5b6_11ea_8811_38f9d3db5c17row1_col6 {\n",
       "            : ;\n",
       "            text-align:  left;\n",
       "        }    #T_d6669672_d5b6_11ea_8811_38f9d3db5c17row1_col7 {\n",
       "            background-color:  lightgrey;\n",
       "            text-align:  left;\n",
       "        }    #T_d6669672_d5b6_11ea_8811_38f9d3db5c17row2_col0 {\n",
       "            text-align:  left;\n",
       "        }    #T_d6669672_d5b6_11ea_8811_38f9d3db5c17row2_col1 {\n",
       "            : ;\n",
       "            text-align:  left;\n",
       "        }    #T_d6669672_d5b6_11ea_8811_38f9d3db5c17row2_col2 {\n",
       "            : ;\n",
       "            text-align:  left;\n",
       "        }    #T_d6669672_d5b6_11ea_8811_38f9d3db5c17row2_col3 {\n",
       "            : ;\n",
       "            text-align:  left;\n",
       "        }    #T_d6669672_d5b6_11ea_8811_38f9d3db5c17row2_col4 {\n",
       "            : ;\n",
       "            text-align:  left;\n",
       "        }    #T_d6669672_d5b6_11ea_8811_38f9d3db5c17row2_col5 {\n",
       "            : ;\n",
       "            text-align:  left;\n",
       "        }    #T_d6669672_d5b6_11ea_8811_38f9d3db5c17row2_col6 {\n",
       "            : ;\n",
       "            text-align:  left;\n",
       "        }    #T_d6669672_d5b6_11ea_8811_38f9d3db5c17row2_col7 {\n",
       "            background-color:  lightgrey;\n",
       "            text-align:  left;\n",
       "        }    #T_d6669672_d5b6_11ea_8811_38f9d3db5c17row3_col0 {\n",
       "            text-align:  left;\n",
       "        }    #T_d6669672_d5b6_11ea_8811_38f9d3db5c17row3_col1 {\n",
       "            : ;\n",
       "            text-align:  left;\n",
       "        }    #T_d6669672_d5b6_11ea_8811_38f9d3db5c17row3_col2 {\n",
       "            : ;\n",
       "            text-align:  left;\n",
       "        }    #T_d6669672_d5b6_11ea_8811_38f9d3db5c17row3_col3 {\n",
       "            : ;\n",
       "            text-align:  left;\n",
       "        }    #T_d6669672_d5b6_11ea_8811_38f9d3db5c17row3_col4 {\n",
       "            : ;\n",
       "            text-align:  left;\n",
       "        }    #T_d6669672_d5b6_11ea_8811_38f9d3db5c17row3_col5 {\n",
       "            background-color:  yellow;\n",
       "            text-align:  left;\n",
       "        }    #T_d6669672_d5b6_11ea_8811_38f9d3db5c17row3_col6 {\n",
       "            background-color:  yellow;\n",
       "            text-align:  left;\n",
       "        }    #T_d6669672_d5b6_11ea_8811_38f9d3db5c17row3_col7 {\n",
       "            background-color:  lightgrey;\n",
       "            text-align:  left;\n",
       "        }    #T_d6669672_d5b6_11ea_8811_38f9d3db5c17row4_col0 {\n",
       "            text-align:  left;\n",
       "        }    #T_d6669672_d5b6_11ea_8811_38f9d3db5c17row4_col1 {\n",
       "            : ;\n",
       "            text-align:  left;\n",
       "        }    #T_d6669672_d5b6_11ea_8811_38f9d3db5c17row4_col2 {\n",
       "            : ;\n",
       "            text-align:  left;\n",
       "        }    #T_d6669672_d5b6_11ea_8811_38f9d3db5c17row4_col3 {\n",
       "            : ;\n",
       "            text-align:  left;\n",
       "        }    #T_d6669672_d5b6_11ea_8811_38f9d3db5c17row4_col4 {\n",
       "            : ;\n",
       "            text-align:  left;\n",
       "        }    #T_d6669672_d5b6_11ea_8811_38f9d3db5c17row4_col5 {\n",
       "            : ;\n",
       "            text-align:  left;\n",
       "        }    #T_d6669672_d5b6_11ea_8811_38f9d3db5c17row4_col6 {\n",
       "            : ;\n",
       "            text-align:  left;\n",
       "        }    #T_d6669672_d5b6_11ea_8811_38f9d3db5c17row4_col7 {\n",
       "            background-color:  lightgrey;\n",
       "            text-align:  left;\n",
       "        }    #T_d6669672_d5b6_11ea_8811_38f9d3db5c17row5_col0 {\n",
       "            text-align:  left;\n",
       "        }    #T_d6669672_d5b6_11ea_8811_38f9d3db5c17row5_col1 {\n",
       "            : ;\n",
       "            text-align:  left;\n",
       "        }    #T_d6669672_d5b6_11ea_8811_38f9d3db5c17row5_col2 {\n",
       "            : ;\n",
       "            text-align:  left;\n",
       "        }    #T_d6669672_d5b6_11ea_8811_38f9d3db5c17row5_col3 {\n",
       "            : ;\n",
       "            text-align:  left;\n",
       "        }    #T_d6669672_d5b6_11ea_8811_38f9d3db5c17row5_col4 {\n",
       "            : ;\n",
       "            text-align:  left;\n",
       "        }    #T_d6669672_d5b6_11ea_8811_38f9d3db5c17row5_col5 {\n",
       "            : ;\n",
       "            text-align:  left;\n",
       "        }    #T_d6669672_d5b6_11ea_8811_38f9d3db5c17row5_col6 {\n",
       "            : ;\n",
       "            text-align:  left;\n",
       "        }    #T_d6669672_d5b6_11ea_8811_38f9d3db5c17row5_col7 {\n",
       "            background-color:  lightgrey;\n",
       "            text-align:  left;\n",
       "        }    #T_d6669672_d5b6_11ea_8811_38f9d3db5c17row6_col0 {\n",
       "            text-align:  left;\n",
       "        }    #T_d6669672_d5b6_11ea_8811_38f9d3db5c17row6_col1 {\n",
       "            : ;\n",
       "            text-align:  left;\n",
       "        }    #T_d6669672_d5b6_11ea_8811_38f9d3db5c17row6_col2 {\n",
       "            : ;\n",
       "            text-align:  left;\n",
       "        }    #T_d6669672_d5b6_11ea_8811_38f9d3db5c17row6_col3 {\n",
       "            : ;\n",
       "            text-align:  left;\n",
       "        }    #T_d6669672_d5b6_11ea_8811_38f9d3db5c17row6_col4 {\n",
       "            : ;\n",
       "            text-align:  left;\n",
       "        }    #T_d6669672_d5b6_11ea_8811_38f9d3db5c17row6_col5 {\n",
       "            : ;\n",
       "            text-align:  left;\n",
       "        }    #T_d6669672_d5b6_11ea_8811_38f9d3db5c17row6_col6 {\n",
       "            : ;\n",
       "            text-align:  left;\n",
       "        }    #T_d6669672_d5b6_11ea_8811_38f9d3db5c17row6_col7 {\n",
       "            background-color:  lightgrey;\n",
       "            text-align:  left;\n",
       "        }    #T_d6669672_d5b6_11ea_8811_38f9d3db5c17row7_col0 {\n",
       "            text-align:  left;\n",
       "        }    #T_d6669672_d5b6_11ea_8811_38f9d3db5c17row7_col1 {\n",
       "            : ;\n",
       "            text-align:  left;\n",
       "        }    #T_d6669672_d5b6_11ea_8811_38f9d3db5c17row7_col2 {\n",
       "            : ;\n",
       "            text-align:  left;\n",
       "        }    #T_d6669672_d5b6_11ea_8811_38f9d3db5c17row7_col3 {\n",
       "            : ;\n",
       "            text-align:  left;\n",
       "        }    #T_d6669672_d5b6_11ea_8811_38f9d3db5c17row7_col4 {\n",
       "            : ;\n",
       "            text-align:  left;\n",
       "        }    #T_d6669672_d5b6_11ea_8811_38f9d3db5c17row7_col5 {\n",
       "            : ;\n",
       "            text-align:  left;\n",
       "        }    #T_d6669672_d5b6_11ea_8811_38f9d3db5c17row7_col6 {\n",
       "            : ;\n",
       "            text-align:  left;\n",
       "        }    #T_d6669672_d5b6_11ea_8811_38f9d3db5c17row7_col7 {\n",
       "            background-color:  lightgrey;\n",
       "            text-align:  left;\n",
       "        }    #T_d6669672_d5b6_11ea_8811_38f9d3db5c17row8_col0 {\n",
       "            text-align:  left;\n",
       "        }    #T_d6669672_d5b6_11ea_8811_38f9d3db5c17row8_col1 {\n",
       "            : ;\n",
       "            text-align:  left;\n",
       "        }    #T_d6669672_d5b6_11ea_8811_38f9d3db5c17row8_col2 {\n",
       "            : ;\n",
       "            text-align:  left;\n",
       "        }    #T_d6669672_d5b6_11ea_8811_38f9d3db5c17row8_col3 {\n",
       "            : ;\n",
       "            text-align:  left;\n",
       "        }    #T_d6669672_d5b6_11ea_8811_38f9d3db5c17row8_col4 {\n",
       "            : ;\n",
       "            text-align:  left;\n",
       "        }    #T_d6669672_d5b6_11ea_8811_38f9d3db5c17row8_col5 {\n",
       "            : ;\n",
       "            text-align:  left;\n",
       "        }    #T_d6669672_d5b6_11ea_8811_38f9d3db5c17row8_col6 {\n",
       "            : ;\n",
       "            text-align:  left;\n",
       "        }    #T_d6669672_d5b6_11ea_8811_38f9d3db5c17row8_col7 {\n",
       "            background-color:  lightgrey;\n",
       "            text-align:  left;\n",
       "        }    #T_d6669672_d5b6_11ea_8811_38f9d3db5c17row9_col0 {\n",
       "            text-align:  left;\n",
       "        }    #T_d6669672_d5b6_11ea_8811_38f9d3db5c17row9_col1 {\n",
       "            : ;\n",
       "            text-align:  left;\n",
       "        }    #T_d6669672_d5b6_11ea_8811_38f9d3db5c17row9_col2 {\n",
       "            : ;\n",
       "            text-align:  left;\n",
       "        }    #T_d6669672_d5b6_11ea_8811_38f9d3db5c17row9_col3 {\n",
       "            : ;\n",
       "            text-align:  left;\n",
       "        }    #T_d6669672_d5b6_11ea_8811_38f9d3db5c17row9_col4 {\n",
       "            : ;\n",
       "            text-align:  left;\n",
       "        }    #T_d6669672_d5b6_11ea_8811_38f9d3db5c17row9_col5 {\n",
       "            : ;\n",
       "            text-align:  left;\n",
       "        }    #T_d6669672_d5b6_11ea_8811_38f9d3db5c17row9_col6 {\n",
       "            : ;\n",
       "            text-align:  left;\n",
       "        }    #T_d6669672_d5b6_11ea_8811_38f9d3db5c17row9_col7 {\n",
       "            background-color:  lightgrey;\n",
       "            text-align:  left;\n",
       "        }    #T_d6669672_d5b6_11ea_8811_38f9d3db5c17row10_col0 {\n",
       "            text-align:  left;\n",
       "        }    #T_d6669672_d5b6_11ea_8811_38f9d3db5c17row10_col1 {\n",
       "            : ;\n",
       "            text-align:  left;\n",
       "        }    #T_d6669672_d5b6_11ea_8811_38f9d3db5c17row10_col2 {\n",
       "            : ;\n",
       "            text-align:  left;\n",
       "        }    #T_d6669672_d5b6_11ea_8811_38f9d3db5c17row10_col3 {\n",
       "            : ;\n",
       "            text-align:  left;\n",
       "        }    #T_d6669672_d5b6_11ea_8811_38f9d3db5c17row10_col4 {\n",
       "            : ;\n",
       "            text-align:  left;\n",
       "        }    #T_d6669672_d5b6_11ea_8811_38f9d3db5c17row10_col5 {\n",
       "            : ;\n",
       "            text-align:  left;\n",
       "        }    #T_d6669672_d5b6_11ea_8811_38f9d3db5c17row10_col6 {\n",
       "            : ;\n",
       "            text-align:  left;\n",
       "        }    #T_d6669672_d5b6_11ea_8811_38f9d3db5c17row10_col7 {\n",
       "            background-color:  lightgrey;\n",
       "            text-align:  left;\n",
       "        }    #T_d6669672_d5b6_11ea_8811_38f9d3db5c17row11_col0 {\n",
       "            text-align:  left;\n",
       "        }    #T_d6669672_d5b6_11ea_8811_38f9d3db5c17row11_col1 {\n",
       "            : ;\n",
       "            text-align:  left;\n",
       "        }    #T_d6669672_d5b6_11ea_8811_38f9d3db5c17row11_col2 {\n",
       "            : ;\n",
       "            text-align:  left;\n",
       "        }    #T_d6669672_d5b6_11ea_8811_38f9d3db5c17row11_col3 {\n",
       "            : ;\n",
       "            text-align:  left;\n",
       "        }    #T_d6669672_d5b6_11ea_8811_38f9d3db5c17row11_col4 {\n",
       "            : ;\n",
       "            text-align:  left;\n",
       "        }    #T_d6669672_d5b6_11ea_8811_38f9d3db5c17row11_col5 {\n",
       "            : ;\n",
       "            text-align:  left;\n",
       "        }    #T_d6669672_d5b6_11ea_8811_38f9d3db5c17row11_col6 {\n",
       "            : ;\n",
       "            text-align:  left;\n",
       "        }    #T_d6669672_d5b6_11ea_8811_38f9d3db5c17row11_col7 {\n",
       "            background-color:  lightgrey;\n",
       "            text-align:  left;\n",
       "        }    #T_d6669672_d5b6_11ea_8811_38f9d3db5c17row12_col0 {\n",
       "            text-align:  left;\n",
       "        }    #T_d6669672_d5b6_11ea_8811_38f9d3db5c17row12_col1 {\n",
       "            : ;\n",
       "            text-align:  left;\n",
       "        }    #T_d6669672_d5b6_11ea_8811_38f9d3db5c17row12_col2 {\n",
       "            : ;\n",
       "            text-align:  left;\n",
       "        }    #T_d6669672_d5b6_11ea_8811_38f9d3db5c17row12_col3 {\n",
       "            : ;\n",
       "            text-align:  left;\n",
       "        }    #T_d6669672_d5b6_11ea_8811_38f9d3db5c17row12_col4 {\n",
       "            : ;\n",
       "            text-align:  left;\n",
       "        }    #T_d6669672_d5b6_11ea_8811_38f9d3db5c17row12_col5 {\n",
       "            : ;\n",
       "            text-align:  left;\n",
       "        }    #T_d6669672_d5b6_11ea_8811_38f9d3db5c17row12_col6 {\n",
       "            : ;\n",
       "            text-align:  left;\n",
       "        }    #T_d6669672_d5b6_11ea_8811_38f9d3db5c17row12_col7 {\n",
       "            background-color:  lightgrey;\n",
       "            text-align:  left;\n",
       "        }    #T_d6669672_d5b6_11ea_8811_38f9d3db5c17row13_col0 {\n",
       "            text-align:  left;\n",
       "        }    #T_d6669672_d5b6_11ea_8811_38f9d3db5c17row13_col1 {\n",
       "            : ;\n",
       "            text-align:  left;\n",
       "        }    #T_d6669672_d5b6_11ea_8811_38f9d3db5c17row13_col2 {\n",
       "            : ;\n",
       "            text-align:  left;\n",
       "        }    #T_d6669672_d5b6_11ea_8811_38f9d3db5c17row13_col3 {\n",
       "            : ;\n",
       "            text-align:  left;\n",
       "        }    #T_d6669672_d5b6_11ea_8811_38f9d3db5c17row13_col4 {\n",
       "            : ;\n",
       "            text-align:  left;\n",
       "        }    #T_d6669672_d5b6_11ea_8811_38f9d3db5c17row13_col5 {\n",
       "            : ;\n",
       "            text-align:  left;\n",
       "        }    #T_d6669672_d5b6_11ea_8811_38f9d3db5c17row13_col6 {\n",
       "            : ;\n",
       "            text-align:  left;\n",
       "        }    #T_d6669672_d5b6_11ea_8811_38f9d3db5c17row13_col7 {\n",
       "            background-color:  lightgrey;\n",
       "            text-align:  left;\n",
       "        }    #T_d6669672_d5b6_11ea_8811_38f9d3db5c17row14_col0 {\n",
       "            text-align:  left;\n",
       "        }    #T_d6669672_d5b6_11ea_8811_38f9d3db5c17row14_col1 {\n",
       "            : ;\n",
       "            text-align:  left;\n",
       "        }    #T_d6669672_d5b6_11ea_8811_38f9d3db5c17row14_col2 {\n",
       "            : ;\n",
       "            text-align:  left;\n",
       "        }    #T_d6669672_d5b6_11ea_8811_38f9d3db5c17row14_col3 {\n",
       "            : ;\n",
       "            text-align:  left;\n",
       "        }    #T_d6669672_d5b6_11ea_8811_38f9d3db5c17row14_col4 {\n",
       "            : ;\n",
       "            text-align:  left;\n",
       "        }    #T_d6669672_d5b6_11ea_8811_38f9d3db5c17row14_col5 {\n",
       "            : ;\n",
       "            text-align:  left;\n",
       "        }    #T_d6669672_d5b6_11ea_8811_38f9d3db5c17row14_col6 {\n",
       "            : ;\n",
       "            text-align:  left;\n",
       "        }    #T_d6669672_d5b6_11ea_8811_38f9d3db5c17row14_col7 {\n",
       "            background-color:  lightgrey;\n",
       "            text-align:  left;\n",
       "        }    #T_d6669672_d5b6_11ea_8811_38f9d3db5c17row15_col0 {\n",
       "            text-align:  left;\n",
       "        }    #T_d6669672_d5b6_11ea_8811_38f9d3db5c17row15_col1 {\n",
       "            : ;\n",
       "            text-align:  left;\n",
       "        }    #T_d6669672_d5b6_11ea_8811_38f9d3db5c17row15_col2 {\n",
       "            : ;\n",
       "            text-align:  left;\n",
       "        }    #T_d6669672_d5b6_11ea_8811_38f9d3db5c17row15_col3 {\n",
       "            : ;\n",
       "            text-align:  left;\n",
       "        }    #T_d6669672_d5b6_11ea_8811_38f9d3db5c17row15_col4 {\n",
       "            : ;\n",
       "            text-align:  left;\n",
       "        }    #T_d6669672_d5b6_11ea_8811_38f9d3db5c17row15_col5 {\n",
       "            : ;\n",
       "            text-align:  left;\n",
       "        }    #T_d6669672_d5b6_11ea_8811_38f9d3db5c17row15_col6 {\n",
       "            : ;\n",
       "            text-align:  left;\n",
       "        }    #T_d6669672_d5b6_11ea_8811_38f9d3db5c17row15_col7 {\n",
       "            background-color:  lightgrey;\n",
       "            text-align:  left;\n",
       "        }    #T_d6669672_d5b6_11ea_8811_38f9d3db5c17row16_col0 {\n",
       "            text-align:  left;\n",
       "        }    #T_d6669672_d5b6_11ea_8811_38f9d3db5c17row16_col1 {\n",
       "            : ;\n",
       "            text-align:  left;\n",
       "        }    #T_d6669672_d5b6_11ea_8811_38f9d3db5c17row16_col2 {\n",
       "            : ;\n",
       "            text-align:  left;\n",
       "        }    #T_d6669672_d5b6_11ea_8811_38f9d3db5c17row16_col3 {\n",
       "            : ;\n",
       "            text-align:  left;\n",
       "        }    #T_d6669672_d5b6_11ea_8811_38f9d3db5c17row16_col4 {\n",
       "            : ;\n",
       "            text-align:  left;\n",
       "        }    #T_d6669672_d5b6_11ea_8811_38f9d3db5c17row16_col5 {\n",
       "            : ;\n",
       "            text-align:  left;\n",
       "        }    #T_d6669672_d5b6_11ea_8811_38f9d3db5c17row16_col6 {\n",
       "            : ;\n",
       "            text-align:  left;\n",
       "        }    #T_d6669672_d5b6_11ea_8811_38f9d3db5c17row16_col7 {\n",
       "            background-color:  lightgrey;\n",
       "            text-align:  left;\n",
       "        }    #T_d6669672_d5b6_11ea_8811_38f9d3db5c17row17_col0 {\n",
       "            text-align:  left;\n",
       "        }    #T_d6669672_d5b6_11ea_8811_38f9d3db5c17row17_col1 {\n",
       "            : ;\n",
       "            text-align:  left;\n",
       "        }    #T_d6669672_d5b6_11ea_8811_38f9d3db5c17row17_col2 {\n",
       "            : ;\n",
       "            text-align:  left;\n",
       "        }    #T_d6669672_d5b6_11ea_8811_38f9d3db5c17row17_col3 {\n",
       "            : ;\n",
       "            text-align:  left;\n",
       "        }    #T_d6669672_d5b6_11ea_8811_38f9d3db5c17row17_col4 {\n",
       "            : ;\n",
       "            text-align:  left;\n",
       "        }    #T_d6669672_d5b6_11ea_8811_38f9d3db5c17row17_col5 {\n",
       "            : ;\n",
       "            text-align:  left;\n",
       "        }    #T_d6669672_d5b6_11ea_8811_38f9d3db5c17row17_col6 {\n",
       "            : ;\n",
       "            text-align:  left;\n",
       "        }    #T_d6669672_d5b6_11ea_8811_38f9d3db5c17row17_col7 {\n",
       "            background-color:  lightgrey;\n",
       "            text-align:  left;\n",
       "        }    #T_d6669672_d5b6_11ea_8811_38f9d3db5c17row18_col0 {\n",
       "            text-align:  left;\n",
       "        }    #T_d6669672_d5b6_11ea_8811_38f9d3db5c17row18_col1 {\n",
       "            : ;\n",
       "            text-align:  left;\n",
       "        }    #T_d6669672_d5b6_11ea_8811_38f9d3db5c17row18_col2 {\n",
       "            : ;\n",
       "            text-align:  left;\n",
       "        }    #T_d6669672_d5b6_11ea_8811_38f9d3db5c17row18_col3 {\n",
       "            : ;\n",
       "            text-align:  left;\n",
       "        }    #T_d6669672_d5b6_11ea_8811_38f9d3db5c17row18_col4 {\n",
       "            : ;\n",
       "            text-align:  left;\n",
       "        }    #T_d6669672_d5b6_11ea_8811_38f9d3db5c17row18_col5 {\n",
       "            : ;\n",
       "            text-align:  left;\n",
       "        }    #T_d6669672_d5b6_11ea_8811_38f9d3db5c17row18_col6 {\n",
       "            : ;\n",
       "            text-align:  left;\n",
       "        }    #T_d6669672_d5b6_11ea_8811_38f9d3db5c17row18_col7 {\n",
       "            background-color:  lightgrey;\n",
       "            text-align:  left;\n",
       "        }    #T_d6669672_d5b6_11ea_8811_38f9d3db5c17row19_col0 {\n",
       "            text-align:  left;\n",
       "        }    #T_d6669672_d5b6_11ea_8811_38f9d3db5c17row19_col1 {\n",
       "            : ;\n",
       "            text-align:  left;\n",
       "        }    #T_d6669672_d5b6_11ea_8811_38f9d3db5c17row19_col2 {\n",
       "            : ;\n",
       "            text-align:  left;\n",
       "        }    #T_d6669672_d5b6_11ea_8811_38f9d3db5c17row19_col3 {\n",
       "            : ;\n",
       "            text-align:  left;\n",
       "        }    #T_d6669672_d5b6_11ea_8811_38f9d3db5c17row19_col4 {\n",
       "            : ;\n",
       "            text-align:  left;\n",
       "        }    #T_d6669672_d5b6_11ea_8811_38f9d3db5c17row19_col5 {\n",
       "            : ;\n",
       "            text-align:  left;\n",
       "        }    #T_d6669672_d5b6_11ea_8811_38f9d3db5c17row19_col6 {\n",
       "            : ;\n",
       "            text-align:  left;\n",
       "        }    #T_d6669672_d5b6_11ea_8811_38f9d3db5c17row19_col7 {\n",
       "            background-color:  lightgrey;\n",
       "            text-align:  left;\n",
       "        }    #T_d6669672_d5b6_11ea_8811_38f9d3db5c17row20_col0 {\n",
       "            text-align:  left;\n",
       "        }    #T_d6669672_d5b6_11ea_8811_38f9d3db5c17row20_col1 {\n",
       "            : ;\n",
       "            text-align:  left;\n",
       "        }    #T_d6669672_d5b6_11ea_8811_38f9d3db5c17row20_col2 {\n",
       "            : ;\n",
       "            text-align:  left;\n",
       "        }    #T_d6669672_d5b6_11ea_8811_38f9d3db5c17row20_col3 {\n",
       "            : ;\n",
       "            text-align:  left;\n",
       "        }    #T_d6669672_d5b6_11ea_8811_38f9d3db5c17row20_col4 {\n",
       "            : ;\n",
       "            text-align:  left;\n",
       "        }    #T_d6669672_d5b6_11ea_8811_38f9d3db5c17row20_col5 {\n",
       "            : ;\n",
       "            text-align:  left;\n",
       "        }    #T_d6669672_d5b6_11ea_8811_38f9d3db5c17row20_col6 {\n",
       "            : ;\n",
       "            text-align:  left;\n",
       "        }    #T_d6669672_d5b6_11ea_8811_38f9d3db5c17row20_col7 {\n",
       "            background-color:  lightgrey;\n",
       "            text-align:  left;\n",
       "        }    #T_d6669672_d5b6_11ea_8811_38f9d3db5c17row21_col0 {\n",
       "            text-align:  left;\n",
       "        }    #T_d6669672_d5b6_11ea_8811_38f9d3db5c17row21_col1 {\n",
       "            : ;\n",
       "            text-align:  left;\n",
       "        }    #T_d6669672_d5b6_11ea_8811_38f9d3db5c17row21_col2 {\n",
       "            : ;\n",
       "            text-align:  left;\n",
       "        }    #T_d6669672_d5b6_11ea_8811_38f9d3db5c17row21_col3 {\n",
       "            : ;\n",
       "            text-align:  left;\n",
       "        }    #T_d6669672_d5b6_11ea_8811_38f9d3db5c17row21_col4 {\n",
       "            : ;\n",
       "            text-align:  left;\n",
       "        }    #T_d6669672_d5b6_11ea_8811_38f9d3db5c17row21_col5 {\n",
       "            : ;\n",
       "            text-align:  left;\n",
       "        }    #T_d6669672_d5b6_11ea_8811_38f9d3db5c17row21_col6 {\n",
       "            : ;\n",
       "            text-align:  left;\n",
       "        }    #T_d6669672_d5b6_11ea_8811_38f9d3db5c17row21_col7 {\n",
       "            background-color:  lightgrey;\n",
       "            text-align:  left;\n",
       "        }</style><table id=\"T_d6669672_d5b6_11ea_8811_38f9d3db5c17\" ><thead>    <tr>        <th class=\"blank level0\" ></th>        <th class=\"col_heading level0 col0\" >Model</th>        <th class=\"col_heading level0 col1\" >MAE</th>        <th class=\"col_heading level0 col2\" >MSE</th>        <th class=\"col_heading level0 col3\" >RMSE</th>        <th class=\"col_heading level0 col4\" >R2</th>        <th class=\"col_heading level0 col5\" >RMSLE</th>        <th class=\"col_heading level0 col6\" >MAPE</th>        <th class=\"col_heading level0 col7\" >TT (Sec)</th>    </tr></thead><tbody>\n",
       "                <tr>\n",
       "                        <th id=\"T_d6669672_d5b6_11ea_8811_38f9d3db5c17level0_row0\" class=\"row_heading level0 row0\" >0</th>\n",
       "                        <td id=\"T_d6669672_d5b6_11ea_8811_38f9d3db5c17row0_col0\" class=\"data row0 col0\" >CatBoost Regressor</td>\n",
       "                        <td id=\"T_d6669672_d5b6_11ea_8811_38f9d3db5c17row0_col1\" class=\"data row0 col1\" >292.3429</td>\n",
       "                        <td id=\"T_d6669672_d5b6_11ea_8811_38f9d3db5c17row0_col2\" class=\"data row0 col2\" >334779.4474</td>\n",
       "                        <td id=\"T_d6669672_d5b6_11ea_8811_38f9d3db5c17row0_col3\" class=\"data row0 col3\" >576.4849</td>\n",
       "                        <td id=\"T_d6669672_d5b6_11ea_8811_38f9d3db5c17row0_col4\" class=\"data row0 col4\" >0.9795</td>\n",
       "                        <td id=\"T_d6669672_d5b6_11ea_8811_38f9d3db5c17row0_col5\" class=\"data row0 col5\" >0.1051</td>\n",
       "                        <td id=\"T_d6669672_d5b6_11ea_8811_38f9d3db5c17row0_col6\" class=\"data row0 col6\" >0.0797</td>\n",
       "                        <td id=\"T_d6669672_d5b6_11ea_8811_38f9d3db5c17row0_col7\" class=\"data row0 col7\" >4.3447</td>\n",
       "            </tr>\n",
       "            <tr>\n",
       "                        <th id=\"T_d6669672_d5b6_11ea_8811_38f9d3db5c17level0_row1\" class=\"row_heading level0 row1\" >1</th>\n",
       "                        <td id=\"T_d6669672_d5b6_11ea_8811_38f9d3db5c17row1_col0\" class=\"data row1 col0\" >Light Gradient Boosting Machine</td>\n",
       "                        <td id=\"T_d6669672_d5b6_11ea_8811_38f9d3db5c17row1_col1\" class=\"data row1 col1\" >297.6045</td>\n",
       "                        <td id=\"T_d6669672_d5b6_11ea_8811_38f9d3db5c17row1_col2\" class=\"data row1 col2\" >338891.8134</td>\n",
       "                        <td id=\"T_d6669672_d5b6_11ea_8811_38f9d3db5c17row1_col3\" class=\"data row1 col3\" >579.9378</td>\n",
       "                        <td id=\"T_d6669672_d5b6_11ea_8811_38f9d3db5c17row1_col4\" class=\"data row1 col4\" >0.9792</td>\n",
       "                        <td id=\"T_d6669672_d5b6_11ea_8811_38f9d3db5c17row1_col5\" class=\"data row1 col5\" >0.1096</td>\n",
       "                        <td id=\"T_d6669672_d5b6_11ea_8811_38f9d3db5c17row1_col6\" class=\"data row1 col6\" >0.0841</td>\n",
       "                        <td id=\"T_d6669672_d5b6_11ea_8811_38f9d3db5c17row1_col7\" class=\"data row1 col7\" >0.1745</td>\n",
       "            </tr>\n",
       "            <tr>\n",
       "                        <th id=\"T_d6669672_d5b6_11ea_8811_38f9d3db5c17level0_row2\" class=\"row_heading level0 row2\" >2</th>\n",
       "                        <td id=\"T_d6669672_d5b6_11ea_8811_38f9d3db5c17row2_col0\" class=\"data row2 col0\" >Extreme Gradient Boosting</td>\n",
       "                        <td id=\"T_d6669672_d5b6_11ea_8811_38f9d3db5c17row2_col1\" class=\"data row2 col1\" >302.0124</td>\n",
       "                        <td id=\"T_d6669672_d5b6_11ea_8811_38f9d3db5c17row2_col2\" class=\"data row2 col2\" >357175.3858</td>\n",
       "                        <td id=\"T_d6669672_d5b6_11ea_8811_38f9d3db5c17row2_col3\" class=\"data row2 col3\" >595.4057</td>\n",
       "                        <td id=\"T_d6669672_d5b6_11ea_8811_38f9d3db5c17row2_col4\" class=\"data row2 col4\" >0.9781</td>\n",
       "                        <td id=\"T_d6669672_d5b6_11ea_8811_38f9d3db5c17row2_col5\" class=\"data row2 col5\" >0.1028</td>\n",
       "                        <td id=\"T_d6669672_d5b6_11ea_8811_38f9d3db5c17row2_col6\" class=\"data row2 col6\" >0.0770</td>\n",
       "                        <td id=\"T_d6669672_d5b6_11ea_8811_38f9d3db5c17row2_col7\" class=\"data row2 col7\" >0.9072</td>\n",
       "            </tr>\n",
       "            <tr>\n",
       "                        <th id=\"T_d6669672_d5b6_11ea_8811_38f9d3db5c17level0_row3\" class=\"row_heading level0 row3\" >3</th>\n",
       "                        <td id=\"T_d6669672_d5b6_11ea_8811_38f9d3db5c17row3_col0\" class=\"data row3 col0\" >Extra Trees Regressor</td>\n",
       "                        <td id=\"T_d6669672_d5b6_11ea_8811_38f9d3db5c17row3_col1\" class=\"data row3 col1\" >299.1552</td>\n",
       "                        <td id=\"T_d6669672_d5b6_11ea_8811_38f9d3db5c17row3_col2\" class=\"data row3 col2\" >360491.4372</td>\n",
       "                        <td id=\"T_d6669672_d5b6_11ea_8811_38f9d3db5c17row3_col3\" class=\"data row3 col3\" >598.5108</td>\n",
       "                        <td id=\"T_d6669672_d5b6_11ea_8811_38f9d3db5c17row3_col4\" class=\"data row3 col4\" >0.9778</td>\n",
       "                        <td id=\"T_d6669672_d5b6_11ea_8811_38f9d3db5c17row3_col5\" class=\"data row3 col5\" >0.1010</td>\n",
       "                        <td id=\"T_d6669672_d5b6_11ea_8811_38f9d3db5c17row3_col6\" class=\"data row3 col6\" >0.0740</td>\n",
       "                        <td id=\"T_d6669672_d5b6_11ea_8811_38f9d3db5c17row3_col7\" class=\"data row3 col7\" >1.2145</td>\n",
       "            </tr>\n",
       "            <tr>\n",
       "                        <th id=\"T_d6669672_d5b6_11ea_8811_38f9d3db5c17level0_row4\" class=\"row_heading level0 row4\" >4</th>\n",
       "                        <td id=\"T_d6669672_d5b6_11ea_8811_38f9d3db5c17row4_col0\" class=\"data row4 col0\" >Random Forest</td>\n",
       "                        <td id=\"T_d6669672_d5b6_11ea_8811_38f9d3db5c17row4_col1\" class=\"data row4 col1\" >304.9725</td>\n",
       "                        <td id=\"T_d6669672_d5b6_11ea_8811_38f9d3db5c17row4_col2\" class=\"data row4 col2\" >375734.2323</td>\n",
       "                        <td id=\"T_d6669672_d5b6_11ea_8811_38f9d3db5c17row4_col3\" class=\"data row4 col3\" >610.5571</td>\n",
       "                        <td id=\"T_d6669672_d5b6_11ea_8811_38f9d3db5c17row4_col4\" class=\"data row4 col4\" >0.9769</td>\n",
       "                        <td id=\"T_d6669672_d5b6_11ea_8811_38f9d3db5c17row4_col5\" class=\"data row4 col5\" >0.1024</td>\n",
       "                        <td id=\"T_d6669672_d5b6_11ea_8811_38f9d3db5c17row4_col6\" class=\"data row4 col6\" >0.0753</td>\n",
       "                        <td id=\"T_d6669672_d5b6_11ea_8811_38f9d3db5c17row4_col7\" class=\"data row4 col7\" >2.5382</td>\n",
       "            </tr>\n",
       "            <tr>\n",
       "                        <th id=\"T_d6669672_d5b6_11ea_8811_38f9d3db5c17level0_row5\" class=\"row_heading level0 row5\" >5</th>\n",
       "                        <td id=\"T_d6669672_d5b6_11ea_8811_38f9d3db5c17row5_col0\" class=\"data row5 col0\" >Gradient Boosting Regressor</td>\n",
       "                        <td id=\"T_d6669672_d5b6_11ea_8811_38f9d3db5c17row5_col1\" class=\"data row5 col1\" >354.1395</td>\n",
       "                        <td id=\"T_d6669672_d5b6_11ea_8811_38f9d3db5c17row5_col2\" class=\"data row5 col2\" >414715.9102</td>\n",
       "                        <td id=\"T_d6669672_d5b6_11ea_8811_38f9d3db5c17row5_col3\" class=\"data row5 col3\" >642.5589</td>\n",
       "                        <td id=\"T_d6669672_d5b6_11ea_8811_38f9d3db5c17row5_col4\" class=\"data row5 col4\" >0.9745</td>\n",
       "                        <td id=\"T_d6669672_d5b6_11ea_8811_38f9d3db5c17row5_col5\" class=\"data row5 col5\" >0.1514</td>\n",
       "                        <td id=\"T_d6669672_d5b6_11ea_8811_38f9d3db5c17row5_col6\" class=\"data row5 col6\" >0.1095</td>\n",
       "                        <td id=\"T_d6669672_d5b6_11ea_8811_38f9d3db5c17row5_col7\" class=\"data row5 col7\" >1.2548</td>\n",
       "            </tr>\n",
       "            <tr>\n",
       "                        <th id=\"T_d6669672_d5b6_11ea_8811_38f9d3db5c17level0_row6\" class=\"row_heading level0 row6\" >6</th>\n",
       "                        <td id=\"T_d6669672_d5b6_11ea_8811_38f9d3db5c17row6_col0\" class=\"data row6 col0\" >Decision Tree</td>\n",
       "                        <td id=\"T_d6669672_d5b6_11ea_8811_38f9d3db5c17row6_col1\" class=\"data row6 col1\" >412.1041</td>\n",
       "                        <td id=\"T_d6669672_d5b6_11ea_8811_38f9d3db5c17row6_col2\" class=\"data row6 col2\" >687962.2707</td>\n",
       "                        <td id=\"T_d6669672_d5b6_11ea_8811_38f9d3db5c17row6_col3\" class=\"data row6 col3\" >827.1682</td>\n",
       "                        <td id=\"T_d6669672_d5b6_11ea_8811_38f9d3db5c17row6_col4\" class=\"data row6 col4\" >0.9577</td>\n",
       "                        <td id=\"T_d6669672_d5b6_11ea_8811_38f9d3db5c17row6_col5\" class=\"data row6 col5\" >0.1414</td>\n",
       "                        <td id=\"T_d6669672_d5b6_11ea_8811_38f9d3db5c17row6_col6\" class=\"data row6 col6\" >0.1006</td>\n",
       "                        <td id=\"T_d6669672_d5b6_11ea_8811_38f9d3db5c17row6_col7\" class=\"data row6 col7\" >0.0810</td>\n",
       "            </tr>\n",
       "            <tr>\n",
       "                        <th id=\"T_d6669672_d5b6_11ea_8811_38f9d3db5c17level0_row7\" class=\"row_heading level0 row7\" >7</th>\n",
       "                        <td id=\"T_d6669672_d5b6_11ea_8811_38f9d3db5c17row7_col0\" class=\"data row7 col0\" >K Neighbors Regressor</td>\n",
       "                        <td id=\"T_d6669672_d5b6_11ea_8811_38f9d3db5c17row7_col1\" class=\"data row7 col1\" >435.2153</td>\n",
       "                        <td id=\"T_d6669672_d5b6_11ea_8811_38f9d3db5c17row7_col2\" class=\"data row7 col2\" >715763.3158</td>\n",
       "                        <td id=\"T_d6669672_d5b6_11ea_8811_38f9d3db5c17row7_col3\" class=\"data row7 col3\" >842.8718</td>\n",
       "                        <td id=\"T_d6669672_d5b6_11ea_8811_38f9d3db5c17row7_col4\" class=\"data row7 col4\" >0.9561</td>\n",
       "                        <td id=\"T_d6669672_d5b6_11ea_8811_38f9d3db5c17row7_col5\" class=\"data row7 col5\" >0.1552</td>\n",
       "                        <td id=\"T_d6669672_d5b6_11ea_8811_38f9d3db5c17row7_col6\" class=\"data row7 col6\" >0.1182</td>\n",
       "                        <td id=\"T_d6669672_d5b6_11ea_8811_38f9d3db5c17row7_col7\" class=\"data row7 col7\" >0.0139</td>\n",
       "            </tr>\n",
       "            <tr>\n",
       "                        <th id=\"T_d6669672_d5b6_11ea_8811_38f9d3db5c17level0_row8\" class=\"row_heading level0 row8\" >8</th>\n",
       "                        <td id=\"T_d6669672_d5b6_11ea_8811_38f9d3db5c17row8_col0\" class=\"data row8 col0\" >Ridge Regression</td>\n",
       "                        <td id=\"T_d6669672_d5b6_11ea_8811_38f9d3db5c17row8_col1\" class=\"data row8 col1\" >756.7018</td>\n",
       "                        <td id=\"T_d6669672_d5b6_11ea_8811_38f9d3db5c17row8_col2\" class=\"data row8 col2\" >1373696.5867</td>\n",
       "                        <td id=\"T_d6669672_d5b6_11ea_8811_38f9d3db5c17row8_col3\" class=\"data row8 col3\" >1170.6331</td>\n",
       "                        <td id=\"T_d6669672_d5b6_11ea_8811_38f9d3db5c17row8_col4\" class=\"data row8 col4\" >0.9154</td>\n",
       "                        <td id=\"T_d6669672_d5b6_11ea_8811_38f9d3db5c17row8_col5\" class=\"data row8 col5\" >0.6134</td>\n",
       "                        <td id=\"T_d6669672_d5b6_11ea_8811_38f9d3db5c17row8_col6\" class=\"data row8 col6\" >0.3979</td>\n",
       "                        <td id=\"T_d6669672_d5b6_11ea_8811_38f9d3db5c17row8_col7\" class=\"data row8 col7\" >0.0090</td>\n",
       "            </tr>\n",
       "            <tr>\n",
       "                        <th id=\"T_d6669672_d5b6_11ea_8811_38f9d3db5c17level0_row9\" class=\"row_heading level0 row9\" >9</th>\n",
       "                        <td id=\"T_d6669672_d5b6_11ea_8811_38f9d3db5c17row9_col0\" class=\"data row9 col0\" >Lasso Regression</td>\n",
       "                        <td id=\"T_d6669672_d5b6_11ea_8811_38f9d3db5c17row9_col1\" class=\"data row9 col1\" >762.4763</td>\n",
       "                        <td id=\"T_d6669672_d5b6_11ea_8811_38f9d3db5c17row9_col2\" class=\"data row9 col2\" >1383564.8207</td>\n",
       "                        <td id=\"T_d6669672_d5b6_11ea_8811_38f9d3db5c17row9_col3\" class=\"data row9 col3\" >1174.6572</td>\n",
       "                        <td id=\"T_d6669672_d5b6_11ea_8811_38f9d3db5c17row9_col4\" class=\"data row9 col4\" >0.9148</td>\n",
       "                        <td id=\"T_d6669672_d5b6_11ea_8811_38f9d3db5c17row9_col5\" class=\"data row9 col5\" >0.6123</td>\n",
       "                        <td id=\"T_d6669672_d5b6_11ea_8811_38f9d3db5c17row9_col6\" class=\"data row9 col6\" >0.4025</td>\n",
       "                        <td id=\"T_d6669672_d5b6_11ea_8811_38f9d3db5c17row9_col7\" class=\"data row9 col7\" >0.3443</td>\n",
       "            </tr>\n",
       "            <tr>\n",
       "                        <th id=\"T_d6669672_d5b6_11ea_8811_38f9d3db5c17level0_row10\" class=\"row_heading level0 row10\" >10</th>\n",
       "                        <td id=\"T_d6669672_d5b6_11ea_8811_38f9d3db5c17row10_col0\" class=\"data row10 col0\" >AdaBoost Regressor</td>\n",
       "                        <td id=\"T_d6669672_d5b6_11ea_8811_38f9d3db5c17row10_col1\" class=\"data row10 col1\" >920.5754</td>\n",
       "                        <td id=\"T_d6669672_d5b6_11ea_8811_38f9d3db5c17row10_col2\" class=\"data row10 col2\" >1409743.7739</td>\n",
       "                        <td id=\"T_d6669672_d5b6_11ea_8811_38f9d3db5c17row10_col3\" class=\"data row10 col3\" >1186.5127</td>\n",
       "                        <td id=\"T_d6669672_d5b6_11ea_8811_38f9d3db5c17row10_col4\" class=\"data row10 col4\" >0.9131</td>\n",
       "                        <td id=\"T_d6669672_d5b6_11ea_8811_38f9d3db5c17row10_col5\" class=\"data row10 col5\" >0.4352</td>\n",
       "                        <td id=\"T_d6669672_d5b6_11ea_8811_38f9d3db5c17row10_col6\" class=\"data row10 col6\" >0.4656</td>\n",
       "                        <td id=\"T_d6669672_d5b6_11ea_8811_38f9d3db5c17row10_col7\" class=\"data row10 col7\" >0.6535</td>\n",
       "            </tr>\n",
       "            <tr>\n",
       "                        <th id=\"T_d6669672_d5b6_11ea_8811_38f9d3db5c17level0_row11\" class=\"row_heading level0 row11\" >11</th>\n",
       "                        <td id=\"T_d6669672_d5b6_11ea_8811_38f9d3db5c17row11_col0\" class=\"data row11 col0\" >Bayesian Ridge</td>\n",
       "                        <td id=\"T_d6669672_d5b6_11ea_8811_38f9d3db5c17row11_col1\" class=\"data row11 col1\" >755.8562</td>\n",
       "                        <td id=\"T_d6669672_d5b6_11ea_8811_38f9d3db5c17row11_col2\" class=\"data row11 col2\" >1514525.5321</td>\n",
       "                        <td id=\"T_d6669672_d5b6_11ea_8811_38f9d3db5c17row11_col3\" class=\"data row11 col3\" >1218.8867</td>\n",
       "                        <td id=\"T_d6669672_d5b6_11ea_8811_38f9d3db5c17row11_col4\" class=\"data row11 col4\" >0.9074</td>\n",
       "                        <td id=\"T_d6669672_d5b6_11ea_8811_38f9d3db5c17row11_col5\" class=\"data row11 col5\" >0.5952</td>\n",
       "                        <td id=\"T_d6669672_d5b6_11ea_8811_38f9d3db5c17row11_col6\" class=\"data row11 col6\" >0.3954</td>\n",
       "                        <td id=\"T_d6669672_d5b6_11ea_8811_38f9d3db5c17row11_col7\" class=\"data row11 col7\" >0.0381</td>\n",
       "            </tr>\n",
       "            <tr>\n",
       "                        <th id=\"T_d6669672_d5b6_11ea_8811_38f9d3db5c17level0_row12\" class=\"row_heading level0 row12\" >12</th>\n",
       "                        <td id=\"T_d6669672_d5b6_11ea_8811_38f9d3db5c17row12_col0\" class=\"data row12 col0\" >Linear Regression</td>\n",
       "                        <td id=\"T_d6669672_d5b6_11ea_8811_38f9d3db5c17row12_col1\" class=\"data row12 col1\" >755.9138</td>\n",
       "                        <td id=\"T_d6669672_d5b6_11ea_8811_38f9d3db5c17row12_col2\" class=\"data row12 col2\" >1536448.0724</td>\n",
       "                        <td id=\"T_d6669672_d5b6_11ea_8811_38f9d3db5c17row12_col3\" class=\"data row12 col3\" >1225.1738</td>\n",
       "                        <td id=\"T_d6669672_d5b6_11ea_8811_38f9d3db5c17row12_col4\" class=\"data row12 col4\" >0.9062</td>\n",
       "                        <td id=\"T_d6669672_d5b6_11ea_8811_38f9d3db5c17row12_col5\" class=\"data row12 col5\" >0.5965</td>\n",
       "                        <td id=\"T_d6669672_d5b6_11ea_8811_38f9d3db5c17row12_col6\" class=\"data row12 col6\" >0.3952</td>\n",
       "                        <td id=\"T_d6669672_d5b6_11ea_8811_38f9d3db5c17row12_col7\" class=\"data row12 col7\" >0.0169</td>\n",
       "            </tr>\n",
       "            <tr>\n",
       "                        <th id=\"T_d6669672_d5b6_11ea_8811_38f9d3db5c17level0_row13\" class=\"row_heading level0 row13\" >13</th>\n",
       "                        <td id=\"T_d6669672_d5b6_11ea_8811_38f9d3db5c17row13_col0\" class=\"data row13 col0\" >Huber Regressor</td>\n",
       "                        <td id=\"T_d6669672_d5b6_11ea_8811_38f9d3db5c17row13_col1\" class=\"data row13 col1\" >669.8134</td>\n",
       "                        <td id=\"T_d6669672_d5b6_11ea_8811_38f9d3db5c17row13_col2\" class=\"data row13 col2\" >1572818.3926</td>\n",
       "                        <td id=\"T_d6669672_d5b6_11ea_8811_38f9d3db5c17row13_col3\" class=\"data row13 col3\" >1251.7621</td>\n",
       "                        <td id=\"T_d6669672_d5b6_11ea_8811_38f9d3db5c17row13_col4\" class=\"data row13 col4\" >0.9031</td>\n",
       "                        <td id=\"T_d6669672_d5b6_11ea_8811_38f9d3db5c17row13_col5\" class=\"data row13 col5\" >0.4689</td>\n",
       "                        <td id=\"T_d6669672_d5b6_11ea_8811_38f9d3db5c17row13_col6\" class=\"data row13 col6\" >0.2426</td>\n",
       "                        <td id=\"T_d6669672_d5b6_11ea_8811_38f9d3db5c17row13_col7\" class=\"data row13 col7\" >0.1978</td>\n",
       "            </tr>\n",
       "            <tr>\n",
       "                        <th id=\"T_d6669672_d5b6_11ea_8811_38f9d3db5c17level0_row14\" class=\"row_heading level0 row14\" >14</th>\n",
       "                        <td id=\"T_d6669672_d5b6_11ea_8811_38f9d3db5c17row14_col0\" class=\"data row14 col0\" >Random Sample Consensus</td>\n",
       "                        <td id=\"T_d6669672_d5b6_11ea_8811_38f9d3db5c17row14_col1\" class=\"data row14 col1\" >673.8001</td>\n",
       "                        <td id=\"T_d6669672_d5b6_11ea_8811_38f9d3db5c17row14_col2\" class=\"data row14 col2\" >1589829.9639</td>\n",
       "                        <td id=\"T_d6669672_d5b6_11ea_8811_38f9d3db5c17row14_col3\" class=\"data row14 col3\" >1254.2481</td>\n",
       "                        <td id=\"T_d6669672_d5b6_11ea_8811_38f9d3db5c17row14_col4\" class=\"data row14 col4\" >0.9025</td>\n",
       "                        <td id=\"T_d6669672_d5b6_11ea_8811_38f9d3db5c17row14_col5\" class=\"data row14 col5\" >0.4945</td>\n",
       "                        <td id=\"T_d6669672_d5b6_11ea_8811_38f9d3db5c17row14_col6\" class=\"data row14 col6\" >0.2657</td>\n",
       "                        <td id=\"T_d6669672_d5b6_11ea_8811_38f9d3db5c17row14_col7\" class=\"data row14 col7\" >0.3641</td>\n",
       "            </tr>\n",
       "            <tr>\n",
       "                        <th id=\"T_d6669672_d5b6_11ea_8811_38f9d3db5c17level0_row15\" class=\"row_heading level0 row15\" >15</th>\n",
       "                        <td id=\"T_d6669672_d5b6_11ea_8811_38f9d3db5c17row15_col0\" class=\"data row15 col0\" >Lasso Least Angle Regression</td>\n",
       "                        <td id=\"T_d6669672_d5b6_11ea_8811_38f9d3db5c17row15_col1\" class=\"data row15 col1\" >840.4263</td>\n",
       "                        <td id=\"T_d6669672_d5b6_11ea_8811_38f9d3db5c17row15_col2\" class=\"data row15 col2\" >1629034.4198</td>\n",
       "                        <td id=\"T_d6669672_d5b6_11ea_8811_38f9d3db5c17row15_col3\" class=\"data row15 col3\" >1274.9826</td>\n",
       "                        <td id=\"T_d6669672_d5b6_11ea_8811_38f9d3db5c17row15_col4\" class=\"data row15 col4\" >0.8997</td>\n",
       "                        <td id=\"T_d6669672_d5b6_11ea_8811_38f9d3db5c17row15_col5\" class=\"data row15 col5\" >0.6564</td>\n",
       "                        <td id=\"T_d6669672_d5b6_11ea_8811_38f9d3db5c17row15_col6\" class=\"data row15 col6\" >0.4021</td>\n",
       "                        <td id=\"T_d6669672_d5b6_11ea_8811_38f9d3db5c17row15_col7\" class=\"data row15 col7\" >0.0129</td>\n",
       "            </tr>\n",
       "            <tr>\n",
       "                        <th id=\"T_d6669672_d5b6_11ea_8811_38f9d3db5c17level0_row16\" class=\"row_heading level0 row16\" >16</th>\n",
       "                        <td id=\"T_d6669672_d5b6_11ea_8811_38f9d3db5c17row16_col0\" class=\"data row16 col0\" >TheilSen Regressor</td>\n",
       "                        <td id=\"T_d6669672_d5b6_11ea_8811_38f9d3db5c17row16_col1\" class=\"data row16 col1\" >673.5383</td>\n",
       "                        <td id=\"T_d6669672_d5b6_11ea_8811_38f9d3db5c17row16_col2\" class=\"data row16 col2\" >1809003.4225</td>\n",
       "                        <td id=\"T_d6669672_d5b6_11ea_8811_38f9d3db5c17row16_col3\" class=\"data row16 col3\" >1317.5808</td>\n",
       "                        <td id=\"T_d6669672_d5b6_11ea_8811_38f9d3db5c17row16_col4\" class=\"data row16 col4\" >0.8899</td>\n",
       "                        <td id=\"T_d6669672_d5b6_11ea_8811_38f9d3db5c17row16_col5\" class=\"data row16 col5\" >0.4970</td>\n",
       "                        <td id=\"T_d6669672_d5b6_11ea_8811_38f9d3db5c17row16_col6\" class=\"data row16 col6\" >0.2572</td>\n",
       "                        <td id=\"T_d6669672_d5b6_11ea_8811_38f9d3db5c17row16_col7\" class=\"data row16 col7\" >2.4665</td>\n",
       "            </tr>\n",
       "            <tr>\n",
       "                        <th id=\"T_d6669672_d5b6_11ea_8811_38f9d3db5c17level0_row17\" class=\"row_heading level0 row17\" >17</th>\n",
       "                        <td id=\"T_d6669672_d5b6_11ea_8811_38f9d3db5c17row17_col0\" class=\"data row17 col0\" >Passive Aggressive Regressor</td>\n",
       "                        <td id=\"T_d6669672_d5b6_11ea_8811_38f9d3db5c17row17_col1\" class=\"data row17 col1\" >678.1698</td>\n",
       "                        <td id=\"T_d6669672_d5b6_11ea_8811_38f9d3db5c17row17_col2\" class=\"data row17 col2\" >1816733.9578</td>\n",
       "                        <td id=\"T_d6669672_d5b6_11ea_8811_38f9d3db5c17row17_col3\" class=\"data row17 col3\" >1339.9544</td>\n",
       "                        <td id=\"T_d6669672_d5b6_11ea_8811_38f9d3db5c17row17_col4\" class=\"data row17 col4\" >0.8886</td>\n",
       "                        <td id=\"T_d6669672_d5b6_11ea_8811_38f9d3db5c17row17_col5\" class=\"data row17 col5\" >0.4429</td>\n",
       "                        <td id=\"T_d6669672_d5b6_11ea_8811_38f9d3db5c17row17_col6\" class=\"data row17 col6\" >0.2240</td>\n",
       "                        <td id=\"T_d6669672_d5b6_11ea_8811_38f9d3db5c17row17_col7\" class=\"data row17 col7\" >0.0645</td>\n",
       "            </tr>\n",
       "            <tr>\n",
       "                        <th id=\"T_d6669672_d5b6_11ea_8811_38f9d3db5c17level0_row18\" class=\"row_heading level0 row18\" >18</th>\n",
       "                        <td id=\"T_d6669672_d5b6_11ea_8811_38f9d3db5c17row18_col0\" class=\"data row18 col0\" >Orthogonal Matching Pursuit</td>\n",
       "                        <td id=\"T_d6669672_d5b6_11ea_8811_38f9d3db5c17row18_col1\" class=\"data row18 col1\" >1013.4721</td>\n",
       "                        <td id=\"T_d6669672_d5b6_11ea_8811_38f9d3db5c17row18_col2\" class=\"data row18 col2\" >2427333.8416</td>\n",
       "                        <td id=\"T_d6669672_d5b6_11ea_8811_38f9d3db5c17row18_col3\" class=\"data row18 col3\" >1556.8290</td>\n",
       "                        <td id=\"T_d6669672_d5b6_11ea_8811_38f9d3db5c17row18_col4\" class=\"data row18 col4\" >0.8504</td>\n",
       "                        <td id=\"T_d6669672_d5b6_11ea_8811_38f9d3db5c17row18_col5\" class=\"data row18 col5\" >0.7594</td>\n",
       "                        <td id=\"T_d6669672_d5b6_11ea_8811_38f9d3db5c17row18_col6\" class=\"data row18 col6\" >0.3843</td>\n",
       "                        <td id=\"T_d6669672_d5b6_11ea_8811_38f9d3db5c17row18_col7\" class=\"data row18 col7\" >0.0058</td>\n",
       "            </tr>\n",
       "            <tr>\n",
       "                        <th id=\"T_d6669672_d5b6_11ea_8811_38f9d3db5c17level0_row19\" class=\"row_heading level0 row19\" >19</th>\n",
       "                        <td id=\"T_d6669672_d5b6_11ea_8811_38f9d3db5c17row19_col0\" class=\"data row19 col0\" >Elastic Net</td>\n",
       "                        <td id=\"T_d6669672_d5b6_11ea_8811_38f9d3db5c17row19_col1\" class=\"data row19 col1\" >1058.1710</td>\n",
       "                        <td id=\"T_d6669672_d5b6_11ea_8811_38f9d3db5c17row19_col2\" class=\"data row19 col2\" >2441651.0720</td>\n",
       "                        <td id=\"T_d6669672_d5b6_11ea_8811_38f9d3db5c17row19_col3\" class=\"data row19 col3\" >1560.7924</td>\n",
       "                        <td id=\"T_d6669672_d5b6_11ea_8811_38f9d3db5c17row19_col4\" class=\"data row19 col4\" >0.8499</td>\n",
       "                        <td id=\"T_d6669672_d5b6_11ea_8811_38f9d3db5c17row19_col5\" class=\"data row19 col5\" >0.6814</td>\n",
       "                        <td id=\"T_d6669672_d5b6_11ea_8811_38f9d3db5c17row19_col6\" class=\"data row19 col6\" >0.4553</td>\n",
       "                        <td id=\"T_d6669672_d5b6_11ea_8811_38f9d3db5c17row19_col7\" class=\"data row19 col7\" >0.0513</td>\n",
       "            </tr>\n",
       "            <tr>\n",
       "                        <th id=\"T_d6669672_d5b6_11ea_8811_38f9d3db5c17level0_row20\" class=\"row_heading level0 row20\" >20</th>\n",
       "                        <td id=\"T_d6669672_d5b6_11ea_8811_38f9d3db5c17row20_col0\" class=\"data row20 col0\" >Least Angle Regression</td>\n",
       "                        <td id=\"T_d6669672_d5b6_11ea_8811_38f9d3db5c17row20_col1\" class=\"data row20 col1\" >791.9029</td>\n",
       "                        <td id=\"T_d6669672_d5b6_11ea_8811_38f9d3db5c17row20_col2\" class=\"data row20 col2\" >7324791.4039</td>\n",
       "                        <td id=\"T_d6669672_d5b6_11ea_8811_38f9d3db5c17row20_col3\" class=\"data row20 col3\" >1831.6060</td>\n",
       "                        <td id=\"T_d6669672_d5b6_11ea_8811_38f9d3db5c17row20_col4\" class=\"data row20 col4\" >0.5786</td>\n",
       "                        <td id=\"T_d6669672_d5b6_11ea_8811_38f9d3db5c17row20_col5\" class=\"data row20 col5\" >0.5936</td>\n",
       "                        <td id=\"T_d6669672_d5b6_11ea_8811_38f9d3db5c17row20_col6\" class=\"data row20 col6\" >0.4130</td>\n",
       "                        <td id=\"T_d6669672_d5b6_11ea_8811_38f9d3db5c17row20_col7\" class=\"data row20 col7\" >0.0164</td>\n",
       "            </tr>\n",
       "            <tr>\n",
       "                        <th id=\"T_d6669672_d5b6_11ea_8811_38f9d3db5c17level0_row21\" class=\"row_heading level0 row21\" >21</th>\n",
       "                        <td id=\"T_d6669672_d5b6_11ea_8811_38f9d3db5c17row21_col0\" class=\"data row21 col0\" >Support Vector Machine</td>\n",
       "                        <td id=\"T_d6669672_d5b6_11ea_8811_38f9d3db5c17row21_col1\" class=\"data row21 col1\" >1940.1060</td>\n",
       "                        <td id=\"T_d6669672_d5b6_11ea_8811_38f9d3db5c17row21_col2\" class=\"data row21 col2\" >13049195.4426</td>\n",
       "                        <td id=\"T_d6669672_d5b6_11ea_8811_38f9d3db5c17row21_col3\" class=\"data row21 col3\" >3609.4500</td>\n",
       "                        <td id=\"T_d6669672_d5b6_11ea_8811_38f9d3db5c17row21_col4\" class=\"data row21 col4\" >0.1976</td>\n",
       "                        <td id=\"T_d6669672_d5b6_11ea_8811_38f9d3db5c17row21_col5\" class=\"data row21 col5\" >0.6427</td>\n",
       "                        <td id=\"T_d6669672_d5b6_11ea_8811_38f9d3db5c17row21_col6\" class=\"data row21 col6\" >0.5244</td>\n",
       "                        <td id=\"T_d6669672_d5b6_11ea_8811_38f9d3db5c17row21_col7\" class=\"data row21 col7\" >4.4614</td>\n",
       "            </tr>\n",
       "    </tbody></table>"
      ],
      "text/plain": [
       "<pandas.io.formats.style.Styler at 0x1296de910>"
      ]
     },
     "metadata": {},
     "output_type": "display_data"
    }
   ],
   "source": [
    "# automatically compare all models \n",
    "best_regression_model = regression.compare_models(\n",
    "    turbo=True,\n",
    ")"
   ]
  },
  {
   "cell_type": "code",
   "execution_count": 45,
   "metadata": {},
   "outputs": [
    {
     "data": {
      "text/html": [
       "<div>\n",
       "<style scoped>\n",
       "    .dataframe tbody tr th:only-of-type {\n",
       "        vertical-align: middle;\n",
       "    }\n",
       "\n",
       "    .dataframe tbody tr th {\n",
       "        vertical-align: top;\n",
       "    }\n",
       "\n",
       "    .dataframe thead th {\n",
       "        text-align: right;\n",
       "    }\n",
       "</style>\n",
       "<table border=\"1\" class=\"dataframe\">\n",
       "  <thead>\n",
       "    <tr style=\"text-align: right;\">\n",
       "      <th></th>\n",
       "      <th>Name</th>\n",
       "      <th>Reference</th>\n",
       "      <th>Turbo</th>\n",
       "    </tr>\n",
       "    <tr>\n",
       "      <th>ID</th>\n",
       "      <th></th>\n",
       "      <th></th>\n",
       "      <th></th>\n",
       "    </tr>\n",
       "  </thead>\n",
       "  <tbody>\n",
       "    <tr>\n",
       "      <th>lr</th>\n",
       "      <td>Linear Regression</td>\n",
       "      <td>sklearn.linear_model.LinearRegression</td>\n",
       "      <td>True</td>\n",
       "    </tr>\n",
       "    <tr>\n",
       "      <th>lasso</th>\n",
       "      <td>Lasso Regression</td>\n",
       "      <td>sklearn.linear_model.Lasso</td>\n",
       "      <td>True</td>\n",
       "    </tr>\n",
       "    <tr>\n",
       "      <th>ridge</th>\n",
       "      <td>Ridge Regression</td>\n",
       "      <td>sklearn.linear_model.Ridge</td>\n",
       "      <td>True</td>\n",
       "    </tr>\n",
       "    <tr>\n",
       "      <th>en</th>\n",
       "      <td>Elastic Net</td>\n",
       "      <td>sklearn.linear_model.ElasticNet</td>\n",
       "      <td>True</td>\n",
       "    </tr>\n",
       "    <tr>\n",
       "      <th>lar</th>\n",
       "      <td>Least Angle Regression</td>\n",
       "      <td>sklearn.linear_model.Lars</td>\n",
       "      <td>True</td>\n",
       "    </tr>\n",
       "    <tr>\n",
       "      <th>llar</th>\n",
       "      <td>Lasso Least Angle Regression</td>\n",
       "      <td>sklearn.linear_model.LassoLars</td>\n",
       "      <td>True</td>\n",
       "    </tr>\n",
       "    <tr>\n",
       "      <th>omp</th>\n",
       "      <td>Orthogonal Matching Pursuit</td>\n",
       "      <td>sklearn.linear_model.OMP</td>\n",
       "      <td>True</td>\n",
       "    </tr>\n",
       "    <tr>\n",
       "      <th>br</th>\n",
       "      <td>Bayesian Ridge</td>\n",
       "      <td>sklearn.linear_model.BayesianRidge</td>\n",
       "      <td>True</td>\n",
       "    </tr>\n",
       "    <tr>\n",
       "      <th>ard</th>\n",
       "      <td>Automatic Relevance Determination</td>\n",
       "      <td>sklearn.linear_model.ARDRegression</td>\n",
       "      <td>False</td>\n",
       "    </tr>\n",
       "    <tr>\n",
       "      <th>par</th>\n",
       "      <td>Passive Aggressive Regressor</td>\n",
       "      <td>sklearn.linear_model.PAR</td>\n",
       "      <td>True</td>\n",
       "    </tr>\n",
       "    <tr>\n",
       "      <th>ransac</th>\n",
       "      <td>Random Sample Consensus</td>\n",
       "      <td>sklearn.linear_model.RANSACRegressor</td>\n",
       "      <td>True</td>\n",
       "    </tr>\n",
       "    <tr>\n",
       "      <th>tr</th>\n",
       "      <td>TheilSen Regressor</td>\n",
       "      <td>sklearn.linear_model.TheilSenRegressor</td>\n",
       "      <td>True</td>\n",
       "    </tr>\n",
       "    <tr>\n",
       "      <th>huber</th>\n",
       "      <td>Huber Regressor</td>\n",
       "      <td>sklearn.linear_model.HuberRegressor</td>\n",
       "      <td>True</td>\n",
       "    </tr>\n",
       "    <tr>\n",
       "      <th>kr</th>\n",
       "      <td>Kernel Ridge</td>\n",
       "      <td>sklearn.kernel_ridge.KernelRidge</td>\n",
       "      <td>False</td>\n",
       "    </tr>\n",
       "    <tr>\n",
       "      <th>svm</th>\n",
       "      <td>Support Vector Machine</td>\n",
       "      <td>sklearn.svm.SVR</td>\n",
       "      <td>True</td>\n",
       "    </tr>\n",
       "    <tr>\n",
       "      <th>knn</th>\n",
       "      <td>K Neighbors Regressor</td>\n",
       "      <td>sklearn.neighbors.KNeighborsRegressor</td>\n",
       "      <td>True</td>\n",
       "    </tr>\n",
       "    <tr>\n",
       "      <th>dt</th>\n",
       "      <td>Decision Tree</td>\n",
       "      <td>sklearn.tree.DecisionTreeRegressor</td>\n",
       "      <td>True</td>\n",
       "    </tr>\n",
       "    <tr>\n",
       "      <th>rf</th>\n",
       "      <td>Random Forest</td>\n",
       "      <td>sklearn.ensemble.RandomForestRegressor</td>\n",
       "      <td>True</td>\n",
       "    </tr>\n",
       "    <tr>\n",
       "      <th>et</th>\n",
       "      <td>Extra Trees Regressor</td>\n",
       "      <td>sklearn.ensemble.ExtraTreesRegressor</td>\n",
       "      <td>True</td>\n",
       "    </tr>\n",
       "    <tr>\n",
       "      <th>ada</th>\n",
       "      <td>AdaBoost Regressor</td>\n",
       "      <td>sklearn.ensemble.AdaBoostRegressor</td>\n",
       "      <td>True</td>\n",
       "    </tr>\n",
       "    <tr>\n",
       "      <th>gbr</th>\n",
       "      <td>Gradient Boosting Regressor</td>\n",
       "      <td>sklearn.ensemble.GradientBoostingRegressor</td>\n",
       "      <td>True</td>\n",
       "    </tr>\n",
       "    <tr>\n",
       "      <th>mlp</th>\n",
       "      <td>Multi Level Perceptron</td>\n",
       "      <td>sklearn.neural_network.MLPRegressor</td>\n",
       "      <td>False</td>\n",
       "    </tr>\n",
       "    <tr>\n",
       "      <th>xgboost</th>\n",
       "      <td>Extreme Gradient Boosting</td>\n",
       "      <td>xgboost.readthedocs.io</td>\n",
       "      <td>True</td>\n",
       "    </tr>\n",
       "    <tr>\n",
       "      <th>lightgbm</th>\n",
       "      <td>Light Gradient Boosting Machine</td>\n",
       "      <td>github.com/microsoft/LightGBM</td>\n",
       "      <td>True</td>\n",
       "    </tr>\n",
       "    <tr>\n",
       "      <th>catboost</th>\n",
       "      <td>CatBoost Regressor</td>\n",
       "      <td>https://catboost.ai</td>\n",
       "      <td>True</td>\n",
       "    </tr>\n",
       "  </tbody>\n",
       "</table>\n",
       "</div>"
      ],
      "text/plain": [
       "                                       Name  \\\n",
       "ID                                            \n",
       "lr                        Linear Regression   \n",
       "lasso                      Lasso Regression   \n",
       "ridge                      Ridge Regression   \n",
       "en                              Elastic Net   \n",
       "lar                  Least Angle Regression   \n",
       "llar           Lasso Least Angle Regression   \n",
       "omp             Orthogonal Matching Pursuit   \n",
       "br                           Bayesian Ridge   \n",
       "ard       Automatic Relevance Determination   \n",
       "par            Passive Aggressive Regressor   \n",
       "ransac              Random Sample Consensus   \n",
       "tr                       TheilSen Regressor   \n",
       "huber                       Huber Regressor   \n",
       "kr                             Kernel Ridge   \n",
       "svm                  Support Vector Machine   \n",
       "knn                   K Neighbors Regressor   \n",
       "dt                            Decision Tree   \n",
       "rf                            Random Forest   \n",
       "et                    Extra Trees Regressor   \n",
       "ada                      AdaBoost Regressor   \n",
       "gbr             Gradient Boosting Regressor   \n",
       "mlp                  Multi Level Perceptron   \n",
       "xgboost           Extreme Gradient Boosting   \n",
       "lightgbm    Light Gradient Boosting Machine   \n",
       "catboost                 CatBoost Regressor   \n",
       "\n",
       "                                           Reference  Turbo  \n",
       "ID                                                           \n",
       "lr             sklearn.linear_model.LinearRegression   True  \n",
       "lasso                     sklearn.linear_model.Lasso   True  \n",
       "ridge                     sklearn.linear_model.Ridge   True  \n",
       "en                   sklearn.linear_model.ElasticNet   True  \n",
       "lar                        sklearn.linear_model.Lars   True  \n",
       "llar                  sklearn.linear_model.LassoLars   True  \n",
       "omp                         sklearn.linear_model.OMP   True  \n",
       "br                sklearn.linear_model.BayesianRidge   True  \n",
       "ard               sklearn.linear_model.ARDRegression  False  \n",
       "par                         sklearn.linear_model.PAR   True  \n",
       "ransac          sklearn.linear_model.RANSACRegressor   True  \n",
       "tr            sklearn.linear_model.TheilSenRegressor   True  \n",
       "huber            sklearn.linear_model.HuberRegressor   True  \n",
       "kr                  sklearn.kernel_ridge.KernelRidge  False  \n",
       "svm                                  sklearn.svm.SVR   True  \n",
       "knn            sklearn.neighbors.KNeighborsRegressor   True  \n",
       "dt                sklearn.tree.DecisionTreeRegressor   True  \n",
       "rf            sklearn.ensemble.RandomForestRegressor   True  \n",
       "et              sklearn.ensemble.ExtraTreesRegressor   True  \n",
       "ada               sklearn.ensemble.AdaBoostRegressor   True  \n",
       "gbr       sklearn.ensemble.GradientBoostingRegressor   True  \n",
       "mlp              sklearn.neural_network.MLPRegressor  False  \n",
       "xgboost                       xgboost.readthedocs.io   True  \n",
       "lightgbm               github.com/microsoft/LightGBM   True  \n",
       "catboost                         https://catboost.ai   True  "
      ]
     },
     "execution_count": 45,
     "metadata": {},
     "output_type": "execute_result"
    }
   ],
   "source": [
    "# models info\n",
    "regression.models()"
   ]
  },
  {
   "cell_type": "code",
   "execution_count": 46,
   "metadata": {},
   "outputs": [
    {
     "data": {
      "text/html": [
       "<style  type=\"text/css\" >\n",
       "    #T_deceb9de_d5b6_11ea_8811_38f9d3db5c17row10_col0 {\n",
       "            background:  yellow;\n",
       "        }    #T_deceb9de_d5b6_11ea_8811_38f9d3db5c17row10_col1 {\n",
       "            background:  yellow;\n",
       "        }    #T_deceb9de_d5b6_11ea_8811_38f9d3db5c17row10_col2 {\n",
       "            background:  yellow;\n",
       "        }    #T_deceb9de_d5b6_11ea_8811_38f9d3db5c17row10_col3 {\n",
       "            background:  yellow;\n",
       "        }    #T_deceb9de_d5b6_11ea_8811_38f9d3db5c17row10_col4 {\n",
       "            background:  yellow;\n",
       "        }    #T_deceb9de_d5b6_11ea_8811_38f9d3db5c17row10_col5 {\n",
       "            background:  yellow;\n",
       "        }</style><table id=\"T_deceb9de_d5b6_11ea_8811_38f9d3db5c17\" ><thead>    <tr>        <th class=\"blank level0\" ></th>        <th class=\"col_heading level0 col0\" >MAE</th>        <th class=\"col_heading level0 col1\" >MSE</th>        <th class=\"col_heading level0 col2\" >RMSE</th>        <th class=\"col_heading level0 col3\" >R2</th>        <th class=\"col_heading level0 col4\" >RMSLE</th>        <th class=\"col_heading level0 col5\" >MAPE</th>    </tr></thead><tbody>\n",
       "                <tr>\n",
       "                        <th id=\"T_deceb9de_d5b6_11ea_8811_38f9d3db5c17level0_row0\" class=\"row_heading level0 row0\" >0</th>\n",
       "                        <td id=\"T_deceb9de_d5b6_11ea_8811_38f9d3db5c17row0_col0\" class=\"data row0 col0\" >308.2242</td>\n",
       "                        <td id=\"T_deceb9de_d5b6_11ea_8811_38f9d3db5c17row0_col1\" class=\"data row0 col1\" >336445.1694</td>\n",
       "                        <td id=\"T_deceb9de_d5b6_11ea_8811_38f9d3db5c17row0_col2\" class=\"data row0 col2\" >580.0389</td>\n",
       "                        <td id=\"T_deceb9de_d5b6_11ea_8811_38f9d3db5c17row0_col3\" class=\"data row0 col3\" >0.9790</td>\n",
       "                        <td id=\"T_deceb9de_d5b6_11ea_8811_38f9d3db5c17row0_col4\" class=\"data row0 col4\" >0.1083</td>\n",
       "                        <td id=\"T_deceb9de_d5b6_11ea_8811_38f9d3db5c17row0_col5\" class=\"data row0 col5\" >0.0841</td>\n",
       "            </tr>\n",
       "            <tr>\n",
       "                        <th id=\"T_deceb9de_d5b6_11ea_8811_38f9d3db5c17level0_row1\" class=\"row_heading level0 row1\" >1</th>\n",
       "                        <td id=\"T_deceb9de_d5b6_11ea_8811_38f9d3db5c17row1_col0\" class=\"data row1 col0\" >310.5260</td>\n",
       "                        <td id=\"T_deceb9de_d5b6_11ea_8811_38f9d3db5c17row1_col1\" class=\"data row1 col1\" >392811.1994</td>\n",
       "                        <td id=\"T_deceb9de_d5b6_11ea_8811_38f9d3db5c17row1_col2\" class=\"data row1 col2\" >626.7465</td>\n",
       "                        <td id=\"T_deceb9de_d5b6_11ea_8811_38f9d3db5c17row1_col3\" class=\"data row1 col3\" >0.9778</td>\n",
       "                        <td id=\"T_deceb9de_d5b6_11ea_8811_38f9d3db5c17row1_col4\" class=\"data row1 col4\" >0.1136</td>\n",
       "                        <td id=\"T_deceb9de_d5b6_11ea_8811_38f9d3db5c17row1_col5\" class=\"data row1 col5\" >0.0868</td>\n",
       "            </tr>\n",
       "            <tr>\n",
       "                        <th id=\"T_deceb9de_d5b6_11ea_8811_38f9d3db5c17level0_row2\" class=\"row_heading level0 row2\" >2</th>\n",
       "                        <td id=\"T_deceb9de_d5b6_11ea_8811_38f9d3db5c17row2_col0\" class=\"data row2 col0\" >324.2759</td>\n",
       "                        <td id=\"T_deceb9de_d5b6_11ea_8811_38f9d3db5c17row2_col1\" class=\"data row2 col1\" >424139.6030</td>\n",
       "                        <td id=\"T_deceb9de_d5b6_11ea_8811_38f9d3db5c17row2_col2\" class=\"data row2 col2\" >651.2600</td>\n",
       "                        <td id=\"T_deceb9de_d5b6_11ea_8811_38f9d3db5c17row2_col3\" class=\"data row2 col3\" >0.9743</td>\n",
       "                        <td id=\"T_deceb9de_d5b6_11ea_8811_38f9d3db5c17row2_col4\" class=\"data row2 col4\" >0.1129</td>\n",
       "                        <td id=\"T_deceb9de_d5b6_11ea_8811_38f9d3db5c17row2_col5\" class=\"data row2 col5\" >0.0870</td>\n",
       "            </tr>\n",
       "            <tr>\n",
       "                        <th id=\"T_deceb9de_d5b6_11ea_8811_38f9d3db5c17level0_row3\" class=\"row_heading level0 row3\" >3</th>\n",
       "                        <td id=\"T_deceb9de_d5b6_11ea_8811_38f9d3db5c17row3_col0\" class=\"data row3 col0\" >292.7301</td>\n",
       "                        <td id=\"T_deceb9de_d5b6_11ea_8811_38f9d3db5c17row3_col1\" class=\"data row3 col1\" >384756.7913</td>\n",
       "                        <td id=\"T_deceb9de_d5b6_11ea_8811_38f9d3db5c17row3_col2\" class=\"data row3 col2\" >620.2877</td>\n",
       "                        <td id=\"T_deceb9de_d5b6_11ea_8811_38f9d3db5c17row3_col3\" class=\"data row3 col3\" >0.9751</td>\n",
       "                        <td id=\"T_deceb9de_d5b6_11ea_8811_38f9d3db5c17row3_col4\" class=\"data row3 col4\" >0.1106</td>\n",
       "                        <td id=\"T_deceb9de_d5b6_11ea_8811_38f9d3db5c17row3_col5\" class=\"data row3 col5\" >0.0846</td>\n",
       "            </tr>\n",
       "            <tr>\n",
       "                        <th id=\"T_deceb9de_d5b6_11ea_8811_38f9d3db5c17level0_row4\" class=\"row_heading level0 row4\" >4</th>\n",
       "                        <td id=\"T_deceb9de_d5b6_11ea_8811_38f9d3db5c17row4_col0\" class=\"data row4 col0\" >269.4478</td>\n",
       "                        <td id=\"T_deceb9de_d5b6_11ea_8811_38f9d3db5c17row4_col1\" class=\"data row4 col1\" >242133.9621</td>\n",
       "                        <td id=\"T_deceb9de_d5b6_11ea_8811_38f9d3db5c17row4_col2\" class=\"data row4 col2\" >492.0711</td>\n",
       "                        <td id=\"T_deceb9de_d5b6_11ea_8811_38f9d3db5c17row4_col3\" class=\"data row4 col3\" >0.9831</td>\n",
       "                        <td id=\"T_deceb9de_d5b6_11ea_8811_38f9d3db5c17row4_col4\" class=\"data row4 col4\" >0.1052</td>\n",
       "                        <td id=\"T_deceb9de_d5b6_11ea_8811_38f9d3db5c17row4_col5\" class=\"data row4 col5\" >0.0796</td>\n",
       "            </tr>\n",
       "            <tr>\n",
       "                        <th id=\"T_deceb9de_d5b6_11ea_8811_38f9d3db5c17level0_row5\" class=\"row_heading level0 row5\" >5</th>\n",
       "                        <td id=\"T_deceb9de_d5b6_11ea_8811_38f9d3db5c17row5_col0\" class=\"data row5 col0\" >313.1564</td>\n",
       "                        <td id=\"T_deceb9de_d5b6_11ea_8811_38f9d3db5c17row5_col1\" class=\"data row5 col1\" >378380.5959</td>\n",
       "                        <td id=\"T_deceb9de_d5b6_11ea_8811_38f9d3db5c17row5_col2\" class=\"data row5 col2\" >615.1265</td>\n",
       "                        <td id=\"T_deceb9de_d5b6_11ea_8811_38f9d3db5c17row5_col3\" class=\"data row5 col3\" >0.9768</td>\n",
       "                        <td id=\"T_deceb9de_d5b6_11ea_8811_38f9d3db5c17row5_col4\" class=\"data row5 col4\" >0.1090</td>\n",
       "                        <td id=\"T_deceb9de_d5b6_11ea_8811_38f9d3db5c17row5_col5\" class=\"data row5 col5\" >0.0843</td>\n",
       "            </tr>\n",
       "            <tr>\n",
       "                        <th id=\"T_deceb9de_d5b6_11ea_8811_38f9d3db5c17level0_row6\" class=\"row_heading level0 row6\" >6</th>\n",
       "                        <td id=\"T_deceb9de_d5b6_11ea_8811_38f9d3db5c17row6_col0\" class=\"data row6 col0\" >301.0616</td>\n",
       "                        <td id=\"T_deceb9de_d5b6_11ea_8811_38f9d3db5c17row6_col1\" class=\"data row6 col1\" >344650.1420</td>\n",
       "                        <td id=\"T_deceb9de_d5b6_11ea_8811_38f9d3db5c17row6_col2\" class=\"data row6 col2\" >587.0691</td>\n",
       "                        <td id=\"T_deceb9de_d5b6_11ea_8811_38f9d3db5c17row6_col3\" class=\"data row6 col3\" >0.9803</td>\n",
       "                        <td id=\"T_deceb9de_d5b6_11ea_8811_38f9d3db5c17row6_col4\" class=\"data row6 col4\" >0.1078</td>\n",
       "                        <td id=\"T_deceb9de_d5b6_11ea_8811_38f9d3db5c17row6_col5\" class=\"data row6 col5\" >0.0828</td>\n",
       "            </tr>\n",
       "            <tr>\n",
       "                        <th id=\"T_deceb9de_d5b6_11ea_8811_38f9d3db5c17level0_row7\" class=\"row_heading level0 row7\" >7</th>\n",
       "                        <td id=\"T_deceb9de_d5b6_11ea_8811_38f9d3db5c17row7_col0\" class=\"data row7 col0\" >287.9192</td>\n",
       "                        <td id=\"T_deceb9de_d5b6_11ea_8811_38f9d3db5c17row7_col1\" class=\"data row7 col1\" >280826.0966</td>\n",
       "                        <td id=\"T_deceb9de_d5b6_11ea_8811_38f9d3db5c17row7_col2\" class=\"data row7 col2\" >529.9303</td>\n",
       "                        <td id=\"T_deceb9de_d5b6_11ea_8811_38f9d3db5c17row7_col3\" class=\"data row7 col3\" >0.9827</td>\n",
       "                        <td id=\"T_deceb9de_d5b6_11ea_8811_38f9d3db5c17row7_col4\" class=\"data row7 col4\" >0.1147</td>\n",
       "                        <td id=\"T_deceb9de_d5b6_11ea_8811_38f9d3db5c17row7_col5\" class=\"data row7 col5\" >0.0865</td>\n",
       "            </tr>\n",
       "            <tr>\n",
       "                        <th id=\"T_deceb9de_d5b6_11ea_8811_38f9d3db5c17level0_row8\" class=\"row_heading level0 row8\" >8</th>\n",
       "                        <td id=\"T_deceb9de_d5b6_11ea_8811_38f9d3db5c17row8_col0\" class=\"data row8 col0\" >275.0630</td>\n",
       "                        <td id=\"T_deceb9de_d5b6_11ea_8811_38f9d3db5c17row8_col1\" class=\"data row8 col1\" >258259.3436</td>\n",
       "                        <td id=\"T_deceb9de_d5b6_11ea_8811_38f9d3db5c17row8_col2\" class=\"data row8 col2\" >508.1922</td>\n",
       "                        <td id=\"T_deceb9de_d5b6_11ea_8811_38f9d3db5c17row8_col3\" class=\"data row8 col3\" >0.9845</td>\n",
       "                        <td id=\"T_deceb9de_d5b6_11ea_8811_38f9d3db5c17row8_col4\" class=\"data row8 col4\" >0.1048</td>\n",
       "                        <td id=\"T_deceb9de_d5b6_11ea_8811_38f9d3db5c17row8_col5\" class=\"data row8 col5\" >0.0813</td>\n",
       "            </tr>\n",
       "            <tr>\n",
       "                        <th id=\"T_deceb9de_d5b6_11ea_8811_38f9d3db5c17level0_row9\" class=\"row_heading level0 row9\" >9</th>\n",
       "                        <td id=\"T_deceb9de_d5b6_11ea_8811_38f9d3db5c17row9_col0\" class=\"data row9 col0\" >293.6408</td>\n",
       "                        <td id=\"T_deceb9de_d5b6_11ea_8811_38f9d3db5c17row9_col1\" class=\"data row9 col1\" >346515.2311</td>\n",
       "                        <td id=\"T_deceb9de_d5b6_11ea_8811_38f9d3db5c17row9_col2\" class=\"data row9 col2\" >588.6554</td>\n",
       "                        <td id=\"T_deceb9de_d5b6_11ea_8811_38f9d3db5c17row9_col3\" class=\"data row9 col3\" >0.9779</td>\n",
       "                        <td id=\"T_deceb9de_d5b6_11ea_8811_38f9d3db5c17row9_col4\" class=\"data row9 col4\" >0.1096</td>\n",
       "                        <td id=\"T_deceb9de_d5b6_11ea_8811_38f9d3db5c17row9_col5\" class=\"data row9 col5\" >0.0837</td>\n",
       "            </tr>\n",
       "            <tr>\n",
       "                        <th id=\"T_deceb9de_d5b6_11ea_8811_38f9d3db5c17level0_row10\" class=\"row_heading level0 row10\" >Mean</th>\n",
       "                        <td id=\"T_deceb9de_d5b6_11ea_8811_38f9d3db5c17row10_col0\" class=\"data row10 col0\" >297.6045</td>\n",
       "                        <td id=\"T_deceb9de_d5b6_11ea_8811_38f9d3db5c17row10_col1\" class=\"data row10 col1\" >338891.8134</td>\n",
       "                        <td id=\"T_deceb9de_d5b6_11ea_8811_38f9d3db5c17row10_col2\" class=\"data row10 col2\" >579.9378</td>\n",
       "                        <td id=\"T_deceb9de_d5b6_11ea_8811_38f9d3db5c17row10_col3\" class=\"data row10 col3\" >0.9792</td>\n",
       "                        <td id=\"T_deceb9de_d5b6_11ea_8811_38f9d3db5c17row10_col4\" class=\"data row10 col4\" >0.1096</td>\n",
       "                        <td id=\"T_deceb9de_d5b6_11ea_8811_38f9d3db5c17row10_col5\" class=\"data row10 col5\" >0.0841</td>\n",
       "            </tr>\n",
       "            <tr>\n",
       "                        <th id=\"T_deceb9de_d5b6_11ea_8811_38f9d3db5c17level0_row11\" class=\"row_heading level0 row11\" >SD</th>\n",
       "                        <td id=\"T_deceb9de_d5b6_11ea_8811_38f9d3db5c17row11_col0\" class=\"data row11 col0\" >16.3680</td>\n",
       "                        <td id=\"T_deceb9de_d5b6_11ea_8811_38f9d3db5c17row11_col1\" class=\"data row11 col1\" >57593.4122</td>\n",
       "                        <td id=\"T_deceb9de_d5b6_11ea_8811_38f9d3db5c17row11_col2\" class=\"data row11 col2\" >50.6358</td>\n",
       "                        <td id=\"T_deceb9de_d5b6_11ea_8811_38f9d3db5c17row11_col3\" class=\"data row11 col3\" >0.0033</td>\n",
       "                        <td id=\"T_deceb9de_d5b6_11ea_8811_38f9d3db5c17row11_col4\" class=\"data row11 col4\" >0.0032</td>\n",
       "                        <td id=\"T_deceb9de_d5b6_11ea_8811_38f9d3db5c17row11_col5\" class=\"data row11 col5\" >0.0023</td>\n",
       "            </tr>\n",
       "    </tbody></table>"
      ],
      "text/plain": [
       "<pandas.io.formats.style.Styler at 0x129892b80>"
      ]
     },
     "metadata": {},
     "output_type": "display_data"
    }
   ],
   "source": [
    "# create a model \n",
    "# 'lr'        Linear Regression                   \n",
    "# 'lasso'     Lasso Regression                \n",
    "# 'ridge'     Ridge Regression                \n",
    "# 'en'        Elastic Net                   \n",
    "# 'lar'       Least Angle Regression                  \n",
    "# 'llar'      Lasso Least Angle Regression                   \n",
    "# 'omp'       Orthogonal Matching Pursuit                     \n",
    "# 'br'        Bayesian Ridge                   \n",
    "# 'ard'       Automatic Relevance Determination                  \n",
    "# 'par'       Passive Aggressive Regressor                    \n",
    "# 'ransac'    Random Sample Consensus       \n",
    "# 'tr'        TheilSen Regressor                   \n",
    "# 'huber'     Huber Regressor                               \n",
    "# 'kr'        Kernel Ridge                                     \n",
    "# 'svm'       Support Vector Machine                           \n",
    "# 'knn'       K Neighbors Regressor                           \n",
    "# 'dt'        Decision Tree                                    \n",
    "# 'rf'        Random Forest                                    \n",
    "# 'et'        Extra Trees Regressor                            \n",
    "# 'ada'       AdaBoost Regressor                              \n",
    "# 'gbr'       Gradient Boosting Regressor                               \n",
    "# 'mlp'       Multi Level Perceptron                          \n",
    "# 'xgboost'   Extreme Gradient Boosting                   \n",
    "# 'lightgbm'  Light Gradient Boosting                    \n",
    "# 'catboost'  CatBoost Regressor        \n",
    "regression_model = regression.create_model(\n",
    "    estimator='lightgbm'\n",
    ")"
   ]
  },
  {
   "cell_type": "code",
   "execution_count": 47,
   "metadata": {},
   "outputs": [
    {
     "data": {
      "text/html": [
       "<style  type=\"text/css\" >\n",
       "    #T_222c89a4_d5b7_11ea_8811_38f9d3db5c17row10_col0 {\n",
       "            background:  yellow;\n",
       "        }    #T_222c89a4_d5b7_11ea_8811_38f9d3db5c17row10_col1 {\n",
       "            background:  yellow;\n",
       "        }    #T_222c89a4_d5b7_11ea_8811_38f9d3db5c17row10_col2 {\n",
       "            background:  yellow;\n",
       "        }    #T_222c89a4_d5b7_11ea_8811_38f9d3db5c17row10_col3 {\n",
       "            background:  yellow;\n",
       "        }    #T_222c89a4_d5b7_11ea_8811_38f9d3db5c17row10_col4 {\n",
       "            background:  yellow;\n",
       "        }    #T_222c89a4_d5b7_11ea_8811_38f9d3db5c17row10_col5 {\n",
       "            background:  yellow;\n",
       "        }</style><table id=\"T_222c89a4_d5b7_11ea_8811_38f9d3db5c17\" ><thead>    <tr>        <th class=\"blank level0\" ></th>        <th class=\"col_heading level0 col0\" >MAE</th>        <th class=\"col_heading level0 col1\" >MSE</th>        <th class=\"col_heading level0 col2\" >RMSE</th>        <th class=\"col_heading level0 col3\" >R2</th>        <th class=\"col_heading level0 col4\" >RMSLE</th>        <th class=\"col_heading level0 col5\" >MAPE</th>    </tr></thead><tbody>\n",
       "                <tr>\n",
       "                        <th id=\"T_222c89a4_d5b7_11ea_8811_38f9d3db5c17level0_row0\" class=\"row_heading level0 row0\" >0</th>\n",
       "                        <td id=\"T_222c89a4_d5b7_11ea_8811_38f9d3db5c17row0_col0\" class=\"data row0 col0\" >300.9358</td>\n",
       "                        <td id=\"T_222c89a4_d5b7_11ea_8811_38f9d3db5c17row0_col1\" class=\"data row0 col1\" >326872.7975</td>\n",
       "                        <td id=\"T_222c89a4_d5b7_11ea_8811_38f9d3db5c17row0_col2\" class=\"data row0 col2\" >571.7279</td>\n",
       "                        <td id=\"T_222c89a4_d5b7_11ea_8811_38f9d3db5c17row0_col3\" class=\"data row0 col3\" >0.9796</td>\n",
       "                        <td id=\"T_222c89a4_d5b7_11ea_8811_38f9d3db5c17row0_col4\" class=\"data row0 col4\" >0.1050</td>\n",
       "                        <td id=\"T_222c89a4_d5b7_11ea_8811_38f9d3db5c17row0_col5\" class=\"data row0 col5\" >0.0800</td>\n",
       "            </tr>\n",
       "            <tr>\n",
       "                        <th id=\"T_222c89a4_d5b7_11ea_8811_38f9d3db5c17level0_row1\" class=\"row_heading level0 row1\" >1</th>\n",
       "                        <td id=\"T_222c89a4_d5b7_11ea_8811_38f9d3db5c17row1_col0\" class=\"data row1 col0\" >307.8385</td>\n",
       "                        <td id=\"T_222c89a4_d5b7_11ea_8811_38f9d3db5c17row1_col1\" class=\"data row1 col1\" >398580.4613</td>\n",
       "                        <td id=\"T_222c89a4_d5b7_11ea_8811_38f9d3db5c17row1_col2\" class=\"data row1 col2\" >631.3323</td>\n",
       "                        <td id=\"T_222c89a4_d5b7_11ea_8811_38f9d3db5c17row1_col3\" class=\"data row1 col3\" >0.9774</td>\n",
       "                        <td id=\"T_222c89a4_d5b7_11ea_8811_38f9d3db5c17row1_col4\" class=\"data row1 col4\" >0.1071</td>\n",
       "                        <td id=\"T_222c89a4_d5b7_11ea_8811_38f9d3db5c17row1_col5\" class=\"data row1 col5\" >0.0803</td>\n",
       "            </tr>\n",
       "            <tr>\n",
       "                        <th id=\"T_222c89a4_d5b7_11ea_8811_38f9d3db5c17level0_row2\" class=\"row_heading level0 row2\" >2</th>\n",
       "                        <td id=\"T_222c89a4_d5b7_11ea_8811_38f9d3db5c17row2_col0\" class=\"data row2 col0\" >321.3140</td>\n",
       "                        <td id=\"T_222c89a4_d5b7_11ea_8811_38f9d3db5c17row2_col1\" class=\"data row2 col1\" >425204.3275</td>\n",
       "                        <td id=\"T_222c89a4_d5b7_11ea_8811_38f9d3db5c17row2_col2\" class=\"data row2 col2\" >652.0769</td>\n",
       "                        <td id=\"T_222c89a4_d5b7_11ea_8811_38f9d3db5c17row2_col3\" class=\"data row2 col3\" >0.9742</td>\n",
       "                        <td id=\"T_222c89a4_d5b7_11ea_8811_38f9d3db5c17row2_col4\" class=\"data row2 col4\" >0.1088</td>\n",
       "                        <td id=\"T_222c89a4_d5b7_11ea_8811_38f9d3db5c17row2_col5\" class=\"data row2 col5\" >0.0838</td>\n",
       "            </tr>\n",
       "            <tr>\n",
       "                        <th id=\"T_222c89a4_d5b7_11ea_8811_38f9d3db5c17level0_row3\" class=\"row_heading level0 row3\" >3</th>\n",
       "                        <td id=\"T_222c89a4_d5b7_11ea_8811_38f9d3db5c17row3_col0\" class=\"data row3 col0\" >289.7704</td>\n",
       "                        <td id=\"T_222c89a4_d5b7_11ea_8811_38f9d3db5c17row3_col1\" class=\"data row3 col1\" >369119.0047</td>\n",
       "                        <td id=\"T_222c89a4_d5b7_11ea_8811_38f9d3db5c17row3_col2\" class=\"data row3 col2\" >607.5516</td>\n",
       "                        <td id=\"T_222c89a4_d5b7_11ea_8811_38f9d3db5c17row3_col3\" class=\"data row3 col3\" >0.9761</td>\n",
       "                        <td id=\"T_222c89a4_d5b7_11ea_8811_38f9d3db5c17row3_col4\" class=\"data row3 col4\" >0.1069</td>\n",
       "                        <td id=\"T_222c89a4_d5b7_11ea_8811_38f9d3db5c17row3_col5\" class=\"data row3 col5\" >0.0808</td>\n",
       "            </tr>\n",
       "            <tr>\n",
       "                        <th id=\"T_222c89a4_d5b7_11ea_8811_38f9d3db5c17level0_row4\" class=\"row_heading level0 row4\" >4</th>\n",
       "                        <td id=\"T_222c89a4_d5b7_11ea_8811_38f9d3db5c17row4_col0\" class=\"data row4 col0\" >265.8127</td>\n",
       "                        <td id=\"T_222c89a4_d5b7_11ea_8811_38f9d3db5c17row4_col1\" class=\"data row4 col1\" >242849.3370</td>\n",
       "                        <td id=\"T_222c89a4_d5b7_11ea_8811_38f9d3db5c17row4_col2\" class=\"data row4 col2\" >492.7975</td>\n",
       "                        <td id=\"T_222c89a4_d5b7_11ea_8811_38f9d3db5c17row4_col3\" class=\"data row4 col3\" >0.9831</td>\n",
       "                        <td id=\"T_222c89a4_d5b7_11ea_8811_38f9d3db5c17row4_col4\" class=\"data row4 col4\" >0.1011</td>\n",
       "                        <td id=\"T_222c89a4_d5b7_11ea_8811_38f9d3db5c17row4_col5\" class=\"data row4 col5\" >0.0753</td>\n",
       "            </tr>\n",
       "            <tr>\n",
       "                        <th id=\"T_222c89a4_d5b7_11ea_8811_38f9d3db5c17level0_row5\" class=\"row_heading level0 row5\" >5</th>\n",
       "                        <td id=\"T_222c89a4_d5b7_11ea_8811_38f9d3db5c17row5_col0\" class=\"data row5 col0\" >312.4665</td>\n",
       "                        <td id=\"T_222c89a4_d5b7_11ea_8811_38f9d3db5c17row5_col1\" class=\"data row5 col1\" >381547.5143</td>\n",
       "                        <td id=\"T_222c89a4_d5b7_11ea_8811_38f9d3db5c17row5_col2\" class=\"data row5 col2\" >617.6953</td>\n",
       "                        <td id=\"T_222c89a4_d5b7_11ea_8811_38f9d3db5c17row5_col3\" class=\"data row5 col3\" >0.9766</td>\n",
       "                        <td id=\"T_222c89a4_d5b7_11ea_8811_38f9d3db5c17row5_col4\" class=\"data row5 col4\" >0.1031</td>\n",
       "                        <td id=\"T_222c89a4_d5b7_11ea_8811_38f9d3db5c17row5_col5\" class=\"data row5 col5\" >0.0794</td>\n",
       "            </tr>\n",
       "            <tr>\n",
       "                        <th id=\"T_222c89a4_d5b7_11ea_8811_38f9d3db5c17level0_row6\" class=\"row_heading level0 row6\" >6</th>\n",
       "                        <td id=\"T_222c89a4_d5b7_11ea_8811_38f9d3db5c17row6_col0\" class=\"data row6 col0\" >299.6214</td>\n",
       "                        <td id=\"T_222c89a4_d5b7_11ea_8811_38f9d3db5c17row6_col1\" class=\"data row6 col1\" >351892.4575</td>\n",
       "                        <td id=\"T_222c89a4_d5b7_11ea_8811_38f9d3db5c17row6_col2\" class=\"data row6 col2\" >593.2052</td>\n",
       "                        <td id=\"T_222c89a4_d5b7_11ea_8811_38f9d3db5c17row6_col3\" class=\"data row6 col3\" >0.9799</td>\n",
       "                        <td id=\"T_222c89a4_d5b7_11ea_8811_38f9d3db5c17row6_col4\" class=\"data row6 col4\" >0.1032</td>\n",
       "                        <td id=\"T_222c89a4_d5b7_11ea_8811_38f9d3db5c17row6_col5\" class=\"data row6 col5\" >0.0785</td>\n",
       "            </tr>\n",
       "            <tr>\n",
       "                        <th id=\"T_222c89a4_d5b7_11ea_8811_38f9d3db5c17level0_row7\" class=\"row_heading level0 row7\" >7</th>\n",
       "                        <td id=\"T_222c89a4_d5b7_11ea_8811_38f9d3db5c17row7_col0\" class=\"data row7 col0\" >280.6631</td>\n",
       "                        <td id=\"T_222c89a4_d5b7_11ea_8811_38f9d3db5c17row7_col1\" class=\"data row7 col1\" >275024.8581</td>\n",
       "                        <td id=\"T_222c89a4_d5b7_11ea_8811_38f9d3db5c17row7_col2\" class=\"data row7 col2\" >524.4281</td>\n",
       "                        <td id=\"T_222c89a4_d5b7_11ea_8811_38f9d3db5c17row7_col3\" class=\"data row7 col3\" >0.9831</td>\n",
       "                        <td id=\"T_222c89a4_d5b7_11ea_8811_38f9d3db5c17row7_col4\" class=\"data row7 col4\" >0.1109</td>\n",
       "                        <td id=\"T_222c89a4_d5b7_11ea_8811_38f9d3db5c17row7_col5\" class=\"data row7 col5\" >0.0815</td>\n",
       "            </tr>\n",
       "            <tr>\n",
       "                        <th id=\"T_222c89a4_d5b7_11ea_8811_38f9d3db5c17level0_row8\" class=\"row_heading level0 row8\" >8</th>\n",
       "                        <td id=\"T_222c89a4_d5b7_11ea_8811_38f9d3db5c17row8_col0\" class=\"data row8 col0\" >269.1762</td>\n",
       "                        <td id=\"T_222c89a4_d5b7_11ea_8811_38f9d3db5c17row8_col1\" class=\"data row8 col1\" >252906.1883</td>\n",
       "                        <td id=\"T_222c89a4_d5b7_11ea_8811_38f9d3db5c17row8_col2\" class=\"data row8 col2\" >502.8978</td>\n",
       "                        <td id=\"T_222c89a4_d5b7_11ea_8811_38f9d3db5c17row8_col3\" class=\"data row8 col3\" >0.9848</td>\n",
       "                        <td id=\"T_222c89a4_d5b7_11ea_8811_38f9d3db5c17row8_col4\" class=\"data row8 col4\" >0.0978</td>\n",
       "                        <td id=\"T_222c89a4_d5b7_11ea_8811_38f9d3db5c17row8_col5\" class=\"data row8 col5\" >0.0743</td>\n",
       "            </tr>\n",
       "            <tr>\n",
       "                        <th id=\"T_222c89a4_d5b7_11ea_8811_38f9d3db5c17level0_row9\" class=\"row_heading level0 row9\" >9</th>\n",
       "                        <td id=\"T_222c89a4_d5b7_11ea_8811_38f9d3db5c17row9_col0\" class=\"data row9 col0\" >294.6174</td>\n",
       "                        <td id=\"T_222c89a4_d5b7_11ea_8811_38f9d3db5c17row9_col1\" class=\"data row9 col1\" >359261.2897</td>\n",
       "                        <td id=\"T_222c89a4_d5b7_11ea_8811_38f9d3db5c17row9_col2\" class=\"data row9 col2\" >599.3841</td>\n",
       "                        <td id=\"T_222c89a4_d5b7_11ea_8811_38f9d3db5c17row9_col3\" class=\"data row9 col3\" >0.9771</td>\n",
       "                        <td id=\"T_222c89a4_d5b7_11ea_8811_38f9d3db5c17row9_col4\" class=\"data row9 col4\" >0.1070</td>\n",
       "                        <td id=\"T_222c89a4_d5b7_11ea_8811_38f9d3db5c17row9_col5\" class=\"data row9 col5\" >0.0812</td>\n",
       "            </tr>\n",
       "            <tr>\n",
       "                        <th id=\"T_222c89a4_d5b7_11ea_8811_38f9d3db5c17level0_row10\" class=\"row_heading level0 row10\" >Mean</th>\n",
       "                        <td id=\"T_222c89a4_d5b7_11ea_8811_38f9d3db5c17row10_col0\" class=\"data row10 col0\" >294.2216</td>\n",
       "                        <td id=\"T_222c89a4_d5b7_11ea_8811_38f9d3db5c17row10_col1\" class=\"data row10 col1\" >338325.8236</td>\n",
       "                        <td id=\"T_222c89a4_d5b7_11ea_8811_38f9d3db5c17row10_col2\" class=\"data row10 col2\" >579.3097</td>\n",
       "                        <td id=\"T_222c89a4_d5b7_11ea_8811_38f9d3db5c17row10_col3\" class=\"data row10 col3\" >0.9792</td>\n",
       "                        <td id=\"T_222c89a4_d5b7_11ea_8811_38f9d3db5c17row10_col4\" class=\"data row10 col4\" >0.1051</td>\n",
       "                        <td id=\"T_222c89a4_d5b7_11ea_8811_38f9d3db5c17row10_col5\" class=\"data row10 col5\" >0.0795</td>\n",
       "            </tr>\n",
       "            <tr>\n",
       "                        <th id=\"T_222c89a4_d5b7_11ea_8811_38f9d3db5c17level0_row11\" class=\"row_heading level0 row11\" >SD</th>\n",
       "                        <td id=\"T_222c89a4_d5b7_11ea_8811_38f9d3db5c17row11_col0\" class=\"data row11 col0\" >17.2182</td>\n",
       "                        <td id=\"T_222c89a4_d5b7_11ea_8811_38f9d3db5c17row11_col1\" class=\"data row11 col1\" >59302.3063</td>\n",
       "                        <td id=\"T_222c89a4_d5b7_11ea_8811_38f9d3db5c17row11_col2\" class=\"data row11 col2\" >52.2122</td>\n",
       "                        <td id=\"T_222c89a4_d5b7_11ea_8811_38f9d3db5c17row11_col3\" class=\"data row11 col3\" >0.0033</td>\n",
       "                        <td id=\"T_222c89a4_d5b7_11ea_8811_38f9d3db5c17row11_col4\" class=\"data row11 col4\" >0.0037</td>\n",
       "                        <td id=\"T_222c89a4_d5b7_11ea_8811_38f9d3db5c17row11_col5\" class=\"data row11 col5\" >0.0027</td>\n",
       "            </tr>\n",
       "    </tbody></table>"
      ],
      "text/plain": [
       "<pandas.io.formats.style.Styler at 0x129afe970>"
      ]
     },
     "metadata": {},
     "output_type": "display_data"
    }
   ],
   "source": [
    "# automatically tune model\n",
    "tuned_regression_model = regression.tune_model(\n",
    "    estimator=regression_model,\n",
    "    n_iter=100,\n",
    "    optimize = 'R2'\n",
    ")"
   ]
  },
  {
   "cell_type": "code",
   "execution_count": 48,
   "metadata": {},
   "outputs": [
    {
     "data": {
      "application/vnd.jupyter.widget-view+json": {
       "model_id": "cbebb9fc26114011a0c1e6b945b47aee",
       "version_major": 2,
       "version_minor": 0
      },
      "text/plain": [
       "interactive(children=(ToggleButtons(description='Plot Type:', icons=('',), options=(('Hyperparameters', 'param…"
      ]
     },
     "metadata": {},
     "output_type": "display_data"
    }
   ],
   "source": [
    "# model evaluation plots\n",
    "regression.evaluate_model(\n",
    "    estimator=tuned_regression_model\n",
    ")"
   ]
  },
  {
   "cell_type": "code",
   "execution_count": 49,
   "metadata": {},
   "outputs": [
    {
     "data": {
      "image/png": "[encoded data removed]",
      "text/plain": [
       "<Figure size 576x453.6 with 2 Axes>"
      ]
     },
     "metadata": {
      "needs_background": "light"
     },
     "output_type": "display_data"
    }
   ],
   "source": [
    "# model interpretation plots\n",
    "regression.interpret_model(\n",
    "    estimator=tuned_regression_model\n",
    ")"
   ]
  },
  {
   "cell_type": "code",
   "execution_count": 50,
   "metadata": {},
   "outputs": [
    {
     "data": {
      "image/png": "[encoded data removed]",
      "text/plain": [
       "<Figure size 540x360 with 2 Axes>"
      ]
     },
     "metadata": {
      "needs_background": "light"
     },
     "output_type": "display_data"
    }
   ],
   "source": [
    "# model interpretation plots\n",
    "regression.interpret_model(\n",
    "    estimator=tuned_regression_model,\n",
    "    plot='correlation'\n",
    ")"
   ]
  },
  {
   "cell_type": "code",
   "execution_count": 51,
   "metadata": {},
   "outputs": [
    {
     "data": {
      "text/html": [
       "<div>\n",
       "<style scoped>\n",
       "    .dataframe tbody tr th:only-of-type {\n",
       "        vertical-align: middle;\n",
       "    }\n",
       "\n",
       "    .dataframe tbody tr th {\n",
       "        vertical-align: top;\n",
       "    }\n",
       "\n",
       "    .dataframe thead th {\n",
       "        text-align: right;\n",
       "    }\n",
       "</style>\n",
       "<table border=\"1\" class=\"dataframe\">\n",
       "  <thead>\n",
       "    <tr style=\"text-align: right;\">\n",
       "      <th></th>\n",
       "      <th>Model</th>\n",
       "      <th>MAE</th>\n",
       "      <th>MSE</th>\n",
       "      <th>RMSE</th>\n",
       "      <th>R2</th>\n",
       "      <th>RMSLE</th>\n",
       "      <th>MAPE</th>\n",
       "    </tr>\n",
       "  </thead>\n",
       "  <tbody>\n",
       "    <tr>\n",
       "      <th>0</th>\n",
       "      <td>Light Gradient Boosting Machine</td>\n",
       "      <td>284.5764</td>\n",
       "      <td>291640.823</td>\n",
       "      <td>540.0378</td>\n",
       "      <td>0.9815</td>\n",
       "      <td>0.1021</td>\n",
       "      <td>0.0785</td>\n",
       "    </tr>\n",
       "  </tbody>\n",
       "</table>\n",
       "</div>"
      ],
      "text/plain": [
       "                             Model       MAE         MSE      RMSE      R2  \\\n",
       "0  Light Gradient Boosting Machine  284.5764  291640.823  540.0378  0.9815   \n",
       "\n",
       "    RMSLE    MAPE  \n",
       "0  0.1021  0.0785  "
      ]
     },
     "metadata": {},
     "output_type": "display_data"
    }
   ],
   "source": [
    "# test set prediction\n",
    "test_predictions = regression.predict_model(\n",
    "    estimator=tuned_regression_model,\n",
    ")"
   ]
  },
  {
   "cell_type": "code",
   "execution_count": 52,
   "metadata": {},
   "outputs": [],
   "source": [
    "# finalize model\n",
    "final_regression_model = regression.finalize_model(\n",
    "    estimator=tuned_regression_model\n",
    ")"
   ]
  },
  {
   "cell_type": "code",
   "execution_count": 53,
   "metadata": {},
   "outputs": [
    {
     "name": "stdout",
     "output_type": "stream",
     "text": [
      "LGBMRegressor(boosting_type='gbdt', class_weight=None, colsample_bytree=1.0,\n",
      "              importance_type='split', learning_rate=0.1, max_depth=100,\n",
      "              min_child_samples=20, min_child_weight=0.001, min_split_gain=0.6,\n",
      "              n_estimators=170, n_jobs=-1, num_leaves=30, objective=None,\n",
      "              random_state=1869, reg_alpha=0.1, reg_lambda=0.5, silent=True,\n",
      "              subsample=1.0, subsample_for_bin=200000, subsample_freq=0)\n"
     ]
    }
   ],
   "source": [
    "# display model\n",
    "print(final_regression_model)"
   ]
  },
  {
   "cell_type": "markdown",
   "metadata": {},
   "source": [
    "# clustering "
   ]
  },
  {
   "cell_type": "code",
   "execution_count": 70,
   "metadata": {},
   "outputs": [],
   "source": [
    "# split dataset\n",
    "from sklearn.model_selection import train_test_split\n",
    "X = df_iris[['sepal_length','sepal_width','petal_length','petal_width']]\n",
    "y = df_iris['species']\n",
    "X_train, X_test, y_train, y_test = train_test_split(X, y, test_size=0.3)\n",
    "df_iris_train = pd.concat([X_train, y_train], axis=1).reset_index(drop=True)\n",
    "df_iris_test = pd.concat([X_test, y_test], axis=1).reset_index(drop=True)"
   ]
  },
  {
   "cell_type": "code",
   "execution_count": 71,
   "metadata": {},
   "outputs": [
    {
     "name": "stdout",
     "output_type": "stream",
     "text": [
      "Setup Succesfully Completed!\n"
     ]
    },
    {
     "data": {
      "text/html": [
       "<style  type=\"text/css\" >\n",
       "    #T_8c9538a4_d5b7_11ea_8811_38f9d3db5c17row10_col1 {\n",
       "            background-color:  lightgreen;\n",
       "        }</style><table id=\"T_8c9538a4_d5b7_11ea_8811_38f9d3db5c17\" ><thead>    <tr>        <th class=\"blank level0\" ></th>        <th class=\"col_heading level0 col0\" >Description</th>        <th class=\"col_heading level0 col1\" >Value</th>    </tr></thead><tbody>\n",
       "                <tr>\n",
       "                        <th id=\"T_8c9538a4_d5b7_11ea_8811_38f9d3db5c17level0_row0\" class=\"row_heading level0 row0\" >0</th>\n",
       "                        <td id=\"T_8c9538a4_d5b7_11ea_8811_38f9d3db5c17row0_col0\" class=\"data row0 col0\" >session_id </td>\n",
       "                        <td id=\"T_8c9538a4_d5b7_11ea_8811_38f9d3db5c17row0_col1\" class=\"data row0 col1\" >203</td>\n",
       "            </tr>\n",
       "            <tr>\n",
       "                        <th id=\"T_8c9538a4_d5b7_11ea_8811_38f9d3db5c17level0_row1\" class=\"row_heading level0 row1\" >1</th>\n",
       "                        <td id=\"T_8c9538a4_d5b7_11ea_8811_38f9d3db5c17row1_col0\" class=\"data row1 col0\" >Original Data </td>\n",
       "                        <td id=\"T_8c9538a4_d5b7_11ea_8811_38f9d3db5c17row1_col1\" class=\"data row1 col1\" >(105, 5)</td>\n",
       "            </tr>\n",
       "            <tr>\n",
       "                        <th id=\"T_8c9538a4_d5b7_11ea_8811_38f9d3db5c17level0_row2\" class=\"row_heading level0 row2\" >2</th>\n",
       "                        <td id=\"T_8c9538a4_d5b7_11ea_8811_38f9d3db5c17row2_col0\" class=\"data row2 col0\" >Missing Values </td>\n",
       "                        <td id=\"T_8c9538a4_d5b7_11ea_8811_38f9d3db5c17row2_col1\" class=\"data row2 col1\" >False</td>\n",
       "            </tr>\n",
       "            <tr>\n",
       "                        <th id=\"T_8c9538a4_d5b7_11ea_8811_38f9d3db5c17level0_row3\" class=\"row_heading level0 row3\" >3</th>\n",
       "                        <td id=\"T_8c9538a4_d5b7_11ea_8811_38f9d3db5c17row3_col0\" class=\"data row3 col0\" >Numeric Features </td>\n",
       "                        <td id=\"T_8c9538a4_d5b7_11ea_8811_38f9d3db5c17row3_col1\" class=\"data row3 col1\" >4</td>\n",
       "            </tr>\n",
       "            <tr>\n",
       "                        <th id=\"T_8c9538a4_d5b7_11ea_8811_38f9d3db5c17level0_row4\" class=\"row_heading level0 row4\" >4</th>\n",
       "                        <td id=\"T_8c9538a4_d5b7_11ea_8811_38f9d3db5c17row4_col0\" class=\"data row4 col0\" >Categorical Features </td>\n",
       "                        <td id=\"T_8c9538a4_d5b7_11ea_8811_38f9d3db5c17row4_col1\" class=\"data row4 col1\" >1</td>\n",
       "            </tr>\n",
       "            <tr>\n",
       "                        <th id=\"T_8c9538a4_d5b7_11ea_8811_38f9d3db5c17level0_row5\" class=\"row_heading level0 row5\" >5</th>\n",
       "                        <td id=\"T_8c9538a4_d5b7_11ea_8811_38f9d3db5c17row5_col0\" class=\"data row5 col0\" >Ordinal Features </td>\n",
       "                        <td id=\"T_8c9538a4_d5b7_11ea_8811_38f9d3db5c17row5_col1\" class=\"data row5 col1\" >False</td>\n",
       "            </tr>\n",
       "            <tr>\n",
       "                        <th id=\"T_8c9538a4_d5b7_11ea_8811_38f9d3db5c17level0_row6\" class=\"row_heading level0 row6\" >6</th>\n",
       "                        <td id=\"T_8c9538a4_d5b7_11ea_8811_38f9d3db5c17row6_col0\" class=\"data row6 col0\" >High Cardinality Features </td>\n",
       "                        <td id=\"T_8c9538a4_d5b7_11ea_8811_38f9d3db5c17row6_col1\" class=\"data row6 col1\" >False</td>\n",
       "            </tr>\n",
       "            <tr>\n",
       "                        <th id=\"T_8c9538a4_d5b7_11ea_8811_38f9d3db5c17level0_row7\" class=\"row_heading level0 row7\" >7</th>\n",
       "                        <td id=\"T_8c9538a4_d5b7_11ea_8811_38f9d3db5c17row7_col0\" class=\"data row7 col0\" >Transformed Data </td>\n",
       "                        <td id=\"T_8c9538a4_d5b7_11ea_8811_38f9d3db5c17row7_col1\" class=\"data row7 col1\" >(105, 4)</td>\n",
       "            </tr>\n",
       "            <tr>\n",
       "                        <th id=\"T_8c9538a4_d5b7_11ea_8811_38f9d3db5c17level0_row8\" class=\"row_heading level0 row8\" >8</th>\n",
       "                        <td id=\"T_8c9538a4_d5b7_11ea_8811_38f9d3db5c17row8_col0\" class=\"data row8 col0\" >Numeric Imputer </td>\n",
       "                        <td id=\"T_8c9538a4_d5b7_11ea_8811_38f9d3db5c17row8_col1\" class=\"data row8 col1\" >mean</td>\n",
       "            </tr>\n",
       "            <tr>\n",
       "                        <th id=\"T_8c9538a4_d5b7_11ea_8811_38f9d3db5c17level0_row9\" class=\"row_heading level0 row9\" >9</th>\n",
       "                        <td id=\"T_8c9538a4_d5b7_11ea_8811_38f9d3db5c17row9_col0\" class=\"data row9 col0\" >Categorical Imputer </td>\n",
       "                        <td id=\"T_8c9538a4_d5b7_11ea_8811_38f9d3db5c17row9_col1\" class=\"data row9 col1\" >constant</td>\n",
       "            </tr>\n",
       "            <tr>\n",
       "                        <th id=\"T_8c9538a4_d5b7_11ea_8811_38f9d3db5c17level0_row10\" class=\"row_heading level0 row10\" >10</th>\n",
       "                        <td id=\"T_8c9538a4_d5b7_11ea_8811_38f9d3db5c17row10_col0\" class=\"data row10 col0\" >Normalize </td>\n",
       "                        <td id=\"T_8c9538a4_d5b7_11ea_8811_38f9d3db5c17row10_col1\" class=\"data row10 col1\" >True</td>\n",
       "            </tr>\n",
       "            <tr>\n",
       "                        <th id=\"T_8c9538a4_d5b7_11ea_8811_38f9d3db5c17level0_row11\" class=\"row_heading level0 row11\" >11</th>\n",
       "                        <td id=\"T_8c9538a4_d5b7_11ea_8811_38f9d3db5c17row11_col0\" class=\"data row11 col0\" >Normalize Method </td>\n",
       "                        <td id=\"T_8c9538a4_d5b7_11ea_8811_38f9d3db5c17row11_col1\" class=\"data row11 col1\" >zscore</td>\n",
       "            </tr>\n",
       "            <tr>\n",
       "                        <th id=\"T_8c9538a4_d5b7_11ea_8811_38f9d3db5c17level0_row12\" class=\"row_heading level0 row12\" >12</th>\n",
       "                        <td id=\"T_8c9538a4_d5b7_11ea_8811_38f9d3db5c17row12_col0\" class=\"data row12 col0\" >Transformation </td>\n",
       "                        <td id=\"T_8c9538a4_d5b7_11ea_8811_38f9d3db5c17row12_col1\" class=\"data row12 col1\" >False</td>\n",
       "            </tr>\n",
       "            <tr>\n",
       "                        <th id=\"T_8c9538a4_d5b7_11ea_8811_38f9d3db5c17level0_row13\" class=\"row_heading level0 row13\" >13</th>\n",
       "                        <td id=\"T_8c9538a4_d5b7_11ea_8811_38f9d3db5c17row13_col0\" class=\"data row13 col0\" >Transformation Method </td>\n",
       "                        <td id=\"T_8c9538a4_d5b7_11ea_8811_38f9d3db5c17row13_col1\" class=\"data row13 col1\" >None</td>\n",
       "            </tr>\n",
       "            <tr>\n",
       "                        <th id=\"T_8c9538a4_d5b7_11ea_8811_38f9d3db5c17level0_row14\" class=\"row_heading level0 row14\" >14</th>\n",
       "                        <td id=\"T_8c9538a4_d5b7_11ea_8811_38f9d3db5c17row14_col0\" class=\"data row14 col0\" >PCA </td>\n",
       "                        <td id=\"T_8c9538a4_d5b7_11ea_8811_38f9d3db5c17row14_col1\" class=\"data row14 col1\" >False</td>\n",
       "            </tr>\n",
       "            <tr>\n",
       "                        <th id=\"T_8c9538a4_d5b7_11ea_8811_38f9d3db5c17level0_row15\" class=\"row_heading level0 row15\" >15</th>\n",
       "                        <td id=\"T_8c9538a4_d5b7_11ea_8811_38f9d3db5c17row15_col0\" class=\"data row15 col0\" >PCA Method </td>\n",
       "                        <td id=\"T_8c9538a4_d5b7_11ea_8811_38f9d3db5c17row15_col1\" class=\"data row15 col1\" >None</td>\n",
       "            </tr>\n",
       "            <tr>\n",
       "                        <th id=\"T_8c9538a4_d5b7_11ea_8811_38f9d3db5c17level0_row16\" class=\"row_heading level0 row16\" >16</th>\n",
       "                        <td id=\"T_8c9538a4_d5b7_11ea_8811_38f9d3db5c17row16_col0\" class=\"data row16 col0\" >PCA components </td>\n",
       "                        <td id=\"T_8c9538a4_d5b7_11ea_8811_38f9d3db5c17row16_col1\" class=\"data row16 col1\" >None</td>\n",
       "            </tr>\n",
       "            <tr>\n",
       "                        <th id=\"T_8c9538a4_d5b7_11ea_8811_38f9d3db5c17level0_row17\" class=\"row_heading level0 row17\" >17</th>\n",
       "                        <td id=\"T_8c9538a4_d5b7_11ea_8811_38f9d3db5c17row17_col0\" class=\"data row17 col0\" >Ignore Low Variance </td>\n",
       "                        <td id=\"T_8c9538a4_d5b7_11ea_8811_38f9d3db5c17row17_col1\" class=\"data row17 col1\" >False</td>\n",
       "            </tr>\n",
       "            <tr>\n",
       "                        <th id=\"T_8c9538a4_d5b7_11ea_8811_38f9d3db5c17level0_row18\" class=\"row_heading level0 row18\" >18</th>\n",
       "                        <td id=\"T_8c9538a4_d5b7_11ea_8811_38f9d3db5c17row18_col0\" class=\"data row18 col0\" >Combine Rare Levels </td>\n",
       "                        <td id=\"T_8c9538a4_d5b7_11ea_8811_38f9d3db5c17row18_col1\" class=\"data row18 col1\" >False</td>\n",
       "            </tr>\n",
       "            <tr>\n",
       "                        <th id=\"T_8c9538a4_d5b7_11ea_8811_38f9d3db5c17level0_row19\" class=\"row_heading level0 row19\" >19</th>\n",
       "                        <td id=\"T_8c9538a4_d5b7_11ea_8811_38f9d3db5c17row19_col0\" class=\"data row19 col0\" >Rare Level Threshold </td>\n",
       "                        <td id=\"T_8c9538a4_d5b7_11ea_8811_38f9d3db5c17row19_col1\" class=\"data row19 col1\" >None</td>\n",
       "            </tr>\n",
       "            <tr>\n",
       "                        <th id=\"T_8c9538a4_d5b7_11ea_8811_38f9d3db5c17level0_row20\" class=\"row_heading level0 row20\" >20</th>\n",
       "                        <td id=\"T_8c9538a4_d5b7_11ea_8811_38f9d3db5c17row20_col0\" class=\"data row20 col0\" >Numeric Binning </td>\n",
       "                        <td id=\"T_8c9538a4_d5b7_11ea_8811_38f9d3db5c17row20_col1\" class=\"data row20 col1\" >False</td>\n",
       "            </tr>\n",
       "            <tr>\n",
       "                        <th id=\"T_8c9538a4_d5b7_11ea_8811_38f9d3db5c17level0_row21\" class=\"row_heading level0 row21\" >21</th>\n",
       "                        <td id=\"T_8c9538a4_d5b7_11ea_8811_38f9d3db5c17row21_col0\" class=\"data row21 col0\" >Remove Multicollinearity </td>\n",
       "                        <td id=\"T_8c9538a4_d5b7_11ea_8811_38f9d3db5c17row21_col1\" class=\"data row21 col1\" >False</td>\n",
       "            </tr>\n",
       "            <tr>\n",
       "                        <th id=\"T_8c9538a4_d5b7_11ea_8811_38f9d3db5c17level0_row22\" class=\"row_heading level0 row22\" >22</th>\n",
       "                        <td id=\"T_8c9538a4_d5b7_11ea_8811_38f9d3db5c17row22_col0\" class=\"data row22 col0\" >Multicollinearity Threshold </td>\n",
       "                        <td id=\"T_8c9538a4_d5b7_11ea_8811_38f9d3db5c17row22_col1\" class=\"data row22 col1\" >None</td>\n",
       "            </tr>\n",
       "            <tr>\n",
       "                        <th id=\"T_8c9538a4_d5b7_11ea_8811_38f9d3db5c17level0_row23\" class=\"row_heading level0 row23\" >23</th>\n",
       "                        <td id=\"T_8c9538a4_d5b7_11ea_8811_38f9d3db5c17row23_col0\" class=\"data row23 col0\" >Group Features </td>\n",
       "                        <td id=\"T_8c9538a4_d5b7_11ea_8811_38f9d3db5c17row23_col1\" class=\"data row23 col1\" >False</td>\n",
       "            </tr>\n",
       "    </tbody></table>"
      ],
      "text/plain": [
       "<pandas.io.formats.style.Styler at 0x12ac36460>"
      ]
     },
     "metadata": {},
     "output_type": "display_data"
    }
   ],
   "source": [
    "# process dataset\n",
    "clustering_experiment_1 = clustering.setup(\n",
    "    data=df_iris_train,\n",
    "    numeric_features=['sepal_length','sepal_width','petal_length','petal_width'],\n",
    "    ignore_features=['species'],\n",
    "    normalize=True\n",
    ")"
   ]
  },
  {
   "cell_type": "code",
   "execution_count": 72,
   "metadata": {},
   "outputs": [
    {
     "data": {
      "text/html": [
       "<div>\n",
       "<style scoped>\n",
       "    .dataframe tbody tr th:only-of-type {\n",
       "        vertical-align: middle;\n",
       "    }\n",
       "\n",
       "    .dataframe tbody tr th {\n",
       "        vertical-align: top;\n",
       "    }\n",
       "\n",
       "    .dataframe thead th {\n",
       "        text-align: right;\n",
       "    }\n",
       "</style>\n",
       "<table border=\"1\" class=\"dataframe\">\n",
       "  <thead>\n",
       "    <tr style=\"text-align: right;\">\n",
       "      <th></th>\n",
       "      <th>Name</th>\n",
       "      <th>Reference</th>\n",
       "    </tr>\n",
       "    <tr>\n",
       "      <th>ID</th>\n",
       "      <th></th>\n",
       "      <th></th>\n",
       "    </tr>\n",
       "  </thead>\n",
       "  <tbody>\n",
       "    <tr>\n",
       "      <th>kmeans</th>\n",
       "      <td>K-Means Clustering</td>\n",
       "      <td>sklearn.cluster.KMeans</td>\n",
       "    </tr>\n",
       "    <tr>\n",
       "      <th>ap</th>\n",
       "      <td>Affinity Propagation</td>\n",
       "      <td>sklearn.cluster.AffinityPropagation</td>\n",
       "    </tr>\n",
       "    <tr>\n",
       "      <th>meanshift</th>\n",
       "      <td>Mean shift Clustering</td>\n",
       "      <td>sklearn.cluster.MeanShift</td>\n",
       "    </tr>\n",
       "    <tr>\n",
       "      <th>sc</th>\n",
       "      <td>Spectral Clustering</td>\n",
       "      <td>sklearn.cluster.SpectralClustering</td>\n",
       "    </tr>\n",
       "    <tr>\n",
       "      <th>hclust</th>\n",
       "      <td>Agglomerative Clustering</td>\n",
       "      <td>sklearn.cluster.AgglomerativeClustering</td>\n",
       "    </tr>\n",
       "    <tr>\n",
       "      <th>dbscan</th>\n",
       "      <td>Density-Based Spatial Clustering</td>\n",
       "      <td>sklearn.cluster.DBSCAN</td>\n",
       "    </tr>\n",
       "    <tr>\n",
       "      <th>optics</th>\n",
       "      <td>OPTICS Clustering</td>\n",
       "      <td>sklearn.cluster.OPTICS</td>\n",
       "    </tr>\n",
       "    <tr>\n",
       "      <th>birch</th>\n",
       "      <td>Birch Clustering</td>\n",
       "      <td>sklearn.cluster.Birch</td>\n",
       "    </tr>\n",
       "    <tr>\n",
       "      <th>kmodes</th>\n",
       "      <td>K-Modes Clustering</td>\n",
       "      <td>git/nicodv/kmodes</td>\n",
       "    </tr>\n",
       "  </tbody>\n",
       "</table>\n",
       "</div>"
      ],
      "text/plain": [
       "                                       Name  \\\n",
       "ID                                            \n",
       "kmeans                   K-Means Clustering   \n",
       "ap                     Affinity Propagation   \n",
       "meanshift             Mean shift Clustering   \n",
       "sc                      Spectral Clustering   \n",
       "hclust             Agglomerative Clustering   \n",
       "dbscan     Density-Based Spatial Clustering   \n",
       "optics                    OPTICS Clustering   \n",
       "birch                      Birch Clustering   \n",
       "kmodes                   K-Modes Clustering   \n",
       "\n",
       "                                         Reference  \n",
       "ID                                                  \n",
       "kmeans                      sklearn.cluster.KMeans  \n",
       "ap             sklearn.cluster.AffinityPropagation  \n",
       "meanshift                sklearn.cluster.MeanShift  \n",
       "sc              sklearn.cluster.SpectralClustering  \n",
       "hclust     sklearn.cluster.AgglomerativeClustering  \n",
       "dbscan                      sklearn.cluster.DBSCAN  \n",
       "optics                      sklearn.cluster.OPTICS  \n",
       "birch                        sklearn.cluster.Birch  \n",
       "kmodes                           git/nicodv/kmodes  "
      ]
     },
     "execution_count": 72,
     "metadata": {},
     "output_type": "execute_result"
    }
   ],
   "source": [
    "# models info\n",
    "clustering.models()"
   ]
  },
  {
   "cell_type": "code",
   "execution_count": 73,
   "metadata": {},
   "outputs": [
    {
     "data": {
      "text/html": [
       "<div>\n",
       "<style scoped>\n",
       "    .dataframe tbody tr th:only-of-type {\n",
       "        vertical-align: middle;\n",
       "    }\n",
       "\n",
       "    .dataframe tbody tr th {\n",
       "        vertical-align: top;\n",
       "    }\n",
       "\n",
       "    .dataframe thead th {\n",
       "        text-align: right;\n",
       "    }\n",
       "</style>\n",
       "<table border=\"1\" class=\"dataframe\">\n",
       "  <thead>\n",
       "    <tr style=\"text-align: right;\">\n",
       "      <th></th>\n",
       "      <th>Metric</th>\n",
       "    </tr>\n",
       "  </thead>\n",
       "  <tbody>\n",
       "    <tr>\n",
       "      <th>Silhouette</th>\n",
       "      <td>0.4738</td>\n",
       "    </tr>\n",
       "    <tr>\n",
       "      <th>Calinski-Harabasz</th>\n",
       "      <td>172.2650</td>\n",
       "    </tr>\n",
       "    <tr>\n",
       "      <th>Davies-Bouldin</th>\n",
       "      <td>0.7921</td>\n",
       "    </tr>\n",
       "  </tbody>\n",
       "</table>\n",
       "</div>"
      ],
      "text/plain": [
       "                     Metric\n",
       "Silhouette           0.4738\n",
       "Calinski-Harabasz  172.2650\n",
       "Davies-Bouldin       0.7921"
      ]
     },
     "metadata": {},
     "output_type": "display_data"
    }
   ],
   "source": [
    "# create model\n",
    "# 'kmeans'        K-Means Clustering\n",
    "# 'ap'            Affinity Propagation\n",
    "# 'meanshift'     Mean shift Clustering\n",
    "# 'sc'            Spectral Clustering\n",
    "# 'hclust'        Agglomerative Clustering\n",
    "# 'dbscan'        Density-Based Spatial Clustering\n",
    "# 'optics'        OPTICS Clustering                               \n",
    "# 'birch'         Birch Clustering                                 \n",
    "# 'kmodes'        K-Modes Clustering  \n",
    "clustering_model = clustering.create_model(\n",
    "    model='kmeans',\n",
    "    num_clusters=3,\n",
    ")"
   ]
  },
  {
   "cell_type": "code",
   "execution_count": 74,
   "metadata": {},
   "outputs": [],
   "source": [
    "# assign clusters\n",
    "clustering_results = clustering.assign_model(\n",
    "    model=clustering_model\n",
    ")"
   ]
  },
  {
   "cell_type": "code",
   "execution_count": 75,
   "metadata": {},
   "outputs": [
    {
     "data": {
      "text/html": [
       "<div>\n",
       "<style scoped>\n",
       "    .dataframe tbody tr th:only-of-type {\n",
       "        vertical-align: middle;\n",
       "    }\n",
       "\n",
       "    .dataframe tbody tr th {\n",
       "        vertical-align: top;\n",
       "    }\n",
       "\n",
       "    .dataframe thead th {\n",
       "        text-align: right;\n",
       "    }\n",
       "</style>\n",
       "<table border=\"1\" class=\"dataframe\">\n",
       "  <thead>\n",
       "    <tr style=\"text-align: right;\">\n",
       "      <th></th>\n",
       "      <th>sepal_length</th>\n",
       "      <th>sepal_width</th>\n",
       "      <th>petal_length</th>\n",
       "      <th>petal_width</th>\n",
       "      <th>species</th>\n",
       "      <th>Cluster</th>\n",
       "    </tr>\n",
       "  </thead>\n",
       "  <tbody>\n",
       "    <tr>\n",
       "      <th>0</th>\n",
       "      <td>6.7</td>\n",
       "      <td>3.1</td>\n",
       "      <td>4.7</td>\n",
       "      <td>1.5</td>\n",
       "      <td>versicolor</td>\n",
       "      <td>Cluster 0</td>\n",
       "    </tr>\n",
       "    <tr>\n",
       "      <th>1</th>\n",
       "      <td>6.3</td>\n",
       "      <td>2.9</td>\n",
       "      <td>5.6</td>\n",
       "      <td>1.8</td>\n",
       "      <td>virginica</td>\n",
       "      <td>Cluster 0</td>\n",
       "    </tr>\n",
       "    <tr>\n",
       "      <th>2</th>\n",
       "      <td>5.0</td>\n",
       "      <td>3.4</td>\n",
       "      <td>1.6</td>\n",
       "      <td>0.4</td>\n",
       "      <td>setosa</td>\n",
       "      <td>Cluster 1</td>\n",
       "    </tr>\n",
       "    <tr>\n",
       "      <th>3</th>\n",
       "      <td>5.0</td>\n",
       "      <td>3.5</td>\n",
       "      <td>1.3</td>\n",
       "      <td>0.3</td>\n",
       "      <td>setosa</td>\n",
       "      <td>Cluster 1</td>\n",
       "    </tr>\n",
       "    <tr>\n",
       "      <th>4</th>\n",
       "      <td>6.4</td>\n",
       "      <td>2.8</td>\n",
       "      <td>5.6</td>\n",
       "      <td>2.2</td>\n",
       "      <td>virginica</td>\n",
       "      <td>Cluster 0</td>\n",
       "    </tr>\n",
       "  </tbody>\n",
       "</table>\n",
       "</div>"
      ],
      "text/plain": [
       "   sepal_length  sepal_width  petal_length  petal_width     species    Cluster\n",
       "0           6.7          3.1           4.7          1.5  versicolor  Cluster 0\n",
       "1           6.3          2.9           5.6          1.8   virginica  Cluster 0\n",
       "2           5.0          3.4           1.6          0.4      setosa  Cluster 1\n",
       "3           5.0          3.5           1.3          0.3      setosa  Cluster 1\n",
       "4           6.4          2.8           5.6          2.2   virginica  Cluster 0"
      ]
     },
     "execution_count": 75,
     "metadata": {},
     "output_type": "execute_result"
    }
   ],
   "source": [
    "# view results\n",
    "clustering_results.head()"
   ]
  },
  {
   "cell_type": "code",
   "execution_count": 76,
   "metadata": {},
   "outputs": [
    {
     "data": {
      "text/plain": [
       "Cluster    species   \n",
       "Cluster 0  versicolor    10\n",
       "           virginica     31\n",
       "Cluster 1  setosa        36\n",
       "Cluster 2  setosa         1\n",
       "           versicolor    21\n",
       "           virginica      6\n",
       "dtype: int64"
      ]
     },
     "execution_count": 76,
     "metadata": {},
     "output_type": "execute_result"
    }
   ],
   "source": [
    "# view results\n",
    "clustering_results.groupby(by=['Cluster','species']).size()"
   ]
  },
  {
   "cell_type": "code",
   "execution_count": 77,
   "metadata": {},
   "outputs": [
    {
     "data": {
      "text/html": [
       "        <script type=\"text/javascript\">\n",
       "        window.PlotlyConfig = {MathJaxConfig: 'local'};\n",
       "        if (window.MathJax) {MathJax.Hub.Config({SVG: {font: \"STIX-Web\"}});}\n",
       "        if (typeof require !== 'undefined') {\n",
       "        require.undef(\"plotly\");\n",
       "        requirejs.config({\n",
       "            paths: {\n",
       "                'plotly': ['https://cdn.plot.ly/plotly-latest.min']\n",
       "            }\n",
       "        });\n",
       "        require(['plotly'], function(Plotly) {\n",
       "            window._Plotly = Plotly;\n",
       "        });\n",
       "        }\n",
       "        </script>\n",
       "        "
      ]
     },
     "metadata": {},
     "output_type": "display_data"
    },
    {
     "data": {
      "image/png": "[encoded data removed]",
      "text/plain": [
       "<Figure size 576x396 with 1 Axes>"
      ]
     },
     "metadata": {},
     "output_type": "display_data"
    }
   ],
   "source": [
    "# plots\n",
    "clustering.plot_model(\n",
    "    model=clustering_model,\n",
    "    plot='elbow'\n",
    ")"
   ]
  },
  {
   "cell_type": "code",
   "execution_count": 78,
   "metadata": {},
   "outputs": [
    {
     "data": {
      "text/html": [
       "        <script type=\"text/javascript\">\n",
       "        window.PlotlyConfig = {MathJaxConfig: 'local'};\n",
       "        if (window.MathJax) {MathJax.Hub.Config({SVG: {font: \"STIX-Web\"}});}\n",
       "        if (typeof require !== 'undefined') {\n",
       "        require.undef(\"plotly\");\n",
       "        requirejs.config({\n",
       "            paths: {\n",
       "                'plotly': ['https://cdn.plot.ly/plotly-latest.min']\n",
       "            }\n",
       "        });\n",
       "        require(['plotly'], function(Plotly) {\n",
       "            window._Plotly = Plotly;\n",
       "        });\n",
       "        }\n",
       "        </script>\n",
       "        "
      ]
     },
     "metadata": {},
     "output_type": "display_data"
    },
    {
     "data": {
      "image/png": "[encoded data removed]",
      "text/plain": [
       "<Figure size 576x396 with 1 Axes>"
      ]
     },
     "metadata": {},
     "output_type": "display_data"
    }
   ],
   "source": [
    "# plots\n",
    "clustering.plot_model(\n",
    "    model=clustering_model,\n",
    "    plot='silhouette'\n",
    ")"
   ]
  },
  {
   "cell_type": "code",
   "execution_count": 79,
   "metadata": {},
   "outputs": [
    {
     "data": {
      "text/html": [
       "        <script type=\"text/javascript\">\n",
       "        window.PlotlyConfig = {MathJaxConfig: 'local'};\n",
       "        if (window.MathJax) {MathJax.Hub.Config({SVG: {font: \"STIX-Web\"}});}\n",
       "        if (typeof require !== 'undefined') {\n",
       "        require.undef(\"plotly\");\n",
       "        requirejs.config({\n",
       "            paths: {\n",
       "                'plotly': ['https://cdn.plot.ly/plotly-latest.min']\n",
       "            }\n",
       "        });\n",
       "        require(['plotly'], function(Plotly) {\n",
       "            window._Plotly = Plotly;\n",
       "        });\n",
       "        }\n",
       "        </script>\n",
       "        "
      ]
     },
     "metadata": {},
     "output_type": "display_data"
    },
    {
     "data": {
      "application/vnd.plotly.v1+json": {
       "config": {
        "plotlyServerURL": "https://plot.ly"
       },
       "data": [
        {
         "alignmentgroup": "True",
         "bingroup": "x",
         "hovertemplate": "Cluster=Cluster 0<br>sepal_width=%{x}<br>count=%{y}<extra></extra>",
         "legendgroup": "Cluster 0",
         "marker": {
          "color": "#636efa",
          "opacity": 0.7
         },
         "name": "Cluster 0",
         "offsetgroup": "Cluster 0",
         "orientation": "v",
         "showlegend": true,
         "type": "histogram",
         "x": [
          3.1,
          2.8,
          3.1,
          3,
          3,
          2.9,
          3.2,
          3.1,
          3.2,
          2.9,
          3.8,
          3,
          3.2,
          3.1,
          3.1,
          2.9,
          3,
          3.2,
          2.8,
          2.5,
          2.7,
          3.4,
          2.8,
          3.1,
          3,
          3,
          3.4,
          2.6,
          3.3,
          2.7,
          3,
          3.6,
          2.8,
          3.2,
          3,
          3.3,
          2.8,
          3,
          3.2,
          2.9,
          2.8
         ],
         "xaxis": "x",
         "yaxis": "y"
        },
        {
         "alignmentgroup": "True",
         "customdata": [
          [
           6.7,
           3.1,
           4.7,
           1.5,
           "versicolor",
           "Cluster 0"
          ],
          [
           6.2,
           2.8,
           4.8,
           1.8,
           "virginica",
           "Cluster 0"
          ],
          [
           6.7,
           3.1,
           4.4,
           1.4,
           "versicolor",
           "Cluster 0"
          ],
          [
           6.5,
           3,
           5.8,
           2.2,
           "virginica",
           "Cluster 0"
          ],
          [
           6,
           3,
           4.8,
           1.8,
           "virginica",
           "Cluster 0"
          ],
          [
           7.3,
           2.9,
           6.3,
           1.8,
           "virginica",
           "Cluster 0"
          ],
          [
           6.5,
           3.2,
           5.1,
           2,
           "virginica",
           "Cluster 0"
          ],
          [
           6.7,
           3.1,
           5.6,
           2.4,
           "virginica",
           "Cluster 0"
          ],
          [
           6.4,
           3.2,
           5.3,
           2.3,
           "virginica",
           "Cluster 0"
          ],
          [
           6.4,
           2.9,
           4.3,
           1.3,
           "versicolor",
           "Cluster 0"
          ],
          [
           7.7,
           3.8,
           6.7,
           2.2,
           "virginica",
           "Cluster 0"
          ],
          [
           6.5,
           3,
           5.2,
           2,
           "virginica",
           "Cluster 0"
          ],
          [
           6.9,
           3.2,
           5.7,
           2.3,
           "virginica",
           "Cluster 0"
          ],
          [
           6.4,
           3.1,
           5.5,
           1.8,
           "virginica",
           "Cluster 0"
          ],
          [
           6.9,
           3.1,
           4.9,
           1.5,
           "versicolor",
           "Cluster 0"
          ],
          [
           6.6,
           2.9,
           4.6,
           1.3,
           "versicolor",
           "Cluster 0"
          ],
          [
           6.8,
           3,
           5.5,
           2.1,
           "virginica",
           "Cluster 0"
          ],
          [
           5.9,
           3.2,
           4.8,
           1.8,
           "versicolor",
           "Cluster 0"
          ],
          [
           6.8,
           2.8,
           4.8,
           1.4,
           "versicolor",
           "Cluster 0"
          ],
          [
           6.7,
           2.5,
           5.8,
           1.8,
           "virginica",
           "Cluster 0"
          ],
          [
           6.4,
           2.7,
           5.3,
           1.9,
           "virginica",
           "Cluster 0"
          ],
          [
           6.2,
           3.4,
           5.4,
           2.3,
           "virginica",
           "Cluster 0"
          ],
          [
           5.8,
           2.8,
           5.1,
           2.4,
           "virginica",
           "Cluster 0"
          ],
          [
           6.9,
           3.1,
           5.4,
           2.1,
           "virginica",
           "Cluster 0"
          ],
          [
           7.6,
           3,
           6.6,
           2.1,
           "virginica",
           "Cluster 0"
          ],
          [
           7.7,
           3,
           6.1,
           2.3,
           "virginica",
           "Cluster 0"
          ],
          [
           6.3,
           3.4,
           5.6,
           2.4,
           "virginica",
           "Cluster 0"
          ],
          [
           7.7,
           2.6,
           6.9,
           2.3,
           "virginica",
           "Cluster 0"
          ],
          [
           6.3,
           3.3,
           4.7,
           1.6,
           "versicolor",
           "Cluster 0"
          ],
          [
           6.3,
           2.7,
           4.9,
           1.8,
           "virginica",
           "Cluster 0"
          ],
          [
           7.2,
           3,
           5.8,
           1.6,
           "virginica",
           "Cluster 0"
          ],
          [
           7.2,
           3.6,
           6.1,
           2.5,
           "virginica",
           "Cluster 0"
          ],
          [
           6.4,
           2.8,
           5.6,
           2.2,
           "virginica",
           "Cluster 0"
          ],
          [
           7,
           3.2,
           4.7,
           1.4,
           "versicolor",
           "Cluster 0"
          ],
          [
           5.9,
           3,
           5.1,
           1.8,
           "virginica",
           "Cluster 0"
          ],
          [
           6.3,
           3.3,
           6,
           2.5,
           "virginica",
           "Cluster 0"
          ],
          [
           6.5,
           2.8,
           4.6,
           1.5,
           "versicolor",
           "Cluster 0"
          ],
          [
           6.7,
           3,
           5.2,
           2.3,
           "virginica",
           "Cluster 0"
          ],
          [
           6.8,
           3.2,
           5.9,
           2.3,
           "virginica",
           "Cluster 0"
          ],
          [
           6.3,
           2.9,
           5.6,
           1.8,
           "virginica",
           "Cluster 0"
          ],
          [
           7.4,
           2.8,
           6.1,
           1.9,
           "virginica",
           "Cluster 0"
          ]
         ],
         "hovertemplate": "Cluster=%{customdata[5]}<br>sepal_width=%{customdata[1]}<br>sepal_length=%{customdata[0]}<br>petal_length=%{customdata[2]}<br>petal_width=%{customdata[3]}<br>species=%{customdata[4]}<extra></extra>",
         "legendgroup": "Cluster 0",
         "marker": {
          "color": "#636efa"
         },
         "name": "Cluster 0",
         "notched": true,
         "offsetgroup": "Cluster 0",
         "showlegend": false,
         "type": "box",
         "x": [
          3.1,
          2.8,
          3.1,
          3,
          3,
          2.9,
          3.2,
          3.1,
          3.2,
          2.9,
          3.8,
          3,
          3.2,
          3.1,
          3.1,
          2.9,
          3,
          3.2,
          2.8,
          2.5,
          2.7,
          3.4,
          2.8,
          3.1,
          3,
          3,
          3.4,
          2.6,
          3.3,
          2.7,
          3,
          3.6,
          2.8,
          3.2,
          3,
          3.3,
          2.8,
          3,
          3.2,
          2.9,
          2.8
         ],
         "xaxis": "x2",
         "yaxis": "y2"
        },
        {
         "alignmentgroup": "True",
         "bingroup": "x",
         "hovertemplate": "Cluster=Cluster 1<br>sepal_width=%{x}<br>count=%{y}<extra></extra>",
         "legendgroup": "Cluster 1",
         "marker": {
          "color": "#EF553B",
          "opacity": 0.7
         },
         "name": "Cluster 1",
         "offsetgroup": "Cluster 1",
         "orientation": "v",
         "showlegend": true,
         "type": "histogram",
         "x": [
          3.8,
          3.3,
          3.5,
          3,
          3,
          3.8,
          3.7,
          3.2,
          3.9,
          3.4,
          3,
          3.4,
          3.6,
          3.3,
          3.5,
          3.4,
          2.9,
          3.8,
          3.1,
          3.2,
          3.2,
          3.5,
          3.1,
          3.5,
          3.9,
          3,
          3.8,
          3,
          3.4,
          3.6,
          3.5,
          3.4,
          3.5,
          3.4,
          4.1,
          3.2
         ],
         "xaxis": "x",
         "yaxis": "y"
        },
        {
         "alignmentgroup": "True",
         "customdata": [
          [
           5.7,
           3.8,
           1.7,
           0.3,
           "setosa",
           "Cluster 1"
          ],
          [
           5,
           3.3,
           1.4,
           0.2,
           "setosa",
           "Cluster 1"
          ],
          [
           5.5,
           3.5,
           1.3,
           0.2,
           "setosa",
           "Cluster 1"
          ],
          [
           4.3,
           3,
           1.1,
           0.1,
           "setosa",
           "Cluster 1"
          ],
          [
           4.9,
           3,
           1.4,
           0.2,
           "setosa",
           "Cluster 1"
          ],
          [
           5.1,
           3.8,
           1.9,
           0.4,
           "setosa",
           "Cluster 1"
          ],
          [
           5.3,
           3.7,
           1.5,
           0.2,
           "setosa",
           "Cluster 1"
          ],
          [
           4.4,
           3.2,
           1.3,
           0.2,
           "setosa",
           "Cluster 1"
          ],
          [
           5.4,
           3.9,
           1.7,
           0.4,
           "setosa",
           "Cluster 1"
          ],
          [
           4.8,
           3.4,
           1.9,
           0.2,
           "setosa",
           "Cluster 1"
          ],
          [
           4.8,
           3,
           1.4,
           0.1,
           "setosa",
           "Cluster 1"
          ],
          [
           5,
           3.4,
           1.5,
           0.2,
           "setosa",
           "Cluster 1"
          ],
          [
           5,
           3.6,
           1.4,
           0.2,
           "setosa",
           "Cluster 1"
          ],
          [
           5.1,
           3.3,
           1.7,
           0.5,
           "setosa",
           "Cluster 1"
          ],
          [
           5,
           3.5,
           1.3,
           0.3,
           "setosa",
           "Cluster 1"
          ],
          [
           5,
           3.4,
           1.6,
           0.4,
           "setosa",
           "Cluster 1"
          ],
          [
           4.4,
           2.9,
           1.4,
           0.2,
           "setosa",
           "Cluster 1"
          ],
          [
           5.1,
           3.8,
           1.6,
           0.2,
           "setosa",
           "Cluster 1"
          ],
          [
           4.9,
           3.1,
           1.5,
           0.1,
           "setosa",
           "Cluster 1"
          ],
          [
           5,
           3.2,
           1.2,
           0.2,
           "setosa",
           "Cluster 1"
          ],
          [
           4.7,
           3.2,
           1.3,
           0.2,
           "setosa",
           "Cluster 1"
          ],
          [
           5.2,
           3.5,
           1.5,
           0.2,
           "setosa",
           "Cluster 1"
          ],
          [
           4.6,
           3.1,
           1.5,
           0.2,
           "setosa",
           "Cluster 1"
          ],
          [
           5,
           3.5,
           1.6,
           0.6,
           "setosa",
           "Cluster 1"
          ],
          [
           5.4,
           3.9,
           1.3,
           0.4,
           "setosa",
           "Cluster 1"
          ],
          [
           4.4,
           3,
           1.3,
           0.2,
           "setosa",
           "Cluster 1"
          ],
          [
           5.1,
           3.8,
           1.5,
           0.3,
           "setosa",
           "Cluster 1"
          ],
          [
           4.8,
           3,
           1.4,
           0.3,
           "setosa",
           "Cluster 1"
          ],
          [
           4.8,
           3.4,
           1.6,
           0.2,
           "setosa",
           "Cluster 1"
          ],
          [
           4.6,
           3.6,
           1,
           0.2,
           "setosa",
           "Cluster 1"
          ],
          [
           5.1,
           3.5,
           1.4,
           0.3,
           "setosa",
           "Cluster 1"
          ],
          [
           5.4,
           3.4,
           1.5,
           0.4,
           "setosa",
           "Cluster 1"
          ],
          [
           5.1,
           3.5,
           1.4,
           0.2,
           "setosa",
           "Cluster 1"
          ],
          [
           5.1,
           3.4,
           1.5,
           0.2,
           "setosa",
           "Cluster 1"
          ],
          [
           5.2,
           4.1,
           1.5,
           0.1,
           "setosa",
           "Cluster 1"
          ],
          [
           4.6,
           3.2,
           1.4,
           0.2,
           "setosa",
           "Cluster 1"
          ]
         ],
         "hovertemplate": "Cluster=%{customdata[5]}<br>sepal_width=%{customdata[1]}<br>sepal_length=%{customdata[0]}<br>petal_length=%{customdata[2]}<br>petal_width=%{customdata[3]}<br>species=%{customdata[4]}<extra></extra>",
         "legendgroup": "Cluster 1",
         "marker": {
          "color": "#EF553B"
         },
         "name": "Cluster 1",
         "notched": true,
         "offsetgroup": "Cluster 1",
         "showlegend": false,
         "type": "box",
         "x": [
          3.8,
          3.3,
          3.5,
          3,
          3,
          3.8,
          3.7,
          3.2,
          3.9,
          3.4,
          3,
          3.4,
          3.6,
          3.3,
          3.5,
          3.4,
          2.9,
          3.8,
          3.1,
          3.2,
          3.2,
          3.5,
          3.1,
          3.5,
          3.9,
          3,
          3.8,
          3,
          3.4,
          3.6,
          3.5,
          3.4,
          3.5,
          3.4,
          4.1,
          3.2
         ],
         "xaxis": "x2",
         "yaxis": "y2"
        },
        {
         "alignmentgroup": "True",
         "bingroup": "x",
         "hovertemplate": "Cluster=Cluster 2<br>sepal_width=%{x}<br>count=%{y}<extra></extra>",
         "legendgroup": "Cluster 2",
         "marker": {
          "color": "#00cc96",
          "opacity": 0.7
         },
         "name": "Cluster 2",
         "offsetgroup": "Cluster 2",
         "orientation": "v",
         "showlegend": true,
         "type": "histogram",
         "x": [
          2.5,
          2.5,
          2.7,
          3,
          2.7,
          2.3,
          3,
          2.8,
          2.5,
          2.9,
          2.5,
          2.3,
          2.5,
          2.6,
          2,
          2.9,
          2.6,
          2.5,
          2.4,
          2.4,
          2.9,
          2.8,
          2.3,
          2.8,
          2.7,
          2.7,
          2.9,
          2.6
         ],
         "xaxis": "x",
         "yaxis": "y"
        },
        {
         "alignmentgroup": "True",
         "customdata": [
          [
           5.1,
           2.5,
           3,
           1.1,
           "versicolor",
           "Cluster 2"
          ],
          [
           5.5,
           2.5,
           4,
           1.3,
           "versicolor",
           "Cluster 2"
          ],
          [
           5.2,
           2.7,
           3.9,
           1.4,
           "versicolor",
           "Cluster 2"
          ],
          [
           5.4,
           3,
           4.5,
           1.5,
           "versicolor",
           "Cluster 2"
          ],
          [
           5.8,
           2.7,
           5.1,
           1.9,
           "virginica",
           "Cluster 2"
          ],
          [
           5,
           2.3,
           3.3,
           1,
           "versicolor",
           "Cluster 2"
          ],
          [
           5.6,
           3,
           4.5,
           1.5,
           "versicolor",
           "Cluster 2"
          ],
          [
           5.6,
           2.8,
           4.9,
           2,
           "virginica",
           "Cluster 2"
          ],
          [
           4.9,
           2.5,
           4.5,
           1.7,
           "virginica",
           "Cluster 2"
          ],
          [
           5.7,
           2.9,
           4.2,
           1.3,
           "versicolor",
           "Cluster 2"
          ],
          [
           5.7,
           2.5,
           5,
           2,
           "virginica",
           "Cluster 2"
          ],
          [
           4.5,
           2.3,
           1.3,
           0.3,
           "setosa",
           "Cluster 2"
          ],
          [
           5.6,
           2.5,
           3.9,
           1.1,
           "versicolor",
           "Cluster 2"
          ],
          [
           5.7,
           2.6,
           3.5,
           1,
           "versicolor",
           "Cluster 2"
          ],
          [
           5,
           2,
           3.5,
           1,
           "versicolor",
           "Cluster 2"
          ],
          [
           5.6,
           2.9,
           3.6,
           1.3,
           "versicolor",
           "Cluster 2"
          ],
          [
           5.8,
           2.6,
           4,
           1.2,
           "versicolor",
           "Cluster 2"
          ],
          [
           6.3,
           2.5,
           5,
           1.9,
           "virginica",
           "Cluster 2"
          ],
          [
           5.5,
           2.4,
           3.7,
           1,
           "versicolor",
           "Cluster 2"
          ],
          [
           4.9,
           2.4,
           3.3,
           1,
           "versicolor",
           "Cluster 2"
          ],
          [
           6.2,
           2.9,
           4.3,
           1.3,
           "versicolor",
           "Cluster 2"
          ],
          [
           6.1,
           2.8,
           4,
           1.3,
           "versicolor",
           "Cluster 2"
          ],
          [
           5.5,
           2.3,
           4,
           1.3,
           "versicolor",
           "Cluster 2"
          ],
          [
           5.7,
           2.8,
           4.5,
           1.3,
           "versicolor",
           "Cluster 2"
          ],
          [
           5.8,
           2.7,
           5.1,
           1.9,
           "virginica",
           "Cluster 2"
          ],
          [
           5.6,
           2.7,
           4.2,
           1.3,
           "versicolor",
           "Cluster 2"
          ],
          [
           6,
           2.9,
           4.5,
           1.5,
           "versicolor",
           "Cluster 2"
          ],
          [
           5.5,
           2.6,
           4.4,
           1.2,
           "versicolor",
           "Cluster 2"
          ]
         ],
         "hovertemplate": "Cluster=%{customdata[5]}<br>sepal_width=%{customdata[1]}<br>sepal_length=%{customdata[0]}<br>petal_length=%{customdata[2]}<br>petal_width=%{customdata[3]}<br>species=%{customdata[4]}<extra></extra>",
         "legendgroup": "Cluster 2",
         "marker": {
          "color": "#00cc96"
         },
         "name": "Cluster 2",
         "notched": true,
         "offsetgroup": "Cluster 2",
         "showlegend": false,
         "type": "box",
         "x": [
          2.5,
          2.5,
          2.7,
          3,
          2.7,
          2.3,
          3,
          2.8,
          2.5,
          2.9,
          2.5,
          2.3,
          2.5,
          2.6,
          2,
          2.9,
          2.6,
          2.5,
          2.4,
          2.4,
          2.9,
          2.8,
          2.3,
          2.8,
          2.7,
          2.7,
          2.9,
          2.6
         ],
         "xaxis": "x2",
         "yaxis": "y2"
        }
       ],
       "layout": {
        "barmode": "relative",
        "legend": {
         "title": {
          "text": "Cluster"
         },
         "tracegroupgap": 0
        },
        "margin": {
         "t": 60
        },
        "template": {
         "data": {
          "bar": [
           {
            "error_x": {
             "color": "#2a3f5f"
            },
            "error_y": {
             "color": "#2a3f5f"
            },
            "marker": {
             "line": {
              "color": "#E5ECF6",
              "width": 0.5
             }
            },
            "type": "bar"
           }
          ],
          "barpolar": [
           {
            "marker": {
             "line": {
              "color": "#E5ECF6",
              "width": 0.5
             }
            },
            "type": "barpolar"
           }
          ],
          "carpet": [
           {
            "aaxis": {
             "endlinecolor": "#2a3f5f",
             "gridcolor": "white",
             "linecolor": "white",
             "minorgridcolor": "white",
             "startlinecolor": "#2a3f5f"
            },
            "baxis": {
             "endlinecolor": "#2a3f5f",
             "gridcolor": "white",
             "linecolor": "white",
             "minorgridcolor": "white",
             "startlinecolor": "#2a3f5f"
            },
            "type": "carpet"
           }
          ],
          "choropleth": [
           {
            "colorbar": {
             "outlinewidth": 0,
             "ticks": ""
            },
            "type": "choropleth"
           }
          ],
          "contour": [
           {
            "colorbar": {
             "outlinewidth": 0,
             "ticks": ""
            },
            "colorscale": [
             [
              0,
              "#0d0887"
             ],
             [
              0.1111111111111111,
              "#46039f"
             ],
             [
              0.2222222222222222,
              "#7201a8"
             ],
             [
              0.3333333333333333,
              "#9c179e"
             ],
             [
              0.4444444444444444,
              "#bd3786"
             ],
             [
              0.5555555555555556,
              "#d8576b"
             ],
             [
              0.6666666666666666,
              "#ed7953"
             ],
             [
              0.7777777777777778,
              "#fb9f3a"
             ],
             [
              0.8888888888888888,
              "#fdca26"
             ],
             [
              1,
              "#f0f921"
             ]
            ],
            "type": "contour"
           }
          ],
          "contourcarpet": [
           {
            "colorbar": {
             "outlinewidth": 0,
             "ticks": ""
            },
            "type": "contourcarpet"
           }
          ],
          "heatmap": [
           {
            "colorbar": {
             "outlinewidth": 0,
             "ticks": ""
            },
            "colorscale": [
             [
              0,
              "#0d0887"
             ],
             [
              0.1111111111111111,
              "#46039f"
             ],
             [
              0.2222222222222222,
              "#7201a8"
             ],
             [
              0.3333333333333333,
              "#9c179e"
             ],
             [
              0.4444444444444444,
              "#bd3786"
             ],
             [
              0.5555555555555556,
              "#d8576b"
             ],
             [
              0.6666666666666666,
              "#ed7953"
             ],
             [
              0.7777777777777778,
              "#fb9f3a"
             ],
             [
              0.8888888888888888,
              "#fdca26"
             ],
             [
              1,
              "#f0f921"
             ]
            ],
            "type": "heatmap"
           }
          ],
          "heatmapgl": [
           {
            "colorbar": {
             "outlinewidth": 0,
             "ticks": ""
            },
            "colorscale": [
             [
              0,
              "#0d0887"
             ],
             [
              0.1111111111111111,
              "#46039f"
             ],
             [
              0.2222222222222222,
              "#7201a8"
             ],
             [
              0.3333333333333333,
              "#9c179e"
             ],
             [
              0.4444444444444444,
              "#bd3786"
             ],
             [
              0.5555555555555556,
              "#d8576b"
             ],
             [
              0.6666666666666666,
              "#ed7953"
             ],
             [
              0.7777777777777778,
              "#fb9f3a"
             ],
             [
              0.8888888888888888,
              "#fdca26"
             ],
             [
              1,
              "#f0f921"
             ]
            ],
            "type": "heatmapgl"
           }
          ],
          "histogram": [
           {
            "marker": {
             "colorbar": {
              "outlinewidth": 0,
              "ticks": ""
             }
            },
            "type": "histogram"
           }
          ],
          "histogram2d": [
           {
            "colorbar": {
             "outlinewidth": 0,
             "ticks": ""
            },
            "colorscale": [
             [
              0,
              "#0d0887"
             ],
             [
              0.1111111111111111,
              "#46039f"
             ],
             [
              0.2222222222222222,
              "#7201a8"
             ],
             [
              0.3333333333333333,
              "#9c179e"
             ],
             [
              0.4444444444444444,
              "#bd3786"
             ],
             [
              0.5555555555555556,
              "#d8576b"
             ],
             [
              0.6666666666666666,
              "#ed7953"
             ],
             [
              0.7777777777777778,
              "#fb9f3a"
             ],
             [
              0.8888888888888888,
              "#fdca26"
             ],
             [
              1,
              "#f0f921"
             ]
            ],
            "type": "histogram2d"
           }
          ],
          "histogram2dcontour": [
           {
            "colorbar": {
             "outlinewidth": 0,
             "ticks": ""
            },
            "colorscale": [
             [
              0,
              "#0d0887"
             ],
             [
              0.1111111111111111,
              "#46039f"
             ],
             [
              0.2222222222222222,
              "#7201a8"
             ],
             [
              0.3333333333333333,
              "#9c179e"
             ],
             [
              0.4444444444444444,
              "#bd3786"
             ],
             [
              0.5555555555555556,
              "#d8576b"
             ],
             [
              0.6666666666666666,
              "#ed7953"
             ],
             [
              0.7777777777777778,
              "#fb9f3a"
             ],
             [
              0.8888888888888888,
              "#fdca26"
             ],
             [
              1,
              "#f0f921"
             ]
            ],
            "type": "histogram2dcontour"
           }
          ],
          "mesh3d": [
           {
            "colorbar": {
             "outlinewidth": 0,
             "ticks": ""
            },
            "type": "mesh3d"
           }
          ],
          "parcoords": [
           {
            "line": {
             "colorbar": {
              "outlinewidth": 0,
              "ticks": ""
             }
            },
            "type": "parcoords"
           }
          ],
          "pie": [
           {
            "automargin": true,
            "type": "pie"
           }
          ],
          "scatter": [
           {
            "marker": {
             "colorbar": {
              "outlinewidth": 0,
              "ticks": ""
             }
            },
            "type": "scatter"
           }
          ],
          "scatter3d": [
           {
            "line": {
             "colorbar": {
              "outlinewidth": 0,
              "ticks": ""
             }
            },
            "marker": {
             "colorbar": {
              "outlinewidth": 0,
              "ticks": ""
             }
            },
            "type": "scatter3d"
           }
          ],
          "scattercarpet": [
           {
            "marker": {
             "colorbar": {
              "outlinewidth": 0,
              "ticks": ""
             }
            },
            "type": "scattercarpet"
           }
          ],
          "scattergeo": [
           {
            "marker": {
             "colorbar": {
              "outlinewidth": 0,
              "ticks": ""
             }
            },
            "type": "scattergeo"
           }
          ],
          "scattergl": [
           {
            "marker": {
             "colorbar": {
              "outlinewidth": 0,
              "ticks": ""
             }
            },
            "type": "scattergl"
           }
          ],
          "scattermapbox": [
           {
            "marker": {
             "colorbar": {
              "outlinewidth": 0,
              "ticks": ""
             }
            },
            "type": "scattermapbox"
           }
          ],
          "scatterpolar": [
           {
            "marker": {
             "colorbar": {
              "outlinewidth": 0,
              "ticks": ""
             }
            },
            "type": "scatterpolar"
           }
          ],
          "scatterpolargl": [
           {
            "marker": {
             "colorbar": {
              "outlinewidth": 0,
              "ticks": ""
             }
            },
            "type": "scatterpolargl"
           }
          ],
          "scatterternary": [
           {
            "marker": {
             "colorbar": {
              "outlinewidth": 0,
              "ticks": ""
             }
            },
            "type": "scatterternary"
           }
          ],
          "surface": [
           {
            "colorbar": {
             "outlinewidth": 0,
             "ticks": ""
            },
            "colorscale": [
             [
              0,
              "#0d0887"
             ],
             [
              0.1111111111111111,
              "#46039f"
             ],
             [
              0.2222222222222222,
              "#7201a8"
             ],
             [
              0.3333333333333333,
              "#9c179e"
             ],
             [
              0.4444444444444444,
              "#bd3786"
             ],
             [
              0.5555555555555556,
              "#d8576b"
             ],
             [
              0.6666666666666666,
              "#ed7953"
             ],
             [
              0.7777777777777778,
              "#fb9f3a"
             ],
             [
              0.8888888888888888,
              "#fdca26"
             ],
             [
              1,
              "#f0f921"
             ]
            ],
            "type": "surface"
           }
          ],
          "table": [
           {
            "cells": {
             "fill": {
              "color": "#EBF0F8"
             },
             "line": {
              "color": "white"
             }
            },
            "header": {
             "fill": {
              "color": "#C8D4E3"
             },
             "line": {
              "color": "white"
             }
            },
            "type": "table"
           }
          ]
         },
         "layout": {
          "annotationdefaults": {
           "arrowcolor": "#2a3f5f",
           "arrowhead": 0,
           "arrowwidth": 1
          },
          "coloraxis": {
           "colorbar": {
            "outlinewidth": 0,
            "ticks": ""
           }
          },
          "colorscale": {
           "diverging": [
            [
             0,
             "#8e0152"
            ],
            [
             0.1,
             "#c51b7d"
            ],
            [
             0.2,
             "#de77ae"
            ],
            [
             0.3,
             "#f1b6da"
            ],
            [
             0.4,
             "#fde0ef"
            ],
            [
             0.5,
             "#f7f7f7"
            ],
            [
             0.6,
             "#e6f5d0"
            ],
            [
             0.7,
             "#b8e186"
            ],
            [
             0.8,
             "#7fbc41"
            ],
            [
             0.9,
             "#4d9221"
            ],
            [
             1,
             "#276419"
            ]
           ],
           "sequential": [
            [
             0,
             "#0d0887"
            ],
            [
             0.1111111111111111,
             "#46039f"
            ],
            [
             0.2222222222222222,
             "#7201a8"
            ],
            [
             0.3333333333333333,
             "#9c179e"
            ],
            [
             0.4444444444444444,
             "#bd3786"
            ],
            [
             0.5555555555555556,
             "#d8576b"
            ],
            [
             0.6666666666666666,
             "#ed7953"
            ],
            [
             0.7777777777777778,
             "#fb9f3a"
            ],
            [
             0.8888888888888888,
             "#fdca26"
            ],
            [
             1,
             "#f0f921"
            ]
           ],
           "sequentialminus": [
            [
             0,
             "#0d0887"
            ],
            [
             0.1111111111111111,
             "#46039f"
            ],
            [
             0.2222222222222222,
             "#7201a8"
            ],
            [
             0.3333333333333333,
             "#9c179e"
            ],
            [
             0.4444444444444444,
             "#bd3786"
            ],
            [
             0.5555555555555556,
             "#d8576b"
            ],
            [
             0.6666666666666666,
             "#ed7953"
            ],
            [
             0.7777777777777778,
             "#fb9f3a"
            ],
            [
             0.8888888888888888,
             "#fdca26"
            ],
            [
             1,
             "#f0f921"
            ]
           ]
          },
          "colorway": [
           "#636efa",
           "#EF553B",
           "#00cc96",
           "#ab63fa",
           "#FFA15A",
           "#19d3f3",
           "#FF6692",
           "#B6E880",
           "#FF97FF",
           "#FECB52"
          ],
          "font": {
           "color": "#2a3f5f"
          },
          "geo": {
           "bgcolor": "white",
           "lakecolor": "white",
           "landcolor": "#E5ECF6",
           "showlakes": true,
           "showland": true,
           "subunitcolor": "white"
          },
          "hoverlabel": {
           "align": "left"
          },
          "hovermode": "closest",
          "mapbox": {
           "style": "light"
          },
          "paper_bgcolor": "white",
          "plot_bgcolor": "#E5ECF6",
          "polar": {
           "angularaxis": {
            "gridcolor": "white",
            "linecolor": "white",
            "ticks": ""
           },
           "bgcolor": "#E5ECF6",
           "radialaxis": {
            "gridcolor": "white",
            "linecolor": "white",
            "ticks": ""
           }
          },
          "scene": {
           "xaxis": {
            "backgroundcolor": "#E5ECF6",
            "gridcolor": "white",
            "gridwidth": 2,
            "linecolor": "white",
            "showbackground": true,
            "ticks": "",
            "zerolinecolor": "white"
           },
           "yaxis": {
            "backgroundcolor": "#E5ECF6",
            "gridcolor": "white",
            "gridwidth": 2,
            "linecolor": "white",
            "showbackground": true,
            "ticks": "",
            "zerolinecolor": "white"
           },
           "zaxis": {
            "backgroundcolor": "#E5ECF6",
            "gridcolor": "white",
            "gridwidth": 2,
            "linecolor": "white",
            "showbackground": true,
            "ticks": "",
            "zerolinecolor": "white"
           }
          },
          "shapedefaults": {
           "line": {
            "color": "#2a3f5f"
           }
          },
          "ternary": {
           "aaxis": {
            "gridcolor": "white",
            "linecolor": "white",
            "ticks": ""
           },
           "baxis": {
            "gridcolor": "white",
            "linecolor": "white",
            "ticks": ""
           },
           "bgcolor": "#E5ECF6",
           "caxis": {
            "gridcolor": "white",
            "linecolor": "white",
            "ticks": ""
           }
          },
          "title": {
           "x": 0.05
          },
          "xaxis": {
           "automargin": true,
           "gridcolor": "white",
           "linecolor": "white",
           "ticks": "",
           "title": {
            "standoff": 15
           },
           "zerolinecolor": "white",
           "zerolinewidth": 2
          },
          "yaxis": {
           "automargin": true,
           "gridcolor": "white",
           "linecolor": "white",
           "ticks": "",
           "title": {
            "standoff": 15
           },
           "zerolinecolor": "white",
           "zerolinewidth": 2
          }
         }
        },
        "xaxis": {
         "anchor": "y",
         "domain": [
          0,
          1
         ],
         "title": {
          "text": "sepal_width"
         }
        },
        "xaxis2": {
         "anchor": "y2",
         "domain": [
          0,
          1
         ],
         "matches": "x",
         "showgrid": true,
         "showticklabels": false
        },
        "yaxis": {
         "anchor": "x",
         "domain": [
          0,
          0.7326
         ],
         "title": {
          "text": "count"
         }
        },
        "yaxis2": {
         "anchor": "x2",
         "domain": [
          0.7426,
          1
         ],
         "matches": "y2",
         "showgrid": false,
         "showline": false,
         "showticklabels": false,
         "ticks": ""
        }
       }
      },
      "text/html": [
       "<div>\n",
       "        \n",
       "        \n",
       "            <div id=\"9431d067-5ca6-4fe4-91c4-4a11e8a54a21\" class=\"plotly-graph-div\" style=\"height:525px; width:100%;\"></div>\n",
       "            <script type=\"text/javascript\">\n",
       "                require([\"plotly\"], function(Plotly) {\n",
       "                    window.PLOTLYENV=window.PLOTLYENV || {};\n",
       "                    \n",
       "                if (document.getElementById(\"9431d067-5ca6-4fe4-91c4-4a11e8a54a21\")) {\n",
       "                    Plotly.newPlot(\n",
       "                        '9431d067-5ca6-4fe4-91c4-4a11e8a54a21',\n",
       "                        [{\"alignmentgroup\": \"True\", \"bingroup\": \"x\", \"hovertemplate\": \"Cluster=Cluster 0<br>sepal_width=%{x}<br>count=%{y}<extra></extra>\", \"legendgroup\": \"Cluster 0\", \"marker\": {\"color\": \"#636efa\", \"opacity\": 0.7}, \"name\": \"Cluster 0\", \"offsetgroup\": \"Cluster 0\", \"orientation\": \"v\", \"showlegend\": true, \"type\": \"histogram\", \"x\": [3.1, 2.8, 3.1, 3.0, 3.0, 2.9, 3.2, 3.1, 3.2, 2.9, 3.8, 3.0, 3.2, 3.1, 3.1, 2.9, 3.0, 3.2, 2.8, 2.5, 2.7, 3.4, 2.8, 3.1, 3.0, 3.0, 3.4, 2.6, 3.3, 2.7, 3.0, 3.6, 2.8, 3.2, 3.0, 3.3, 2.8, 3.0, 3.2, 2.9, 2.8], \"xaxis\": \"x\", \"yaxis\": \"y\"}, {\"alignmentgroup\": \"True\", \"customdata\": [[6.7, 3.1, 4.7, 1.5, \"versicolor\", \"Cluster 0\"], [6.2, 2.8, 4.8, 1.8, \"virginica\", \"Cluster 0\"], [6.7, 3.1, 4.4, 1.4, \"versicolor\", \"Cluster 0\"], [6.5, 3.0, 5.8, 2.2, \"virginica\", \"Cluster 0\"], [6.0, 3.0, 4.8, 1.8, \"virginica\", \"Cluster 0\"], [7.3, 2.9, 6.3, 1.8, \"virginica\", \"Cluster 0\"], [6.5, 3.2, 5.1, 2.0, \"virginica\", \"Cluster 0\"], [6.7, 3.1, 5.6, 2.4, \"virginica\", \"Cluster 0\"], [6.4, 3.2, 5.3, 2.3, \"virginica\", \"Cluster 0\"], [6.4, 2.9, 4.3, 1.3, \"versicolor\", \"Cluster 0\"], [7.7, 3.8, 6.7, 2.2, \"virginica\", \"Cluster 0\"], [6.5, 3.0, 5.2, 2.0, \"virginica\", \"Cluster 0\"], [6.9, 3.2, 5.7, 2.3, \"virginica\", \"Cluster 0\"], [6.4, 3.1, 5.5, 1.8, \"virginica\", \"Cluster 0\"], [6.9, 3.1, 4.9, 1.5, \"versicolor\", \"Cluster 0\"], [6.6, 2.9, 4.6, 1.3, \"versicolor\", \"Cluster 0\"], [6.8, 3.0, 5.5, 2.1, \"virginica\", \"Cluster 0\"], [5.9, 3.2, 4.8, 1.8, \"versicolor\", \"Cluster 0\"], [6.8, 2.8, 4.8, 1.4, \"versicolor\", \"Cluster 0\"], [6.7, 2.5, 5.8, 1.8, \"virginica\", \"Cluster 0\"], [6.4, 2.7, 5.3, 1.9, \"virginica\", \"Cluster 0\"], [6.2, 3.4, 5.4, 2.3, \"virginica\", \"Cluster 0\"], [5.8, 2.8, 5.1, 2.4, \"virginica\", \"Cluster 0\"], [6.9, 3.1, 5.4, 2.1, \"virginica\", \"Cluster 0\"], [7.6, 3.0, 6.6, 2.1, \"virginica\", \"Cluster 0\"], [7.7, 3.0, 6.1, 2.3, \"virginica\", \"Cluster 0\"], [6.3, 3.4, 5.6, 2.4, \"virginica\", \"Cluster 0\"], [7.7, 2.6, 6.9, 2.3, \"virginica\", \"Cluster 0\"], [6.3, 3.3, 4.7, 1.6, \"versicolor\", \"Cluster 0\"], [6.3, 2.7, 4.9, 1.8, \"virginica\", \"Cluster 0\"], [7.2, 3.0, 5.8, 1.6, \"virginica\", \"Cluster 0\"], [7.2, 3.6, 6.1, 2.5, \"virginica\", \"Cluster 0\"], [6.4, 2.8, 5.6, 2.2, \"virginica\", \"Cluster 0\"], [7.0, 3.2, 4.7, 1.4, \"versicolor\", \"Cluster 0\"], [5.9, 3.0, 5.1, 1.8, \"virginica\", \"Cluster 0\"], [6.3, 3.3, 6.0, 2.5, \"virginica\", \"Cluster 0\"], [6.5, 2.8, 4.6, 1.5, \"versicolor\", \"Cluster 0\"], [6.7, 3.0, 5.2, 2.3, \"virginica\", \"Cluster 0\"], [6.8, 3.2, 5.9, 2.3, \"virginica\", \"Cluster 0\"], [6.3, 2.9, 5.6, 1.8, \"virginica\", \"Cluster 0\"], [7.4, 2.8, 6.1, 1.9, \"virginica\", \"Cluster 0\"]], \"hovertemplate\": \"Cluster=%{customdata[5]}<br>sepal_width=%{customdata[1]}<br>sepal_length=%{customdata[0]}<br>petal_length=%{customdata[2]}<br>petal_width=%{customdata[3]}<br>species=%{customdata[4]}<extra></extra>\", \"legendgroup\": \"Cluster 0\", \"marker\": {\"color\": \"#636efa\"}, \"name\": \"Cluster 0\", \"notched\": true, \"offsetgroup\": \"Cluster 0\", \"showlegend\": false, \"type\": \"box\", \"x\": [3.1, 2.8, 3.1, 3.0, 3.0, 2.9, 3.2, 3.1, 3.2, 2.9, 3.8, 3.0, 3.2, 3.1, 3.1, 2.9, 3.0, 3.2, 2.8, 2.5, 2.7, 3.4, 2.8, 3.1, 3.0, 3.0, 3.4, 2.6, 3.3, 2.7, 3.0, 3.6, 2.8, 3.2, 3.0, 3.3, 2.8, 3.0, 3.2, 2.9, 2.8], \"xaxis\": \"x2\", \"yaxis\": \"y2\"}, {\"alignmentgroup\": \"True\", \"bingroup\": \"x\", \"hovertemplate\": \"Cluster=Cluster 1<br>sepal_width=%{x}<br>count=%{y}<extra></extra>\", \"legendgroup\": \"Cluster 1\", \"marker\": {\"color\": \"#EF553B\", \"opacity\": 0.7}, \"name\": \"Cluster 1\", \"offsetgroup\": \"Cluster 1\", \"orientation\": \"v\", \"showlegend\": true, \"type\": \"histogram\", \"x\": [3.8, 3.3, 3.5, 3.0, 3.0, 3.8, 3.7, 3.2, 3.9, 3.4, 3.0, 3.4, 3.6, 3.3, 3.5, 3.4, 2.9, 3.8, 3.1, 3.2, 3.2, 3.5, 3.1, 3.5, 3.9, 3.0, 3.8, 3.0, 3.4, 3.6, 3.5, 3.4, 3.5, 3.4, 4.1, 3.2], \"xaxis\": \"x\", \"yaxis\": \"y\"}, {\"alignmentgroup\": \"True\", \"customdata\": [[5.7, 3.8, 1.7, 0.3, \"setosa\", \"Cluster 1\"], [5.0, 3.3, 1.4, 0.2, \"setosa\", \"Cluster 1\"], [5.5, 3.5, 1.3, 0.2, \"setosa\", \"Cluster 1\"], [4.3, 3.0, 1.1, 0.1, \"setosa\", \"Cluster 1\"], [4.9, 3.0, 1.4, 0.2, \"setosa\", \"Cluster 1\"], [5.1, 3.8, 1.9, 0.4, \"setosa\", \"Cluster 1\"], [5.3, 3.7, 1.5, 0.2, \"setosa\", \"Cluster 1\"], [4.4, 3.2, 1.3, 0.2, \"setosa\", \"Cluster 1\"], [5.4, 3.9, 1.7, 0.4, \"setosa\", \"Cluster 1\"], [4.8, 3.4, 1.9, 0.2, \"setosa\", \"Cluster 1\"], [4.8, 3.0, 1.4, 0.1, \"setosa\", \"Cluster 1\"], [5.0, 3.4, 1.5, 0.2, \"setosa\", \"Cluster 1\"], [5.0, 3.6, 1.4, 0.2, \"setosa\", \"Cluster 1\"], [5.1, 3.3, 1.7, 0.5, \"setosa\", \"Cluster 1\"], [5.0, 3.5, 1.3, 0.3, \"setosa\", \"Cluster 1\"], [5.0, 3.4, 1.6, 0.4, \"setosa\", \"Cluster 1\"], [4.4, 2.9, 1.4, 0.2, \"setosa\", \"Cluster 1\"], [5.1, 3.8, 1.6, 0.2, \"setosa\", \"Cluster 1\"], [4.9, 3.1, 1.5, 0.1, \"setosa\", \"Cluster 1\"], [5.0, 3.2, 1.2, 0.2, \"setosa\", \"Cluster 1\"], [4.7, 3.2, 1.3, 0.2, \"setosa\", \"Cluster 1\"], [5.2, 3.5, 1.5, 0.2, \"setosa\", \"Cluster 1\"], [4.6, 3.1, 1.5, 0.2, \"setosa\", \"Cluster 1\"], [5.0, 3.5, 1.6, 0.6, \"setosa\", \"Cluster 1\"], [5.4, 3.9, 1.3, 0.4, \"setosa\", \"Cluster 1\"], [4.4, 3.0, 1.3, 0.2, \"setosa\", \"Cluster 1\"], [5.1, 3.8, 1.5, 0.3, \"setosa\", \"Cluster 1\"], [4.8, 3.0, 1.4, 0.3, \"setosa\", \"Cluster 1\"], [4.8, 3.4, 1.6, 0.2, \"setosa\", \"Cluster 1\"], [4.6, 3.6, 1.0, 0.2, \"setosa\", \"Cluster 1\"], [5.1, 3.5, 1.4, 0.3, \"setosa\", \"Cluster 1\"], [5.4, 3.4, 1.5, 0.4, \"setosa\", \"Cluster 1\"], [5.1, 3.5, 1.4, 0.2, \"setosa\", \"Cluster 1\"], [5.1, 3.4, 1.5, 0.2, \"setosa\", \"Cluster 1\"], [5.2, 4.1, 1.5, 0.1, \"setosa\", \"Cluster 1\"], [4.6, 3.2, 1.4, 0.2, \"setosa\", \"Cluster 1\"]], \"hovertemplate\": \"Cluster=%{customdata[5]}<br>sepal_width=%{customdata[1]}<br>sepal_length=%{customdata[0]}<br>petal_length=%{customdata[2]}<br>petal_width=%{customdata[3]}<br>species=%{customdata[4]}<extra></extra>\", \"legendgroup\": \"Cluster 1\", \"marker\": {\"color\": \"#EF553B\"}, \"name\": \"Cluster 1\", \"notched\": true, \"offsetgroup\": \"Cluster 1\", \"showlegend\": false, \"type\": \"box\", \"x\": [3.8, 3.3, 3.5, 3.0, 3.0, 3.8, 3.7, 3.2, 3.9, 3.4, 3.0, 3.4, 3.6, 3.3, 3.5, 3.4, 2.9, 3.8, 3.1, 3.2, 3.2, 3.5, 3.1, 3.5, 3.9, 3.0, 3.8, 3.0, 3.4, 3.6, 3.5, 3.4, 3.5, 3.4, 4.1, 3.2], \"xaxis\": \"x2\", \"yaxis\": \"y2\"}, {\"alignmentgroup\": \"True\", \"bingroup\": \"x\", \"hovertemplate\": \"Cluster=Cluster 2<br>sepal_width=%{x}<br>count=%{y}<extra></extra>\", \"legendgroup\": \"Cluster 2\", \"marker\": {\"color\": \"#00cc96\", \"opacity\": 0.7}, \"name\": \"Cluster 2\", \"offsetgroup\": \"Cluster 2\", \"orientation\": \"v\", \"showlegend\": true, \"type\": \"histogram\", \"x\": [2.5, 2.5, 2.7, 3.0, 2.7, 2.3, 3.0, 2.8, 2.5, 2.9, 2.5, 2.3, 2.5, 2.6, 2.0, 2.9, 2.6, 2.5, 2.4, 2.4, 2.9, 2.8, 2.3, 2.8, 2.7, 2.7, 2.9, 2.6], \"xaxis\": \"x\", \"yaxis\": \"y\"}, {\"alignmentgroup\": \"True\", \"customdata\": [[5.1, 2.5, 3.0, 1.1, \"versicolor\", \"Cluster 2\"], [5.5, 2.5, 4.0, 1.3, \"versicolor\", \"Cluster 2\"], [5.2, 2.7, 3.9, 1.4, \"versicolor\", \"Cluster 2\"], [5.4, 3.0, 4.5, 1.5, \"versicolor\", \"Cluster 2\"], [5.8, 2.7, 5.1, 1.9, \"virginica\", \"Cluster 2\"], [5.0, 2.3, 3.3, 1.0, \"versicolor\", \"Cluster 2\"], [5.6, 3.0, 4.5, 1.5, \"versicolor\", \"Cluster 2\"], [5.6, 2.8, 4.9, 2.0, \"virginica\", \"Cluster 2\"], [4.9, 2.5, 4.5, 1.7, \"virginica\", \"Cluster 2\"], [5.7, 2.9, 4.2, 1.3, \"versicolor\", \"Cluster 2\"], [5.7, 2.5, 5.0, 2.0, \"virginica\", \"Cluster 2\"], [4.5, 2.3, 1.3, 0.3, \"setosa\", \"Cluster 2\"], [5.6, 2.5, 3.9, 1.1, \"versicolor\", \"Cluster 2\"], [5.7, 2.6, 3.5, 1.0, \"versicolor\", \"Cluster 2\"], [5.0, 2.0, 3.5, 1.0, \"versicolor\", \"Cluster 2\"], [5.6, 2.9, 3.6, 1.3, \"versicolor\", \"Cluster 2\"], [5.8, 2.6, 4.0, 1.2, \"versicolor\", \"Cluster 2\"], [6.3, 2.5, 5.0, 1.9, \"virginica\", \"Cluster 2\"], [5.5, 2.4, 3.7, 1.0, \"versicolor\", \"Cluster 2\"], [4.9, 2.4, 3.3, 1.0, \"versicolor\", \"Cluster 2\"], [6.2, 2.9, 4.3, 1.3, \"versicolor\", \"Cluster 2\"], [6.1, 2.8, 4.0, 1.3, \"versicolor\", \"Cluster 2\"], [5.5, 2.3, 4.0, 1.3, \"versicolor\", \"Cluster 2\"], [5.7, 2.8, 4.5, 1.3, \"versicolor\", \"Cluster 2\"], [5.8, 2.7, 5.1, 1.9, \"virginica\", \"Cluster 2\"], [5.6, 2.7, 4.2, 1.3, \"versicolor\", \"Cluster 2\"], [6.0, 2.9, 4.5, 1.5, \"versicolor\", \"Cluster 2\"], [5.5, 2.6, 4.4, 1.2, \"versicolor\", \"Cluster 2\"]], \"hovertemplate\": \"Cluster=%{customdata[5]}<br>sepal_width=%{customdata[1]}<br>sepal_length=%{customdata[0]}<br>petal_length=%{customdata[2]}<br>petal_width=%{customdata[3]}<br>species=%{customdata[4]}<extra></extra>\", \"legendgroup\": \"Cluster 2\", \"marker\": {\"color\": \"#00cc96\"}, \"name\": \"Cluster 2\", \"notched\": true, \"offsetgroup\": \"Cluster 2\", \"showlegend\": false, \"type\": \"box\", \"x\": [2.5, 2.5, 2.7, 3.0, 2.7, 2.3, 3.0, 2.8, 2.5, 2.9, 2.5, 2.3, 2.5, 2.6, 2.0, 2.9, 2.6, 2.5, 2.4, 2.4, 2.9, 2.8, 2.3, 2.8, 2.7, 2.7, 2.9, 2.6], \"xaxis\": \"x2\", \"yaxis\": \"y2\"}],\n",
       "                        {\"barmode\": \"relative\", \"legend\": {\"title\": {\"text\": \"Cluster\"}, \"tracegroupgap\": 0}, \"margin\": {\"t\": 60}, \"template\": {\"data\": {\"bar\": [{\"error_x\": {\"color\": \"#2a3f5f\"}, \"error_y\": {\"color\": \"#2a3f5f\"}, \"marker\": {\"line\": {\"color\": \"#E5ECF6\", \"width\": 0.5}}, \"type\": \"bar\"}], \"barpolar\": [{\"marker\": {\"line\": {\"color\": \"#E5ECF6\", \"width\": 0.5}}, \"type\": \"barpolar\"}], \"carpet\": [{\"aaxis\": {\"endlinecolor\": \"#2a3f5f\", \"gridcolor\": \"white\", \"linecolor\": \"white\", \"minorgridcolor\": \"white\", \"startlinecolor\": \"#2a3f5f\"}, \"baxis\": {\"endlinecolor\": \"#2a3f5f\", \"gridcolor\": \"white\", \"linecolor\": \"white\", \"minorgridcolor\": \"white\", \"startlinecolor\": \"#2a3f5f\"}, \"type\": \"carpet\"}], \"choropleth\": [{\"colorbar\": {\"outlinewidth\": 0, \"ticks\": \"\"}, \"type\": \"choropleth\"}], \"contour\": [{\"colorbar\": {\"outlinewidth\": 0, \"ticks\": \"\"}, \"colorscale\": [[0.0, \"#0d0887\"], [0.1111111111111111, \"#46039f\"], [0.2222222222222222, \"#7201a8\"], [0.3333333333333333, \"#9c179e\"], [0.4444444444444444, \"#bd3786\"], [0.5555555555555556, \"#d8576b\"], [0.6666666666666666, \"#ed7953\"], [0.7777777777777778, \"#fb9f3a\"], [0.8888888888888888, \"#fdca26\"], [1.0, \"#f0f921\"]], \"type\": \"contour\"}], \"contourcarpet\": [{\"colorbar\": {\"outlinewidth\": 0, \"ticks\": \"\"}, \"type\": \"contourcarpet\"}], \"heatmap\": [{\"colorbar\": {\"outlinewidth\": 0, \"ticks\": \"\"}, \"colorscale\": [[0.0, \"#0d0887\"], [0.1111111111111111, \"#46039f\"], [0.2222222222222222, \"#7201a8\"], [0.3333333333333333, \"#9c179e\"], [0.4444444444444444, \"#bd3786\"], [0.5555555555555556, \"#d8576b\"], [0.6666666666666666, \"#ed7953\"], [0.7777777777777778, \"#fb9f3a\"], [0.8888888888888888, \"#fdca26\"], [1.0, \"#f0f921\"]], \"type\": \"heatmap\"}], \"heatmapgl\": [{\"colorbar\": {\"outlinewidth\": 0, \"ticks\": \"\"}, \"colorscale\": [[0.0, \"#0d0887\"], [0.1111111111111111, \"#46039f\"], [0.2222222222222222, \"#7201a8\"], [0.3333333333333333, \"#9c179e\"], [0.4444444444444444, \"#bd3786\"], [0.5555555555555556, \"#d8576b\"], [0.6666666666666666, \"#ed7953\"], [0.7777777777777778, \"#fb9f3a\"], [0.8888888888888888, \"#fdca26\"], [1.0, \"#f0f921\"]], \"type\": \"heatmapgl\"}], \"histogram\": [{\"marker\": {\"colorbar\": {\"outlinewidth\": 0, \"ticks\": \"\"}}, \"type\": \"histogram\"}], \"histogram2d\": [{\"colorbar\": {\"outlinewidth\": 0, \"ticks\": \"\"}, \"colorscale\": [[0.0, \"#0d0887\"], [0.1111111111111111, \"#46039f\"], [0.2222222222222222, \"#7201a8\"], [0.3333333333333333, \"#9c179e\"], [0.4444444444444444, \"#bd3786\"], [0.5555555555555556, \"#d8576b\"], [0.6666666666666666, \"#ed7953\"], [0.7777777777777778, \"#fb9f3a\"], [0.8888888888888888, \"#fdca26\"], [1.0, \"#f0f921\"]], \"type\": \"histogram2d\"}], \"histogram2dcontour\": [{\"colorbar\": {\"outlinewidth\": 0, \"ticks\": \"\"}, \"colorscale\": [[0.0, \"#0d0887\"], [0.1111111111111111, \"#46039f\"], [0.2222222222222222, \"#7201a8\"], [0.3333333333333333, \"#9c179e\"], [0.4444444444444444, \"#bd3786\"], [0.5555555555555556, \"#d8576b\"], [0.6666666666666666, \"#ed7953\"], [0.7777777777777778, \"#fb9f3a\"], [0.8888888888888888, \"#fdca26\"], [1.0, \"#f0f921\"]], \"type\": \"histogram2dcontour\"}], \"mesh3d\": [{\"colorbar\": {\"outlinewidth\": 0, \"ticks\": \"\"}, \"type\": \"mesh3d\"}], \"parcoords\": [{\"line\": {\"colorbar\": {\"outlinewidth\": 0, \"ticks\": \"\"}}, \"type\": \"parcoords\"}], \"pie\": [{\"automargin\": true, \"type\": \"pie\"}], \"scatter\": [{\"marker\": {\"colorbar\": {\"outlinewidth\": 0, \"ticks\": \"\"}}, \"type\": \"scatter\"}], \"scatter3d\": [{\"line\": {\"colorbar\": {\"outlinewidth\": 0, \"ticks\": \"\"}}, \"marker\": {\"colorbar\": {\"outlinewidth\": 0, \"ticks\": \"\"}}, \"type\": \"scatter3d\"}], \"scattercarpet\": [{\"marker\": {\"colorbar\": {\"outlinewidth\": 0, \"ticks\": \"\"}}, \"type\": \"scattercarpet\"}], \"scattergeo\": [{\"marker\": {\"colorbar\": {\"outlinewidth\": 0, \"ticks\": \"\"}}, \"type\": \"scattergeo\"}], \"scattergl\": [{\"marker\": {\"colorbar\": {\"outlinewidth\": 0, \"ticks\": \"\"}}, \"type\": \"scattergl\"}], \"scattermapbox\": [{\"marker\": {\"colorbar\": {\"outlinewidth\": 0, \"ticks\": \"\"}}, \"type\": \"scattermapbox\"}], \"scatterpolar\": [{\"marker\": {\"colorbar\": {\"outlinewidth\": 0, \"ticks\": \"\"}}, \"type\": \"scatterpolar\"}], \"scatterpolargl\": [{\"marker\": {\"colorbar\": {\"outlinewidth\": 0, \"ticks\": \"\"}}, \"type\": \"scatterpolargl\"}], \"scatterternary\": [{\"marker\": {\"colorbar\": {\"outlinewidth\": 0, \"ticks\": \"\"}}, \"type\": \"scatterternary\"}], \"surface\": [{\"colorbar\": {\"outlinewidth\": 0, \"ticks\": \"\"}, \"colorscale\": [[0.0, \"#0d0887\"], [0.1111111111111111, \"#46039f\"], [0.2222222222222222, \"#7201a8\"], [0.3333333333333333, \"#9c179e\"], [0.4444444444444444, \"#bd3786\"], [0.5555555555555556, \"#d8576b\"], [0.6666666666666666, \"#ed7953\"], [0.7777777777777778, \"#fb9f3a\"], [0.8888888888888888, \"#fdca26\"], [1.0, \"#f0f921\"]], \"type\": \"surface\"}], \"table\": [{\"cells\": {\"fill\": {\"color\": \"#EBF0F8\"}, \"line\": {\"color\": \"white\"}}, \"header\": {\"fill\": {\"color\": \"#C8D4E3\"}, \"line\": {\"color\": \"white\"}}, \"type\": \"table\"}]}, \"layout\": {\"annotationdefaults\": {\"arrowcolor\": \"#2a3f5f\", \"arrowhead\": 0, \"arrowwidth\": 1}, \"coloraxis\": {\"colorbar\": {\"outlinewidth\": 0, \"ticks\": \"\"}}, \"colorscale\": {\"diverging\": [[0, \"#8e0152\"], [0.1, \"#c51b7d\"], [0.2, \"#de77ae\"], [0.3, \"#f1b6da\"], [0.4, \"#fde0ef\"], [0.5, \"#f7f7f7\"], [0.6, \"#e6f5d0\"], [0.7, \"#b8e186\"], [0.8, \"#7fbc41\"], [0.9, \"#4d9221\"], [1, \"#276419\"]], \"sequential\": [[0.0, \"#0d0887\"], [0.1111111111111111, \"#46039f\"], [0.2222222222222222, \"#7201a8\"], [0.3333333333333333, \"#9c179e\"], [0.4444444444444444, \"#bd3786\"], [0.5555555555555556, \"#d8576b\"], [0.6666666666666666, \"#ed7953\"], [0.7777777777777778, \"#fb9f3a\"], [0.8888888888888888, \"#fdca26\"], [1.0, \"#f0f921\"]], \"sequentialminus\": [[0.0, \"#0d0887\"], [0.1111111111111111, \"#46039f\"], [0.2222222222222222, \"#7201a8\"], [0.3333333333333333, \"#9c179e\"], [0.4444444444444444, \"#bd3786\"], [0.5555555555555556, \"#d8576b\"], [0.6666666666666666, \"#ed7953\"], [0.7777777777777778, \"#fb9f3a\"], [0.8888888888888888, \"#fdca26\"], [1.0, \"#f0f921\"]]}, \"colorway\": [\"#636efa\", \"#EF553B\", \"#00cc96\", \"#ab63fa\", \"#FFA15A\", \"#19d3f3\", \"#FF6692\", \"#B6E880\", \"#FF97FF\", \"#FECB52\"], \"font\": {\"color\": \"#2a3f5f\"}, \"geo\": {\"bgcolor\": \"white\", \"lakecolor\": \"white\", \"landcolor\": \"#E5ECF6\", \"showlakes\": true, \"showland\": true, \"subunitcolor\": \"white\"}, \"hoverlabel\": {\"align\": \"left\"}, \"hovermode\": \"closest\", \"mapbox\": {\"style\": \"light\"}, \"paper_bgcolor\": \"white\", \"plot_bgcolor\": \"#E5ECF6\", \"polar\": {\"angularaxis\": {\"gridcolor\": \"white\", \"linecolor\": \"white\", \"ticks\": \"\"}, \"bgcolor\": \"#E5ECF6\", \"radialaxis\": {\"gridcolor\": \"white\", \"linecolor\": \"white\", \"ticks\": \"\"}}, \"scene\": {\"xaxis\": {\"backgroundcolor\": \"#E5ECF6\", \"gridcolor\": \"white\", \"gridwidth\": 2, \"linecolor\": \"white\", \"showbackground\": true, \"ticks\": \"\", \"zerolinecolor\": \"white\"}, \"yaxis\": {\"backgroundcolor\": \"#E5ECF6\", \"gridcolor\": \"white\", \"gridwidth\": 2, \"linecolor\": \"white\", \"showbackground\": true, \"ticks\": \"\", \"zerolinecolor\": \"white\"}, \"zaxis\": {\"backgroundcolor\": \"#E5ECF6\", \"gridcolor\": \"white\", \"gridwidth\": 2, \"linecolor\": \"white\", \"showbackground\": true, \"ticks\": \"\", \"zerolinecolor\": \"white\"}}, \"shapedefaults\": {\"line\": {\"color\": \"#2a3f5f\"}}, \"ternary\": {\"aaxis\": {\"gridcolor\": \"white\", \"linecolor\": \"white\", \"ticks\": \"\"}, \"baxis\": {\"gridcolor\": \"white\", \"linecolor\": \"white\", \"ticks\": \"\"}, \"bgcolor\": \"#E5ECF6\", \"caxis\": {\"gridcolor\": \"white\", \"linecolor\": \"white\", \"ticks\": \"\"}}, \"title\": {\"x\": 0.05}, \"xaxis\": {\"automargin\": true, \"gridcolor\": \"white\", \"linecolor\": \"white\", \"ticks\": \"\", \"title\": {\"standoff\": 15}, \"zerolinecolor\": \"white\", \"zerolinewidth\": 2}, \"yaxis\": {\"automargin\": true, \"gridcolor\": \"white\", \"linecolor\": \"white\", \"ticks\": \"\", \"title\": {\"standoff\": 15}, \"zerolinecolor\": \"white\", \"zerolinewidth\": 2}}}, \"xaxis\": {\"anchor\": \"y\", \"domain\": [0.0, 1.0], \"title\": {\"text\": \"sepal_width\"}}, \"xaxis2\": {\"anchor\": \"y2\", \"domain\": [0.0, 1.0], \"matches\": \"x\", \"showgrid\": true, \"showticklabels\": false}, \"yaxis\": {\"anchor\": \"x\", \"domain\": [0.0, 0.7326], \"title\": {\"text\": \"count\"}}, \"yaxis2\": {\"anchor\": \"x2\", \"domain\": [0.7426, 1.0], \"matches\": \"y2\", \"showgrid\": false, \"showline\": false, \"showticklabels\": false, \"ticks\": \"\"}},\n",
       "                        {\"responsive\": true}\n",
       "                    ).then(function(){\n",
       "                            \n",
       "var gd = document.getElementById('9431d067-5ca6-4fe4-91c4-4a11e8a54a21');\n",
       "var x = new MutationObserver(function (mutations, observer) {{\n",
       "        var display = window.getComputedStyle(gd).display;\n",
       "        if (!display || display === 'none') {{\n",
       "            console.log([gd, 'removed!']);\n",
       "            Plotly.purge(gd);\n",
       "            observer.disconnect();\n",
       "        }}\n",
       "}});\n",
       "\n",
       "// Listen for the removal of the full notebook cells\n",
       "var notebookContainer = gd.closest('#notebook-container');\n",
       "if (notebookContainer) {{\n",
       "    x.observe(notebookContainer, {childList: true});\n",
       "}}\n",
       "\n",
       "// Listen for the clearing of the current output cell\n",
       "var outputEl = gd.closest('.output');\n",
       "if (outputEl) {{\n",
       "    x.observe(outputEl, {childList: true});\n",
       "}}\n",
       "\n",
       "                        })\n",
       "                };\n",
       "                });\n",
       "            </script>\n",
       "        </div>"
      ]
     },
     "metadata": {},
     "output_type": "display_data"
    }
   ],
   "source": [
    "# plots\n",
    "clustering.plot_model(\n",
    "    model=clustering_model,\n",
    "    plot='distribution',\n",
    "    feature='sepal_width'\n",
    ")"
   ]
  },
  {
   "cell_type": "code",
   "execution_count": 80,
   "metadata": {},
   "outputs": [
    {
     "data": {
      "text/html": [
       "        <script type=\"text/javascript\">\n",
       "        window.PlotlyConfig = {MathJaxConfig: 'local'};\n",
       "        if (window.MathJax) {MathJax.Hub.Config({SVG: {font: \"STIX-Web\"}});}\n",
       "        if (typeof require !== 'undefined') {\n",
       "        require.undef(\"plotly\");\n",
       "        requirejs.config({\n",
       "            paths: {\n",
       "                'plotly': ['https://cdn.plot.ly/plotly-latest.min']\n",
       "            }\n",
       "        });\n",
       "        require(['plotly'], function(Plotly) {\n",
       "            window._Plotly = Plotly;\n",
       "        });\n",
       "        }\n",
       "        </script>\n",
       "        "
      ]
     },
     "metadata": {},
     "output_type": "display_data"
    },
    {
     "data": {
      "application/vnd.plotly.v1+json": {
       "config": {
        "plotlyServerURL": "https://plot.ly"
       },
       "data": [
        {
         "alignmentgroup": "True",
         "bingroup": "x",
         "hovertemplate": "Cluster=Cluster 0<br>species=%{x}<br>count=%{y}<extra></extra>",
         "legendgroup": "Cluster 0",
         "marker": {
          "color": "#636efa",
          "opacity": 0.7
         },
         "name": "Cluster 0",
         "offsetgroup": "Cluster 0",
         "orientation": "v",
         "showlegend": true,
         "type": "histogram",
         "x": [
          "versicolor",
          "virginica",
          "versicolor",
          "virginica",
          "virginica",
          "virginica",
          "virginica",
          "virginica",
          "virginica",
          "versicolor",
          "virginica",
          "virginica",
          "virginica",
          "virginica",
          "versicolor",
          "versicolor",
          "virginica",
          "versicolor",
          "versicolor",
          "virginica",
          "virginica",
          "virginica",
          "virginica",
          "virginica",
          "virginica",
          "virginica",
          "virginica",
          "virginica",
          "versicolor",
          "virginica",
          "virginica",
          "virginica",
          "virginica",
          "versicolor",
          "virginica",
          "virginica",
          "versicolor",
          "virginica",
          "virginica",
          "virginica",
          "virginica"
         ],
         "xaxis": "x",
         "yaxis": "y"
        },
        {
         "alignmentgroup": "True",
         "customdata": [
          [
           6.7,
           3.1,
           4.7,
           1.5,
           "versicolor",
           "Cluster 0"
          ],
          [
           6.2,
           2.8,
           4.8,
           1.8,
           "virginica",
           "Cluster 0"
          ],
          [
           6.7,
           3.1,
           4.4,
           1.4,
           "versicolor",
           "Cluster 0"
          ],
          [
           6.5,
           3,
           5.8,
           2.2,
           "virginica",
           "Cluster 0"
          ],
          [
           6,
           3,
           4.8,
           1.8,
           "virginica",
           "Cluster 0"
          ],
          [
           7.3,
           2.9,
           6.3,
           1.8,
           "virginica",
           "Cluster 0"
          ],
          [
           6.5,
           3.2,
           5.1,
           2,
           "virginica",
           "Cluster 0"
          ],
          [
           6.7,
           3.1,
           5.6,
           2.4,
           "virginica",
           "Cluster 0"
          ],
          [
           6.4,
           3.2,
           5.3,
           2.3,
           "virginica",
           "Cluster 0"
          ],
          [
           6.4,
           2.9,
           4.3,
           1.3,
           "versicolor",
           "Cluster 0"
          ],
          [
           7.7,
           3.8,
           6.7,
           2.2,
           "virginica",
           "Cluster 0"
          ],
          [
           6.5,
           3,
           5.2,
           2,
           "virginica",
           "Cluster 0"
          ],
          [
           6.9,
           3.2,
           5.7,
           2.3,
           "virginica",
           "Cluster 0"
          ],
          [
           6.4,
           3.1,
           5.5,
           1.8,
           "virginica",
           "Cluster 0"
          ],
          [
           6.9,
           3.1,
           4.9,
           1.5,
           "versicolor",
           "Cluster 0"
          ],
          [
           6.6,
           2.9,
           4.6,
           1.3,
           "versicolor",
           "Cluster 0"
          ],
          [
           6.8,
           3,
           5.5,
           2.1,
           "virginica",
           "Cluster 0"
          ],
          [
           5.9,
           3.2,
           4.8,
           1.8,
           "versicolor",
           "Cluster 0"
          ],
          [
           6.8,
           2.8,
           4.8,
           1.4,
           "versicolor",
           "Cluster 0"
          ],
          [
           6.7,
           2.5,
           5.8,
           1.8,
           "virginica",
           "Cluster 0"
          ],
          [
           6.4,
           2.7,
           5.3,
           1.9,
           "virginica",
           "Cluster 0"
          ],
          [
           6.2,
           3.4,
           5.4,
           2.3,
           "virginica",
           "Cluster 0"
          ],
          [
           5.8,
           2.8,
           5.1,
           2.4,
           "virginica",
           "Cluster 0"
          ],
          [
           6.9,
           3.1,
           5.4,
           2.1,
           "virginica",
           "Cluster 0"
          ],
          [
           7.6,
           3,
           6.6,
           2.1,
           "virginica",
           "Cluster 0"
          ],
          [
           7.7,
           3,
           6.1,
           2.3,
           "virginica",
           "Cluster 0"
          ],
          [
           6.3,
           3.4,
           5.6,
           2.4,
           "virginica",
           "Cluster 0"
          ],
          [
           7.7,
           2.6,
           6.9,
           2.3,
           "virginica",
           "Cluster 0"
          ],
          [
           6.3,
           3.3,
           4.7,
           1.6,
           "versicolor",
           "Cluster 0"
          ],
          [
           6.3,
           2.7,
           4.9,
           1.8,
           "virginica",
           "Cluster 0"
          ],
          [
           7.2,
           3,
           5.8,
           1.6,
           "virginica",
           "Cluster 0"
          ],
          [
           7.2,
           3.6,
           6.1,
           2.5,
           "virginica",
           "Cluster 0"
          ],
          [
           6.4,
           2.8,
           5.6,
           2.2,
           "virginica",
           "Cluster 0"
          ],
          [
           7,
           3.2,
           4.7,
           1.4,
           "versicolor",
           "Cluster 0"
          ],
          [
           5.9,
           3,
           5.1,
           1.8,
           "virginica",
           "Cluster 0"
          ],
          [
           6.3,
           3.3,
           6,
           2.5,
           "virginica",
           "Cluster 0"
          ],
          [
           6.5,
           2.8,
           4.6,
           1.5,
           "versicolor",
           "Cluster 0"
          ],
          [
           6.7,
           3,
           5.2,
           2.3,
           "virginica",
           "Cluster 0"
          ],
          [
           6.8,
           3.2,
           5.9,
           2.3,
           "virginica",
           "Cluster 0"
          ],
          [
           6.3,
           2.9,
           5.6,
           1.8,
           "virginica",
           "Cluster 0"
          ],
          [
           7.4,
           2.8,
           6.1,
           1.9,
           "virginica",
           "Cluster 0"
          ]
         ],
         "hovertemplate": "Cluster=%{customdata[5]}<br>species=%{customdata[4]}<br>sepal_length=%{customdata[0]}<br>sepal_width=%{customdata[1]}<br>petal_length=%{customdata[2]}<br>petal_width=%{customdata[3]}<extra></extra>",
         "legendgroup": "Cluster 0",
         "marker": {
          "color": "#636efa"
         },
         "name": "Cluster 0",
         "notched": true,
         "offsetgroup": "Cluster 0",
         "showlegend": false,
         "type": "box",
         "x": [
          "versicolor",
          "virginica",
          "versicolor",
          "virginica",
          "virginica",
          "virginica",
          "virginica",
          "virginica",
          "virginica",
          "versicolor",
          "virginica",
          "virginica",
          "virginica",
          "virginica",
          "versicolor",
          "versicolor",
          "virginica",
          "versicolor",
          "versicolor",
          "virginica",
          "virginica",
          "virginica",
          "virginica",
          "virginica",
          "virginica",
          "virginica",
          "virginica",
          "virginica",
          "versicolor",
          "virginica",
          "virginica",
          "virginica",
          "virginica",
          "versicolor",
          "virginica",
          "virginica",
          "versicolor",
          "virginica",
          "virginica",
          "virginica",
          "virginica"
         ],
         "xaxis": "x2",
         "yaxis": "y2"
        },
        {
         "alignmentgroup": "True",
         "bingroup": "x",
         "hovertemplate": "Cluster=Cluster 1<br>species=%{x}<br>count=%{y}<extra></extra>",
         "legendgroup": "Cluster 1",
         "marker": {
          "color": "#EF553B",
          "opacity": 0.7
         },
         "name": "Cluster 1",
         "offsetgroup": "Cluster 1",
         "orientation": "v",
         "showlegend": true,
         "type": "histogram",
         "x": [
          "setosa",
          "setosa",
          "setosa",
          "setosa",
          "setosa",
          "setosa",
          "setosa",
          "setosa",
          "setosa",
          "setosa",
          "setosa",
          "setosa",
          "setosa",
          "setosa",
          "setosa",
          "setosa",
          "setosa",
          "setosa",
          "setosa",
          "setosa",
          "setosa",
          "setosa",
          "setosa",
          "setosa",
          "setosa",
          "setosa",
          "setosa",
          "setosa",
          "setosa",
          "setosa",
          "setosa",
          "setosa",
          "setosa",
          "setosa",
          "setosa",
          "setosa"
         ],
         "xaxis": "x",
         "yaxis": "y"
        },
        {
         "alignmentgroup": "True",
         "customdata": [
          [
           5.7,
           3.8,
           1.7,
           0.3,
           "setosa",
           "Cluster 1"
          ],
          [
           5,
           3.3,
           1.4,
           0.2,
           "setosa",
           "Cluster 1"
          ],
          [
           5.5,
           3.5,
           1.3,
           0.2,
           "setosa",
           "Cluster 1"
          ],
          [
           4.3,
           3,
           1.1,
           0.1,
           "setosa",
           "Cluster 1"
          ],
          [
           4.9,
           3,
           1.4,
           0.2,
           "setosa",
           "Cluster 1"
          ],
          [
           5.1,
           3.8,
           1.9,
           0.4,
           "setosa",
           "Cluster 1"
          ],
          [
           5.3,
           3.7,
           1.5,
           0.2,
           "setosa",
           "Cluster 1"
          ],
          [
           4.4,
           3.2,
           1.3,
           0.2,
           "setosa",
           "Cluster 1"
          ],
          [
           5.4,
           3.9,
           1.7,
           0.4,
           "setosa",
           "Cluster 1"
          ],
          [
           4.8,
           3.4,
           1.9,
           0.2,
           "setosa",
           "Cluster 1"
          ],
          [
           4.8,
           3,
           1.4,
           0.1,
           "setosa",
           "Cluster 1"
          ],
          [
           5,
           3.4,
           1.5,
           0.2,
           "setosa",
           "Cluster 1"
          ],
          [
           5,
           3.6,
           1.4,
           0.2,
           "setosa",
           "Cluster 1"
          ],
          [
           5.1,
           3.3,
           1.7,
           0.5,
           "setosa",
           "Cluster 1"
          ],
          [
           5,
           3.5,
           1.3,
           0.3,
           "setosa",
           "Cluster 1"
          ],
          [
           5,
           3.4,
           1.6,
           0.4,
           "setosa",
           "Cluster 1"
          ],
          [
           4.4,
           2.9,
           1.4,
           0.2,
           "setosa",
           "Cluster 1"
          ],
          [
           5.1,
           3.8,
           1.6,
           0.2,
           "setosa",
           "Cluster 1"
          ],
          [
           4.9,
           3.1,
           1.5,
           0.1,
           "setosa",
           "Cluster 1"
          ],
          [
           5,
           3.2,
           1.2,
           0.2,
           "setosa",
           "Cluster 1"
          ],
          [
           4.7,
           3.2,
           1.3,
           0.2,
           "setosa",
           "Cluster 1"
          ],
          [
           5.2,
           3.5,
           1.5,
           0.2,
           "setosa",
           "Cluster 1"
          ],
          [
           4.6,
           3.1,
           1.5,
           0.2,
           "setosa",
           "Cluster 1"
          ],
          [
           5,
           3.5,
           1.6,
           0.6,
           "setosa",
           "Cluster 1"
          ],
          [
           5.4,
           3.9,
           1.3,
           0.4,
           "setosa",
           "Cluster 1"
          ],
          [
           4.4,
           3,
           1.3,
           0.2,
           "setosa",
           "Cluster 1"
          ],
          [
           5.1,
           3.8,
           1.5,
           0.3,
           "setosa",
           "Cluster 1"
          ],
          [
           4.8,
           3,
           1.4,
           0.3,
           "setosa",
           "Cluster 1"
          ],
          [
           4.8,
           3.4,
           1.6,
           0.2,
           "setosa",
           "Cluster 1"
          ],
          [
           4.6,
           3.6,
           1,
           0.2,
           "setosa",
           "Cluster 1"
          ],
          [
           5.1,
           3.5,
           1.4,
           0.3,
           "setosa",
           "Cluster 1"
          ],
          [
           5.4,
           3.4,
           1.5,
           0.4,
           "setosa",
           "Cluster 1"
          ],
          [
           5.1,
           3.5,
           1.4,
           0.2,
           "setosa",
           "Cluster 1"
          ],
          [
           5.1,
           3.4,
           1.5,
           0.2,
           "setosa",
           "Cluster 1"
          ],
          [
           5.2,
           4.1,
           1.5,
           0.1,
           "setosa",
           "Cluster 1"
          ],
          [
           4.6,
           3.2,
           1.4,
           0.2,
           "setosa",
           "Cluster 1"
          ]
         ],
         "hovertemplate": "Cluster=%{customdata[5]}<br>species=%{customdata[4]}<br>sepal_length=%{customdata[0]}<br>sepal_width=%{customdata[1]}<br>petal_length=%{customdata[2]}<br>petal_width=%{customdata[3]}<extra></extra>",
         "legendgroup": "Cluster 1",
         "marker": {
          "color": "#EF553B"
         },
         "name": "Cluster 1",
         "notched": true,
         "offsetgroup": "Cluster 1",
         "showlegend": false,
         "type": "box",
         "x": [
          "setosa",
          "setosa",
          "setosa",
          "setosa",
          "setosa",
          "setosa",
          "setosa",
          "setosa",
          "setosa",
          "setosa",
          "setosa",
          "setosa",
          "setosa",
          "setosa",
          "setosa",
          "setosa",
          "setosa",
          "setosa",
          "setosa",
          "setosa",
          "setosa",
          "setosa",
          "setosa",
          "setosa",
          "setosa",
          "setosa",
          "setosa",
          "setosa",
          "setosa",
          "setosa",
          "setosa",
          "setosa",
          "setosa",
          "setosa",
          "setosa",
          "setosa"
         ],
         "xaxis": "x2",
         "yaxis": "y2"
        },
        {
         "alignmentgroup": "True",
         "bingroup": "x",
         "hovertemplate": "Cluster=Cluster 2<br>species=%{x}<br>count=%{y}<extra></extra>",
         "legendgroup": "Cluster 2",
         "marker": {
          "color": "#00cc96",
          "opacity": 0.7
         },
         "name": "Cluster 2",
         "offsetgroup": "Cluster 2",
         "orientation": "v",
         "showlegend": true,
         "type": "histogram",
         "x": [
          "versicolor",
          "versicolor",
          "versicolor",
          "versicolor",
          "virginica",
          "versicolor",
          "versicolor",
          "virginica",
          "virginica",
          "versicolor",
          "virginica",
          "setosa",
          "versicolor",
          "versicolor",
          "versicolor",
          "versicolor",
          "versicolor",
          "virginica",
          "versicolor",
          "versicolor",
          "versicolor",
          "versicolor",
          "versicolor",
          "versicolor",
          "virginica",
          "versicolor",
          "versicolor",
          "versicolor"
         ],
         "xaxis": "x",
         "yaxis": "y"
        },
        {
         "alignmentgroup": "True",
         "customdata": [
          [
           5.1,
           2.5,
           3,
           1.1,
           "versicolor",
           "Cluster 2"
          ],
          [
           5.5,
           2.5,
           4,
           1.3,
           "versicolor",
           "Cluster 2"
          ],
          [
           5.2,
           2.7,
           3.9,
           1.4,
           "versicolor",
           "Cluster 2"
          ],
          [
           5.4,
           3,
           4.5,
           1.5,
           "versicolor",
           "Cluster 2"
          ],
          [
           5.8,
           2.7,
           5.1,
           1.9,
           "virginica",
           "Cluster 2"
          ],
          [
           5,
           2.3,
           3.3,
           1,
           "versicolor",
           "Cluster 2"
          ],
          [
           5.6,
           3,
           4.5,
           1.5,
           "versicolor",
           "Cluster 2"
          ],
          [
           5.6,
           2.8,
           4.9,
           2,
           "virginica",
           "Cluster 2"
          ],
          [
           4.9,
           2.5,
           4.5,
           1.7,
           "virginica",
           "Cluster 2"
          ],
          [
           5.7,
           2.9,
           4.2,
           1.3,
           "versicolor",
           "Cluster 2"
          ],
          [
           5.7,
           2.5,
           5,
           2,
           "virginica",
           "Cluster 2"
          ],
          [
           4.5,
           2.3,
           1.3,
           0.3,
           "setosa",
           "Cluster 2"
          ],
          [
           5.6,
           2.5,
           3.9,
           1.1,
           "versicolor",
           "Cluster 2"
          ],
          [
           5.7,
           2.6,
           3.5,
           1,
           "versicolor",
           "Cluster 2"
          ],
          [
           5,
           2,
           3.5,
           1,
           "versicolor",
           "Cluster 2"
          ],
          [
           5.6,
           2.9,
           3.6,
           1.3,
           "versicolor",
           "Cluster 2"
          ],
          [
           5.8,
           2.6,
           4,
           1.2,
           "versicolor",
           "Cluster 2"
          ],
          [
           6.3,
           2.5,
           5,
           1.9,
           "virginica",
           "Cluster 2"
          ],
          [
           5.5,
           2.4,
           3.7,
           1,
           "versicolor",
           "Cluster 2"
          ],
          [
           4.9,
           2.4,
           3.3,
           1,
           "versicolor",
           "Cluster 2"
          ],
          [
           6.2,
           2.9,
           4.3,
           1.3,
           "versicolor",
           "Cluster 2"
          ],
          [
           6.1,
           2.8,
           4,
           1.3,
           "versicolor",
           "Cluster 2"
          ],
          [
           5.5,
           2.3,
           4,
           1.3,
           "versicolor",
           "Cluster 2"
          ],
          [
           5.7,
           2.8,
           4.5,
           1.3,
           "versicolor",
           "Cluster 2"
          ],
          [
           5.8,
           2.7,
           5.1,
           1.9,
           "virginica",
           "Cluster 2"
          ],
          [
           5.6,
           2.7,
           4.2,
           1.3,
           "versicolor",
           "Cluster 2"
          ],
          [
           6,
           2.9,
           4.5,
           1.5,
           "versicolor",
           "Cluster 2"
          ],
          [
           5.5,
           2.6,
           4.4,
           1.2,
           "versicolor",
           "Cluster 2"
          ]
         ],
         "hovertemplate": "Cluster=%{customdata[5]}<br>species=%{customdata[4]}<br>sepal_length=%{customdata[0]}<br>sepal_width=%{customdata[1]}<br>petal_length=%{customdata[2]}<br>petal_width=%{customdata[3]}<extra></extra>",
         "legendgroup": "Cluster 2",
         "marker": {
          "color": "#00cc96"
         },
         "name": "Cluster 2",
         "notched": true,
         "offsetgroup": "Cluster 2",
         "showlegend": false,
         "type": "box",
         "x": [
          "versicolor",
          "versicolor",
          "versicolor",
          "versicolor",
          "virginica",
          "versicolor",
          "versicolor",
          "virginica",
          "virginica",
          "versicolor",
          "virginica",
          "setosa",
          "versicolor",
          "versicolor",
          "versicolor",
          "versicolor",
          "versicolor",
          "virginica",
          "versicolor",
          "versicolor",
          "versicolor",
          "versicolor",
          "versicolor",
          "versicolor",
          "virginica",
          "versicolor",
          "versicolor",
          "versicolor"
         ],
         "xaxis": "x2",
         "yaxis": "y2"
        }
       ],
       "layout": {
        "barmode": "relative",
        "legend": {
         "title": {
          "text": "Cluster"
         },
         "tracegroupgap": 0
        },
        "margin": {
         "t": 60
        },
        "template": {
         "data": {
          "bar": [
           {
            "error_x": {
             "color": "#2a3f5f"
            },
            "error_y": {
             "color": "#2a3f5f"
            },
            "marker": {
             "line": {
              "color": "#E5ECF6",
              "width": 0.5
             }
            },
            "type": "bar"
           }
          ],
          "barpolar": [
           {
            "marker": {
             "line": {
              "color": "#E5ECF6",
              "width": 0.5
             }
            },
            "type": "barpolar"
           }
          ],
          "carpet": [
           {
            "aaxis": {
             "endlinecolor": "#2a3f5f",
             "gridcolor": "white",
             "linecolor": "white",
             "minorgridcolor": "white",
             "startlinecolor": "#2a3f5f"
            },
            "baxis": {
             "endlinecolor": "#2a3f5f",
             "gridcolor": "white",
             "linecolor": "white",
             "minorgridcolor": "white",
             "startlinecolor": "#2a3f5f"
            },
            "type": "carpet"
           }
          ],
          "choropleth": [
           {
            "colorbar": {
             "outlinewidth": 0,
             "ticks": ""
            },
            "type": "choropleth"
           }
          ],
          "contour": [
           {
            "colorbar": {
             "outlinewidth": 0,
             "ticks": ""
            },
            "colorscale": [
             [
              0,
              "#0d0887"
             ],
             [
              0.1111111111111111,
              "#46039f"
             ],
             [
              0.2222222222222222,
              "#7201a8"
             ],
             [
              0.3333333333333333,
              "#9c179e"
             ],
             [
              0.4444444444444444,
              "#bd3786"
             ],
             [
              0.5555555555555556,
              "#d8576b"
             ],
             [
              0.6666666666666666,
              "#ed7953"
             ],
             [
              0.7777777777777778,
              "#fb9f3a"
             ],
             [
              0.8888888888888888,
              "#fdca26"
             ],
             [
              1,
              "#f0f921"
             ]
            ],
            "type": "contour"
           }
          ],
          "contourcarpet": [
           {
            "colorbar": {
             "outlinewidth": 0,
             "ticks": ""
            },
            "type": "contourcarpet"
           }
          ],
          "heatmap": [
           {
            "colorbar": {
             "outlinewidth": 0,
             "ticks": ""
            },
            "colorscale": [
             [
              0,
              "#0d0887"
             ],
             [
              0.1111111111111111,
              "#46039f"
             ],
             [
              0.2222222222222222,
              "#7201a8"
             ],
             [
              0.3333333333333333,
              "#9c179e"
             ],
             [
              0.4444444444444444,
              "#bd3786"
             ],
             [
              0.5555555555555556,
              "#d8576b"
             ],
             [
              0.6666666666666666,
              "#ed7953"
             ],
             [
              0.7777777777777778,
              "#fb9f3a"
             ],
             [
              0.8888888888888888,
              "#fdca26"
             ],
             [
              1,
              "#f0f921"
             ]
            ],
            "type": "heatmap"
           }
          ],
          "heatmapgl": [
           {
            "colorbar": {
             "outlinewidth": 0,
             "ticks": ""
            },
            "colorscale": [
             [
              0,
              "#0d0887"
             ],
             [
              0.1111111111111111,
              "#46039f"
             ],
             [
              0.2222222222222222,
              "#7201a8"
             ],
             [
              0.3333333333333333,
              "#9c179e"
             ],
             [
              0.4444444444444444,
              "#bd3786"
             ],
             [
              0.5555555555555556,
              "#d8576b"
             ],
             [
              0.6666666666666666,
              "#ed7953"
             ],
             [
              0.7777777777777778,
              "#fb9f3a"
             ],
             [
              0.8888888888888888,
              "#fdca26"
             ],
             [
              1,
              "#f0f921"
             ]
            ],
            "type": "heatmapgl"
           }
          ],
          "histogram": [
           {
            "marker": {
             "colorbar": {
              "outlinewidth": 0,
              "ticks": ""
             }
            },
            "type": "histogram"
           }
          ],
          "histogram2d": [
           {
            "colorbar": {
             "outlinewidth": 0,
             "ticks": ""
            },
            "colorscale": [
             [
              0,
              "#0d0887"
             ],
             [
              0.1111111111111111,
              "#46039f"
             ],
             [
              0.2222222222222222,
              "#7201a8"
             ],
             [
              0.3333333333333333,
              "#9c179e"
             ],
             [
              0.4444444444444444,
              "#bd3786"
             ],
             [
              0.5555555555555556,
              "#d8576b"
             ],
             [
              0.6666666666666666,
              "#ed7953"
             ],
             [
              0.7777777777777778,
              "#fb9f3a"
             ],
             [
              0.8888888888888888,
              "#fdca26"
             ],
             [
              1,
              "#f0f921"
             ]
            ],
            "type": "histogram2d"
           }
          ],
          "histogram2dcontour": [
           {
            "colorbar": {
             "outlinewidth": 0,
             "ticks": ""
            },
            "colorscale": [
             [
              0,
              "#0d0887"
             ],
             [
              0.1111111111111111,
              "#46039f"
             ],
             [
              0.2222222222222222,
              "#7201a8"
             ],
             [
              0.3333333333333333,
              "#9c179e"
             ],
             [
              0.4444444444444444,
              "#bd3786"
             ],
             [
              0.5555555555555556,
              "#d8576b"
             ],
             [
              0.6666666666666666,
              "#ed7953"
             ],
             [
              0.7777777777777778,
              "#fb9f3a"
             ],
             [
              0.8888888888888888,
              "#fdca26"
             ],
             [
              1,
              "#f0f921"
             ]
            ],
            "type": "histogram2dcontour"
           }
          ],
          "mesh3d": [
           {
            "colorbar": {
             "outlinewidth": 0,
             "ticks": ""
            },
            "type": "mesh3d"
           }
          ],
          "parcoords": [
           {
            "line": {
             "colorbar": {
              "outlinewidth": 0,
              "ticks": ""
             }
            },
            "type": "parcoords"
           }
          ],
          "pie": [
           {
            "automargin": true,
            "type": "pie"
           }
          ],
          "scatter": [
           {
            "marker": {
             "colorbar": {
              "outlinewidth": 0,
              "ticks": ""
             }
            },
            "type": "scatter"
           }
          ],
          "scatter3d": [
           {
            "line": {
             "colorbar": {
              "outlinewidth": 0,
              "ticks": ""
             }
            },
            "marker": {
             "colorbar": {
              "outlinewidth": 0,
              "ticks": ""
             }
            },
            "type": "scatter3d"
           }
          ],
          "scattercarpet": [
           {
            "marker": {
             "colorbar": {
              "outlinewidth": 0,
              "ticks": ""
             }
            },
            "type": "scattercarpet"
           }
          ],
          "scattergeo": [
           {
            "marker": {
             "colorbar": {
              "outlinewidth": 0,
              "ticks": ""
             }
            },
            "type": "scattergeo"
           }
          ],
          "scattergl": [
           {
            "marker": {
             "colorbar": {
              "outlinewidth": 0,
              "ticks": ""
             }
            },
            "type": "scattergl"
           }
          ],
          "scattermapbox": [
           {
            "marker": {
             "colorbar": {
              "outlinewidth": 0,
              "ticks": ""
             }
            },
            "type": "scattermapbox"
           }
          ],
          "scatterpolar": [
           {
            "marker": {
             "colorbar": {
              "outlinewidth": 0,
              "ticks": ""
             }
            },
            "type": "scatterpolar"
           }
          ],
          "scatterpolargl": [
           {
            "marker": {
             "colorbar": {
              "outlinewidth": 0,
              "ticks": ""
             }
            },
            "type": "scatterpolargl"
           }
          ],
          "scatterternary": [
           {
            "marker": {
             "colorbar": {
              "outlinewidth": 0,
              "ticks": ""
             }
            },
            "type": "scatterternary"
           }
          ],
          "surface": [
           {
            "colorbar": {
             "outlinewidth": 0,
             "ticks": ""
            },
            "colorscale": [
             [
              0,
              "#0d0887"
             ],
             [
              0.1111111111111111,
              "#46039f"
             ],
             [
              0.2222222222222222,
              "#7201a8"
             ],
             [
              0.3333333333333333,
              "#9c179e"
             ],
             [
              0.4444444444444444,
              "#bd3786"
             ],
             [
              0.5555555555555556,
              "#d8576b"
             ],
             [
              0.6666666666666666,
              "#ed7953"
             ],
             [
              0.7777777777777778,
              "#fb9f3a"
             ],
             [
              0.8888888888888888,
              "#fdca26"
             ],
             [
              1,
              "#f0f921"
             ]
            ],
            "type": "surface"
           }
          ],
          "table": [
           {
            "cells": {
             "fill": {
              "color": "#EBF0F8"
             },
             "line": {
              "color": "white"
             }
            },
            "header": {
             "fill": {
              "color": "#C8D4E3"
             },
             "line": {
              "color": "white"
             }
            },
            "type": "table"
           }
          ]
         },
         "layout": {
          "annotationdefaults": {
           "arrowcolor": "#2a3f5f",
           "arrowhead": 0,
           "arrowwidth": 1
          },
          "coloraxis": {
           "colorbar": {
            "outlinewidth": 0,
            "ticks": ""
           }
          },
          "colorscale": {
           "diverging": [
            [
             0,
             "#8e0152"
            ],
            [
             0.1,
             "#c51b7d"
            ],
            [
             0.2,
             "#de77ae"
            ],
            [
             0.3,
             "#f1b6da"
            ],
            [
             0.4,
             "#fde0ef"
            ],
            [
             0.5,
             "#f7f7f7"
            ],
            [
             0.6,
             "#e6f5d0"
            ],
            [
             0.7,
             "#b8e186"
            ],
            [
             0.8,
             "#7fbc41"
            ],
            [
             0.9,
             "#4d9221"
            ],
            [
             1,
             "#276419"
            ]
           ],
           "sequential": [
            [
             0,
             "#0d0887"
            ],
            [
             0.1111111111111111,
             "#46039f"
            ],
            [
             0.2222222222222222,
             "#7201a8"
            ],
            [
             0.3333333333333333,
             "#9c179e"
            ],
            [
             0.4444444444444444,
             "#bd3786"
            ],
            [
             0.5555555555555556,
             "#d8576b"
            ],
            [
             0.6666666666666666,
             "#ed7953"
            ],
            [
             0.7777777777777778,
             "#fb9f3a"
            ],
            [
             0.8888888888888888,
             "#fdca26"
            ],
            [
             1,
             "#f0f921"
            ]
           ],
           "sequentialminus": [
            [
             0,
             "#0d0887"
            ],
            [
             0.1111111111111111,
             "#46039f"
            ],
            [
             0.2222222222222222,
             "#7201a8"
            ],
            [
             0.3333333333333333,
             "#9c179e"
            ],
            [
             0.4444444444444444,
             "#bd3786"
            ],
            [
             0.5555555555555556,
             "#d8576b"
            ],
            [
             0.6666666666666666,
             "#ed7953"
            ],
            [
             0.7777777777777778,
             "#fb9f3a"
            ],
            [
             0.8888888888888888,
             "#fdca26"
            ],
            [
             1,
             "#f0f921"
            ]
           ]
          },
          "colorway": [
           "#636efa",
           "#EF553B",
           "#00cc96",
           "#ab63fa",
           "#FFA15A",
           "#19d3f3",
           "#FF6692",
           "#B6E880",
           "#FF97FF",
           "#FECB52"
          ],
          "font": {
           "color": "#2a3f5f"
          },
          "geo": {
           "bgcolor": "white",
           "lakecolor": "white",
           "landcolor": "#E5ECF6",
           "showlakes": true,
           "showland": true,
           "subunitcolor": "white"
          },
          "hoverlabel": {
           "align": "left"
          },
          "hovermode": "closest",
          "mapbox": {
           "style": "light"
          },
          "paper_bgcolor": "white",
          "plot_bgcolor": "#E5ECF6",
          "polar": {
           "angularaxis": {
            "gridcolor": "white",
            "linecolor": "white",
            "ticks": ""
           },
           "bgcolor": "#E5ECF6",
           "radialaxis": {
            "gridcolor": "white",
            "linecolor": "white",
            "ticks": ""
           }
          },
          "scene": {
           "xaxis": {
            "backgroundcolor": "#E5ECF6",
            "gridcolor": "white",
            "gridwidth": 2,
            "linecolor": "white",
            "showbackground": true,
            "ticks": "",
            "zerolinecolor": "white"
           },
           "yaxis": {
            "backgroundcolor": "#E5ECF6",
            "gridcolor": "white",
            "gridwidth": 2,
            "linecolor": "white",
            "showbackground": true,
            "ticks": "",
            "zerolinecolor": "white"
           },
           "zaxis": {
            "backgroundcolor": "#E5ECF6",
            "gridcolor": "white",
            "gridwidth": 2,
            "linecolor": "white",
            "showbackground": true,
            "ticks": "",
            "zerolinecolor": "white"
           }
          },
          "shapedefaults": {
           "line": {
            "color": "#2a3f5f"
           }
          },
          "ternary": {
           "aaxis": {
            "gridcolor": "white",
            "linecolor": "white",
            "ticks": ""
           },
           "baxis": {
            "gridcolor": "white",
            "linecolor": "white",
            "ticks": ""
           },
           "bgcolor": "#E5ECF6",
           "caxis": {
            "gridcolor": "white",
            "linecolor": "white",
            "ticks": ""
           }
          },
          "title": {
           "x": 0.05
          },
          "xaxis": {
           "automargin": true,
           "gridcolor": "white",
           "linecolor": "white",
           "ticks": "",
           "title": {
            "standoff": 15
           },
           "zerolinecolor": "white",
           "zerolinewidth": 2
          },
          "yaxis": {
           "automargin": true,
           "gridcolor": "white",
           "linecolor": "white",
           "ticks": "",
           "title": {
            "standoff": 15
           },
           "zerolinecolor": "white",
           "zerolinewidth": 2
          }
         }
        },
        "xaxis": {
         "anchor": "y",
         "domain": [
          0,
          1
         ],
         "title": {
          "text": "species"
         }
        },
        "xaxis2": {
         "anchor": "y2",
         "domain": [
          0,
          1
         ],
         "matches": "x",
         "showgrid": true,
         "showticklabels": false
        },
        "yaxis": {
         "anchor": "x",
         "domain": [
          0,
          0.7326
         ],
         "title": {
          "text": "count"
         }
        },
        "yaxis2": {
         "anchor": "x2",
         "domain": [
          0.7426,
          1
         ],
         "matches": "y2",
         "showgrid": false,
         "showline": false,
         "showticklabels": false,
         "ticks": ""
        }
       }
      },
      "text/html": [
       "<div>\n",
       "        \n",
       "        \n",
       "            <div id=\"bfd63f69-905b-4343-9d5f-0989636b623b\" class=\"plotly-graph-div\" style=\"height:525px; width:100%;\"></div>\n",
       "            <script type=\"text/javascript\">\n",
       "                require([\"plotly\"], function(Plotly) {\n",
       "                    window.PLOTLYENV=window.PLOTLYENV || {};\n",
       "                    \n",
       "                if (document.getElementById(\"bfd63f69-905b-4343-9d5f-0989636b623b\")) {\n",
       "                    Plotly.newPlot(\n",
       "                        'bfd63f69-905b-4343-9d5f-0989636b623b',\n",
       "                        [{\"alignmentgroup\": \"True\", \"bingroup\": \"x\", \"hovertemplate\": \"Cluster=Cluster 0<br>species=%{x}<br>count=%{y}<extra></extra>\", \"legendgroup\": \"Cluster 0\", \"marker\": {\"color\": \"#636efa\", \"opacity\": 0.7}, \"name\": \"Cluster 0\", \"offsetgroup\": \"Cluster 0\", \"orientation\": \"v\", \"showlegend\": true, \"type\": \"histogram\", \"x\": [\"versicolor\", \"virginica\", \"versicolor\", \"virginica\", \"virginica\", \"virginica\", \"virginica\", \"virginica\", \"virginica\", \"versicolor\", \"virginica\", \"virginica\", \"virginica\", \"virginica\", \"versicolor\", \"versicolor\", \"virginica\", \"versicolor\", \"versicolor\", \"virginica\", \"virginica\", \"virginica\", \"virginica\", \"virginica\", \"virginica\", \"virginica\", \"virginica\", \"virginica\", \"versicolor\", \"virginica\", \"virginica\", \"virginica\", \"virginica\", \"versicolor\", \"virginica\", \"virginica\", \"versicolor\", \"virginica\", \"virginica\", \"virginica\", \"virginica\"], \"xaxis\": \"x\", \"yaxis\": \"y\"}, {\"alignmentgroup\": \"True\", \"customdata\": [[6.7, 3.1, 4.7, 1.5, \"versicolor\", \"Cluster 0\"], [6.2, 2.8, 4.8, 1.8, \"virginica\", \"Cluster 0\"], [6.7, 3.1, 4.4, 1.4, \"versicolor\", \"Cluster 0\"], [6.5, 3.0, 5.8, 2.2, \"virginica\", \"Cluster 0\"], [6.0, 3.0, 4.8, 1.8, \"virginica\", \"Cluster 0\"], [7.3, 2.9, 6.3, 1.8, \"virginica\", \"Cluster 0\"], [6.5, 3.2, 5.1, 2.0, \"virginica\", \"Cluster 0\"], [6.7, 3.1, 5.6, 2.4, \"virginica\", \"Cluster 0\"], [6.4, 3.2, 5.3, 2.3, \"virginica\", \"Cluster 0\"], [6.4, 2.9, 4.3, 1.3, \"versicolor\", \"Cluster 0\"], [7.7, 3.8, 6.7, 2.2, \"virginica\", \"Cluster 0\"], [6.5, 3.0, 5.2, 2.0, \"virginica\", \"Cluster 0\"], [6.9, 3.2, 5.7, 2.3, \"virginica\", \"Cluster 0\"], [6.4, 3.1, 5.5, 1.8, \"virginica\", \"Cluster 0\"], [6.9, 3.1, 4.9, 1.5, \"versicolor\", \"Cluster 0\"], [6.6, 2.9, 4.6, 1.3, \"versicolor\", \"Cluster 0\"], [6.8, 3.0, 5.5, 2.1, \"virginica\", \"Cluster 0\"], [5.9, 3.2, 4.8, 1.8, \"versicolor\", \"Cluster 0\"], [6.8, 2.8, 4.8, 1.4, \"versicolor\", \"Cluster 0\"], [6.7, 2.5, 5.8, 1.8, \"virginica\", \"Cluster 0\"], [6.4, 2.7, 5.3, 1.9, \"virginica\", \"Cluster 0\"], [6.2, 3.4, 5.4, 2.3, \"virginica\", \"Cluster 0\"], [5.8, 2.8, 5.1, 2.4, \"virginica\", \"Cluster 0\"], [6.9, 3.1, 5.4, 2.1, \"virginica\", \"Cluster 0\"], [7.6, 3.0, 6.6, 2.1, \"virginica\", \"Cluster 0\"], [7.7, 3.0, 6.1, 2.3, \"virginica\", \"Cluster 0\"], [6.3, 3.4, 5.6, 2.4, \"virginica\", \"Cluster 0\"], [7.7, 2.6, 6.9, 2.3, \"virginica\", \"Cluster 0\"], [6.3, 3.3, 4.7, 1.6, \"versicolor\", \"Cluster 0\"], [6.3, 2.7, 4.9, 1.8, \"virginica\", \"Cluster 0\"], [7.2, 3.0, 5.8, 1.6, \"virginica\", \"Cluster 0\"], [7.2, 3.6, 6.1, 2.5, \"virginica\", \"Cluster 0\"], [6.4, 2.8, 5.6, 2.2, \"virginica\", \"Cluster 0\"], [7.0, 3.2, 4.7, 1.4, \"versicolor\", \"Cluster 0\"], [5.9, 3.0, 5.1, 1.8, \"virginica\", \"Cluster 0\"], [6.3, 3.3, 6.0, 2.5, \"virginica\", \"Cluster 0\"], [6.5, 2.8, 4.6, 1.5, \"versicolor\", \"Cluster 0\"], [6.7, 3.0, 5.2, 2.3, \"virginica\", \"Cluster 0\"], [6.8, 3.2, 5.9, 2.3, \"virginica\", \"Cluster 0\"], [6.3, 2.9, 5.6, 1.8, \"virginica\", \"Cluster 0\"], [7.4, 2.8, 6.1, 1.9, \"virginica\", \"Cluster 0\"]], \"hovertemplate\": \"Cluster=%{customdata[5]}<br>species=%{customdata[4]}<br>sepal_length=%{customdata[0]}<br>sepal_width=%{customdata[1]}<br>petal_length=%{customdata[2]}<br>petal_width=%{customdata[3]}<extra></extra>\", \"legendgroup\": \"Cluster 0\", \"marker\": {\"color\": \"#636efa\"}, \"name\": \"Cluster 0\", \"notched\": true, \"offsetgroup\": \"Cluster 0\", \"showlegend\": false, \"type\": \"box\", \"x\": [\"versicolor\", \"virginica\", \"versicolor\", \"virginica\", \"virginica\", \"virginica\", \"virginica\", \"virginica\", \"virginica\", \"versicolor\", \"virginica\", \"virginica\", \"virginica\", \"virginica\", \"versicolor\", \"versicolor\", \"virginica\", \"versicolor\", \"versicolor\", \"virginica\", \"virginica\", \"virginica\", \"virginica\", \"virginica\", \"virginica\", \"virginica\", \"virginica\", \"virginica\", \"versicolor\", \"virginica\", \"virginica\", \"virginica\", \"virginica\", \"versicolor\", \"virginica\", \"virginica\", \"versicolor\", \"virginica\", \"virginica\", \"virginica\", \"virginica\"], \"xaxis\": \"x2\", \"yaxis\": \"y2\"}, {\"alignmentgroup\": \"True\", \"bingroup\": \"x\", \"hovertemplate\": \"Cluster=Cluster 1<br>species=%{x}<br>count=%{y}<extra></extra>\", \"legendgroup\": \"Cluster 1\", \"marker\": {\"color\": \"#EF553B\", \"opacity\": 0.7}, \"name\": \"Cluster 1\", \"offsetgroup\": \"Cluster 1\", \"orientation\": \"v\", \"showlegend\": true, \"type\": \"histogram\", \"x\": [\"setosa\", \"setosa\", \"setosa\", \"setosa\", \"setosa\", \"setosa\", \"setosa\", \"setosa\", \"setosa\", \"setosa\", \"setosa\", \"setosa\", \"setosa\", \"setosa\", \"setosa\", \"setosa\", \"setosa\", \"setosa\", \"setosa\", \"setosa\", \"setosa\", \"setosa\", \"setosa\", \"setosa\", \"setosa\", \"setosa\", \"setosa\", \"setosa\", \"setosa\", \"setosa\", \"setosa\", \"setosa\", \"setosa\", \"setosa\", \"setosa\", \"setosa\"], \"xaxis\": \"x\", \"yaxis\": \"y\"}, {\"alignmentgroup\": \"True\", \"customdata\": [[5.7, 3.8, 1.7, 0.3, \"setosa\", \"Cluster 1\"], [5.0, 3.3, 1.4, 0.2, \"setosa\", \"Cluster 1\"], [5.5, 3.5, 1.3, 0.2, \"setosa\", \"Cluster 1\"], [4.3, 3.0, 1.1, 0.1, \"setosa\", \"Cluster 1\"], [4.9, 3.0, 1.4, 0.2, \"setosa\", \"Cluster 1\"], [5.1, 3.8, 1.9, 0.4, \"setosa\", \"Cluster 1\"], [5.3, 3.7, 1.5, 0.2, \"setosa\", \"Cluster 1\"], [4.4, 3.2, 1.3, 0.2, \"setosa\", \"Cluster 1\"], [5.4, 3.9, 1.7, 0.4, \"setosa\", \"Cluster 1\"], [4.8, 3.4, 1.9, 0.2, \"setosa\", \"Cluster 1\"], [4.8, 3.0, 1.4, 0.1, \"setosa\", \"Cluster 1\"], [5.0, 3.4, 1.5, 0.2, \"setosa\", \"Cluster 1\"], [5.0, 3.6, 1.4, 0.2, \"setosa\", \"Cluster 1\"], [5.1, 3.3, 1.7, 0.5, \"setosa\", \"Cluster 1\"], [5.0, 3.5, 1.3, 0.3, \"setosa\", \"Cluster 1\"], [5.0, 3.4, 1.6, 0.4, \"setosa\", \"Cluster 1\"], [4.4, 2.9, 1.4, 0.2, \"setosa\", \"Cluster 1\"], [5.1, 3.8, 1.6, 0.2, \"setosa\", \"Cluster 1\"], [4.9, 3.1, 1.5, 0.1, \"setosa\", \"Cluster 1\"], [5.0, 3.2, 1.2, 0.2, \"setosa\", \"Cluster 1\"], [4.7, 3.2, 1.3, 0.2, \"setosa\", \"Cluster 1\"], [5.2, 3.5, 1.5, 0.2, \"setosa\", \"Cluster 1\"], [4.6, 3.1, 1.5, 0.2, \"setosa\", \"Cluster 1\"], [5.0, 3.5, 1.6, 0.6, \"setosa\", \"Cluster 1\"], [5.4, 3.9, 1.3, 0.4, \"setosa\", \"Cluster 1\"], [4.4, 3.0, 1.3, 0.2, \"setosa\", \"Cluster 1\"], [5.1, 3.8, 1.5, 0.3, \"setosa\", \"Cluster 1\"], [4.8, 3.0, 1.4, 0.3, \"setosa\", \"Cluster 1\"], [4.8, 3.4, 1.6, 0.2, \"setosa\", \"Cluster 1\"], [4.6, 3.6, 1.0, 0.2, \"setosa\", \"Cluster 1\"], [5.1, 3.5, 1.4, 0.3, \"setosa\", \"Cluster 1\"], [5.4, 3.4, 1.5, 0.4, \"setosa\", \"Cluster 1\"], [5.1, 3.5, 1.4, 0.2, \"setosa\", \"Cluster 1\"], [5.1, 3.4, 1.5, 0.2, \"setosa\", \"Cluster 1\"], [5.2, 4.1, 1.5, 0.1, \"setosa\", \"Cluster 1\"], [4.6, 3.2, 1.4, 0.2, \"setosa\", \"Cluster 1\"]], \"hovertemplate\": \"Cluster=%{customdata[5]}<br>species=%{customdata[4]}<br>sepal_length=%{customdata[0]}<br>sepal_width=%{customdata[1]}<br>petal_length=%{customdata[2]}<br>petal_width=%{customdata[3]}<extra></extra>\", \"legendgroup\": \"Cluster 1\", \"marker\": {\"color\": \"#EF553B\"}, \"name\": \"Cluster 1\", \"notched\": true, \"offsetgroup\": \"Cluster 1\", \"showlegend\": false, \"type\": \"box\", \"x\": [\"setosa\", \"setosa\", \"setosa\", \"setosa\", \"setosa\", \"setosa\", \"setosa\", \"setosa\", \"setosa\", \"setosa\", \"setosa\", \"setosa\", \"setosa\", \"setosa\", \"setosa\", \"setosa\", \"setosa\", \"setosa\", \"setosa\", \"setosa\", \"setosa\", \"setosa\", \"setosa\", \"setosa\", \"setosa\", \"setosa\", \"setosa\", \"setosa\", \"setosa\", \"setosa\", \"setosa\", \"setosa\", \"setosa\", \"setosa\", \"setosa\", \"setosa\"], \"xaxis\": \"x2\", \"yaxis\": \"y2\"}, {\"alignmentgroup\": \"True\", \"bingroup\": \"x\", \"hovertemplate\": \"Cluster=Cluster 2<br>species=%{x}<br>count=%{y}<extra></extra>\", \"legendgroup\": \"Cluster 2\", \"marker\": {\"color\": \"#00cc96\", \"opacity\": 0.7}, \"name\": \"Cluster 2\", \"offsetgroup\": \"Cluster 2\", \"orientation\": \"v\", \"showlegend\": true, \"type\": \"histogram\", \"x\": [\"versicolor\", \"versicolor\", \"versicolor\", \"versicolor\", \"virginica\", \"versicolor\", \"versicolor\", \"virginica\", \"virginica\", \"versicolor\", \"virginica\", \"setosa\", \"versicolor\", \"versicolor\", \"versicolor\", \"versicolor\", \"versicolor\", \"virginica\", \"versicolor\", \"versicolor\", \"versicolor\", \"versicolor\", \"versicolor\", \"versicolor\", \"virginica\", \"versicolor\", \"versicolor\", \"versicolor\"], \"xaxis\": \"x\", \"yaxis\": \"y\"}, {\"alignmentgroup\": \"True\", \"customdata\": [[5.1, 2.5, 3.0, 1.1, \"versicolor\", \"Cluster 2\"], [5.5, 2.5, 4.0, 1.3, \"versicolor\", \"Cluster 2\"], [5.2, 2.7, 3.9, 1.4, \"versicolor\", \"Cluster 2\"], [5.4, 3.0, 4.5, 1.5, \"versicolor\", \"Cluster 2\"], [5.8, 2.7, 5.1, 1.9, \"virginica\", \"Cluster 2\"], [5.0, 2.3, 3.3, 1.0, \"versicolor\", \"Cluster 2\"], [5.6, 3.0, 4.5, 1.5, \"versicolor\", \"Cluster 2\"], [5.6, 2.8, 4.9, 2.0, \"virginica\", \"Cluster 2\"], [4.9, 2.5, 4.5, 1.7, \"virginica\", \"Cluster 2\"], [5.7, 2.9, 4.2, 1.3, \"versicolor\", \"Cluster 2\"], [5.7, 2.5, 5.0, 2.0, \"virginica\", \"Cluster 2\"], [4.5, 2.3, 1.3, 0.3, \"setosa\", \"Cluster 2\"], [5.6, 2.5, 3.9, 1.1, \"versicolor\", \"Cluster 2\"], [5.7, 2.6, 3.5, 1.0, \"versicolor\", \"Cluster 2\"], [5.0, 2.0, 3.5, 1.0, \"versicolor\", \"Cluster 2\"], [5.6, 2.9, 3.6, 1.3, \"versicolor\", \"Cluster 2\"], [5.8, 2.6, 4.0, 1.2, \"versicolor\", \"Cluster 2\"], [6.3, 2.5, 5.0, 1.9, \"virginica\", \"Cluster 2\"], [5.5, 2.4, 3.7, 1.0, \"versicolor\", \"Cluster 2\"], [4.9, 2.4, 3.3, 1.0, \"versicolor\", \"Cluster 2\"], [6.2, 2.9, 4.3, 1.3, \"versicolor\", \"Cluster 2\"], [6.1, 2.8, 4.0, 1.3, \"versicolor\", \"Cluster 2\"], [5.5, 2.3, 4.0, 1.3, \"versicolor\", \"Cluster 2\"], [5.7, 2.8, 4.5, 1.3, \"versicolor\", \"Cluster 2\"], [5.8, 2.7, 5.1, 1.9, \"virginica\", \"Cluster 2\"], [5.6, 2.7, 4.2, 1.3, \"versicolor\", \"Cluster 2\"], [6.0, 2.9, 4.5, 1.5, \"versicolor\", \"Cluster 2\"], [5.5, 2.6, 4.4, 1.2, \"versicolor\", \"Cluster 2\"]], \"hovertemplate\": \"Cluster=%{customdata[5]}<br>species=%{customdata[4]}<br>sepal_length=%{customdata[0]}<br>sepal_width=%{customdata[1]}<br>petal_length=%{customdata[2]}<br>petal_width=%{customdata[3]}<extra></extra>\", \"legendgroup\": \"Cluster 2\", \"marker\": {\"color\": \"#00cc96\"}, \"name\": \"Cluster 2\", \"notched\": true, \"offsetgroup\": \"Cluster 2\", \"showlegend\": false, \"type\": \"box\", \"x\": [\"versicolor\", \"versicolor\", \"versicolor\", \"versicolor\", \"virginica\", \"versicolor\", \"versicolor\", \"virginica\", \"virginica\", \"versicolor\", \"virginica\", \"setosa\", \"versicolor\", \"versicolor\", \"versicolor\", \"versicolor\", \"versicolor\", \"virginica\", \"versicolor\", \"versicolor\", \"versicolor\", \"versicolor\", \"versicolor\", \"versicolor\", \"virginica\", \"versicolor\", \"versicolor\", \"versicolor\"], \"xaxis\": \"x2\", \"yaxis\": \"y2\"}],\n",
       "                        {\"barmode\": \"relative\", \"legend\": {\"title\": {\"text\": \"Cluster\"}, \"tracegroupgap\": 0}, \"margin\": {\"t\": 60}, \"template\": {\"data\": {\"bar\": [{\"error_x\": {\"color\": \"#2a3f5f\"}, \"error_y\": {\"color\": \"#2a3f5f\"}, \"marker\": {\"line\": {\"color\": \"#E5ECF6\", \"width\": 0.5}}, \"type\": \"bar\"}], \"barpolar\": [{\"marker\": {\"line\": {\"color\": \"#E5ECF6\", \"width\": 0.5}}, \"type\": \"barpolar\"}], \"carpet\": [{\"aaxis\": {\"endlinecolor\": \"#2a3f5f\", \"gridcolor\": \"white\", \"linecolor\": \"white\", \"minorgridcolor\": \"white\", \"startlinecolor\": \"#2a3f5f\"}, \"baxis\": {\"endlinecolor\": \"#2a3f5f\", \"gridcolor\": \"white\", \"linecolor\": \"white\", \"minorgridcolor\": \"white\", \"startlinecolor\": \"#2a3f5f\"}, \"type\": \"carpet\"}], \"choropleth\": [{\"colorbar\": {\"outlinewidth\": 0, \"ticks\": \"\"}, \"type\": \"choropleth\"}], \"contour\": [{\"colorbar\": {\"outlinewidth\": 0, \"ticks\": \"\"}, \"colorscale\": [[0.0, \"#0d0887\"], [0.1111111111111111, \"#46039f\"], [0.2222222222222222, \"#7201a8\"], [0.3333333333333333, \"#9c179e\"], [0.4444444444444444, \"#bd3786\"], [0.5555555555555556, \"#d8576b\"], [0.6666666666666666, \"#ed7953\"], [0.7777777777777778, \"#fb9f3a\"], [0.8888888888888888, \"#fdca26\"], [1.0, \"#f0f921\"]], \"type\": \"contour\"}], \"contourcarpet\": [{\"colorbar\": {\"outlinewidth\": 0, \"ticks\": \"\"}, \"type\": \"contourcarpet\"}], \"heatmap\": [{\"colorbar\": {\"outlinewidth\": 0, \"ticks\": \"\"}, \"colorscale\": [[0.0, \"#0d0887\"], [0.1111111111111111, \"#46039f\"], [0.2222222222222222, \"#7201a8\"], [0.3333333333333333, \"#9c179e\"], [0.4444444444444444, \"#bd3786\"], [0.5555555555555556, \"#d8576b\"], [0.6666666666666666, \"#ed7953\"], [0.7777777777777778, \"#fb9f3a\"], [0.8888888888888888, \"#fdca26\"], [1.0, \"#f0f921\"]], \"type\": \"heatmap\"}], \"heatmapgl\": [{\"colorbar\": {\"outlinewidth\": 0, \"ticks\": \"\"}, \"colorscale\": [[0.0, \"#0d0887\"], [0.1111111111111111, \"#46039f\"], [0.2222222222222222, \"#7201a8\"], [0.3333333333333333, \"#9c179e\"], [0.4444444444444444, \"#bd3786\"], [0.5555555555555556, \"#d8576b\"], [0.6666666666666666, \"#ed7953\"], [0.7777777777777778, \"#fb9f3a\"], [0.8888888888888888, \"#fdca26\"], [1.0, \"#f0f921\"]], \"type\": \"heatmapgl\"}], \"histogram\": [{\"marker\": {\"colorbar\": {\"outlinewidth\": 0, \"ticks\": \"\"}}, \"type\": \"histogram\"}], \"histogram2d\": [{\"colorbar\": {\"outlinewidth\": 0, \"ticks\": \"\"}, \"colorscale\": [[0.0, \"#0d0887\"], [0.1111111111111111, \"#46039f\"], [0.2222222222222222, \"#7201a8\"], [0.3333333333333333, \"#9c179e\"], [0.4444444444444444, \"#bd3786\"], [0.5555555555555556, \"#d8576b\"], [0.6666666666666666, \"#ed7953\"], [0.7777777777777778, \"#fb9f3a\"], [0.8888888888888888, \"#fdca26\"], [1.0, \"#f0f921\"]], \"type\": \"histogram2d\"}], \"histogram2dcontour\": [{\"colorbar\": {\"outlinewidth\": 0, \"ticks\": \"\"}, \"colorscale\": [[0.0, \"#0d0887\"], [0.1111111111111111, \"#46039f\"], [0.2222222222222222, \"#7201a8\"], [0.3333333333333333, \"#9c179e\"], [0.4444444444444444, \"#bd3786\"], [0.5555555555555556, \"#d8576b\"], [0.6666666666666666, \"#ed7953\"], [0.7777777777777778, \"#fb9f3a\"], [0.8888888888888888, \"#fdca26\"], [1.0, \"#f0f921\"]], \"type\": \"histogram2dcontour\"}], \"mesh3d\": [{\"colorbar\": {\"outlinewidth\": 0, \"ticks\": \"\"}, \"type\": \"mesh3d\"}], \"parcoords\": [{\"line\": {\"colorbar\": {\"outlinewidth\": 0, \"ticks\": \"\"}}, \"type\": \"parcoords\"}], \"pie\": [{\"automargin\": true, \"type\": \"pie\"}], \"scatter\": [{\"marker\": {\"colorbar\": {\"outlinewidth\": 0, \"ticks\": \"\"}}, \"type\": \"scatter\"}], \"scatter3d\": [{\"line\": {\"colorbar\": {\"outlinewidth\": 0, \"ticks\": \"\"}}, \"marker\": {\"colorbar\": {\"outlinewidth\": 0, \"ticks\": \"\"}}, \"type\": \"scatter3d\"}], \"scattercarpet\": [{\"marker\": {\"colorbar\": {\"outlinewidth\": 0, \"ticks\": \"\"}}, \"type\": \"scattercarpet\"}], \"scattergeo\": [{\"marker\": {\"colorbar\": {\"outlinewidth\": 0, \"ticks\": \"\"}}, \"type\": \"scattergeo\"}], \"scattergl\": [{\"marker\": {\"colorbar\": {\"outlinewidth\": 0, \"ticks\": \"\"}}, \"type\": \"scattergl\"}], \"scattermapbox\": [{\"marker\": {\"colorbar\": {\"outlinewidth\": 0, \"ticks\": \"\"}}, \"type\": \"scattermapbox\"}], \"scatterpolar\": [{\"marker\": {\"colorbar\": {\"outlinewidth\": 0, \"ticks\": \"\"}}, \"type\": \"scatterpolar\"}], \"scatterpolargl\": [{\"marker\": {\"colorbar\": {\"outlinewidth\": 0, \"ticks\": \"\"}}, \"type\": \"scatterpolargl\"}], \"scatterternary\": [{\"marker\": {\"colorbar\": {\"outlinewidth\": 0, \"ticks\": \"\"}}, \"type\": \"scatterternary\"}], \"surface\": [{\"colorbar\": {\"outlinewidth\": 0, \"ticks\": \"\"}, \"colorscale\": [[0.0, \"#0d0887\"], [0.1111111111111111, \"#46039f\"], [0.2222222222222222, \"#7201a8\"], [0.3333333333333333, \"#9c179e\"], [0.4444444444444444, \"#bd3786\"], [0.5555555555555556, \"#d8576b\"], [0.6666666666666666, \"#ed7953\"], [0.7777777777777778, \"#fb9f3a\"], [0.8888888888888888, \"#fdca26\"], [1.0, \"#f0f921\"]], \"type\": \"surface\"}], \"table\": [{\"cells\": {\"fill\": {\"color\": \"#EBF0F8\"}, \"line\": {\"color\": \"white\"}}, \"header\": {\"fill\": {\"color\": \"#C8D4E3\"}, \"line\": {\"color\": \"white\"}}, \"type\": \"table\"}]}, \"layout\": {\"annotationdefaults\": {\"arrowcolor\": \"#2a3f5f\", \"arrowhead\": 0, \"arrowwidth\": 1}, \"coloraxis\": {\"colorbar\": {\"outlinewidth\": 0, \"ticks\": \"\"}}, \"colorscale\": {\"diverging\": [[0, \"#8e0152\"], [0.1, \"#c51b7d\"], [0.2, \"#de77ae\"], [0.3, \"#f1b6da\"], [0.4, \"#fde0ef\"], [0.5, \"#f7f7f7\"], [0.6, \"#e6f5d0\"], [0.7, \"#b8e186\"], [0.8, \"#7fbc41\"], [0.9, \"#4d9221\"], [1, \"#276419\"]], \"sequential\": [[0.0, \"#0d0887\"], [0.1111111111111111, \"#46039f\"], [0.2222222222222222, \"#7201a8\"], [0.3333333333333333, \"#9c179e\"], [0.4444444444444444, \"#bd3786\"], [0.5555555555555556, \"#d8576b\"], [0.6666666666666666, \"#ed7953\"], [0.7777777777777778, \"#fb9f3a\"], [0.8888888888888888, \"#fdca26\"], [1.0, \"#f0f921\"]], \"sequentialminus\": [[0.0, \"#0d0887\"], [0.1111111111111111, \"#46039f\"], [0.2222222222222222, \"#7201a8\"], [0.3333333333333333, \"#9c179e\"], [0.4444444444444444, \"#bd3786\"], [0.5555555555555556, \"#d8576b\"], [0.6666666666666666, \"#ed7953\"], [0.7777777777777778, \"#fb9f3a\"], [0.8888888888888888, \"#fdca26\"], [1.0, \"#f0f921\"]]}, \"colorway\": [\"#636efa\", \"#EF553B\", \"#00cc96\", \"#ab63fa\", \"#FFA15A\", \"#19d3f3\", \"#FF6692\", \"#B6E880\", \"#FF97FF\", \"#FECB52\"], \"font\": {\"color\": \"#2a3f5f\"}, \"geo\": {\"bgcolor\": \"white\", \"lakecolor\": \"white\", \"landcolor\": \"#E5ECF6\", \"showlakes\": true, \"showland\": true, \"subunitcolor\": \"white\"}, \"hoverlabel\": {\"align\": \"left\"}, \"hovermode\": \"closest\", \"mapbox\": {\"style\": \"light\"}, \"paper_bgcolor\": \"white\", \"plot_bgcolor\": \"#E5ECF6\", \"polar\": {\"angularaxis\": {\"gridcolor\": \"white\", \"linecolor\": \"white\", \"ticks\": \"\"}, \"bgcolor\": \"#E5ECF6\", \"radialaxis\": {\"gridcolor\": \"white\", \"linecolor\": \"white\", \"ticks\": \"\"}}, \"scene\": {\"xaxis\": {\"backgroundcolor\": \"#E5ECF6\", \"gridcolor\": \"white\", \"gridwidth\": 2, \"linecolor\": \"white\", \"showbackground\": true, \"ticks\": \"\", \"zerolinecolor\": \"white\"}, \"yaxis\": {\"backgroundcolor\": \"#E5ECF6\", \"gridcolor\": \"white\", \"gridwidth\": 2, \"linecolor\": \"white\", \"showbackground\": true, \"ticks\": \"\", \"zerolinecolor\": \"white\"}, \"zaxis\": {\"backgroundcolor\": \"#E5ECF6\", \"gridcolor\": \"white\", \"gridwidth\": 2, \"linecolor\": \"white\", \"showbackground\": true, \"ticks\": \"\", \"zerolinecolor\": \"white\"}}, \"shapedefaults\": {\"line\": {\"color\": \"#2a3f5f\"}}, \"ternary\": {\"aaxis\": {\"gridcolor\": \"white\", \"linecolor\": \"white\", \"ticks\": \"\"}, \"baxis\": {\"gridcolor\": \"white\", \"linecolor\": \"white\", \"ticks\": \"\"}, \"bgcolor\": \"#E5ECF6\", \"caxis\": {\"gridcolor\": \"white\", \"linecolor\": \"white\", \"ticks\": \"\"}}, \"title\": {\"x\": 0.05}, \"xaxis\": {\"automargin\": true, \"gridcolor\": \"white\", \"linecolor\": \"white\", \"ticks\": \"\", \"title\": {\"standoff\": 15}, \"zerolinecolor\": \"white\", \"zerolinewidth\": 2}, \"yaxis\": {\"automargin\": true, \"gridcolor\": \"white\", \"linecolor\": \"white\", \"ticks\": \"\", \"title\": {\"standoff\": 15}, \"zerolinecolor\": \"white\", \"zerolinewidth\": 2}}}, \"xaxis\": {\"anchor\": \"y\", \"domain\": [0.0, 1.0], \"title\": {\"text\": \"species\"}}, \"xaxis2\": {\"anchor\": \"y2\", \"domain\": [0.0, 1.0], \"matches\": \"x\", \"showgrid\": true, \"showticklabels\": false}, \"yaxis\": {\"anchor\": \"x\", \"domain\": [0.0, 0.7326], \"title\": {\"text\": \"count\"}}, \"yaxis2\": {\"anchor\": \"x2\", \"domain\": [0.7426, 1.0], \"matches\": \"y2\", \"showgrid\": false, \"showline\": false, \"showticklabels\": false, \"ticks\": \"\"}},\n",
       "                        {\"responsive\": true}\n",
       "                    ).then(function(){\n",
       "                            \n",
       "var gd = document.getElementById('bfd63f69-905b-4343-9d5f-0989636b623b');\n",
       "var x = new MutationObserver(function (mutations, observer) {{\n",
       "        var display = window.getComputedStyle(gd).display;\n",
       "        if (!display || display === 'none') {{\n",
       "            console.log([gd, 'removed!']);\n",
       "            Plotly.purge(gd);\n",
       "            observer.disconnect();\n",
       "        }}\n",
       "}});\n",
       "\n",
       "// Listen for the removal of the full notebook cells\n",
       "var notebookContainer = gd.closest('#notebook-container');\n",
       "if (notebookContainer) {{\n",
       "    x.observe(notebookContainer, {childList: true});\n",
       "}}\n",
       "\n",
       "// Listen for the clearing of the current output cell\n",
       "var outputEl = gd.closest('.output');\n",
       "if (outputEl) {{\n",
       "    x.observe(outputEl, {childList: true});\n",
       "}}\n",
       "\n",
       "                        })\n",
       "                };\n",
       "                });\n",
       "            </script>\n",
       "        </div>"
      ]
     },
     "metadata": {},
     "output_type": "display_data"
    }
   ],
   "source": [
    "# plots\n",
    "clustering.plot_model(\n",
    "    model=clustering_model,\n",
    "    plot='distribution',\n",
    "    feature='species'\n",
    ")"
   ]
  },
  {
   "cell_type": "code",
   "execution_count": 81,
   "metadata": {},
   "outputs": [],
   "source": [
    "# model predictions\n",
    "clustering_test_predictions = clustering.predict_model(\n",
    "    clustering_model,\n",
    "    data=df_iris_test\n",
    ")"
   ]
  },
  {
   "cell_type": "code",
   "execution_count": 82,
   "metadata": {},
   "outputs": [
    {
     "data": {
      "text/html": [
       "<div>\n",
       "<style scoped>\n",
       "    .dataframe tbody tr th:only-of-type {\n",
       "        vertical-align: middle;\n",
       "    }\n",
       "\n",
       "    .dataframe tbody tr th {\n",
       "        vertical-align: top;\n",
       "    }\n",
       "\n",
       "    .dataframe thead th {\n",
       "        text-align: right;\n",
       "    }\n",
       "</style>\n",
       "<table border=\"1\" class=\"dataframe\">\n",
       "  <thead>\n",
       "    <tr style=\"text-align: right;\">\n",
       "      <th></th>\n",
       "      <th>sepal_length</th>\n",
       "      <th>sepal_width</th>\n",
       "      <th>petal_length</th>\n",
       "      <th>petal_width</th>\n",
       "      <th>species</th>\n",
       "      <th>Cluster</th>\n",
       "    </tr>\n",
       "  </thead>\n",
       "  <tbody>\n",
       "    <tr>\n",
       "      <th>0</th>\n",
       "      <td>6.7</td>\n",
       "      <td>3.3</td>\n",
       "      <td>5.7</td>\n",
       "      <td>2.1</td>\n",
       "      <td>virginica</td>\n",
       "      <td>Cluster 0</td>\n",
       "    </tr>\n",
       "    <tr>\n",
       "      <th>1</th>\n",
       "      <td>6.9</td>\n",
       "      <td>3.1</td>\n",
       "      <td>5.1</td>\n",
       "      <td>2.3</td>\n",
       "      <td>virginica</td>\n",
       "      <td>Cluster 0</td>\n",
       "    </tr>\n",
       "    <tr>\n",
       "      <th>2</th>\n",
       "      <td>5.4</td>\n",
       "      <td>3.4</td>\n",
       "      <td>1.7</td>\n",
       "      <td>0.2</td>\n",
       "      <td>setosa</td>\n",
       "      <td>Cluster 1</td>\n",
       "    </tr>\n",
       "    <tr>\n",
       "      <th>3</th>\n",
       "      <td>4.6</td>\n",
       "      <td>3.4</td>\n",
       "      <td>1.4</td>\n",
       "      <td>0.3</td>\n",
       "      <td>setosa</td>\n",
       "      <td>Cluster 1</td>\n",
       "    </tr>\n",
       "    <tr>\n",
       "      <th>4</th>\n",
       "      <td>5.1</td>\n",
       "      <td>3.7</td>\n",
       "      <td>1.5</td>\n",
       "      <td>0.4</td>\n",
       "      <td>setosa</td>\n",
       "      <td>Cluster 1</td>\n",
       "    </tr>\n",
       "  </tbody>\n",
       "</table>\n",
       "</div>"
      ],
      "text/plain": [
       "   sepal_length  sepal_width  petal_length  petal_width    species    Cluster\n",
       "0           6.7          3.3           5.7          2.1  virginica  Cluster 0\n",
       "1           6.9          3.1           5.1          2.3  virginica  Cluster 0\n",
       "2           5.4          3.4           1.7          0.2     setosa  Cluster 1\n",
       "3           4.6          3.4           1.4          0.3     setosa  Cluster 1\n",
       "4           5.1          3.7           1.5          0.4     setosa  Cluster 1"
      ]
     },
     "execution_count": 82,
     "metadata": {},
     "output_type": "execute_result"
    }
   ],
   "source": [
    "# view results\n",
    "clustering_test_predictions.head()"
   ]
  },
  {
   "cell_type": "code",
   "execution_count": 83,
   "metadata": {},
   "outputs": [
    {
     "data": {
      "text/plain": [
       "Cluster    species   \n",
       "Cluster 0  versicolor     5\n",
       "           virginica     11\n",
       "Cluster 1  setosa        13\n",
       "Cluster 2  versicolor    14\n",
       "           virginica      2\n",
       "dtype: int64"
      ]
     },
     "execution_count": 83,
     "metadata": {},
     "output_type": "execute_result"
    }
   ],
   "source": [
    "# view results\n",
    "clustering_test_predictions.groupby(by=['Cluster','species']).size()"
   ]
  },
  {
   "cell_type": "code",
   "execution_count": null,
   "metadata": {},
   "outputs": [],
   "source": []
  }
 ],
 "metadata": {
  "kernelspec": {
   "display_name": "Python 3",
   "language": "python",
   "name": "python3"
  },
  "language_info": {
   "codemirror_mode": {
    "name": "ipython",
    "version": 3
   },
   "file_extension": ".py",
   "mimetype": "text/x-python",
   "name": "python",
   "nbconvert_exporter": "python",
   "pygments_lexer": "ipython3",
   "version": "3.8.3"
  }
 },
 "nbformat": 4,
 "nbformat_minor": 4
}
