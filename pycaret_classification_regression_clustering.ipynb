{
 "cells": [
  {
   "cell_type": "markdown",
   "metadata": {},
   "source": [
    "# pycaret machine learning"
   ]
  },
  {
   "cell_type": "markdown",
   "metadata": {},
   "source": [
    "# setup"
   ]
  },
  {
   "cell_type": "code",
   "execution_count": 1,
   "metadata": {},
   "outputs": [],
   "source": [
    "import numpy as np\n",
    "import pandas as pd\n",
    "import matplotlib \n",
    "import matplotlib.pyplot as plt\n",
    "import seaborn as sns"
   ]
  },
  {
   "cell_type": "code",
   "execution_count": 2,
   "metadata": {},
   "outputs": [],
   "source": [
    "# reference: https://www.pycaret.org/\n",
    "# reference: https://pycaret.org/guide/\n",
    "# reference: https://github.com/pycaret/"
   ]
  },
  {
   "cell_type": "code",
   "execution_count": 3,
   "metadata": {},
   "outputs": [],
   "source": [
    "# reference: https://pycaret.org/install/\n",
    "# pip install pycaret \n",
    "# pip install pycaret-nightly (if stable won't install on mac)\n",
    "# conda install -c conda-forge shap"
   ]
  },
  {
   "cell_type": "code",
   "execution_count": 4,
   "metadata": {},
   "outputs": [],
   "source": [
    "import pycaret\n",
    "from pycaret import classification, regression, clustering, nlp, utils"
   ]
  },
  {
   "cell_type": "code",
   "execution_count": 5,
   "metadata": {},
   "outputs": [
    {
     "name": "stdout",
     "output_type": "stream",
     "text": [
      "pycaret-nightly-0.33\n"
     ]
    }
   ],
   "source": [
    "utils.version()"
   ]
  },
  {
   "cell_type": "code",
   "execution_count": 6,
   "metadata": {},
   "outputs": [],
   "source": [
    "# workflow:\n",
    "# .setup() > process data\n",
    "# .compare_models() > find best model\n",
    "# .create_model() > create model\n",
    "# .tune_model() > tune model hyperparameters\n",
    "# .calibrate_model() > calibrate model propabilities (classification)\n",
    "# .evaluate_model() > result plots\n",
    "# .interpret_model() > interpretation plot\n",
    "# .predict_model() > predictions on test data\n",
    "# .finalize_model() > recreate model with all data\n",
    "# .deploy_model()"
   ]
  },
  {
   "cell_type": "code",
   "execution_count": 7,
   "metadata": {},
   "outputs": [],
   "source": [
    "# other functions:\n",
    "# .optimize_threshold()\n",
    "# .ensemble_model()\n",
    "# .blend_models()\n",
    "# .stack_models()\n",
    "# .save_model()\n",
    "# .load_model()"
   ]
  },
  {
   "cell_type": "markdown",
   "metadata": {},
   "source": [
    "# datasets"
   ]
  },
  {
   "cell_type": "code",
   "execution_count": 8,
   "metadata": {},
   "outputs": [],
   "source": [
    "df_titanic = sns.load_dataset('titanic')\n",
    "df_iris = sns.load_dataset('iris')\n",
    "df_diamonds = sns.load_dataset('diamonds')"
   ]
  },
  {
   "cell_type": "markdown",
   "metadata": {},
   "source": [
    "# classification (binary)"
   ]
  },
  {
   "cell_type": "code",
   "execution_count": 9,
   "metadata": {},
   "outputs": [
    {
     "name": "stdout",
     "output_type": "stream",
     "text": [
      "Setup Succesfully Completed!\n"
     ]
    },
    {
     "data": {
      "text/html": [
       "<style  type=\"text/css\" >\n",
       "    #T_a51518aa_ccf6_11ea_a23e_38f9d3db5c17row4_col1 {\n",
       "            background-color:  lightgreen;\n",
       "        }    #T_a51518aa_ccf6_11ea_a23e_38f9d3db5c17row7_col1 {\n",
       "            background-color:  lightgreen;\n",
       "        }    #T_a51518aa_ccf6_11ea_a23e_38f9d3db5c17row15_col1 {\n",
       "            background-color:  lightgreen;\n",
       "        }</style><table id=\"T_a51518aa_ccf6_11ea_a23e_38f9d3db5c17\" ><thead>    <tr>        <th class=\"blank level0\" ></th>        <th class=\"col_heading level0 col0\" >Description</th>        <th class=\"col_heading level0 col1\" >Value</th>    </tr></thead><tbody>\n",
       "                <tr>\n",
       "                        <th id=\"T_a51518aa_ccf6_11ea_a23e_38f9d3db5c17level0_row0\" class=\"row_heading level0 row0\" >0</th>\n",
       "                        <td id=\"T_a51518aa_ccf6_11ea_a23e_38f9d3db5c17row0_col0\" class=\"data row0 col0\" >session_id</td>\n",
       "                        <td id=\"T_a51518aa_ccf6_11ea_a23e_38f9d3db5c17row0_col1\" class=\"data row0 col1\" >4961</td>\n",
       "            </tr>\n",
       "            <tr>\n",
       "                        <th id=\"T_a51518aa_ccf6_11ea_a23e_38f9d3db5c17level0_row1\" class=\"row_heading level0 row1\" >1</th>\n",
       "                        <td id=\"T_a51518aa_ccf6_11ea_a23e_38f9d3db5c17row1_col0\" class=\"data row1 col0\" >Target Type</td>\n",
       "                        <td id=\"T_a51518aa_ccf6_11ea_a23e_38f9d3db5c17row1_col1\" class=\"data row1 col1\" >Binary</td>\n",
       "            </tr>\n",
       "            <tr>\n",
       "                        <th id=\"T_a51518aa_ccf6_11ea_a23e_38f9d3db5c17level0_row2\" class=\"row_heading level0 row2\" >2</th>\n",
       "                        <td id=\"T_a51518aa_ccf6_11ea_a23e_38f9d3db5c17row2_col0\" class=\"data row2 col0\" >Label Encoded</td>\n",
       "                        <td id=\"T_a51518aa_ccf6_11ea_a23e_38f9d3db5c17row2_col1\" class=\"data row2 col1\" >None</td>\n",
       "            </tr>\n",
       "            <tr>\n",
       "                        <th id=\"T_a51518aa_ccf6_11ea_a23e_38f9d3db5c17level0_row3\" class=\"row_heading level0 row3\" >3</th>\n",
       "                        <td id=\"T_a51518aa_ccf6_11ea_a23e_38f9d3db5c17row3_col0\" class=\"data row3 col0\" >Original Data</td>\n",
       "                        <td id=\"T_a51518aa_ccf6_11ea_a23e_38f9d3db5c17row3_col1\" class=\"data row3 col1\" >(891, 15)</td>\n",
       "            </tr>\n",
       "            <tr>\n",
       "                        <th id=\"T_a51518aa_ccf6_11ea_a23e_38f9d3db5c17level0_row4\" class=\"row_heading level0 row4\" >4</th>\n",
       "                        <td id=\"T_a51518aa_ccf6_11ea_a23e_38f9d3db5c17row4_col0\" class=\"data row4 col0\" >Missing Values </td>\n",
       "                        <td id=\"T_a51518aa_ccf6_11ea_a23e_38f9d3db5c17row4_col1\" class=\"data row4 col1\" >True</td>\n",
       "            </tr>\n",
       "            <tr>\n",
       "                        <th id=\"T_a51518aa_ccf6_11ea_a23e_38f9d3db5c17level0_row5\" class=\"row_heading level0 row5\" >5</th>\n",
       "                        <td id=\"T_a51518aa_ccf6_11ea_a23e_38f9d3db5c17row5_col0\" class=\"data row5 col0\" >Numeric Features </td>\n",
       "                        <td id=\"T_a51518aa_ccf6_11ea_a23e_38f9d3db5c17row5_col1\" class=\"data row5 col1\" >4</td>\n",
       "            </tr>\n",
       "            <tr>\n",
       "                        <th id=\"T_a51518aa_ccf6_11ea_a23e_38f9d3db5c17level0_row6\" class=\"row_heading level0 row6\" >6</th>\n",
       "                        <td id=\"T_a51518aa_ccf6_11ea_a23e_38f9d3db5c17row6_col0\" class=\"data row6 col0\" >Categorical Features </td>\n",
       "                        <td id=\"T_a51518aa_ccf6_11ea_a23e_38f9d3db5c17row6_col1\" class=\"data row6 col1\" >8</td>\n",
       "            </tr>\n",
       "            <tr>\n",
       "                        <th id=\"T_a51518aa_ccf6_11ea_a23e_38f9d3db5c17level0_row7\" class=\"row_heading level0 row7\" >7</th>\n",
       "                        <td id=\"T_a51518aa_ccf6_11ea_a23e_38f9d3db5c17row7_col0\" class=\"data row7 col0\" >Ordinal Features </td>\n",
       "                        <td id=\"T_a51518aa_ccf6_11ea_a23e_38f9d3db5c17row7_col1\" class=\"data row7 col1\" >True</td>\n",
       "            </tr>\n",
       "            <tr>\n",
       "                        <th id=\"T_a51518aa_ccf6_11ea_a23e_38f9d3db5c17level0_row8\" class=\"row_heading level0 row8\" >8</th>\n",
       "                        <td id=\"T_a51518aa_ccf6_11ea_a23e_38f9d3db5c17row8_col0\" class=\"data row8 col0\" >High Cardinality Features </td>\n",
       "                        <td id=\"T_a51518aa_ccf6_11ea_a23e_38f9d3db5c17row8_col1\" class=\"data row8 col1\" >False</td>\n",
       "            </tr>\n",
       "            <tr>\n",
       "                        <th id=\"T_a51518aa_ccf6_11ea_a23e_38f9d3db5c17level0_row9\" class=\"row_heading level0 row9\" >9</th>\n",
       "                        <td id=\"T_a51518aa_ccf6_11ea_a23e_38f9d3db5c17row9_col0\" class=\"data row9 col0\" >High Cardinality Method </td>\n",
       "                        <td id=\"T_a51518aa_ccf6_11ea_a23e_38f9d3db5c17row9_col1\" class=\"data row9 col1\" >None</td>\n",
       "            </tr>\n",
       "            <tr>\n",
       "                        <th id=\"T_a51518aa_ccf6_11ea_a23e_38f9d3db5c17level0_row10\" class=\"row_heading level0 row10\" >10</th>\n",
       "                        <td id=\"T_a51518aa_ccf6_11ea_a23e_38f9d3db5c17row10_col0\" class=\"data row10 col0\" >Sampled Data</td>\n",
       "                        <td id=\"T_a51518aa_ccf6_11ea_a23e_38f9d3db5c17row10_col1\" class=\"data row10 col1\" >(891, 15)</td>\n",
       "            </tr>\n",
       "            <tr>\n",
       "                        <th id=\"T_a51518aa_ccf6_11ea_a23e_38f9d3db5c17level0_row11\" class=\"row_heading level0 row11\" >11</th>\n",
       "                        <td id=\"T_a51518aa_ccf6_11ea_a23e_38f9d3db5c17row11_col0\" class=\"data row11 col0\" >Transformed Train Set</td>\n",
       "                        <td id=\"T_a51518aa_ccf6_11ea_a23e_38f9d3db5c17row11_col1\" class=\"data row11 col1\" >(623, 18)</td>\n",
       "            </tr>\n",
       "            <tr>\n",
       "                        <th id=\"T_a51518aa_ccf6_11ea_a23e_38f9d3db5c17level0_row12\" class=\"row_heading level0 row12\" >12</th>\n",
       "                        <td id=\"T_a51518aa_ccf6_11ea_a23e_38f9d3db5c17row12_col0\" class=\"data row12 col0\" >Transformed Test Set</td>\n",
       "                        <td id=\"T_a51518aa_ccf6_11ea_a23e_38f9d3db5c17row12_col1\" class=\"data row12 col1\" >(268, 18)</td>\n",
       "            </tr>\n",
       "            <tr>\n",
       "                        <th id=\"T_a51518aa_ccf6_11ea_a23e_38f9d3db5c17level0_row13\" class=\"row_heading level0 row13\" >13</th>\n",
       "                        <td id=\"T_a51518aa_ccf6_11ea_a23e_38f9d3db5c17row13_col0\" class=\"data row13 col0\" >Numeric Imputer </td>\n",
       "                        <td id=\"T_a51518aa_ccf6_11ea_a23e_38f9d3db5c17row13_col1\" class=\"data row13 col1\" >mean</td>\n",
       "            </tr>\n",
       "            <tr>\n",
       "                        <th id=\"T_a51518aa_ccf6_11ea_a23e_38f9d3db5c17level0_row14\" class=\"row_heading level0 row14\" >14</th>\n",
       "                        <td id=\"T_a51518aa_ccf6_11ea_a23e_38f9d3db5c17row14_col0\" class=\"data row14 col0\" >Categorical Imputer </td>\n",
       "                        <td id=\"T_a51518aa_ccf6_11ea_a23e_38f9d3db5c17row14_col1\" class=\"data row14 col1\" >constant</td>\n",
       "            </tr>\n",
       "            <tr>\n",
       "                        <th id=\"T_a51518aa_ccf6_11ea_a23e_38f9d3db5c17level0_row15\" class=\"row_heading level0 row15\" >15</th>\n",
       "                        <td id=\"T_a51518aa_ccf6_11ea_a23e_38f9d3db5c17row15_col0\" class=\"data row15 col0\" >Normalize </td>\n",
       "                        <td id=\"T_a51518aa_ccf6_11ea_a23e_38f9d3db5c17row15_col1\" class=\"data row15 col1\" >True</td>\n",
       "            </tr>\n",
       "            <tr>\n",
       "                        <th id=\"T_a51518aa_ccf6_11ea_a23e_38f9d3db5c17level0_row16\" class=\"row_heading level0 row16\" >16</th>\n",
       "                        <td id=\"T_a51518aa_ccf6_11ea_a23e_38f9d3db5c17row16_col0\" class=\"data row16 col0\" >Normalize Method </td>\n",
       "                        <td id=\"T_a51518aa_ccf6_11ea_a23e_38f9d3db5c17row16_col1\" class=\"data row16 col1\" >zscore</td>\n",
       "            </tr>\n",
       "            <tr>\n",
       "                        <th id=\"T_a51518aa_ccf6_11ea_a23e_38f9d3db5c17level0_row17\" class=\"row_heading level0 row17\" >17</th>\n",
       "                        <td id=\"T_a51518aa_ccf6_11ea_a23e_38f9d3db5c17row17_col0\" class=\"data row17 col0\" >Transformation </td>\n",
       "                        <td id=\"T_a51518aa_ccf6_11ea_a23e_38f9d3db5c17row17_col1\" class=\"data row17 col1\" >False</td>\n",
       "            </tr>\n",
       "            <tr>\n",
       "                        <th id=\"T_a51518aa_ccf6_11ea_a23e_38f9d3db5c17level0_row18\" class=\"row_heading level0 row18\" >18</th>\n",
       "                        <td id=\"T_a51518aa_ccf6_11ea_a23e_38f9d3db5c17row18_col0\" class=\"data row18 col0\" >Transformation Method </td>\n",
       "                        <td id=\"T_a51518aa_ccf6_11ea_a23e_38f9d3db5c17row18_col1\" class=\"data row18 col1\" >None</td>\n",
       "            </tr>\n",
       "            <tr>\n",
       "                        <th id=\"T_a51518aa_ccf6_11ea_a23e_38f9d3db5c17level0_row19\" class=\"row_heading level0 row19\" >19</th>\n",
       "                        <td id=\"T_a51518aa_ccf6_11ea_a23e_38f9d3db5c17row19_col0\" class=\"data row19 col0\" >PCA </td>\n",
       "                        <td id=\"T_a51518aa_ccf6_11ea_a23e_38f9d3db5c17row19_col1\" class=\"data row19 col1\" >False</td>\n",
       "            </tr>\n",
       "            <tr>\n",
       "                        <th id=\"T_a51518aa_ccf6_11ea_a23e_38f9d3db5c17level0_row20\" class=\"row_heading level0 row20\" >20</th>\n",
       "                        <td id=\"T_a51518aa_ccf6_11ea_a23e_38f9d3db5c17row20_col0\" class=\"data row20 col0\" >PCA Method </td>\n",
       "                        <td id=\"T_a51518aa_ccf6_11ea_a23e_38f9d3db5c17row20_col1\" class=\"data row20 col1\" >None</td>\n",
       "            </tr>\n",
       "            <tr>\n",
       "                        <th id=\"T_a51518aa_ccf6_11ea_a23e_38f9d3db5c17level0_row21\" class=\"row_heading level0 row21\" >21</th>\n",
       "                        <td id=\"T_a51518aa_ccf6_11ea_a23e_38f9d3db5c17row21_col0\" class=\"data row21 col0\" >PCA Components </td>\n",
       "                        <td id=\"T_a51518aa_ccf6_11ea_a23e_38f9d3db5c17row21_col1\" class=\"data row21 col1\" >None</td>\n",
       "            </tr>\n",
       "            <tr>\n",
       "                        <th id=\"T_a51518aa_ccf6_11ea_a23e_38f9d3db5c17level0_row22\" class=\"row_heading level0 row22\" >22</th>\n",
       "                        <td id=\"T_a51518aa_ccf6_11ea_a23e_38f9d3db5c17row22_col0\" class=\"data row22 col0\" >Ignore Low Variance </td>\n",
       "                        <td id=\"T_a51518aa_ccf6_11ea_a23e_38f9d3db5c17row22_col1\" class=\"data row22 col1\" >False</td>\n",
       "            </tr>\n",
       "            <tr>\n",
       "                        <th id=\"T_a51518aa_ccf6_11ea_a23e_38f9d3db5c17level0_row23\" class=\"row_heading level0 row23\" >23</th>\n",
       "                        <td id=\"T_a51518aa_ccf6_11ea_a23e_38f9d3db5c17row23_col0\" class=\"data row23 col0\" >Combine Rare Levels </td>\n",
       "                        <td id=\"T_a51518aa_ccf6_11ea_a23e_38f9d3db5c17row23_col1\" class=\"data row23 col1\" >False</td>\n",
       "            </tr>\n",
       "            <tr>\n",
       "                        <th id=\"T_a51518aa_ccf6_11ea_a23e_38f9d3db5c17level0_row24\" class=\"row_heading level0 row24\" >24</th>\n",
       "                        <td id=\"T_a51518aa_ccf6_11ea_a23e_38f9d3db5c17row24_col0\" class=\"data row24 col0\" >Rare Level Threshold </td>\n",
       "                        <td id=\"T_a51518aa_ccf6_11ea_a23e_38f9d3db5c17row24_col1\" class=\"data row24 col1\" >None</td>\n",
       "            </tr>\n",
       "            <tr>\n",
       "                        <th id=\"T_a51518aa_ccf6_11ea_a23e_38f9d3db5c17level0_row25\" class=\"row_heading level0 row25\" >25</th>\n",
       "                        <td id=\"T_a51518aa_ccf6_11ea_a23e_38f9d3db5c17row25_col0\" class=\"data row25 col0\" >Numeric Binning </td>\n",
       "                        <td id=\"T_a51518aa_ccf6_11ea_a23e_38f9d3db5c17row25_col1\" class=\"data row25 col1\" >False</td>\n",
       "            </tr>\n",
       "            <tr>\n",
       "                        <th id=\"T_a51518aa_ccf6_11ea_a23e_38f9d3db5c17level0_row26\" class=\"row_heading level0 row26\" >26</th>\n",
       "                        <td id=\"T_a51518aa_ccf6_11ea_a23e_38f9d3db5c17row26_col0\" class=\"data row26 col0\" >Remove Outliers </td>\n",
       "                        <td id=\"T_a51518aa_ccf6_11ea_a23e_38f9d3db5c17row26_col1\" class=\"data row26 col1\" >False</td>\n",
       "            </tr>\n",
       "            <tr>\n",
       "                        <th id=\"T_a51518aa_ccf6_11ea_a23e_38f9d3db5c17level0_row27\" class=\"row_heading level0 row27\" >27</th>\n",
       "                        <td id=\"T_a51518aa_ccf6_11ea_a23e_38f9d3db5c17row27_col0\" class=\"data row27 col0\" >Outliers Threshold </td>\n",
       "                        <td id=\"T_a51518aa_ccf6_11ea_a23e_38f9d3db5c17row27_col1\" class=\"data row27 col1\" >None</td>\n",
       "            </tr>\n",
       "            <tr>\n",
       "                        <th id=\"T_a51518aa_ccf6_11ea_a23e_38f9d3db5c17level0_row28\" class=\"row_heading level0 row28\" >28</th>\n",
       "                        <td id=\"T_a51518aa_ccf6_11ea_a23e_38f9d3db5c17row28_col0\" class=\"data row28 col0\" >Remove Multicollinearity </td>\n",
       "                        <td id=\"T_a51518aa_ccf6_11ea_a23e_38f9d3db5c17row28_col1\" class=\"data row28 col1\" >False</td>\n",
       "            </tr>\n",
       "            <tr>\n",
       "                        <th id=\"T_a51518aa_ccf6_11ea_a23e_38f9d3db5c17level0_row29\" class=\"row_heading level0 row29\" >29</th>\n",
       "                        <td id=\"T_a51518aa_ccf6_11ea_a23e_38f9d3db5c17row29_col0\" class=\"data row29 col0\" >Multicollinearity Threshold </td>\n",
       "                        <td id=\"T_a51518aa_ccf6_11ea_a23e_38f9d3db5c17row29_col1\" class=\"data row29 col1\" >None</td>\n",
       "            </tr>\n",
       "            <tr>\n",
       "                        <th id=\"T_a51518aa_ccf6_11ea_a23e_38f9d3db5c17level0_row30\" class=\"row_heading level0 row30\" >30</th>\n",
       "                        <td id=\"T_a51518aa_ccf6_11ea_a23e_38f9d3db5c17row30_col0\" class=\"data row30 col0\" >Clustering </td>\n",
       "                        <td id=\"T_a51518aa_ccf6_11ea_a23e_38f9d3db5c17row30_col1\" class=\"data row30 col1\" >False</td>\n",
       "            </tr>\n",
       "            <tr>\n",
       "                        <th id=\"T_a51518aa_ccf6_11ea_a23e_38f9d3db5c17level0_row31\" class=\"row_heading level0 row31\" >31</th>\n",
       "                        <td id=\"T_a51518aa_ccf6_11ea_a23e_38f9d3db5c17row31_col0\" class=\"data row31 col0\" >Clustering Iteration </td>\n",
       "                        <td id=\"T_a51518aa_ccf6_11ea_a23e_38f9d3db5c17row31_col1\" class=\"data row31 col1\" >None</td>\n",
       "            </tr>\n",
       "            <tr>\n",
       "                        <th id=\"T_a51518aa_ccf6_11ea_a23e_38f9d3db5c17level0_row32\" class=\"row_heading level0 row32\" >32</th>\n",
       "                        <td id=\"T_a51518aa_ccf6_11ea_a23e_38f9d3db5c17row32_col0\" class=\"data row32 col0\" >Polynomial Features </td>\n",
       "                        <td id=\"T_a51518aa_ccf6_11ea_a23e_38f9d3db5c17row32_col1\" class=\"data row32 col1\" >False</td>\n",
       "            </tr>\n",
       "            <tr>\n",
       "                        <th id=\"T_a51518aa_ccf6_11ea_a23e_38f9d3db5c17level0_row33\" class=\"row_heading level0 row33\" >33</th>\n",
       "                        <td id=\"T_a51518aa_ccf6_11ea_a23e_38f9d3db5c17row33_col0\" class=\"data row33 col0\" >Polynomial Degree </td>\n",
       "                        <td id=\"T_a51518aa_ccf6_11ea_a23e_38f9d3db5c17row33_col1\" class=\"data row33 col1\" >None</td>\n",
       "            </tr>\n",
       "            <tr>\n",
       "                        <th id=\"T_a51518aa_ccf6_11ea_a23e_38f9d3db5c17level0_row34\" class=\"row_heading level0 row34\" >34</th>\n",
       "                        <td id=\"T_a51518aa_ccf6_11ea_a23e_38f9d3db5c17row34_col0\" class=\"data row34 col0\" >Trignometry Features </td>\n",
       "                        <td id=\"T_a51518aa_ccf6_11ea_a23e_38f9d3db5c17row34_col1\" class=\"data row34 col1\" >False</td>\n",
       "            </tr>\n",
       "            <tr>\n",
       "                        <th id=\"T_a51518aa_ccf6_11ea_a23e_38f9d3db5c17level0_row35\" class=\"row_heading level0 row35\" >35</th>\n",
       "                        <td id=\"T_a51518aa_ccf6_11ea_a23e_38f9d3db5c17row35_col0\" class=\"data row35 col0\" >Polynomial Threshold </td>\n",
       "                        <td id=\"T_a51518aa_ccf6_11ea_a23e_38f9d3db5c17row35_col1\" class=\"data row35 col1\" >None</td>\n",
       "            </tr>\n",
       "            <tr>\n",
       "                        <th id=\"T_a51518aa_ccf6_11ea_a23e_38f9d3db5c17level0_row36\" class=\"row_heading level0 row36\" >36</th>\n",
       "                        <td id=\"T_a51518aa_ccf6_11ea_a23e_38f9d3db5c17row36_col0\" class=\"data row36 col0\" >Group Features </td>\n",
       "                        <td id=\"T_a51518aa_ccf6_11ea_a23e_38f9d3db5c17row36_col1\" class=\"data row36 col1\" >False</td>\n",
       "            </tr>\n",
       "            <tr>\n",
       "                        <th id=\"T_a51518aa_ccf6_11ea_a23e_38f9d3db5c17level0_row37\" class=\"row_heading level0 row37\" >37</th>\n",
       "                        <td id=\"T_a51518aa_ccf6_11ea_a23e_38f9d3db5c17row37_col0\" class=\"data row37 col0\" >Feature Selection </td>\n",
       "                        <td id=\"T_a51518aa_ccf6_11ea_a23e_38f9d3db5c17row37_col1\" class=\"data row37 col1\" >False</td>\n",
       "            </tr>\n",
       "            <tr>\n",
       "                        <th id=\"T_a51518aa_ccf6_11ea_a23e_38f9d3db5c17level0_row38\" class=\"row_heading level0 row38\" >38</th>\n",
       "                        <td id=\"T_a51518aa_ccf6_11ea_a23e_38f9d3db5c17row38_col0\" class=\"data row38 col0\" >Features Selection Threshold </td>\n",
       "                        <td id=\"T_a51518aa_ccf6_11ea_a23e_38f9d3db5c17row38_col1\" class=\"data row38 col1\" >None</td>\n",
       "            </tr>\n",
       "            <tr>\n",
       "                        <th id=\"T_a51518aa_ccf6_11ea_a23e_38f9d3db5c17level0_row39\" class=\"row_heading level0 row39\" >39</th>\n",
       "                        <td id=\"T_a51518aa_ccf6_11ea_a23e_38f9d3db5c17row39_col0\" class=\"data row39 col0\" >Feature Interaction </td>\n",
       "                        <td id=\"T_a51518aa_ccf6_11ea_a23e_38f9d3db5c17row39_col1\" class=\"data row39 col1\" >False</td>\n",
       "            </tr>\n",
       "            <tr>\n",
       "                        <th id=\"T_a51518aa_ccf6_11ea_a23e_38f9d3db5c17level0_row40\" class=\"row_heading level0 row40\" >40</th>\n",
       "                        <td id=\"T_a51518aa_ccf6_11ea_a23e_38f9d3db5c17row40_col0\" class=\"data row40 col0\" >Feature Ratio </td>\n",
       "                        <td id=\"T_a51518aa_ccf6_11ea_a23e_38f9d3db5c17row40_col1\" class=\"data row40 col1\" >False</td>\n",
       "            </tr>\n",
       "            <tr>\n",
       "                        <th id=\"T_a51518aa_ccf6_11ea_a23e_38f9d3db5c17level0_row41\" class=\"row_heading level0 row41\" >41</th>\n",
       "                        <td id=\"T_a51518aa_ccf6_11ea_a23e_38f9d3db5c17row41_col0\" class=\"data row41 col0\" >Interaction Threshold </td>\n",
       "                        <td id=\"T_a51518aa_ccf6_11ea_a23e_38f9d3db5c17row41_col1\" class=\"data row41 col1\" >None</td>\n",
       "            </tr>\n",
       "            <tr>\n",
       "                        <th id=\"T_a51518aa_ccf6_11ea_a23e_38f9d3db5c17level0_row42\" class=\"row_heading level0 row42\" >42</th>\n",
       "                        <td id=\"T_a51518aa_ccf6_11ea_a23e_38f9d3db5c17row42_col0\" class=\"data row42 col0\" >Fix Imbalance</td>\n",
       "                        <td id=\"T_a51518aa_ccf6_11ea_a23e_38f9d3db5c17row42_col1\" class=\"data row42 col1\" >False</td>\n",
       "            </tr>\n",
       "            <tr>\n",
       "                        <th id=\"T_a51518aa_ccf6_11ea_a23e_38f9d3db5c17level0_row43\" class=\"row_heading level0 row43\" >43</th>\n",
       "                        <td id=\"T_a51518aa_ccf6_11ea_a23e_38f9d3db5c17row43_col0\" class=\"data row43 col0\" >Fix Imbalance Method</td>\n",
       "                        <td id=\"T_a51518aa_ccf6_11ea_a23e_38f9d3db5c17row43_col1\" class=\"data row43 col1\" >SMOTE</td>\n",
       "            </tr>\n",
       "    </tbody></table>"
      ],
      "text/plain": [
       "<pandas.io.formats.style.Styler at 0x12cdef3d0>"
      ]
     },
     "metadata": {},
     "output_type": "display_data"
    }
   ],
   "source": [
    "# process dataset\n",
    "classification_experiment_2 = classification.setup(\n",
    "    data=df_titanic,\n",
    "    target='survived',\n",
    "    train_size=0.7,\n",
    "    normalize=True,\n",
    "    numeric_features=['age','sibsp','parch','fare'],\n",
    "    categorical_features=['sex','who','adult_male','alone','embarked'], \n",
    "    ordinal_features={'pclass' : ['3','2','1']},\n",
    "    ignore_features=['embark_town','alive','class','deck']\n",
    ")"
   ]
  },
  {
   "cell_type": "code",
   "execution_count": 10,
   "metadata": {},
   "outputs": [
    {
     "data": {
      "text/html": [
       "<style  type=\"text/css\" >\n",
       "    #T_bd8b0692_ccf6_11ea_a23e_38f9d3db5c17 th {\n",
       "          text-align: left;\n",
       "    }    #T_bd8b0692_ccf6_11ea_a23e_38f9d3db5c17row0_col0 {\n",
       "            text-align:  left;\n",
       "        }    #T_bd8b0692_ccf6_11ea_a23e_38f9d3db5c17row0_col1 {\n",
       "            background-color:  yellow;\n",
       "            text-align:  left;\n",
       "        }    #T_bd8b0692_ccf6_11ea_a23e_38f9d3db5c17row0_col2 {\n",
       "            : ;\n",
       "            text-align:  left;\n",
       "        }    #T_bd8b0692_ccf6_11ea_a23e_38f9d3db5c17row0_col3 {\n",
       "            : ;\n",
       "            text-align:  left;\n",
       "        }    #T_bd8b0692_ccf6_11ea_a23e_38f9d3db5c17row0_col4 {\n",
       "            : ;\n",
       "            text-align:  left;\n",
       "        }    #T_bd8b0692_ccf6_11ea_a23e_38f9d3db5c17row0_col5 {\n",
       "            : ;\n",
       "            text-align:  left;\n",
       "        }    #T_bd8b0692_ccf6_11ea_a23e_38f9d3db5c17row0_col6 {\n",
       "            background-color:  yellow;\n",
       "            text-align:  left;\n",
       "        }    #T_bd8b0692_ccf6_11ea_a23e_38f9d3db5c17row0_col7 {\n",
       "            background-color:  yellow;\n",
       "            text-align:  left;\n",
       "        }    #T_bd8b0692_ccf6_11ea_a23e_38f9d3db5c17row0_col8 {\n",
       "            background-color:  lightgrey;\n",
       "            text-align:  left;\n",
       "        }    #T_bd8b0692_ccf6_11ea_a23e_38f9d3db5c17row1_col0 {\n",
       "            text-align:  left;\n",
       "        }    #T_bd8b0692_ccf6_11ea_a23e_38f9d3db5c17row1_col1 {\n",
       "            : ;\n",
       "            text-align:  left;\n",
       "        }    #T_bd8b0692_ccf6_11ea_a23e_38f9d3db5c17row1_col2 {\n",
       "            background-color:  yellow;\n",
       "            text-align:  left;\n",
       "        }    #T_bd8b0692_ccf6_11ea_a23e_38f9d3db5c17row1_col3 {\n",
       "            : ;\n",
       "            text-align:  left;\n",
       "        }    #T_bd8b0692_ccf6_11ea_a23e_38f9d3db5c17row1_col4 {\n",
       "            : ;\n",
       "            text-align:  left;\n",
       "        }    #T_bd8b0692_ccf6_11ea_a23e_38f9d3db5c17row1_col5 {\n",
       "            background-color:  yellow;\n",
       "            text-align:  left;\n",
       "        }    #T_bd8b0692_ccf6_11ea_a23e_38f9d3db5c17row1_col6 {\n",
       "            : ;\n",
       "            text-align:  left;\n",
       "        }    #T_bd8b0692_ccf6_11ea_a23e_38f9d3db5c17row1_col7 {\n",
       "            : ;\n",
       "            text-align:  left;\n",
       "        }    #T_bd8b0692_ccf6_11ea_a23e_38f9d3db5c17row1_col8 {\n",
       "            background-color:  lightgrey;\n",
       "            text-align:  left;\n",
       "        }    #T_bd8b0692_ccf6_11ea_a23e_38f9d3db5c17row2_col0 {\n",
       "            text-align:  left;\n",
       "        }    #T_bd8b0692_ccf6_11ea_a23e_38f9d3db5c17row2_col1 {\n",
       "            : ;\n",
       "            text-align:  left;\n",
       "        }    #T_bd8b0692_ccf6_11ea_a23e_38f9d3db5c17row2_col2 {\n",
       "            : ;\n",
       "            text-align:  left;\n",
       "        }    #T_bd8b0692_ccf6_11ea_a23e_38f9d3db5c17row2_col3 {\n",
       "            : ;\n",
       "            text-align:  left;\n",
       "        }    #T_bd8b0692_ccf6_11ea_a23e_38f9d3db5c17row2_col4 {\n",
       "            : ;\n",
       "            text-align:  left;\n",
       "        }    #T_bd8b0692_ccf6_11ea_a23e_38f9d3db5c17row2_col5 {\n",
       "            : ;\n",
       "            text-align:  left;\n",
       "        }    #T_bd8b0692_ccf6_11ea_a23e_38f9d3db5c17row2_col6 {\n",
       "            : ;\n",
       "            text-align:  left;\n",
       "        }    #T_bd8b0692_ccf6_11ea_a23e_38f9d3db5c17row2_col7 {\n",
       "            : ;\n",
       "            text-align:  left;\n",
       "        }    #T_bd8b0692_ccf6_11ea_a23e_38f9d3db5c17row2_col8 {\n",
       "            background-color:  lightgrey;\n",
       "            text-align:  left;\n",
       "        }    #T_bd8b0692_ccf6_11ea_a23e_38f9d3db5c17row3_col0 {\n",
       "            text-align:  left;\n",
       "        }    #T_bd8b0692_ccf6_11ea_a23e_38f9d3db5c17row3_col1 {\n",
       "            : ;\n",
       "            text-align:  left;\n",
       "        }    #T_bd8b0692_ccf6_11ea_a23e_38f9d3db5c17row3_col2 {\n",
       "            : ;\n",
       "            text-align:  left;\n",
       "        }    #T_bd8b0692_ccf6_11ea_a23e_38f9d3db5c17row3_col3 {\n",
       "            : ;\n",
       "            text-align:  left;\n",
       "        }    #T_bd8b0692_ccf6_11ea_a23e_38f9d3db5c17row3_col4 {\n",
       "            : ;\n",
       "            text-align:  left;\n",
       "        }    #T_bd8b0692_ccf6_11ea_a23e_38f9d3db5c17row3_col5 {\n",
       "            : ;\n",
       "            text-align:  left;\n",
       "        }    #T_bd8b0692_ccf6_11ea_a23e_38f9d3db5c17row3_col6 {\n",
       "            : ;\n",
       "            text-align:  left;\n",
       "        }    #T_bd8b0692_ccf6_11ea_a23e_38f9d3db5c17row3_col7 {\n",
       "            : ;\n",
       "            text-align:  left;\n",
       "        }    #T_bd8b0692_ccf6_11ea_a23e_38f9d3db5c17row3_col8 {\n",
       "            background-color:  lightgrey;\n",
       "            text-align:  left;\n",
       "        }    #T_bd8b0692_ccf6_11ea_a23e_38f9d3db5c17row4_col0 {\n",
       "            text-align:  left;\n",
       "        }    #T_bd8b0692_ccf6_11ea_a23e_38f9d3db5c17row4_col1 {\n",
       "            : ;\n",
       "            text-align:  left;\n",
       "        }    #T_bd8b0692_ccf6_11ea_a23e_38f9d3db5c17row4_col2 {\n",
       "            : ;\n",
       "            text-align:  left;\n",
       "        }    #T_bd8b0692_ccf6_11ea_a23e_38f9d3db5c17row4_col3 {\n",
       "            : ;\n",
       "            text-align:  left;\n",
       "        }    #T_bd8b0692_ccf6_11ea_a23e_38f9d3db5c17row4_col4 {\n",
       "            : ;\n",
       "            text-align:  left;\n",
       "        }    #T_bd8b0692_ccf6_11ea_a23e_38f9d3db5c17row4_col5 {\n",
       "            : ;\n",
       "            text-align:  left;\n",
       "        }    #T_bd8b0692_ccf6_11ea_a23e_38f9d3db5c17row4_col6 {\n",
       "            : ;\n",
       "            text-align:  left;\n",
       "        }    #T_bd8b0692_ccf6_11ea_a23e_38f9d3db5c17row4_col7 {\n",
       "            : ;\n",
       "            text-align:  left;\n",
       "        }    #T_bd8b0692_ccf6_11ea_a23e_38f9d3db5c17row4_col8 {\n",
       "            background-color:  lightgrey;\n",
       "            text-align:  left;\n",
       "        }    #T_bd8b0692_ccf6_11ea_a23e_38f9d3db5c17row5_col0 {\n",
       "            text-align:  left;\n",
       "        }    #T_bd8b0692_ccf6_11ea_a23e_38f9d3db5c17row5_col1 {\n",
       "            : ;\n",
       "            text-align:  left;\n",
       "        }    #T_bd8b0692_ccf6_11ea_a23e_38f9d3db5c17row5_col2 {\n",
       "            : ;\n",
       "            text-align:  left;\n",
       "        }    #T_bd8b0692_ccf6_11ea_a23e_38f9d3db5c17row5_col3 {\n",
       "            : ;\n",
       "            text-align:  left;\n",
       "        }    #T_bd8b0692_ccf6_11ea_a23e_38f9d3db5c17row5_col4 {\n",
       "            : ;\n",
       "            text-align:  left;\n",
       "        }    #T_bd8b0692_ccf6_11ea_a23e_38f9d3db5c17row5_col5 {\n",
       "            : ;\n",
       "            text-align:  left;\n",
       "        }    #T_bd8b0692_ccf6_11ea_a23e_38f9d3db5c17row5_col6 {\n",
       "            : ;\n",
       "            text-align:  left;\n",
       "        }    #T_bd8b0692_ccf6_11ea_a23e_38f9d3db5c17row5_col7 {\n",
       "            : ;\n",
       "            text-align:  left;\n",
       "        }    #T_bd8b0692_ccf6_11ea_a23e_38f9d3db5c17row5_col8 {\n",
       "            background-color:  lightgrey;\n",
       "            text-align:  left;\n",
       "        }    #T_bd8b0692_ccf6_11ea_a23e_38f9d3db5c17row6_col0 {\n",
       "            text-align:  left;\n",
       "        }    #T_bd8b0692_ccf6_11ea_a23e_38f9d3db5c17row6_col1 {\n",
       "            : ;\n",
       "            text-align:  left;\n",
       "        }    #T_bd8b0692_ccf6_11ea_a23e_38f9d3db5c17row6_col2 {\n",
       "            : ;\n",
       "            text-align:  left;\n",
       "        }    #T_bd8b0692_ccf6_11ea_a23e_38f9d3db5c17row6_col3 {\n",
       "            : ;\n",
       "            text-align:  left;\n",
       "        }    #T_bd8b0692_ccf6_11ea_a23e_38f9d3db5c17row6_col4 {\n",
       "            background-color:  yellow;\n",
       "            text-align:  left;\n",
       "        }    #T_bd8b0692_ccf6_11ea_a23e_38f9d3db5c17row6_col5 {\n",
       "            : ;\n",
       "            text-align:  left;\n",
       "        }    #T_bd8b0692_ccf6_11ea_a23e_38f9d3db5c17row6_col6 {\n",
       "            : ;\n",
       "            text-align:  left;\n",
       "        }    #T_bd8b0692_ccf6_11ea_a23e_38f9d3db5c17row6_col7 {\n",
       "            : ;\n",
       "            text-align:  left;\n",
       "        }    #T_bd8b0692_ccf6_11ea_a23e_38f9d3db5c17row6_col8 {\n",
       "            background-color:  lightgrey;\n",
       "            text-align:  left;\n",
       "        }    #T_bd8b0692_ccf6_11ea_a23e_38f9d3db5c17row7_col0 {\n",
       "            text-align:  left;\n",
       "        }    #T_bd8b0692_ccf6_11ea_a23e_38f9d3db5c17row7_col1 {\n",
       "            : ;\n",
       "            text-align:  left;\n",
       "        }    #T_bd8b0692_ccf6_11ea_a23e_38f9d3db5c17row7_col2 {\n",
       "            : ;\n",
       "            text-align:  left;\n",
       "        }    #T_bd8b0692_ccf6_11ea_a23e_38f9d3db5c17row7_col3 {\n",
       "            : ;\n",
       "            text-align:  left;\n",
       "        }    #T_bd8b0692_ccf6_11ea_a23e_38f9d3db5c17row7_col4 {\n",
       "            : ;\n",
       "            text-align:  left;\n",
       "        }    #T_bd8b0692_ccf6_11ea_a23e_38f9d3db5c17row7_col5 {\n",
       "            : ;\n",
       "            text-align:  left;\n",
       "        }    #T_bd8b0692_ccf6_11ea_a23e_38f9d3db5c17row7_col6 {\n",
       "            : ;\n",
       "            text-align:  left;\n",
       "        }    #T_bd8b0692_ccf6_11ea_a23e_38f9d3db5c17row7_col7 {\n",
       "            : ;\n",
       "            text-align:  left;\n",
       "        }    #T_bd8b0692_ccf6_11ea_a23e_38f9d3db5c17row7_col8 {\n",
       "            background-color:  lightgrey;\n",
       "            text-align:  left;\n",
       "        }    #T_bd8b0692_ccf6_11ea_a23e_38f9d3db5c17row8_col0 {\n",
       "            text-align:  left;\n",
       "        }    #T_bd8b0692_ccf6_11ea_a23e_38f9d3db5c17row8_col1 {\n",
       "            : ;\n",
       "            text-align:  left;\n",
       "        }    #T_bd8b0692_ccf6_11ea_a23e_38f9d3db5c17row8_col2 {\n",
       "            : ;\n",
       "            text-align:  left;\n",
       "        }    #T_bd8b0692_ccf6_11ea_a23e_38f9d3db5c17row8_col3 {\n",
       "            : ;\n",
       "            text-align:  left;\n",
       "        }    #T_bd8b0692_ccf6_11ea_a23e_38f9d3db5c17row8_col4 {\n",
       "            : ;\n",
       "            text-align:  left;\n",
       "        }    #T_bd8b0692_ccf6_11ea_a23e_38f9d3db5c17row8_col5 {\n",
       "            : ;\n",
       "            text-align:  left;\n",
       "        }    #T_bd8b0692_ccf6_11ea_a23e_38f9d3db5c17row8_col6 {\n",
       "            : ;\n",
       "            text-align:  left;\n",
       "        }    #T_bd8b0692_ccf6_11ea_a23e_38f9d3db5c17row8_col7 {\n",
       "            : ;\n",
       "            text-align:  left;\n",
       "        }    #T_bd8b0692_ccf6_11ea_a23e_38f9d3db5c17row8_col8 {\n",
       "            background-color:  lightgrey;\n",
       "            text-align:  left;\n",
       "        }    #T_bd8b0692_ccf6_11ea_a23e_38f9d3db5c17row9_col0 {\n",
       "            text-align:  left;\n",
       "        }    #T_bd8b0692_ccf6_11ea_a23e_38f9d3db5c17row9_col1 {\n",
       "            : ;\n",
       "            text-align:  left;\n",
       "        }    #T_bd8b0692_ccf6_11ea_a23e_38f9d3db5c17row9_col2 {\n",
       "            : ;\n",
       "            text-align:  left;\n",
       "        }    #T_bd8b0692_ccf6_11ea_a23e_38f9d3db5c17row9_col3 {\n",
       "            : ;\n",
       "            text-align:  left;\n",
       "        }    #T_bd8b0692_ccf6_11ea_a23e_38f9d3db5c17row9_col4 {\n",
       "            : ;\n",
       "            text-align:  left;\n",
       "        }    #T_bd8b0692_ccf6_11ea_a23e_38f9d3db5c17row9_col5 {\n",
       "            : ;\n",
       "            text-align:  left;\n",
       "        }    #T_bd8b0692_ccf6_11ea_a23e_38f9d3db5c17row9_col6 {\n",
       "            : ;\n",
       "            text-align:  left;\n",
       "        }    #T_bd8b0692_ccf6_11ea_a23e_38f9d3db5c17row9_col7 {\n",
       "            : ;\n",
       "            text-align:  left;\n",
       "        }    #T_bd8b0692_ccf6_11ea_a23e_38f9d3db5c17row9_col8 {\n",
       "            background-color:  lightgrey;\n",
       "            text-align:  left;\n",
       "        }    #T_bd8b0692_ccf6_11ea_a23e_38f9d3db5c17row10_col0 {\n",
       "            text-align:  left;\n",
       "        }    #T_bd8b0692_ccf6_11ea_a23e_38f9d3db5c17row10_col1 {\n",
       "            : ;\n",
       "            text-align:  left;\n",
       "        }    #T_bd8b0692_ccf6_11ea_a23e_38f9d3db5c17row10_col2 {\n",
       "            : ;\n",
       "            text-align:  left;\n",
       "        }    #T_bd8b0692_ccf6_11ea_a23e_38f9d3db5c17row10_col3 {\n",
       "            : ;\n",
       "            text-align:  left;\n",
       "        }    #T_bd8b0692_ccf6_11ea_a23e_38f9d3db5c17row10_col4 {\n",
       "            : ;\n",
       "            text-align:  left;\n",
       "        }    #T_bd8b0692_ccf6_11ea_a23e_38f9d3db5c17row10_col5 {\n",
       "            : ;\n",
       "            text-align:  left;\n",
       "        }    #T_bd8b0692_ccf6_11ea_a23e_38f9d3db5c17row10_col6 {\n",
       "            : ;\n",
       "            text-align:  left;\n",
       "        }    #T_bd8b0692_ccf6_11ea_a23e_38f9d3db5c17row10_col7 {\n",
       "            : ;\n",
       "            text-align:  left;\n",
       "        }    #T_bd8b0692_ccf6_11ea_a23e_38f9d3db5c17row10_col8 {\n",
       "            background-color:  lightgrey;\n",
       "            text-align:  left;\n",
       "        }    #T_bd8b0692_ccf6_11ea_a23e_38f9d3db5c17row11_col0 {\n",
       "            text-align:  left;\n",
       "        }    #T_bd8b0692_ccf6_11ea_a23e_38f9d3db5c17row11_col1 {\n",
       "            : ;\n",
       "            text-align:  left;\n",
       "        }    #T_bd8b0692_ccf6_11ea_a23e_38f9d3db5c17row11_col2 {\n",
       "            : ;\n",
       "            text-align:  left;\n",
       "        }    #T_bd8b0692_ccf6_11ea_a23e_38f9d3db5c17row11_col3 {\n",
       "            : ;\n",
       "            text-align:  left;\n",
       "        }    #T_bd8b0692_ccf6_11ea_a23e_38f9d3db5c17row11_col4 {\n",
       "            : ;\n",
       "            text-align:  left;\n",
       "        }    #T_bd8b0692_ccf6_11ea_a23e_38f9d3db5c17row11_col5 {\n",
       "            : ;\n",
       "            text-align:  left;\n",
       "        }    #T_bd8b0692_ccf6_11ea_a23e_38f9d3db5c17row11_col6 {\n",
       "            : ;\n",
       "            text-align:  left;\n",
       "        }    #T_bd8b0692_ccf6_11ea_a23e_38f9d3db5c17row11_col7 {\n",
       "            : ;\n",
       "            text-align:  left;\n",
       "        }    #T_bd8b0692_ccf6_11ea_a23e_38f9d3db5c17row11_col8 {\n",
       "            background-color:  lightgrey;\n",
       "            text-align:  left;\n",
       "        }    #T_bd8b0692_ccf6_11ea_a23e_38f9d3db5c17row12_col0 {\n",
       "            text-align:  left;\n",
       "        }    #T_bd8b0692_ccf6_11ea_a23e_38f9d3db5c17row12_col1 {\n",
       "            : ;\n",
       "            text-align:  left;\n",
       "        }    #T_bd8b0692_ccf6_11ea_a23e_38f9d3db5c17row12_col2 {\n",
       "            : ;\n",
       "            text-align:  left;\n",
       "        }    #T_bd8b0692_ccf6_11ea_a23e_38f9d3db5c17row12_col3 {\n",
       "            : ;\n",
       "            text-align:  left;\n",
       "        }    #T_bd8b0692_ccf6_11ea_a23e_38f9d3db5c17row12_col4 {\n",
       "            : ;\n",
       "            text-align:  left;\n",
       "        }    #T_bd8b0692_ccf6_11ea_a23e_38f9d3db5c17row12_col5 {\n",
       "            : ;\n",
       "            text-align:  left;\n",
       "        }    #T_bd8b0692_ccf6_11ea_a23e_38f9d3db5c17row12_col6 {\n",
       "            : ;\n",
       "            text-align:  left;\n",
       "        }    #T_bd8b0692_ccf6_11ea_a23e_38f9d3db5c17row12_col7 {\n",
       "            : ;\n",
       "            text-align:  left;\n",
       "        }    #T_bd8b0692_ccf6_11ea_a23e_38f9d3db5c17row12_col8 {\n",
       "            background-color:  lightgrey;\n",
       "            text-align:  left;\n",
       "        }    #T_bd8b0692_ccf6_11ea_a23e_38f9d3db5c17row13_col0 {\n",
       "            text-align:  left;\n",
       "        }    #T_bd8b0692_ccf6_11ea_a23e_38f9d3db5c17row13_col1 {\n",
       "            : ;\n",
       "            text-align:  left;\n",
       "        }    #T_bd8b0692_ccf6_11ea_a23e_38f9d3db5c17row13_col2 {\n",
       "            : ;\n",
       "            text-align:  left;\n",
       "        }    #T_bd8b0692_ccf6_11ea_a23e_38f9d3db5c17row13_col3 {\n",
       "            : ;\n",
       "            text-align:  left;\n",
       "        }    #T_bd8b0692_ccf6_11ea_a23e_38f9d3db5c17row13_col4 {\n",
       "            : ;\n",
       "            text-align:  left;\n",
       "        }    #T_bd8b0692_ccf6_11ea_a23e_38f9d3db5c17row13_col5 {\n",
       "            : ;\n",
       "            text-align:  left;\n",
       "        }    #T_bd8b0692_ccf6_11ea_a23e_38f9d3db5c17row13_col6 {\n",
       "            : ;\n",
       "            text-align:  left;\n",
       "        }    #T_bd8b0692_ccf6_11ea_a23e_38f9d3db5c17row13_col7 {\n",
       "            : ;\n",
       "            text-align:  left;\n",
       "        }    #T_bd8b0692_ccf6_11ea_a23e_38f9d3db5c17row13_col8 {\n",
       "            background-color:  lightgrey;\n",
       "            text-align:  left;\n",
       "        }    #T_bd8b0692_ccf6_11ea_a23e_38f9d3db5c17row14_col0 {\n",
       "            text-align:  left;\n",
       "        }    #T_bd8b0692_ccf6_11ea_a23e_38f9d3db5c17row14_col1 {\n",
       "            : ;\n",
       "            text-align:  left;\n",
       "        }    #T_bd8b0692_ccf6_11ea_a23e_38f9d3db5c17row14_col2 {\n",
       "            : ;\n",
       "            text-align:  left;\n",
       "        }    #T_bd8b0692_ccf6_11ea_a23e_38f9d3db5c17row14_col3 {\n",
       "            : ;\n",
       "            text-align:  left;\n",
       "        }    #T_bd8b0692_ccf6_11ea_a23e_38f9d3db5c17row14_col4 {\n",
       "            : ;\n",
       "            text-align:  left;\n",
       "        }    #T_bd8b0692_ccf6_11ea_a23e_38f9d3db5c17row14_col5 {\n",
       "            : ;\n",
       "            text-align:  left;\n",
       "        }    #T_bd8b0692_ccf6_11ea_a23e_38f9d3db5c17row14_col6 {\n",
       "            : ;\n",
       "            text-align:  left;\n",
       "        }    #T_bd8b0692_ccf6_11ea_a23e_38f9d3db5c17row14_col7 {\n",
       "            : ;\n",
       "            text-align:  left;\n",
       "        }    #T_bd8b0692_ccf6_11ea_a23e_38f9d3db5c17row14_col8 {\n",
       "            background-color:  lightgrey;\n",
       "            text-align:  left;\n",
       "        }    #T_bd8b0692_ccf6_11ea_a23e_38f9d3db5c17row15_col0 {\n",
       "            text-align:  left;\n",
       "        }    #T_bd8b0692_ccf6_11ea_a23e_38f9d3db5c17row15_col1 {\n",
       "            : ;\n",
       "            text-align:  left;\n",
       "        }    #T_bd8b0692_ccf6_11ea_a23e_38f9d3db5c17row15_col2 {\n",
       "            : ;\n",
       "            text-align:  left;\n",
       "        }    #T_bd8b0692_ccf6_11ea_a23e_38f9d3db5c17row15_col3 {\n",
       "            : ;\n",
       "            text-align:  left;\n",
       "        }    #T_bd8b0692_ccf6_11ea_a23e_38f9d3db5c17row15_col4 {\n",
       "            : ;\n",
       "            text-align:  left;\n",
       "        }    #T_bd8b0692_ccf6_11ea_a23e_38f9d3db5c17row15_col5 {\n",
       "            : ;\n",
       "            text-align:  left;\n",
       "        }    #T_bd8b0692_ccf6_11ea_a23e_38f9d3db5c17row15_col6 {\n",
       "            : ;\n",
       "            text-align:  left;\n",
       "        }    #T_bd8b0692_ccf6_11ea_a23e_38f9d3db5c17row15_col7 {\n",
       "            : ;\n",
       "            text-align:  left;\n",
       "        }    #T_bd8b0692_ccf6_11ea_a23e_38f9d3db5c17row15_col8 {\n",
       "            background-color:  lightgrey;\n",
       "            text-align:  left;\n",
       "        }    #T_bd8b0692_ccf6_11ea_a23e_38f9d3db5c17row16_col0 {\n",
       "            text-align:  left;\n",
       "        }    #T_bd8b0692_ccf6_11ea_a23e_38f9d3db5c17row16_col1 {\n",
       "            : ;\n",
       "            text-align:  left;\n",
       "        }    #T_bd8b0692_ccf6_11ea_a23e_38f9d3db5c17row16_col2 {\n",
       "            : ;\n",
       "            text-align:  left;\n",
       "        }    #T_bd8b0692_ccf6_11ea_a23e_38f9d3db5c17row16_col3 {\n",
       "            : ;\n",
       "            text-align:  left;\n",
       "        }    #T_bd8b0692_ccf6_11ea_a23e_38f9d3db5c17row16_col4 {\n",
       "            : ;\n",
       "            text-align:  left;\n",
       "        }    #T_bd8b0692_ccf6_11ea_a23e_38f9d3db5c17row16_col5 {\n",
       "            : ;\n",
       "            text-align:  left;\n",
       "        }    #T_bd8b0692_ccf6_11ea_a23e_38f9d3db5c17row16_col6 {\n",
       "            : ;\n",
       "            text-align:  left;\n",
       "        }    #T_bd8b0692_ccf6_11ea_a23e_38f9d3db5c17row16_col7 {\n",
       "            : ;\n",
       "            text-align:  left;\n",
       "        }    #T_bd8b0692_ccf6_11ea_a23e_38f9d3db5c17row16_col8 {\n",
       "            background-color:  lightgrey;\n",
       "            text-align:  left;\n",
       "        }    #T_bd8b0692_ccf6_11ea_a23e_38f9d3db5c17row17_col0 {\n",
       "            text-align:  left;\n",
       "        }    #T_bd8b0692_ccf6_11ea_a23e_38f9d3db5c17row17_col1 {\n",
       "            : ;\n",
       "            text-align:  left;\n",
       "        }    #T_bd8b0692_ccf6_11ea_a23e_38f9d3db5c17row17_col2 {\n",
       "            : ;\n",
       "            text-align:  left;\n",
       "        }    #T_bd8b0692_ccf6_11ea_a23e_38f9d3db5c17row17_col3 {\n",
       "            background-color:  yellow;\n",
       "            text-align:  left;\n",
       "        }    #T_bd8b0692_ccf6_11ea_a23e_38f9d3db5c17row17_col4 {\n",
       "            : ;\n",
       "            text-align:  left;\n",
       "        }    #T_bd8b0692_ccf6_11ea_a23e_38f9d3db5c17row17_col5 {\n",
       "            : ;\n",
       "            text-align:  left;\n",
       "        }    #T_bd8b0692_ccf6_11ea_a23e_38f9d3db5c17row17_col6 {\n",
       "            : ;\n",
       "            text-align:  left;\n",
       "        }    #T_bd8b0692_ccf6_11ea_a23e_38f9d3db5c17row17_col7 {\n",
       "            : ;\n",
       "            text-align:  left;\n",
       "        }    #T_bd8b0692_ccf6_11ea_a23e_38f9d3db5c17row17_col8 {\n",
       "            background-color:  lightgrey;\n",
       "            text-align:  left;\n",
       "        }</style><table id=\"T_bd8b0692_ccf6_11ea_a23e_38f9d3db5c17\" ><thead>    <tr>        <th class=\"blank level0\" ></th>        <th class=\"col_heading level0 col0\" >Model</th>        <th class=\"col_heading level0 col1\" >Accuracy</th>        <th class=\"col_heading level0 col2\" >AUC</th>        <th class=\"col_heading level0 col3\" >Recall</th>        <th class=\"col_heading level0 col4\" >Prec.</th>        <th class=\"col_heading level0 col5\" >F1</th>        <th class=\"col_heading level0 col6\" >Kappa</th>        <th class=\"col_heading level0 col7\" >MCC</th>        <th class=\"col_heading level0 col8\" >TT (Sec)</th>    </tr></thead><tbody>\n",
       "                <tr>\n",
       "                        <th id=\"T_bd8b0692_ccf6_11ea_a23e_38f9d3db5c17level0_row0\" class=\"row_heading level0 row0\" >0</th>\n",
       "                        <td id=\"T_bd8b0692_ccf6_11ea_a23e_38f9d3db5c17row0_col0\" class=\"data row0 col0\" >SVM - Radial Kernel</td>\n",
       "                        <td id=\"T_bd8b0692_ccf6_11ea_a23e_38f9d3db5c17row0_col1\" class=\"data row0 col1\" >0.8264</td>\n",
       "                        <td id=\"T_bd8b0692_ccf6_11ea_a23e_38f9d3db5c17row0_col2\" class=\"data row0 col2\" >0.8444</td>\n",
       "                        <td id=\"T_bd8b0692_ccf6_11ea_a23e_38f9d3db5c17row0_col3\" class=\"data row0 col3\" >0.7326</td>\n",
       "                        <td id=\"T_bd8b0692_ccf6_11ea_a23e_38f9d3db5c17row0_col4\" class=\"data row0 col4\" >0.8007</td>\n",
       "                        <td id=\"T_bd8b0692_ccf6_11ea_a23e_38f9d3db5c17row0_col5\" class=\"data row0 col5\" >0.7610</td>\n",
       "                        <td id=\"T_bd8b0692_ccf6_11ea_a23e_38f9d3db5c17row0_col6\" class=\"data row0 col6\" >0.6260</td>\n",
       "                        <td id=\"T_bd8b0692_ccf6_11ea_a23e_38f9d3db5c17row0_col7\" class=\"data row0 col7\" >0.6310</td>\n",
       "                        <td id=\"T_bd8b0692_ccf6_11ea_a23e_38f9d3db5c17row0_col8\" class=\"data row0 col8\" >0.0439</td>\n",
       "            </tr>\n",
       "            <tr>\n",
       "                        <th id=\"T_bd8b0692_ccf6_11ea_a23e_38f9d3db5c17level0_row1\" class=\"row_heading level0 row1\" >1</th>\n",
       "                        <td id=\"T_bd8b0692_ccf6_11ea_a23e_38f9d3db5c17row1_col0\" class=\"data row1 col0\" >Logistic Regression</td>\n",
       "                        <td id=\"T_bd8b0692_ccf6_11ea_a23e_38f9d3db5c17row1_col1\" class=\"data row1 col1\" >0.8217</td>\n",
       "                        <td id=\"T_bd8b0692_ccf6_11ea_a23e_38f9d3db5c17row1_col2\" class=\"data row1 col2\" >0.8622</td>\n",
       "                        <td id=\"T_bd8b0692_ccf6_11ea_a23e_38f9d3db5c17row1_col3\" class=\"data row1 col3\" >0.7574</td>\n",
       "                        <td id=\"T_bd8b0692_ccf6_11ea_a23e_38f9d3db5c17row1_col4\" class=\"data row1 col4\" >0.7761</td>\n",
       "                        <td id=\"T_bd8b0692_ccf6_11ea_a23e_38f9d3db5c17row1_col5\" class=\"data row1 col5\" >0.7642</td>\n",
       "                        <td id=\"T_bd8b0692_ccf6_11ea_a23e_38f9d3db5c17row1_col6\" class=\"data row1 col6\" >0.6212</td>\n",
       "                        <td id=\"T_bd8b0692_ccf6_11ea_a23e_38f9d3db5c17row1_col7\" class=\"data row1 col7\" >0.6237</td>\n",
       "                        <td id=\"T_bd8b0692_ccf6_11ea_a23e_38f9d3db5c17row1_col8\" class=\"data row1 col8\" >0.0251</td>\n",
       "            </tr>\n",
       "            <tr>\n",
       "                        <th id=\"T_bd8b0692_ccf6_11ea_a23e_38f9d3db5c17level0_row2\" class=\"row_heading level0 row2\" >2</th>\n",
       "                        <td id=\"T_bd8b0692_ccf6_11ea_a23e_38f9d3db5c17row2_col0\" class=\"data row2 col0\" >Light Gradient Boosting Machine</td>\n",
       "                        <td id=\"T_bd8b0692_ccf6_11ea_a23e_38f9d3db5c17row2_col1\" class=\"data row2 col1\" >0.8202</td>\n",
       "                        <td id=\"T_bd8b0692_ccf6_11ea_a23e_38f9d3db5c17row2_col2\" class=\"data row2 col2\" >0.8519</td>\n",
       "                        <td id=\"T_bd8b0692_ccf6_11ea_a23e_38f9d3db5c17row2_col3\" class=\"data row2 col3\" >0.7368</td>\n",
       "                        <td id=\"T_bd8b0692_ccf6_11ea_a23e_38f9d3db5c17row2_col4\" class=\"data row2 col4\" >0.7879</td>\n",
       "                        <td id=\"T_bd8b0692_ccf6_11ea_a23e_38f9d3db5c17row2_col5\" class=\"data row2 col5\" >0.7584</td>\n",
       "                        <td id=\"T_bd8b0692_ccf6_11ea_a23e_38f9d3db5c17row2_col6\" class=\"data row2 col6\" >0.6158</td>\n",
       "                        <td id=\"T_bd8b0692_ccf6_11ea_a23e_38f9d3db5c17row2_col7\" class=\"data row2 col7\" >0.6194</td>\n",
       "                        <td id=\"T_bd8b0692_ccf6_11ea_a23e_38f9d3db5c17row2_col8\" class=\"data row2 col8\" >0.0346</td>\n",
       "            </tr>\n",
       "            <tr>\n",
       "                        <th id=\"T_bd8b0692_ccf6_11ea_a23e_38f9d3db5c17level0_row3\" class=\"row_heading level0 row3\" >3</th>\n",
       "                        <td id=\"T_bd8b0692_ccf6_11ea_a23e_38f9d3db5c17row3_col0\" class=\"data row3 col0\" >K Neighbors Classifier</td>\n",
       "                        <td id=\"T_bd8b0692_ccf6_11ea_a23e_38f9d3db5c17row3_col1\" class=\"data row3 col1\" >0.8186</td>\n",
       "                        <td id=\"T_bd8b0692_ccf6_11ea_a23e_38f9d3db5c17row3_col2\" class=\"data row3 col2\" >0.8345</td>\n",
       "                        <td id=\"T_bd8b0692_ccf6_11ea_a23e_38f9d3db5c17row3_col3\" class=\"data row3 col3\" >0.7236</td>\n",
       "                        <td id=\"T_bd8b0692_ccf6_11ea_a23e_38f9d3db5c17row3_col4\" class=\"data row3 col4\" >0.7904</td>\n",
       "                        <td id=\"T_bd8b0692_ccf6_11ea_a23e_38f9d3db5c17row3_col5\" class=\"data row3 col5\" >0.7527</td>\n",
       "                        <td id=\"T_bd8b0692_ccf6_11ea_a23e_38f9d3db5c17row3_col6\" class=\"data row3 col6\" >0.6102</td>\n",
       "                        <td id=\"T_bd8b0692_ccf6_11ea_a23e_38f9d3db5c17row3_col7\" class=\"data row3 col7\" >0.6142</td>\n",
       "                        <td id=\"T_bd8b0692_ccf6_11ea_a23e_38f9d3db5c17row3_col8\" class=\"data row3 col8\" >0.0029</td>\n",
       "            </tr>\n",
       "            <tr>\n",
       "                        <th id=\"T_bd8b0692_ccf6_11ea_a23e_38f9d3db5c17level0_row4\" class=\"row_heading level0 row4\" >4</th>\n",
       "                        <td id=\"T_bd8b0692_ccf6_11ea_a23e_38f9d3db5c17row4_col0\" class=\"data row4 col0\" >Ridge Classifier</td>\n",
       "                        <td id=\"T_bd8b0692_ccf6_11ea_a23e_38f9d3db5c17row4_col1\" class=\"data row4 col1\" >0.8184</td>\n",
       "                        <td id=\"T_bd8b0692_ccf6_11ea_a23e_38f9d3db5c17row4_col2\" class=\"data row4 col2\" >0.0000</td>\n",
       "                        <td id=\"T_bd8b0692_ccf6_11ea_a23e_38f9d3db5c17row4_col3\" class=\"data row4 col3\" >0.7322</td>\n",
       "                        <td id=\"T_bd8b0692_ccf6_11ea_a23e_38f9d3db5c17row4_col4\" class=\"data row4 col4\" >0.7826</td>\n",
       "                        <td id=\"T_bd8b0692_ccf6_11ea_a23e_38f9d3db5c17row4_col5\" class=\"data row4 col5\" >0.7531</td>\n",
       "                        <td id=\"T_bd8b0692_ccf6_11ea_a23e_38f9d3db5c17row4_col6\" class=\"data row4 col6\" >0.6104</td>\n",
       "                        <td id=\"T_bd8b0692_ccf6_11ea_a23e_38f9d3db5c17row4_col7\" class=\"data row4 col7\" >0.6143</td>\n",
       "                        <td id=\"T_bd8b0692_ccf6_11ea_a23e_38f9d3db5c17row4_col8\" class=\"data row4 col8\" >0.0046</td>\n",
       "            </tr>\n",
       "            <tr>\n",
       "                        <th id=\"T_bd8b0692_ccf6_11ea_a23e_38f9d3db5c17level0_row5\" class=\"row_heading level0 row5\" >5</th>\n",
       "                        <td id=\"T_bd8b0692_ccf6_11ea_a23e_38f9d3db5c17row5_col0\" class=\"data row5 col0\" >Linear Discriminant Analysis</td>\n",
       "                        <td id=\"T_bd8b0692_ccf6_11ea_a23e_38f9d3db5c17row5_col1\" class=\"data row5 col1\" >0.8168</td>\n",
       "                        <td id=\"T_bd8b0692_ccf6_11ea_a23e_38f9d3db5c17row5_col2\" class=\"data row5 col2\" >0.8616</td>\n",
       "                        <td id=\"T_bd8b0692_ccf6_11ea_a23e_38f9d3db5c17row5_col3\" class=\"data row5 col3\" >0.7322</td>\n",
       "                        <td id=\"T_bd8b0692_ccf6_11ea_a23e_38f9d3db5c17row5_col4\" class=\"data row5 col4\" >0.7795</td>\n",
       "                        <td id=\"T_bd8b0692_ccf6_11ea_a23e_38f9d3db5c17row5_col5\" class=\"data row5 col5\" >0.7515</td>\n",
       "                        <td id=\"T_bd8b0692_ccf6_11ea_a23e_38f9d3db5c17row5_col6\" class=\"data row5 col6\" >0.6074</td>\n",
       "                        <td id=\"T_bd8b0692_ccf6_11ea_a23e_38f9d3db5c17row5_col7\" class=\"data row5 col7\" >0.6112</td>\n",
       "                        <td id=\"T_bd8b0692_ccf6_11ea_a23e_38f9d3db5c17row5_col8\" class=\"data row5 col8\" >0.0054</td>\n",
       "            </tr>\n",
       "            <tr>\n",
       "                        <th id=\"T_bd8b0692_ccf6_11ea_a23e_38f9d3db5c17level0_row6\" class=\"row_heading level0 row6\" >6</th>\n",
       "                        <td id=\"T_bd8b0692_ccf6_11ea_a23e_38f9d3db5c17row6_col0\" class=\"data row6 col0\" >MLP Classifier</td>\n",
       "                        <td id=\"T_bd8b0692_ccf6_11ea_a23e_38f9d3db5c17row6_col1\" class=\"data row6 col1\" >0.8154</td>\n",
       "                        <td id=\"T_bd8b0692_ccf6_11ea_a23e_38f9d3db5c17row6_col2\" class=\"data row6 col2\" >0.8437</td>\n",
       "                        <td id=\"T_bd8b0692_ccf6_11ea_a23e_38f9d3db5c17row6_col3\" class=\"data row6 col3\" >0.6821</td>\n",
       "                        <td id=\"T_bd8b0692_ccf6_11ea_a23e_38f9d3db5c17row6_col4\" class=\"data row6 col4\" >0.8065</td>\n",
       "                        <td id=\"T_bd8b0692_ccf6_11ea_a23e_38f9d3db5c17row6_col5\" class=\"data row6 col5\" >0.7373</td>\n",
       "                        <td id=\"T_bd8b0692_ccf6_11ea_a23e_38f9d3db5c17row6_col6\" class=\"data row6 col6\" >0.5970</td>\n",
       "                        <td id=\"T_bd8b0692_ccf6_11ea_a23e_38f9d3db5c17row6_col7\" class=\"data row6 col7\" >0.6032</td>\n",
       "                        <td id=\"T_bd8b0692_ccf6_11ea_a23e_38f9d3db5c17row6_col8\" class=\"data row6 col8\" >1.3471</td>\n",
       "            </tr>\n",
       "            <tr>\n",
       "                        <th id=\"T_bd8b0692_ccf6_11ea_a23e_38f9d3db5c17level0_row7\" class=\"row_heading level0 row7\" >7</th>\n",
       "                        <td id=\"T_bd8b0692_ccf6_11ea_a23e_38f9d3db5c17row7_col0\" class=\"data row7 col0\" >CatBoost Classifier</td>\n",
       "                        <td id=\"T_bd8b0692_ccf6_11ea_a23e_38f9d3db5c17row7_col1\" class=\"data row7 col1\" >0.8121</td>\n",
       "                        <td id=\"T_bd8b0692_ccf6_11ea_a23e_38f9d3db5c17row7_col2\" class=\"data row7 col2\" >0.8558</td>\n",
       "                        <td id=\"T_bd8b0692_ccf6_11ea_a23e_38f9d3db5c17row7_col3\" class=\"data row7 col3\" >0.6900</td>\n",
       "                        <td id=\"T_bd8b0692_ccf6_11ea_a23e_38f9d3db5c17row7_col4\" class=\"data row7 col4\" >0.7958</td>\n",
       "                        <td id=\"T_bd8b0692_ccf6_11ea_a23e_38f9d3db5c17row7_col5\" class=\"data row7 col5\" >0.7367</td>\n",
       "                        <td id=\"T_bd8b0692_ccf6_11ea_a23e_38f9d3db5c17row7_col6\" class=\"data row7 col6\" >0.5920</td>\n",
       "                        <td id=\"T_bd8b0692_ccf6_11ea_a23e_38f9d3db5c17row7_col7\" class=\"data row7 col7\" >0.5976</td>\n",
       "                        <td id=\"T_bd8b0692_ccf6_11ea_a23e_38f9d3db5c17row7_col8\" class=\"data row7 col8\" >1.3804</td>\n",
       "            </tr>\n",
       "            <tr>\n",
       "                        <th id=\"T_bd8b0692_ccf6_11ea_a23e_38f9d3db5c17level0_row8\" class=\"row_heading level0 row8\" >8</th>\n",
       "                        <td id=\"T_bd8b0692_ccf6_11ea_a23e_38f9d3db5c17row8_col0\" class=\"data row8 col0\" >Random Forest Classifier</td>\n",
       "                        <td id=\"T_bd8b0692_ccf6_11ea_a23e_38f9d3db5c17row8_col1\" class=\"data row8 col1\" >0.8106</td>\n",
       "                        <td id=\"T_bd8b0692_ccf6_11ea_a23e_38f9d3db5c17row8_col2\" class=\"data row8 col2\" >0.8469</td>\n",
       "                        <td id=\"T_bd8b0692_ccf6_11ea_a23e_38f9d3db5c17row8_col3\" class=\"data row8 col3\" >0.7031</td>\n",
       "                        <td id=\"T_bd8b0692_ccf6_11ea_a23e_38f9d3db5c17row8_col4\" class=\"data row8 col4\" >0.7878</td>\n",
       "                        <td id=\"T_bd8b0692_ccf6_11ea_a23e_38f9d3db5c17row8_col5\" class=\"data row8 col5\" >0.7402</td>\n",
       "                        <td id=\"T_bd8b0692_ccf6_11ea_a23e_38f9d3db5c17row8_col6\" class=\"data row8 col6\" >0.5921</td>\n",
       "                        <td id=\"T_bd8b0692_ccf6_11ea_a23e_38f9d3db5c17row8_col7\" class=\"data row8 col7\" >0.5971</td>\n",
       "                        <td id=\"T_bd8b0692_ccf6_11ea_a23e_38f9d3db5c17row8_col8\" class=\"data row8 col8\" >0.0225</td>\n",
       "            </tr>\n",
       "            <tr>\n",
       "                        <th id=\"T_bd8b0692_ccf6_11ea_a23e_38f9d3db5c17level0_row9\" class=\"row_heading level0 row9\" >9</th>\n",
       "                        <td id=\"T_bd8b0692_ccf6_11ea_a23e_38f9d3db5c17row9_col0\" class=\"data row9 col0\" >Gradient Boosting Classifier</td>\n",
       "                        <td id=\"T_bd8b0692_ccf6_11ea_a23e_38f9d3db5c17row9_col1\" class=\"data row9 col1\" >0.8090</td>\n",
       "                        <td id=\"T_bd8b0692_ccf6_11ea_a23e_38f9d3db5c17row9_col2\" class=\"data row9 col2\" >0.8555</td>\n",
       "                        <td id=\"T_bd8b0692_ccf6_11ea_a23e_38f9d3db5c17row9_col3\" class=\"data row9 col3\" >0.6993</td>\n",
       "                        <td id=\"T_bd8b0692_ccf6_11ea_a23e_38f9d3db5c17row9_col4\" class=\"data row9 col4\" >0.7856</td>\n",
       "                        <td id=\"T_bd8b0692_ccf6_11ea_a23e_38f9d3db5c17row9_col5\" class=\"data row9 col5\" >0.7358</td>\n",
       "                        <td id=\"T_bd8b0692_ccf6_11ea_a23e_38f9d3db5c17row9_col6\" class=\"data row9 col6\" >0.5875</td>\n",
       "                        <td id=\"T_bd8b0692_ccf6_11ea_a23e_38f9d3db5c17row9_col7\" class=\"data row9 col7\" >0.5934</td>\n",
       "                        <td id=\"T_bd8b0692_ccf6_11ea_a23e_38f9d3db5c17row9_col8\" class=\"data row9 col8\" >0.0879</td>\n",
       "            </tr>\n",
       "            <tr>\n",
       "                        <th id=\"T_bd8b0692_ccf6_11ea_a23e_38f9d3db5c17level0_row10\" class=\"row_heading level0 row10\" >10</th>\n",
       "                        <td id=\"T_bd8b0692_ccf6_11ea_a23e_38f9d3db5c17row10_col0\" class=\"data row10 col0\" >Gaussian Process Classifier</td>\n",
       "                        <td id=\"T_bd8b0692_ccf6_11ea_a23e_38f9d3db5c17row10_col1\" class=\"data row10 col1\" >0.8041</td>\n",
       "                        <td id=\"T_bd8b0692_ccf6_11ea_a23e_38f9d3db5c17row10_col2\" class=\"data row10 col2\" >0.8501</td>\n",
       "                        <td id=\"T_bd8b0692_ccf6_11ea_a23e_38f9d3db5c17row10_col3\" class=\"data row10 col3\" >0.6902</td>\n",
       "                        <td id=\"T_bd8b0692_ccf6_11ea_a23e_38f9d3db5c17row10_col4\" class=\"data row10 col4\" >0.7751</td>\n",
       "                        <td id=\"T_bd8b0692_ccf6_11ea_a23e_38f9d3db5c17row10_col5\" class=\"data row10 col5\" >0.7267</td>\n",
       "                        <td id=\"T_bd8b0692_ccf6_11ea_a23e_38f9d3db5c17row10_col6\" class=\"data row10 col6\" >0.5758</td>\n",
       "                        <td id=\"T_bd8b0692_ccf6_11ea_a23e_38f9d3db5c17row10_col7\" class=\"data row10 col7\" >0.5806</td>\n",
       "                        <td id=\"T_bd8b0692_ccf6_11ea_a23e_38f9d3db5c17row10_col8\" class=\"data row10 col8\" >0.1129</td>\n",
       "            </tr>\n",
       "            <tr>\n",
       "                        <th id=\"T_bd8b0692_ccf6_11ea_a23e_38f9d3db5c17level0_row11\" class=\"row_heading level0 row11\" >11</th>\n",
       "                        <td id=\"T_bd8b0692_ccf6_11ea_a23e_38f9d3db5c17row11_col0\" class=\"data row11 col0\" >Ada Boost Classifier</td>\n",
       "                        <td id=\"T_bd8b0692_ccf6_11ea_a23e_38f9d3db5c17row11_col1\" class=\"data row11 col1\" >0.8009</td>\n",
       "                        <td id=\"T_bd8b0692_ccf6_11ea_a23e_38f9d3db5c17row11_col2\" class=\"data row11 col2\" >0.8440</td>\n",
       "                        <td id=\"T_bd8b0692_ccf6_11ea_a23e_38f9d3db5c17row11_col3\" class=\"data row11 col3\" >0.7239</td>\n",
       "                        <td id=\"T_bd8b0692_ccf6_11ea_a23e_38f9d3db5c17row11_col4\" class=\"data row11 col4\" >0.7556</td>\n",
       "                        <td id=\"T_bd8b0692_ccf6_11ea_a23e_38f9d3db5c17row11_col5\" class=\"data row11 col5\" >0.7352</td>\n",
       "                        <td id=\"T_bd8b0692_ccf6_11ea_a23e_38f9d3db5c17row11_col6\" class=\"data row11 col6\" >0.5762</td>\n",
       "                        <td id=\"T_bd8b0692_ccf6_11ea_a23e_38f9d3db5c17row11_col7\" class=\"data row11 col7\" >0.5808</td>\n",
       "                        <td id=\"T_bd8b0692_ccf6_11ea_a23e_38f9d3db5c17row11_col8\" class=\"data row11 col8\" >0.0771</td>\n",
       "            </tr>\n",
       "            <tr>\n",
       "                        <th id=\"T_bd8b0692_ccf6_11ea_a23e_38f9d3db5c17level0_row12\" class=\"row_heading level0 row12\" >12</th>\n",
       "                        <td id=\"T_bd8b0692_ccf6_11ea_a23e_38f9d3db5c17row12_col0\" class=\"data row12 col0\" >Extreme Gradient Boosting</td>\n",
       "                        <td id=\"T_bd8b0692_ccf6_11ea_a23e_38f9d3db5c17row12_col1\" class=\"data row12 col1\" >0.7945</td>\n",
       "                        <td id=\"T_bd8b0692_ccf6_11ea_a23e_38f9d3db5c17row12_col2\" class=\"data row12 col2\" >0.8357</td>\n",
       "                        <td id=\"T_bd8b0692_ccf6_11ea_a23e_38f9d3db5c17row12_col3\" class=\"data row12 col3\" >0.7158</td>\n",
       "                        <td id=\"T_bd8b0692_ccf6_11ea_a23e_38f9d3db5c17row12_col4\" class=\"data row12 col4\" >0.7459</td>\n",
       "                        <td id=\"T_bd8b0692_ccf6_11ea_a23e_38f9d3db5c17row12_col5\" class=\"data row12 col5\" >0.7273</td>\n",
       "                        <td id=\"T_bd8b0692_ccf6_11ea_a23e_38f9d3db5c17row12_col6\" class=\"data row12 col6\" >0.5631</td>\n",
       "                        <td id=\"T_bd8b0692_ccf6_11ea_a23e_38f9d3db5c17row12_col7\" class=\"data row12 col7\" >0.5663</td>\n",
       "                        <td id=\"T_bd8b0692_ccf6_11ea_a23e_38f9d3db5c17row12_col8\" class=\"data row12 col8\" >0.0847</td>\n",
       "            </tr>\n",
       "            <tr>\n",
       "                        <th id=\"T_bd8b0692_ccf6_11ea_a23e_38f9d3db5c17level0_row13\" class=\"row_heading level0 row13\" >13</th>\n",
       "                        <td id=\"T_bd8b0692_ccf6_11ea_a23e_38f9d3db5c17row13_col0\" class=\"data row13 col0\" >SVM - Linear Kernel</td>\n",
       "                        <td id=\"T_bd8b0692_ccf6_11ea_a23e_38f9d3db5c17row13_col1\" class=\"data row13 col1\" >0.7943</td>\n",
       "                        <td id=\"T_bd8b0692_ccf6_11ea_a23e_38f9d3db5c17row13_col2\" class=\"data row13 col2\" >0.0000</td>\n",
       "                        <td id=\"T_bd8b0692_ccf6_11ea_a23e_38f9d3db5c17row13_col3\" class=\"data row13 col3\" >0.7366</td>\n",
       "                        <td id=\"T_bd8b0692_ccf6_11ea_a23e_38f9d3db5c17row13_col4\" class=\"data row13 col4\" >0.7429</td>\n",
       "                        <td id=\"T_bd8b0692_ccf6_11ea_a23e_38f9d3db5c17row13_col5\" class=\"data row13 col5\" >0.7345</td>\n",
       "                        <td id=\"T_bd8b0692_ccf6_11ea_a23e_38f9d3db5c17row13_col6\" class=\"data row13 col6\" >0.5674</td>\n",
       "                        <td id=\"T_bd8b0692_ccf6_11ea_a23e_38f9d3db5c17row13_col7\" class=\"data row13 col7\" >0.5731</td>\n",
       "                        <td id=\"T_bd8b0692_ccf6_11ea_a23e_38f9d3db5c17row13_col8\" class=\"data row13 col8\" >0.0059</td>\n",
       "            </tr>\n",
       "            <tr>\n",
       "                        <th id=\"T_bd8b0692_ccf6_11ea_a23e_38f9d3db5c17level0_row14\" class=\"row_heading level0 row14\" >14</th>\n",
       "                        <td id=\"T_bd8b0692_ccf6_11ea_a23e_38f9d3db5c17row14_col0\" class=\"data row14 col0\" >Extra Trees Classifier</td>\n",
       "                        <td id=\"T_bd8b0692_ccf6_11ea_a23e_38f9d3db5c17row14_col1\" class=\"data row14 col1\" >0.7850</td>\n",
       "                        <td id=\"T_bd8b0692_ccf6_11ea_a23e_38f9d3db5c17row14_col2\" class=\"data row14 col2\" >0.8250</td>\n",
       "                        <td id=\"T_bd8b0692_ccf6_11ea_a23e_38f9d3db5c17row14_col3\" class=\"data row14 col3\" >0.6989</td>\n",
       "                        <td id=\"T_bd8b0692_ccf6_11ea_a23e_38f9d3db5c17row14_col4\" class=\"data row14 col4\" >0.7361</td>\n",
       "                        <td id=\"T_bd8b0692_ccf6_11ea_a23e_38f9d3db5c17row14_col5\" class=\"data row14 col5\" >0.7145</td>\n",
       "                        <td id=\"T_bd8b0692_ccf6_11ea_a23e_38f9d3db5c17row14_col6\" class=\"data row14 col6\" >0.5425</td>\n",
       "                        <td id=\"T_bd8b0692_ccf6_11ea_a23e_38f9d3db5c17row14_col7\" class=\"data row14 col7\" >0.5454</td>\n",
       "                        <td id=\"T_bd8b0692_ccf6_11ea_a23e_38f9d3db5c17row14_col8\" class=\"data row14 col8\" >0.1190</td>\n",
       "            </tr>\n",
       "            <tr>\n",
       "                        <th id=\"T_bd8b0692_ccf6_11ea_a23e_38f9d3db5c17level0_row15\" class=\"row_heading level0 row15\" >15</th>\n",
       "                        <td id=\"T_bd8b0692_ccf6_11ea_a23e_38f9d3db5c17row15_col0\" class=\"data row15 col0\" >Naive Bayes</td>\n",
       "                        <td id=\"T_bd8b0692_ccf6_11ea_a23e_38f9d3db5c17row15_col1\" class=\"data row15 col1\" >0.7831</td>\n",
       "                        <td id=\"T_bd8b0692_ccf6_11ea_a23e_38f9d3db5c17row15_col2\" class=\"data row15 col2\" >0.8329</td>\n",
       "                        <td id=\"T_bd8b0692_ccf6_11ea_a23e_38f9d3db5c17row15_col3\" class=\"data row15 col3\" >0.6739</td>\n",
       "                        <td id=\"T_bd8b0692_ccf6_11ea_a23e_38f9d3db5c17row15_col4\" class=\"data row15 col4\" >0.7414</td>\n",
       "                        <td id=\"T_bd8b0692_ccf6_11ea_a23e_38f9d3db5c17row15_col5\" class=\"data row15 col5\" >0.7022</td>\n",
       "                        <td id=\"T_bd8b0692_ccf6_11ea_a23e_38f9d3db5c17row15_col6\" class=\"data row15 col6\" >0.5330</td>\n",
       "                        <td id=\"T_bd8b0692_ccf6_11ea_a23e_38f9d3db5c17row15_col7\" class=\"data row15 col7\" >0.5376</td>\n",
       "                        <td id=\"T_bd8b0692_ccf6_11ea_a23e_38f9d3db5c17row15_col8\" class=\"data row15 col8\" >0.0028</td>\n",
       "            </tr>\n",
       "            <tr>\n",
       "                        <th id=\"T_bd8b0692_ccf6_11ea_a23e_38f9d3db5c17level0_row16\" class=\"row_heading level0 row16\" >16</th>\n",
       "                        <td id=\"T_bd8b0692_ccf6_11ea_a23e_38f9d3db5c17row16_col0\" class=\"data row16 col0\" >Decision Tree Classifier</td>\n",
       "                        <td id=\"T_bd8b0692_ccf6_11ea_a23e_38f9d3db5c17row16_col1\" class=\"data row16 col1\" >0.7802</td>\n",
       "                        <td id=\"T_bd8b0692_ccf6_11ea_a23e_38f9d3db5c17row16_col2\" class=\"data row16 col2\" >0.7667</td>\n",
       "                        <td id=\"T_bd8b0692_ccf6_11ea_a23e_38f9d3db5c17row16_col3\" class=\"data row16 col3\" >0.7034</td>\n",
       "                        <td id=\"T_bd8b0692_ccf6_11ea_a23e_38f9d3db5c17row16_col4\" class=\"data row16 col4\" >0.7240</td>\n",
       "                        <td id=\"T_bd8b0692_ccf6_11ea_a23e_38f9d3db5c17row16_col5\" class=\"data row16 col5\" >0.7085</td>\n",
       "                        <td id=\"T_bd8b0692_ccf6_11ea_a23e_38f9d3db5c17row16_col6\" class=\"data row16 col6\" >0.5329</td>\n",
       "                        <td id=\"T_bd8b0692_ccf6_11ea_a23e_38f9d3db5c17row16_col7\" class=\"data row16 col7\" >0.5377</td>\n",
       "                        <td id=\"T_bd8b0692_ccf6_11ea_a23e_38f9d3db5c17row16_col8\" class=\"data row16 col8\" >0.0047</td>\n",
       "            </tr>\n",
       "            <tr>\n",
       "                        <th id=\"T_bd8b0692_ccf6_11ea_a23e_38f9d3db5c17level0_row17\" class=\"row_heading level0 row17\" >17</th>\n",
       "                        <td id=\"T_bd8b0692_ccf6_11ea_a23e_38f9d3db5c17row17_col0\" class=\"data row17 col0\" >Quadratic Discriminant Analysis</td>\n",
       "                        <td id=\"T_bd8b0692_ccf6_11ea_a23e_38f9d3db5c17row17_col1\" class=\"data row17 col1\" >0.4764</td>\n",
       "                        <td id=\"T_bd8b0692_ccf6_11ea_a23e_38f9d3db5c17row17_col2\" class=\"data row17 col2\" >0.5840</td>\n",
       "                        <td id=\"T_bd8b0692_ccf6_11ea_a23e_38f9d3db5c17row17_col3\" class=\"data row17 col3\" >0.9667</td>\n",
       "                        <td id=\"T_bd8b0692_ccf6_11ea_a23e_38f9d3db5c17row17_col4\" class=\"data row17 col4\" >0.4315</td>\n",
       "                        <td id=\"T_bd8b0692_ccf6_11ea_a23e_38f9d3db5c17row17_col5\" class=\"data row17 col5\" >0.5914</td>\n",
       "                        <td id=\"T_bd8b0692_ccf6_11ea_a23e_38f9d3db5c17row17_col6\" class=\"data row17 col6\" >0.1177</td>\n",
       "                        <td id=\"T_bd8b0692_ccf6_11ea_a23e_38f9d3db5c17row17_col7\" class=\"data row17 col7\" >0.1736</td>\n",
       "                        <td id=\"T_bd8b0692_ccf6_11ea_a23e_38f9d3db5c17row17_col8\" class=\"data row17 col8\" >0.0030</td>\n",
       "            </tr>\n",
       "    </tbody></table>"
      ],
      "text/plain": [
       "<pandas.io.formats.style.Styler at 0x1261b48e0>"
      ]
     },
     "metadata": {},
     "output_type": "display_data"
    }
   ],
   "source": [
    "# automatically compare all models \n",
    "best_classification_model = classification.compare_models(\n",
    "    turbo=False,\n",
    ")"
   ]
  },
  {
   "cell_type": "code",
   "execution_count": 11,
   "metadata": {},
   "outputs": [
    {
     "data": {
      "text/html": [
       "<style  type=\"text/css\" >\n",
       "    #T_be0deada_ccf6_11ea_a23e_38f9d3db5c17row10_col0 {\n",
       "            background:  yellow;\n",
       "        }    #T_be0deada_ccf6_11ea_a23e_38f9d3db5c17row10_col1 {\n",
       "            background:  yellow;\n",
       "        }    #T_be0deada_ccf6_11ea_a23e_38f9d3db5c17row10_col2 {\n",
       "            background:  yellow;\n",
       "        }    #T_be0deada_ccf6_11ea_a23e_38f9d3db5c17row10_col3 {\n",
       "            background:  yellow;\n",
       "        }    #T_be0deada_ccf6_11ea_a23e_38f9d3db5c17row10_col4 {\n",
       "            background:  yellow;\n",
       "        }    #T_be0deada_ccf6_11ea_a23e_38f9d3db5c17row10_col5 {\n",
       "            background:  yellow;\n",
       "        }    #T_be0deada_ccf6_11ea_a23e_38f9d3db5c17row10_col6 {\n",
       "            background:  yellow;\n",
       "        }</style><table id=\"T_be0deada_ccf6_11ea_a23e_38f9d3db5c17\" ><thead>    <tr>        <th class=\"blank level0\" ></th>        <th class=\"col_heading level0 col0\" >Accuracy</th>        <th class=\"col_heading level0 col1\" >AUC</th>        <th class=\"col_heading level0 col2\" >Recall</th>        <th class=\"col_heading level0 col3\" >Prec.</th>        <th class=\"col_heading level0 col4\" >F1</th>        <th class=\"col_heading level0 col5\" >Kappa</th>        <th class=\"col_heading level0 col6\" >MCC</th>    </tr></thead><tbody>\n",
       "                <tr>\n",
       "                        <th id=\"T_be0deada_ccf6_11ea_a23e_38f9d3db5c17level0_row0\" class=\"row_heading level0 row0\" >0</th>\n",
       "                        <td id=\"T_be0deada_ccf6_11ea_a23e_38f9d3db5c17row0_col0\" class=\"data row0 col0\" >0.7937</td>\n",
       "                        <td id=\"T_be0deada_ccf6_11ea_a23e_38f9d3db5c17row0_col1\" class=\"data row0 col1\" >0.8376</td>\n",
       "                        <td id=\"T_be0deada_ccf6_11ea_a23e_38f9d3db5c17row0_col2\" class=\"data row0 col2\" >0.6250</td>\n",
       "                        <td id=\"T_be0deada_ccf6_11ea_a23e_38f9d3db5c17row0_col3\" class=\"data row0 col3\" >0.7895</td>\n",
       "                        <td id=\"T_be0deada_ccf6_11ea_a23e_38f9d3db5c17row0_col4\" class=\"data row0 col4\" >0.6977</td>\n",
       "                        <td id=\"T_be0deada_ccf6_11ea_a23e_38f9d3db5c17row0_col5\" class=\"data row0 col5\" >0.5442</td>\n",
       "                        <td id=\"T_be0deada_ccf6_11ea_a23e_38f9d3db5c17row0_col6\" class=\"data row0 col6\" >0.5528</td>\n",
       "            </tr>\n",
       "            <tr>\n",
       "                        <th id=\"T_be0deada_ccf6_11ea_a23e_38f9d3db5c17level0_row1\" class=\"row_heading level0 row1\" >1</th>\n",
       "                        <td id=\"T_be0deada_ccf6_11ea_a23e_38f9d3db5c17row1_col0\" class=\"data row1 col0\" >0.8095</td>\n",
       "                        <td id=\"T_be0deada_ccf6_11ea_a23e_38f9d3db5c17row1_col1\" class=\"data row1 col1\" >0.7756</td>\n",
       "                        <td id=\"T_be0deada_ccf6_11ea_a23e_38f9d3db5c17row1_col2\" class=\"data row1 col2\" >0.7083</td>\n",
       "                        <td id=\"T_be0deada_ccf6_11ea_a23e_38f9d3db5c17row1_col3\" class=\"data row1 col3\" >0.7727</td>\n",
       "                        <td id=\"T_be0deada_ccf6_11ea_a23e_38f9d3db5c17row1_col4\" class=\"data row1 col4\" >0.7391</td>\n",
       "                        <td id=\"T_be0deada_ccf6_11ea_a23e_38f9d3db5c17row1_col5\" class=\"data row1 col5\" >0.5896</td>\n",
       "                        <td id=\"T_be0deada_ccf6_11ea_a23e_38f9d3db5c17row1_col6\" class=\"data row1 col6\" >0.5910</td>\n",
       "            </tr>\n",
       "            <tr>\n",
       "                        <th id=\"T_be0deada_ccf6_11ea_a23e_38f9d3db5c17level0_row2\" class=\"row_heading level0 row2\" >2</th>\n",
       "                        <td id=\"T_be0deada_ccf6_11ea_a23e_38f9d3db5c17row2_col0\" class=\"data row2 col0\" >0.8413</td>\n",
       "                        <td id=\"T_be0deada_ccf6_11ea_a23e_38f9d3db5c17row2_col1\" class=\"data row2 col1\" >0.9209</td>\n",
       "                        <td id=\"T_be0deada_ccf6_11ea_a23e_38f9d3db5c17row2_col2\" class=\"data row2 col2\" >0.6667</td>\n",
       "                        <td id=\"T_be0deada_ccf6_11ea_a23e_38f9d3db5c17row2_col3\" class=\"data row2 col3\" >0.8889</td>\n",
       "                        <td id=\"T_be0deada_ccf6_11ea_a23e_38f9d3db5c17row2_col4\" class=\"data row2 col4\" >0.7619</td>\n",
       "                        <td id=\"T_be0deada_ccf6_11ea_a23e_38f9d3db5c17row2_col5\" class=\"data row2 col5\" >0.6465</td>\n",
       "                        <td id=\"T_be0deada_ccf6_11ea_a23e_38f9d3db5c17row2_col6\" class=\"data row2 col6\" >0.6615</td>\n",
       "            </tr>\n",
       "            <tr>\n",
       "                        <th id=\"T_be0deada_ccf6_11ea_a23e_38f9d3db5c17level0_row3\" class=\"row_heading level0 row3\" >3</th>\n",
       "                        <td id=\"T_be0deada_ccf6_11ea_a23e_38f9d3db5c17row3_col0\" class=\"data row3 col0\" >0.8226</td>\n",
       "                        <td id=\"T_be0deada_ccf6_11ea_a23e_38f9d3db5c17row3_col1\" class=\"data row3 col1\" >0.8547</td>\n",
       "                        <td id=\"T_be0deada_ccf6_11ea_a23e_38f9d3db5c17row3_col2\" class=\"data row3 col2\" >0.7500</td>\n",
       "                        <td id=\"T_be0deada_ccf6_11ea_a23e_38f9d3db5c17row3_col3\" class=\"data row3 col3\" >0.7826</td>\n",
       "                        <td id=\"T_be0deada_ccf6_11ea_a23e_38f9d3db5c17row3_col4\" class=\"data row3 col4\" >0.7660</td>\n",
       "                        <td id=\"T_be0deada_ccf6_11ea_a23e_38f9d3db5c17row3_col5\" class=\"data row3 col5\" >0.6232</td>\n",
       "                        <td id=\"T_be0deada_ccf6_11ea_a23e_38f9d3db5c17row3_col6\" class=\"data row3 col6\" >0.6236</td>\n",
       "            </tr>\n",
       "            <tr>\n",
       "                        <th id=\"T_be0deada_ccf6_11ea_a23e_38f9d3db5c17level0_row4\" class=\"row_heading level0 row4\" >4</th>\n",
       "                        <td id=\"T_be0deada_ccf6_11ea_a23e_38f9d3db5c17row4_col0\" class=\"data row4 col0\" >0.8065</td>\n",
       "                        <td id=\"T_be0deada_ccf6_11ea_a23e_38f9d3db5c17row4_col1\" class=\"data row4 col1\" >0.8070</td>\n",
       "                        <td id=\"T_be0deada_ccf6_11ea_a23e_38f9d3db5c17row4_col2\" class=\"data row4 col2\" >0.6667</td>\n",
       "                        <td id=\"T_be0deada_ccf6_11ea_a23e_38f9d3db5c17row4_col3\" class=\"data row4 col3\" >0.8000</td>\n",
       "                        <td id=\"T_be0deada_ccf6_11ea_a23e_38f9d3db5c17row4_col4\" class=\"data row4 col4\" >0.7273</td>\n",
       "                        <td id=\"T_be0deada_ccf6_11ea_a23e_38f9d3db5c17row4_col5\" class=\"data row4 col5\" >0.5792</td>\n",
       "                        <td id=\"T_be0deada_ccf6_11ea_a23e_38f9d3db5c17row4_col6\" class=\"data row4 col6\" >0.5850</td>\n",
       "            </tr>\n",
       "            <tr>\n",
       "                        <th id=\"T_be0deada_ccf6_11ea_a23e_38f9d3db5c17level0_row5\" class=\"row_heading level0 row5\" >5</th>\n",
       "                        <td id=\"T_be0deada_ccf6_11ea_a23e_38f9d3db5c17row5_col0\" class=\"data row5 col0\" >0.8226</td>\n",
       "                        <td id=\"T_be0deada_ccf6_11ea_a23e_38f9d3db5c17row5_col1\" class=\"data row5 col1\" >0.8904</td>\n",
       "                        <td id=\"T_be0deada_ccf6_11ea_a23e_38f9d3db5c17row5_col2\" class=\"data row5 col2\" >0.7500</td>\n",
       "                        <td id=\"T_be0deada_ccf6_11ea_a23e_38f9d3db5c17row5_col3\" class=\"data row5 col3\" >0.7826</td>\n",
       "                        <td id=\"T_be0deada_ccf6_11ea_a23e_38f9d3db5c17row5_col4\" class=\"data row5 col4\" >0.7660</td>\n",
       "                        <td id=\"T_be0deada_ccf6_11ea_a23e_38f9d3db5c17row5_col5\" class=\"data row5 col5\" >0.6232</td>\n",
       "                        <td id=\"T_be0deada_ccf6_11ea_a23e_38f9d3db5c17row5_col6\" class=\"data row5 col6\" >0.6236</td>\n",
       "            </tr>\n",
       "            <tr>\n",
       "                        <th id=\"T_be0deada_ccf6_11ea_a23e_38f9d3db5c17level0_row6\" class=\"row_heading level0 row6\" >6</th>\n",
       "                        <td id=\"T_be0deada_ccf6_11ea_a23e_38f9d3db5c17row6_col0\" class=\"data row6 col0\" >0.8710</td>\n",
       "                        <td id=\"T_be0deada_ccf6_11ea_a23e_38f9d3db5c17row6_col1\" class=\"data row6 col1\" >0.8481</td>\n",
       "                        <td id=\"T_be0deada_ccf6_11ea_a23e_38f9d3db5c17row6_col2\" class=\"data row6 col2\" >0.7083</td>\n",
       "                        <td id=\"T_be0deada_ccf6_11ea_a23e_38f9d3db5c17row6_col3\" class=\"data row6 col3\" >0.9444</td>\n",
       "                        <td id=\"T_be0deada_ccf6_11ea_a23e_38f9d3db5c17row6_col4\" class=\"data row6 col4\" >0.8095</td>\n",
       "                        <td id=\"T_be0deada_ccf6_11ea_a23e_38f9d3db5c17row6_col5\" class=\"data row6 col5\" >0.7149</td>\n",
       "                        <td id=\"T_be0deada_ccf6_11ea_a23e_38f9d3db5c17row6_col6\" class=\"data row6 col6\" >0.7319</td>\n",
       "            </tr>\n",
       "            <tr>\n",
       "                        <th id=\"T_be0deada_ccf6_11ea_a23e_38f9d3db5c17level0_row7\" class=\"row_heading level0 row7\" >7</th>\n",
       "                        <td id=\"T_be0deada_ccf6_11ea_a23e_38f9d3db5c17row7_col0\" class=\"data row7 col0\" >0.8387</td>\n",
       "                        <td id=\"T_be0deada_ccf6_11ea_a23e_38f9d3db5c17row7_col1\" class=\"data row7 col1\" >0.8887</td>\n",
       "                        <td id=\"T_be0deada_ccf6_11ea_a23e_38f9d3db5c17row7_col2\" class=\"data row7 col2\" >0.8333</td>\n",
       "                        <td id=\"T_be0deada_ccf6_11ea_a23e_38f9d3db5c17row7_col3\" class=\"data row7 col3\" >0.7692</td>\n",
       "                        <td id=\"T_be0deada_ccf6_11ea_a23e_38f9d3db5c17row7_col4\" class=\"data row7 col4\" >0.8000</td>\n",
       "                        <td id=\"T_be0deada_ccf6_11ea_a23e_38f9d3db5c17row7_col5\" class=\"data row7 col5\" >0.6652</td>\n",
       "                        <td id=\"T_be0deada_ccf6_11ea_a23e_38f9d3db5c17row7_col6\" class=\"data row7 col6\" >0.6667</td>\n",
       "            </tr>\n",
       "            <tr>\n",
       "                        <th id=\"T_be0deada_ccf6_11ea_a23e_38f9d3db5c17level0_row8\" class=\"row_heading level0 row8\" >8</th>\n",
       "                        <td id=\"T_be0deada_ccf6_11ea_a23e_38f9d3db5c17row8_col0\" class=\"data row8 col0\" >0.6935</td>\n",
       "                        <td id=\"T_be0deada_ccf6_11ea_a23e_38f9d3db5c17row8_col1\" class=\"data row8 col1\" >0.7604</td>\n",
       "                        <td id=\"T_be0deada_ccf6_11ea_a23e_38f9d3db5c17row8_col2\" class=\"data row8 col2\" >0.5833</td>\n",
       "                        <td id=\"T_be0deada_ccf6_11ea_a23e_38f9d3db5c17row8_col3\" class=\"data row8 col3\" >0.6087</td>\n",
       "                        <td id=\"T_be0deada_ccf6_11ea_a23e_38f9d3db5c17row8_col4\" class=\"data row8 col4\" >0.5957</td>\n",
       "                        <td id=\"T_be0deada_ccf6_11ea_a23e_38f9d3db5c17row8_col5\" class=\"data row8 col5\" >0.3492</td>\n",
       "                        <td id=\"T_be0deada_ccf6_11ea_a23e_38f9d3db5c17row8_col6\" class=\"data row8 col6\" >0.3494</td>\n",
       "            </tr>\n",
       "            <tr>\n",
       "                        <th id=\"T_be0deada_ccf6_11ea_a23e_38f9d3db5c17level0_row9\" class=\"row_heading level0 row9\" >9</th>\n",
       "                        <td id=\"T_be0deada_ccf6_11ea_a23e_38f9d3db5c17row9_col0\" class=\"data row9 col0\" >0.8065</td>\n",
       "                        <td id=\"T_be0deada_ccf6_11ea_a23e_38f9d3db5c17row9_col1\" class=\"data row9 col1\" >0.8857</td>\n",
       "                        <td id=\"T_be0deada_ccf6_11ea_a23e_38f9d3db5c17row9_col2\" class=\"data row9 col2\" >0.7391</td>\n",
       "                        <td id=\"T_be0deada_ccf6_11ea_a23e_38f9d3db5c17row9_col3\" class=\"data row9 col3\" >0.7391</td>\n",
       "                        <td id=\"T_be0deada_ccf6_11ea_a23e_38f9d3db5c17row9_col4\" class=\"data row9 col4\" >0.7391</td>\n",
       "                        <td id=\"T_be0deada_ccf6_11ea_a23e_38f9d3db5c17row9_col5\" class=\"data row9 col5\" >0.5853</td>\n",
       "                        <td id=\"T_be0deada_ccf6_11ea_a23e_38f9d3db5c17row9_col6\" class=\"data row9 col6\" >0.5853</td>\n",
       "            </tr>\n",
       "            <tr>\n",
       "                        <th id=\"T_be0deada_ccf6_11ea_a23e_38f9d3db5c17level0_row10\" class=\"row_heading level0 row10\" >Mean</th>\n",
       "                        <td id=\"T_be0deada_ccf6_11ea_a23e_38f9d3db5c17row10_col0\" class=\"data row10 col0\" >0.8106</td>\n",
       "                        <td id=\"T_be0deada_ccf6_11ea_a23e_38f9d3db5c17row10_col1\" class=\"data row10 col1\" >0.8469</td>\n",
       "                        <td id=\"T_be0deada_ccf6_11ea_a23e_38f9d3db5c17row10_col2\" class=\"data row10 col2\" >0.7031</td>\n",
       "                        <td id=\"T_be0deada_ccf6_11ea_a23e_38f9d3db5c17row10_col3\" class=\"data row10 col3\" >0.7878</td>\n",
       "                        <td id=\"T_be0deada_ccf6_11ea_a23e_38f9d3db5c17row10_col4\" class=\"data row10 col4\" >0.7402</td>\n",
       "                        <td id=\"T_be0deada_ccf6_11ea_a23e_38f9d3db5c17row10_col5\" class=\"data row10 col5\" >0.5921</td>\n",
       "                        <td id=\"T_be0deada_ccf6_11ea_a23e_38f9d3db5c17row10_col6\" class=\"data row10 col6\" >0.5971</td>\n",
       "            </tr>\n",
       "            <tr>\n",
       "                        <th id=\"T_be0deada_ccf6_11ea_a23e_38f9d3db5c17level0_row11\" class=\"row_heading level0 row11\" >SD</th>\n",
       "                        <td id=\"T_be0deada_ccf6_11ea_a23e_38f9d3db5c17row11_col0\" class=\"data row11 col0\" >0.0444</td>\n",
       "                        <td id=\"T_be0deada_ccf6_11ea_a23e_38f9d3db5c17row11_col1\" class=\"data row11 col1\" >0.0499</td>\n",
       "                        <td id=\"T_be0deada_ccf6_11ea_a23e_38f9d3db5c17row11_col2\" class=\"data row11 col2\" >0.0677</td>\n",
       "                        <td id=\"T_be0deada_ccf6_11ea_a23e_38f9d3db5c17row11_col3\" class=\"data row11 col3\" >0.0837</td>\n",
       "                        <td id=\"T_be0deada_ccf6_11ea_a23e_38f9d3db5c17row11_col4\" class=\"data row11 col4\" >0.0575</td>\n",
       "                        <td id=\"T_be0deada_ccf6_11ea_a23e_38f9d3db5c17row11_col5\" class=\"data row11 col5\" >0.0932</td>\n",
       "                        <td id=\"T_be0deada_ccf6_11ea_a23e_38f9d3db5c17row11_col6\" class=\"data row11 col6\" >0.0960</td>\n",
       "            </tr>\n",
       "    </tbody></table>"
      ],
      "text/plain": [
       "<pandas.io.formats.style.Styler at 0x12cd845b0>"
      ]
     },
     "metadata": {},
     "output_type": "display_data"
    }
   ],
   "source": [
    "# create a model \n",
    "# 'lr'        Logistic Regression             \n",
    "# 'knn'       K Nearest Neighbour            \n",
    "# 'nb'        Naive Bayes             \n",
    "# 'dt'        Decision Tree Classifier                   \n",
    "# 'svm'       SVM - Linear Kernel                 \n",
    "# 'rbfsvm'    SVM - Radial Kernel               \n",
    "# 'gpc'       Gaussian Process Classifier                  \n",
    "# 'mlp'       Multi Level Perceptron                  \n",
    "# 'ridge'     Ridge Classifier                \n",
    "# 'rf'        Random Forest Classifier                   \n",
    "# 'qda'       Quadratic Discriminant Analysis                  \n",
    "# 'ada'       Ada Boost Classifier                 \n",
    "# 'gbc'       Gradient Boosting Classifier                  \n",
    "# 'lda'       Linear Discriminant Analysis                  \n",
    "# 'et'        Extra Trees Classifier                   \n",
    "# 'xgboost'   Extreme Gradient Boosting              \n",
    "# 'lightgbm'  Light Gradient Boosting              \n",
    "# 'catboost'  CatBoost Classifier   \n",
    "classification_model = classification.create_model(\n",
    "    estimator='rf'\n",
    ")"
   ]
  },
  {
   "cell_type": "code",
   "execution_count": 12,
   "metadata": {},
   "outputs": [
    {
     "data": {
      "text/html": [
       "<style  type=\"text/css\" >\n",
       "    #T_c9e8412a_ccf6_11ea_a23e_38f9d3db5c17row10_col0 {\n",
       "            background:  yellow;\n",
       "        }    #T_c9e8412a_ccf6_11ea_a23e_38f9d3db5c17row10_col1 {\n",
       "            background:  yellow;\n",
       "        }    #T_c9e8412a_ccf6_11ea_a23e_38f9d3db5c17row10_col2 {\n",
       "            background:  yellow;\n",
       "        }    #T_c9e8412a_ccf6_11ea_a23e_38f9d3db5c17row10_col3 {\n",
       "            background:  yellow;\n",
       "        }    #T_c9e8412a_ccf6_11ea_a23e_38f9d3db5c17row10_col4 {\n",
       "            background:  yellow;\n",
       "        }    #T_c9e8412a_ccf6_11ea_a23e_38f9d3db5c17row10_col5 {\n",
       "            background:  yellow;\n",
       "        }    #T_c9e8412a_ccf6_11ea_a23e_38f9d3db5c17row10_col6 {\n",
       "            background:  yellow;\n",
       "        }</style><table id=\"T_c9e8412a_ccf6_11ea_a23e_38f9d3db5c17\" ><thead>    <tr>        <th class=\"blank level0\" ></th>        <th class=\"col_heading level0 col0\" >Accuracy</th>        <th class=\"col_heading level0 col1\" >AUC</th>        <th class=\"col_heading level0 col2\" >Recall</th>        <th class=\"col_heading level0 col3\" >Prec.</th>        <th class=\"col_heading level0 col4\" >F1</th>        <th class=\"col_heading level0 col5\" >Kappa</th>        <th class=\"col_heading level0 col6\" >MCC</th>    </tr></thead><tbody>\n",
       "                <tr>\n",
       "                        <th id=\"T_c9e8412a_ccf6_11ea_a23e_38f9d3db5c17level0_row0\" class=\"row_heading level0 row0\" >0</th>\n",
       "                        <td id=\"T_c9e8412a_ccf6_11ea_a23e_38f9d3db5c17row0_col0\" class=\"data row0 col0\" >0.8095</td>\n",
       "                        <td id=\"T_c9e8412a_ccf6_11ea_a23e_38f9d3db5c17row0_col1\" class=\"data row0 col1\" >0.8851</td>\n",
       "                        <td id=\"T_c9e8412a_ccf6_11ea_a23e_38f9d3db5c17row0_col2\" class=\"data row0 col2\" >0.6250</td>\n",
       "                        <td id=\"T_c9e8412a_ccf6_11ea_a23e_38f9d3db5c17row0_col3\" class=\"data row0 col3\" >0.8333</td>\n",
       "                        <td id=\"T_c9e8412a_ccf6_11ea_a23e_38f9d3db5c17row0_col4\" class=\"data row0 col4\" >0.7143</td>\n",
       "                        <td id=\"T_c9e8412a_ccf6_11ea_a23e_38f9d3db5c17row0_col5\" class=\"data row0 col5\" >0.5758</td>\n",
       "                        <td id=\"T_c9e8412a_ccf6_11ea_a23e_38f9d3db5c17row0_col6\" class=\"data row0 col6\" >0.5892</td>\n",
       "            </tr>\n",
       "            <tr>\n",
       "                        <th id=\"T_c9e8412a_ccf6_11ea_a23e_38f9d3db5c17level0_row1\" class=\"row_heading level0 row1\" >1</th>\n",
       "                        <td id=\"T_c9e8412a_ccf6_11ea_a23e_38f9d3db5c17row1_col0\" class=\"data row1 col0\" >0.7937</td>\n",
       "                        <td id=\"T_c9e8412a_ccf6_11ea_a23e_38f9d3db5c17row1_col1\" class=\"data row1 col1\" >0.7826</td>\n",
       "                        <td id=\"T_c9e8412a_ccf6_11ea_a23e_38f9d3db5c17row1_col2\" class=\"data row1 col2\" >0.7083</td>\n",
       "                        <td id=\"T_c9e8412a_ccf6_11ea_a23e_38f9d3db5c17row1_col3\" class=\"data row1 col3\" >0.7391</td>\n",
       "                        <td id=\"T_c9e8412a_ccf6_11ea_a23e_38f9d3db5c17row1_col4\" class=\"data row1 col4\" >0.7234</td>\n",
       "                        <td id=\"T_c9e8412a_ccf6_11ea_a23e_38f9d3db5c17row1_col5\" class=\"data row1 col5\" >0.5590</td>\n",
       "                        <td id=\"T_c9e8412a_ccf6_11ea_a23e_38f9d3db5c17row1_col6\" class=\"data row1 col6\" >0.5593</td>\n",
       "            </tr>\n",
       "            <tr>\n",
       "                        <th id=\"T_c9e8412a_ccf6_11ea_a23e_38f9d3db5c17level0_row2\" class=\"row_heading level0 row2\" >2</th>\n",
       "                        <td id=\"T_c9e8412a_ccf6_11ea_a23e_38f9d3db5c17row2_col0\" class=\"data row2 col0\" >0.8889</td>\n",
       "                        <td id=\"T_c9e8412a_ccf6_11ea_a23e_38f9d3db5c17row2_col1\" class=\"data row2 col1\" >0.9279</td>\n",
       "                        <td id=\"T_c9e8412a_ccf6_11ea_a23e_38f9d3db5c17row2_col2\" class=\"data row2 col2\" >0.7917</td>\n",
       "                        <td id=\"T_c9e8412a_ccf6_11ea_a23e_38f9d3db5c17row2_col3\" class=\"data row2 col3\" >0.9048</td>\n",
       "                        <td id=\"T_c9e8412a_ccf6_11ea_a23e_38f9d3db5c17row2_col4\" class=\"data row2 col4\" >0.8444</td>\n",
       "                        <td id=\"T_c9e8412a_ccf6_11ea_a23e_38f9d3db5c17row2_col5\" class=\"data row2 col5\" >0.7586</td>\n",
       "                        <td id=\"T_c9e8412a_ccf6_11ea_a23e_38f9d3db5c17row2_col6\" class=\"data row2 col6\" >0.7627</td>\n",
       "            </tr>\n",
       "            <tr>\n",
       "                        <th id=\"T_c9e8412a_ccf6_11ea_a23e_38f9d3db5c17level0_row3\" class=\"row_heading level0 row3\" >3</th>\n",
       "                        <td id=\"T_c9e8412a_ccf6_11ea_a23e_38f9d3db5c17row3_col0\" class=\"data row3 col0\" >0.8065</td>\n",
       "                        <td id=\"T_c9e8412a_ccf6_11ea_a23e_38f9d3db5c17row3_col1\" class=\"data row3 col1\" >0.8925</td>\n",
       "                        <td id=\"T_c9e8412a_ccf6_11ea_a23e_38f9d3db5c17row3_col2\" class=\"data row3 col2\" >0.7500</td>\n",
       "                        <td id=\"T_c9e8412a_ccf6_11ea_a23e_38f9d3db5c17row3_col3\" class=\"data row3 col3\" >0.7500</td>\n",
       "                        <td id=\"T_c9e8412a_ccf6_11ea_a23e_38f9d3db5c17row3_col4\" class=\"data row3 col4\" >0.7500</td>\n",
       "                        <td id=\"T_c9e8412a_ccf6_11ea_a23e_38f9d3db5c17row3_col5\" class=\"data row3 col5\" >0.5921</td>\n",
       "                        <td id=\"T_c9e8412a_ccf6_11ea_a23e_38f9d3db5c17row3_col6\" class=\"data row3 col6\" >0.5921</td>\n",
       "            </tr>\n",
       "            <tr>\n",
       "                        <th id=\"T_c9e8412a_ccf6_11ea_a23e_38f9d3db5c17level0_row4\" class=\"row_heading level0 row4\" >4</th>\n",
       "                        <td id=\"T_c9e8412a_ccf6_11ea_a23e_38f9d3db5c17row4_col0\" class=\"data row4 col0\" >0.7742</td>\n",
       "                        <td id=\"T_c9e8412a_ccf6_11ea_a23e_38f9d3db5c17row4_col1\" class=\"data row4 col1\" >0.8503</td>\n",
       "                        <td id=\"T_c9e8412a_ccf6_11ea_a23e_38f9d3db5c17row4_col2\" class=\"data row4 col2\" >0.7083</td>\n",
       "                        <td id=\"T_c9e8412a_ccf6_11ea_a23e_38f9d3db5c17row4_col3\" class=\"data row4 col3\" >0.7083</td>\n",
       "                        <td id=\"T_c9e8412a_ccf6_11ea_a23e_38f9d3db5c17row4_col4\" class=\"data row4 col4\" >0.7083</td>\n",
       "                        <td id=\"T_c9e8412a_ccf6_11ea_a23e_38f9d3db5c17row4_col5\" class=\"data row4 col5\" >0.5241</td>\n",
       "                        <td id=\"T_c9e8412a_ccf6_11ea_a23e_38f9d3db5c17row4_col6\" class=\"data row4 col6\" >0.5241</td>\n",
       "            </tr>\n",
       "            <tr>\n",
       "                        <th id=\"T_c9e8412a_ccf6_11ea_a23e_38f9d3db5c17level0_row5\" class=\"row_heading level0 row5\" >5</th>\n",
       "                        <td id=\"T_c9e8412a_ccf6_11ea_a23e_38f9d3db5c17row5_col0\" class=\"data row5 col0\" >0.8065</td>\n",
       "                        <td id=\"T_c9e8412a_ccf6_11ea_a23e_38f9d3db5c17row5_col1\" class=\"data row5 col1\" >0.9156</td>\n",
       "                        <td id=\"T_c9e8412a_ccf6_11ea_a23e_38f9d3db5c17row5_col2\" class=\"data row5 col2\" >0.7083</td>\n",
       "                        <td id=\"T_c9e8412a_ccf6_11ea_a23e_38f9d3db5c17row5_col3\" class=\"data row5 col3\" >0.7727</td>\n",
       "                        <td id=\"T_c9e8412a_ccf6_11ea_a23e_38f9d3db5c17row5_col4\" class=\"data row5 col4\" >0.7391</td>\n",
       "                        <td id=\"T_c9e8412a_ccf6_11ea_a23e_38f9d3db5c17row5_col5\" class=\"data row5 col5\" >0.5857</td>\n",
       "                        <td id=\"T_c9e8412a_ccf6_11ea_a23e_38f9d3db5c17row5_col6\" class=\"data row5 col6\" >0.5871</td>\n",
       "            </tr>\n",
       "            <tr>\n",
       "                        <th id=\"T_c9e8412a_ccf6_11ea_a23e_38f9d3db5c17level0_row6\" class=\"row_heading level0 row6\" >6</th>\n",
       "                        <td id=\"T_c9e8412a_ccf6_11ea_a23e_38f9d3db5c17row6_col0\" class=\"data row6 col0\" >0.8226</td>\n",
       "                        <td id=\"T_c9e8412a_ccf6_11ea_a23e_38f9d3db5c17row6_col1\" class=\"data row6 col1\" >0.8026</td>\n",
       "                        <td id=\"T_c9e8412a_ccf6_11ea_a23e_38f9d3db5c17row6_col2\" class=\"data row6 col2\" >0.6667</td>\n",
       "                        <td id=\"T_c9e8412a_ccf6_11ea_a23e_38f9d3db5c17row6_col3\" class=\"data row6 col3\" >0.8421</td>\n",
       "                        <td id=\"T_c9e8412a_ccf6_11ea_a23e_38f9d3db5c17row6_col4\" class=\"data row6 col4\" >0.7442</td>\n",
       "                        <td id=\"T_c9e8412a_ccf6_11ea_a23e_38f9d3db5c17row6_col5\" class=\"data row6 col5\" >0.6112</td>\n",
       "                        <td id=\"T_c9e8412a_ccf6_11ea_a23e_38f9d3db5c17row6_col6\" class=\"data row6 col6\" >0.6209</td>\n",
       "            </tr>\n",
       "            <tr>\n",
       "                        <th id=\"T_c9e8412a_ccf6_11ea_a23e_38f9d3db5c17level0_row7\" class=\"row_heading level0 row7\" >7</th>\n",
       "                        <td id=\"T_c9e8412a_ccf6_11ea_a23e_38f9d3db5c17row7_col0\" class=\"data row7 col0\" >0.8710</td>\n",
       "                        <td id=\"T_c9e8412a_ccf6_11ea_a23e_38f9d3db5c17row7_col1\" class=\"data row7 col1\" >0.8810</td>\n",
       "                        <td id=\"T_c9e8412a_ccf6_11ea_a23e_38f9d3db5c17row7_col2\" class=\"data row7 col2\" >0.8333</td>\n",
       "                        <td id=\"T_c9e8412a_ccf6_11ea_a23e_38f9d3db5c17row7_col3\" class=\"data row7 col3\" >0.8333</td>\n",
       "                        <td id=\"T_c9e8412a_ccf6_11ea_a23e_38f9d3db5c17row7_col4\" class=\"data row7 col4\" >0.8333</td>\n",
       "                        <td id=\"T_c9e8412a_ccf6_11ea_a23e_38f9d3db5c17row7_col5\" class=\"data row7 col5\" >0.7281</td>\n",
       "                        <td id=\"T_c9e8412a_ccf6_11ea_a23e_38f9d3db5c17row7_col6\" class=\"data row7 col6\" >0.7281</td>\n",
       "            </tr>\n",
       "            <tr>\n",
       "                        <th id=\"T_c9e8412a_ccf6_11ea_a23e_38f9d3db5c17level0_row8\" class=\"row_heading level0 row8\" >8</th>\n",
       "                        <td id=\"T_c9e8412a_ccf6_11ea_a23e_38f9d3db5c17row8_col0\" class=\"data row8 col0\" >0.7581</td>\n",
       "                        <td id=\"T_c9e8412a_ccf6_11ea_a23e_38f9d3db5c17row8_col1\" class=\"data row8 col1\" >0.7900</td>\n",
       "                        <td id=\"T_c9e8412a_ccf6_11ea_a23e_38f9d3db5c17row8_col2\" class=\"data row8 col2\" >0.6250</td>\n",
       "                        <td id=\"T_c9e8412a_ccf6_11ea_a23e_38f9d3db5c17row8_col3\" class=\"data row8 col3\" >0.7143</td>\n",
       "                        <td id=\"T_c9e8412a_ccf6_11ea_a23e_38f9d3db5c17row8_col4\" class=\"data row8 col4\" >0.6667</td>\n",
       "                        <td id=\"T_c9e8412a_ccf6_11ea_a23e_38f9d3db5c17row8_col5\" class=\"data row8 col5\" >0.4781</td>\n",
       "                        <td id=\"T_c9e8412a_ccf6_11ea_a23e_38f9d3db5c17row8_col6\" class=\"data row8 col6\" >0.4807</td>\n",
       "            </tr>\n",
       "            <tr>\n",
       "                        <th id=\"T_c9e8412a_ccf6_11ea_a23e_38f9d3db5c17level0_row9\" class=\"row_heading level0 row9\" >9</th>\n",
       "                        <td id=\"T_c9e8412a_ccf6_11ea_a23e_38f9d3db5c17row9_col0\" class=\"data row9 col0\" >0.8226</td>\n",
       "                        <td id=\"T_c9e8412a_ccf6_11ea_a23e_38f9d3db5c17row9_col1\" class=\"data row9 col1\" >0.8896</td>\n",
       "                        <td id=\"T_c9e8412a_ccf6_11ea_a23e_38f9d3db5c17row9_col2\" class=\"data row9 col2\" >0.6957</td>\n",
       "                        <td id=\"T_c9e8412a_ccf6_11ea_a23e_38f9d3db5c17row9_col3\" class=\"data row9 col3\" >0.8000</td>\n",
       "                        <td id=\"T_c9e8412a_ccf6_11ea_a23e_38f9d3db5c17row9_col4\" class=\"data row9 col4\" >0.7442</td>\n",
       "                        <td id=\"T_c9e8412a_ccf6_11ea_a23e_38f9d3db5c17row9_col5\" class=\"data row9 col5\" >0.6094</td>\n",
       "                        <td id=\"T_c9e8412a_ccf6_11ea_a23e_38f9d3db5c17row9_col6\" class=\"data row9 col6\" >0.6129</td>\n",
       "            </tr>\n",
       "            <tr>\n",
       "                        <th id=\"T_c9e8412a_ccf6_11ea_a23e_38f9d3db5c17level0_row10\" class=\"row_heading level0 row10\" >Mean</th>\n",
       "                        <td id=\"T_c9e8412a_ccf6_11ea_a23e_38f9d3db5c17row10_col0\" class=\"data row10 col0\" >0.8153</td>\n",
       "                        <td id=\"T_c9e8412a_ccf6_11ea_a23e_38f9d3db5c17row10_col1\" class=\"data row10 col1\" >0.8617</td>\n",
       "                        <td id=\"T_c9e8412a_ccf6_11ea_a23e_38f9d3db5c17row10_col2\" class=\"data row10 col2\" >0.7112</td>\n",
       "                        <td id=\"T_c9e8412a_ccf6_11ea_a23e_38f9d3db5c17row10_col3\" class=\"data row10 col3\" >0.7898</td>\n",
       "                        <td id=\"T_c9e8412a_ccf6_11ea_a23e_38f9d3db5c17row10_col4\" class=\"data row10 col4\" >0.7468</td>\n",
       "                        <td id=\"T_c9e8412a_ccf6_11ea_a23e_38f9d3db5c17row10_col5\" class=\"data row10 col5\" >0.6022</td>\n",
       "                        <td id=\"T_c9e8412a_ccf6_11ea_a23e_38f9d3db5c17row10_col6\" class=\"data row10 col6\" >0.6057</td>\n",
       "            </tr>\n",
       "            <tr>\n",
       "                        <th id=\"T_c9e8412a_ccf6_11ea_a23e_38f9d3db5c17level0_row11\" class=\"row_heading level0 row11\" >SD</th>\n",
       "                        <td id=\"T_c9e8412a_ccf6_11ea_a23e_38f9d3db5c17row11_col0\" class=\"data row11 col0\" >0.0377</td>\n",
       "                        <td id=\"T_c9e8412a_ccf6_11ea_a23e_38f9d3db5c17row11_col1\" class=\"data row11 col1\" >0.0500</td>\n",
       "                        <td id=\"T_c9e8412a_ccf6_11ea_a23e_38f9d3db5c17row11_col2\" class=\"data row11 col2\" >0.0633</td>\n",
       "                        <td id=\"T_c9e8412a_ccf6_11ea_a23e_38f9d3db5c17row11_col3\" class=\"data row11 col3\" >0.0605</td>\n",
       "                        <td id=\"T_c9e8412a_ccf6_11ea_a23e_38f9d3db5c17row11_col4\" class=\"data row11 col4\" >0.0516</td>\n",
       "                        <td id=\"T_c9e8412a_ccf6_11ea_a23e_38f9d3db5c17row11_col5\" class=\"data row11 col5\" >0.0805</td>\n",
       "                        <td id=\"T_c9e8412a_ccf6_11ea_a23e_38f9d3db5c17row11_col6\" class=\"data row11 col6\" >0.0807</td>\n",
       "            </tr>\n",
       "    </tbody></table>"
      ],
      "text/plain": [
       "<pandas.io.formats.style.Styler at 0x12f69db20>"
      ]
     },
     "metadata": {},
     "output_type": "display_data"
    }
   ],
   "source": [
    "# automatically tune model\n",
    "tuned_classification_model = classification.tune_model(\n",
    "    estimator=classification_model,\n",
    "    n_iter=100\n",
    ")"
   ]
  },
  {
   "cell_type": "code",
   "execution_count": 13,
   "metadata": {},
   "outputs": [
    {
     "data": {
      "text/html": [
       "<style  type=\"text/css\" >\n",
       "    #T_cd0eb848_ccf6_11ea_a23e_38f9d3db5c17row10_col0 {\n",
       "            background:  yellow;\n",
       "        }    #T_cd0eb848_ccf6_11ea_a23e_38f9d3db5c17row10_col1 {\n",
       "            background:  yellow;\n",
       "        }    #T_cd0eb848_ccf6_11ea_a23e_38f9d3db5c17row10_col2 {\n",
       "            background:  yellow;\n",
       "        }    #T_cd0eb848_ccf6_11ea_a23e_38f9d3db5c17row10_col3 {\n",
       "            background:  yellow;\n",
       "        }    #T_cd0eb848_ccf6_11ea_a23e_38f9d3db5c17row10_col4 {\n",
       "            background:  yellow;\n",
       "        }    #T_cd0eb848_ccf6_11ea_a23e_38f9d3db5c17row10_col5 {\n",
       "            background:  yellow;\n",
       "        }    #T_cd0eb848_ccf6_11ea_a23e_38f9d3db5c17row10_col6 {\n",
       "            background:  yellow;\n",
       "        }</style><table id=\"T_cd0eb848_ccf6_11ea_a23e_38f9d3db5c17\" ><thead>    <tr>        <th class=\"blank level0\" ></th>        <th class=\"col_heading level0 col0\" >Accuracy</th>        <th class=\"col_heading level0 col1\" >AUC</th>        <th class=\"col_heading level0 col2\" >Recall</th>        <th class=\"col_heading level0 col3\" >Prec.</th>        <th class=\"col_heading level0 col4\" >F1</th>        <th class=\"col_heading level0 col5\" >Kappa</th>        <th class=\"col_heading level0 col6\" >MCC</th>    </tr></thead><tbody>\n",
       "                <tr>\n",
       "                        <th id=\"T_cd0eb848_ccf6_11ea_a23e_38f9d3db5c17level0_row0\" class=\"row_heading level0 row0\" >0</th>\n",
       "                        <td id=\"T_cd0eb848_ccf6_11ea_a23e_38f9d3db5c17row0_col0\" class=\"data row0 col0\" >0.8254</td>\n",
       "                        <td id=\"T_cd0eb848_ccf6_11ea_a23e_38f9d3db5c17row0_col1\" class=\"data row0 col1\" >0.8627</td>\n",
       "                        <td id=\"T_cd0eb848_ccf6_11ea_a23e_38f9d3db5c17row0_col2\" class=\"data row0 col2\" >0.5833</td>\n",
       "                        <td id=\"T_cd0eb848_ccf6_11ea_a23e_38f9d3db5c17row0_col3\" class=\"data row0 col3\" >0.9333</td>\n",
       "                        <td id=\"T_cd0eb848_ccf6_11ea_a23e_38f9d3db5c17row0_col4\" class=\"data row0 col4\" >0.7179</td>\n",
       "                        <td id=\"T_cd0eb848_ccf6_11ea_a23e_38f9d3db5c17row0_col5\" class=\"data row0 col5\" >0.6010</td>\n",
       "                        <td id=\"T_cd0eb848_ccf6_11ea_a23e_38f9d3db5c17row0_col6\" class=\"data row0 col6\" >0.6359</td>\n",
       "            </tr>\n",
       "            <tr>\n",
       "                        <th id=\"T_cd0eb848_ccf6_11ea_a23e_38f9d3db5c17level0_row1\" class=\"row_heading level0 row1\" >1</th>\n",
       "                        <td id=\"T_cd0eb848_ccf6_11ea_a23e_38f9d3db5c17row1_col0\" class=\"data row1 col0\" >0.8413</td>\n",
       "                        <td id=\"T_cd0eb848_ccf6_11ea_a23e_38f9d3db5c17row1_col1\" class=\"data row1 col1\" >0.8061</td>\n",
       "                        <td id=\"T_cd0eb848_ccf6_11ea_a23e_38f9d3db5c17row1_col2\" class=\"data row1 col2\" >0.7083</td>\n",
       "                        <td id=\"T_cd0eb848_ccf6_11ea_a23e_38f9d3db5c17row1_col3\" class=\"data row1 col3\" >0.8500</td>\n",
       "                        <td id=\"T_cd0eb848_ccf6_11ea_a23e_38f9d3db5c17row1_col4\" class=\"data row1 col4\" >0.7727</td>\n",
       "                        <td id=\"T_cd0eb848_ccf6_11ea_a23e_38f9d3db5c17row1_col5\" class=\"data row1 col5\" >0.6523</td>\n",
       "                        <td id=\"T_cd0eb848_ccf6_11ea_a23e_38f9d3db5c17row1_col6\" class=\"data row1 col6\" >0.6587</td>\n",
       "            </tr>\n",
       "            <tr>\n",
       "                        <th id=\"T_cd0eb848_ccf6_11ea_a23e_38f9d3db5c17level0_row2\" class=\"row_heading level0 row2\" >2</th>\n",
       "                        <td id=\"T_cd0eb848_ccf6_11ea_a23e_38f9d3db5c17row2_col0\" class=\"data row2 col0\" >0.8730</td>\n",
       "                        <td id=\"T_cd0eb848_ccf6_11ea_a23e_38f9d3db5c17row2_col1\" class=\"data row2 col1\" >0.9380</td>\n",
       "                        <td id=\"T_cd0eb848_ccf6_11ea_a23e_38f9d3db5c17row2_col2\" class=\"data row2 col2\" >0.7500</td>\n",
       "                        <td id=\"T_cd0eb848_ccf6_11ea_a23e_38f9d3db5c17row2_col3\" class=\"data row2 col3\" >0.9000</td>\n",
       "                        <td id=\"T_cd0eb848_ccf6_11ea_a23e_38f9d3db5c17row2_col4\" class=\"data row2 col4\" >0.8182</td>\n",
       "                        <td id=\"T_cd0eb848_ccf6_11ea_a23e_38f9d3db5c17row2_col5\" class=\"data row2 col5\" >0.7219</td>\n",
       "                        <td id=\"T_cd0eb848_ccf6_11ea_a23e_38f9d3db5c17row2_col6\" class=\"data row2 col6\" >0.7289</td>\n",
       "            </tr>\n",
       "            <tr>\n",
       "                        <th id=\"T_cd0eb848_ccf6_11ea_a23e_38f9d3db5c17level0_row3\" class=\"row_heading level0 row3\" >3</th>\n",
       "                        <td id=\"T_cd0eb848_ccf6_11ea_a23e_38f9d3db5c17row3_col0\" class=\"data row3 col0\" >0.7903</td>\n",
       "                        <td id=\"T_cd0eb848_ccf6_11ea_a23e_38f9d3db5c17row3_col1\" class=\"data row3 col1\" >0.8607</td>\n",
       "                        <td id=\"T_cd0eb848_ccf6_11ea_a23e_38f9d3db5c17row3_col2\" class=\"data row3 col2\" >0.7083</td>\n",
       "                        <td id=\"T_cd0eb848_ccf6_11ea_a23e_38f9d3db5c17row3_col3\" class=\"data row3 col3\" >0.7391</td>\n",
       "                        <td id=\"T_cd0eb848_ccf6_11ea_a23e_38f9d3db5c17row3_col4\" class=\"data row3 col4\" >0.7234</td>\n",
       "                        <td id=\"T_cd0eb848_ccf6_11ea_a23e_38f9d3db5c17row3_col5\" class=\"data row3 col5\" >0.5547</td>\n",
       "                        <td id=\"T_cd0eb848_ccf6_11ea_a23e_38f9d3db5c17row3_col6\" class=\"data row3 col6\" >0.5550</td>\n",
       "            </tr>\n",
       "            <tr>\n",
       "                        <th id=\"T_cd0eb848_ccf6_11ea_a23e_38f9d3db5c17level0_row4\" class=\"row_heading level0 row4\" >4</th>\n",
       "                        <td id=\"T_cd0eb848_ccf6_11ea_a23e_38f9d3db5c17row4_col0\" class=\"data row4 col0\" >0.7742</td>\n",
       "                        <td id=\"T_cd0eb848_ccf6_11ea_a23e_38f9d3db5c17row4_col1\" class=\"data row4 col1\" >0.8383</td>\n",
       "                        <td id=\"T_cd0eb848_ccf6_11ea_a23e_38f9d3db5c17row4_col2\" class=\"data row4 col2\" >0.6667</td>\n",
       "                        <td id=\"T_cd0eb848_ccf6_11ea_a23e_38f9d3db5c17row4_col3\" class=\"data row4 col3\" >0.7273</td>\n",
       "                        <td id=\"T_cd0eb848_ccf6_11ea_a23e_38f9d3db5c17row4_col4\" class=\"data row4 col4\" >0.6957</td>\n",
       "                        <td id=\"T_cd0eb848_ccf6_11ea_a23e_38f9d3db5c17row4_col5\" class=\"data row4 col5\" >0.5167</td>\n",
       "                        <td id=\"T_cd0eb848_ccf6_11ea_a23e_38f9d3db5c17row4_col6\" class=\"data row4 col6\" >0.5179</td>\n",
       "            </tr>\n",
       "            <tr>\n",
       "                        <th id=\"T_cd0eb848_ccf6_11ea_a23e_38f9d3db5c17level0_row5\" class=\"row_heading level0 row5\" >5</th>\n",
       "                        <td id=\"T_cd0eb848_ccf6_11ea_a23e_38f9d3db5c17row5_col0\" class=\"data row5 col0\" >0.8548</td>\n",
       "                        <td id=\"T_cd0eb848_ccf6_11ea_a23e_38f9d3db5c17row5_col1\" class=\"data row5 col1\" >0.9287</td>\n",
       "                        <td id=\"T_cd0eb848_ccf6_11ea_a23e_38f9d3db5c17row5_col2\" class=\"data row5 col2\" >0.7917</td>\n",
       "                        <td id=\"T_cd0eb848_ccf6_11ea_a23e_38f9d3db5c17row5_col3\" class=\"data row5 col3\" >0.8261</td>\n",
       "                        <td id=\"T_cd0eb848_ccf6_11ea_a23e_38f9d3db5c17row5_col4\" class=\"data row5 col4\" >0.8085</td>\n",
       "                        <td id=\"T_cd0eb848_ccf6_11ea_a23e_38f9d3db5c17row5_col5\" class=\"data row5 col5\" >0.6917</td>\n",
       "                        <td id=\"T_cd0eb848_ccf6_11ea_a23e_38f9d3db5c17row5_col6\" class=\"data row5 col6\" >0.6921</td>\n",
       "            </tr>\n",
       "            <tr>\n",
       "                        <th id=\"T_cd0eb848_ccf6_11ea_a23e_38f9d3db5c17level0_row6\" class=\"row_heading level0 row6\" >6</th>\n",
       "                        <td id=\"T_cd0eb848_ccf6_11ea_a23e_38f9d3db5c17row6_col0\" class=\"data row6 col0\" >0.8226</td>\n",
       "                        <td id=\"T_cd0eb848_ccf6_11ea_a23e_38f9d3db5c17row6_col1\" class=\"data row6 col1\" >0.7971</td>\n",
       "                        <td id=\"T_cd0eb848_ccf6_11ea_a23e_38f9d3db5c17row6_col2\" class=\"data row6 col2\" >0.6667</td>\n",
       "                        <td id=\"T_cd0eb848_ccf6_11ea_a23e_38f9d3db5c17row6_col3\" class=\"data row6 col3\" >0.8421</td>\n",
       "                        <td id=\"T_cd0eb848_ccf6_11ea_a23e_38f9d3db5c17row6_col4\" class=\"data row6 col4\" >0.7442</td>\n",
       "                        <td id=\"T_cd0eb848_ccf6_11ea_a23e_38f9d3db5c17row6_col5\" class=\"data row6 col5\" >0.6112</td>\n",
       "                        <td id=\"T_cd0eb848_ccf6_11ea_a23e_38f9d3db5c17row6_col6\" class=\"data row6 col6\" >0.6209</td>\n",
       "            </tr>\n",
       "            <tr>\n",
       "                        <th id=\"T_cd0eb848_ccf6_11ea_a23e_38f9d3db5c17level0_row7\" class=\"row_heading level0 row7\" >7</th>\n",
       "                        <td id=\"T_cd0eb848_ccf6_11ea_a23e_38f9d3db5c17row7_col0\" class=\"data row7 col0\" >0.8548</td>\n",
       "                        <td id=\"T_cd0eb848_ccf6_11ea_a23e_38f9d3db5c17row7_col1\" class=\"data row7 col1\" >0.8734</td>\n",
       "                        <td id=\"T_cd0eb848_ccf6_11ea_a23e_38f9d3db5c17row7_col2\" class=\"data row7 col2\" >0.8333</td>\n",
       "                        <td id=\"T_cd0eb848_ccf6_11ea_a23e_38f9d3db5c17row7_col3\" class=\"data row7 col3\" >0.8000</td>\n",
       "                        <td id=\"T_cd0eb848_ccf6_11ea_a23e_38f9d3db5c17row7_col4\" class=\"data row7 col4\" >0.8163</td>\n",
       "                        <td id=\"T_cd0eb848_ccf6_11ea_a23e_38f9d3db5c17row7_col5\" class=\"data row7 col5\" >0.6964</td>\n",
       "                        <td id=\"T_cd0eb848_ccf6_11ea_a23e_38f9d3db5c17row7_col6\" class=\"data row7 col6\" >0.6968</td>\n",
       "            </tr>\n",
       "            <tr>\n",
       "                        <th id=\"T_cd0eb848_ccf6_11ea_a23e_38f9d3db5c17level0_row8\" class=\"row_heading level0 row8\" >8</th>\n",
       "                        <td id=\"T_cd0eb848_ccf6_11ea_a23e_38f9d3db5c17row8_col0\" class=\"data row8 col0\" >0.7581</td>\n",
       "                        <td id=\"T_cd0eb848_ccf6_11ea_a23e_38f9d3db5c17row8_col1\" class=\"data row8 col1\" >0.7939</td>\n",
       "                        <td id=\"T_cd0eb848_ccf6_11ea_a23e_38f9d3db5c17row8_col2\" class=\"data row8 col2\" >0.5833</td>\n",
       "                        <td id=\"T_cd0eb848_ccf6_11ea_a23e_38f9d3db5c17row8_col3\" class=\"data row8 col3\" >0.7368</td>\n",
       "                        <td id=\"T_cd0eb848_ccf6_11ea_a23e_38f9d3db5c17row8_col4\" class=\"data row8 col4\" >0.6512</td>\n",
       "                        <td id=\"T_cd0eb848_ccf6_11ea_a23e_38f9d3db5c17row8_col5\" class=\"data row8 col5\" >0.4698</td>\n",
       "                        <td id=\"T_cd0eb848_ccf6_11ea_a23e_38f9d3db5c17row8_col6\" class=\"data row8 col6\" >0.4773</td>\n",
       "            </tr>\n",
       "            <tr>\n",
       "                        <th id=\"T_cd0eb848_ccf6_11ea_a23e_38f9d3db5c17level0_row9\" class=\"row_heading level0 row9\" >9</th>\n",
       "                        <td id=\"T_cd0eb848_ccf6_11ea_a23e_38f9d3db5c17row9_col0\" class=\"data row9 col0\" >0.8548</td>\n",
       "                        <td id=\"T_cd0eb848_ccf6_11ea_a23e_38f9d3db5c17row9_col1\" class=\"data row9 col1\" >0.9365</td>\n",
       "                        <td id=\"T_cd0eb848_ccf6_11ea_a23e_38f9d3db5c17row9_col2\" class=\"data row9 col2\" >0.6957</td>\n",
       "                        <td id=\"T_cd0eb848_ccf6_11ea_a23e_38f9d3db5c17row9_col3\" class=\"data row9 col3\" >0.8889</td>\n",
       "                        <td id=\"T_cd0eb848_ccf6_11ea_a23e_38f9d3db5c17row9_col4\" class=\"data row9 col4\" >0.7805</td>\n",
       "                        <td id=\"T_cd0eb848_ccf6_11ea_a23e_38f9d3db5c17row9_col5\" class=\"data row9 col5\" >0.6744</td>\n",
       "                        <td id=\"T_cd0eb848_ccf6_11ea_a23e_38f9d3db5c17row9_col6\" class=\"data row9 col6\" >0.6858</td>\n",
       "            </tr>\n",
       "            <tr>\n",
       "                        <th id=\"T_cd0eb848_ccf6_11ea_a23e_38f9d3db5c17level0_row10\" class=\"row_heading level0 row10\" >Mean</th>\n",
       "                        <td id=\"T_cd0eb848_ccf6_11ea_a23e_38f9d3db5c17row10_col0\" class=\"data row10 col0\" >0.8249</td>\n",
       "                        <td id=\"T_cd0eb848_ccf6_11ea_a23e_38f9d3db5c17row10_col1\" class=\"data row10 col1\" >0.8635</td>\n",
       "                        <td id=\"T_cd0eb848_ccf6_11ea_a23e_38f9d3db5c17row10_col2\" class=\"data row10 col2\" >0.6987</td>\n",
       "                        <td id=\"T_cd0eb848_ccf6_11ea_a23e_38f9d3db5c17row10_col3\" class=\"data row10 col3\" >0.8244</td>\n",
       "                        <td id=\"T_cd0eb848_ccf6_11ea_a23e_38f9d3db5c17row10_col4\" class=\"data row10 col4\" >0.7529</td>\n",
       "                        <td id=\"T_cd0eb848_ccf6_11ea_a23e_38f9d3db5c17row10_col5\" class=\"data row10 col5\" >0.6190</td>\n",
       "                        <td id=\"T_cd0eb848_ccf6_11ea_a23e_38f9d3db5c17row10_col6\" class=\"data row10 col6\" >0.6269</td>\n",
       "            </tr>\n",
       "            <tr>\n",
       "                        <th id=\"T_cd0eb848_ccf6_11ea_a23e_38f9d3db5c17level0_row11\" class=\"row_heading level0 row11\" >SD</th>\n",
       "                        <td id=\"T_cd0eb848_ccf6_11ea_a23e_38f9d3db5c17row11_col0\" class=\"data row11 col0\" >0.0368</td>\n",
       "                        <td id=\"T_cd0eb848_ccf6_11ea_a23e_38f9d3db5c17row11_col1\" class=\"data row11 col1\" >0.0533</td>\n",
       "                        <td id=\"T_cd0eb848_ccf6_11ea_a23e_38f9d3db5c17row11_col2\" class=\"data row11 col2\" >0.0763</td>\n",
       "                        <td id=\"T_cd0eb848_ccf6_11ea_a23e_38f9d3db5c17row11_col3\" class=\"data row11 col3\" >0.0690</td>\n",
       "                        <td id=\"T_cd0eb848_ccf6_11ea_a23e_38f9d3db5c17row11_col4\" class=\"data row11 col4\" >0.0532</td>\n",
       "                        <td id=\"T_cd0eb848_ccf6_11ea_a23e_38f9d3db5c17row11_col5\" class=\"data row11 col5\" >0.0796</td>\n",
       "                        <td id=\"T_cd0eb848_ccf6_11ea_a23e_38f9d3db5c17row11_col6\" class=\"data row11 col6\" >0.0797</td>\n",
       "            </tr>\n",
       "    </tbody></table>"
      ],
      "text/plain": [
       "<pandas.io.formats.style.Styler at 0x12f6a4730>"
      ]
     },
     "metadata": {},
     "output_type": "display_data"
    }
   ],
   "source": [
    "# calibrate model\n",
    "calibrated_classification_model = classification.calibrate_model(\n",
    "    estimator=tuned_classification_model\n",
    ")"
   ]
  },
  {
   "cell_type": "code",
   "execution_count": 14,
   "metadata": {},
   "outputs": [
    {
     "data": {
      "application/vnd.jupyter.widget-view+json": {
       "model_id": "23a791eaacf9422b9e3d9d7c8ef12681",
       "version_major": 2,
       "version_minor": 0
      },
      "text/plain": [
       "interactive(children=(ToggleButtons(description='Plot Type:', icons=('',), options=(('Hyperparameters', 'param…"
      ]
     },
     "metadata": {},
     "output_type": "display_data"
    }
   ],
   "source": [
    "# model evaluation plots\n",
    "classification.evaluate_model(\n",
    "    estimator=calibrated_classification_model\n",
    ")"
   ]
  },
  {
   "cell_type": "code",
   "execution_count": 15,
   "metadata": {},
   "outputs": [
    {
     "data": {
      "text/html": [
       "<div>\n",
       "<style scoped>\n",
       "    .dataframe tbody tr th:only-of-type {\n",
       "        vertical-align: middle;\n",
       "    }\n",
       "\n",
       "    .dataframe tbody tr th {\n",
       "        vertical-align: top;\n",
       "    }\n",
       "\n",
       "    .dataframe thead th {\n",
       "        text-align: right;\n",
       "    }\n",
       "</style>\n",
       "<table border=\"1\" class=\"dataframe\">\n",
       "  <thead>\n",
       "    <tr style=\"text-align: right;\">\n",
       "      <th></th>\n",
       "      <th>Model</th>\n",
       "      <th>Accuracy</th>\n",
       "      <th>AUC</th>\n",
       "      <th>Recall</th>\n",
       "      <th>Prec.</th>\n",
       "      <th>F1</th>\n",
       "      <th>Kappa</th>\n",
       "      <th>MCC</th>\n",
       "    </tr>\n",
       "  </thead>\n",
       "  <tbody>\n",
       "    <tr>\n",
       "      <th>0</th>\n",
       "      <td>Calibrated Classifier C V</td>\n",
       "      <td>0.8246</td>\n",
       "      <td>0.8812</td>\n",
       "      <td>0.7184</td>\n",
       "      <td>0.8043</td>\n",
       "      <td>0.759</td>\n",
       "      <td>0.6218</td>\n",
       "      <td>0.6243</td>\n",
       "    </tr>\n",
       "  </tbody>\n",
       "</table>\n",
       "</div>"
      ],
      "text/plain": [
       "                       Model  Accuracy     AUC  Recall   Prec.     F1   Kappa  \\\n",
       "0  Calibrated Classifier C V    0.8246  0.8812  0.7184  0.8043  0.759  0.6218   \n",
       "\n",
       "      MCC  \n",
       "0  0.6243  "
      ]
     },
     "metadata": {},
     "output_type": "display_data"
    }
   ],
   "source": [
    "# test set prediction\n",
    "test_predictions = classification.predict_model(\n",
    "    estimator=calibrated_classification_model,\n",
    ")"
   ]
  },
  {
   "cell_type": "code",
   "execution_count": 16,
   "metadata": {},
   "outputs": [],
   "source": [
    "# finalize model \n",
    "final_classification_model = classification.finalize_model(\n",
    "    estimator=calibrated_classification_model\n",
    ")"
   ]
  },
  {
   "cell_type": "code",
   "execution_count": 17,
   "metadata": {},
   "outputs": [
    {
     "name": "stdout",
     "output_type": "stream",
     "text": [
      "CalibratedClassifierCV(base_estimator=RandomForestClassifier(bootstrap=True,\n",
      "                                                             ccp_alpha=0.0,\n",
      "                                                             class_weight=None,\n",
      "                                                             criterion='entropy',\n",
      "                                                             max_depth=40,\n",
      "                                                             max_features='auto',\n",
      "                                                             max_leaf_nodes=None,\n",
      "                                                             max_samples=None,\n",
      "                                                             min_impurity_decrease=0.0,\n",
      "                                                             min_impurity_split=None,\n",
      "                                                             min_samples_leaf=1,\n",
      "                                                             min_samples_split=9,\n",
      "                                                             min_weight_fraction_leaf=0.0,\n",
      "                                                             n_estimators=20,\n",
      "                                                             n_jobs=-1,\n",
      "                                                             oob_score=False,\n",
      "                                                             random_state=4961,\n",
      "                                                             verbose=0,\n",
      "                                                             warm_start=False),\n",
      "                       cv=10, method='sigmoid')\n"
     ]
    }
   ],
   "source": [
    "# display model\n",
    "print(final_classification_model)"
   ]
  },
  {
   "cell_type": "markdown",
   "metadata": {},
   "source": [
    "# classification (multi-class)"
   ]
  },
  {
   "cell_type": "code",
   "execution_count": 18,
   "metadata": {},
   "outputs": [
    {
     "name": "stdout",
     "output_type": "stream",
     "text": [
      "Setup Succesfully Completed!\n"
     ]
    },
    {
     "data": {
      "text/html": [
       "<style  type=\"text/css\" >\n",
       "    #T_d89a8462_ccf6_11ea_a23e_38f9d3db5c17row15_col1 {\n",
       "            background-color:  lightgreen;\n",
       "        }    #T_d89a8462_ccf6_11ea_a23e_38f9d3db5c17row32_col1 {\n",
       "            background-color:  lightgreen;\n",
       "        }    #T_d89a8462_ccf6_11ea_a23e_38f9d3db5c17row34_col1 {\n",
       "            background-color:  lightgreen;\n",
       "        }</style><table id=\"T_d89a8462_ccf6_11ea_a23e_38f9d3db5c17\" ><thead>    <tr>        <th class=\"blank level0\" ></th>        <th class=\"col_heading level0 col0\" >Description</th>        <th class=\"col_heading level0 col1\" >Value</th>    </tr></thead><tbody>\n",
       "                <tr>\n",
       "                        <th id=\"T_d89a8462_ccf6_11ea_a23e_38f9d3db5c17level0_row0\" class=\"row_heading level0 row0\" >0</th>\n",
       "                        <td id=\"T_d89a8462_ccf6_11ea_a23e_38f9d3db5c17row0_col0\" class=\"data row0 col0\" >session_id</td>\n",
       "                        <td id=\"T_d89a8462_ccf6_11ea_a23e_38f9d3db5c17row0_col1\" class=\"data row0 col1\" >3095</td>\n",
       "            </tr>\n",
       "            <tr>\n",
       "                        <th id=\"T_d89a8462_ccf6_11ea_a23e_38f9d3db5c17level0_row1\" class=\"row_heading level0 row1\" >1</th>\n",
       "                        <td id=\"T_d89a8462_ccf6_11ea_a23e_38f9d3db5c17row1_col0\" class=\"data row1 col0\" >Target Type</td>\n",
       "                        <td id=\"T_d89a8462_ccf6_11ea_a23e_38f9d3db5c17row1_col1\" class=\"data row1 col1\" >Multiclass</td>\n",
       "            </tr>\n",
       "            <tr>\n",
       "                        <th id=\"T_d89a8462_ccf6_11ea_a23e_38f9d3db5c17level0_row2\" class=\"row_heading level0 row2\" >2</th>\n",
       "                        <td id=\"T_d89a8462_ccf6_11ea_a23e_38f9d3db5c17row2_col0\" class=\"data row2 col0\" >Label Encoded</td>\n",
       "                        <td id=\"T_d89a8462_ccf6_11ea_a23e_38f9d3db5c17row2_col1\" class=\"data row2 col1\" >setosa: 0, versicolor: 1, virginica: 2</td>\n",
       "            </tr>\n",
       "            <tr>\n",
       "                        <th id=\"T_d89a8462_ccf6_11ea_a23e_38f9d3db5c17level0_row3\" class=\"row_heading level0 row3\" >3</th>\n",
       "                        <td id=\"T_d89a8462_ccf6_11ea_a23e_38f9d3db5c17row3_col0\" class=\"data row3 col0\" >Original Data</td>\n",
       "                        <td id=\"T_d89a8462_ccf6_11ea_a23e_38f9d3db5c17row3_col1\" class=\"data row3 col1\" >(150, 5)</td>\n",
       "            </tr>\n",
       "            <tr>\n",
       "                        <th id=\"T_d89a8462_ccf6_11ea_a23e_38f9d3db5c17level0_row4\" class=\"row_heading level0 row4\" >4</th>\n",
       "                        <td id=\"T_d89a8462_ccf6_11ea_a23e_38f9d3db5c17row4_col0\" class=\"data row4 col0\" >Missing Values </td>\n",
       "                        <td id=\"T_d89a8462_ccf6_11ea_a23e_38f9d3db5c17row4_col1\" class=\"data row4 col1\" >False</td>\n",
       "            </tr>\n",
       "            <tr>\n",
       "                        <th id=\"T_d89a8462_ccf6_11ea_a23e_38f9d3db5c17level0_row5\" class=\"row_heading level0 row5\" >5</th>\n",
       "                        <td id=\"T_d89a8462_ccf6_11ea_a23e_38f9d3db5c17row5_col0\" class=\"data row5 col0\" >Numeric Features </td>\n",
       "                        <td id=\"T_d89a8462_ccf6_11ea_a23e_38f9d3db5c17row5_col1\" class=\"data row5 col1\" >4</td>\n",
       "            </tr>\n",
       "            <tr>\n",
       "                        <th id=\"T_d89a8462_ccf6_11ea_a23e_38f9d3db5c17level0_row6\" class=\"row_heading level0 row6\" >6</th>\n",
       "                        <td id=\"T_d89a8462_ccf6_11ea_a23e_38f9d3db5c17row6_col0\" class=\"data row6 col0\" >Categorical Features </td>\n",
       "                        <td id=\"T_d89a8462_ccf6_11ea_a23e_38f9d3db5c17row6_col1\" class=\"data row6 col1\" >0</td>\n",
       "            </tr>\n",
       "            <tr>\n",
       "                        <th id=\"T_d89a8462_ccf6_11ea_a23e_38f9d3db5c17level0_row7\" class=\"row_heading level0 row7\" >7</th>\n",
       "                        <td id=\"T_d89a8462_ccf6_11ea_a23e_38f9d3db5c17row7_col0\" class=\"data row7 col0\" >Ordinal Features </td>\n",
       "                        <td id=\"T_d89a8462_ccf6_11ea_a23e_38f9d3db5c17row7_col1\" class=\"data row7 col1\" >False</td>\n",
       "            </tr>\n",
       "            <tr>\n",
       "                        <th id=\"T_d89a8462_ccf6_11ea_a23e_38f9d3db5c17level0_row8\" class=\"row_heading level0 row8\" >8</th>\n",
       "                        <td id=\"T_d89a8462_ccf6_11ea_a23e_38f9d3db5c17row8_col0\" class=\"data row8 col0\" >High Cardinality Features </td>\n",
       "                        <td id=\"T_d89a8462_ccf6_11ea_a23e_38f9d3db5c17row8_col1\" class=\"data row8 col1\" >False</td>\n",
       "            </tr>\n",
       "            <tr>\n",
       "                        <th id=\"T_d89a8462_ccf6_11ea_a23e_38f9d3db5c17level0_row9\" class=\"row_heading level0 row9\" >9</th>\n",
       "                        <td id=\"T_d89a8462_ccf6_11ea_a23e_38f9d3db5c17row9_col0\" class=\"data row9 col0\" >High Cardinality Method </td>\n",
       "                        <td id=\"T_d89a8462_ccf6_11ea_a23e_38f9d3db5c17row9_col1\" class=\"data row9 col1\" >None</td>\n",
       "            </tr>\n",
       "            <tr>\n",
       "                        <th id=\"T_d89a8462_ccf6_11ea_a23e_38f9d3db5c17level0_row10\" class=\"row_heading level0 row10\" >10</th>\n",
       "                        <td id=\"T_d89a8462_ccf6_11ea_a23e_38f9d3db5c17row10_col0\" class=\"data row10 col0\" >Sampled Data</td>\n",
       "                        <td id=\"T_d89a8462_ccf6_11ea_a23e_38f9d3db5c17row10_col1\" class=\"data row10 col1\" >(150, 5)</td>\n",
       "            </tr>\n",
       "            <tr>\n",
       "                        <th id=\"T_d89a8462_ccf6_11ea_a23e_38f9d3db5c17level0_row11\" class=\"row_heading level0 row11\" >11</th>\n",
       "                        <td id=\"T_d89a8462_ccf6_11ea_a23e_38f9d3db5c17row11_col0\" class=\"data row11 col0\" >Transformed Train Set</td>\n",
       "                        <td id=\"T_d89a8462_ccf6_11ea_a23e_38f9d3db5c17row11_col1\" class=\"data row11 col1\" >(104, 7)</td>\n",
       "            </tr>\n",
       "            <tr>\n",
       "                        <th id=\"T_d89a8462_ccf6_11ea_a23e_38f9d3db5c17level0_row12\" class=\"row_heading level0 row12\" >12</th>\n",
       "                        <td id=\"T_d89a8462_ccf6_11ea_a23e_38f9d3db5c17row12_col0\" class=\"data row12 col0\" >Transformed Test Set</td>\n",
       "                        <td id=\"T_d89a8462_ccf6_11ea_a23e_38f9d3db5c17row12_col1\" class=\"data row12 col1\" >(46, 7)</td>\n",
       "            </tr>\n",
       "            <tr>\n",
       "                        <th id=\"T_d89a8462_ccf6_11ea_a23e_38f9d3db5c17level0_row13\" class=\"row_heading level0 row13\" >13</th>\n",
       "                        <td id=\"T_d89a8462_ccf6_11ea_a23e_38f9d3db5c17row13_col0\" class=\"data row13 col0\" >Numeric Imputer </td>\n",
       "                        <td id=\"T_d89a8462_ccf6_11ea_a23e_38f9d3db5c17row13_col1\" class=\"data row13 col1\" >mean</td>\n",
       "            </tr>\n",
       "            <tr>\n",
       "                        <th id=\"T_d89a8462_ccf6_11ea_a23e_38f9d3db5c17level0_row14\" class=\"row_heading level0 row14\" >14</th>\n",
       "                        <td id=\"T_d89a8462_ccf6_11ea_a23e_38f9d3db5c17row14_col0\" class=\"data row14 col0\" >Categorical Imputer </td>\n",
       "                        <td id=\"T_d89a8462_ccf6_11ea_a23e_38f9d3db5c17row14_col1\" class=\"data row14 col1\" >constant</td>\n",
       "            </tr>\n",
       "            <tr>\n",
       "                        <th id=\"T_d89a8462_ccf6_11ea_a23e_38f9d3db5c17level0_row15\" class=\"row_heading level0 row15\" >15</th>\n",
       "                        <td id=\"T_d89a8462_ccf6_11ea_a23e_38f9d3db5c17row15_col0\" class=\"data row15 col0\" >Normalize </td>\n",
       "                        <td id=\"T_d89a8462_ccf6_11ea_a23e_38f9d3db5c17row15_col1\" class=\"data row15 col1\" >True</td>\n",
       "            </tr>\n",
       "            <tr>\n",
       "                        <th id=\"T_d89a8462_ccf6_11ea_a23e_38f9d3db5c17level0_row16\" class=\"row_heading level0 row16\" >16</th>\n",
       "                        <td id=\"T_d89a8462_ccf6_11ea_a23e_38f9d3db5c17row16_col0\" class=\"data row16 col0\" >Normalize Method </td>\n",
       "                        <td id=\"T_d89a8462_ccf6_11ea_a23e_38f9d3db5c17row16_col1\" class=\"data row16 col1\" >zscore</td>\n",
       "            </tr>\n",
       "            <tr>\n",
       "                        <th id=\"T_d89a8462_ccf6_11ea_a23e_38f9d3db5c17level0_row17\" class=\"row_heading level0 row17\" >17</th>\n",
       "                        <td id=\"T_d89a8462_ccf6_11ea_a23e_38f9d3db5c17row17_col0\" class=\"data row17 col0\" >Transformation </td>\n",
       "                        <td id=\"T_d89a8462_ccf6_11ea_a23e_38f9d3db5c17row17_col1\" class=\"data row17 col1\" >False</td>\n",
       "            </tr>\n",
       "            <tr>\n",
       "                        <th id=\"T_d89a8462_ccf6_11ea_a23e_38f9d3db5c17level0_row18\" class=\"row_heading level0 row18\" >18</th>\n",
       "                        <td id=\"T_d89a8462_ccf6_11ea_a23e_38f9d3db5c17row18_col0\" class=\"data row18 col0\" >Transformation Method </td>\n",
       "                        <td id=\"T_d89a8462_ccf6_11ea_a23e_38f9d3db5c17row18_col1\" class=\"data row18 col1\" >None</td>\n",
       "            </tr>\n",
       "            <tr>\n",
       "                        <th id=\"T_d89a8462_ccf6_11ea_a23e_38f9d3db5c17level0_row19\" class=\"row_heading level0 row19\" >19</th>\n",
       "                        <td id=\"T_d89a8462_ccf6_11ea_a23e_38f9d3db5c17row19_col0\" class=\"data row19 col0\" >PCA </td>\n",
       "                        <td id=\"T_d89a8462_ccf6_11ea_a23e_38f9d3db5c17row19_col1\" class=\"data row19 col1\" >False</td>\n",
       "            </tr>\n",
       "            <tr>\n",
       "                        <th id=\"T_d89a8462_ccf6_11ea_a23e_38f9d3db5c17level0_row20\" class=\"row_heading level0 row20\" >20</th>\n",
       "                        <td id=\"T_d89a8462_ccf6_11ea_a23e_38f9d3db5c17row20_col0\" class=\"data row20 col0\" >PCA Method </td>\n",
       "                        <td id=\"T_d89a8462_ccf6_11ea_a23e_38f9d3db5c17row20_col1\" class=\"data row20 col1\" >None</td>\n",
       "            </tr>\n",
       "            <tr>\n",
       "                        <th id=\"T_d89a8462_ccf6_11ea_a23e_38f9d3db5c17level0_row21\" class=\"row_heading level0 row21\" >21</th>\n",
       "                        <td id=\"T_d89a8462_ccf6_11ea_a23e_38f9d3db5c17row21_col0\" class=\"data row21 col0\" >PCA Components </td>\n",
       "                        <td id=\"T_d89a8462_ccf6_11ea_a23e_38f9d3db5c17row21_col1\" class=\"data row21 col1\" >None</td>\n",
       "            </tr>\n",
       "            <tr>\n",
       "                        <th id=\"T_d89a8462_ccf6_11ea_a23e_38f9d3db5c17level0_row22\" class=\"row_heading level0 row22\" >22</th>\n",
       "                        <td id=\"T_d89a8462_ccf6_11ea_a23e_38f9d3db5c17row22_col0\" class=\"data row22 col0\" >Ignore Low Variance </td>\n",
       "                        <td id=\"T_d89a8462_ccf6_11ea_a23e_38f9d3db5c17row22_col1\" class=\"data row22 col1\" >False</td>\n",
       "            </tr>\n",
       "            <tr>\n",
       "                        <th id=\"T_d89a8462_ccf6_11ea_a23e_38f9d3db5c17level0_row23\" class=\"row_heading level0 row23\" >23</th>\n",
       "                        <td id=\"T_d89a8462_ccf6_11ea_a23e_38f9d3db5c17row23_col0\" class=\"data row23 col0\" >Combine Rare Levels </td>\n",
       "                        <td id=\"T_d89a8462_ccf6_11ea_a23e_38f9d3db5c17row23_col1\" class=\"data row23 col1\" >False</td>\n",
       "            </tr>\n",
       "            <tr>\n",
       "                        <th id=\"T_d89a8462_ccf6_11ea_a23e_38f9d3db5c17level0_row24\" class=\"row_heading level0 row24\" >24</th>\n",
       "                        <td id=\"T_d89a8462_ccf6_11ea_a23e_38f9d3db5c17row24_col0\" class=\"data row24 col0\" >Rare Level Threshold </td>\n",
       "                        <td id=\"T_d89a8462_ccf6_11ea_a23e_38f9d3db5c17row24_col1\" class=\"data row24 col1\" >None</td>\n",
       "            </tr>\n",
       "            <tr>\n",
       "                        <th id=\"T_d89a8462_ccf6_11ea_a23e_38f9d3db5c17level0_row25\" class=\"row_heading level0 row25\" >25</th>\n",
       "                        <td id=\"T_d89a8462_ccf6_11ea_a23e_38f9d3db5c17row25_col0\" class=\"data row25 col0\" >Numeric Binning </td>\n",
       "                        <td id=\"T_d89a8462_ccf6_11ea_a23e_38f9d3db5c17row25_col1\" class=\"data row25 col1\" >False</td>\n",
       "            </tr>\n",
       "            <tr>\n",
       "                        <th id=\"T_d89a8462_ccf6_11ea_a23e_38f9d3db5c17level0_row26\" class=\"row_heading level0 row26\" >26</th>\n",
       "                        <td id=\"T_d89a8462_ccf6_11ea_a23e_38f9d3db5c17row26_col0\" class=\"data row26 col0\" >Remove Outliers </td>\n",
       "                        <td id=\"T_d89a8462_ccf6_11ea_a23e_38f9d3db5c17row26_col1\" class=\"data row26 col1\" >False</td>\n",
       "            </tr>\n",
       "            <tr>\n",
       "                        <th id=\"T_d89a8462_ccf6_11ea_a23e_38f9d3db5c17level0_row27\" class=\"row_heading level0 row27\" >27</th>\n",
       "                        <td id=\"T_d89a8462_ccf6_11ea_a23e_38f9d3db5c17row27_col0\" class=\"data row27 col0\" >Outliers Threshold </td>\n",
       "                        <td id=\"T_d89a8462_ccf6_11ea_a23e_38f9d3db5c17row27_col1\" class=\"data row27 col1\" >None</td>\n",
       "            </tr>\n",
       "            <tr>\n",
       "                        <th id=\"T_d89a8462_ccf6_11ea_a23e_38f9d3db5c17level0_row28\" class=\"row_heading level0 row28\" >28</th>\n",
       "                        <td id=\"T_d89a8462_ccf6_11ea_a23e_38f9d3db5c17row28_col0\" class=\"data row28 col0\" >Remove Multicollinearity </td>\n",
       "                        <td id=\"T_d89a8462_ccf6_11ea_a23e_38f9d3db5c17row28_col1\" class=\"data row28 col1\" >False</td>\n",
       "            </tr>\n",
       "            <tr>\n",
       "                        <th id=\"T_d89a8462_ccf6_11ea_a23e_38f9d3db5c17level0_row29\" class=\"row_heading level0 row29\" >29</th>\n",
       "                        <td id=\"T_d89a8462_ccf6_11ea_a23e_38f9d3db5c17row29_col0\" class=\"data row29 col0\" >Multicollinearity Threshold </td>\n",
       "                        <td id=\"T_d89a8462_ccf6_11ea_a23e_38f9d3db5c17row29_col1\" class=\"data row29 col1\" >None</td>\n",
       "            </tr>\n",
       "            <tr>\n",
       "                        <th id=\"T_d89a8462_ccf6_11ea_a23e_38f9d3db5c17level0_row30\" class=\"row_heading level0 row30\" >30</th>\n",
       "                        <td id=\"T_d89a8462_ccf6_11ea_a23e_38f9d3db5c17row30_col0\" class=\"data row30 col0\" >Clustering </td>\n",
       "                        <td id=\"T_d89a8462_ccf6_11ea_a23e_38f9d3db5c17row30_col1\" class=\"data row30 col1\" >False</td>\n",
       "            </tr>\n",
       "            <tr>\n",
       "                        <th id=\"T_d89a8462_ccf6_11ea_a23e_38f9d3db5c17level0_row31\" class=\"row_heading level0 row31\" >31</th>\n",
       "                        <td id=\"T_d89a8462_ccf6_11ea_a23e_38f9d3db5c17row31_col0\" class=\"data row31 col0\" >Clustering Iteration </td>\n",
       "                        <td id=\"T_d89a8462_ccf6_11ea_a23e_38f9d3db5c17row31_col1\" class=\"data row31 col1\" >None</td>\n",
       "            </tr>\n",
       "            <tr>\n",
       "                        <th id=\"T_d89a8462_ccf6_11ea_a23e_38f9d3db5c17level0_row32\" class=\"row_heading level0 row32\" >32</th>\n",
       "                        <td id=\"T_d89a8462_ccf6_11ea_a23e_38f9d3db5c17row32_col0\" class=\"data row32 col0\" >Polynomial Features </td>\n",
       "                        <td id=\"T_d89a8462_ccf6_11ea_a23e_38f9d3db5c17row32_col1\" class=\"data row32 col1\" >True</td>\n",
       "            </tr>\n",
       "            <tr>\n",
       "                        <th id=\"T_d89a8462_ccf6_11ea_a23e_38f9d3db5c17level0_row33\" class=\"row_heading level0 row33\" >33</th>\n",
       "                        <td id=\"T_d89a8462_ccf6_11ea_a23e_38f9d3db5c17row33_col0\" class=\"data row33 col0\" >Polynomial Degree </td>\n",
       "                        <td id=\"T_d89a8462_ccf6_11ea_a23e_38f9d3db5c17row33_col1\" class=\"data row33 col1\" >2</td>\n",
       "            </tr>\n",
       "            <tr>\n",
       "                        <th id=\"T_d89a8462_ccf6_11ea_a23e_38f9d3db5c17level0_row34\" class=\"row_heading level0 row34\" >34</th>\n",
       "                        <td id=\"T_d89a8462_ccf6_11ea_a23e_38f9d3db5c17row34_col0\" class=\"data row34 col0\" >Trignometry Features </td>\n",
       "                        <td id=\"T_d89a8462_ccf6_11ea_a23e_38f9d3db5c17row34_col1\" class=\"data row34 col1\" >True</td>\n",
       "            </tr>\n",
       "            <tr>\n",
       "                        <th id=\"T_d89a8462_ccf6_11ea_a23e_38f9d3db5c17level0_row35\" class=\"row_heading level0 row35\" >35</th>\n",
       "                        <td id=\"T_d89a8462_ccf6_11ea_a23e_38f9d3db5c17row35_col0\" class=\"data row35 col0\" >Polynomial Threshold </td>\n",
       "                        <td id=\"T_d89a8462_ccf6_11ea_a23e_38f9d3db5c17row35_col1\" class=\"data row35 col1\" >0.100000</td>\n",
       "            </tr>\n",
       "            <tr>\n",
       "                        <th id=\"T_d89a8462_ccf6_11ea_a23e_38f9d3db5c17level0_row36\" class=\"row_heading level0 row36\" >36</th>\n",
       "                        <td id=\"T_d89a8462_ccf6_11ea_a23e_38f9d3db5c17row36_col0\" class=\"data row36 col0\" >Group Features </td>\n",
       "                        <td id=\"T_d89a8462_ccf6_11ea_a23e_38f9d3db5c17row36_col1\" class=\"data row36 col1\" >False</td>\n",
       "            </tr>\n",
       "            <tr>\n",
       "                        <th id=\"T_d89a8462_ccf6_11ea_a23e_38f9d3db5c17level0_row37\" class=\"row_heading level0 row37\" >37</th>\n",
       "                        <td id=\"T_d89a8462_ccf6_11ea_a23e_38f9d3db5c17row37_col0\" class=\"data row37 col0\" >Feature Selection </td>\n",
       "                        <td id=\"T_d89a8462_ccf6_11ea_a23e_38f9d3db5c17row37_col1\" class=\"data row37 col1\" >False</td>\n",
       "            </tr>\n",
       "            <tr>\n",
       "                        <th id=\"T_d89a8462_ccf6_11ea_a23e_38f9d3db5c17level0_row38\" class=\"row_heading level0 row38\" >38</th>\n",
       "                        <td id=\"T_d89a8462_ccf6_11ea_a23e_38f9d3db5c17row38_col0\" class=\"data row38 col0\" >Features Selection Threshold </td>\n",
       "                        <td id=\"T_d89a8462_ccf6_11ea_a23e_38f9d3db5c17row38_col1\" class=\"data row38 col1\" >None</td>\n",
       "            </tr>\n",
       "            <tr>\n",
       "                        <th id=\"T_d89a8462_ccf6_11ea_a23e_38f9d3db5c17level0_row39\" class=\"row_heading level0 row39\" >39</th>\n",
       "                        <td id=\"T_d89a8462_ccf6_11ea_a23e_38f9d3db5c17row39_col0\" class=\"data row39 col0\" >Feature Interaction </td>\n",
       "                        <td id=\"T_d89a8462_ccf6_11ea_a23e_38f9d3db5c17row39_col1\" class=\"data row39 col1\" >False</td>\n",
       "            </tr>\n",
       "            <tr>\n",
       "                        <th id=\"T_d89a8462_ccf6_11ea_a23e_38f9d3db5c17level0_row40\" class=\"row_heading level0 row40\" >40</th>\n",
       "                        <td id=\"T_d89a8462_ccf6_11ea_a23e_38f9d3db5c17row40_col0\" class=\"data row40 col0\" >Feature Ratio </td>\n",
       "                        <td id=\"T_d89a8462_ccf6_11ea_a23e_38f9d3db5c17row40_col1\" class=\"data row40 col1\" >False</td>\n",
       "            </tr>\n",
       "            <tr>\n",
       "                        <th id=\"T_d89a8462_ccf6_11ea_a23e_38f9d3db5c17level0_row41\" class=\"row_heading level0 row41\" >41</th>\n",
       "                        <td id=\"T_d89a8462_ccf6_11ea_a23e_38f9d3db5c17row41_col0\" class=\"data row41 col0\" >Interaction Threshold </td>\n",
       "                        <td id=\"T_d89a8462_ccf6_11ea_a23e_38f9d3db5c17row41_col1\" class=\"data row41 col1\" >None</td>\n",
       "            </tr>\n",
       "            <tr>\n",
       "                        <th id=\"T_d89a8462_ccf6_11ea_a23e_38f9d3db5c17level0_row42\" class=\"row_heading level0 row42\" >42</th>\n",
       "                        <td id=\"T_d89a8462_ccf6_11ea_a23e_38f9d3db5c17row42_col0\" class=\"data row42 col0\" >Fix Imbalance</td>\n",
       "                        <td id=\"T_d89a8462_ccf6_11ea_a23e_38f9d3db5c17row42_col1\" class=\"data row42 col1\" >False</td>\n",
       "            </tr>\n",
       "            <tr>\n",
       "                        <th id=\"T_d89a8462_ccf6_11ea_a23e_38f9d3db5c17level0_row43\" class=\"row_heading level0 row43\" >43</th>\n",
       "                        <td id=\"T_d89a8462_ccf6_11ea_a23e_38f9d3db5c17row43_col0\" class=\"data row43 col0\" >Fix Imbalance Method</td>\n",
       "                        <td id=\"T_d89a8462_ccf6_11ea_a23e_38f9d3db5c17row43_col1\" class=\"data row43 col1\" >SMOTE</td>\n",
       "            </tr>\n",
       "    </tbody></table>"
      ],
      "text/plain": [
       "<pandas.io.formats.style.Styler at 0x122710580>"
      ]
     },
     "metadata": {},
     "output_type": "display_data"
    }
   ],
   "source": [
    "# process dataset\n",
    "classification_experiment_2 = classification.setup(\n",
    "    data=df_iris,\n",
    "    target='species',\n",
    "    train_size=0.7,\n",
    "    normalize=True,\n",
    "    remove_perfect_collinearity=True,\n",
    "    polynomial_features=True,\n",
    "    polynomial_degree=2,\n",
    "    trigonometry_features=True,\n",
    "    numeric_features=['sepal_length','sepal_width','petal_length','petal_width'],\n",
    ")"
   ]
  },
  {
   "cell_type": "code",
   "execution_count": 19,
   "metadata": {},
   "outputs": [
    {
     "data": {
      "text/html": [
       "<style  type=\"text/css\" >\n",
       "    #T_f884f65e_ccf6_11ea_a23e_38f9d3db5c17 th {\n",
       "          text-align: left;\n",
       "    }    #T_f884f65e_ccf6_11ea_a23e_38f9d3db5c17row0_col0 {\n",
       "            text-align:  left;\n",
       "        }    #T_f884f65e_ccf6_11ea_a23e_38f9d3db5c17row0_col1 {\n",
       "            background-color:  yellow;\n",
       "            text-align:  left;\n",
       "        }    #T_f884f65e_ccf6_11ea_a23e_38f9d3db5c17row0_col2 {\n",
       "            text-align:  left;\n",
       "        }    #T_f884f65e_ccf6_11ea_a23e_38f9d3db5c17row0_col3 {\n",
       "            background-color:  yellow;\n",
       "            text-align:  left;\n",
       "        }    #T_f884f65e_ccf6_11ea_a23e_38f9d3db5c17row0_col4 {\n",
       "            background-color:  yellow;\n",
       "            text-align:  left;\n",
       "        }    #T_f884f65e_ccf6_11ea_a23e_38f9d3db5c17row0_col5 {\n",
       "            background-color:  yellow;\n",
       "            text-align:  left;\n",
       "        }    #T_f884f65e_ccf6_11ea_a23e_38f9d3db5c17row0_col6 {\n",
       "            background-color:  yellow;\n",
       "            text-align:  left;\n",
       "        }    #T_f884f65e_ccf6_11ea_a23e_38f9d3db5c17row0_col7 {\n",
       "            background-color:  yellow;\n",
       "            text-align:  left;\n",
       "        }    #T_f884f65e_ccf6_11ea_a23e_38f9d3db5c17row0_col8 {\n",
       "            background-color:  lightgrey;\n",
       "            text-align:  left;\n",
       "        }    #T_f884f65e_ccf6_11ea_a23e_38f9d3db5c17row1_col0 {\n",
       "            text-align:  left;\n",
       "        }    #T_f884f65e_ccf6_11ea_a23e_38f9d3db5c17row1_col1 {\n",
       "            : ;\n",
       "            text-align:  left;\n",
       "        }    #T_f884f65e_ccf6_11ea_a23e_38f9d3db5c17row1_col2 {\n",
       "            text-align:  left;\n",
       "        }    #T_f884f65e_ccf6_11ea_a23e_38f9d3db5c17row1_col3 {\n",
       "            : ;\n",
       "            text-align:  left;\n",
       "        }    #T_f884f65e_ccf6_11ea_a23e_38f9d3db5c17row1_col4 {\n",
       "            : ;\n",
       "            text-align:  left;\n",
       "        }    #T_f884f65e_ccf6_11ea_a23e_38f9d3db5c17row1_col5 {\n",
       "            : ;\n",
       "            text-align:  left;\n",
       "        }    #T_f884f65e_ccf6_11ea_a23e_38f9d3db5c17row1_col6 {\n",
       "            : ;\n",
       "            text-align:  left;\n",
       "        }    #T_f884f65e_ccf6_11ea_a23e_38f9d3db5c17row1_col7 {\n",
       "            : ;\n",
       "            text-align:  left;\n",
       "        }    #T_f884f65e_ccf6_11ea_a23e_38f9d3db5c17row1_col8 {\n",
       "            background-color:  lightgrey;\n",
       "            text-align:  left;\n",
       "        }    #T_f884f65e_ccf6_11ea_a23e_38f9d3db5c17row2_col0 {\n",
       "            text-align:  left;\n",
       "        }    #T_f884f65e_ccf6_11ea_a23e_38f9d3db5c17row2_col1 {\n",
       "            : ;\n",
       "            text-align:  left;\n",
       "        }    #T_f884f65e_ccf6_11ea_a23e_38f9d3db5c17row2_col2 {\n",
       "            text-align:  left;\n",
       "        }    #T_f884f65e_ccf6_11ea_a23e_38f9d3db5c17row2_col3 {\n",
       "            : ;\n",
       "            text-align:  left;\n",
       "        }    #T_f884f65e_ccf6_11ea_a23e_38f9d3db5c17row2_col4 {\n",
       "            : ;\n",
       "            text-align:  left;\n",
       "        }    #T_f884f65e_ccf6_11ea_a23e_38f9d3db5c17row2_col5 {\n",
       "            : ;\n",
       "            text-align:  left;\n",
       "        }    #T_f884f65e_ccf6_11ea_a23e_38f9d3db5c17row2_col6 {\n",
       "            : ;\n",
       "            text-align:  left;\n",
       "        }    #T_f884f65e_ccf6_11ea_a23e_38f9d3db5c17row2_col7 {\n",
       "            : ;\n",
       "            text-align:  left;\n",
       "        }    #T_f884f65e_ccf6_11ea_a23e_38f9d3db5c17row2_col8 {\n",
       "            background-color:  lightgrey;\n",
       "            text-align:  left;\n",
       "        }    #T_f884f65e_ccf6_11ea_a23e_38f9d3db5c17row3_col0 {\n",
       "            text-align:  left;\n",
       "        }    #T_f884f65e_ccf6_11ea_a23e_38f9d3db5c17row3_col1 {\n",
       "            : ;\n",
       "            text-align:  left;\n",
       "        }    #T_f884f65e_ccf6_11ea_a23e_38f9d3db5c17row3_col2 {\n",
       "            text-align:  left;\n",
       "        }    #T_f884f65e_ccf6_11ea_a23e_38f9d3db5c17row3_col3 {\n",
       "            : ;\n",
       "            text-align:  left;\n",
       "        }    #T_f884f65e_ccf6_11ea_a23e_38f9d3db5c17row3_col4 {\n",
       "            : ;\n",
       "            text-align:  left;\n",
       "        }    #T_f884f65e_ccf6_11ea_a23e_38f9d3db5c17row3_col5 {\n",
       "            : ;\n",
       "            text-align:  left;\n",
       "        }    #T_f884f65e_ccf6_11ea_a23e_38f9d3db5c17row3_col6 {\n",
       "            : ;\n",
       "            text-align:  left;\n",
       "        }    #T_f884f65e_ccf6_11ea_a23e_38f9d3db5c17row3_col7 {\n",
       "            : ;\n",
       "            text-align:  left;\n",
       "        }    #T_f884f65e_ccf6_11ea_a23e_38f9d3db5c17row3_col8 {\n",
       "            background-color:  lightgrey;\n",
       "            text-align:  left;\n",
       "        }    #T_f884f65e_ccf6_11ea_a23e_38f9d3db5c17row4_col0 {\n",
       "            text-align:  left;\n",
       "        }    #T_f884f65e_ccf6_11ea_a23e_38f9d3db5c17row4_col1 {\n",
       "            : ;\n",
       "            text-align:  left;\n",
       "        }    #T_f884f65e_ccf6_11ea_a23e_38f9d3db5c17row4_col2 {\n",
       "            text-align:  left;\n",
       "        }    #T_f884f65e_ccf6_11ea_a23e_38f9d3db5c17row4_col3 {\n",
       "            : ;\n",
       "            text-align:  left;\n",
       "        }    #T_f884f65e_ccf6_11ea_a23e_38f9d3db5c17row4_col4 {\n",
       "            : ;\n",
       "            text-align:  left;\n",
       "        }    #T_f884f65e_ccf6_11ea_a23e_38f9d3db5c17row4_col5 {\n",
       "            : ;\n",
       "            text-align:  left;\n",
       "        }    #T_f884f65e_ccf6_11ea_a23e_38f9d3db5c17row4_col6 {\n",
       "            : ;\n",
       "            text-align:  left;\n",
       "        }    #T_f884f65e_ccf6_11ea_a23e_38f9d3db5c17row4_col7 {\n",
       "            : ;\n",
       "            text-align:  left;\n",
       "        }    #T_f884f65e_ccf6_11ea_a23e_38f9d3db5c17row4_col8 {\n",
       "            background-color:  lightgrey;\n",
       "            text-align:  left;\n",
       "        }    #T_f884f65e_ccf6_11ea_a23e_38f9d3db5c17row5_col0 {\n",
       "            text-align:  left;\n",
       "        }    #T_f884f65e_ccf6_11ea_a23e_38f9d3db5c17row5_col1 {\n",
       "            : ;\n",
       "            text-align:  left;\n",
       "        }    #T_f884f65e_ccf6_11ea_a23e_38f9d3db5c17row5_col2 {\n",
       "            text-align:  left;\n",
       "        }    #T_f884f65e_ccf6_11ea_a23e_38f9d3db5c17row5_col3 {\n",
       "            : ;\n",
       "            text-align:  left;\n",
       "        }    #T_f884f65e_ccf6_11ea_a23e_38f9d3db5c17row5_col4 {\n",
       "            : ;\n",
       "            text-align:  left;\n",
       "        }    #T_f884f65e_ccf6_11ea_a23e_38f9d3db5c17row5_col5 {\n",
       "            : ;\n",
       "            text-align:  left;\n",
       "        }    #T_f884f65e_ccf6_11ea_a23e_38f9d3db5c17row5_col6 {\n",
       "            : ;\n",
       "            text-align:  left;\n",
       "        }    #T_f884f65e_ccf6_11ea_a23e_38f9d3db5c17row5_col7 {\n",
       "            : ;\n",
       "            text-align:  left;\n",
       "        }    #T_f884f65e_ccf6_11ea_a23e_38f9d3db5c17row5_col8 {\n",
       "            background-color:  lightgrey;\n",
       "            text-align:  left;\n",
       "        }    #T_f884f65e_ccf6_11ea_a23e_38f9d3db5c17row6_col0 {\n",
       "            text-align:  left;\n",
       "        }    #T_f884f65e_ccf6_11ea_a23e_38f9d3db5c17row6_col1 {\n",
       "            : ;\n",
       "            text-align:  left;\n",
       "        }    #T_f884f65e_ccf6_11ea_a23e_38f9d3db5c17row6_col2 {\n",
       "            text-align:  left;\n",
       "        }    #T_f884f65e_ccf6_11ea_a23e_38f9d3db5c17row6_col3 {\n",
       "            : ;\n",
       "            text-align:  left;\n",
       "        }    #T_f884f65e_ccf6_11ea_a23e_38f9d3db5c17row6_col4 {\n",
       "            : ;\n",
       "            text-align:  left;\n",
       "        }    #T_f884f65e_ccf6_11ea_a23e_38f9d3db5c17row6_col5 {\n",
       "            : ;\n",
       "            text-align:  left;\n",
       "        }    #T_f884f65e_ccf6_11ea_a23e_38f9d3db5c17row6_col6 {\n",
       "            : ;\n",
       "            text-align:  left;\n",
       "        }    #T_f884f65e_ccf6_11ea_a23e_38f9d3db5c17row6_col7 {\n",
       "            : ;\n",
       "            text-align:  left;\n",
       "        }    #T_f884f65e_ccf6_11ea_a23e_38f9d3db5c17row6_col8 {\n",
       "            background-color:  lightgrey;\n",
       "            text-align:  left;\n",
       "        }    #T_f884f65e_ccf6_11ea_a23e_38f9d3db5c17row7_col0 {\n",
       "            text-align:  left;\n",
       "        }    #T_f884f65e_ccf6_11ea_a23e_38f9d3db5c17row7_col1 {\n",
       "            : ;\n",
       "            text-align:  left;\n",
       "        }    #T_f884f65e_ccf6_11ea_a23e_38f9d3db5c17row7_col2 {\n",
       "            text-align:  left;\n",
       "        }    #T_f884f65e_ccf6_11ea_a23e_38f9d3db5c17row7_col3 {\n",
       "            : ;\n",
       "            text-align:  left;\n",
       "        }    #T_f884f65e_ccf6_11ea_a23e_38f9d3db5c17row7_col4 {\n",
       "            : ;\n",
       "            text-align:  left;\n",
       "        }    #T_f884f65e_ccf6_11ea_a23e_38f9d3db5c17row7_col5 {\n",
       "            : ;\n",
       "            text-align:  left;\n",
       "        }    #T_f884f65e_ccf6_11ea_a23e_38f9d3db5c17row7_col6 {\n",
       "            : ;\n",
       "            text-align:  left;\n",
       "        }    #T_f884f65e_ccf6_11ea_a23e_38f9d3db5c17row7_col7 {\n",
       "            : ;\n",
       "            text-align:  left;\n",
       "        }    #T_f884f65e_ccf6_11ea_a23e_38f9d3db5c17row7_col8 {\n",
       "            background-color:  lightgrey;\n",
       "            text-align:  left;\n",
       "        }    #T_f884f65e_ccf6_11ea_a23e_38f9d3db5c17row8_col0 {\n",
       "            text-align:  left;\n",
       "        }    #T_f884f65e_ccf6_11ea_a23e_38f9d3db5c17row8_col1 {\n",
       "            : ;\n",
       "            text-align:  left;\n",
       "        }    #T_f884f65e_ccf6_11ea_a23e_38f9d3db5c17row8_col2 {\n",
       "            text-align:  left;\n",
       "        }    #T_f884f65e_ccf6_11ea_a23e_38f9d3db5c17row8_col3 {\n",
       "            : ;\n",
       "            text-align:  left;\n",
       "        }    #T_f884f65e_ccf6_11ea_a23e_38f9d3db5c17row8_col4 {\n",
       "            : ;\n",
       "            text-align:  left;\n",
       "        }    #T_f884f65e_ccf6_11ea_a23e_38f9d3db5c17row8_col5 {\n",
       "            : ;\n",
       "            text-align:  left;\n",
       "        }    #T_f884f65e_ccf6_11ea_a23e_38f9d3db5c17row8_col6 {\n",
       "            : ;\n",
       "            text-align:  left;\n",
       "        }    #T_f884f65e_ccf6_11ea_a23e_38f9d3db5c17row8_col7 {\n",
       "            : ;\n",
       "            text-align:  left;\n",
       "        }    #T_f884f65e_ccf6_11ea_a23e_38f9d3db5c17row8_col8 {\n",
       "            background-color:  lightgrey;\n",
       "            text-align:  left;\n",
       "        }    #T_f884f65e_ccf6_11ea_a23e_38f9d3db5c17row9_col0 {\n",
       "            text-align:  left;\n",
       "        }    #T_f884f65e_ccf6_11ea_a23e_38f9d3db5c17row9_col1 {\n",
       "            : ;\n",
       "            text-align:  left;\n",
       "        }    #T_f884f65e_ccf6_11ea_a23e_38f9d3db5c17row9_col2 {\n",
       "            text-align:  left;\n",
       "        }    #T_f884f65e_ccf6_11ea_a23e_38f9d3db5c17row9_col3 {\n",
       "            : ;\n",
       "            text-align:  left;\n",
       "        }    #T_f884f65e_ccf6_11ea_a23e_38f9d3db5c17row9_col4 {\n",
       "            : ;\n",
       "            text-align:  left;\n",
       "        }    #T_f884f65e_ccf6_11ea_a23e_38f9d3db5c17row9_col5 {\n",
       "            : ;\n",
       "            text-align:  left;\n",
       "        }    #T_f884f65e_ccf6_11ea_a23e_38f9d3db5c17row9_col6 {\n",
       "            : ;\n",
       "            text-align:  left;\n",
       "        }    #T_f884f65e_ccf6_11ea_a23e_38f9d3db5c17row9_col7 {\n",
       "            : ;\n",
       "            text-align:  left;\n",
       "        }    #T_f884f65e_ccf6_11ea_a23e_38f9d3db5c17row9_col8 {\n",
       "            background-color:  lightgrey;\n",
       "            text-align:  left;\n",
       "        }    #T_f884f65e_ccf6_11ea_a23e_38f9d3db5c17row10_col0 {\n",
       "            text-align:  left;\n",
       "        }    #T_f884f65e_ccf6_11ea_a23e_38f9d3db5c17row10_col1 {\n",
       "            : ;\n",
       "            text-align:  left;\n",
       "        }    #T_f884f65e_ccf6_11ea_a23e_38f9d3db5c17row10_col2 {\n",
       "            text-align:  left;\n",
       "        }    #T_f884f65e_ccf6_11ea_a23e_38f9d3db5c17row10_col3 {\n",
       "            : ;\n",
       "            text-align:  left;\n",
       "        }    #T_f884f65e_ccf6_11ea_a23e_38f9d3db5c17row10_col4 {\n",
       "            : ;\n",
       "            text-align:  left;\n",
       "        }    #T_f884f65e_ccf6_11ea_a23e_38f9d3db5c17row10_col5 {\n",
       "            : ;\n",
       "            text-align:  left;\n",
       "        }    #T_f884f65e_ccf6_11ea_a23e_38f9d3db5c17row10_col6 {\n",
       "            : ;\n",
       "            text-align:  left;\n",
       "        }    #T_f884f65e_ccf6_11ea_a23e_38f9d3db5c17row10_col7 {\n",
       "            : ;\n",
       "            text-align:  left;\n",
       "        }    #T_f884f65e_ccf6_11ea_a23e_38f9d3db5c17row10_col8 {\n",
       "            background-color:  lightgrey;\n",
       "            text-align:  left;\n",
       "        }    #T_f884f65e_ccf6_11ea_a23e_38f9d3db5c17row11_col0 {\n",
       "            text-align:  left;\n",
       "        }    #T_f884f65e_ccf6_11ea_a23e_38f9d3db5c17row11_col1 {\n",
       "            : ;\n",
       "            text-align:  left;\n",
       "        }    #T_f884f65e_ccf6_11ea_a23e_38f9d3db5c17row11_col2 {\n",
       "            text-align:  left;\n",
       "        }    #T_f884f65e_ccf6_11ea_a23e_38f9d3db5c17row11_col3 {\n",
       "            : ;\n",
       "            text-align:  left;\n",
       "        }    #T_f884f65e_ccf6_11ea_a23e_38f9d3db5c17row11_col4 {\n",
       "            : ;\n",
       "            text-align:  left;\n",
       "        }    #T_f884f65e_ccf6_11ea_a23e_38f9d3db5c17row11_col5 {\n",
       "            : ;\n",
       "            text-align:  left;\n",
       "        }    #T_f884f65e_ccf6_11ea_a23e_38f9d3db5c17row11_col6 {\n",
       "            : ;\n",
       "            text-align:  left;\n",
       "        }    #T_f884f65e_ccf6_11ea_a23e_38f9d3db5c17row11_col7 {\n",
       "            : ;\n",
       "            text-align:  left;\n",
       "        }    #T_f884f65e_ccf6_11ea_a23e_38f9d3db5c17row11_col8 {\n",
       "            background-color:  lightgrey;\n",
       "            text-align:  left;\n",
       "        }    #T_f884f65e_ccf6_11ea_a23e_38f9d3db5c17row12_col0 {\n",
       "            text-align:  left;\n",
       "        }    #T_f884f65e_ccf6_11ea_a23e_38f9d3db5c17row12_col1 {\n",
       "            : ;\n",
       "            text-align:  left;\n",
       "        }    #T_f884f65e_ccf6_11ea_a23e_38f9d3db5c17row12_col2 {\n",
       "            text-align:  left;\n",
       "        }    #T_f884f65e_ccf6_11ea_a23e_38f9d3db5c17row12_col3 {\n",
       "            : ;\n",
       "            text-align:  left;\n",
       "        }    #T_f884f65e_ccf6_11ea_a23e_38f9d3db5c17row12_col4 {\n",
       "            : ;\n",
       "            text-align:  left;\n",
       "        }    #T_f884f65e_ccf6_11ea_a23e_38f9d3db5c17row12_col5 {\n",
       "            : ;\n",
       "            text-align:  left;\n",
       "        }    #T_f884f65e_ccf6_11ea_a23e_38f9d3db5c17row12_col6 {\n",
       "            : ;\n",
       "            text-align:  left;\n",
       "        }    #T_f884f65e_ccf6_11ea_a23e_38f9d3db5c17row12_col7 {\n",
       "            : ;\n",
       "            text-align:  left;\n",
       "        }    #T_f884f65e_ccf6_11ea_a23e_38f9d3db5c17row12_col8 {\n",
       "            background-color:  lightgrey;\n",
       "            text-align:  left;\n",
       "        }    #T_f884f65e_ccf6_11ea_a23e_38f9d3db5c17row13_col0 {\n",
       "            text-align:  left;\n",
       "        }    #T_f884f65e_ccf6_11ea_a23e_38f9d3db5c17row13_col1 {\n",
       "            : ;\n",
       "            text-align:  left;\n",
       "        }    #T_f884f65e_ccf6_11ea_a23e_38f9d3db5c17row13_col2 {\n",
       "            text-align:  left;\n",
       "        }    #T_f884f65e_ccf6_11ea_a23e_38f9d3db5c17row13_col3 {\n",
       "            : ;\n",
       "            text-align:  left;\n",
       "        }    #T_f884f65e_ccf6_11ea_a23e_38f9d3db5c17row13_col4 {\n",
       "            : ;\n",
       "            text-align:  left;\n",
       "        }    #T_f884f65e_ccf6_11ea_a23e_38f9d3db5c17row13_col5 {\n",
       "            : ;\n",
       "            text-align:  left;\n",
       "        }    #T_f884f65e_ccf6_11ea_a23e_38f9d3db5c17row13_col6 {\n",
       "            : ;\n",
       "            text-align:  left;\n",
       "        }    #T_f884f65e_ccf6_11ea_a23e_38f9d3db5c17row13_col7 {\n",
       "            : ;\n",
       "            text-align:  left;\n",
       "        }    #T_f884f65e_ccf6_11ea_a23e_38f9d3db5c17row13_col8 {\n",
       "            background-color:  lightgrey;\n",
       "            text-align:  left;\n",
       "        }    #T_f884f65e_ccf6_11ea_a23e_38f9d3db5c17row14_col0 {\n",
       "            text-align:  left;\n",
       "        }    #T_f884f65e_ccf6_11ea_a23e_38f9d3db5c17row14_col1 {\n",
       "            : ;\n",
       "            text-align:  left;\n",
       "        }    #T_f884f65e_ccf6_11ea_a23e_38f9d3db5c17row14_col2 {\n",
       "            text-align:  left;\n",
       "        }    #T_f884f65e_ccf6_11ea_a23e_38f9d3db5c17row14_col3 {\n",
       "            : ;\n",
       "            text-align:  left;\n",
       "        }    #T_f884f65e_ccf6_11ea_a23e_38f9d3db5c17row14_col4 {\n",
       "            : ;\n",
       "            text-align:  left;\n",
       "        }    #T_f884f65e_ccf6_11ea_a23e_38f9d3db5c17row14_col5 {\n",
       "            : ;\n",
       "            text-align:  left;\n",
       "        }    #T_f884f65e_ccf6_11ea_a23e_38f9d3db5c17row14_col6 {\n",
       "            : ;\n",
       "            text-align:  left;\n",
       "        }    #T_f884f65e_ccf6_11ea_a23e_38f9d3db5c17row14_col7 {\n",
       "            : ;\n",
       "            text-align:  left;\n",
       "        }    #T_f884f65e_ccf6_11ea_a23e_38f9d3db5c17row14_col8 {\n",
       "            background-color:  lightgrey;\n",
       "            text-align:  left;\n",
       "        }    #T_f884f65e_ccf6_11ea_a23e_38f9d3db5c17row15_col0 {\n",
       "            text-align:  left;\n",
       "        }    #T_f884f65e_ccf6_11ea_a23e_38f9d3db5c17row15_col1 {\n",
       "            : ;\n",
       "            text-align:  left;\n",
       "        }    #T_f884f65e_ccf6_11ea_a23e_38f9d3db5c17row15_col2 {\n",
       "            text-align:  left;\n",
       "        }    #T_f884f65e_ccf6_11ea_a23e_38f9d3db5c17row15_col3 {\n",
       "            : ;\n",
       "            text-align:  left;\n",
       "        }    #T_f884f65e_ccf6_11ea_a23e_38f9d3db5c17row15_col4 {\n",
       "            : ;\n",
       "            text-align:  left;\n",
       "        }    #T_f884f65e_ccf6_11ea_a23e_38f9d3db5c17row15_col5 {\n",
       "            : ;\n",
       "            text-align:  left;\n",
       "        }    #T_f884f65e_ccf6_11ea_a23e_38f9d3db5c17row15_col6 {\n",
       "            : ;\n",
       "            text-align:  left;\n",
       "        }    #T_f884f65e_ccf6_11ea_a23e_38f9d3db5c17row15_col7 {\n",
       "            : ;\n",
       "            text-align:  left;\n",
       "        }    #T_f884f65e_ccf6_11ea_a23e_38f9d3db5c17row15_col8 {\n",
       "            background-color:  lightgrey;\n",
       "            text-align:  left;\n",
       "        }    #T_f884f65e_ccf6_11ea_a23e_38f9d3db5c17row16_col0 {\n",
       "            text-align:  left;\n",
       "        }    #T_f884f65e_ccf6_11ea_a23e_38f9d3db5c17row16_col1 {\n",
       "            : ;\n",
       "            text-align:  left;\n",
       "        }    #T_f884f65e_ccf6_11ea_a23e_38f9d3db5c17row16_col2 {\n",
       "            text-align:  left;\n",
       "        }    #T_f884f65e_ccf6_11ea_a23e_38f9d3db5c17row16_col3 {\n",
       "            : ;\n",
       "            text-align:  left;\n",
       "        }    #T_f884f65e_ccf6_11ea_a23e_38f9d3db5c17row16_col4 {\n",
       "            : ;\n",
       "            text-align:  left;\n",
       "        }    #T_f884f65e_ccf6_11ea_a23e_38f9d3db5c17row16_col5 {\n",
       "            : ;\n",
       "            text-align:  left;\n",
       "        }    #T_f884f65e_ccf6_11ea_a23e_38f9d3db5c17row16_col6 {\n",
       "            : ;\n",
       "            text-align:  left;\n",
       "        }    #T_f884f65e_ccf6_11ea_a23e_38f9d3db5c17row16_col7 {\n",
       "            : ;\n",
       "            text-align:  left;\n",
       "        }    #T_f884f65e_ccf6_11ea_a23e_38f9d3db5c17row16_col8 {\n",
       "            background-color:  lightgrey;\n",
       "            text-align:  left;\n",
       "        }    #T_f884f65e_ccf6_11ea_a23e_38f9d3db5c17row17_col0 {\n",
       "            text-align:  left;\n",
       "        }    #T_f884f65e_ccf6_11ea_a23e_38f9d3db5c17row17_col1 {\n",
       "            : ;\n",
       "            text-align:  left;\n",
       "        }    #T_f884f65e_ccf6_11ea_a23e_38f9d3db5c17row17_col2 {\n",
       "            text-align:  left;\n",
       "        }    #T_f884f65e_ccf6_11ea_a23e_38f9d3db5c17row17_col3 {\n",
       "            : ;\n",
       "            text-align:  left;\n",
       "        }    #T_f884f65e_ccf6_11ea_a23e_38f9d3db5c17row17_col4 {\n",
       "            : ;\n",
       "            text-align:  left;\n",
       "        }    #T_f884f65e_ccf6_11ea_a23e_38f9d3db5c17row17_col5 {\n",
       "            : ;\n",
       "            text-align:  left;\n",
       "        }    #T_f884f65e_ccf6_11ea_a23e_38f9d3db5c17row17_col6 {\n",
       "            : ;\n",
       "            text-align:  left;\n",
       "        }    #T_f884f65e_ccf6_11ea_a23e_38f9d3db5c17row17_col7 {\n",
       "            : ;\n",
       "            text-align:  left;\n",
       "        }    #T_f884f65e_ccf6_11ea_a23e_38f9d3db5c17row17_col8 {\n",
       "            background-color:  lightgrey;\n",
       "            text-align:  left;\n",
       "        }</style><table id=\"T_f884f65e_ccf6_11ea_a23e_38f9d3db5c17\" ><thead>    <tr>        <th class=\"blank level0\" ></th>        <th class=\"col_heading level0 col0\" >Model</th>        <th class=\"col_heading level0 col1\" >Accuracy</th>        <th class=\"col_heading level0 col2\" >AUC</th>        <th class=\"col_heading level0 col3\" >Recall</th>        <th class=\"col_heading level0 col4\" >Prec.</th>        <th class=\"col_heading level0 col5\" >F1</th>        <th class=\"col_heading level0 col6\" >Kappa</th>        <th class=\"col_heading level0 col7\" >MCC</th>        <th class=\"col_heading level0 col8\" >TT (Sec)</th>    </tr></thead><tbody>\n",
       "                <tr>\n",
       "                        <th id=\"T_f884f65e_ccf6_11ea_a23e_38f9d3db5c17level0_row0\" class=\"row_heading level0 row0\" >0</th>\n",
       "                        <td id=\"T_f884f65e_ccf6_11ea_a23e_38f9d3db5c17row0_col0\" class=\"data row0 col0\" >Gradient Boosting Classifier</td>\n",
       "                        <td id=\"T_f884f65e_ccf6_11ea_a23e_38f9d3db5c17row0_col1\" class=\"data row0 col1\" >0.9509</td>\n",
       "                        <td id=\"T_f884f65e_ccf6_11ea_a23e_38f9d3db5c17row0_col2\" class=\"data row0 col2\" >0.0000</td>\n",
       "                        <td id=\"T_f884f65e_ccf6_11ea_a23e_38f9d3db5c17row0_col3\" class=\"data row0 col3\" >0.9583</td>\n",
       "                        <td id=\"T_f884f65e_ccf6_11ea_a23e_38f9d3db5c17row0_col4\" class=\"data row0 col4\" >0.9662</td>\n",
       "                        <td id=\"T_f884f65e_ccf6_11ea_a23e_38f9d3db5c17row0_col5\" class=\"data row0 col5\" >0.9501</td>\n",
       "                        <td id=\"T_f884f65e_ccf6_11ea_a23e_38f9d3db5c17row0_col6\" class=\"data row0 col6\" >0.9272</td>\n",
       "                        <td id=\"T_f884f65e_ccf6_11ea_a23e_38f9d3db5c17row0_col7\" class=\"data row0 col7\" >0.9353</td>\n",
       "                        <td id=\"T_f884f65e_ccf6_11ea_a23e_38f9d3db5c17row0_col8\" class=\"data row0 col8\" >0.1352</td>\n",
       "            </tr>\n",
       "            <tr>\n",
       "                        <th id=\"T_f884f65e_ccf6_11ea_a23e_38f9d3db5c17level0_row1\" class=\"row_heading level0 row1\" >1</th>\n",
       "                        <td id=\"T_f884f65e_ccf6_11ea_a23e_38f9d3db5c17row1_col0\" class=\"data row1 col0\" >SVM - Radial Kernel</td>\n",
       "                        <td id=\"T_f884f65e_ccf6_11ea_a23e_38f9d3db5c17row1_col1\" class=\"data row1 col1\" >0.9427</td>\n",
       "                        <td id=\"T_f884f65e_ccf6_11ea_a23e_38f9d3db5c17row1_col2\" class=\"data row1 col2\" >0.0000</td>\n",
       "                        <td id=\"T_f884f65e_ccf6_11ea_a23e_38f9d3db5c17row1_col3\" class=\"data row1 col3\" >0.9500</td>\n",
       "                        <td id=\"T_f884f65e_ccf6_11ea_a23e_38f9d3db5c17row1_col4\" class=\"data row1 col4\" >0.9598</td>\n",
       "                        <td id=\"T_f884f65e_ccf6_11ea_a23e_38f9d3db5c17row1_col5\" class=\"data row1 col5\" >0.9420</td>\n",
       "                        <td id=\"T_f884f65e_ccf6_11ea_a23e_38f9d3db5c17row1_col6\" class=\"data row1 col6\" >0.9148</td>\n",
       "                        <td id=\"T_f884f65e_ccf6_11ea_a23e_38f9d3db5c17row1_col7\" class=\"data row1 col7\" >0.9235</td>\n",
       "                        <td id=\"T_f884f65e_ccf6_11ea_a23e_38f9d3db5c17row1_col8\" class=\"data row1 col8\" >0.0135</td>\n",
       "            </tr>\n",
       "            <tr>\n",
       "                        <th id=\"T_f884f65e_ccf6_11ea_a23e_38f9d3db5c17level0_row2\" class=\"row_heading level0 row2\" >2</th>\n",
       "                        <td id=\"T_f884f65e_ccf6_11ea_a23e_38f9d3db5c17row2_col0\" class=\"data row2 col0\" >Naive Bayes</td>\n",
       "                        <td id=\"T_f884f65e_ccf6_11ea_a23e_38f9d3db5c17row2_col1\" class=\"data row2 col1\" >0.9427</td>\n",
       "                        <td id=\"T_f884f65e_ccf6_11ea_a23e_38f9d3db5c17row2_col2\" class=\"data row2 col2\" >0.0000</td>\n",
       "                        <td id=\"T_f884f65e_ccf6_11ea_a23e_38f9d3db5c17row2_col3\" class=\"data row2 col3\" >0.9500</td>\n",
       "                        <td id=\"T_f884f65e_ccf6_11ea_a23e_38f9d3db5c17row2_col4\" class=\"data row2 col4\" >0.9598</td>\n",
       "                        <td id=\"T_f884f65e_ccf6_11ea_a23e_38f9d3db5c17row2_col5\" class=\"data row2 col5\" >0.9420</td>\n",
       "                        <td id=\"T_f884f65e_ccf6_11ea_a23e_38f9d3db5c17row2_col6\" class=\"data row2 col6\" >0.9148</td>\n",
       "                        <td id=\"T_f884f65e_ccf6_11ea_a23e_38f9d3db5c17row2_col7\" class=\"data row2 col7\" >0.9235</td>\n",
       "                        <td id=\"T_f884f65e_ccf6_11ea_a23e_38f9d3db5c17row2_col8\" class=\"data row2 col8\" >0.0093</td>\n",
       "            </tr>\n",
       "            <tr>\n",
       "                        <th id=\"T_f884f65e_ccf6_11ea_a23e_38f9d3db5c17level0_row3\" class=\"row_heading level0 row3\" >3</th>\n",
       "                        <td id=\"T_f884f65e_ccf6_11ea_a23e_38f9d3db5c17row3_col0\" class=\"data row3 col0\" >Decision Tree Classifier</td>\n",
       "                        <td id=\"T_f884f65e_ccf6_11ea_a23e_38f9d3db5c17row3_col1\" class=\"data row3 col1\" >0.9418</td>\n",
       "                        <td id=\"T_f884f65e_ccf6_11ea_a23e_38f9d3db5c17row3_col2\" class=\"data row3 col2\" >0.0000</td>\n",
       "                        <td id=\"T_f884f65e_ccf6_11ea_a23e_38f9d3db5c17row3_col3\" class=\"data row3 col3\" >0.9500</td>\n",
       "                        <td id=\"T_f884f65e_ccf6_11ea_a23e_38f9d3db5c17row3_col4\" class=\"data row3 col4\" >0.9594</td>\n",
       "                        <td id=\"T_f884f65e_ccf6_11ea_a23e_38f9d3db5c17row3_col5\" class=\"data row3 col5\" >0.9410</td>\n",
       "                        <td id=\"T_f884f65e_ccf6_11ea_a23e_38f9d3db5c17row3_col6\" class=\"data row3 col6\" >0.9136</td>\n",
       "                        <td id=\"T_f884f65e_ccf6_11ea_a23e_38f9d3db5c17row3_col7\" class=\"data row3 col7\" >0.9228</td>\n",
       "                        <td id=\"T_f884f65e_ccf6_11ea_a23e_38f9d3db5c17row3_col8\" class=\"data row3 col8\" >0.0132</td>\n",
       "            </tr>\n",
       "            <tr>\n",
       "                        <th id=\"T_f884f65e_ccf6_11ea_a23e_38f9d3db5c17level0_row4\" class=\"row_heading level0 row4\" >4</th>\n",
       "                        <td id=\"T_f884f65e_ccf6_11ea_a23e_38f9d3db5c17row4_col0\" class=\"data row4 col0\" >Quadratic Discriminant Analysis</td>\n",
       "                        <td id=\"T_f884f65e_ccf6_11ea_a23e_38f9d3db5c17row4_col1\" class=\"data row4 col1\" >0.9327</td>\n",
       "                        <td id=\"T_f884f65e_ccf6_11ea_a23e_38f9d3db5c17row4_col2\" class=\"data row4 col2\" >0.0000</td>\n",
       "                        <td id=\"T_f884f65e_ccf6_11ea_a23e_38f9d3db5c17row4_col3\" class=\"data row4 col3\" >0.9389</td>\n",
       "                        <td id=\"T_f884f65e_ccf6_11ea_a23e_38f9d3db5c17row4_col4\" class=\"data row4 col4\" >0.9553</td>\n",
       "                        <td id=\"T_f884f65e_ccf6_11ea_a23e_38f9d3db5c17row4_col5\" class=\"data row4 col5\" >0.9328</td>\n",
       "                        <td id=\"T_f884f65e_ccf6_11ea_a23e_38f9d3db5c17row4_col6\" class=\"data row4 col6\" >0.8999</td>\n",
       "                        <td id=\"T_f884f65e_ccf6_11ea_a23e_38f9d3db5c17row4_col7\" class=\"data row4 col7\" >0.9106</td>\n",
       "                        <td id=\"T_f884f65e_ccf6_11ea_a23e_38f9d3db5c17row4_col8\" class=\"data row4 col8\" >0.0104</td>\n",
       "            </tr>\n",
       "            <tr>\n",
       "                        <th id=\"T_f884f65e_ccf6_11ea_a23e_38f9d3db5c17level0_row5\" class=\"row_heading level0 row5\" >5</th>\n",
       "                        <td id=\"T_f884f65e_ccf6_11ea_a23e_38f9d3db5c17row5_col0\" class=\"data row5 col0\" >Extreme Gradient Boosting</td>\n",
       "                        <td id=\"T_f884f65e_ccf6_11ea_a23e_38f9d3db5c17row5_col1\" class=\"data row5 col1\" >0.9327</td>\n",
       "                        <td id=\"T_f884f65e_ccf6_11ea_a23e_38f9d3db5c17row5_col2\" class=\"data row5 col2\" >0.0000</td>\n",
       "                        <td id=\"T_f884f65e_ccf6_11ea_a23e_38f9d3db5c17row5_col3\" class=\"data row5 col3\" >0.9417</td>\n",
       "                        <td id=\"T_f884f65e_ccf6_11ea_a23e_38f9d3db5c17row5_col4\" class=\"data row5 col4\" >0.9525</td>\n",
       "                        <td id=\"T_f884f65e_ccf6_11ea_a23e_38f9d3db5c17row5_col5\" class=\"data row5 col5\" >0.9319</td>\n",
       "                        <td id=\"T_f884f65e_ccf6_11ea_a23e_38f9d3db5c17row5_col6\" class=\"data row5 col6\" >0.9000</td>\n",
       "                        <td id=\"T_f884f65e_ccf6_11ea_a23e_38f9d3db5c17row5_col7\" class=\"data row5 col7\" >0.9103</td>\n",
       "                        <td id=\"T_f884f65e_ccf6_11ea_a23e_38f9d3db5c17row5_col8\" class=\"data row5 col8\" >0.0372</td>\n",
       "            </tr>\n",
       "            <tr>\n",
       "                        <th id=\"T_f884f65e_ccf6_11ea_a23e_38f9d3db5c17level0_row6\" class=\"row_heading level0 row6\" >6</th>\n",
       "                        <td id=\"T_f884f65e_ccf6_11ea_a23e_38f9d3db5c17row6_col0\" class=\"data row6 col0\" >CatBoost Classifier</td>\n",
       "                        <td id=\"T_f884f65e_ccf6_11ea_a23e_38f9d3db5c17row6_col1\" class=\"data row6 col1\" >0.9327</td>\n",
       "                        <td id=\"T_f884f65e_ccf6_11ea_a23e_38f9d3db5c17row6_col2\" class=\"data row6 col2\" >0.0000</td>\n",
       "                        <td id=\"T_f884f65e_ccf6_11ea_a23e_38f9d3db5c17row6_col3\" class=\"data row6 col3\" >0.9417</td>\n",
       "                        <td id=\"T_f884f65e_ccf6_11ea_a23e_38f9d3db5c17row6_col4\" class=\"data row6 col4\" >0.9553</td>\n",
       "                        <td id=\"T_f884f65e_ccf6_11ea_a23e_38f9d3db5c17row6_col5\" class=\"data row6 col5\" >0.9311</td>\n",
       "                        <td id=\"T_f884f65e_ccf6_11ea_a23e_38f9d3db5c17row6_col6\" class=\"data row6 col6\" >0.9003</td>\n",
       "                        <td id=\"T_f884f65e_ccf6_11ea_a23e_38f9d3db5c17row6_col7\" class=\"data row6 col7\" >0.9122</td>\n",
       "                        <td id=\"T_f884f65e_ccf6_11ea_a23e_38f9d3db5c17row6_col8\" class=\"data row6 col8\" >2.4629</td>\n",
       "            </tr>\n",
       "            <tr>\n",
       "                        <th id=\"T_f884f65e_ccf6_11ea_a23e_38f9d3db5c17level0_row7\" class=\"row_heading level0 row7\" >7</th>\n",
       "                        <td id=\"T_f884f65e_ccf6_11ea_a23e_38f9d3db5c17row7_col0\" class=\"data row7 col0\" >Gaussian Process Classifier</td>\n",
       "                        <td id=\"T_f884f65e_ccf6_11ea_a23e_38f9d3db5c17row7_col1\" class=\"data row7 col1\" >0.9327</td>\n",
       "                        <td id=\"T_f884f65e_ccf6_11ea_a23e_38f9d3db5c17row7_col2\" class=\"data row7 col2\" >0.0000</td>\n",
       "                        <td id=\"T_f884f65e_ccf6_11ea_a23e_38f9d3db5c17row7_col3\" class=\"data row7 col3\" >0.9417</td>\n",
       "                        <td id=\"T_f884f65e_ccf6_11ea_a23e_38f9d3db5c17row7_col4\" class=\"data row7 col4\" >0.9553</td>\n",
       "                        <td id=\"T_f884f65e_ccf6_11ea_a23e_38f9d3db5c17row7_col5\" class=\"data row7 col5\" >0.9311</td>\n",
       "                        <td id=\"T_f884f65e_ccf6_11ea_a23e_38f9d3db5c17row7_col6\" class=\"data row7 col6\" >0.9003</td>\n",
       "                        <td id=\"T_f884f65e_ccf6_11ea_a23e_38f9d3db5c17row7_col7\" class=\"data row7 col7\" >0.9122</td>\n",
       "                        <td id=\"T_f884f65e_ccf6_11ea_a23e_38f9d3db5c17row7_col8\" class=\"data row7 col8\" >0.0358</td>\n",
       "            </tr>\n",
       "            <tr>\n",
       "                        <th id=\"T_f884f65e_ccf6_11ea_a23e_38f9d3db5c17level0_row8\" class=\"row_heading level0 row8\" >8</th>\n",
       "                        <td id=\"T_f884f65e_ccf6_11ea_a23e_38f9d3db5c17row8_col0\" class=\"data row8 col0\" >K Neighbors Classifier</td>\n",
       "                        <td id=\"T_f884f65e_ccf6_11ea_a23e_38f9d3db5c17row8_col1\" class=\"data row8 col1\" >0.9327</td>\n",
       "                        <td id=\"T_f884f65e_ccf6_11ea_a23e_38f9d3db5c17row8_col2\" class=\"data row8 col2\" >0.0000</td>\n",
       "                        <td id=\"T_f884f65e_ccf6_11ea_a23e_38f9d3db5c17row8_col3\" class=\"data row8 col3\" >0.9417</td>\n",
       "                        <td id=\"T_f884f65e_ccf6_11ea_a23e_38f9d3db5c17row8_col4\" class=\"data row8 col4\" >0.9553</td>\n",
       "                        <td id=\"T_f884f65e_ccf6_11ea_a23e_38f9d3db5c17row8_col5\" class=\"data row8 col5\" >0.9311</td>\n",
       "                        <td id=\"T_f884f65e_ccf6_11ea_a23e_38f9d3db5c17row8_col6\" class=\"data row8 col6\" >0.9003</td>\n",
       "                        <td id=\"T_f884f65e_ccf6_11ea_a23e_38f9d3db5c17row8_col7\" class=\"data row8 col7\" >0.9122</td>\n",
       "                        <td id=\"T_f884f65e_ccf6_11ea_a23e_38f9d3db5c17row8_col8\" class=\"data row8 col8\" >0.0091</td>\n",
       "            </tr>\n",
       "            <tr>\n",
       "                        <th id=\"T_f884f65e_ccf6_11ea_a23e_38f9d3db5c17level0_row9\" class=\"row_heading level0 row9\" >9</th>\n",
       "                        <td id=\"T_f884f65e_ccf6_11ea_a23e_38f9d3db5c17row9_col0\" class=\"data row9 col0\" >Linear Discriminant Analysis</td>\n",
       "                        <td id=\"T_f884f65e_ccf6_11ea_a23e_38f9d3db5c17row9_col1\" class=\"data row9 col1\" >0.9236</td>\n",
       "                        <td id=\"T_f884f65e_ccf6_11ea_a23e_38f9d3db5c17row9_col2\" class=\"data row9 col2\" >0.0000</td>\n",
       "                        <td id=\"T_f884f65e_ccf6_11ea_a23e_38f9d3db5c17row9_col3\" class=\"data row9 col3\" >0.9306</td>\n",
       "                        <td id=\"T_f884f65e_ccf6_11ea_a23e_38f9d3db5c17row9_col4\" class=\"data row9 col4\" >0.9439</td>\n",
       "                        <td id=\"T_f884f65e_ccf6_11ea_a23e_38f9d3db5c17row9_col5\" class=\"data row9 col5\" >0.9220</td>\n",
       "                        <td id=\"T_f884f65e_ccf6_11ea_a23e_38f9d3db5c17row9_col6\" class=\"data row9 col6\" >0.8864</td>\n",
       "                        <td id=\"T_f884f65e_ccf6_11ea_a23e_38f9d3db5c17row9_col7\" class=\"data row9 col7\" >0.8972</td>\n",
       "                        <td id=\"T_f884f65e_ccf6_11ea_a23e_38f9d3db5c17row9_col8\" class=\"data row9 col8\" >0.0119</td>\n",
       "            </tr>\n",
       "            <tr>\n",
       "                        <th id=\"T_f884f65e_ccf6_11ea_a23e_38f9d3db5c17level0_row10\" class=\"row_heading level0 row10\" >10</th>\n",
       "                        <td id=\"T_f884f65e_ccf6_11ea_a23e_38f9d3db5c17row10_col0\" class=\"data row10 col0\" >Ada Boost Classifier</td>\n",
       "                        <td id=\"T_f884f65e_ccf6_11ea_a23e_38f9d3db5c17row10_col1\" class=\"data row10 col1\" >0.9227</td>\n",
       "                        <td id=\"T_f884f65e_ccf6_11ea_a23e_38f9d3db5c17row10_col2\" class=\"data row10 col2\" >0.0000</td>\n",
       "                        <td id=\"T_f884f65e_ccf6_11ea_a23e_38f9d3db5c17row10_col3\" class=\"data row10 col3\" >0.9306</td>\n",
       "                        <td id=\"T_f884f65e_ccf6_11ea_a23e_38f9d3db5c17row10_col4\" class=\"data row10 col4\" >0.9428</td>\n",
       "                        <td id=\"T_f884f65e_ccf6_11ea_a23e_38f9d3db5c17row10_col5\" class=\"data row10 col5\" >0.9211</td>\n",
       "                        <td id=\"T_f884f65e_ccf6_11ea_a23e_38f9d3db5c17row10_col6\" class=\"data row10 col6\" >0.8850</td>\n",
       "                        <td id=\"T_f884f65e_ccf6_11ea_a23e_38f9d3db5c17row10_col7\" class=\"data row10 col7\" >0.8955</td>\n",
       "                        <td id=\"T_f884f65e_ccf6_11ea_a23e_38f9d3db5c17row10_col8\" class=\"data row10 col8\" >0.1274</td>\n",
       "            </tr>\n",
       "            <tr>\n",
       "                        <th id=\"T_f884f65e_ccf6_11ea_a23e_38f9d3db5c17level0_row11\" class=\"row_heading level0 row11\" >11</th>\n",
       "                        <td id=\"T_f884f65e_ccf6_11ea_a23e_38f9d3db5c17row11_col0\" class=\"data row11 col0\" >Extra Trees Classifier</td>\n",
       "                        <td id=\"T_f884f65e_ccf6_11ea_a23e_38f9d3db5c17row11_col1\" class=\"data row11 col1\" >0.9227</td>\n",
       "                        <td id=\"T_f884f65e_ccf6_11ea_a23e_38f9d3db5c17row11_col2\" class=\"data row11 col2\" >0.0000</td>\n",
       "                        <td id=\"T_f884f65e_ccf6_11ea_a23e_38f9d3db5c17row11_col3\" class=\"data row11 col3\" >0.9306</td>\n",
       "                        <td id=\"T_f884f65e_ccf6_11ea_a23e_38f9d3db5c17row11_col4\" class=\"data row11 col4\" >0.9428</td>\n",
       "                        <td id=\"T_f884f65e_ccf6_11ea_a23e_38f9d3db5c17row11_col5\" class=\"data row11 col5\" >0.9211</td>\n",
       "                        <td id=\"T_f884f65e_ccf6_11ea_a23e_38f9d3db5c17row11_col6\" class=\"data row11 col6\" >0.8850</td>\n",
       "                        <td id=\"T_f884f65e_ccf6_11ea_a23e_38f9d3db5c17row11_col7\" class=\"data row11 col7\" >0.8955</td>\n",
       "                        <td id=\"T_f884f65e_ccf6_11ea_a23e_38f9d3db5c17row11_col8\" class=\"data row11 col8\" >0.2849</td>\n",
       "            </tr>\n",
       "            <tr>\n",
       "                        <th id=\"T_f884f65e_ccf6_11ea_a23e_38f9d3db5c17level0_row12\" class=\"row_heading level0 row12\" >12</th>\n",
       "                        <td id=\"T_f884f65e_ccf6_11ea_a23e_38f9d3db5c17row12_col0\" class=\"data row12 col0\" >Light Gradient Boosting Machine</td>\n",
       "                        <td id=\"T_f884f65e_ccf6_11ea_a23e_38f9d3db5c17row12_col1\" class=\"data row12 col1\" >0.9227</td>\n",
       "                        <td id=\"T_f884f65e_ccf6_11ea_a23e_38f9d3db5c17row12_col2\" class=\"data row12 col2\" >0.0000</td>\n",
       "                        <td id=\"T_f884f65e_ccf6_11ea_a23e_38f9d3db5c17row12_col3\" class=\"data row12 col3\" >0.9306</td>\n",
       "                        <td id=\"T_f884f65e_ccf6_11ea_a23e_38f9d3db5c17row12_col4\" class=\"data row12 col4\" >0.9400</td>\n",
       "                        <td id=\"T_f884f65e_ccf6_11ea_a23e_38f9d3db5c17row12_col5\" class=\"data row12 col5\" >0.9219</td>\n",
       "                        <td id=\"T_f884f65e_ccf6_11ea_a23e_38f9d3db5c17row12_col6\" class=\"data row12 col6\" >0.8846</td>\n",
       "                        <td id=\"T_f884f65e_ccf6_11ea_a23e_38f9d3db5c17row12_col7\" class=\"data row12 col7\" >0.8936</td>\n",
       "                        <td id=\"T_f884f65e_ccf6_11ea_a23e_38f9d3db5c17row12_col8\" class=\"data row12 col8\" >0.0364</td>\n",
       "            </tr>\n",
       "            <tr>\n",
       "                        <th id=\"T_f884f65e_ccf6_11ea_a23e_38f9d3db5c17level0_row13\" class=\"row_heading level0 row13\" >13</th>\n",
       "                        <td id=\"T_f884f65e_ccf6_11ea_a23e_38f9d3db5c17row13_col0\" class=\"data row13 col0\" >Random Forest Classifier</td>\n",
       "                        <td id=\"T_f884f65e_ccf6_11ea_a23e_38f9d3db5c17row13_col1\" class=\"data row13 col1\" >0.9227</td>\n",
       "                        <td id=\"T_f884f65e_ccf6_11ea_a23e_38f9d3db5c17row13_col2\" class=\"data row13 col2\" >0.0000</td>\n",
       "                        <td id=\"T_f884f65e_ccf6_11ea_a23e_38f9d3db5c17row13_col3\" class=\"data row13 col3\" >0.9306</td>\n",
       "                        <td id=\"T_f884f65e_ccf6_11ea_a23e_38f9d3db5c17row13_col4\" class=\"data row13 col4\" >0.9428</td>\n",
       "                        <td id=\"T_f884f65e_ccf6_11ea_a23e_38f9d3db5c17row13_col5\" class=\"data row13 col5\" >0.9211</td>\n",
       "                        <td id=\"T_f884f65e_ccf6_11ea_a23e_38f9d3db5c17row13_col6\" class=\"data row13 col6\" >0.8850</td>\n",
       "                        <td id=\"T_f884f65e_ccf6_11ea_a23e_38f9d3db5c17row13_col7\" class=\"data row13 col7\" >0.8955</td>\n",
       "                        <td id=\"T_f884f65e_ccf6_11ea_a23e_38f9d3db5c17row13_col8\" class=\"data row13 col8\" >0.0592</td>\n",
       "            </tr>\n",
       "            <tr>\n",
       "                        <th id=\"T_f884f65e_ccf6_11ea_a23e_38f9d3db5c17level0_row14\" class=\"row_heading level0 row14\" >14</th>\n",
       "                        <td id=\"T_f884f65e_ccf6_11ea_a23e_38f9d3db5c17row14_col0\" class=\"data row14 col0\" >Ridge Classifier</td>\n",
       "                        <td id=\"T_f884f65e_ccf6_11ea_a23e_38f9d3db5c17row14_col1\" class=\"data row14 col1\" >0.9145</td>\n",
       "                        <td id=\"T_f884f65e_ccf6_11ea_a23e_38f9d3db5c17row14_col2\" class=\"data row14 col2\" >0.0000</td>\n",
       "                        <td id=\"T_f884f65e_ccf6_11ea_a23e_38f9d3db5c17row14_col3\" class=\"data row14 col3\" >0.9222</td>\n",
       "                        <td id=\"T_f884f65e_ccf6_11ea_a23e_38f9d3db5c17row14_col4\" class=\"data row14 col4\" >0.9394</td>\n",
       "                        <td id=\"T_f884f65e_ccf6_11ea_a23e_38f9d3db5c17row14_col5\" class=\"data row14 col5\" >0.9143</td>\n",
       "                        <td id=\"T_f884f65e_ccf6_11ea_a23e_38f9d3db5c17row14_col6\" class=\"data row14 col6\" >0.8732</td>\n",
       "                        <td id=\"T_f884f65e_ccf6_11ea_a23e_38f9d3db5c17row14_col7\" class=\"data row14 col7\" >0.8847</td>\n",
       "                        <td id=\"T_f884f65e_ccf6_11ea_a23e_38f9d3db5c17row14_col8\" class=\"data row14 col8\" >0.0152</td>\n",
       "            </tr>\n",
       "            <tr>\n",
       "                        <th id=\"T_f884f65e_ccf6_11ea_a23e_38f9d3db5c17level0_row15\" class=\"row_heading level0 row15\" >15</th>\n",
       "                        <td id=\"T_f884f65e_ccf6_11ea_a23e_38f9d3db5c17row15_col0\" class=\"data row15 col0\" >Logistic Regression</td>\n",
       "                        <td id=\"T_f884f65e_ccf6_11ea_a23e_38f9d3db5c17row15_col1\" class=\"data row15 col1\" >0.9055</td>\n",
       "                        <td id=\"T_f884f65e_ccf6_11ea_a23e_38f9d3db5c17row15_col2\" class=\"data row15 col2\" >0.0000</td>\n",
       "                        <td id=\"T_f884f65e_ccf6_11ea_a23e_38f9d3db5c17row15_col3\" class=\"data row15 col3\" >0.9111</td>\n",
       "                        <td id=\"T_f884f65e_ccf6_11ea_a23e_38f9d3db5c17row15_col4\" class=\"data row15 col4\" >0.9351</td>\n",
       "                        <td id=\"T_f884f65e_ccf6_11ea_a23e_38f9d3db5c17row15_col5\" class=\"data row15 col5\" >0.9039</td>\n",
       "                        <td id=\"T_f884f65e_ccf6_11ea_a23e_38f9d3db5c17row15_col6\" class=\"data row15 col6\" >0.8597</td>\n",
       "                        <td id=\"T_f884f65e_ccf6_11ea_a23e_38f9d3db5c17row15_col7\" class=\"data row15 col7\" >0.8742</td>\n",
       "                        <td id=\"T_f884f65e_ccf6_11ea_a23e_38f9d3db5c17row15_col8\" class=\"data row15 col8\" >0.0254</td>\n",
       "            </tr>\n",
       "            <tr>\n",
       "                        <th id=\"T_f884f65e_ccf6_11ea_a23e_38f9d3db5c17level0_row16\" class=\"row_heading level0 row16\" >16</th>\n",
       "                        <td id=\"T_f884f65e_ccf6_11ea_a23e_38f9d3db5c17row16_col0\" class=\"data row16 col0\" >MLP Classifier</td>\n",
       "                        <td id=\"T_f884f65e_ccf6_11ea_a23e_38f9d3db5c17row16_col1\" class=\"data row16 col1\" >0.9027</td>\n",
       "                        <td id=\"T_f884f65e_ccf6_11ea_a23e_38f9d3db5c17row16_col2\" class=\"data row16 col2\" >0.0000</td>\n",
       "                        <td id=\"T_f884f65e_ccf6_11ea_a23e_38f9d3db5c17row16_col3\" class=\"data row16 col3\" >0.9139</td>\n",
       "                        <td id=\"T_f884f65e_ccf6_11ea_a23e_38f9d3db5c17row16_col4\" class=\"data row16 col4\" >0.9308</td>\n",
       "                        <td id=\"T_f884f65e_ccf6_11ea_a23e_38f9d3db5c17row16_col5\" class=\"data row16 col5\" >0.9003</td>\n",
       "                        <td id=\"T_f884f65e_ccf6_11ea_a23e_38f9d3db5c17row16_col6\" class=\"data row16 col6\" >0.8555</td>\n",
       "                        <td id=\"T_f884f65e_ccf6_11ea_a23e_38f9d3db5c17row16_col7\" class=\"data row16 col7\" >0.8706</td>\n",
       "                        <td id=\"T_f884f65e_ccf6_11ea_a23e_38f9d3db5c17row16_col8\" class=\"data row16 col8\" >0.8226</td>\n",
       "            </tr>\n",
       "            <tr>\n",
       "                        <th id=\"T_f884f65e_ccf6_11ea_a23e_38f9d3db5c17level0_row17\" class=\"row_heading level0 row17\" >17</th>\n",
       "                        <td id=\"T_f884f65e_ccf6_11ea_a23e_38f9d3db5c17row17_col0\" class=\"data row17 col0\" >SVM - Linear Kernel</td>\n",
       "                        <td id=\"T_f884f65e_ccf6_11ea_a23e_38f9d3db5c17row17_col1\" class=\"data row17 col1\" >0.8864</td>\n",
       "                        <td id=\"T_f884f65e_ccf6_11ea_a23e_38f9d3db5c17row17_col2\" class=\"data row17 col2\" >0.0000</td>\n",
       "                        <td id=\"T_f884f65e_ccf6_11ea_a23e_38f9d3db5c17row17_col3\" class=\"data row17 col3\" >0.8917</td>\n",
       "                        <td id=\"T_f884f65e_ccf6_11ea_a23e_38f9d3db5c17row17_col4\" class=\"data row17 col4\" >0.9128</td>\n",
       "                        <td id=\"T_f884f65e_ccf6_11ea_a23e_38f9d3db5c17row17_col5\" class=\"data row17 col5\" >0.8857</td>\n",
       "                        <td id=\"T_f884f65e_ccf6_11ea_a23e_38f9d3db5c17row17_col6\" class=\"data row17 col6\" >0.8303</td>\n",
       "                        <td id=\"T_f884f65e_ccf6_11ea_a23e_38f9d3db5c17row17_col7\" class=\"data row17 col7\" >0.8428</td>\n",
       "                        <td id=\"T_f884f65e_ccf6_11ea_a23e_38f9d3db5c17row17_col8\" class=\"data row17 col8\" >0.0113</td>\n",
       "            </tr>\n",
       "    </tbody></table>"
      ],
      "text/plain": [
       "<pandas.io.formats.style.Styler at 0x12f67c580>"
      ]
     },
     "metadata": {},
     "output_type": "display_data"
    }
   ],
   "source": [
    "# automatically compare all models \n",
    "best_classification_model = classification.compare_models(\n",
    "    turbo=False,\n",
    ")"
   ]
  },
  {
   "cell_type": "code",
   "execution_count": 20,
   "metadata": {},
   "outputs": [
    {
     "data": {
      "text/html": [
       "<style  type=\"text/css\" >\n",
       "    #T_f97f4546_ccf6_11ea_a23e_38f9d3db5c17row10_col0 {\n",
       "            background:  yellow;\n",
       "        }    #T_f97f4546_ccf6_11ea_a23e_38f9d3db5c17row10_col1 {\n",
       "            background:  yellow;\n",
       "        }    #T_f97f4546_ccf6_11ea_a23e_38f9d3db5c17row10_col2 {\n",
       "            background:  yellow;\n",
       "        }    #T_f97f4546_ccf6_11ea_a23e_38f9d3db5c17row10_col3 {\n",
       "            background:  yellow;\n",
       "        }    #T_f97f4546_ccf6_11ea_a23e_38f9d3db5c17row10_col4 {\n",
       "            background:  yellow;\n",
       "        }    #T_f97f4546_ccf6_11ea_a23e_38f9d3db5c17row10_col5 {\n",
       "            background:  yellow;\n",
       "        }    #T_f97f4546_ccf6_11ea_a23e_38f9d3db5c17row10_col6 {\n",
       "            background:  yellow;\n",
       "        }</style><table id=\"T_f97f4546_ccf6_11ea_a23e_38f9d3db5c17\" ><thead>    <tr>        <th class=\"blank level0\" ></th>        <th class=\"col_heading level0 col0\" >Accuracy</th>        <th class=\"col_heading level0 col1\" >AUC</th>        <th class=\"col_heading level0 col2\" >Recall</th>        <th class=\"col_heading level0 col3\" >Prec.</th>        <th class=\"col_heading level0 col4\" >F1</th>        <th class=\"col_heading level0 col5\" >Kappa</th>        <th class=\"col_heading level0 col6\" >MCC</th>    </tr></thead><tbody>\n",
       "                <tr>\n",
       "                        <th id=\"T_f97f4546_ccf6_11ea_a23e_38f9d3db5c17level0_row0\" class=\"row_heading level0 row0\" >0</th>\n",
       "                        <td id=\"T_f97f4546_ccf6_11ea_a23e_38f9d3db5c17row0_col0\" class=\"data row0 col0\" >1.0000</td>\n",
       "                        <td id=\"T_f97f4546_ccf6_11ea_a23e_38f9d3db5c17row0_col1\" class=\"data row0 col1\" >0.0000</td>\n",
       "                        <td id=\"T_f97f4546_ccf6_11ea_a23e_38f9d3db5c17row0_col2\" class=\"data row0 col2\" >1.0000</td>\n",
       "                        <td id=\"T_f97f4546_ccf6_11ea_a23e_38f9d3db5c17row0_col3\" class=\"data row0 col3\" >1.0000</td>\n",
       "                        <td id=\"T_f97f4546_ccf6_11ea_a23e_38f9d3db5c17row0_col4\" class=\"data row0 col4\" >1.0000</td>\n",
       "                        <td id=\"T_f97f4546_ccf6_11ea_a23e_38f9d3db5c17row0_col5\" class=\"data row0 col5\" >1.0000</td>\n",
       "                        <td id=\"T_f97f4546_ccf6_11ea_a23e_38f9d3db5c17row0_col6\" class=\"data row0 col6\" >1.0000</td>\n",
       "            </tr>\n",
       "            <tr>\n",
       "                        <th id=\"T_f97f4546_ccf6_11ea_a23e_38f9d3db5c17level0_row1\" class=\"row_heading level0 row1\" >1</th>\n",
       "                        <td id=\"T_f97f4546_ccf6_11ea_a23e_38f9d3db5c17row1_col0\" class=\"data row1 col0\" >0.9091</td>\n",
       "                        <td id=\"T_f97f4546_ccf6_11ea_a23e_38f9d3db5c17row1_col1\" class=\"data row1 col1\" >0.0000</td>\n",
       "                        <td id=\"T_f97f4546_ccf6_11ea_a23e_38f9d3db5c17row1_col2\" class=\"data row1 col2\" >0.9167</td>\n",
       "                        <td id=\"T_f97f4546_ccf6_11ea_a23e_38f9d3db5c17row1_col3\" class=\"data row1 col3\" >0.9318</td>\n",
       "                        <td id=\"T_f97f4546_ccf6_11ea_a23e_38f9d3db5c17row1_col4\" class=\"data row1 col4\" >0.9091</td>\n",
       "                        <td id=\"T_f97f4546_ccf6_11ea_a23e_38f9d3db5c17row1_col5\" class=\"data row1 col5\" >0.8642</td>\n",
       "                        <td id=\"T_f97f4546_ccf6_11ea_a23e_38f9d3db5c17row1_col6\" class=\"data row1 col6\" >0.8750</td>\n",
       "            </tr>\n",
       "            <tr>\n",
       "                        <th id=\"T_f97f4546_ccf6_11ea_a23e_38f9d3db5c17level0_row2\" class=\"row_heading level0 row2\" >2</th>\n",
       "                        <td id=\"T_f97f4546_ccf6_11ea_a23e_38f9d3db5c17row2_col0\" class=\"data row2 col0\" >0.9091</td>\n",
       "                        <td id=\"T_f97f4546_ccf6_11ea_a23e_38f9d3db5c17row2_col1\" class=\"data row2 col1\" >0.0000</td>\n",
       "                        <td id=\"T_f97f4546_ccf6_11ea_a23e_38f9d3db5c17row2_col2\" class=\"data row2 col2\" >0.9167</td>\n",
       "                        <td id=\"T_f97f4546_ccf6_11ea_a23e_38f9d3db5c17row2_col3\" class=\"data row2 col3\" >0.9318</td>\n",
       "                        <td id=\"T_f97f4546_ccf6_11ea_a23e_38f9d3db5c17row2_col4\" class=\"data row2 col4\" >0.9091</td>\n",
       "                        <td id=\"T_f97f4546_ccf6_11ea_a23e_38f9d3db5c17row2_col5\" class=\"data row2 col5\" >0.8642</td>\n",
       "                        <td id=\"T_f97f4546_ccf6_11ea_a23e_38f9d3db5c17row2_col6\" class=\"data row2 col6\" >0.8750</td>\n",
       "            </tr>\n",
       "            <tr>\n",
       "                        <th id=\"T_f97f4546_ccf6_11ea_a23e_38f9d3db5c17level0_row3\" class=\"row_heading level0 row3\" >3</th>\n",
       "                        <td id=\"T_f97f4546_ccf6_11ea_a23e_38f9d3db5c17row3_col0\" class=\"data row3 col0\" >0.9091</td>\n",
       "                        <td id=\"T_f97f4546_ccf6_11ea_a23e_38f9d3db5c17row3_col1\" class=\"data row3 col1\" >0.0000</td>\n",
       "                        <td id=\"T_f97f4546_ccf6_11ea_a23e_38f9d3db5c17row3_col2\" class=\"data row3 col2\" >0.9167</td>\n",
       "                        <td id=\"T_f97f4546_ccf6_11ea_a23e_38f9d3db5c17row3_col3\" class=\"data row3 col3\" >0.9318</td>\n",
       "                        <td id=\"T_f97f4546_ccf6_11ea_a23e_38f9d3db5c17row3_col4\" class=\"data row3 col4\" >0.9091</td>\n",
       "                        <td id=\"T_f97f4546_ccf6_11ea_a23e_38f9d3db5c17row3_col5\" class=\"data row3 col5\" >0.8642</td>\n",
       "                        <td id=\"T_f97f4546_ccf6_11ea_a23e_38f9d3db5c17row3_col6\" class=\"data row3 col6\" >0.8750</td>\n",
       "            </tr>\n",
       "            <tr>\n",
       "                        <th id=\"T_f97f4546_ccf6_11ea_a23e_38f9d3db5c17level0_row4\" class=\"row_heading level0 row4\" >4</th>\n",
       "                        <td id=\"T_f97f4546_ccf6_11ea_a23e_38f9d3db5c17row4_col0\" class=\"data row4 col0\" >0.9000</td>\n",
       "                        <td id=\"T_f97f4546_ccf6_11ea_a23e_38f9d3db5c17row4_col1\" class=\"data row4 col1\" >0.0000</td>\n",
       "                        <td id=\"T_f97f4546_ccf6_11ea_a23e_38f9d3db5c17row4_col2\" class=\"data row4 col2\" >0.9167</td>\n",
       "                        <td id=\"T_f97f4546_ccf6_11ea_a23e_38f9d3db5c17row4_col3\" class=\"data row4 col3\" >0.9250</td>\n",
       "                        <td id=\"T_f97f4546_ccf6_11ea_a23e_38f9d3db5c17row4_col4\" class=\"data row4 col4\" >0.9000</td>\n",
       "                        <td id=\"T_f97f4546_ccf6_11ea_a23e_38f9d3db5c17row4_col5\" class=\"data row4 col5\" >0.8507</td>\n",
       "                        <td id=\"T_f97f4546_ccf6_11ea_a23e_38f9d3db5c17row4_col6\" class=\"data row4 col6\" >0.8636</td>\n",
       "            </tr>\n",
       "            <tr>\n",
       "                        <th id=\"T_f97f4546_ccf6_11ea_a23e_38f9d3db5c17level0_row5\" class=\"row_heading level0 row5\" >5</th>\n",
       "                        <td id=\"T_f97f4546_ccf6_11ea_a23e_38f9d3db5c17row5_col0\" class=\"data row5 col0\" >1.0000</td>\n",
       "                        <td id=\"T_f97f4546_ccf6_11ea_a23e_38f9d3db5c17row5_col1\" class=\"data row5 col1\" >0.0000</td>\n",
       "                        <td id=\"T_f97f4546_ccf6_11ea_a23e_38f9d3db5c17row5_col2\" class=\"data row5 col2\" >1.0000</td>\n",
       "                        <td id=\"T_f97f4546_ccf6_11ea_a23e_38f9d3db5c17row5_col3\" class=\"data row5 col3\" >1.0000</td>\n",
       "                        <td id=\"T_f97f4546_ccf6_11ea_a23e_38f9d3db5c17row5_col4\" class=\"data row5 col4\" >1.0000</td>\n",
       "                        <td id=\"T_f97f4546_ccf6_11ea_a23e_38f9d3db5c17row5_col5\" class=\"data row5 col5\" >1.0000</td>\n",
       "                        <td id=\"T_f97f4546_ccf6_11ea_a23e_38f9d3db5c17row5_col6\" class=\"data row5 col6\" >1.0000</td>\n",
       "            </tr>\n",
       "            <tr>\n",
       "                        <th id=\"T_f97f4546_ccf6_11ea_a23e_38f9d3db5c17level0_row6\" class=\"row_heading level0 row6\" >6</th>\n",
       "                        <td id=\"T_f97f4546_ccf6_11ea_a23e_38f9d3db5c17row6_col0\" class=\"data row6 col0\" >1.0000</td>\n",
       "                        <td id=\"T_f97f4546_ccf6_11ea_a23e_38f9d3db5c17row6_col1\" class=\"data row6 col1\" >0.0000</td>\n",
       "                        <td id=\"T_f97f4546_ccf6_11ea_a23e_38f9d3db5c17row6_col2\" class=\"data row6 col2\" >1.0000</td>\n",
       "                        <td id=\"T_f97f4546_ccf6_11ea_a23e_38f9d3db5c17row6_col3\" class=\"data row6 col3\" >1.0000</td>\n",
       "                        <td id=\"T_f97f4546_ccf6_11ea_a23e_38f9d3db5c17row6_col4\" class=\"data row6 col4\" >1.0000</td>\n",
       "                        <td id=\"T_f97f4546_ccf6_11ea_a23e_38f9d3db5c17row6_col5\" class=\"data row6 col5\" >1.0000</td>\n",
       "                        <td id=\"T_f97f4546_ccf6_11ea_a23e_38f9d3db5c17row6_col6\" class=\"data row6 col6\" >1.0000</td>\n",
       "            </tr>\n",
       "            <tr>\n",
       "                        <th id=\"T_f97f4546_ccf6_11ea_a23e_38f9d3db5c17level0_row7\" class=\"row_heading level0 row7\" >7</th>\n",
       "                        <td id=\"T_f97f4546_ccf6_11ea_a23e_38f9d3db5c17row7_col0\" class=\"data row7 col0\" >0.8000</td>\n",
       "                        <td id=\"T_f97f4546_ccf6_11ea_a23e_38f9d3db5c17row7_col1\" class=\"data row7 col1\" >0.0000</td>\n",
       "                        <td id=\"T_f97f4546_ccf6_11ea_a23e_38f9d3db5c17row7_col2\" class=\"data row7 col2\" >0.8333</td>\n",
       "                        <td id=\"T_f97f4546_ccf6_11ea_a23e_38f9d3db5c17row7_col3\" class=\"data row7 col3\" >0.8800</td>\n",
       "                        <td id=\"T_f97f4546_ccf6_11ea_a23e_38f9d3db5c17row7_col4\" class=\"data row7 col4\" >0.7917</td>\n",
       "                        <td id=\"T_f97f4546_ccf6_11ea_a23e_38f9d3db5c17row7_col5\" class=\"data row7 col5\" >0.7059</td>\n",
       "                        <td id=\"T_f97f4546_ccf6_11ea_a23e_38f9d3db5c17row7_col6\" class=\"data row7 col6\" >0.7504</td>\n",
       "            </tr>\n",
       "            <tr>\n",
       "                        <th id=\"T_f97f4546_ccf6_11ea_a23e_38f9d3db5c17level0_row8\" class=\"row_heading level0 row8\" >8</th>\n",
       "                        <td id=\"T_f97f4546_ccf6_11ea_a23e_38f9d3db5c17row8_col0\" class=\"data row8 col0\" >1.0000</td>\n",
       "                        <td id=\"T_f97f4546_ccf6_11ea_a23e_38f9d3db5c17row8_col1\" class=\"data row8 col1\" >0.0000</td>\n",
       "                        <td id=\"T_f97f4546_ccf6_11ea_a23e_38f9d3db5c17row8_col2\" class=\"data row8 col2\" >1.0000</td>\n",
       "                        <td id=\"T_f97f4546_ccf6_11ea_a23e_38f9d3db5c17row8_col3\" class=\"data row8 col3\" >1.0000</td>\n",
       "                        <td id=\"T_f97f4546_ccf6_11ea_a23e_38f9d3db5c17row8_col4\" class=\"data row8 col4\" >1.0000</td>\n",
       "                        <td id=\"T_f97f4546_ccf6_11ea_a23e_38f9d3db5c17row8_col5\" class=\"data row8 col5\" >1.0000</td>\n",
       "                        <td id=\"T_f97f4546_ccf6_11ea_a23e_38f9d3db5c17row8_col6\" class=\"data row8 col6\" >1.0000</td>\n",
       "            </tr>\n",
       "            <tr>\n",
       "                        <th id=\"T_f97f4546_ccf6_11ea_a23e_38f9d3db5c17level0_row9\" class=\"row_heading level0 row9\" >9</th>\n",
       "                        <td id=\"T_f97f4546_ccf6_11ea_a23e_38f9d3db5c17row9_col0\" class=\"data row9 col0\" >0.9000</td>\n",
       "                        <td id=\"T_f97f4546_ccf6_11ea_a23e_38f9d3db5c17row9_col1\" class=\"data row9 col1\" >0.0000</td>\n",
       "                        <td id=\"T_f97f4546_ccf6_11ea_a23e_38f9d3db5c17row9_col2\" class=\"data row9 col2\" >0.9167</td>\n",
       "                        <td id=\"T_f97f4546_ccf6_11ea_a23e_38f9d3db5c17row9_col3\" class=\"data row9 col3\" >0.9250</td>\n",
       "                        <td id=\"T_f97f4546_ccf6_11ea_a23e_38f9d3db5c17row9_col4\" class=\"data row9 col4\" >0.9000</td>\n",
       "                        <td id=\"T_f97f4546_ccf6_11ea_a23e_38f9d3db5c17row9_col5\" class=\"data row9 col5\" >0.8507</td>\n",
       "                        <td id=\"T_f97f4546_ccf6_11ea_a23e_38f9d3db5c17row9_col6\" class=\"data row9 col6\" >0.8636</td>\n",
       "            </tr>\n",
       "            <tr>\n",
       "                        <th id=\"T_f97f4546_ccf6_11ea_a23e_38f9d3db5c17level0_row10\" class=\"row_heading level0 row10\" >Mean</th>\n",
       "                        <td id=\"T_f97f4546_ccf6_11ea_a23e_38f9d3db5c17row10_col0\" class=\"data row10 col0\" >0.9327</td>\n",
       "                        <td id=\"T_f97f4546_ccf6_11ea_a23e_38f9d3db5c17row10_col1\" class=\"data row10 col1\" >0.0000</td>\n",
       "                        <td id=\"T_f97f4546_ccf6_11ea_a23e_38f9d3db5c17row10_col2\" class=\"data row10 col2\" >0.9417</td>\n",
       "                        <td id=\"T_f97f4546_ccf6_11ea_a23e_38f9d3db5c17row10_col3\" class=\"data row10 col3\" >0.9525</td>\n",
       "                        <td id=\"T_f97f4546_ccf6_11ea_a23e_38f9d3db5c17row10_col4\" class=\"data row10 col4\" >0.9319</td>\n",
       "                        <td id=\"T_f97f4546_ccf6_11ea_a23e_38f9d3db5c17row10_col5\" class=\"data row10 col5\" >0.9000</td>\n",
       "                        <td id=\"T_f97f4546_ccf6_11ea_a23e_38f9d3db5c17row10_col6\" class=\"data row10 col6\" >0.9103</td>\n",
       "            </tr>\n",
       "            <tr>\n",
       "                        <th id=\"T_f97f4546_ccf6_11ea_a23e_38f9d3db5c17level0_row11\" class=\"row_heading level0 row11\" >SD</th>\n",
       "                        <td id=\"T_f97f4546_ccf6_11ea_a23e_38f9d3db5c17row11_col0\" class=\"data row11 col0\" >0.0629</td>\n",
       "                        <td id=\"T_f97f4546_ccf6_11ea_a23e_38f9d3db5c17row11_col1\" class=\"data row11 col1\" >0.0000</td>\n",
       "                        <td id=\"T_f97f4546_ccf6_11ea_a23e_38f9d3db5c17row11_col2\" class=\"data row11 col2\" >0.0534</td>\n",
       "                        <td id=\"T_f97f4546_ccf6_11ea_a23e_38f9d3db5c17row11_col3\" class=\"data row11 col3\" >0.0413</td>\n",
       "                        <td id=\"T_f97f4546_ccf6_11ea_a23e_38f9d3db5c17row11_col4\" class=\"data row11 col4\" >0.0647</td>\n",
       "                        <td id=\"T_f97f4546_ccf6_11ea_a23e_38f9d3db5c17row11_col5\" class=\"data row11 col5\" >0.0929</td>\n",
       "                        <td id=\"T_f97f4546_ccf6_11ea_a23e_38f9d3db5c17row11_col6\" class=\"data row11 col6\" >0.0812</td>\n",
       "            </tr>\n",
       "    </tbody></table>"
      ],
      "text/plain": [
       "<pandas.io.formats.style.Styler at 0x1284876a0>"
      ]
     },
     "metadata": {},
     "output_type": "display_data"
    }
   ],
   "source": [
    "# create a model \n",
    "# 'lr'        Logistic Regression             \n",
    "# 'knn'       K Nearest Neighbour            \n",
    "# 'nb'        Naive Bayes             \n",
    "# 'dt'        Decision Tree Classifier                   \n",
    "# 'svm'       SVM - Linear Kernel                 \n",
    "# 'rbfsvm'    SVM - Radial Kernel               \n",
    "# 'gpc'       Gaussian Process Classifier                  \n",
    "# 'mlp'       Multi Level Perceptron                  \n",
    "# 'ridge'     Ridge Classifier                \n",
    "# 'rf'        Random Forest Classifier                   \n",
    "# 'qda'       Quadratic Discriminant Analysis                  \n",
    "# 'ada'       Ada Boost Classifier                 \n",
    "# 'gbc'       Gradient Boosting Classifier                  \n",
    "# 'lda'       Linear Discriminant Analysis                  \n",
    "# 'et'        Extra Trees Classifier                   \n",
    "# 'xgboost'   Extreme Gradient Boosting              \n",
    "# 'lightgbm'  Light Gradient Boosting              \n",
    "# 'catboost'  CatBoost Classifier   \n",
    "classification_model = classification.create_model(\n",
    "    estimator='xgboost'\n",
    ")"
   ]
  },
  {
   "cell_type": "code",
   "execution_count": 21,
   "metadata": {},
   "outputs": [
    {
     "data": {
      "text/html": [
       "<style  type=\"text/css\" >\n",
       "    #T_fcf62eb0_ccf6_11ea_a23e_38f9d3db5c17row10_col0 {\n",
       "            background:  yellow;\n",
       "        }    #T_fcf62eb0_ccf6_11ea_a23e_38f9d3db5c17row10_col1 {\n",
       "            background:  yellow;\n",
       "        }    #T_fcf62eb0_ccf6_11ea_a23e_38f9d3db5c17row10_col2 {\n",
       "            background:  yellow;\n",
       "        }    #T_fcf62eb0_ccf6_11ea_a23e_38f9d3db5c17row10_col3 {\n",
       "            background:  yellow;\n",
       "        }    #T_fcf62eb0_ccf6_11ea_a23e_38f9d3db5c17row10_col4 {\n",
       "            background:  yellow;\n",
       "        }    #T_fcf62eb0_ccf6_11ea_a23e_38f9d3db5c17row10_col5 {\n",
       "            background:  yellow;\n",
       "        }    #T_fcf62eb0_ccf6_11ea_a23e_38f9d3db5c17row10_col6 {\n",
       "            background:  yellow;\n",
       "        }</style><table id=\"T_fcf62eb0_ccf6_11ea_a23e_38f9d3db5c17\" ><thead>    <tr>        <th class=\"blank level0\" ></th>        <th class=\"col_heading level0 col0\" >Accuracy</th>        <th class=\"col_heading level0 col1\" >AUC</th>        <th class=\"col_heading level0 col2\" >Recall</th>        <th class=\"col_heading level0 col3\" >Prec.</th>        <th class=\"col_heading level0 col4\" >F1</th>        <th class=\"col_heading level0 col5\" >Kappa</th>        <th class=\"col_heading level0 col6\" >MCC</th>    </tr></thead><tbody>\n",
       "                <tr>\n",
       "                        <th id=\"T_fcf62eb0_ccf6_11ea_a23e_38f9d3db5c17level0_row0\" class=\"row_heading level0 row0\" >0</th>\n",
       "                        <td id=\"T_fcf62eb0_ccf6_11ea_a23e_38f9d3db5c17row0_col0\" class=\"data row0 col0\" >1.0000</td>\n",
       "                        <td id=\"T_fcf62eb0_ccf6_11ea_a23e_38f9d3db5c17row0_col1\" class=\"data row0 col1\" >0.0000</td>\n",
       "                        <td id=\"T_fcf62eb0_ccf6_11ea_a23e_38f9d3db5c17row0_col2\" class=\"data row0 col2\" >1.0000</td>\n",
       "                        <td id=\"T_fcf62eb0_ccf6_11ea_a23e_38f9d3db5c17row0_col3\" class=\"data row0 col3\" >1.0000</td>\n",
       "                        <td id=\"T_fcf62eb0_ccf6_11ea_a23e_38f9d3db5c17row0_col4\" class=\"data row0 col4\" >1.0000</td>\n",
       "                        <td id=\"T_fcf62eb0_ccf6_11ea_a23e_38f9d3db5c17row0_col5\" class=\"data row0 col5\" >1.0000</td>\n",
       "                        <td id=\"T_fcf62eb0_ccf6_11ea_a23e_38f9d3db5c17row0_col6\" class=\"data row0 col6\" >1.0000</td>\n",
       "            </tr>\n",
       "            <tr>\n",
       "                        <th id=\"T_fcf62eb0_ccf6_11ea_a23e_38f9d3db5c17level0_row1\" class=\"row_heading level0 row1\" >1</th>\n",
       "                        <td id=\"T_fcf62eb0_ccf6_11ea_a23e_38f9d3db5c17row1_col0\" class=\"data row1 col0\" >1.0000</td>\n",
       "                        <td id=\"T_fcf62eb0_ccf6_11ea_a23e_38f9d3db5c17row1_col1\" class=\"data row1 col1\" >0.0000</td>\n",
       "                        <td id=\"T_fcf62eb0_ccf6_11ea_a23e_38f9d3db5c17row1_col2\" class=\"data row1 col2\" >1.0000</td>\n",
       "                        <td id=\"T_fcf62eb0_ccf6_11ea_a23e_38f9d3db5c17row1_col3\" class=\"data row1 col3\" >1.0000</td>\n",
       "                        <td id=\"T_fcf62eb0_ccf6_11ea_a23e_38f9d3db5c17row1_col4\" class=\"data row1 col4\" >1.0000</td>\n",
       "                        <td id=\"T_fcf62eb0_ccf6_11ea_a23e_38f9d3db5c17row1_col5\" class=\"data row1 col5\" >1.0000</td>\n",
       "                        <td id=\"T_fcf62eb0_ccf6_11ea_a23e_38f9d3db5c17row1_col6\" class=\"data row1 col6\" >1.0000</td>\n",
       "            </tr>\n",
       "            <tr>\n",
       "                        <th id=\"T_fcf62eb0_ccf6_11ea_a23e_38f9d3db5c17level0_row2\" class=\"row_heading level0 row2\" >2</th>\n",
       "                        <td id=\"T_fcf62eb0_ccf6_11ea_a23e_38f9d3db5c17row2_col0\" class=\"data row2 col0\" >0.9091</td>\n",
       "                        <td id=\"T_fcf62eb0_ccf6_11ea_a23e_38f9d3db5c17row2_col1\" class=\"data row2 col1\" >0.0000</td>\n",
       "                        <td id=\"T_fcf62eb0_ccf6_11ea_a23e_38f9d3db5c17row2_col2\" class=\"data row2 col2\" >0.9167</td>\n",
       "                        <td id=\"T_fcf62eb0_ccf6_11ea_a23e_38f9d3db5c17row2_col3\" class=\"data row2 col3\" >0.9318</td>\n",
       "                        <td id=\"T_fcf62eb0_ccf6_11ea_a23e_38f9d3db5c17row2_col4\" class=\"data row2 col4\" >0.9091</td>\n",
       "                        <td id=\"T_fcf62eb0_ccf6_11ea_a23e_38f9d3db5c17row2_col5\" class=\"data row2 col5\" >0.8642</td>\n",
       "                        <td id=\"T_fcf62eb0_ccf6_11ea_a23e_38f9d3db5c17row2_col6\" class=\"data row2 col6\" >0.8750</td>\n",
       "            </tr>\n",
       "            <tr>\n",
       "                        <th id=\"T_fcf62eb0_ccf6_11ea_a23e_38f9d3db5c17level0_row3\" class=\"row_heading level0 row3\" >3</th>\n",
       "                        <td id=\"T_fcf62eb0_ccf6_11ea_a23e_38f9d3db5c17row3_col0\" class=\"data row3 col0\" >0.8182</td>\n",
       "                        <td id=\"T_fcf62eb0_ccf6_11ea_a23e_38f9d3db5c17row3_col1\" class=\"data row3 col1\" >0.0000</td>\n",
       "                        <td id=\"T_fcf62eb0_ccf6_11ea_a23e_38f9d3db5c17row3_col2\" class=\"data row3 col2\" >0.8333</td>\n",
       "                        <td id=\"T_fcf62eb0_ccf6_11ea_a23e_38f9d3db5c17row3_col3\" class=\"data row3 col3\" >0.8909</td>\n",
       "                        <td id=\"T_fcf62eb0_ccf6_11ea_a23e_38f9d3db5c17row3_col4\" class=\"data row3 col4\" >0.8106</td>\n",
       "                        <td id=\"T_fcf62eb0_ccf6_11ea_a23e_38f9d3db5c17row3_col5\" class=\"data row3 col5\" >0.7317</td>\n",
       "                        <td id=\"T_fcf62eb0_ccf6_11ea_a23e_38f9d3db5c17row3_col6\" class=\"data row3 col6\" >0.7695</td>\n",
       "            </tr>\n",
       "            <tr>\n",
       "                        <th id=\"T_fcf62eb0_ccf6_11ea_a23e_38f9d3db5c17level0_row4\" class=\"row_heading level0 row4\" >4</th>\n",
       "                        <td id=\"T_fcf62eb0_ccf6_11ea_a23e_38f9d3db5c17row4_col0\" class=\"data row4 col0\" >0.9000</td>\n",
       "                        <td id=\"T_fcf62eb0_ccf6_11ea_a23e_38f9d3db5c17row4_col1\" class=\"data row4 col1\" >0.0000</td>\n",
       "                        <td id=\"T_fcf62eb0_ccf6_11ea_a23e_38f9d3db5c17row4_col2\" class=\"data row4 col2\" >0.9167</td>\n",
       "                        <td id=\"T_fcf62eb0_ccf6_11ea_a23e_38f9d3db5c17row4_col3\" class=\"data row4 col3\" >0.9250</td>\n",
       "                        <td id=\"T_fcf62eb0_ccf6_11ea_a23e_38f9d3db5c17row4_col4\" class=\"data row4 col4\" >0.9000</td>\n",
       "                        <td id=\"T_fcf62eb0_ccf6_11ea_a23e_38f9d3db5c17row4_col5\" class=\"data row4 col5\" >0.8507</td>\n",
       "                        <td id=\"T_fcf62eb0_ccf6_11ea_a23e_38f9d3db5c17row4_col6\" class=\"data row4 col6\" >0.8636</td>\n",
       "            </tr>\n",
       "            <tr>\n",
       "                        <th id=\"T_fcf62eb0_ccf6_11ea_a23e_38f9d3db5c17level0_row5\" class=\"row_heading level0 row5\" >5</th>\n",
       "                        <td id=\"T_fcf62eb0_ccf6_11ea_a23e_38f9d3db5c17row5_col0\" class=\"data row5 col0\" >1.0000</td>\n",
       "                        <td id=\"T_fcf62eb0_ccf6_11ea_a23e_38f9d3db5c17row5_col1\" class=\"data row5 col1\" >0.0000</td>\n",
       "                        <td id=\"T_fcf62eb0_ccf6_11ea_a23e_38f9d3db5c17row5_col2\" class=\"data row5 col2\" >1.0000</td>\n",
       "                        <td id=\"T_fcf62eb0_ccf6_11ea_a23e_38f9d3db5c17row5_col3\" class=\"data row5 col3\" >1.0000</td>\n",
       "                        <td id=\"T_fcf62eb0_ccf6_11ea_a23e_38f9d3db5c17row5_col4\" class=\"data row5 col4\" >1.0000</td>\n",
       "                        <td id=\"T_fcf62eb0_ccf6_11ea_a23e_38f9d3db5c17row5_col5\" class=\"data row5 col5\" >1.0000</td>\n",
       "                        <td id=\"T_fcf62eb0_ccf6_11ea_a23e_38f9d3db5c17row5_col6\" class=\"data row5 col6\" >1.0000</td>\n",
       "            </tr>\n",
       "            <tr>\n",
       "                        <th id=\"T_fcf62eb0_ccf6_11ea_a23e_38f9d3db5c17level0_row6\" class=\"row_heading level0 row6\" >6</th>\n",
       "                        <td id=\"T_fcf62eb0_ccf6_11ea_a23e_38f9d3db5c17row6_col0\" class=\"data row6 col0\" >1.0000</td>\n",
       "                        <td id=\"T_fcf62eb0_ccf6_11ea_a23e_38f9d3db5c17row6_col1\" class=\"data row6 col1\" >0.0000</td>\n",
       "                        <td id=\"T_fcf62eb0_ccf6_11ea_a23e_38f9d3db5c17row6_col2\" class=\"data row6 col2\" >1.0000</td>\n",
       "                        <td id=\"T_fcf62eb0_ccf6_11ea_a23e_38f9d3db5c17row6_col3\" class=\"data row6 col3\" >1.0000</td>\n",
       "                        <td id=\"T_fcf62eb0_ccf6_11ea_a23e_38f9d3db5c17row6_col4\" class=\"data row6 col4\" >1.0000</td>\n",
       "                        <td id=\"T_fcf62eb0_ccf6_11ea_a23e_38f9d3db5c17row6_col5\" class=\"data row6 col5\" >1.0000</td>\n",
       "                        <td id=\"T_fcf62eb0_ccf6_11ea_a23e_38f9d3db5c17row6_col6\" class=\"data row6 col6\" >1.0000</td>\n",
       "            </tr>\n",
       "            <tr>\n",
       "                        <th id=\"T_fcf62eb0_ccf6_11ea_a23e_38f9d3db5c17level0_row7\" class=\"row_heading level0 row7\" >7</th>\n",
       "                        <td id=\"T_fcf62eb0_ccf6_11ea_a23e_38f9d3db5c17row7_col0\" class=\"data row7 col0\" >0.8000</td>\n",
       "                        <td id=\"T_fcf62eb0_ccf6_11ea_a23e_38f9d3db5c17row7_col1\" class=\"data row7 col1\" >0.0000</td>\n",
       "                        <td id=\"T_fcf62eb0_ccf6_11ea_a23e_38f9d3db5c17row7_col2\" class=\"data row7 col2\" >0.8333</td>\n",
       "                        <td id=\"T_fcf62eb0_ccf6_11ea_a23e_38f9d3db5c17row7_col3\" class=\"data row7 col3\" >0.8800</td>\n",
       "                        <td id=\"T_fcf62eb0_ccf6_11ea_a23e_38f9d3db5c17row7_col4\" class=\"data row7 col4\" >0.7917</td>\n",
       "                        <td id=\"T_fcf62eb0_ccf6_11ea_a23e_38f9d3db5c17row7_col5\" class=\"data row7 col5\" >0.7059</td>\n",
       "                        <td id=\"T_fcf62eb0_ccf6_11ea_a23e_38f9d3db5c17row7_col6\" class=\"data row7 col6\" >0.7504</td>\n",
       "            </tr>\n",
       "            <tr>\n",
       "                        <th id=\"T_fcf62eb0_ccf6_11ea_a23e_38f9d3db5c17level0_row8\" class=\"row_heading level0 row8\" >8</th>\n",
       "                        <td id=\"T_fcf62eb0_ccf6_11ea_a23e_38f9d3db5c17row8_col0\" class=\"data row8 col0\" >1.0000</td>\n",
       "                        <td id=\"T_fcf62eb0_ccf6_11ea_a23e_38f9d3db5c17row8_col1\" class=\"data row8 col1\" >0.0000</td>\n",
       "                        <td id=\"T_fcf62eb0_ccf6_11ea_a23e_38f9d3db5c17row8_col2\" class=\"data row8 col2\" >1.0000</td>\n",
       "                        <td id=\"T_fcf62eb0_ccf6_11ea_a23e_38f9d3db5c17row8_col3\" class=\"data row8 col3\" >1.0000</td>\n",
       "                        <td id=\"T_fcf62eb0_ccf6_11ea_a23e_38f9d3db5c17row8_col4\" class=\"data row8 col4\" >1.0000</td>\n",
       "                        <td id=\"T_fcf62eb0_ccf6_11ea_a23e_38f9d3db5c17row8_col5\" class=\"data row8 col5\" >1.0000</td>\n",
       "                        <td id=\"T_fcf62eb0_ccf6_11ea_a23e_38f9d3db5c17row8_col6\" class=\"data row8 col6\" >1.0000</td>\n",
       "            </tr>\n",
       "            <tr>\n",
       "                        <th id=\"T_fcf62eb0_ccf6_11ea_a23e_38f9d3db5c17level0_row9\" class=\"row_heading level0 row9\" >9</th>\n",
       "                        <td id=\"T_fcf62eb0_ccf6_11ea_a23e_38f9d3db5c17row9_col0\" class=\"data row9 col0\" >1.0000</td>\n",
       "                        <td id=\"T_fcf62eb0_ccf6_11ea_a23e_38f9d3db5c17row9_col1\" class=\"data row9 col1\" >0.0000</td>\n",
       "                        <td id=\"T_fcf62eb0_ccf6_11ea_a23e_38f9d3db5c17row9_col2\" class=\"data row9 col2\" >1.0000</td>\n",
       "                        <td id=\"T_fcf62eb0_ccf6_11ea_a23e_38f9d3db5c17row9_col3\" class=\"data row9 col3\" >1.0000</td>\n",
       "                        <td id=\"T_fcf62eb0_ccf6_11ea_a23e_38f9d3db5c17row9_col4\" class=\"data row9 col4\" >1.0000</td>\n",
       "                        <td id=\"T_fcf62eb0_ccf6_11ea_a23e_38f9d3db5c17row9_col5\" class=\"data row9 col5\" >1.0000</td>\n",
       "                        <td id=\"T_fcf62eb0_ccf6_11ea_a23e_38f9d3db5c17row9_col6\" class=\"data row9 col6\" >1.0000</td>\n",
       "            </tr>\n",
       "            <tr>\n",
       "                        <th id=\"T_fcf62eb0_ccf6_11ea_a23e_38f9d3db5c17level0_row10\" class=\"row_heading level0 row10\" >Mean</th>\n",
       "                        <td id=\"T_fcf62eb0_ccf6_11ea_a23e_38f9d3db5c17row10_col0\" class=\"data row10 col0\" >0.9427</td>\n",
       "                        <td id=\"T_fcf62eb0_ccf6_11ea_a23e_38f9d3db5c17row10_col1\" class=\"data row10 col1\" >0.0000</td>\n",
       "                        <td id=\"T_fcf62eb0_ccf6_11ea_a23e_38f9d3db5c17row10_col2\" class=\"data row10 col2\" >0.9500</td>\n",
       "                        <td id=\"T_fcf62eb0_ccf6_11ea_a23e_38f9d3db5c17row10_col3\" class=\"data row10 col3\" >0.9628</td>\n",
       "                        <td id=\"T_fcf62eb0_ccf6_11ea_a23e_38f9d3db5c17row10_col4\" class=\"data row10 col4\" >0.9411</td>\n",
       "                        <td id=\"T_fcf62eb0_ccf6_11ea_a23e_38f9d3db5c17row10_col5\" class=\"data row10 col5\" >0.9153</td>\n",
       "                        <td id=\"T_fcf62eb0_ccf6_11ea_a23e_38f9d3db5c17row10_col6\" class=\"data row10 col6\" >0.9258</td>\n",
       "            </tr>\n",
       "            <tr>\n",
       "                        <th id=\"T_fcf62eb0_ccf6_11ea_a23e_38f9d3db5c17level0_row11\" class=\"row_heading level0 row11\" >SD</th>\n",
       "                        <td id=\"T_fcf62eb0_ccf6_11ea_a23e_38f9d3db5c17row11_col0\" class=\"data row11 col0\" >0.0765</td>\n",
       "                        <td id=\"T_fcf62eb0_ccf6_11ea_a23e_38f9d3db5c17row11_col1\" class=\"data row11 col1\" >0.0000</td>\n",
       "                        <td id=\"T_fcf62eb0_ccf6_11ea_a23e_38f9d3db5c17row11_col2\" class=\"data row11 col2\" >0.0667</td>\n",
       "                        <td id=\"T_fcf62eb0_ccf6_11ea_a23e_38f9d3db5c17row11_col3\" class=\"data row11 col3\" >0.0477</td>\n",
       "                        <td id=\"T_fcf62eb0_ccf6_11ea_a23e_38f9d3db5c17row11_col4\" class=\"data row11 col4\" >0.0793</td>\n",
       "                        <td id=\"T_fcf62eb0_ccf6_11ea_a23e_38f9d3db5c17row11_col5\" class=\"data row11 col5\" >0.1129</td>\n",
       "                        <td id=\"T_fcf62eb0_ccf6_11ea_a23e_38f9d3db5c17row11_col6\" class=\"data row11 col6\" >0.0973</td>\n",
       "            </tr>\n",
       "    </tbody></table>"
      ],
      "text/plain": [
       "<pandas.io.formats.style.Styler at 0x111764610>"
      ]
     },
     "metadata": {},
     "output_type": "display_data"
    }
   ],
   "source": [
    "# automatically tune model\n",
    "tuned_classification_model = classification.tune_model(\n",
    "    estimator=classification_model,\n",
    "    n_iter=100\n",
    ")"
   ]
  },
  {
   "cell_type": "code",
   "execution_count": 22,
   "metadata": {},
   "outputs": [
    {
     "data": {
      "application/vnd.jupyter.widget-view+json": {
       "model_id": "cc8f9e23bc024291b50408a817e698dc",
       "version_major": 2,
       "version_minor": 0
      },
      "text/plain": [
       "interactive(children=(ToggleButtons(description='Plot Type:', icons=('',), options=(('Hyperparameters', 'param…"
      ]
     },
     "metadata": {},
     "output_type": "display_data"
    }
   ],
   "source": [
    "# model evaluation plots\n",
    "classification.evaluate_model(\n",
    "    estimator=tuned_classification_model\n",
    ")"
   ]
  },
  {
   "cell_type": "code",
   "execution_count": 23,
   "metadata": {},
   "outputs": [
    {
     "data": {
      "text/html": [
       "<div>\n",
       "<style scoped>\n",
       "    .dataframe tbody tr th:only-of-type {\n",
       "        vertical-align: middle;\n",
       "    }\n",
       "\n",
       "    .dataframe tbody tr th {\n",
       "        vertical-align: top;\n",
       "    }\n",
       "\n",
       "    .dataframe thead th {\n",
       "        text-align: right;\n",
       "    }\n",
       "</style>\n",
       "<table border=\"1\" class=\"dataframe\">\n",
       "  <thead>\n",
       "    <tr style=\"text-align: right;\">\n",
       "      <th></th>\n",
       "      <th>Model</th>\n",
       "      <th>Accuracy</th>\n",
       "      <th>AUC</th>\n",
       "      <th>Recall</th>\n",
       "      <th>Prec.</th>\n",
       "      <th>F1</th>\n",
       "      <th>Kappa</th>\n",
       "      <th>MCC</th>\n",
       "    </tr>\n",
       "  </thead>\n",
       "  <tbody>\n",
       "    <tr>\n",
       "      <th>0</th>\n",
       "      <td>One Vs Rest Classifier</td>\n",
       "      <td>0.9783</td>\n",
       "      <td>0</td>\n",
       "      <td>0.9778</td>\n",
       "      <td>0.9796</td>\n",
       "      <td>0.9782</td>\n",
       "      <td>0.9674</td>\n",
       "      <td>0.9681</td>\n",
       "    </tr>\n",
       "  </tbody>\n",
       "</table>\n",
       "</div>"
      ],
      "text/plain": [
       "                    Model  Accuracy  AUC  Recall   Prec.      F1   Kappa  \\\n",
       "0  One Vs Rest Classifier    0.9783    0  0.9778  0.9796  0.9782  0.9674   \n",
       "\n",
       "      MCC  \n",
       "0  0.9681  "
      ]
     },
     "metadata": {},
     "output_type": "display_data"
    }
   ],
   "source": [
    "# test set prediction\n",
    "test_predictions = classification.predict_model(\n",
    "    estimator=tuned_classification_model,\n",
    ")"
   ]
  },
  {
   "cell_type": "code",
   "execution_count": 24,
   "metadata": {},
   "outputs": [],
   "source": [
    "# finalize model\n",
    "final_classification_model = classification.finalize_model(\n",
    "    estimator=tuned_classification_model\n",
    ")"
   ]
  },
  {
   "cell_type": "code",
   "execution_count": 25,
   "metadata": {},
   "outputs": [
    {
     "name": "stdout",
     "output_type": "stream",
     "text": [
      "OneVsRestClassifier(estimator=XGBClassifier(base_score=0.5, booster='gbtree',\n",
      "                                            colsample_bylevel=1,\n",
      "                                            colsample_bynode=1,\n",
      "                                            colsample_bytree=0.5, gamma=0,\n",
      "                                            gpu_id=-1, importance_type='gain',\n",
      "                                            interaction_constraints='',\n",
      "                                            learning_rate=0.77,\n",
      "                                            max_delta_step=0, max_depth=110,\n",
      "                                            min_child_weight=4, missing=nan,\n",
      "                                            monotone_constraints='()',\n",
      "                                            n_estimators=110, n_jobs=-1,\n",
      "                                            num_class=3, num_parallel_tree=1,\n",
      "                                            objective='multi:softprob',\n",
      "                                            random_state=3095, reg_alpha=0,\n",
      "                                            reg_lambda=1, scale_pos_weight=None,\n",
      "                                            subsample=0.5, tree_method='exact',\n",
      "                                            validate_parameters=1,\n",
      "                                            verbosity=0),\n",
      "                    n_jobs=None)\n"
     ]
    }
   ],
   "source": [
    "# display model\n",
    "print(final_classification_model)"
   ]
  },
  {
   "cell_type": "markdown",
   "metadata": {},
   "source": [
    "# regression"
   ]
  },
  {
   "cell_type": "code",
   "execution_count": 26,
   "metadata": {},
   "outputs": [
    {
     "name": "stdout",
     "output_type": "stream",
     "text": [
      " \n",
      "Setup Succesfully Completed.\n"
     ]
    },
    {
     "data": {
      "text/html": [
       "<style  type=\"text/css\" >\n",
       "    #T_0cc156d0_ccf7_11ea_a23e_38f9d3db5c17row7_col1 {\n",
       "            background-color:  yellow;\n",
       "        }    #T_0cc156d0_ccf7_11ea_a23e_38f9d3db5c17row15_col1 {\n",
       "            background-color:  yellow;\n",
       "        }    #T_0cc156d0_ccf7_11ea_a23e_38f9d3db5c17row32_col1 {\n",
       "            background-color:  yellow;\n",
       "        }</style><table id=\"T_0cc156d0_ccf7_11ea_a23e_38f9d3db5c17\" ><thead>    <tr>        <th class=\"blank level0\" ></th>        <th class=\"col_heading level0 col0\" >Description</th>        <th class=\"col_heading level0 col1\" >Value</th>    </tr></thead><tbody>\n",
       "                <tr>\n",
       "                        <th id=\"T_0cc156d0_ccf7_11ea_a23e_38f9d3db5c17level0_row0\" class=\"row_heading level0 row0\" >0</th>\n",
       "                        <td id=\"T_0cc156d0_ccf7_11ea_a23e_38f9d3db5c17row0_col0\" class=\"data row0 col0\" >session_id</td>\n",
       "                        <td id=\"T_0cc156d0_ccf7_11ea_a23e_38f9d3db5c17row0_col1\" class=\"data row0 col1\" >5645</td>\n",
       "            </tr>\n",
       "            <tr>\n",
       "                        <th id=\"T_0cc156d0_ccf7_11ea_a23e_38f9d3db5c17level0_row1\" class=\"row_heading level0 row1\" >1</th>\n",
       "                        <td id=\"T_0cc156d0_ccf7_11ea_a23e_38f9d3db5c17row1_col0\" class=\"data row1 col0\" >Transform Target </td>\n",
       "                        <td id=\"T_0cc156d0_ccf7_11ea_a23e_38f9d3db5c17row1_col1\" class=\"data row1 col1\" >False</td>\n",
       "            </tr>\n",
       "            <tr>\n",
       "                        <th id=\"T_0cc156d0_ccf7_11ea_a23e_38f9d3db5c17level0_row2\" class=\"row_heading level0 row2\" >2</th>\n",
       "                        <td id=\"T_0cc156d0_ccf7_11ea_a23e_38f9d3db5c17row2_col0\" class=\"data row2 col0\" >Transform Target Method</td>\n",
       "                        <td id=\"T_0cc156d0_ccf7_11ea_a23e_38f9d3db5c17row2_col1\" class=\"data row2 col1\" >None</td>\n",
       "            </tr>\n",
       "            <tr>\n",
       "                        <th id=\"T_0cc156d0_ccf7_11ea_a23e_38f9d3db5c17level0_row3\" class=\"row_heading level0 row3\" >3</th>\n",
       "                        <td id=\"T_0cc156d0_ccf7_11ea_a23e_38f9d3db5c17row3_col0\" class=\"data row3 col0\" >Original Data</td>\n",
       "                        <td id=\"T_0cc156d0_ccf7_11ea_a23e_38f9d3db5c17row3_col1\" class=\"data row3 col1\" >(53940, 10)</td>\n",
       "            </tr>\n",
       "            <tr>\n",
       "                        <th id=\"T_0cc156d0_ccf7_11ea_a23e_38f9d3db5c17level0_row4\" class=\"row_heading level0 row4\" >4</th>\n",
       "                        <td id=\"T_0cc156d0_ccf7_11ea_a23e_38f9d3db5c17row4_col0\" class=\"data row4 col0\" >Missing Values </td>\n",
       "                        <td id=\"T_0cc156d0_ccf7_11ea_a23e_38f9d3db5c17row4_col1\" class=\"data row4 col1\" >False</td>\n",
       "            </tr>\n",
       "            <tr>\n",
       "                        <th id=\"T_0cc156d0_ccf7_11ea_a23e_38f9d3db5c17level0_row5\" class=\"row_heading level0 row5\" >5</th>\n",
       "                        <td id=\"T_0cc156d0_ccf7_11ea_a23e_38f9d3db5c17row5_col0\" class=\"data row5 col0\" >Numeric Features </td>\n",
       "                        <td id=\"T_0cc156d0_ccf7_11ea_a23e_38f9d3db5c17row5_col1\" class=\"data row5 col1\" >6</td>\n",
       "            </tr>\n",
       "            <tr>\n",
       "                        <th id=\"T_0cc156d0_ccf7_11ea_a23e_38f9d3db5c17level0_row6\" class=\"row_heading level0 row6\" >6</th>\n",
       "                        <td id=\"T_0cc156d0_ccf7_11ea_a23e_38f9d3db5c17row6_col0\" class=\"data row6 col0\" >Categorical Features </td>\n",
       "                        <td id=\"T_0cc156d0_ccf7_11ea_a23e_38f9d3db5c17row6_col1\" class=\"data row6 col1\" >3</td>\n",
       "            </tr>\n",
       "            <tr>\n",
       "                        <th id=\"T_0cc156d0_ccf7_11ea_a23e_38f9d3db5c17level0_row7\" class=\"row_heading level0 row7\" >7</th>\n",
       "                        <td id=\"T_0cc156d0_ccf7_11ea_a23e_38f9d3db5c17row7_col0\" class=\"data row7 col0\" >Ordinal Features </td>\n",
       "                        <td id=\"T_0cc156d0_ccf7_11ea_a23e_38f9d3db5c17row7_col1\" class=\"data row7 col1\" >True</td>\n",
       "            </tr>\n",
       "            <tr>\n",
       "                        <th id=\"T_0cc156d0_ccf7_11ea_a23e_38f9d3db5c17level0_row8\" class=\"row_heading level0 row8\" >8</th>\n",
       "                        <td id=\"T_0cc156d0_ccf7_11ea_a23e_38f9d3db5c17row8_col0\" class=\"data row8 col0\" >High Cardinality Features </td>\n",
       "                        <td id=\"T_0cc156d0_ccf7_11ea_a23e_38f9d3db5c17row8_col1\" class=\"data row8 col1\" >False</td>\n",
       "            </tr>\n",
       "            <tr>\n",
       "                        <th id=\"T_0cc156d0_ccf7_11ea_a23e_38f9d3db5c17level0_row9\" class=\"row_heading level0 row9\" >9</th>\n",
       "                        <td id=\"T_0cc156d0_ccf7_11ea_a23e_38f9d3db5c17row9_col0\" class=\"data row9 col0\" >High Cardinality Method </td>\n",
       "                        <td id=\"T_0cc156d0_ccf7_11ea_a23e_38f9d3db5c17row9_col1\" class=\"data row9 col1\" >None</td>\n",
       "            </tr>\n",
       "            <tr>\n",
       "                        <th id=\"T_0cc156d0_ccf7_11ea_a23e_38f9d3db5c17level0_row10\" class=\"row_heading level0 row10\" >10</th>\n",
       "                        <td id=\"T_0cc156d0_ccf7_11ea_a23e_38f9d3db5c17row10_col0\" class=\"data row10 col0\" >Sampled Data</td>\n",
       "                        <td id=\"T_0cc156d0_ccf7_11ea_a23e_38f9d3db5c17row10_col1\" class=\"data row10 col1\" >(10788, 10)</td>\n",
       "            </tr>\n",
       "            <tr>\n",
       "                        <th id=\"T_0cc156d0_ccf7_11ea_a23e_38f9d3db5c17level0_row11\" class=\"row_heading level0 row11\" >11</th>\n",
       "                        <td id=\"T_0cc156d0_ccf7_11ea_a23e_38f9d3db5c17row11_col0\" class=\"data row11 col0\" >Transformed Train Set</td>\n",
       "                        <td id=\"T_0cc156d0_ccf7_11ea_a23e_38f9d3db5c17row11_col1\" class=\"data row11 col1\" >(7551, 11)</td>\n",
       "            </tr>\n",
       "            <tr>\n",
       "                        <th id=\"T_0cc156d0_ccf7_11ea_a23e_38f9d3db5c17level0_row12\" class=\"row_heading level0 row12\" >12</th>\n",
       "                        <td id=\"T_0cc156d0_ccf7_11ea_a23e_38f9d3db5c17row12_col0\" class=\"data row12 col0\" >Transformed Test Set</td>\n",
       "                        <td id=\"T_0cc156d0_ccf7_11ea_a23e_38f9d3db5c17row12_col1\" class=\"data row12 col1\" >(3237, 11)</td>\n",
       "            </tr>\n",
       "            <tr>\n",
       "                        <th id=\"T_0cc156d0_ccf7_11ea_a23e_38f9d3db5c17level0_row13\" class=\"row_heading level0 row13\" >13</th>\n",
       "                        <td id=\"T_0cc156d0_ccf7_11ea_a23e_38f9d3db5c17row13_col0\" class=\"data row13 col0\" >Numeric Imputer </td>\n",
       "                        <td id=\"T_0cc156d0_ccf7_11ea_a23e_38f9d3db5c17row13_col1\" class=\"data row13 col1\" >mean</td>\n",
       "            </tr>\n",
       "            <tr>\n",
       "                        <th id=\"T_0cc156d0_ccf7_11ea_a23e_38f9d3db5c17level0_row14\" class=\"row_heading level0 row14\" >14</th>\n",
       "                        <td id=\"T_0cc156d0_ccf7_11ea_a23e_38f9d3db5c17row14_col0\" class=\"data row14 col0\" >Categorical Imputer </td>\n",
       "                        <td id=\"T_0cc156d0_ccf7_11ea_a23e_38f9d3db5c17row14_col1\" class=\"data row14 col1\" >constant</td>\n",
       "            </tr>\n",
       "            <tr>\n",
       "                        <th id=\"T_0cc156d0_ccf7_11ea_a23e_38f9d3db5c17level0_row15\" class=\"row_heading level0 row15\" >15</th>\n",
       "                        <td id=\"T_0cc156d0_ccf7_11ea_a23e_38f9d3db5c17row15_col0\" class=\"data row15 col0\" >Normalize </td>\n",
       "                        <td id=\"T_0cc156d0_ccf7_11ea_a23e_38f9d3db5c17row15_col1\" class=\"data row15 col1\" >True</td>\n",
       "            </tr>\n",
       "            <tr>\n",
       "                        <th id=\"T_0cc156d0_ccf7_11ea_a23e_38f9d3db5c17level0_row16\" class=\"row_heading level0 row16\" >16</th>\n",
       "                        <td id=\"T_0cc156d0_ccf7_11ea_a23e_38f9d3db5c17row16_col0\" class=\"data row16 col0\" >Normalize Method </td>\n",
       "                        <td id=\"T_0cc156d0_ccf7_11ea_a23e_38f9d3db5c17row16_col1\" class=\"data row16 col1\" >zscore</td>\n",
       "            </tr>\n",
       "            <tr>\n",
       "                        <th id=\"T_0cc156d0_ccf7_11ea_a23e_38f9d3db5c17level0_row17\" class=\"row_heading level0 row17\" >17</th>\n",
       "                        <td id=\"T_0cc156d0_ccf7_11ea_a23e_38f9d3db5c17row17_col0\" class=\"data row17 col0\" >Transformation </td>\n",
       "                        <td id=\"T_0cc156d0_ccf7_11ea_a23e_38f9d3db5c17row17_col1\" class=\"data row17 col1\" >False</td>\n",
       "            </tr>\n",
       "            <tr>\n",
       "                        <th id=\"T_0cc156d0_ccf7_11ea_a23e_38f9d3db5c17level0_row18\" class=\"row_heading level0 row18\" >18</th>\n",
       "                        <td id=\"T_0cc156d0_ccf7_11ea_a23e_38f9d3db5c17row18_col0\" class=\"data row18 col0\" >Transformation Method </td>\n",
       "                        <td id=\"T_0cc156d0_ccf7_11ea_a23e_38f9d3db5c17row18_col1\" class=\"data row18 col1\" >None</td>\n",
       "            </tr>\n",
       "            <tr>\n",
       "                        <th id=\"T_0cc156d0_ccf7_11ea_a23e_38f9d3db5c17level0_row19\" class=\"row_heading level0 row19\" >19</th>\n",
       "                        <td id=\"T_0cc156d0_ccf7_11ea_a23e_38f9d3db5c17row19_col0\" class=\"data row19 col0\" >PCA </td>\n",
       "                        <td id=\"T_0cc156d0_ccf7_11ea_a23e_38f9d3db5c17row19_col1\" class=\"data row19 col1\" >False</td>\n",
       "            </tr>\n",
       "            <tr>\n",
       "                        <th id=\"T_0cc156d0_ccf7_11ea_a23e_38f9d3db5c17level0_row20\" class=\"row_heading level0 row20\" >20</th>\n",
       "                        <td id=\"T_0cc156d0_ccf7_11ea_a23e_38f9d3db5c17row20_col0\" class=\"data row20 col0\" >PCA Method </td>\n",
       "                        <td id=\"T_0cc156d0_ccf7_11ea_a23e_38f9d3db5c17row20_col1\" class=\"data row20 col1\" >None</td>\n",
       "            </tr>\n",
       "            <tr>\n",
       "                        <th id=\"T_0cc156d0_ccf7_11ea_a23e_38f9d3db5c17level0_row21\" class=\"row_heading level0 row21\" >21</th>\n",
       "                        <td id=\"T_0cc156d0_ccf7_11ea_a23e_38f9d3db5c17row21_col0\" class=\"data row21 col0\" >PCA Components </td>\n",
       "                        <td id=\"T_0cc156d0_ccf7_11ea_a23e_38f9d3db5c17row21_col1\" class=\"data row21 col1\" >None</td>\n",
       "            </tr>\n",
       "            <tr>\n",
       "                        <th id=\"T_0cc156d0_ccf7_11ea_a23e_38f9d3db5c17level0_row22\" class=\"row_heading level0 row22\" >22</th>\n",
       "                        <td id=\"T_0cc156d0_ccf7_11ea_a23e_38f9d3db5c17row22_col0\" class=\"data row22 col0\" >Ignore Low Variance </td>\n",
       "                        <td id=\"T_0cc156d0_ccf7_11ea_a23e_38f9d3db5c17row22_col1\" class=\"data row22 col1\" >False</td>\n",
       "            </tr>\n",
       "            <tr>\n",
       "                        <th id=\"T_0cc156d0_ccf7_11ea_a23e_38f9d3db5c17level0_row23\" class=\"row_heading level0 row23\" >23</th>\n",
       "                        <td id=\"T_0cc156d0_ccf7_11ea_a23e_38f9d3db5c17row23_col0\" class=\"data row23 col0\" >Combine Rare Levels </td>\n",
       "                        <td id=\"T_0cc156d0_ccf7_11ea_a23e_38f9d3db5c17row23_col1\" class=\"data row23 col1\" >False</td>\n",
       "            </tr>\n",
       "            <tr>\n",
       "                        <th id=\"T_0cc156d0_ccf7_11ea_a23e_38f9d3db5c17level0_row24\" class=\"row_heading level0 row24\" >24</th>\n",
       "                        <td id=\"T_0cc156d0_ccf7_11ea_a23e_38f9d3db5c17row24_col0\" class=\"data row24 col0\" >Rare Level Threshold </td>\n",
       "                        <td id=\"T_0cc156d0_ccf7_11ea_a23e_38f9d3db5c17row24_col1\" class=\"data row24 col1\" >None</td>\n",
       "            </tr>\n",
       "            <tr>\n",
       "                        <th id=\"T_0cc156d0_ccf7_11ea_a23e_38f9d3db5c17level0_row25\" class=\"row_heading level0 row25\" >25</th>\n",
       "                        <td id=\"T_0cc156d0_ccf7_11ea_a23e_38f9d3db5c17row25_col0\" class=\"data row25 col0\" >Numeric Binning </td>\n",
       "                        <td id=\"T_0cc156d0_ccf7_11ea_a23e_38f9d3db5c17row25_col1\" class=\"data row25 col1\" >False</td>\n",
       "            </tr>\n",
       "            <tr>\n",
       "                        <th id=\"T_0cc156d0_ccf7_11ea_a23e_38f9d3db5c17level0_row26\" class=\"row_heading level0 row26\" >26</th>\n",
       "                        <td id=\"T_0cc156d0_ccf7_11ea_a23e_38f9d3db5c17row26_col0\" class=\"data row26 col0\" >Remove Outliers </td>\n",
       "                        <td id=\"T_0cc156d0_ccf7_11ea_a23e_38f9d3db5c17row26_col1\" class=\"data row26 col1\" >False</td>\n",
       "            </tr>\n",
       "            <tr>\n",
       "                        <th id=\"T_0cc156d0_ccf7_11ea_a23e_38f9d3db5c17level0_row27\" class=\"row_heading level0 row27\" >27</th>\n",
       "                        <td id=\"T_0cc156d0_ccf7_11ea_a23e_38f9d3db5c17row27_col0\" class=\"data row27 col0\" >Outliers Threshold </td>\n",
       "                        <td id=\"T_0cc156d0_ccf7_11ea_a23e_38f9d3db5c17row27_col1\" class=\"data row27 col1\" >None</td>\n",
       "            </tr>\n",
       "            <tr>\n",
       "                        <th id=\"T_0cc156d0_ccf7_11ea_a23e_38f9d3db5c17level0_row28\" class=\"row_heading level0 row28\" >28</th>\n",
       "                        <td id=\"T_0cc156d0_ccf7_11ea_a23e_38f9d3db5c17row28_col0\" class=\"data row28 col0\" >Remove Multicollinearity </td>\n",
       "                        <td id=\"T_0cc156d0_ccf7_11ea_a23e_38f9d3db5c17row28_col1\" class=\"data row28 col1\" >False</td>\n",
       "            </tr>\n",
       "            <tr>\n",
       "                        <th id=\"T_0cc156d0_ccf7_11ea_a23e_38f9d3db5c17level0_row29\" class=\"row_heading level0 row29\" >29</th>\n",
       "                        <td id=\"T_0cc156d0_ccf7_11ea_a23e_38f9d3db5c17row29_col0\" class=\"data row29 col0\" >Multicollinearity Threshold </td>\n",
       "                        <td id=\"T_0cc156d0_ccf7_11ea_a23e_38f9d3db5c17row29_col1\" class=\"data row29 col1\" >None</td>\n",
       "            </tr>\n",
       "            <tr>\n",
       "                        <th id=\"T_0cc156d0_ccf7_11ea_a23e_38f9d3db5c17level0_row30\" class=\"row_heading level0 row30\" >30</th>\n",
       "                        <td id=\"T_0cc156d0_ccf7_11ea_a23e_38f9d3db5c17row30_col0\" class=\"data row30 col0\" >Clustering </td>\n",
       "                        <td id=\"T_0cc156d0_ccf7_11ea_a23e_38f9d3db5c17row30_col1\" class=\"data row30 col1\" >False</td>\n",
       "            </tr>\n",
       "            <tr>\n",
       "                        <th id=\"T_0cc156d0_ccf7_11ea_a23e_38f9d3db5c17level0_row31\" class=\"row_heading level0 row31\" >31</th>\n",
       "                        <td id=\"T_0cc156d0_ccf7_11ea_a23e_38f9d3db5c17row31_col0\" class=\"data row31 col0\" >Clustering Iteration </td>\n",
       "                        <td id=\"T_0cc156d0_ccf7_11ea_a23e_38f9d3db5c17row31_col1\" class=\"data row31 col1\" >None</td>\n",
       "            </tr>\n",
       "            <tr>\n",
       "                        <th id=\"T_0cc156d0_ccf7_11ea_a23e_38f9d3db5c17level0_row32\" class=\"row_heading level0 row32\" >32</th>\n",
       "                        <td id=\"T_0cc156d0_ccf7_11ea_a23e_38f9d3db5c17row32_col0\" class=\"data row32 col0\" >Polynomial Features </td>\n",
       "                        <td id=\"T_0cc156d0_ccf7_11ea_a23e_38f9d3db5c17row32_col1\" class=\"data row32 col1\" >True</td>\n",
       "            </tr>\n",
       "            <tr>\n",
       "                        <th id=\"T_0cc156d0_ccf7_11ea_a23e_38f9d3db5c17level0_row33\" class=\"row_heading level0 row33\" >33</th>\n",
       "                        <td id=\"T_0cc156d0_ccf7_11ea_a23e_38f9d3db5c17row33_col0\" class=\"data row33 col0\" >Polynomial Degree </td>\n",
       "                        <td id=\"T_0cc156d0_ccf7_11ea_a23e_38f9d3db5c17row33_col1\" class=\"data row33 col1\" >2</td>\n",
       "            </tr>\n",
       "            <tr>\n",
       "                        <th id=\"T_0cc156d0_ccf7_11ea_a23e_38f9d3db5c17level0_row34\" class=\"row_heading level0 row34\" >34</th>\n",
       "                        <td id=\"T_0cc156d0_ccf7_11ea_a23e_38f9d3db5c17row34_col0\" class=\"data row34 col0\" >Trignometry Features </td>\n",
       "                        <td id=\"T_0cc156d0_ccf7_11ea_a23e_38f9d3db5c17row34_col1\" class=\"data row34 col1\" >False</td>\n",
       "            </tr>\n",
       "            <tr>\n",
       "                        <th id=\"T_0cc156d0_ccf7_11ea_a23e_38f9d3db5c17level0_row35\" class=\"row_heading level0 row35\" >35</th>\n",
       "                        <td id=\"T_0cc156d0_ccf7_11ea_a23e_38f9d3db5c17row35_col0\" class=\"data row35 col0\" >Polynomial Threshold </td>\n",
       "                        <td id=\"T_0cc156d0_ccf7_11ea_a23e_38f9d3db5c17row35_col1\" class=\"data row35 col1\" >0.100000</td>\n",
       "            </tr>\n",
       "            <tr>\n",
       "                        <th id=\"T_0cc156d0_ccf7_11ea_a23e_38f9d3db5c17level0_row36\" class=\"row_heading level0 row36\" >36</th>\n",
       "                        <td id=\"T_0cc156d0_ccf7_11ea_a23e_38f9d3db5c17row36_col0\" class=\"data row36 col0\" >Group Features </td>\n",
       "                        <td id=\"T_0cc156d0_ccf7_11ea_a23e_38f9d3db5c17row36_col1\" class=\"data row36 col1\" >False</td>\n",
       "            </tr>\n",
       "            <tr>\n",
       "                        <th id=\"T_0cc156d0_ccf7_11ea_a23e_38f9d3db5c17level0_row37\" class=\"row_heading level0 row37\" >37</th>\n",
       "                        <td id=\"T_0cc156d0_ccf7_11ea_a23e_38f9d3db5c17row37_col0\" class=\"data row37 col0\" >Feature Selection </td>\n",
       "                        <td id=\"T_0cc156d0_ccf7_11ea_a23e_38f9d3db5c17row37_col1\" class=\"data row37 col1\" >False</td>\n",
       "            </tr>\n",
       "            <tr>\n",
       "                        <th id=\"T_0cc156d0_ccf7_11ea_a23e_38f9d3db5c17level0_row38\" class=\"row_heading level0 row38\" >38</th>\n",
       "                        <td id=\"T_0cc156d0_ccf7_11ea_a23e_38f9d3db5c17row38_col0\" class=\"data row38 col0\" >Features Selection Threshold </td>\n",
       "                        <td id=\"T_0cc156d0_ccf7_11ea_a23e_38f9d3db5c17row38_col1\" class=\"data row38 col1\" >None</td>\n",
       "            </tr>\n",
       "            <tr>\n",
       "                        <th id=\"T_0cc156d0_ccf7_11ea_a23e_38f9d3db5c17level0_row39\" class=\"row_heading level0 row39\" >39</th>\n",
       "                        <td id=\"T_0cc156d0_ccf7_11ea_a23e_38f9d3db5c17row39_col0\" class=\"data row39 col0\" >Feature Interaction </td>\n",
       "                        <td id=\"T_0cc156d0_ccf7_11ea_a23e_38f9d3db5c17row39_col1\" class=\"data row39 col1\" >False</td>\n",
       "            </tr>\n",
       "            <tr>\n",
       "                        <th id=\"T_0cc156d0_ccf7_11ea_a23e_38f9d3db5c17level0_row40\" class=\"row_heading level0 row40\" >40</th>\n",
       "                        <td id=\"T_0cc156d0_ccf7_11ea_a23e_38f9d3db5c17row40_col0\" class=\"data row40 col0\" >Feature Ratio </td>\n",
       "                        <td id=\"T_0cc156d0_ccf7_11ea_a23e_38f9d3db5c17row40_col1\" class=\"data row40 col1\" >False</td>\n",
       "            </tr>\n",
       "            <tr>\n",
       "                        <th id=\"T_0cc156d0_ccf7_11ea_a23e_38f9d3db5c17level0_row41\" class=\"row_heading level0 row41\" >41</th>\n",
       "                        <td id=\"T_0cc156d0_ccf7_11ea_a23e_38f9d3db5c17row41_col0\" class=\"data row41 col0\" >Interaction Threshold </td>\n",
       "                        <td id=\"T_0cc156d0_ccf7_11ea_a23e_38f9d3db5c17row41_col1\" class=\"data row41 col1\" >None</td>\n",
       "            </tr>\n",
       "    </tbody></table>"
      ],
      "text/plain": [
       "<pandas.io.formats.style.Styler at 0x1263603d0>"
      ]
     },
     "metadata": {},
     "output_type": "display_data"
    }
   ],
   "source": [
    "# process dataset\n",
    "regression_experiment_1 = regression.setup(\n",
    "    data=df_diamonds,\n",
    "    target='price',\n",
    "    train_size=0.7,\n",
    "    normalize=True,\n",
    "    remove_perfect_collinearity=True,\n",
    "    polynomial_features=True,\n",
    "    polynomial_degree=2,\n",
    "    numeric_features=['carat','depth','table','x','y','z'],\n",
    "    ordinal_features={\n",
    "        'cut' : ['Fair','Good','Very Good','Premium','Ideal'],\n",
    "        'color' : ['J','I','H','G','F','E','D'],\n",
    "        'clarity': ['I1','SI2','SI1','VS2','VS1','VVS2','VVS1','IF'],\n",
    "        },\n",
    ")"
   ]
  },
  {
   "cell_type": "code",
   "execution_count": 27,
   "metadata": {},
   "outputs": [
    {
     "data": {
      "text/html": [
       "<style  type=\"text/css\" >\n",
       "    #T_5edfd734_ccf7_11ea_a23e_38f9d3db5c17 th {\n",
       "          text-align: left;\n",
       "    }    #T_5edfd734_ccf7_11ea_a23e_38f9d3db5c17row0_col0 {\n",
       "            text-align:  left;\n",
       "        }    #T_5edfd734_ccf7_11ea_a23e_38f9d3db5c17row0_col1 {\n",
       "            background-color:  yellow;\n",
       "            text-align:  left;\n",
       "        }    #T_5edfd734_ccf7_11ea_a23e_38f9d3db5c17row0_col2 {\n",
       "            background-color:  yellow;\n",
       "            text-align:  left;\n",
       "        }    #T_5edfd734_ccf7_11ea_a23e_38f9d3db5c17row0_col3 {\n",
       "            background-color:  yellow;\n",
       "            text-align:  left;\n",
       "        }    #T_5edfd734_ccf7_11ea_a23e_38f9d3db5c17row0_col4 {\n",
       "            background-color:  yellow;\n",
       "            text-align:  left;\n",
       "        }    #T_5edfd734_ccf7_11ea_a23e_38f9d3db5c17row0_col5 {\n",
       "            : ;\n",
       "            text-align:  left;\n",
       "        }    #T_5edfd734_ccf7_11ea_a23e_38f9d3db5c17row0_col6 {\n",
       "            : ;\n",
       "            text-align:  left;\n",
       "        }    #T_5edfd734_ccf7_11ea_a23e_38f9d3db5c17row0_col7 {\n",
       "            background-color:  lightgrey;\n",
       "            text-align:  left;\n",
       "        }    #T_5edfd734_ccf7_11ea_a23e_38f9d3db5c17row1_col0 {\n",
       "            text-align:  left;\n",
       "        }    #T_5edfd734_ccf7_11ea_a23e_38f9d3db5c17row1_col1 {\n",
       "            : ;\n",
       "            text-align:  left;\n",
       "        }    #T_5edfd734_ccf7_11ea_a23e_38f9d3db5c17row1_col2 {\n",
       "            : ;\n",
       "            text-align:  left;\n",
       "        }    #T_5edfd734_ccf7_11ea_a23e_38f9d3db5c17row1_col3 {\n",
       "            : ;\n",
       "            text-align:  left;\n",
       "        }    #T_5edfd734_ccf7_11ea_a23e_38f9d3db5c17row1_col4 {\n",
       "            : ;\n",
       "            text-align:  left;\n",
       "        }    #T_5edfd734_ccf7_11ea_a23e_38f9d3db5c17row1_col5 {\n",
       "            background-color:  yellow;\n",
       "            text-align:  left;\n",
       "        }    #T_5edfd734_ccf7_11ea_a23e_38f9d3db5c17row1_col6 {\n",
       "            background-color:  yellow;\n",
       "            text-align:  left;\n",
       "        }    #T_5edfd734_ccf7_11ea_a23e_38f9d3db5c17row1_col7 {\n",
       "            background-color:  lightgrey;\n",
       "            text-align:  left;\n",
       "        }    #T_5edfd734_ccf7_11ea_a23e_38f9d3db5c17row2_col0 {\n",
       "            text-align:  left;\n",
       "        }    #T_5edfd734_ccf7_11ea_a23e_38f9d3db5c17row2_col1 {\n",
       "            : ;\n",
       "            text-align:  left;\n",
       "        }    #T_5edfd734_ccf7_11ea_a23e_38f9d3db5c17row2_col2 {\n",
       "            : ;\n",
       "            text-align:  left;\n",
       "        }    #T_5edfd734_ccf7_11ea_a23e_38f9d3db5c17row2_col3 {\n",
       "            : ;\n",
       "            text-align:  left;\n",
       "        }    #T_5edfd734_ccf7_11ea_a23e_38f9d3db5c17row2_col4 {\n",
       "            : ;\n",
       "            text-align:  left;\n",
       "        }    #T_5edfd734_ccf7_11ea_a23e_38f9d3db5c17row2_col5 {\n",
       "            : ;\n",
       "            text-align:  left;\n",
       "        }    #T_5edfd734_ccf7_11ea_a23e_38f9d3db5c17row2_col6 {\n",
       "            : ;\n",
       "            text-align:  left;\n",
       "        }    #T_5edfd734_ccf7_11ea_a23e_38f9d3db5c17row2_col7 {\n",
       "            background-color:  lightgrey;\n",
       "            text-align:  left;\n",
       "        }    #T_5edfd734_ccf7_11ea_a23e_38f9d3db5c17row3_col0 {\n",
       "            text-align:  left;\n",
       "        }    #T_5edfd734_ccf7_11ea_a23e_38f9d3db5c17row3_col1 {\n",
       "            : ;\n",
       "            text-align:  left;\n",
       "        }    #T_5edfd734_ccf7_11ea_a23e_38f9d3db5c17row3_col2 {\n",
       "            : ;\n",
       "            text-align:  left;\n",
       "        }    #T_5edfd734_ccf7_11ea_a23e_38f9d3db5c17row3_col3 {\n",
       "            : ;\n",
       "            text-align:  left;\n",
       "        }    #T_5edfd734_ccf7_11ea_a23e_38f9d3db5c17row3_col4 {\n",
       "            : ;\n",
       "            text-align:  left;\n",
       "        }    #T_5edfd734_ccf7_11ea_a23e_38f9d3db5c17row3_col5 {\n",
       "            : ;\n",
       "            text-align:  left;\n",
       "        }    #T_5edfd734_ccf7_11ea_a23e_38f9d3db5c17row3_col6 {\n",
       "            : ;\n",
       "            text-align:  left;\n",
       "        }    #T_5edfd734_ccf7_11ea_a23e_38f9d3db5c17row3_col7 {\n",
       "            background-color:  lightgrey;\n",
       "            text-align:  left;\n",
       "        }    #T_5edfd734_ccf7_11ea_a23e_38f9d3db5c17row4_col0 {\n",
       "            text-align:  left;\n",
       "        }    #T_5edfd734_ccf7_11ea_a23e_38f9d3db5c17row4_col1 {\n",
       "            : ;\n",
       "            text-align:  left;\n",
       "        }    #T_5edfd734_ccf7_11ea_a23e_38f9d3db5c17row4_col2 {\n",
       "            : ;\n",
       "            text-align:  left;\n",
       "        }    #T_5edfd734_ccf7_11ea_a23e_38f9d3db5c17row4_col3 {\n",
       "            : ;\n",
       "            text-align:  left;\n",
       "        }    #T_5edfd734_ccf7_11ea_a23e_38f9d3db5c17row4_col4 {\n",
       "            : ;\n",
       "            text-align:  left;\n",
       "        }    #T_5edfd734_ccf7_11ea_a23e_38f9d3db5c17row4_col5 {\n",
       "            : ;\n",
       "            text-align:  left;\n",
       "        }    #T_5edfd734_ccf7_11ea_a23e_38f9d3db5c17row4_col6 {\n",
       "            : ;\n",
       "            text-align:  left;\n",
       "        }    #T_5edfd734_ccf7_11ea_a23e_38f9d3db5c17row4_col7 {\n",
       "            background-color:  lightgrey;\n",
       "            text-align:  left;\n",
       "        }    #T_5edfd734_ccf7_11ea_a23e_38f9d3db5c17row5_col0 {\n",
       "            text-align:  left;\n",
       "        }    #T_5edfd734_ccf7_11ea_a23e_38f9d3db5c17row5_col1 {\n",
       "            : ;\n",
       "            text-align:  left;\n",
       "        }    #T_5edfd734_ccf7_11ea_a23e_38f9d3db5c17row5_col2 {\n",
       "            : ;\n",
       "            text-align:  left;\n",
       "        }    #T_5edfd734_ccf7_11ea_a23e_38f9d3db5c17row5_col3 {\n",
       "            : ;\n",
       "            text-align:  left;\n",
       "        }    #T_5edfd734_ccf7_11ea_a23e_38f9d3db5c17row5_col4 {\n",
       "            : ;\n",
       "            text-align:  left;\n",
       "        }    #T_5edfd734_ccf7_11ea_a23e_38f9d3db5c17row5_col5 {\n",
       "            : ;\n",
       "            text-align:  left;\n",
       "        }    #T_5edfd734_ccf7_11ea_a23e_38f9d3db5c17row5_col6 {\n",
       "            : ;\n",
       "            text-align:  left;\n",
       "        }    #T_5edfd734_ccf7_11ea_a23e_38f9d3db5c17row5_col7 {\n",
       "            background-color:  lightgrey;\n",
       "            text-align:  left;\n",
       "        }    #T_5edfd734_ccf7_11ea_a23e_38f9d3db5c17row6_col0 {\n",
       "            text-align:  left;\n",
       "        }    #T_5edfd734_ccf7_11ea_a23e_38f9d3db5c17row6_col1 {\n",
       "            : ;\n",
       "            text-align:  left;\n",
       "        }    #T_5edfd734_ccf7_11ea_a23e_38f9d3db5c17row6_col2 {\n",
       "            : ;\n",
       "            text-align:  left;\n",
       "        }    #T_5edfd734_ccf7_11ea_a23e_38f9d3db5c17row6_col3 {\n",
       "            : ;\n",
       "            text-align:  left;\n",
       "        }    #T_5edfd734_ccf7_11ea_a23e_38f9d3db5c17row6_col4 {\n",
       "            : ;\n",
       "            text-align:  left;\n",
       "        }    #T_5edfd734_ccf7_11ea_a23e_38f9d3db5c17row6_col5 {\n",
       "            : ;\n",
       "            text-align:  left;\n",
       "        }    #T_5edfd734_ccf7_11ea_a23e_38f9d3db5c17row6_col6 {\n",
       "            : ;\n",
       "            text-align:  left;\n",
       "        }    #T_5edfd734_ccf7_11ea_a23e_38f9d3db5c17row6_col7 {\n",
       "            background-color:  lightgrey;\n",
       "            text-align:  left;\n",
       "        }    #T_5edfd734_ccf7_11ea_a23e_38f9d3db5c17row7_col0 {\n",
       "            text-align:  left;\n",
       "        }    #T_5edfd734_ccf7_11ea_a23e_38f9d3db5c17row7_col1 {\n",
       "            : ;\n",
       "            text-align:  left;\n",
       "        }    #T_5edfd734_ccf7_11ea_a23e_38f9d3db5c17row7_col2 {\n",
       "            : ;\n",
       "            text-align:  left;\n",
       "        }    #T_5edfd734_ccf7_11ea_a23e_38f9d3db5c17row7_col3 {\n",
       "            : ;\n",
       "            text-align:  left;\n",
       "        }    #T_5edfd734_ccf7_11ea_a23e_38f9d3db5c17row7_col4 {\n",
       "            : ;\n",
       "            text-align:  left;\n",
       "        }    #T_5edfd734_ccf7_11ea_a23e_38f9d3db5c17row7_col5 {\n",
       "            : ;\n",
       "            text-align:  left;\n",
       "        }    #T_5edfd734_ccf7_11ea_a23e_38f9d3db5c17row7_col6 {\n",
       "            : ;\n",
       "            text-align:  left;\n",
       "        }    #T_5edfd734_ccf7_11ea_a23e_38f9d3db5c17row7_col7 {\n",
       "            background-color:  lightgrey;\n",
       "            text-align:  left;\n",
       "        }    #T_5edfd734_ccf7_11ea_a23e_38f9d3db5c17row8_col0 {\n",
       "            text-align:  left;\n",
       "        }    #T_5edfd734_ccf7_11ea_a23e_38f9d3db5c17row8_col1 {\n",
       "            : ;\n",
       "            text-align:  left;\n",
       "        }    #T_5edfd734_ccf7_11ea_a23e_38f9d3db5c17row8_col2 {\n",
       "            : ;\n",
       "            text-align:  left;\n",
       "        }    #T_5edfd734_ccf7_11ea_a23e_38f9d3db5c17row8_col3 {\n",
       "            : ;\n",
       "            text-align:  left;\n",
       "        }    #T_5edfd734_ccf7_11ea_a23e_38f9d3db5c17row8_col4 {\n",
       "            : ;\n",
       "            text-align:  left;\n",
       "        }    #T_5edfd734_ccf7_11ea_a23e_38f9d3db5c17row8_col5 {\n",
       "            : ;\n",
       "            text-align:  left;\n",
       "        }    #T_5edfd734_ccf7_11ea_a23e_38f9d3db5c17row8_col6 {\n",
       "            : ;\n",
       "            text-align:  left;\n",
       "        }    #T_5edfd734_ccf7_11ea_a23e_38f9d3db5c17row8_col7 {\n",
       "            background-color:  lightgrey;\n",
       "            text-align:  left;\n",
       "        }    #T_5edfd734_ccf7_11ea_a23e_38f9d3db5c17row9_col0 {\n",
       "            text-align:  left;\n",
       "        }    #T_5edfd734_ccf7_11ea_a23e_38f9d3db5c17row9_col1 {\n",
       "            : ;\n",
       "            text-align:  left;\n",
       "        }    #T_5edfd734_ccf7_11ea_a23e_38f9d3db5c17row9_col2 {\n",
       "            : ;\n",
       "            text-align:  left;\n",
       "        }    #T_5edfd734_ccf7_11ea_a23e_38f9d3db5c17row9_col3 {\n",
       "            : ;\n",
       "            text-align:  left;\n",
       "        }    #T_5edfd734_ccf7_11ea_a23e_38f9d3db5c17row9_col4 {\n",
       "            : ;\n",
       "            text-align:  left;\n",
       "        }    #T_5edfd734_ccf7_11ea_a23e_38f9d3db5c17row9_col5 {\n",
       "            : ;\n",
       "            text-align:  left;\n",
       "        }    #T_5edfd734_ccf7_11ea_a23e_38f9d3db5c17row9_col6 {\n",
       "            : ;\n",
       "            text-align:  left;\n",
       "        }    #T_5edfd734_ccf7_11ea_a23e_38f9d3db5c17row9_col7 {\n",
       "            background-color:  lightgrey;\n",
       "            text-align:  left;\n",
       "        }    #T_5edfd734_ccf7_11ea_a23e_38f9d3db5c17row10_col0 {\n",
       "            text-align:  left;\n",
       "        }    #T_5edfd734_ccf7_11ea_a23e_38f9d3db5c17row10_col1 {\n",
       "            : ;\n",
       "            text-align:  left;\n",
       "        }    #T_5edfd734_ccf7_11ea_a23e_38f9d3db5c17row10_col2 {\n",
       "            : ;\n",
       "            text-align:  left;\n",
       "        }    #T_5edfd734_ccf7_11ea_a23e_38f9d3db5c17row10_col3 {\n",
       "            : ;\n",
       "            text-align:  left;\n",
       "        }    #T_5edfd734_ccf7_11ea_a23e_38f9d3db5c17row10_col4 {\n",
       "            : ;\n",
       "            text-align:  left;\n",
       "        }    #T_5edfd734_ccf7_11ea_a23e_38f9d3db5c17row10_col5 {\n",
       "            : ;\n",
       "            text-align:  left;\n",
       "        }    #T_5edfd734_ccf7_11ea_a23e_38f9d3db5c17row10_col6 {\n",
       "            : ;\n",
       "            text-align:  left;\n",
       "        }    #T_5edfd734_ccf7_11ea_a23e_38f9d3db5c17row10_col7 {\n",
       "            background-color:  lightgrey;\n",
       "            text-align:  left;\n",
       "        }    #T_5edfd734_ccf7_11ea_a23e_38f9d3db5c17row11_col0 {\n",
       "            text-align:  left;\n",
       "        }    #T_5edfd734_ccf7_11ea_a23e_38f9d3db5c17row11_col1 {\n",
       "            : ;\n",
       "            text-align:  left;\n",
       "        }    #T_5edfd734_ccf7_11ea_a23e_38f9d3db5c17row11_col2 {\n",
       "            : ;\n",
       "            text-align:  left;\n",
       "        }    #T_5edfd734_ccf7_11ea_a23e_38f9d3db5c17row11_col3 {\n",
       "            : ;\n",
       "            text-align:  left;\n",
       "        }    #T_5edfd734_ccf7_11ea_a23e_38f9d3db5c17row11_col4 {\n",
       "            : ;\n",
       "            text-align:  left;\n",
       "        }    #T_5edfd734_ccf7_11ea_a23e_38f9d3db5c17row11_col5 {\n",
       "            : ;\n",
       "            text-align:  left;\n",
       "        }    #T_5edfd734_ccf7_11ea_a23e_38f9d3db5c17row11_col6 {\n",
       "            : ;\n",
       "            text-align:  left;\n",
       "        }    #T_5edfd734_ccf7_11ea_a23e_38f9d3db5c17row11_col7 {\n",
       "            background-color:  lightgrey;\n",
       "            text-align:  left;\n",
       "        }    #T_5edfd734_ccf7_11ea_a23e_38f9d3db5c17row12_col0 {\n",
       "            text-align:  left;\n",
       "        }    #T_5edfd734_ccf7_11ea_a23e_38f9d3db5c17row12_col1 {\n",
       "            : ;\n",
       "            text-align:  left;\n",
       "        }    #T_5edfd734_ccf7_11ea_a23e_38f9d3db5c17row12_col2 {\n",
       "            : ;\n",
       "            text-align:  left;\n",
       "        }    #T_5edfd734_ccf7_11ea_a23e_38f9d3db5c17row12_col3 {\n",
       "            : ;\n",
       "            text-align:  left;\n",
       "        }    #T_5edfd734_ccf7_11ea_a23e_38f9d3db5c17row12_col4 {\n",
       "            : ;\n",
       "            text-align:  left;\n",
       "        }    #T_5edfd734_ccf7_11ea_a23e_38f9d3db5c17row12_col5 {\n",
       "            : ;\n",
       "            text-align:  left;\n",
       "        }    #T_5edfd734_ccf7_11ea_a23e_38f9d3db5c17row12_col6 {\n",
       "            : ;\n",
       "            text-align:  left;\n",
       "        }    #T_5edfd734_ccf7_11ea_a23e_38f9d3db5c17row12_col7 {\n",
       "            background-color:  lightgrey;\n",
       "            text-align:  left;\n",
       "        }    #T_5edfd734_ccf7_11ea_a23e_38f9d3db5c17row13_col0 {\n",
       "            text-align:  left;\n",
       "        }    #T_5edfd734_ccf7_11ea_a23e_38f9d3db5c17row13_col1 {\n",
       "            : ;\n",
       "            text-align:  left;\n",
       "        }    #T_5edfd734_ccf7_11ea_a23e_38f9d3db5c17row13_col2 {\n",
       "            : ;\n",
       "            text-align:  left;\n",
       "        }    #T_5edfd734_ccf7_11ea_a23e_38f9d3db5c17row13_col3 {\n",
       "            : ;\n",
       "            text-align:  left;\n",
       "        }    #T_5edfd734_ccf7_11ea_a23e_38f9d3db5c17row13_col4 {\n",
       "            : ;\n",
       "            text-align:  left;\n",
       "        }    #T_5edfd734_ccf7_11ea_a23e_38f9d3db5c17row13_col5 {\n",
       "            : ;\n",
       "            text-align:  left;\n",
       "        }    #T_5edfd734_ccf7_11ea_a23e_38f9d3db5c17row13_col6 {\n",
       "            : ;\n",
       "            text-align:  left;\n",
       "        }    #T_5edfd734_ccf7_11ea_a23e_38f9d3db5c17row13_col7 {\n",
       "            background-color:  lightgrey;\n",
       "            text-align:  left;\n",
       "        }    #T_5edfd734_ccf7_11ea_a23e_38f9d3db5c17row14_col0 {\n",
       "            text-align:  left;\n",
       "        }    #T_5edfd734_ccf7_11ea_a23e_38f9d3db5c17row14_col1 {\n",
       "            : ;\n",
       "            text-align:  left;\n",
       "        }    #T_5edfd734_ccf7_11ea_a23e_38f9d3db5c17row14_col2 {\n",
       "            : ;\n",
       "            text-align:  left;\n",
       "        }    #T_5edfd734_ccf7_11ea_a23e_38f9d3db5c17row14_col3 {\n",
       "            : ;\n",
       "            text-align:  left;\n",
       "        }    #T_5edfd734_ccf7_11ea_a23e_38f9d3db5c17row14_col4 {\n",
       "            : ;\n",
       "            text-align:  left;\n",
       "        }    #T_5edfd734_ccf7_11ea_a23e_38f9d3db5c17row14_col5 {\n",
       "            : ;\n",
       "            text-align:  left;\n",
       "        }    #T_5edfd734_ccf7_11ea_a23e_38f9d3db5c17row14_col6 {\n",
       "            : ;\n",
       "            text-align:  left;\n",
       "        }    #T_5edfd734_ccf7_11ea_a23e_38f9d3db5c17row14_col7 {\n",
       "            background-color:  lightgrey;\n",
       "            text-align:  left;\n",
       "        }    #T_5edfd734_ccf7_11ea_a23e_38f9d3db5c17row15_col0 {\n",
       "            text-align:  left;\n",
       "        }    #T_5edfd734_ccf7_11ea_a23e_38f9d3db5c17row15_col1 {\n",
       "            : ;\n",
       "            text-align:  left;\n",
       "        }    #T_5edfd734_ccf7_11ea_a23e_38f9d3db5c17row15_col2 {\n",
       "            : ;\n",
       "            text-align:  left;\n",
       "        }    #T_5edfd734_ccf7_11ea_a23e_38f9d3db5c17row15_col3 {\n",
       "            : ;\n",
       "            text-align:  left;\n",
       "        }    #T_5edfd734_ccf7_11ea_a23e_38f9d3db5c17row15_col4 {\n",
       "            : ;\n",
       "            text-align:  left;\n",
       "        }    #T_5edfd734_ccf7_11ea_a23e_38f9d3db5c17row15_col5 {\n",
       "            : ;\n",
       "            text-align:  left;\n",
       "        }    #T_5edfd734_ccf7_11ea_a23e_38f9d3db5c17row15_col6 {\n",
       "            : ;\n",
       "            text-align:  left;\n",
       "        }    #T_5edfd734_ccf7_11ea_a23e_38f9d3db5c17row15_col7 {\n",
       "            background-color:  lightgrey;\n",
       "            text-align:  left;\n",
       "        }    #T_5edfd734_ccf7_11ea_a23e_38f9d3db5c17row16_col0 {\n",
       "            text-align:  left;\n",
       "        }    #T_5edfd734_ccf7_11ea_a23e_38f9d3db5c17row16_col1 {\n",
       "            : ;\n",
       "            text-align:  left;\n",
       "        }    #T_5edfd734_ccf7_11ea_a23e_38f9d3db5c17row16_col2 {\n",
       "            : ;\n",
       "            text-align:  left;\n",
       "        }    #T_5edfd734_ccf7_11ea_a23e_38f9d3db5c17row16_col3 {\n",
       "            : ;\n",
       "            text-align:  left;\n",
       "        }    #T_5edfd734_ccf7_11ea_a23e_38f9d3db5c17row16_col4 {\n",
       "            : ;\n",
       "            text-align:  left;\n",
       "        }    #T_5edfd734_ccf7_11ea_a23e_38f9d3db5c17row16_col5 {\n",
       "            : ;\n",
       "            text-align:  left;\n",
       "        }    #T_5edfd734_ccf7_11ea_a23e_38f9d3db5c17row16_col6 {\n",
       "            : ;\n",
       "            text-align:  left;\n",
       "        }    #T_5edfd734_ccf7_11ea_a23e_38f9d3db5c17row16_col7 {\n",
       "            background-color:  lightgrey;\n",
       "            text-align:  left;\n",
       "        }    #T_5edfd734_ccf7_11ea_a23e_38f9d3db5c17row17_col0 {\n",
       "            text-align:  left;\n",
       "        }    #T_5edfd734_ccf7_11ea_a23e_38f9d3db5c17row17_col1 {\n",
       "            : ;\n",
       "            text-align:  left;\n",
       "        }    #T_5edfd734_ccf7_11ea_a23e_38f9d3db5c17row17_col2 {\n",
       "            : ;\n",
       "            text-align:  left;\n",
       "        }    #T_5edfd734_ccf7_11ea_a23e_38f9d3db5c17row17_col3 {\n",
       "            : ;\n",
       "            text-align:  left;\n",
       "        }    #T_5edfd734_ccf7_11ea_a23e_38f9d3db5c17row17_col4 {\n",
       "            : ;\n",
       "            text-align:  left;\n",
       "        }    #T_5edfd734_ccf7_11ea_a23e_38f9d3db5c17row17_col5 {\n",
       "            : ;\n",
       "            text-align:  left;\n",
       "        }    #T_5edfd734_ccf7_11ea_a23e_38f9d3db5c17row17_col6 {\n",
       "            : ;\n",
       "            text-align:  left;\n",
       "        }    #T_5edfd734_ccf7_11ea_a23e_38f9d3db5c17row17_col7 {\n",
       "            background-color:  lightgrey;\n",
       "            text-align:  left;\n",
       "        }    #T_5edfd734_ccf7_11ea_a23e_38f9d3db5c17row18_col0 {\n",
       "            text-align:  left;\n",
       "        }    #T_5edfd734_ccf7_11ea_a23e_38f9d3db5c17row18_col1 {\n",
       "            : ;\n",
       "            text-align:  left;\n",
       "        }    #T_5edfd734_ccf7_11ea_a23e_38f9d3db5c17row18_col2 {\n",
       "            : ;\n",
       "            text-align:  left;\n",
       "        }    #T_5edfd734_ccf7_11ea_a23e_38f9d3db5c17row18_col3 {\n",
       "            : ;\n",
       "            text-align:  left;\n",
       "        }    #T_5edfd734_ccf7_11ea_a23e_38f9d3db5c17row18_col4 {\n",
       "            : ;\n",
       "            text-align:  left;\n",
       "        }    #T_5edfd734_ccf7_11ea_a23e_38f9d3db5c17row18_col5 {\n",
       "            : ;\n",
       "            text-align:  left;\n",
       "        }    #T_5edfd734_ccf7_11ea_a23e_38f9d3db5c17row18_col6 {\n",
       "            : ;\n",
       "            text-align:  left;\n",
       "        }    #T_5edfd734_ccf7_11ea_a23e_38f9d3db5c17row18_col7 {\n",
       "            background-color:  lightgrey;\n",
       "            text-align:  left;\n",
       "        }    #T_5edfd734_ccf7_11ea_a23e_38f9d3db5c17row19_col0 {\n",
       "            text-align:  left;\n",
       "        }    #T_5edfd734_ccf7_11ea_a23e_38f9d3db5c17row19_col1 {\n",
       "            : ;\n",
       "            text-align:  left;\n",
       "        }    #T_5edfd734_ccf7_11ea_a23e_38f9d3db5c17row19_col2 {\n",
       "            : ;\n",
       "            text-align:  left;\n",
       "        }    #T_5edfd734_ccf7_11ea_a23e_38f9d3db5c17row19_col3 {\n",
       "            : ;\n",
       "            text-align:  left;\n",
       "        }    #T_5edfd734_ccf7_11ea_a23e_38f9d3db5c17row19_col4 {\n",
       "            : ;\n",
       "            text-align:  left;\n",
       "        }    #T_5edfd734_ccf7_11ea_a23e_38f9d3db5c17row19_col5 {\n",
       "            : ;\n",
       "            text-align:  left;\n",
       "        }    #T_5edfd734_ccf7_11ea_a23e_38f9d3db5c17row19_col6 {\n",
       "            : ;\n",
       "            text-align:  left;\n",
       "        }    #T_5edfd734_ccf7_11ea_a23e_38f9d3db5c17row19_col7 {\n",
       "            background-color:  lightgrey;\n",
       "            text-align:  left;\n",
       "        }    #T_5edfd734_ccf7_11ea_a23e_38f9d3db5c17row20_col0 {\n",
       "            text-align:  left;\n",
       "        }    #T_5edfd734_ccf7_11ea_a23e_38f9d3db5c17row20_col1 {\n",
       "            : ;\n",
       "            text-align:  left;\n",
       "        }    #T_5edfd734_ccf7_11ea_a23e_38f9d3db5c17row20_col2 {\n",
       "            : ;\n",
       "            text-align:  left;\n",
       "        }    #T_5edfd734_ccf7_11ea_a23e_38f9d3db5c17row20_col3 {\n",
       "            : ;\n",
       "            text-align:  left;\n",
       "        }    #T_5edfd734_ccf7_11ea_a23e_38f9d3db5c17row20_col4 {\n",
       "            : ;\n",
       "            text-align:  left;\n",
       "        }    #T_5edfd734_ccf7_11ea_a23e_38f9d3db5c17row20_col5 {\n",
       "            : ;\n",
       "            text-align:  left;\n",
       "        }    #T_5edfd734_ccf7_11ea_a23e_38f9d3db5c17row20_col6 {\n",
       "            : ;\n",
       "            text-align:  left;\n",
       "        }    #T_5edfd734_ccf7_11ea_a23e_38f9d3db5c17row20_col7 {\n",
       "            background-color:  lightgrey;\n",
       "            text-align:  left;\n",
       "        }    #T_5edfd734_ccf7_11ea_a23e_38f9d3db5c17row21_col0 {\n",
       "            text-align:  left;\n",
       "        }    #T_5edfd734_ccf7_11ea_a23e_38f9d3db5c17row21_col1 {\n",
       "            : ;\n",
       "            text-align:  left;\n",
       "        }    #T_5edfd734_ccf7_11ea_a23e_38f9d3db5c17row21_col2 {\n",
       "            : ;\n",
       "            text-align:  left;\n",
       "        }    #T_5edfd734_ccf7_11ea_a23e_38f9d3db5c17row21_col3 {\n",
       "            : ;\n",
       "            text-align:  left;\n",
       "        }    #T_5edfd734_ccf7_11ea_a23e_38f9d3db5c17row21_col4 {\n",
       "            : ;\n",
       "            text-align:  left;\n",
       "        }    #T_5edfd734_ccf7_11ea_a23e_38f9d3db5c17row21_col5 {\n",
       "            : ;\n",
       "            text-align:  left;\n",
       "        }    #T_5edfd734_ccf7_11ea_a23e_38f9d3db5c17row21_col6 {\n",
       "            : ;\n",
       "            text-align:  left;\n",
       "        }    #T_5edfd734_ccf7_11ea_a23e_38f9d3db5c17row21_col7 {\n",
       "            background-color:  lightgrey;\n",
       "            text-align:  left;\n",
       "        }</style><table id=\"T_5edfd734_ccf7_11ea_a23e_38f9d3db5c17\" ><thead>    <tr>        <th class=\"blank level0\" ></th>        <th class=\"col_heading level0 col0\" >Model</th>        <th class=\"col_heading level0 col1\" >MAE</th>        <th class=\"col_heading level0 col2\" >MSE</th>        <th class=\"col_heading level0 col3\" >RMSE</th>        <th class=\"col_heading level0 col4\" >R2</th>        <th class=\"col_heading level0 col5\" >RMSLE</th>        <th class=\"col_heading level0 col6\" >MAPE</th>        <th class=\"col_heading level0 col7\" >TT (Sec)</th>    </tr></thead><tbody>\n",
       "                <tr>\n",
       "                        <th id=\"T_5edfd734_ccf7_11ea_a23e_38f9d3db5c17level0_row0\" class=\"row_heading level0 row0\" >0</th>\n",
       "                        <td id=\"T_5edfd734_ccf7_11ea_a23e_38f9d3db5c17row0_col0\" class=\"data row0 col0\" >CatBoost Regressor</td>\n",
       "                        <td id=\"T_5edfd734_ccf7_11ea_a23e_38f9d3db5c17row0_col1\" class=\"data row0 col1\" >291.4633</td>\n",
       "                        <td id=\"T_5edfd734_ccf7_11ea_a23e_38f9d3db5c17row0_col2\" class=\"data row0 col2\" >328406.1172</td>\n",
       "                        <td id=\"T_5edfd734_ccf7_11ea_a23e_38f9d3db5c17row0_col3\" class=\"data row0 col3\" >570.1792</td>\n",
       "                        <td id=\"T_5edfd734_ccf7_11ea_a23e_38f9d3db5c17row0_col4\" class=\"data row0 col4\" >0.9793</td>\n",
       "                        <td id=\"T_5edfd734_ccf7_11ea_a23e_38f9d3db5c17row0_col5\" class=\"data row0 col5\" >0.1071</td>\n",
       "                        <td id=\"T_5edfd734_ccf7_11ea_a23e_38f9d3db5c17row0_col6\" class=\"data row0 col6\" >0.0803</td>\n",
       "                        <td id=\"T_5edfd734_ccf7_11ea_a23e_38f9d3db5c17row0_col7\" class=\"data row0 col7\" >2.2095</td>\n",
       "            </tr>\n",
       "            <tr>\n",
       "                        <th id=\"T_5edfd734_ccf7_11ea_a23e_38f9d3db5c17level0_row1\" class=\"row_heading level0 row1\" >1</th>\n",
       "                        <td id=\"T_5edfd734_ccf7_11ea_a23e_38f9d3db5c17row1_col0\" class=\"data row1 col0\" >Extra Trees Regressor</td>\n",
       "                        <td id=\"T_5edfd734_ccf7_11ea_a23e_38f9d3db5c17row1_col1\" class=\"data row1 col1\" >301.2895</td>\n",
       "                        <td id=\"T_5edfd734_ccf7_11ea_a23e_38f9d3db5c17row1_col2\" class=\"data row1 col2\" >339109.9609</td>\n",
       "                        <td id=\"T_5edfd734_ccf7_11ea_a23e_38f9d3db5c17row1_col3\" class=\"data row1 col3\" >580.2975</td>\n",
       "                        <td id=\"T_5edfd734_ccf7_11ea_a23e_38f9d3db5c17row1_col4\" class=\"data row1 col4\" >0.9786</td>\n",
       "                        <td id=\"T_5edfd734_ccf7_11ea_a23e_38f9d3db5c17row1_col5\" class=\"data row1 col5\" >0.1039</td>\n",
       "                        <td id=\"T_5edfd734_ccf7_11ea_a23e_38f9d3db5c17row1_col6\" class=\"data row1 col6\" >0.0782</td>\n",
       "                        <td id=\"T_5edfd734_ccf7_11ea_a23e_38f9d3db5c17row1_col7\" class=\"data row1 col7\" >0.8285</td>\n",
       "            </tr>\n",
       "            <tr>\n",
       "                        <th id=\"T_5edfd734_ccf7_11ea_a23e_38f9d3db5c17level0_row2\" class=\"row_heading level0 row2\" >2</th>\n",
       "                        <td id=\"T_5edfd734_ccf7_11ea_a23e_38f9d3db5c17row2_col0\" class=\"data row2 col0\" >Light Gradient Boosting Machine</td>\n",
       "                        <td id=\"T_5edfd734_ccf7_11ea_a23e_38f9d3db5c17row2_col1\" class=\"data row2 col1\" >304.9970</td>\n",
       "                        <td id=\"T_5edfd734_ccf7_11ea_a23e_38f9d3db5c17row2_col2\" class=\"data row2 col2\" >341969.1434</td>\n",
       "                        <td id=\"T_5edfd734_ccf7_11ea_a23e_38f9d3db5c17row2_col3\" class=\"data row2 col3\" >583.1395</td>\n",
       "                        <td id=\"T_5edfd734_ccf7_11ea_a23e_38f9d3db5c17row2_col4\" class=\"data row2 col4\" >0.9784</td>\n",
       "                        <td id=\"T_5edfd734_ccf7_11ea_a23e_38f9d3db5c17row2_col5\" class=\"data row2 col5\" >0.1116</td>\n",
       "                        <td id=\"T_5edfd734_ccf7_11ea_a23e_38f9d3db5c17row2_col6\" class=\"data row2 col6\" >0.0860</td>\n",
       "                        <td id=\"T_5edfd734_ccf7_11ea_a23e_38f9d3db5c17row2_col7\" class=\"data row2 col7\" >0.1338</td>\n",
       "            </tr>\n",
       "            <tr>\n",
       "                        <th id=\"T_5edfd734_ccf7_11ea_a23e_38f9d3db5c17level0_row3\" class=\"row_heading level0 row3\" >3</th>\n",
       "                        <td id=\"T_5edfd734_ccf7_11ea_a23e_38f9d3db5c17row3_col0\" class=\"data row3 col0\" >Random Forest</td>\n",
       "                        <td id=\"T_5edfd734_ccf7_11ea_a23e_38f9d3db5c17row3_col1\" class=\"data row3 col1\" >308.2206</td>\n",
       "                        <td id=\"T_5edfd734_ccf7_11ea_a23e_38f9d3db5c17row3_col2\" class=\"data row3 col2\" >356223.7420</td>\n",
       "                        <td id=\"T_5edfd734_ccf7_11ea_a23e_38f9d3db5c17row3_col3\" class=\"data row3 col3\" >595.4997</td>\n",
       "                        <td id=\"T_5edfd734_ccf7_11ea_a23e_38f9d3db5c17row3_col4\" class=\"data row3 col4\" >0.9775</td>\n",
       "                        <td id=\"T_5edfd734_ccf7_11ea_a23e_38f9d3db5c17row3_col5\" class=\"data row3 col5\" >0.1058</td>\n",
       "                        <td id=\"T_5edfd734_ccf7_11ea_a23e_38f9d3db5c17row3_col6\" class=\"data row3 col6\" >0.0795</td>\n",
       "                        <td id=\"T_5edfd734_ccf7_11ea_a23e_38f9d3db5c17row3_col7\" class=\"data row3 col7\" >1.0391</td>\n",
       "            </tr>\n",
       "            <tr>\n",
       "                        <th id=\"T_5edfd734_ccf7_11ea_a23e_38f9d3db5c17level0_row4\" class=\"row_heading level0 row4\" >4</th>\n",
       "                        <td id=\"T_5edfd734_ccf7_11ea_a23e_38f9d3db5c17row4_col0\" class=\"data row4 col0\" >Extreme Gradient Boosting</td>\n",
       "                        <td id=\"T_5edfd734_ccf7_11ea_a23e_38f9d3db5c17row4_col1\" class=\"data row4 col1\" >312.5215</td>\n",
       "                        <td id=\"T_5edfd734_ccf7_11ea_a23e_38f9d3db5c17row4_col2\" class=\"data row4 col2\" >370000.3891</td>\n",
       "                        <td id=\"T_5edfd734_ccf7_11ea_a23e_38f9d3db5c17row4_col3\" class=\"data row4 col3\" >606.7657</td>\n",
       "                        <td id=\"T_5edfd734_ccf7_11ea_a23e_38f9d3db5c17row4_col4\" class=\"data row4 col4\" >0.9766</td>\n",
       "                        <td id=\"T_5edfd734_ccf7_11ea_a23e_38f9d3db5c17row4_col5\" class=\"data row4 col5\" >0.1041</td>\n",
       "                        <td id=\"T_5edfd734_ccf7_11ea_a23e_38f9d3db5c17row4_col6\" class=\"data row4 col6\" >0.0787</td>\n",
       "                        <td id=\"T_5edfd734_ccf7_11ea_a23e_38f9d3db5c17row4_col7\" class=\"data row4 col7\" >0.5735</td>\n",
       "            </tr>\n",
       "            <tr>\n",
       "                        <th id=\"T_5edfd734_ccf7_11ea_a23e_38f9d3db5c17level0_row5\" class=\"row_heading level0 row5\" >5</th>\n",
       "                        <td id=\"T_5edfd734_ccf7_11ea_a23e_38f9d3db5c17row5_col0\" class=\"data row5 col0\" >Gradient Boosting Regressor</td>\n",
       "                        <td id=\"T_5edfd734_ccf7_11ea_a23e_38f9d3db5c17row5_col1\" class=\"data row5 col1\" >351.5070</td>\n",
       "                        <td id=\"T_5edfd734_ccf7_11ea_a23e_38f9d3db5c17row5_col2\" class=\"data row5 col2\" >401260.1617</td>\n",
       "                        <td id=\"T_5edfd734_ccf7_11ea_a23e_38f9d3db5c17row5_col3\" class=\"data row5 col3\" >631.0494</td>\n",
       "                        <td id=\"T_5edfd734_ccf7_11ea_a23e_38f9d3db5c17row5_col4\" class=\"data row5 col4\" >0.9746</td>\n",
       "                        <td id=\"T_5edfd734_ccf7_11ea_a23e_38f9d3db5c17row5_col5\" class=\"data row5 col5\" >0.1494</td>\n",
       "                        <td id=\"T_5edfd734_ccf7_11ea_a23e_38f9d3db5c17row5_col6\" class=\"data row5 col6\" >0.1089</td>\n",
       "                        <td id=\"T_5edfd734_ccf7_11ea_a23e_38f9d3db5c17row5_col7\" class=\"data row5 col7\" >0.7155</td>\n",
       "            </tr>\n",
       "            <tr>\n",
       "                        <th id=\"T_5edfd734_ccf7_11ea_a23e_38f9d3db5c17level0_row6\" class=\"row_heading level0 row6\" >6</th>\n",
       "                        <td id=\"T_5edfd734_ccf7_11ea_a23e_38f9d3db5c17row6_col0\" class=\"data row6 col0\" >Decision Tree</td>\n",
       "                        <td id=\"T_5edfd734_ccf7_11ea_a23e_38f9d3db5c17row6_col1\" class=\"data row6 col1\" >425.8414</td>\n",
       "                        <td id=\"T_5edfd734_ccf7_11ea_a23e_38f9d3db5c17row6_col2\" class=\"data row6 col2\" >657790.4272</td>\n",
       "                        <td id=\"T_5edfd734_ccf7_11ea_a23e_38f9d3db5c17row6_col3\" class=\"data row6 col3\" >807.0765</td>\n",
       "                        <td id=\"T_5edfd734_ccf7_11ea_a23e_38f9d3db5c17row6_col4\" class=\"data row6 col4\" >0.9583</td>\n",
       "                        <td id=\"T_5edfd734_ccf7_11ea_a23e_38f9d3db5c17row6_col5\" class=\"data row6 col5\" >0.1482</td>\n",
       "                        <td id=\"T_5edfd734_ccf7_11ea_a23e_38f9d3db5c17row6_col6\" class=\"data row6 col6\" >0.1091</td>\n",
       "                        <td id=\"T_5edfd734_ccf7_11ea_a23e_38f9d3db5c17row6_col7\" class=\"data row6 col7\" >0.0436</td>\n",
       "            </tr>\n",
       "            <tr>\n",
       "                        <th id=\"T_5edfd734_ccf7_11ea_a23e_38f9d3db5c17level0_row7\" class=\"row_heading level0 row7\" >7</th>\n",
       "                        <td id=\"T_5edfd734_ccf7_11ea_a23e_38f9d3db5c17row7_col0\" class=\"data row7 col0\" >K Neighbors Regressor</td>\n",
       "                        <td id=\"T_5edfd734_ccf7_11ea_a23e_38f9d3db5c17row7_col1\" class=\"data row7 col1\" >445.2798</td>\n",
       "                        <td id=\"T_5edfd734_ccf7_11ea_a23e_38f9d3db5c17row7_col2\" class=\"data row7 col2\" >704054.6334</td>\n",
       "                        <td id=\"T_5edfd734_ccf7_11ea_a23e_38f9d3db5c17row7_col3\" class=\"data row7 col3\" >835.9819</td>\n",
       "                        <td id=\"T_5edfd734_ccf7_11ea_a23e_38f9d3db5c17row7_col4\" class=\"data row7 col4\" >0.9555</td>\n",
       "                        <td id=\"T_5edfd734_ccf7_11ea_a23e_38f9d3db5c17row7_col5\" class=\"data row7 col5\" >0.1611</td>\n",
       "                        <td id=\"T_5edfd734_ccf7_11ea_a23e_38f9d3db5c17row7_col6\" class=\"data row7 col6\" >0.1234</td>\n",
       "                        <td id=\"T_5edfd734_ccf7_11ea_a23e_38f9d3db5c17row7_col7\" class=\"data row7 col7\" >0.0084</td>\n",
       "            </tr>\n",
       "            <tr>\n",
       "                        <th id=\"T_5edfd734_ccf7_11ea_a23e_38f9d3db5c17level0_row8\" class=\"row_heading level0 row8\" >8</th>\n",
       "                        <td id=\"T_5edfd734_ccf7_11ea_a23e_38f9d3db5c17row8_col0\" class=\"data row8 col0\" >AdaBoost Regressor</td>\n",
       "                        <td id=\"T_5edfd734_ccf7_11ea_a23e_38f9d3db5c17row8_col1\" class=\"data row8 col1\" >885.7050</td>\n",
       "                        <td id=\"T_5edfd734_ccf7_11ea_a23e_38f9d3db5c17row8_col2\" class=\"data row8 col2\" >1314629.7644</td>\n",
       "                        <td id=\"T_5edfd734_ccf7_11ea_a23e_38f9d3db5c17row8_col3\" class=\"data row8 col3\" >1145.7337</td>\n",
       "                        <td id=\"T_5edfd734_ccf7_11ea_a23e_38f9d3db5c17row8_col4\" class=\"data row8 col4\" >0.9165</td>\n",
       "                        <td id=\"T_5edfd734_ccf7_11ea_a23e_38f9d3db5c17row8_col5\" class=\"data row8 col5\" >0.4359</td>\n",
       "                        <td id=\"T_5edfd734_ccf7_11ea_a23e_38f9d3db5c17row8_col6\" class=\"data row8 col6\" >0.4625</td>\n",
       "                        <td id=\"T_5edfd734_ccf7_11ea_a23e_38f9d3db5c17row8_col7\" class=\"data row8 col7\" >0.3822</td>\n",
       "            </tr>\n",
       "            <tr>\n",
       "                        <th id=\"T_5edfd734_ccf7_11ea_a23e_38f9d3db5c17level0_row9\" class=\"row_heading level0 row9\" >9</th>\n",
       "                        <td id=\"T_5edfd734_ccf7_11ea_a23e_38f9d3db5c17row9_col0\" class=\"data row9 col0\" >Lasso Regression</td>\n",
       "                        <td id=\"T_5edfd734_ccf7_11ea_a23e_38f9d3db5c17row9_col1\" class=\"data row9 col1\" >767.0263</td>\n",
       "                        <td id=\"T_5edfd734_ccf7_11ea_a23e_38f9d3db5c17row9_col2\" class=\"data row9 col2\" >1382436.9786</td>\n",
       "                        <td id=\"T_5edfd734_ccf7_11ea_a23e_38f9d3db5c17row9_col3\" class=\"data row9 col3\" >1172.8783</td>\n",
       "                        <td id=\"T_5edfd734_ccf7_11ea_a23e_38f9d3db5c17row9_col4\" class=\"data row9 col4\" >0.9122</td>\n",
       "                        <td id=\"T_5edfd734_ccf7_11ea_a23e_38f9d3db5c17row9_col5\" class=\"data row9 col5\" >0.5914</td>\n",
       "                        <td id=\"T_5edfd734_ccf7_11ea_a23e_38f9d3db5c17row9_col6\" class=\"data row9 col6\" >0.4059</td>\n",
       "                        <td id=\"T_5edfd734_ccf7_11ea_a23e_38f9d3db5c17row9_col7\" class=\"data row9 col7\" >0.0522</td>\n",
       "            </tr>\n",
       "            <tr>\n",
       "                        <th id=\"T_5edfd734_ccf7_11ea_a23e_38f9d3db5c17level0_row10\" class=\"row_heading level0 row10\" >10</th>\n",
       "                        <td id=\"T_5edfd734_ccf7_11ea_a23e_38f9d3db5c17row10_col0\" class=\"data row10 col0\" >Ridge Regression</td>\n",
       "                        <td id=\"T_5edfd734_ccf7_11ea_a23e_38f9d3db5c17row10_col1\" class=\"data row10 col1\" >765.9657</td>\n",
       "                        <td id=\"T_5edfd734_ccf7_11ea_a23e_38f9d3db5c17row10_col2\" class=\"data row10 col2\" >1449764.7098</td>\n",
       "                        <td id=\"T_5edfd734_ccf7_11ea_a23e_38f9d3db5c17row10_col3\" class=\"data row10 col3\" >1198.6977</td>\n",
       "                        <td id=\"T_5edfd734_ccf7_11ea_a23e_38f9d3db5c17row10_col4\" class=\"data row10 col4\" >0.9079</td>\n",
       "                        <td id=\"T_5edfd734_ccf7_11ea_a23e_38f9d3db5c17row10_col5\" class=\"data row10 col5\" >0.5741</td>\n",
       "                        <td id=\"T_5edfd734_ccf7_11ea_a23e_38f9d3db5c17row10_col6\" class=\"data row10 col6\" >0.4025</td>\n",
       "                        <td id=\"T_5edfd734_ccf7_11ea_a23e_38f9d3db5c17row10_col7\" class=\"data row10 col7\" >0.0119</td>\n",
       "            </tr>\n",
       "            <tr>\n",
       "                        <th id=\"T_5edfd734_ccf7_11ea_a23e_38f9d3db5c17level0_row11\" class=\"row_heading level0 row11\" >11</th>\n",
       "                        <td id=\"T_5edfd734_ccf7_11ea_a23e_38f9d3db5c17row11_col0\" class=\"data row11 col0\" >Random Sample Consensus</td>\n",
       "                        <td id=\"T_5edfd734_ccf7_11ea_a23e_38f9d3db5c17row11_col1\" class=\"data row11 col1\" >688.3393</td>\n",
       "                        <td id=\"T_5edfd734_ccf7_11ea_a23e_38f9d3db5c17row11_col2\" class=\"data row11 col2\" >1490944.7757</td>\n",
       "                        <td id=\"T_5edfd734_ccf7_11ea_a23e_38f9d3db5c17row11_col3\" class=\"data row11 col3\" >1217.1068</td>\n",
       "                        <td id=\"T_5edfd734_ccf7_11ea_a23e_38f9d3db5c17row11_col4\" class=\"data row11 col4\" >0.9052</td>\n",
       "                        <td id=\"T_5edfd734_ccf7_11ea_a23e_38f9d3db5c17row11_col5\" class=\"data row11 col5\" >0.5144</td>\n",
       "                        <td id=\"T_5edfd734_ccf7_11ea_a23e_38f9d3db5c17row11_col6\" class=\"data row11 col6\" >0.2797</td>\n",
       "                        <td id=\"T_5edfd734_ccf7_11ea_a23e_38f9d3db5c17row11_col7\" class=\"data row11 col7\" >0.1778</td>\n",
       "            </tr>\n",
       "            <tr>\n",
       "                        <th id=\"T_5edfd734_ccf7_11ea_a23e_38f9d3db5c17level0_row12\" class=\"row_heading level0 row12\" >12</th>\n",
       "                        <td id=\"T_5edfd734_ccf7_11ea_a23e_38f9d3db5c17row12_col0\" class=\"data row12 col0\" >TheilSen Regressor</td>\n",
       "                        <td id=\"T_5edfd734_ccf7_11ea_a23e_38f9d3db5c17row12_col1\" class=\"data row12 col1\" >687.9018</td>\n",
       "                        <td id=\"T_5edfd734_ccf7_11ea_a23e_38f9d3db5c17row12_col2\" class=\"data row12 col2\" >1542863.7577</td>\n",
       "                        <td id=\"T_5edfd734_ccf7_11ea_a23e_38f9d3db5c17row12_col3\" class=\"data row12 col3\" >1236.7884</td>\n",
       "                        <td id=\"T_5edfd734_ccf7_11ea_a23e_38f9d3db5c17row12_col4\" class=\"data row12 col4\" >0.9018</td>\n",
       "                        <td id=\"T_5edfd734_ccf7_11ea_a23e_38f9d3db5c17row12_col5\" class=\"data row12 col5\" >0.5170</td>\n",
       "                        <td id=\"T_5edfd734_ccf7_11ea_a23e_38f9d3db5c17row12_col6\" class=\"data row12 col6\" >0.2731</td>\n",
       "                        <td id=\"T_5edfd734_ccf7_11ea_a23e_38f9d3db5c17row12_col7\" class=\"data row12 col7\" >1.7656</td>\n",
       "            </tr>\n",
       "            <tr>\n",
       "                        <th id=\"T_5edfd734_ccf7_11ea_a23e_38f9d3db5c17level0_row13\" class=\"row_heading level0 row13\" >13</th>\n",
       "                        <td id=\"T_5edfd734_ccf7_11ea_a23e_38f9d3db5c17row13_col0\" class=\"data row13 col0\" >Lasso Least Angle Regression</td>\n",
       "                        <td id=\"T_5edfd734_ccf7_11ea_a23e_38f9d3db5c17row13_col1\" class=\"data row13 col1\" >837.2499</td>\n",
       "                        <td id=\"T_5edfd734_ccf7_11ea_a23e_38f9d3db5c17row13_col2\" class=\"data row13 col2\" >1563596.4640</td>\n",
       "                        <td id=\"T_5edfd734_ccf7_11ea_a23e_38f9d3db5c17row13_col3\" class=\"data row13 col3\" >1248.4057</td>\n",
       "                        <td id=\"T_5edfd734_ccf7_11ea_a23e_38f9d3db5c17row13_col4\" class=\"data row13 col4\" >0.9010</td>\n",
       "                        <td id=\"T_5edfd734_ccf7_11ea_a23e_38f9d3db5c17row13_col5\" class=\"data row13 col5\" >0.6505</td>\n",
       "                        <td id=\"T_5edfd734_ccf7_11ea_a23e_38f9d3db5c17row13_col6\" class=\"data row13 col6\" >0.4196</td>\n",
       "                        <td id=\"T_5edfd734_ccf7_11ea_a23e_38f9d3db5c17row13_col7\" class=\"data row13 col7\" >0.0073</td>\n",
       "            </tr>\n",
       "            <tr>\n",
       "                        <th id=\"T_5edfd734_ccf7_11ea_a23e_38f9d3db5c17level0_row14\" class=\"row_heading level0 row14\" >14</th>\n",
       "                        <td id=\"T_5edfd734_ccf7_11ea_a23e_38f9d3db5c17row14_col0\" class=\"data row14 col0\" >Huber Regressor</td>\n",
       "                        <td id=\"T_5edfd734_ccf7_11ea_a23e_38f9d3db5c17row14_col1\" class=\"data row14 col1\" >676.4679</td>\n",
       "                        <td id=\"T_5edfd734_ccf7_11ea_a23e_38f9d3db5c17row14_col2\" class=\"data row14 col2\" >1564476.0044</td>\n",
       "                        <td id=\"T_5edfd734_ccf7_11ea_a23e_38f9d3db5c17row14_col3\" class=\"data row14 col3\" >1246.8594</td>\n",
       "                        <td id=\"T_5edfd734_ccf7_11ea_a23e_38f9d3db5c17row14_col4\" class=\"data row14 col4\" >0.9006</td>\n",
       "                        <td id=\"T_5edfd734_ccf7_11ea_a23e_38f9d3db5c17row14_col5\" class=\"data row14 col5\" >0.4698</td>\n",
       "                        <td id=\"T_5edfd734_ccf7_11ea_a23e_38f9d3db5c17row14_col6\" class=\"data row14 col6\" >0.2482</td>\n",
       "                        <td id=\"T_5edfd734_ccf7_11ea_a23e_38f9d3db5c17row14_col7\" class=\"data row14 col7\" >0.1326</td>\n",
       "            </tr>\n",
       "            <tr>\n",
       "                        <th id=\"T_5edfd734_ccf7_11ea_a23e_38f9d3db5c17level0_row15\" class=\"row_heading level0 row15\" >15</th>\n",
       "                        <td id=\"T_5edfd734_ccf7_11ea_a23e_38f9d3db5c17row15_col0\" class=\"data row15 col0\" >Passive Aggressive Regressor</td>\n",
       "                        <td id=\"T_5edfd734_ccf7_11ea_a23e_38f9d3db5c17row15_col1\" class=\"data row15 col1\" >679.1705</td>\n",
       "                        <td id=\"T_5edfd734_ccf7_11ea_a23e_38f9d3db5c17row15_col2\" class=\"data row15 col2\" >1642703.4573</td>\n",
       "                        <td id=\"T_5edfd734_ccf7_11ea_a23e_38f9d3db5c17row15_col3\" class=\"data row15 col3\" >1279.4487</td>\n",
       "                        <td id=\"T_5edfd734_ccf7_11ea_a23e_38f9d3db5c17row15_col4\" class=\"data row15 col4\" >0.8957</td>\n",
       "                        <td id=\"T_5edfd734_ccf7_11ea_a23e_38f9d3db5c17row15_col5\" class=\"data row15 col5\" >0.4503</td>\n",
       "                        <td id=\"T_5edfd734_ccf7_11ea_a23e_38f9d3db5c17row15_col6\" class=\"data row15 col6\" >0.2239</td>\n",
       "                        <td id=\"T_5edfd734_ccf7_11ea_a23e_38f9d3db5c17row15_col7\" class=\"data row15 col7\" >0.0309</td>\n",
       "            </tr>\n",
       "            <tr>\n",
       "                        <th id=\"T_5edfd734_ccf7_11ea_a23e_38f9d3db5c17level0_row16\" class=\"row_heading level0 row16\" >16</th>\n",
       "                        <td id=\"T_5edfd734_ccf7_11ea_a23e_38f9d3db5c17row16_col0\" class=\"data row16 col0\" >Bayesian Ridge</td>\n",
       "                        <td id=\"T_5edfd734_ccf7_11ea_a23e_38f9d3db5c17row16_col1\" class=\"data row16 col1\" >769.4865</td>\n",
       "                        <td id=\"T_5edfd734_ccf7_11ea_a23e_38f9d3db5c17row16_col2\" class=\"data row16 col2\" >1699296.7656</td>\n",
       "                        <td id=\"T_5edfd734_ccf7_11ea_a23e_38f9d3db5c17row16_col3\" class=\"data row16 col3\" >1276.5966</td>\n",
       "                        <td id=\"T_5edfd734_ccf7_11ea_a23e_38f9d3db5c17row16_col4\" class=\"data row16 col4\" >0.8928</td>\n",
       "                        <td id=\"T_5edfd734_ccf7_11ea_a23e_38f9d3db5c17row16_col5\" class=\"data row16 col5\" >0.5599</td>\n",
       "                        <td id=\"T_5edfd734_ccf7_11ea_a23e_38f9d3db5c17row16_col6\" class=\"data row16 col6\" >0.4016</td>\n",
       "                        <td id=\"T_5edfd734_ccf7_11ea_a23e_38f9d3db5c17row16_col7\" class=\"data row16 col7\" >0.0150</td>\n",
       "            </tr>\n",
       "            <tr>\n",
       "                        <th id=\"T_5edfd734_ccf7_11ea_a23e_38f9d3db5c17level0_row17\" class=\"row_heading level0 row17\" >17</th>\n",
       "                        <td id=\"T_5edfd734_ccf7_11ea_a23e_38f9d3db5c17row17_col0\" class=\"data row17 col0\" >Linear Regression</td>\n",
       "                        <td id=\"T_5edfd734_ccf7_11ea_a23e_38f9d3db5c17row17_col1\" class=\"data row17 col1\" >769.8379</td>\n",
       "                        <td id=\"T_5edfd734_ccf7_11ea_a23e_38f9d3db5c17row17_col2\" class=\"data row17 col2\" >1750357.1856</td>\n",
       "                        <td id=\"T_5edfd734_ccf7_11ea_a23e_38f9d3db5c17row17_col3\" class=\"data row17 col3\" >1289.7220</td>\n",
       "                        <td id=\"T_5edfd734_ccf7_11ea_a23e_38f9d3db5c17row17_col4\" class=\"data row17 col4\" >0.8898</td>\n",
       "                        <td id=\"T_5edfd734_ccf7_11ea_a23e_38f9d3db5c17row17_col5\" class=\"data row17 col5\" >0.5588</td>\n",
       "                        <td id=\"T_5edfd734_ccf7_11ea_a23e_38f9d3db5c17row17_col6\" class=\"data row17 col6\" >0.4013</td>\n",
       "                        <td id=\"T_5edfd734_ccf7_11ea_a23e_38f9d3db5c17row17_col7\" class=\"data row17 col7\" >0.0084</td>\n",
       "            </tr>\n",
       "            <tr>\n",
       "                        <th id=\"T_5edfd734_ccf7_11ea_a23e_38f9d3db5c17level0_row18\" class=\"row_heading level0 row18\" >18</th>\n",
       "                        <td id=\"T_5edfd734_ccf7_11ea_a23e_38f9d3db5c17row18_col0\" class=\"data row18 col0\" >Elastic Net</td>\n",
       "                        <td id=\"T_5edfd734_ccf7_11ea_a23e_38f9d3db5c17row18_col1\" class=\"data row18 col1\" >1057.8977</td>\n",
       "                        <td id=\"T_5edfd734_ccf7_11ea_a23e_38f9d3db5c17row18_col2\" class=\"data row18 col2\" >2374133.4650</td>\n",
       "                        <td id=\"T_5edfd734_ccf7_11ea_a23e_38f9d3db5c17row18_col3\" class=\"data row18 col3\" >1538.5181</td>\n",
       "                        <td id=\"T_5edfd734_ccf7_11ea_a23e_38f9d3db5c17row18_col4\" class=\"data row18 col4\" >0.8499</td>\n",
       "                        <td id=\"T_5edfd734_ccf7_11ea_a23e_38f9d3db5c17row18_col5\" class=\"data row18 col5\" >0.6880</td>\n",
       "                        <td id=\"T_5edfd734_ccf7_11ea_a23e_38f9d3db5c17row18_col6\" class=\"data row18 col6\" >0.4600</td>\n",
       "                        <td id=\"T_5edfd734_ccf7_11ea_a23e_38f9d3db5c17row18_col7\" class=\"data row18 col7\" >0.0246</td>\n",
       "            </tr>\n",
       "            <tr>\n",
       "                        <th id=\"T_5edfd734_ccf7_11ea_a23e_38f9d3db5c17level0_row19\" class=\"row_heading level0 row19\" >19</th>\n",
       "                        <td id=\"T_5edfd734_ccf7_11ea_a23e_38f9d3db5c17row19_col0\" class=\"data row19 col0\" >Orthogonal Matching Pursuit</td>\n",
       "                        <td id=\"T_5edfd734_ccf7_11ea_a23e_38f9d3db5c17row19_col1\" class=\"data row19 col1\" >1013.6920</td>\n",
       "                        <td id=\"T_5edfd734_ccf7_11ea_a23e_38f9d3db5c17row19_col2\" class=\"data row19 col2\" >2408751.2349</td>\n",
       "                        <td id=\"T_5edfd734_ccf7_11ea_a23e_38f9d3db5c17row19_col3\" class=\"data row19 col3\" >1550.3668</td>\n",
       "                        <td id=\"T_5edfd734_ccf7_11ea_a23e_38f9d3db5c17row19_col4\" class=\"data row19 col4\" >0.8471</td>\n",
       "                        <td id=\"T_5edfd734_ccf7_11ea_a23e_38f9d3db5c17row19_col5\" class=\"data row19 col5\" >0.7225</td>\n",
       "                        <td id=\"T_5edfd734_ccf7_11ea_a23e_38f9d3db5c17row19_col6\" class=\"data row19 col6\" >0.3836</td>\n",
       "                        <td id=\"T_5edfd734_ccf7_11ea_a23e_38f9d3db5c17row19_col7\" class=\"data row19 col7\" >0.0060</td>\n",
       "            </tr>\n",
       "            <tr>\n",
       "                        <th id=\"T_5edfd734_ccf7_11ea_a23e_38f9d3db5c17level0_row20\" class=\"row_heading level0 row20\" >20</th>\n",
       "                        <td id=\"T_5edfd734_ccf7_11ea_a23e_38f9d3db5c17row20_col0\" class=\"data row20 col0\" >Support Vector Machine</td>\n",
       "                        <td id=\"T_5edfd734_ccf7_11ea_a23e_38f9d3db5c17row20_col1\" class=\"data row20 col1\" >2206.5349</td>\n",
       "                        <td id=\"T_5edfd734_ccf7_11ea_a23e_38f9d3db5c17row20_col2\" class=\"data row20 col2\" >14182600.6877</td>\n",
       "                        <td id=\"T_5edfd734_ccf7_11ea_a23e_38f9d3db5c17row20_col3\" class=\"data row20 col3\" >3761.2647</td>\n",
       "                        <td id=\"T_5edfd734_ccf7_11ea_a23e_38f9d3db5c17row20_col4\" class=\"data row20 col4\" >0.1037</td>\n",
       "                        <td id=\"T_5edfd734_ccf7_11ea_a23e_38f9d3db5c17row20_col5\" class=\"data row20 col5\" >0.7565</td>\n",
       "                        <td id=\"T_5edfd734_ccf7_11ea_a23e_38f9d3db5c17row20_col6\" class=\"data row20 col6\" >0.7004</td>\n",
       "                        <td id=\"T_5edfd734_ccf7_11ea_a23e_38f9d3db5c17row20_col7\" class=\"data row20 col7\" >1.7850</td>\n",
       "            </tr>\n",
       "            <tr>\n",
       "                        <th id=\"T_5edfd734_ccf7_11ea_a23e_38f9d3db5c17level0_row21\" class=\"row_heading level0 row21\" >21</th>\n",
       "                        <td id=\"T_5edfd734_ccf7_11ea_a23e_38f9d3db5c17row21_col0\" class=\"data row21 col0\" >Least Angle Regression</td>\n",
       "                        <td id=\"T_5edfd734_ccf7_11ea_a23e_38f9d3db5c17row21_col1\" class=\"data row21 col1\" >998.5273</td>\n",
       "                        <td id=\"T_5edfd734_ccf7_11ea_a23e_38f9d3db5c17row21_col2\" class=\"data row21 col2\" >88974800.2740</td>\n",
       "                        <td id=\"T_5edfd734_ccf7_11ea_a23e_38f9d3db5c17row21_col3\" class=\"data row21 col3\" >4045.6432</td>\n",
       "                        <td id=\"T_5edfd734_ccf7_11ea_a23e_38f9d3db5c17row21_col4\" class=\"data row21 col4\" >-4.2585</td>\n",
       "                        <td id=\"T_5edfd734_ccf7_11ea_a23e_38f9d3db5c17row21_col5\" class=\"data row21 col5\" >0.6080</td>\n",
       "                        <td id=\"T_5edfd734_ccf7_11ea_a23e_38f9d3db5c17row21_col6\" class=\"data row21 col6\" >0.4714</td>\n",
       "                        <td id=\"T_5edfd734_ccf7_11ea_a23e_38f9d3db5c17row21_col7\" class=\"data row21 col7\" >0.0062</td>\n",
       "            </tr>\n",
       "    </tbody></table>"
      ],
      "text/plain": [
       "<pandas.io.formats.style.Styler at 0x1302635b0>"
      ]
     },
     "metadata": {},
     "output_type": "display_data"
    }
   ],
   "source": [
    "# automatically compare all models \n",
    "best_regression_model = regression.compare_models(\n",
    "    turbo=True,\n",
    ")"
   ]
  },
  {
   "cell_type": "code",
   "execution_count": 28,
   "metadata": {},
   "outputs": [
    {
     "data": {
      "text/html": [
       "<style  type=\"text/css\" >\n",
       "    #T_60256bae_ccf7_11ea_a23e_38f9d3db5c17row10_col0 {\n",
       "            background:  yellow;\n",
       "        }    #T_60256bae_ccf7_11ea_a23e_38f9d3db5c17row10_col1 {\n",
       "            background:  yellow;\n",
       "        }    #T_60256bae_ccf7_11ea_a23e_38f9d3db5c17row10_col2 {\n",
       "            background:  yellow;\n",
       "        }    #T_60256bae_ccf7_11ea_a23e_38f9d3db5c17row10_col3 {\n",
       "            background:  yellow;\n",
       "        }    #T_60256bae_ccf7_11ea_a23e_38f9d3db5c17row10_col4 {\n",
       "            background:  yellow;\n",
       "        }    #T_60256bae_ccf7_11ea_a23e_38f9d3db5c17row10_col5 {\n",
       "            background:  yellow;\n",
       "        }</style><table id=\"T_60256bae_ccf7_11ea_a23e_38f9d3db5c17\" ><thead>    <tr>        <th class=\"blank level0\" ></th>        <th class=\"col_heading level0 col0\" >MAE</th>        <th class=\"col_heading level0 col1\" >MSE</th>        <th class=\"col_heading level0 col2\" >RMSE</th>        <th class=\"col_heading level0 col3\" >R2</th>        <th class=\"col_heading level0 col4\" >RMSLE</th>        <th class=\"col_heading level0 col5\" >MAPE</th>    </tr></thead><tbody>\n",
       "                <tr>\n",
       "                        <th id=\"T_60256bae_ccf7_11ea_a23e_38f9d3db5c17level0_row0\" class=\"row_heading level0 row0\" >0</th>\n",
       "                        <td id=\"T_60256bae_ccf7_11ea_a23e_38f9d3db5c17row0_col0\" class=\"data row0 col0\" >291.5331</td>\n",
       "                        <td id=\"T_60256bae_ccf7_11ea_a23e_38f9d3db5c17row0_col1\" class=\"data row0 col1\" >352001.4565</td>\n",
       "                        <td id=\"T_60256bae_ccf7_11ea_a23e_38f9d3db5c17row0_col2\" class=\"data row0 col2\" >593.2971</td>\n",
       "                        <td id=\"T_60256bae_ccf7_11ea_a23e_38f9d3db5c17row0_col3\" class=\"data row0 col3\" >0.9780</td>\n",
       "                        <td id=\"T_60256bae_ccf7_11ea_a23e_38f9d3db5c17row0_col4\" class=\"data row0 col4\" >0.1069</td>\n",
       "                        <td id=\"T_60256bae_ccf7_11ea_a23e_38f9d3db5c17row0_col5\" class=\"data row0 col5\" >0.0830</td>\n",
       "            </tr>\n",
       "            <tr>\n",
       "                        <th id=\"T_60256bae_ccf7_11ea_a23e_38f9d3db5c17level0_row1\" class=\"row_heading level0 row1\" >1</th>\n",
       "                        <td id=\"T_60256bae_ccf7_11ea_a23e_38f9d3db5c17row1_col0\" class=\"data row1 col0\" >275.9774</td>\n",
       "                        <td id=\"T_60256bae_ccf7_11ea_a23e_38f9d3db5c17row1_col1\" class=\"data row1 col1\" >306176.3456</td>\n",
       "                        <td id=\"T_60256bae_ccf7_11ea_a23e_38f9d3db5c17row1_col2\" class=\"data row1 col2\" >553.3320</td>\n",
       "                        <td id=\"T_60256bae_ccf7_11ea_a23e_38f9d3db5c17row1_col3\" class=\"data row1 col3\" >0.9793</td>\n",
       "                        <td id=\"T_60256bae_ccf7_11ea_a23e_38f9d3db5c17row1_col4\" class=\"data row1 col4\" >0.1023</td>\n",
       "                        <td id=\"T_60256bae_ccf7_11ea_a23e_38f9d3db5c17row1_col5\" class=\"data row1 col5\" >0.0802</td>\n",
       "            </tr>\n",
       "            <tr>\n",
       "                        <th id=\"T_60256bae_ccf7_11ea_a23e_38f9d3db5c17level0_row2\" class=\"row_heading level0 row2\" >2</th>\n",
       "                        <td id=\"T_60256bae_ccf7_11ea_a23e_38f9d3db5c17row2_col0\" class=\"data row2 col0\" >337.9141</td>\n",
       "                        <td id=\"T_60256bae_ccf7_11ea_a23e_38f9d3db5c17row2_col1\" class=\"data row2 col1\" >456062.2915</td>\n",
       "                        <td id=\"T_60256bae_ccf7_11ea_a23e_38f9d3db5c17row2_col2\" class=\"data row2 col2\" >675.3238</td>\n",
       "                        <td id=\"T_60256bae_ccf7_11ea_a23e_38f9d3db5c17row2_col3\" class=\"data row2 col3\" >0.9731</td>\n",
       "                        <td id=\"T_60256bae_ccf7_11ea_a23e_38f9d3db5c17row2_col4\" class=\"data row2 col4\" >0.1176</td>\n",
       "                        <td id=\"T_60256bae_ccf7_11ea_a23e_38f9d3db5c17row2_col5\" class=\"data row2 col5\" >0.0886</td>\n",
       "            </tr>\n",
       "            <tr>\n",
       "                        <th id=\"T_60256bae_ccf7_11ea_a23e_38f9d3db5c17level0_row3\" class=\"row_heading level0 row3\" >3</th>\n",
       "                        <td id=\"T_60256bae_ccf7_11ea_a23e_38f9d3db5c17row3_col0\" class=\"data row3 col0\" >306.5175</td>\n",
       "                        <td id=\"T_60256bae_ccf7_11ea_a23e_38f9d3db5c17row3_col1\" class=\"data row3 col1\" >339496.0028</td>\n",
       "                        <td id=\"T_60256bae_ccf7_11ea_a23e_38f9d3db5c17row3_col2\" class=\"data row3 col2\" >582.6629</td>\n",
       "                        <td id=\"T_60256bae_ccf7_11ea_a23e_38f9d3db5c17row3_col3\" class=\"data row3 col3\" >0.9783</td>\n",
       "                        <td id=\"T_60256bae_ccf7_11ea_a23e_38f9d3db5c17row3_col4\" class=\"data row3 col4\" >0.1186</td>\n",
       "                        <td id=\"T_60256bae_ccf7_11ea_a23e_38f9d3db5c17row3_col5\" class=\"data row3 col5\" >0.0853</td>\n",
       "            </tr>\n",
       "            <tr>\n",
       "                        <th id=\"T_60256bae_ccf7_11ea_a23e_38f9d3db5c17level0_row4\" class=\"row_heading level0 row4\" >4</th>\n",
       "                        <td id=\"T_60256bae_ccf7_11ea_a23e_38f9d3db5c17row4_col0\" class=\"data row4 col0\" >306.1223</td>\n",
       "                        <td id=\"T_60256bae_ccf7_11ea_a23e_38f9d3db5c17row4_col1\" class=\"data row4 col1\" >338771.3694</td>\n",
       "                        <td id=\"T_60256bae_ccf7_11ea_a23e_38f9d3db5c17row4_col2\" class=\"data row4 col2\" >582.0407</td>\n",
       "                        <td id=\"T_60256bae_ccf7_11ea_a23e_38f9d3db5c17row4_col3\" class=\"data row4 col3\" >0.9774</td>\n",
       "                        <td id=\"T_60256bae_ccf7_11ea_a23e_38f9d3db5c17row4_col4\" class=\"data row4 col4\" >0.1098</td>\n",
       "                        <td id=\"T_60256bae_ccf7_11ea_a23e_38f9d3db5c17row4_col5\" class=\"data row4 col5\" >0.0849</td>\n",
       "            </tr>\n",
       "            <tr>\n",
       "                        <th id=\"T_60256bae_ccf7_11ea_a23e_38f9d3db5c17level0_row5\" class=\"row_heading level0 row5\" >5</th>\n",
       "                        <td id=\"T_60256bae_ccf7_11ea_a23e_38f9d3db5c17row5_col0\" class=\"data row5 col0\" >310.4760</td>\n",
       "                        <td id=\"T_60256bae_ccf7_11ea_a23e_38f9d3db5c17row5_col1\" class=\"data row5 col1\" >340844.8921</td>\n",
       "                        <td id=\"T_60256bae_ccf7_11ea_a23e_38f9d3db5c17row5_col2\" class=\"data row5 col2\" >583.8192</td>\n",
       "                        <td id=\"T_60256bae_ccf7_11ea_a23e_38f9d3db5c17row5_col3\" class=\"data row5 col3\" >0.9769</td>\n",
       "                        <td id=\"T_60256bae_ccf7_11ea_a23e_38f9d3db5c17row5_col4\" class=\"data row5 col4\" >0.1145</td>\n",
       "                        <td id=\"T_60256bae_ccf7_11ea_a23e_38f9d3db5c17row5_col5\" class=\"data row5 col5\" >0.0888</td>\n",
       "            </tr>\n",
       "            <tr>\n",
       "                        <th id=\"T_60256bae_ccf7_11ea_a23e_38f9d3db5c17level0_row6\" class=\"row_heading level0 row6\" >6</th>\n",
       "                        <td id=\"T_60256bae_ccf7_11ea_a23e_38f9d3db5c17row6_col0\" class=\"data row6 col0\" >322.7462</td>\n",
       "                        <td id=\"T_60256bae_ccf7_11ea_a23e_38f9d3db5c17row6_col1\" class=\"data row6 col1\" >396908.2588</td>\n",
       "                        <td id=\"T_60256bae_ccf7_11ea_a23e_38f9d3db5c17row6_col2\" class=\"data row6 col2\" >630.0066</td>\n",
       "                        <td id=\"T_60256bae_ccf7_11ea_a23e_38f9d3db5c17row6_col3\" class=\"data row6 col3\" >0.9763</td>\n",
       "                        <td id=\"T_60256bae_ccf7_11ea_a23e_38f9d3db5c17row6_col4\" class=\"data row6 col4\" >0.1170</td>\n",
       "                        <td id=\"T_60256bae_ccf7_11ea_a23e_38f9d3db5c17row6_col5\" class=\"data row6 col5\" >0.0887</td>\n",
       "            </tr>\n",
       "            <tr>\n",
       "                        <th id=\"T_60256bae_ccf7_11ea_a23e_38f9d3db5c17level0_row7\" class=\"row_heading level0 row7\" >7</th>\n",
       "                        <td id=\"T_60256bae_ccf7_11ea_a23e_38f9d3db5c17row7_col0\" class=\"data row7 col0\" >283.1715</td>\n",
       "                        <td id=\"T_60256bae_ccf7_11ea_a23e_38f9d3db5c17row7_col1\" class=\"data row7 col1\" >258236.4711</td>\n",
       "                        <td id=\"T_60256bae_ccf7_11ea_a23e_38f9d3db5c17row7_col2\" class=\"data row7 col2\" >508.1697</td>\n",
       "                        <td id=\"T_60256bae_ccf7_11ea_a23e_38f9d3db5c17row7_col3\" class=\"data row7 col3\" >0.9823</td>\n",
       "                        <td id=\"T_60256bae_ccf7_11ea_a23e_38f9d3db5c17row7_col4\" class=\"data row7 col4\" >0.1071</td>\n",
       "                        <td id=\"T_60256bae_ccf7_11ea_a23e_38f9d3db5c17row7_col5\" class=\"data row7 col5\" >0.0851</td>\n",
       "            </tr>\n",
       "            <tr>\n",
       "                        <th id=\"T_60256bae_ccf7_11ea_a23e_38f9d3db5c17level0_row8\" class=\"row_heading level0 row8\" >8</th>\n",
       "                        <td id=\"T_60256bae_ccf7_11ea_a23e_38f9d3db5c17row8_col0\" class=\"data row8 col0\" >307.3884</td>\n",
       "                        <td id=\"T_60256bae_ccf7_11ea_a23e_38f9d3db5c17row8_col1\" class=\"data row8 col1\" >339655.5910</td>\n",
       "                        <td id=\"T_60256bae_ccf7_11ea_a23e_38f9d3db5c17row8_col2\" class=\"data row8 col2\" >582.7998</td>\n",
       "                        <td id=\"T_60256bae_ccf7_11ea_a23e_38f9d3db5c17row8_col3\" class=\"data row8 col3\" >0.9817</td>\n",
       "                        <td id=\"T_60256bae_ccf7_11ea_a23e_38f9d3db5c17row8_col4\" class=\"data row8 col4\" >0.1140</td>\n",
       "                        <td id=\"T_60256bae_ccf7_11ea_a23e_38f9d3db5c17row8_col5\" class=\"data row8 col5\" >0.0893</td>\n",
       "            </tr>\n",
       "            <tr>\n",
       "                        <th id=\"T_60256bae_ccf7_11ea_a23e_38f9d3db5c17level0_row9\" class=\"row_heading level0 row9\" >9</th>\n",
       "                        <td id=\"T_60256bae_ccf7_11ea_a23e_38f9d3db5c17row9_col0\" class=\"data row9 col0\" >308.1234</td>\n",
       "                        <td id=\"T_60256bae_ccf7_11ea_a23e_38f9d3db5c17row9_col1\" class=\"data row9 col1\" >291538.7554</td>\n",
       "                        <td id=\"T_60256bae_ccf7_11ea_a23e_38f9d3db5c17row9_col2\" class=\"data row9 col2\" >539.9433</td>\n",
       "                        <td id=\"T_60256bae_ccf7_11ea_a23e_38f9d3db5c17row9_col3\" class=\"data row9 col3\" >0.9803</td>\n",
       "                        <td id=\"T_60256bae_ccf7_11ea_a23e_38f9d3db5c17row9_col4\" class=\"data row9 col4\" >0.1082</td>\n",
       "                        <td id=\"T_60256bae_ccf7_11ea_a23e_38f9d3db5c17row9_col5\" class=\"data row9 col5\" >0.0860</td>\n",
       "            </tr>\n",
       "            <tr>\n",
       "                        <th id=\"T_60256bae_ccf7_11ea_a23e_38f9d3db5c17level0_row10\" class=\"row_heading level0 row10\" >Mean</th>\n",
       "                        <td id=\"T_60256bae_ccf7_11ea_a23e_38f9d3db5c17row10_col0\" class=\"data row10 col0\" >304.9970</td>\n",
       "                        <td id=\"T_60256bae_ccf7_11ea_a23e_38f9d3db5c17row10_col1\" class=\"data row10 col1\" >341969.1434</td>\n",
       "                        <td id=\"T_60256bae_ccf7_11ea_a23e_38f9d3db5c17row10_col2\" class=\"data row10 col2\" >583.1395</td>\n",
       "                        <td id=\"T_60256bae_ccf7_11ea_a23e_38f9d3db5c17row10_col3\" class=\"data row10 col3\" >0.9784</td>\n",
       "                        <td id=\"T_60256bae_ccf7_11ea_a23e_38f9d3db5c17row10_col4\" class=\"data row10 col4\" >0.1116</td>\n",
       "                        <td id=\"T_60256bae_ccf7_11ea_a23e_38f9d3db5c17row10_col5\" class=\"data row10 col5\" >0.0860</td>\n",
       "            </tr>\n",
       "            <tr>\n",
       "                        <th id=\"T_60256bae_ccf7_11ea_a23e_38f9d3db5c17level0_row11\" class=\"row_heading level0 row11\" >SD</th>\n",
       "                        <td id=\"T_60256bae_ccf7_11ea_a23e_38f9d3db5c17row11_col0\" class=\"data row11 col0\" >17.1681</td>\n",
       "                        <td id=\"T_60256bae_ccf7_11ea_a23e_38f9d3db5c17row11_col1\" class=\"data row11 col1\" >51956.3929</td>\n",
       "                        <td id=\"T_60256bae_ccf7_11ea_a23e_38f9d3db5c17row11_col2\" class=\"data row11 col2\" >43.7887</td>\n",
       "                        <td id=\"T_60256bae_ccf7_11ea_a23e_38f9d3db5c17row11_col3\" class=\"data row11 col3\" >0.0026</td>\n",
       "                        <td id=\"T_60256bae_ccf7_11ea_a23e_38f9d3db5c17row11_col4\" class=\"data row11 col4\" >0.0052</td>\n",
       "                        <td id=\"T_60256bae_ccf7_11ea_a23e_38f9d3db5c17row11_col5\" class=\"data row11 col5\" >0.0028</td>\n",
       "            </tr>\n",
       "    </tbody></table>"
      ],
      "text/plain": [
       "<pandas.io.formats.style.Styler at 0x12f6a4ee0>"
      ]
     },
     "metadata": {},
     "output_type": "display_data"
    }
   ],
   "source": [
    "# create a model \n",
    "# 'lr'        Linear Regression                   \n",
    "# 'lasso'     Lasso Regression                \n",
    "# 'ridge'     Ridge Regression                \n",
    "# 'en'        Elastic Net                   \n",
    "# 'lar'       Least Angle Regression                  \n",
    "# 'llar'      Lasso Least Angle Regression                   \n",
    "# 'omp'       Orthogonal Matching Pursuit                     \n",
    "# 'br'        Bayesian Ridge                   \n",
    "# 'ard'       Automatic Relevance Determination                  \n",
    "# 'par'       Passive Aggressive Regressor                    \n",
    "# 'ransac'    Random Sample Consensus       \n",
    "# 'tr'        TheilSen Regressor                   \n",
    "# 'huber'     Huber Regressor                               \n",
    "# 'kr'        Kernel Ridge                                     \n",
    "# 'svm'       Support Vector Machine                           \n",
    "# 'knn'       K Neighbors Regressor                           \n",
    "# 'dt'        Decision Tree                                    \n",
    "# 'rf'        Random Forest                                    \n",
    "# 'et'        Extra Trees Regressor                            \n",
    "# 'ada'       AdaBoost Regressor                              \n",
    "# 'gbr'       Gradient Boosting Regressor                               \n",
    "# 'mlp'       Multi Level Perceptron                          \n",
    "# 'xgboost'   Extreme Gradient Boosting                   \n",
    "# 'lightgbm'  Light Gradient Boosting                    \n",
    "# 'catboost'  CatBoost Regressor        \n",
    "regression_model = regression.create_model(\n",
    "    estimator='lightgbm'\n",
    ")"
   ]
  },
  {
   "cell_type": "code",
   "execution_count": 29,
   "metadata": {},
   "outputs": [
    {
     "data": {
      "text/html": [
       "<style  type=\"text/css\" >\n",
       "    #T_7d54d0ca_ccf7_11ea_a23e_38f9d3db5c17row10_col0 {\n",
       "            background:  yellow;\n",
       "        }    #T_7d54d0ca_ccf7_11ea_a23e_38f9d3db5c17row10_col1 {\n",
       "            background:  yellow;\n",
       "        }    #T_7d54d0ca_ccf7_11ea_a23e_38f9d3db5c17row10_col2 {\n",
       "            background:  yellow;\n",
       "        }    #T_7d54d0ca_ccf7_11ea_a23e_38f9d3db5c17row10_col3 {\n",
       "            background:  yellow;\n",
       "        }    #T_7d54d0ca_ccf7_11ea_a23e_38f9d3db5c17row10_col4 {\n",
       "            background:  yellow;\n",
       "        }    #T_7d54d0ca_ccf7_11ea_a23e_38f9d3db5c17row10_col5 {\n",
       "            background:  yellow;\n",
       "        }</style><table id=\"T_7d54d0ca_ccf7_11ea_a23e_38f9d3db5c17\" ><thead>    <tr>        <th class=\"blank level0\" ></th>        <th class=\"col_heading level0 col0\" >MAE</th>        <th class=\"col_heading level0 col1\" >MSE</th>        <th class=\"col_heading level0 col2\" >RMSE</th>        <th class=\"col_heading level0 col3\" >R2</th>        <th class=\"col_heading level0 col4\" >RMSLE</th>        <th class=\"col_heading level0 col5\" >MAPE</th>    </tr></thead><tbody>\n",
       "                <tr>\n",
       "                        <th id=\"T_7d54d0ca_ccf7_11ea_a23e_38f9d3db5c17level0_row0\" class=\"row_heading level0 row0\" >0</th>\n",
       "                        <td id=\"T_7d54d0ca_ccf7_11ea_a23e_38f9d3db5c17row0_col0\" class=\"data row0 col0\" >298.1192</td>\n",
       "                        <td id=\"T_7d54d0ca_ccf7_11ea_a23e_38f9d3db5c17row0_col1\" class=\"data row0 col1\" >372809.2580</td>\n",
       "                        <td id=\"T_7d54d0ca_ccf7_11ea_a23e_38f9d3db5c17row0_col2\" class=\"data row0 col2\" >610.5811</td>\n",
       "                        <td id=\"T_7d54d0ca_ccf7_11ea_a23e_38f9d3db5c17row0_col3\" class=\"data row0 col3\" >0.9767</td>\n",
       "                        <td id=\"T_7d54d0ca_ccf7_11ea_a23e_38f9d3db5c17row0_col4\" class=\"data row0 col4\" >0.1072</td>\n",
       "                        <td id=\"T_7d54d0ca_ccf7_11ea_a23e_38f9d3db5c17row0_col5\" class=\"data row0 col5\" >0.0833</td>\n",
       "            </tr>\n",
       "            <tr>\n",
       "                        <th id=\"T_7d54d0ca_ccf7_11ea_a23e_38f9d3db5c17level0_row1\" class=\"row_heading level0 row1\" >1</th>\n",
       "                        <td id=\"T_7d54d0ca_ccf7_11ea_a23e_38f9d3db5c17row1_col0\" class=\"data row1 col0\" >277.2842</td>\n",
       "                        <td id=\"T_7d54d0ca_ccf7_11ea_a23e_38f9d3db5c17row1_col1\" class=\"data row1 col1\" >310555.6870</td>\n",
       "                        <td id=\"T_7d54d0ca_ccf7_11ea_a23e_38f9d3db5c17row1_col2\" class=\"data row1 col2\" >557.2752</td>\n",
       "                        <td id=\"T_7d54d0ca_ccf7_11ea_a23e_38f9d3db5c17row1_col3\" class=\"data row1 col3\" >0.9790</td>\n",
       "                        <td id=\"T_7d54d0ca_ccf7_11ea_a23e_38f9d3db5c17row1_col4\" class=\"data row1 col4\" >0.1006</td>\n",
       "                        <td id=\"T_7d54d0ca_ccf7_11ea_a23e_38f9d3db5c17row1_col5\" class=\"data row1 col5\" >0.0794</td>\n",
       "            </tr>\n",
       "            <tr>\n",
       "                        <th id=\"T_7d54d0ca_ccf7_11ea_a23e_38f9d3db5c17level0_row2\" class=\"row_heading level0 row2\" >2</th>\n",
       "                        <td id=\"T_7d54d0ca_ccf7_11ea_a23e_38f9d3db5c17row2_col0\" class=\"data row2 col0\" >335.6720</td>\n",
       "                        <td id=\"T_7d54d0ca_ccf7_11ea_a23e_38f9d3db5c17row2_col1\" class=\"data row2 col1\" >459733.9617</td>\n",
       "                        <td id=\"T_7d54d0ca_ccf7_11ea_a23e_38f9d3db5c17row2_col2\" class=\"data row2 col2\" >678.0368</td>\n",
       "                        <td id=\"T_7d54d0ca_ccf7_11ea_a23e_38f9d3db5c17row2_col3\" class=\"data row2 col3\" >0.9729</td>\n",
       "                        <td id=\"T_7d54d0ca_ccf7_11ea_a23e_38f9d3db5c17row2_col4\" class=\"data row2 col4\" >0.1124</td>\n",
       "                        <td id=\"T_7d54d0ca_ccf7_11ea_a23e_38f9d3db5c17row2_col5\" class=\"data row2 col5\" >0.0858</td>\n",
       "            </tr>\n",
       "            <tr>\n",
       "                        <th id=\"T_7d54d0ca_ccf7_11ea_a23e_38f9d3db5c17level0_row3\" class=\"row_heading level0 row3\" >3</th>\n",
       "                        <td id=\"T_7d54d0ca_ccf7_11ea_a23e_38f9d3db5c17row3_col0\" class=\"data row3 col0\" >305.4750</td>\n",
       "                        <td id=\"T_7d54d0ca_ccf7_11ea_a23e_38f9d3db5c17row3_col1\" class=\"data row3 col1\" >340028.1103</td>\n",
       "                        <td id=\"T_7d54d0ca_ccf7_11ea_a23e_38f9d3db5c17row3_col2\" class=\"data row3 col2\" >583.1193</td>\n",
       "                        <td id=\"T_7d54d0ca_ccf7_11ea_a23e_38f9d3db5c17row3_col3\" class=\"data row3 col3\" >0.9783</td>\n",
       "                        <td id=\"T_7d54d0ca_ccf7_11ea_a23e_38f9d3db5c17row3_col4\" class=\"data row3 col4\" >0.1131</td>\n",
       "                        <td id=\"T_7d54d0ca_ccf7_11ea_a23e_38f9d3db5c17row3_col5\" class=\"data row3 col5\" >0.0830</td>\n",
       "            </tr>\n",
       "            <tr>\n",
       "                        <th id=\"T_7d54d0ca_ccf7_11ea_a23e_38f9d3db5c17level0_row4\" class=\"row_heading level0 row4\" >4</th>\n",
       "                        <td id=\"T_7d54d0ca_ccf7_11ea_a23e_38f9d3db5c17row4_col0\" class=\"data row4 col0\" >295.6869</td>\n",
       "                        <td id=\"T_7d54d0ca_ccf7_11ea_a23e_38f9d3db5c17row4_col1\" class=\"data row4 col1\" >317475.0526</td>\n",
       "                        <td id=\"T_7d54d0ca_ccf7_11ea_a23e_38f9d3db5c17row4_col2\" class=\"data row4 col2\" >563.4492</td>\n",
       "                        <td id=\"T_7d54d0ca_ccf7_11ea_a23e_38f9d3db5c17row4_col3\" class=\"data row4 col3\" >0.9789</td>\n",
       "                        <td id=\"T_7d54d0ca_ccf7_11ea_a23e_38f9d3db5c17row4_col4\" class=\"data row4 col4\" >0.1074</td>\n",
       "                        <td id=\"T_7d54d0ca_ccf7_11ea_a23e_38f9d3db5c17row4_col5\" class=\"data row4 col5\" >0.0829</td>\n",
       "            </tr>\n",
       "            <tr>\n",
       "                        <th id=\"T_7d54d0ca_ccf7_11ea_a23e_38f9d3db5c17level0_row5\" class=\"row_heading level0 row5\" >5</th>\n",
       "                        <td id=\"T_7d54d0ca_ccf7_11ea_a23e_38f9d3db5c17row5_col0\" class=\"data row5 col0\" >312.3395</td>\n",
       "                        <td id=\"T_7d54d0ca_ccf7_11ea_a23e_38f9d3db5c17row5_col1\" class=\"data row5 col1\" >368535.0806</td>\n",
       "                        <td id=\"T_7d54d0ca_ccf7_11ea_a23e_38f9d3db5c17row5_col2\" class=\"data row5 col2\" >607.0709</td>\n",
       "                        <td id=\"T_7d54d0ca_ccf7_11ea_a23e_38f9d3db5c17row5_col3\" class=\"data row5 col3\" >0.9751</td>\n",
       "                        <td id=\"T_7d54d0ca_ccf7_11ea_a23e_38f9d3db5c17row5_col4\" class=\"data row5 col4\" >0.1127</td>\n",
       "                        <td id=\"T_7d54d0ca_ccf7_11ea_a23e_38f9d3db5c17row5_col5\" class=\"data row5 col5\" >0.0870</td>\n",
       "            </tr>\n",
       "            <tr>\n",
       "                        <th id=\"T_7d54d0ca_ccf7_11ea_a23e_38f9d3db5c17level0_row6\" class=\"row_heading level0 row6\" >6</th>\n",
       "                        <td id=\"T_7d54d0ca_ccf7_11ea_a23e_38f9d3db5c17row6_col0\" class=\"data row6 col0\" >316.3316</td>\n",
       "                        <td id=\"T_7d54d0ca_ccf7_11ea_a23e_38f9d3db5c17row6_col1\" class=\"data row6 col1\" >388339.8494</td>\n",
       "                        <td id=\"T_7d54d0ca_ccf7_11ea_a23e_38f9d3db5c17row6_col2\" class=\"data row6 col2\" >623.1692</td>\n",
       "                        <td id=\"T_7d54d0ca_ccf7_11ea_a23e_38f9d3db5c17row6_col3\" class=\"data row6 col3\" >0.9768</td>\n",
       "                        <td id=\"T_7d54d0ca_ccf7_11ea_a23e_38f9d3db5c17row6_col4\" class=\"data row6 col4\" >0.1125</td>\n",
       "                        <td id=\"T_7d54d0ca_ccf7_11ea_a23e_38f9d3db5c17row6_col5\" class=\"data row6 col5\" >0.0851</td>\n",
       "            </tr>\n",
       "            <tr>\n",
       "                        <th id=\"T_7d54d0ca_ccf7_11ea_a23e_38f9d3db5c17level0_row7\" class=\"row_heading level0 row7\" >7</th>\n",
       "                        <td id=\"T_7d54d0ca_ccf7_11ea_a23e_38f9d3db5c17row7_col0\" class=\"data row7 col0\" >283.3664</td>\n",
       "                        <td id=\"T_7d54d0ca_ccf7_11ea_a23e_38f9d3db5c17row7_col1\" class=\"data row7 col1\" >255596.8881</td>\n",
       "                        <td id=\"T_7d54d0ca_ccf7_11ea_a23e_38f9d3db5c17row7_col2\" class=\"data row7 col2\" >505.5659</td>\n",
       "                        <td id=\"T_7d54d0ca_ccf7_11ea_a23e_38f9d3db5c17row7_col3\" class=\"data row7 col3\" >0.9824</td>\n",
       "                        <td id=\"T_7d54d0ca_ccf7_11ea_a23e_38f9d3db5c17row7_col4\" class=\"data row7 col4\" >0.1032</td>\n",
       "                        <td id=\"T_7d54d0ca_ccf7_11ea_a23e_38f9d3db5c17row7_col5\" class=\"data row7 col5\" >0.0823</td>\n",
       "            </tr>\n",
       "            <tr>\n",
       "                        <th id=\"T_7d54d0ca_ccf7_11ea_a23e_38f9d3db5c17level0_row8\" class=\"row_heading level0 row8\" >8</th>\n",
       "                        <td id=\"T_7d54d0ca_ccf7_11ea_a23e_38f9d3db5c17row8_col0\" class=\"data row8 col0\" >312.3565</td>\n",
       "                        <td id=\"T_7d54d0ca_ccf7_11ea_a23e_38f9d3db5c17row8_col1\" class=\"data row8 col1\" >344915.5134</td>\n",
       "                        <td id=\"T_7d54d0ca_ccf7_11ea_a23e_38f9d3db5c17row8_col2\" class=\"data row8 col2\" >587.2951</td>\n",
       "                        <td id=\"T_7d54d0ca_ccf7_11ea_a23e_38f9d3db5c17row8_col3\" class=\"data row8 col3\" >0.9815</td>\n",
       "                        <td id=\"T_7d54d0ca_ccf7_11ea_a23e_38f9d3db5c17row8_col4\" class=\"data row8 col4\" >0.1137</td>\n",
       "                        <td id=\"T_7d54d0ca_ccf7_11ea_a23e_38f9d3db5c17row8_col5\" class=\"data row8 col5\" >0.0888</td>\n",
       "            </tr>\n",
       "            <tr>\n",
       "                        <th id=\"T_7d54d0ca_ccf7_11ea_a23e_38f9d3db5c17level0_row9\" class=\"row_heading level0 row9\" >9</th>\n",
       "                        <td id=\"T_7d54d0ca_ccf7_11ea_a23e_38f9d3db5c17row9_col0\" class=\"data row9 col0\" >301.5971</td>\n",
       "                        <td id=\"T_7d54d0ca_ccf7_11ea_a23e_38f9d3db5c17row9_col1\" class=\"data row9 col1\" >285182.4110</td>\n",
       "                        <td id=\"T_7d54d0ca_ccf7_11ea_a23e_38f9d3db5c17row9_col2\" class=\"data row9 col2\" >534.0247</td>\n",
       "                        <td id=\"T_7d54d0ca_ccf7_11ea_a23e_38f9d3db5c17row9_col3\" class=\"data row9 col3\" >0.9808</td>\n",
       "                        <td id=\"T_7d54d0ca_ccf7_11ea_a23e_38f9d3db5c17row9_col4\" class=\"data row9 col4\" >0.1089</td>\n",
       "                        <td id=\"T_7d54d0ca_ccf7_11ea_a23e_38f9d3db5c17row9_col5\" class=\"data row9 col5\" >0.0858</td>\n",
       "            </tr>\n",
       "            <tr>\n",
       "                        <th id=\"T_7d54d0ca_ccf7_11ea_a23e_38f9d3db5c17level0_row10\" class=\"row_heading level0 row10\" >Mean</th>\n",
       "                        <td id=\"T_7d54d0ca_ccf7_11ea_a23e_38f9d3db5c17row10_col0\" class=\"data row10 col0\" >303.8228</td>\n",
       "                        <td id=\"T_7d54d0ca_ccf7_11ea_a23e_38f9d3db5c17row10_col1\" class=\"data row10 col1\" >344317.1812</td>\n",
       "                        <td id=\"T_7d54d0ca_ccf7_11ea_a23e_38f9d3db5c17row10_col2\" class=\"data row10 col2\" >584.9588</td>\n",
       "                        <td id=\"T_7d54d0ca_ccf7_11ea_a23e_38f9d3db5c17row10_col3\" class=\"data row10 col3\" >0.9782</td>\n",
       "                        <td id=\"T_7d54d0ca_ccf7_11ea_a23e_38f9d3db5c17row10_col4\" class=\"data row10 col4\" >0.1092</td>\n",
       "                        <td id=\"T_7d54d0ca_ccf7_11ea_a23e_38f9d3db5c17row10_col5\" class=\"data row10 col5\" >0.0843</td>\n",
       "            </tr>\n",
       "            <tr>\n",
       "                        <th id=\"T_7d54d0ca_ccf7_11ea_a23e_38f9d3db5c17level0_row11\" class=\"row_heading level0 row11\" >SD</th>\n",
       "                        <td id=\"T_7d54d0ca_ccf7_11ea_a23e_38f9d3db5c17row11_col0\" class=\"data row11 col0\" >15.9542</td>\n",
       "                        <td id=\"T_7d54d0ca_ccf7_11ea_a23e_38f9d3db5c17row11_col1\" class=\"data row11 col1\" >54685.1329</td>\n",
       "                        <td id=\"T_7d54d0ca_ccf7_11ea_a23e_38f9d3db5c17row11_col2\" class=\"data row11 col2\" >46.2649</td>\n",
       "                        <td id=\"T_7d54d0ca_ccf7_11ea_a23e_38f9d3db5c17row11_col3\" class=\"data row11 col3\" >0.0028</td>\n",
       "                        <td id=\"T_7d54d0ca_ccf7_11ea_a23e_38f9d3db5c17row11_col4\" class=\"data row11 col4\" >0.0043</td>\n",
       "                        <td id=\"T_7d54d0ca_ccf7_11ea_a23e_38f9d3db5c17row11_col5\" class=\"data row11 col5\" >0.0025</td>\n",
       "            </tr>\n",
       "    </tbody></table>"
      ],
      "text/plain": [
       "<pandas.io.formats.style.Styler at 0x13026d7c0>"
      ]
     },
     "metadata": {},
     "output_type": "display_data"
    }
   ],
   "source": [
    "# automatically tune model\n",
    "tuned_regression_model = regression.tune_model(\n",
    "    estimator=regression_model,\n",
    "    n_iter=100\n",
    ")"
   ]
  },
  {
   "cell_type": "code",
   "execution_count": 30,
   "metadata": {},
   "outputs": [
    {
     "data": {
      "application/vnd.jupyter.widget-view+json": {
       "model_id": "bb4abf3ecf134fca9a7dfb7b4d70123e",
       "version_major": 2,
       "version_minor": 0
      },
      "text/plain": [
       "interactive(children=(ToggleButtons(description='Plot Type:', icons=('',), options=(('Hyperparameters', 'param…"
      ]
     },
     "metadata": {},
     "output_type": "display_data"
    }
   ],
   "source": [
    "# model evaluation plots\n",
    "regression.evaluate_model(\n",
    "    estimator=tuned_regression_model\n",
    ")"
   ]
  },
  {
   "cell_type": "code",
   "execution_count": 31,
   "metadata": {},
   "outputs": [
    {
     "data": {
      "image/png": "[encoded data removed]",
      "text/plain": [
       "<Figure size 576x424.8 with 2 Axes>"
      ]
     },
     "metadata": {
      "needs_background": "light"
     },
     "output_type": "display_data"
    }
   ],
   "source": [
    "# model interpretation plots\n",
    "regression.interpret_model(\n",
    "    estimator=tuned_regression_model\n",
    ")"
   ]
  },
  {
   "cell_type": "code",
   "execution_count": 32,
   "metadata": {},
   "outputs": [
    {
     "data": {
      "image/png": "[encoded data removed]",
      "text/plain": [
       "<Figure size 540x360 with 2 Axes>"
      ]
     },
     "metadata": {
      "needs_background": "light"
     },
     "output_type": "display_data"
    }
   ],
   "source": [
    "# model interpretation plots\n",
    "regression.interpret_model(\n",
    "    estimator=tuned_regression_model,\n",
    "    plot='correlation'\n",
    ")"
   ]
  },
  {
   "cell_type": "code",
   "execution_count": 33,
   "metadata": {},
   "outputs": [
    {
     "data": {
      "text/html": [
       "<div>\n",
       "<style scoped>\n",
       "    .dataframe tbody tr th:only-of-type {\n",
       "        vertical-align: middle;\n",
       "    }\n",
       "\n",
       "    .dataframe tbody tr th {\n",
       "        vertical-align: top;\n",
       "    }\n",
       "\n",
       "    .dataframe thead th {\n",
       "        text-align: right;\n",
       "    }\n",
       "</style>\n",
       "<table border=\"1\" class=\"dataframe\">\n",
       "  <thead>\n",
       "    <tr style=\"text-align: right;\">\n",
       "      <th></th>\n",
       "      <th>Model</th>\n",
       "      <th>MAE</th>\n",
       "      <th>MSE</th>\n",
       "      <th>RMSE</th>\n",
       "      <th>R2</th>\n",
       "      <th>RMSLE</th>\n",
       "      <th>MAPE</th>\n",
       "    </tr>\n",
       "  </thead>\n",
       "  <tbody>\n",
       "    <tr>\n",
       "      <th>0</th>\n",
       "      <td>Light Gradient Boosting Machine</td>\n",
       "      <td>307.6354</td>\n",
       "      <td>355397.2233</td>\n",
       "      <td>596.152</td>\n",
       "      <td>0.9766</td>\n",
       "      <td>0.1131</td>\n",
       "      <td>0.0859</td>\n",
       "    </tr>\n",
       "  </tbody>\n",
       "</table>\n",
       "</div>"
      ],
      "text/plain": [
       "                             Model       MAE          MSE     RMSE      R2  \\\n",
       "0  Light Gradient Boosting Machine  307.6354  355397.2233  596.152  0.9766   \n",
       "\n",
       "    RMSLE    MAPE  \n",
       "0  0.1131  0.0859  "
      ]
     },
     "metadata": {},
     "output_type": "display_data"
    }
   ],
   "source": [
    "# test set prediction\n",
    "test_predictions = regression.predict_model(\n",
    "    estimator=tuned_regression_model,\n",
    ")"
   ]
  },
  {
   "cell_type": "code",
   "execution_count": 34,
   "metadata": {},
   "outputs": [],
   "source": [
    "# finalize model\n",
    "final_regression_model = regression.finalize_model(\n",
    "    estimator=tuned_regression_model\n",
    ")"
   ]
  },
  {
   "cell_type": "code",
   "execution_count": 35,
   "metadata": {},
   "outputs": [
    {
     "name": "stdout",
     "output_type": "stream",
     "text": [
      "LGBMRegressor(boosting_type='gbdt', class_weight=None, colsample_bytree=1.0,\n",
      "              importance_type='split', learning_rate=0.1, max_depth=90,\n",
      "              min_child_samples=20, min_child_weight=0.001, min_split_gain=0.4,\n",
      "              n_estimators=70, n_jobs=-1, num_leaves=60, objective=None,\n",
      "              random_state=5645, reg_alpha=0.6, reg_lambda=0.1, silent=True,\n",
      "              subsample=1.0, subsample_for_bin=200000, subsample_freq=0)\n"
     ]
    }
   ],
   "source": [
    "# display model\n",
    "print(final_regression_model)"
   ]
  },
  {
   "cell_type": "markdown",
   "metadata": {},
   "source": [
    "# clustering "
   ]
  },
  {
   "cell_type": "code",
   "execution_count": 36,
   "metadata": {},
   "outputs": [],
   "source": [
    "# split dataset\n",
    "from sklearn.model_selection import train_test_split\n",
    "X = df_iris[['sepal_length','sepal_width','petal_length','petal_width']]\n",
    "y = df_iris['species']\n",
    "X_train, X_test, y_train, y_test = train_test_split(X, y, test_size=0.3)\n",
    "df_iris_train = pd.concat([X_train, y_train], axis=1)\n",
    "df_iris_test = pd.concat([X_test, y_test], axis=1)"
   ]
  },
  {
   "cell_type": "code",
   "execution_count": 37,
   "metadata": {},
   "outputs": [
    {
     "name": "stdout",
     "output_type": "stream",
     "text": [
      "Setup Succesfully Completed!\n"
     ]
    },
    {
     "data": {
      "text/html": [
       "<style  type=\"text/css\" >\n",
       "    #T_c1073ce0_ccf7_11ea_a23e_38f9d3db5c17row10_col1 {\n",
       "            background-color:  lightgreen;\n",
       "        }</style><table id=\"T_c1073ce0_ccf7_11ea_a23e_38f9d3db5c17\" ><thead>    <tr>        <th class=\"blank level0\" ></th>        <th class=\"col_heading level0 col0\" >Description</th>        <th class=\"col_heading level0 col1\" >Value</th>    </tr></thead><tbody>\n",
       "                <tr>\n",
       "                        <th id=\"T_c1073ce0_ccf7_11ea_a23e_38f9d3db5c17level0_row0\" class=\"row_heading level0 row0\" >0</th>\n",
       "                        <td id=\"T_c1073ce0_ccf7_11ea_a23e_38f9d3db5c17row0_col0\" class=\"data row0 col0\" >session_id </td>\n",
       "                        <td id=\"T_c1073ce0_ccf7_11ea_a23e_38f9d3db5c17row0_col1\" class=\"data row0 col1\" >5549</td>\n",
       "            </tr>\n",
       "            <tr>\n",
       "                        <th id=\"T_c1073ce0_ccf7_11ea_a23e_38f9d3db5c17level0_row1\" class=\"row_heading level0 row1\" >1</th>\n",
       "                        <td id=\"T_c1073ce0_ccf7_11ea_a23e_38f9d3db5c17row1_col0\" class=\"data row1 col0\" >Original Data </td>\n",
       "                        <td id=\"T_c1073ce0_ccf7_11ea_a23e_38f9d3db5c17row1_col1\" class=\"data row1 col1\" >(105, 5)</td>\n",
       "            </tr>\n",
       "            <tr>\n",
       "                        <th id=\"T_c1073ce0_ccf7_11ea_a23e_38f9d3db5c17level0_row2\" class=\"row_heading level0 row2\" >2</th>\n",
       "                        <td id=\"T_c1073ce0_ccf7_11ea_a23e_38f9d3db5c17row2_col0\" class=\"data row2 col0\" >Missing Values </td>\n",
       "                        <td id=\"T_c1073ce0_ccf7_11ea_a23e_38f9d3db5c17row2_col1\" class=\"data row2 col1\" >False</td>\n",
       "            </tr>\n",
       "            <tr>\n",
       "                        <th id=\"T_c1073ce0_ccf7_11ea_a23e_38f9d3db5c17level0_row3\" class=\"row_heading level0 row3\" >3</th>\n",
       "                        <td id=\"T_c1073ce0_ccf7_11ea_a23e_38f9d3db5c17row3_col0\" class=\"data row3 col0\" >Numeric Features </td>\n",
       "                        <td id=\"T_c1073ce0_ccf7_11ea_a23e_38f9d3db5c17row3_col1\" class=\"data row3 col1\" >4</td>\n",
       "            </tr>\n",
       "            <tr>\n",
       "                        <th id=\"T_c1073ce0_ccf7_11ea_a23e_38f9d3db5c17level0_row4\" class=\"row_heading level0 row4\" >4</th>\n",
       "                        <td id=\"T_c1073ce0_ccf7_11ea_a23e_38f9d3db5c17row4_col0\" class=\"data row4 col0\" >Categorical Features </td>\n",
       "                        <td id=\"T_c1073ce0_ccf7_11ea_a23e_38f9d3db5c17row4_col1\" class=\"data row4 col1\" >1</td>\n",
       "            </tr>\n",
       "            <tr>\n",
       "                        <th id=\"T_c1073ce0_ccf7_11ea_a23e_38f9d3db5c17level0_row5\" class=\"row_heading level0 row5\" >5</th>\n",
       "                        <td id=\"T_c1073ce0_ccf7_11ea_a23e_38f9d3db5c17row5_col0\" class=\"data row5 col0\" >Ordinal Features </td>\n",
       "                        <td id=\"T_c1073ce0_ccf7_11ea_a23e_38f9d3db5c17row5_col1\" class=\"data row5 col1\" >False</td>\n",
       "            </tr>\n",
       "            <tr>\n",
       "                        <th id=\"T_c1073ce0_ccf7_11ea_a23e_38f9d3db5c17level0_row6\" class=\"row_heading level0 row6\" >6</th>\n",
       "                        <td id=\"T_c1073ce0_ccf7_11ea_a23e_38f9d3db5c17row6_col0\" class=\"data row6 col0\" >High Cardinality Features </td>\n",
       "                        <td id=\"T_c1073ce0_ccf7_11ea_a23e_38f9d3db5c17row6_col1\" class=\"data row6 col1\" >False</td>\n",
       "            </tr>\n",
       "            <tr>\n",
       "                        <th id=\"T_c1073ce0_ccf7_11ea_a23e_38f9d3db5c17level0_row7\" class=\"row_heading level0 row7\" >7</th>\n",
       "                        <td id=\"T_c1073ce0_ccf7_11ea_a23e_38f9d3db5c17row7_col0\" class=\"data row7 col0\" >Transformed Data </td>\n",
       "                        <td id=\"T_c1073ce0_ccf7_11ea_a23e_38f9d3db5c17row7_col1\" class=\"data row7 col1\" >(105, 4)</td>\n",
       "            </tr>\n",
       "            <tr>\n",
       "                        <th id=\"T_c1073ce0_ccf7_11ea_a23e_38f9d3db5c17level0_row8\" class=\"row_heading level0 row8\" >8</th>\n",
       "                        <td id=\"T_c1073ce0_ccf7_11ea_a23e_38f9d3db5c17row8_col0\" class=\"data row8 col0\" >Numeric Imputer </td>\n",
       "                        <td id=\"T_c1073ce0_ccf7_11ea_a23e_38f9d3db5c17row8_col1\" class=\"data row8 col1\" >mean</td>\n",
       "            </tr>\n",
       "            <tr>\n",
       "                        <th id=\"T_c1073ce0_ccf7_11ea_a23e_38f9d3db5c17level0_row9\" class=\"row_heading level0 row9\" >9</th>\n",
       "                        <td id=\"T_c1073ce0_ccf7_11ea_a23e_38f9d3db5c17row9_col0\" class=\"data row9 col0\" >Categorical Imputer </td>\n",
       "                        <td id=\"T_c1073ce0_ccf7_11ea_a23e_38f9d3db5c17row9_col1\" class=\"data row9 col1\" >constant</td>\n",
       "            </tr>\n",
       "            <tr>\n",
       "                        <th id=\"T_c1073ce0_ccf7_11ea_a23e_38f9d3db5c17level0_row10\" class=\"row_heading level0 row10\" >10</th>\n",
       "                        <td id=\"T_c1073ce0_ccf7_11ea_a23e_38f9d3db5c17row10_col0\" class=\"data row10 col0\" >Normalize </td>\n",
       "                        <td id=\"T_c1073ce0_ccf7_11ea_a23e_38f9d3db5c17row10_col1\" class=\"data row10 col1\" >True</td>\n",
       "            </tr>\n",
       "            <tr>\n",
       "                        <th id=\"T_c1073ce0_ccf7_11ea_a23e_38f9d3db5c17level0_row11\" class=\"row_heading level0 row11\" >11</th>\n",
       "                        <td id=\"T_c1073ce0_ccf7_11ea_a23e_38f9d3db5c17row11_col0\" class=\"data row11 col0\" >Normalize Method </td>\n",
       "                        <td id=\"T_c1073ce0_ccf7_11ea_a23e_38f9d3db5c17row11_col1\" class=\"data row11 col1\" >zscore</td>\n",
       "            </tr>\n",
       "            <tr>\n",
       "                        <th id=\"T_c1073ce0_ccf7_11ea_a23e_38f9d3db5c17level0_row12\" class=\"row_heading level0 row12\" >12</th>\n",
       "                        <td id=\"T_c1073ce0_ccf7_11ea_a23e_38f9d3db5c17row12_col0\" class=\"data row12 col0\" >Transformation </td>\n",
       "                        <td id=\"T_c1073ce0_ccf7_11ea_a23e_38f9d3db5c17row12_col1\" class=\"data row12 col1\" >False</td>\n",
       "            </tr>\n",
       "            <tr>\n",
       "                        <th id=\"T_c1073ce0_ccf7_11ea_a23e_38f9d3db5c17level0_row13\" class=\"row_heading level0 row13\" >13</th>\n",
       "                        <td id=\"T_c1073ce0_ccf7_11ea_a23e_38f9d3db5c17row13_col0\" class=\"data row13 col0\" >Transformation Method </td>\n",
       "                        <td id=\"T_c1073ce0_ccf7_11ea_a23e_38f9d3db5c17row13_col1\" class=\"data row13 col1\" >None</td>\n",
       "            </tr>\n",
       "            <tr>\n",
       "                        <th id=\"T_c1073ce0_ccf7_11ea_a23e_38f9d3db5c17level0_row14\" class=\"row_heading level0 row14\" >14</th>\n",
       "                        <td id=\"T_c1073ce0_ccf7_11ea_a23e_38f9d3db5c17row14_col0\" class=\"data row14 col0\" >PCA </td>\n",
       "                        <td id=\"T_c1073ce0_ccf7_11ea_a23e_38f9d3db5c17row14_col1\" class=\"data row14 col1\" >False</td>\n",
       "            </tr>\n",
       "            <tr>\n",
       "                        <th id=\"T_c1073ce0_ccf7_11ea_a23e_38f9d3db5c17level0_row15\" class=\"row_heading level0 row15\" >15</th>\n",
       "                        <td id=\"T_c1073ce0_ccf7_11ea_a23e_38f9d3db5c17row15_col0\" class=\"data row15 col0\" >PCA Method </td>\n",
       "                        <td id=\"T_c1073ce0_ccf7_11ea_a23e_38f9d3db5c17row15_col1\" class=\"data row15 col1\" >None</td>\n",
       "            </tr>\n",
       "            <tr>\n",
       "                        <th id=\"T_c1073ce0_ccf7_11ea_a23e_38f9d3db5c17level0_row16\" class=\"row_heading level0 row16\" >16</th>\n",
       "                        <td id=\"T_c1073ce0_ccf7_11ea_a23e_38f9d3db5c17row16_col0\" class=\"data row16 col0\" >PCA components </td>\n",
       "                        <td id=\"T_c1073ce0_ccf7_11ea_a23e_38f9d3db5c17row16_col1\" class=\"data row16 col1\" >None</td>\n",
       "            </tr>\n",
       "            <tr>\n",
       "                        <th id=\"T_c1073ce0_ccf7_11ea_a23e_38f9d3db5c17level0_row17\" class=\"row_heading level0 row17\" >17</th>\n",
       "                        <td id=\"T_c1073ce0_ccf7_11ea_a23e_38f9d3db5c17row17_col0\" class=\"data row17 col0\" >Ignore Low Variance </td>\n",
       "                        <td id=\"T_c1073ce0_ccf7_11ea_a23e_38f9d3db5c17row17_col1\" class=\"data row17 col1\" >False</td>\n",
       "            </tr>\n",
       "            <tr>\n",
       "                        <th id=\"T_c1073ce0_ccf7_11ea_a23e_38f9d3db5c17level0_row18\" class=\"row_heading level0 row18\" >18</th>\n",
       "                        <td id=\"T_c1073ce0_ccf7_11ea_a23e_38f9d3db5c17row18_col0\" class=\"data row18 col0\" >Combine Rare Levels </td>\n",
       "                        <td id=\"T_c1073ce0_ccf7_11ea_a23e_38f9d3db5c17row18_col1\" class=\"data row18 col1\" >False</td>\n",
       "            </tr>\n",
       "            <tr>\n",
       "                        <th id=\"T_c1073ce0_ccf7_11ea_a23e_38f9d3db5c17level0_row19\" class=\"row_heading level0 row19\" >19</th>\n",
       "                        <td id=\"T_c1073ce0_ccf7_11ea_a23e_38f9d3db5c17row19_col0\" class=\"data row19 col0\" >Rare Level Threshold </td>\n",
       "                        <td id=\"T_c1073ce0_ccf7_11ea_a23e_38f9d3db5c17row19_col1\" class=\"data row19 col1\" >None</td>\n",
       "            </tr>\n",
       "            <tr>\n",
       "                        <th id=\"T_c1073ce0_ccf7_11ea_a23e_38f9d3db5c17level0_row20\" class=\"row_heading level0 row20\" >20</th>\n",
       "                        <td id=\"T_c1073ce0_ccf7_11ea_a23e_38f9d3db5c17row20_col0\" class=\"data row20 col0\" >Numeric Binning </td>\n",
       "                        <td id=\"T_c1073ce0_ccf7_11ea_a23e_38f9d3db5c17row20_col1\" class=\"data row20 col1\" >False</td>\n",
       "            </tr>\n",
       "            <tr>\n",
       "                        <th id=\"T_c1073ce0_ccf7_11ea_a23e_38f9d3db5c17level0_row21\" class=\"row_heading level0 row21\" >21</th>\n",
       "                        <td id=\"T_c1073ce0_ccf7_11ea_a23e_38f9d3db5c17row21_col0\" class=\"data row21 col0\" >Remove Multicollinearity </td>\n",
       "                        <td id=\"T_c1073ce0_ccf7_11ea_a23e_38f9d3db5c17row21_col1\" class=\"data row21 col1\" >False</td>\n",
       "            </tr>\n",
       "            <tr>\n",
       "                        <th id=\"T_c1073ce0_ccf7_11ea_a23e_38f9d3db5c17level0_row22\" class=\"row_heading level0 row22\" >22</th>\n",
       "                        <td id=\"T_c1073ce0_ccf7_11ea_a23e_38f9d3db5c17row22_col0\" class=\"data row22 col0\" >Multicollinearity Threshold </td>\n",
       "                        <td id=\"T_c1073ce0_ccf7_11ea_a23e_38f9d3db5c17row22_col1\" class=\"data row22 col1\" >None</td>\n",
       "            </tr>\n",
       "            <tr>\n",
       "                        <th id=\"T_c1073ce0_ccf7_11ea_a23e_38f9d3db5c17level0_row23\" class=\"row_heading level0 row23\" >23</th>\n",
       "                        <td id=\"T_c1073ce0_ccf7_11ea_a23e_38f9d3db5c17row23_col0\" class=\"data row23 col0\" >Group Features </td>\n",
       "                        <td id=\"T_c1073ce0_ccf7_11ea_a23e_38f9d3db5c17row23_col1\" class=\"data row23 col1\" >False</td>\n",
       "            </tr>\n",
       "    </tbody></table>"
      ],
      "text/plain": [
       "<pandas.io.formats.style.Styler at 0x12840ecd0>"
      ]
     },
     "metadata": {},
     "output_type": "display_data"
    }
   ],
   "source": [
    "# process dataset\n",
    "clustering_experiment_1 = clustering.setup(\n",
    "    data=df_iris_train,\n",
    "    numeric_features=['sepal_length','sepal_width','petal_length','petal_width'],\n",
    "    ignore_features=['species'],\n",
    "    normalize=True\n",
    ")"
   ]
  },
  {
   "cell_type": "code",
   "execution_count": 38,
   "metadata": {},
   "outputs": [
    {
     "data": {
      "text/html": [
       "<div>\n",
       "<style scoped>\n",
       "    .dataframe tbody tr th:only-of-type {\n",
       "        vertical-align: middle;\n",
       "    }\n",
       "\n",
       "    .dataframe tbody tr th {\n",
       "        vertical-align: top;\n",
       "    }\n",
       "\n",
       "    .dataframe thead th {\n",
       "        text-align: right;\n",
       "    }\n",
       "</style>\n",
       "<table border=\"1\" class=\"dataframe\">\n",
       "  <thead>\n",
       "    <tr style=\"text-align: right;\">\n",
       "      <th></th>\n",
       "      <th>Metric</th>\n",
       "    </tr>\n",
       "  </thead>\n",
       "  <tbody>\n",
       "    <tr>\n",
       "      <th>Silhouette</th>\n",
       "      <td>0.4369</td>\n",
       "    </tr>\n",
       "    <tr>\n",
       "      <th>Calinski-Harabasz</th>\n",
       "      <td>147.7057</td>\n",
       "    </tr>\n",
       "    <tr>\n",
       "      <th>Davies-Bouldin</th>\n",
       "      <td>0.8400</td>\n",
       "    </tr>\n",
       "  </tbody>\n",
       "</table>\n",
       "</div>"
      ],
      "text/plain": [
       "                     Metric\n",
       "Silhouette           0.4369\n",
       "Calinski-Harabasz  147.7057\n",
       "Davies-Bouldin       0.8400"
      ]
     },
     "metadata": {},
     "output_type": "display_data"
    }
   ],
   "source": [
    "# create model\n",
    "# 'kmeans'        K-Means Clustering\n",
    "# 'ap'            Affinity Propagation\n",
    "# 'meanshift'     Mean shift Clustering\n",
    "# 'sc'            Spectral Clustering\n",
    "# 'hclust'        Agglomerative Clustering\n",
    "# 'dbscan'        Density-Based Spatial Clustering\n",
    "# 'optics'        OPTICS Clustering                               \n",
    "# 'birch'         Birch Clustering                                 \n",
    "# 'kmodes'        K-Modes Clustering  \n",
    "clustering_model = clustering.create_model(\n",
    "    model='kmeans',\n",
    "    num_clusters=3,\n",
    ")"
   ]
  },
  {
   "cell_type": "code",
   "execution_count": 39,
   "metadata": {},
   "outputs": [],
   "source": [
    "# assign clusters\n",
    "clustering_results = clustering.assign_model(\n",
    "    model=clustering_model\n",
    ")"
   ]
  },
  {
   "cell_type": "code",
   "execution_count": 40,
   "metadata": {},
   "outputs": [
    {
     "data": {
      "text/html": [
       "<div>\n",
       "<style scoped>\n",
       "    .dataframe tbody tr th:only-of-type {\n",
       "        vertical-align: middle;\n",
       "    }\n",
       "\n",
       "    .dataframe tbody tr th {\n",
       "        vertical-align: top;\n",
       "    }\n",
       "\n",
       "    .dataframe thead th {\n",
       "        text-align: right;\n",
       "    }\n",
       "</style>\n",
       "<table border=\"1\" class=\"dataframe\">\n",
       "  <thead>\n",
       "    <tr style=\"text-align: right;\">\n",
       "      <th></th>\n",
       "      <th>sepal_length</th>\n",
       "      <th>sepal_width</th>\n",
       "      <th>petal_length</th>\n",
       "      <th>petal_width</th>\n",
       "      <th>species</th>\n",
       "      <th>Cluster</th>\n",
       "    </tr>\n",
       "  </thead>\n",
       "  <tbody>\n",
       "    <tr>\n",
       "      <th>90</th>\n",
       "      <td>5.5</td>\n",
       "      <td>2.6</td>\n",
       "      <td>4.4</td>\n",
       "      <td>1.2</td>\n",
       "      <td>versicolor</td>\n",
       "      <td>Cluster 1</td>\n",
       "    </tr>\n",
       "    <tr>\n",
       "      <th>70</th>\n",
       "      <td>5.9</td>\n",
       "      <td>3.2</td>\n",
       "      <td>4.8</td>\n",
       "      <td>1.8</td>\n",
       "      <td>versicolor</td>\n",
       "      <td>Cluster 2</td>\n",
       "    </tr>\n",
       "    <tr>\n",
       "      <th>13</th>\n",
       "      <td>4.3</td>\n",
       "      <td>3.0</td>\n",
       "      <td>1.1</td>\n",
       "      <td>0.1</td>\n",
       "      <td>setosa</td>\n",
       "      <td>Cluster 0</td>\n",
       "    </tr>\n",
       "    <tr>\n",
       "      <th>139</th>\n",
       "      <td>6.9</td>\n",
       "      <td>3.1</td>\n",
       "      <td>5.4</td>\n",
       "      <td>2.1</td>\n",
       "      <td>virginica</td>\n",
       "      <td>Cluster 2</td>\n",
       "    </tr>\n",
       "    <tr>\n",
       "      <th>8</th>\n",
       "      <td>4.4</td>\n",
       "      <td>2.9</td>\n",
       "      <td>1.4</td>\n",
       "      <td>0.2</td>\n",
       "      <td>setosa</td>\n",
       "      <td>Cluster 0</td>\n",
       "    </tr>\n",
       "  </tbody>\n",
       "</table>\n",
       "</div>"
      ],
      "text/plain": [
       "     sepal_length  sepal_width  petal_length  petal_width     species  \\\n",
       "90            5.5          2.6           4.4          1.2  versicolor   \n",
       "70            5.9          3.2           4.8          1.8  versicolor   \n",
       "13            4.3          3.0           1.1          0.1      setosa   \n",
       "139           6.9          3.1           5.4          2.1   virginica   \n",
       "8             4.4          2.9           1.4          0.2      setosa   \n",
       "\n",
       "       Cluster  \n",
       "90   Cluster 1  \n",
       "70   Cluster 2  \n",
       "13   Cluster 0  \n",
       "139  Cluster 2  \n",
       "8    Cluster 0  "
      ]
     },
     "execution_count": 40,
     "metadata": {},
     "output_type": "execute_result"
    }
   ],
   "source": [
    "# view results\n",
    "clustering_results.head()"
   ]
  },
  {
   "cell_type": "code",
   "execution_count": 41,
   "metadata": {},
   "outputs": [
    {
     "data": {
      "text/plain": [
       "Cluster    species   \n",
       "Cluster 0  setosa        30\n",
       "Cluster 1  versicolor    29\n",
       "           virginica     11\n",
       "Cluster 2  versicolor     9\n",
       "           virginica     26\n",
       "dtype: int64"
      ]
     },
     "execution_count": 41,
     "metadata": {},
     "output_type": "execute_result"
    }
   ],
   "source": [
    "# view results\n",
    "clustering_results.groupby(by=['Cluster','species']).size()"
   ]
  },
  {
   "cell_type": "code",
   "execution_count": 43,
   "metadata": {},
   "outputs": [
    {
     "data": {
      "text/html": [
       "        <script type=\"text/javascript\">\n",
       "        window.PlotlyConfig = {MathJaxConfig: 'local'};\n",
       "        if (window.MathJax) {MathJax.Hub.Config({SVG: {font: \"STIX-Web\"}});}\n",
       "        if (typeof require !== 'undefined') {\n",
       "        require.undef(\"plotly\");\n",
       "        requirejs.config({\n",
       "            paths: {\n",
       "                'plotly': ['https://cdn.plot.ly/plotly-latest.min']\n",
       "            }\n",
       "        });\n",
       "        require(['plotly'], function(Plotly) {\n",
       "            window._Plotly = Plotly;\n",
       "        });\n",
       "        }\n",
       "        </script>\n",
       "        "
      ]
     },
     "metadata": {},
     "output_type": "display_data"
    },
    {
     "data": {
      "image/png": "[encoded data removed]",
      "text/plain": [
       "<Figure size 576x396 with 1 Axes>"
      ]
     },
     "metadata": {},
     "output_type": "display_data"
    }
   ],
   "source": [
    "# plots\n",
    "clustering.plot_model(\n",
    "    model=clustering_model,\n",
    "    plot='elbow'\n",
    ")"
   ]
  },
  {
   "cell_type": "code",
   "execution_count": 44,
   "metadata": {},
   "outputs": [
    {
     "data": {
      "text/html": [
       "        <script type=\"text/javascript\">\n",
       "        window.PlotlyConfig = {MathJaxConfig: 'local'};\n",
       "        if (window.MathJax) {MathJax.Hub.Config({SVG: {font: \"STIX-Web\"}});}\n",
       "        if (typeof require !== 'undefined') {\n",
       "        require.undef(\"plotly\");\n",
       "        requirejs.config({\n",
       "            paths: {\n",
       "                'plotly': ['https://cdn.plot.ly/plotly-latest.min']\n",
       "            }\n",
       "        });\n",
       "        require(['plotly'], function(Plotly) {\n",
       "            window._Plotly = Plotly;\n",
       "        });\n",
       "        }\n",
       "        </script>\n",
       "        "
      ]
     },
     "metadata": {},
     "output_type": "display_data"
    },
    {
     "data": {
      "image/png": "[encoded data removed]",
      "text/plain": [
       "<Figure size 576x396 with 1 Axes>"
      ]
     },
     "metadata": {},
     "output_type": "display_data"
    }
   ],
   "source": [
    "# plots\n",
    "clustering.plot_model(\n",
    "    model=clustering_model,\n",
    "    plot='silhouette'\n",
    ")"
   ]
  },
  {
   "cell_type": "code",
   "execution_count": 45,
   "metadata": {},
   "outputs": [
    {
     "data": {
      "text/html": [
       "        <script type=\"text/javascript\">\n",
       "        window.PlotlyConfig = {MathJaxConfig: 'local'};\n",
       "        if (window.MathJax) {MathJax.Hub.Config({SVG: {font: \"STIX-Web\"}});}\n",
       "        if (typeof require !== 'undefined') {\n",
       "        require.undef(\"plotly\");\n",
       "        requirejs.config({\n",
       "            paths: {\n",
       "                'plotly': ['https://cdn.plot.ly/plotly-latest.min']\n",
       "            }\n",
       "        });\n",
       "        require(['plotly'], function(Plotly) {\n",
       "            window._Plotly = Plotly;\n",
       "        });\n",
       "        }\n",
       "        </script>\n",
       "        "
      ]
     },
     "metadata": {},
     "output_type": "display_data"
    },
    {
     "data": {
      "application/vnd.plotly.v1+json": {
       "config": {
        "plotlyServerURL": "https://plot.ly"
       },
       "data": [
        {
         "alignmentgroup": "True",
         "bingroup": "x",
         "hovertemplate": "Cluster=Cluster 0<br>sepal_width=%{x}<br>count=%{y}<extra></extra>",
         "legendgroup": "Cluster 0",
         "marker": {
          "color": "#636efa",
          "opacity": 0.7
         },
         "name": "Cluster 0",
         "offsetgroup": "Cluster 0",
         "orientation": "v",
         "showlegend": true,
         "type": "histogram",
         "x": [
          3.8,
          3.6,
          3.1,
          3.2,
          3,
          4.2,
          3.4,
          3.4,
          3.1,
          3.4,
          3,
          3.4,
          2.3,
          3.8,
          3,
          3.1,
          3,
          3.5,
          3.4,
          3,
          3.5,
          2.9,
          3.2,
          3.7,
          3,
          4.4,
          3.4,
          3.9,
          4.1,
          4
         ],
         "xaxis": "x",
         "yaxis": "y"
        },
        {
         "alignmentgroup": "True",
         "customdata": [
          [
           5.1,
           3.8,
           1.6,
           0.2,
           "setosa",
           "Cluster 0"
          ],
          [
           5,
           3.6,
           1.4,
           0.2,
           "setosa",
           "Cluster 0"
          ],
          [
           4.6,
           3.1,
           1.5,
           0.2,
           "setosa",
           "Cluster 0"
          ],
          [
           5,
           3.2,
           1.2,
           0.2,
           "setosa",
           "Cluster 0"
          ],
          [
           5,
           3,
           1.6,
           0.2,
           "setosa",
           "Cluster 0"
          ],
          [
           5.5,
           4.2,
           1.4,
           0.2,
           "setosa",
           "Cluster 0"
          ],
          [
           5,
           3.4,
           1.5,
           0.2,
           "setosa",
           "Cluster 0"
          ],
          [
           5.4,
           3.4,
           1.5,
           0.4,
           "setosa",
           "Cluster 0"
          ],
          [
           4.8,
           3.1,
           1.6,
           0.2,
           "setosa",
           "Cluster 0"
          ],
          [
           4.8,
           3.4,
           1.9,
           0.2,
           "setosa",
           "Cluster 0"
          ],
          [
           4.4,
           3,
           1.3,
           0.2,
           "setosa",
           "Cluster 0"
          ],
          [
           5,
           3.4,
           1.6,
           0.4,
           "setosa",
           "Cluster 0"
          ],
          [
           4.5,
           2.3,
           1.3,
           0.3,
           "setosa",
           "Cluster 0"
          ],
          [
           5.7,
           3.8,
           1.7,
           0.3,
           "setosa",
           "Cluster 0"
          ],
          [
           4.8,
           3,
           1.4,
           0.3,
           "setosa",
           "Cluster 0"
          ],
          [
           4.9,
           3.1,
           1.5,
           0.1,
           "setosa",
           "Cluster 0"
          ],
          [
           4.8,
           3,
           1.4,
           0.1,
           "setosa",
           "Cluster 0"
          ],
          [
           5.2,
           3.5,
           1.5,
           0.2,
           "setosa",
           "Cluster 0"
          ],
          [
           5.4,
           3.4,
           1.7,
           0.2,
           "setosa",
           "Cluster 0"
          ],
          [
           4.3,
           3,
           1.1,
           0.1,
           "setosa",
           "Cluster 0"
          ],
          [
           5.1,
           3.5,
           1.4,
           0.2,
           "setosa",
           "Cluster 0"
          ],
          [
           4.4,
           2.9,
           1.4,
           0.2,
           "setosa",
           "Cluster 0"
          ],
          [
           4.7,
           3.2,
           1.6,
           0.2,
           "setosa",
           "Cluster 0"
          ],
          [
           5.1,
           3.7,
           1.5,
           0.4,
           "setosa",
           "Cluster 0"
          ],
          [
           4.9,
           3,
           1.4,
           0.2,
           "setosa",
           "Cluster 0"
          ],
          [
           5.7,
           4.4,
           1.5,
           0.4,
           "setosa",
           "Cluster 0"
          ],
          [
           5.2,
           3.4,
           1.4,
           0.2,
           "setosa",
           "Cluster 0"
          ],
          [
           5.4,
           3.9,
           1.3,
           0.4,
           "setosa",
           "Cluster 0"
          ],
          [
           5.2,
           4.1,
           1.5,
           0.1,
           "setosa",
           "Cluster 0"
          ],
          [
           5.8,
           4,
           1.2,
           0.2,
           "setosa",
           "Cluster 0"
          ]
         ],
         "hovertemplate": "Cluster=%{customdata[5]}<br>sepal_width=%{customdata[1]}<br>sepal_length=%{customdata[0]}<br>petal_length=%{customdata[2]}<br>petal_width=%{customdata[3]}<br>species=%{customdata[4]}<extra></extra>",
         "legendgroup": "Cluster 0",
         "marker": {
          "color": "#636efa"
         },
         "name": "Cluster 0",
         "notched": true,
         "offsetgroup": "Cluster 0",
         "showlegend": false,
         "type": "box",
         "x": [
          3.8,
          3.6,
          3.1,
          3.2,
          3,
          4.2,
          3.4,
          3.4,
          3.1,
          3.4,
          3,
          3.4,
          2.3,
          3.8,
          3,
          3.1,
          3,
          3.5,
          3.4,
          3,
          3.5,
          2.9,
          3.2,
          3.7,
          3,
          4.4,
          3.4,
          3.9,
          4.1,
          4
         ],
         "xaxis": "x2",
         "yaxis": "y2"
        },
        {
         "alignmentgroup": "True",
         "bingroup": "x",
         "hovertemplate": "Cluster=Cluster 1<br>sepal_width=%{x}<br>count=%{y}<extra></extra>",
         "legendgroup": "Cluster 1",
         "marker": {
          "color": "#EF553B",
          "opacity": 0.7
         },
         "name": "Cluster 1",
         "offsetgroup": "Cluster 1",
         "orientation": "v",
         "showlegend": true,
         "type": "histogram",
         "x": [
          2.8,
          2.2,
          2.7,
          2.4,
          3,
          2.6,
          2.7,
          2.9,
          2.8,
          2.7,
          2.7,
          3,
          2.6,
          2.8,
          2.7,
          3,
          2.9,
          2.3,
          2.6,
          2.2,
          3,
          2.5,
          2.3,
          3,
          2,
          2.5,
          2.4,
          2.9,
          2.7,
          2.8,
          2.5,
          2.5,
          2.8,
          2.2,
          2.4,
          2.3,
          2.9,
          2.8,
          2.7,
          2.8
         ],
         "xaxis": "x",
         "yaxis": "y"
        },
        {
         "alignmentgroup": "True",
         "customdata": [
          [
           5.8,
           2.8,
           5.1,
           2.4,
           "virginica",
           "Cluster 1"
          ],
          [
           6,
           2.2,
           5,
           1.5,
           "virginica",
           "Cluster 1"
          ],
          [
           5.6,
           2.7,
           4.2,
           1.3,
           "versicolor",
           "Cluster 1"
          ],
          [
           5.5,
           2.4,
           3.7,
           1,
           "versicolor",
           "Cluster 1"
          ],
          [
           5.7,
           3,
           4.2,
           1.2,
           "versicolor",
           "Cluster 1"
          ],
          [
           5.5,
           2.6,
           4.4,
           1.2,
           "versicolor",
           "Cluster 1"
          ],
          [
           6,
           2.7,
           5.1,
           1.6,
           "versicolor",
           "Cluster 1"
          ],
          [
           6.2,
           2.9,
           4.3,
           1.3,
           "versicolor",
           "Cluster 1"
          ],
          [
           5.6,
           2.8,
           4.9,
           2,
           "virginica",
           "Cluster 1"
          ],
          [
           5.8,
           2.7,
           5.1,
           1.9,
           "virginica",
           "Cluster 1"
          ],
          [
           5.2,
           2.7,
           3.9,
           1.4,
           "versicolor",
           "Cluster 1"
          ],
          [
           6,
           3,
           4.8,
           1.8,
           "virginica",
           "Cluster 1"
          ],
          [
           5.7,
           2.6,
           3.5,
           1,
           "versicolor",
           "Cluster 1"
          ],
          [
           6.2,
           2.8,
           4.8,
           1.8,
           "virginica",
           "Cluster 1"
          ],
          [
           5.8,
           2.7,
           5.1,
           1.9,
           "virginica",
           "Cluster 1"
          ],
          [
           5.6,
           3,
           4.5,
           1.5,
           "versicolor",
           "Cluster 1"
          ],
          [
           6.1,
           2.9,
           4.7,
           1.4,
           "versicolor",
           "Cluster 1"
          ],
          [
           6.3,
           2.3,
           4.4,
           1.3,
           "versicolor",
           "Cluster 1"
          ],
          [
           5.8,
           2.6,
           4,
           1.2,
           "versicolor",
           "Cluster 1"
          ],
          [
           6,
           2.2,
           4,
           1,
           "versicolor",
           "Cluster 1"
          ],
          [
           5.4,
           3,
           4.5,
           1.5,
           "versicolor",
           "Cluster 1"
          ],
          [
           5.7,
           2.5,
           5,
           2,
           "virginica",
           "Cluster 1"
          ],
          [
           5.5,
           2.3,
           4,
           1.3,
           "versicolor",
           "Cluster 1"
          ],
          [
           6.1,
           3,
           4.6,
           1.4,
           "versicolor",
           "Cluster 1"
          ],
          [
           5,
           2,
           3.5,
           1,
           "versicolor",
           "Cluster 1"
          ],
          [
           6.3,
           2.5,
           5,
           1.9,
           "virginica",
           "Cluster 1"
          ],
          [
           5.5,
           2.4,
           3.8,
           1.1,
           "versicolor",
           "Cluster 1"
          ],
          [
           5.7,
           2.9,
           4.2,
           1.3,
           "versicolor",
           "Cluster 1"
          ],
          [
           5.8,
           2.7,
           4.1,
           1,
           "versicolor",
           "Cluster 1"
          ],
          [
           5.7,
           2.8,
           4.1,
           1.3,
           "versicolor",
           "Cluster 1"
          ],
          [
           4.9,
           2.5,
           4.5,
           1.7,
           "virginica",
           "Cluster 1"
          ],
          [
           6.3,
           2.5,
           4.9,
           1.5,
           "versicolor",
           "Cluster 1"
          ],
          [
           6.1,
           2.8,
           4.7,
           1.2,
           "versicolor",
           "Cluster 1"
          ],
          [
           6.2,
           2.2,
           4.5,
           1.5,
           "versicolor",
           "Cluster 1"
          ],
          [
           4.9,
           2.4,
           3.3,
           1,
           "versicolor",
           "Cluster 1"
          ],
          [
           5,
           2.3,
           3.3,
           1,
           "versicolor",
           "Cluster 1"
          ],
          [
           5.6,
           2.9,
           3.6,
           1.3,
           "versicolor",
           "Cluster 1"
          ],
          [
           6.5,
           2.8,
           4.6,
           1.5,
           "versicolor",
           "Cluster 1"
          ],
          [
           6.3,
           2.7,
           4.9,
           1.8,
           "virginica",
           "Cluster 1"
          ],
          [
           5.7,
           2.8,
           4.5,
           1.3,
           "versicolor",
           "Cluster 1"
          ]
         ],
         "hovertemplate": "Cluster=%{customdata[5]}<br>sepal_width=%{customdata[1]}<br>sepal_length=%{customdata[0]}<br>petal_length=%{customdata[2]}<br>petal_width=%{customdata[3]}<br>species=%{customdata[4]}<extra></extra>",
         "legendgroup": "Cluster 1",
         "marker": {
          "color": "#EF553B"
         },
         "name": "Cluster 1",
         "notched": true,
         "offsetgroup": "Cluster 1",
         "showlegend": false,
         "type": "box",
         "x": [
          2.8,
          2.2,
          2.7,
          2.4,
          3,
          2.6,
          2.7,
          2.9,
          2.8,
          2.7,
          2.7,
          3,
          2.6,
          2.8,
          2.7,
          3,
          2.9,
          2.3,
          2.6,
          2.2,
          3,
          2.5,
          2.3,
          3,
          2,
          2.5,
          2.4,
          2.9,
          2.7,
          2.8,
          2.5,
          2.5,
          2.8,
          2.2,
          2.4,
          2.3,
          2.9,
          2.8,
          2.7,
          2.8
         ],
         "xaxis": "x2",
         "yaxis": "y2"
        },
        {
         "alignmentgroup": "True",
         "bingroup": "x",
         "hovertemplate": "Cluster=Cluster 2<br>sepal_width=%{x}<br>count=%{y}<extra></extra>",
         "legendgroup": "Cluster 2",
         "marker": {
          "color": "#00cc96",
          "opacity": 0.7
         },
         "name": "Cluster 2",
         "offsetgroup": "Cluster 2",
         "orientation": "v",
         "showlegend": true,
         "type": "histogram",
         "x": [
          2.5,
          3.2,
          3,
          3.2,
          2.9,
          3.3,
          3.2,
          2.8,
          3,
          3.1,
          3.2,
          3.2,
          3.8,
          3.3,
          3.4,
          3.1,
          3.6,
          2.6,
          3.1,
          3,
          2.9,
          3,
          3,
          3.2,
          3,
          2.8,
          3,
          3,
          3,
          3,
          3.4,
          3.2,
          3.1,
          2.8,
          3
         ],
         "xaxis": "x",
         "yaxis": "y"
        },
        {
         "alignmentgroup": "True",
         "customdata": [
          [
           6.7,
           2.5,
           5.8,
           1.8,
           "virginica",
           "Cluster 2"
          ],
          [
           7,
           3.2,
           4.7,
           1.4,
           "versicolor",
           "Cluster 2"
          ],
          [
           6.8,
           3,
           5.5,
           2.1,
           "virginica",
           "Cluster 2"
          ],
          [
           6.8,
           3.2,
           5.9,
           2.3,
           "virginica",
           "Cluster 2"
          ],
          [
           6.6,
           2.9,
           4.6,
           1.3,
           "versicolor",
           "Cluster 2"
          ],
          [
           6.7,
           3.3,
           5.7,
           2.5,
           "virginica",
           "Cluster 2"
          ],
          [
           6.4,
           3.2,
           4.5,
           1.5,
           "versicolor",
           "Cluster 2"
          ],
          [
           6.4,
           2.8,
           5.6,
           2.1,
           "virginica",
           "Cluster 2"
          ],
          [
           6.6,
           3,
           4.4,
           1.4,
           "versicolor",
           "Cluster 2"
          ],
          [
           6.9,
           3.1,
           5.4,
           2.1,
           "virginica",
           "Cluster 2"
          ],
          [
           5.9,
           3.2,
           4.8,
           1.8,
           "versicolor",
           "Cluster 2"
          ],
          [
           6.9,
           3.2,
           5.7,
           2.3,
           "virginica",
           "Cluster 2"
          ],
          [
           7.9,
           3.8,
           6.4,
           2,
           "virginica",
           "Cluster 2"
          ],
          [
           6.3,
           3.3,
           6,
           2.5,
           "virginica",
           "Cluster 2"
          ],
          [
           6,
           3.4,
           4.5,
           1.6,
           "versicolor",
           "Cluster 2"
          ],
          [
           6.9,
           3.1,
           5.1,
           2.3,
           "virginica",
           "Cluster 2"
          ],
          [
           7.2,
           3.6,
           6.1,
           2.5,
           "virginica",
           "Cluster 2"
          ],
          [
           7.7,
           2.6,
           6.9,
           2.3,
           "virginica",
           "Cluster 2"
          ],
          [
           6.7,
           3.1,
           4.4,
           1.4,
           "versicolor",
           "Cluster 2"
          ],
          [
           6.7,
           3,
           5,
           1.7,
           "versicolor",
           "Cluster 2"
          ],
          [
           7.3,
           2.9,
           6.3,
           1.8,
           "virginica",
           "Cluster 2"
          ],
          [
           7.1,
           3,
           5.9,
           2.1,
           "virginica",
           "Cluster 2"
          ],
          [
           6.7,
           3,
           5.2,
           2.3,
           "virginica",
           "Cluster 2"
          ],
          [
           6.5,
           3.2,
           5.1,
           2,
           "virginica",
           "Cluster 2"
          ],
          [
           7.6,
           3,
           6.6,
           2.1,
           "virginica",
           "Cluster 2"
          ],
          [
           6.8,
           2.8,
           4.8,
           1.4,
           "versicolor",
           "Cluster 2"
          ],
          [
           6.5,
           3,
           5.8,
           2.2,
           "virginica",
           "Cluster 2"
          ],
          [
           7.7,
           3,
           6.1,
           2.3,
           "virginica",
           "Cluster 2"
          ],
          [
           7.2,
           3,
           5.8,
           1.6,
           "virginica",
           "Cluster 2"
          ],
          [
           6.5,
           3,
           5.2,
           2,
           "virginica",
           "Cluster 2"
          ],
          [
           6.3,
           3.4,
           5.6,
           2.4,
           "virginica",
           "Cluster 2"
          ],
          [
           6.4,
           3.2,
           5.3,
           2.3,
           "virginica",
           "Cluster 2"
          ],
          [
           6.7,
           3.1,
           5.6,
           2.4,
           "virginica",
           "Cluster 2"
          ],
          [
           6.4,
           2.8,
           5.6,
           2.2,
           "virginica",
           "Cluster 2"
          ],
          [
           6.1,
           3,
           4.9,
           1.8,
           "virginica",
           "Cluster 2"
          ]
         ],
         "hovertemplate": "Cluster=%{customdata[5]}<br>sepal_width=%{customdata[1]}<br>sepal_length=%{customdata[0]}<br>petal_length=%{customdata[2]}<br>petal_width=%{customdata[3]}<br>species=%{customdata[4]}<extra></extra>",
         "legendgroup": "Cluster 2",
         "marker": {
          "color": "#00cc96"
         },
         "name": "Cluster 2",
         "notched": true,
         "offsetgroup": "Cluster 2",
         "showlegend": false,
         "type": "box",
         "x": [
          2.5,
          3.2,
          3,
          3.2,
          2.9,
          3.3,
          3.2,
          2.8,
          3,
          3.1,
          3.2,
          3.2,
          3.8,
          3.3,
          3.4,
          3.1,
          3.6,
          2.6,
          3.1,
          3,
          2.9,
          3,
          3,
          3.2,
          3,
          2.8,
          3,
          3,
          3,
          3,
          3.4,
          3.2,
          3.1,
          2.8,
          3
         ],
         "xaxis": "x2",
         "yaxis": "y2"
        }
       ],
       "layout": {
        "barmode": "relative",
        "legend": {
         "title": {
          "text": "Cluster"
         },
         "tracegroupgap": 0
        },
        "margin": {
         "t": 60
        },
        "template": {
         "data": {
          "bar": [
           {
            "error_x": {
             "color": "#2a3f5f"
            },
            "error_y": {
             "color": "#2a3f5f"
            },
            "marker": {
             "line": {
              "color": "#E5ECF6",
              "width": 0.5
             }
            },
            "type": "bar"
           }
          ],
          "barpolar": [
           {
            "marker": {
             "line": {
              "color": "#E5ECF6",
              "width": 0.5
             }
            },
            "type": "barpolar"
           }
          ],
          "carpet": [
           {
            "aaxis": {
             "endlinecolor": "#2a3f5f",
             "gridcolor": "white",
             "linecolor": "white",
             "minorgridcolor": "white",
             "startlinecolor": "#2a3f5f"
            },
            "baxis": {
             "endlinecolor": "#2a3f5f",
             "gridcolor": "white",
             "linecolor": "white",
             "minorgridcolor": "white",
             "startlinecolor": "#2a3f5f"
            },
            "type": "carpet"
           }
          ],
          "choropleth": [
           {
            "colorbar": {
             "outlinewidth": 0,
             "ticks": ""
            },
            "type": "choropleth"
           }
          ],
          "contour": [
           {
            "colorbar": {
             "outlinewidth": 0,
             "ticks": ""
            },
            "colorscale": [
             [
              0,
              "#0d0887"
             ],
             [
              0.1111111111111111,
              "#46039f"
             ],
             [
              0.2222222222222222,
              "#7201a8"
             ],
             [
              0.3333333333333333,
              "#9c179e"
             ],
             [
              0.4444444444444444,
              "#bd3786"
             ],
             [
              0.5555555555555556,
              "#d8576b"
             ],
             [
              0.6666666666666666,
              "#ed7953"
             ],
             [
              0.7777777777777778,
              "#fb9f3a"
             ],
             [
              0.8888888888888888,
              "#fdca26"
             ],
             [
              1,
              "#f0f921"
             ]
            ],
            "type": "contour"
           }
          ],
          "contourcarpet": [
           {
            "colorbar": {
             "outlinewidth": 0,
             "ticks": ""
            },
            "type": "contourcarpet"
           }
          ],
          "heatmap": [
           {
            "colorbar": {
             "outlinewidth": 0,
             "ticks": ""
            },
            "colorscale": [
             [
              0,
              "#0d0887"
             ],
             [
              0.1111111111111111,
              "#46039f"
             ],
             [
              0.2222222222222222,
              "#7201a8"
             ],
             [
              0.3333333333333333,
              "#9c179e"
             ],
             [
              0.4444444444444444,
              "#bd3786"
             ],
             [
              0.5555555555555556,
              "#d8576b"
             ],
             [
              0.6666666666666666,
              "#ed7953"
             ],
             [
              0.7777777777777778,
              "#fb9f3a"
             ],
             [
              0.8888888888888888,
              "#fdca26"
             ],
             [
              1,
              "#f0f921"
             ]
            ],
            "type": "heatmap"
           }
          ],
          "heatmapgl": [
           {
            "colorbar": {
             "outlinewidth": 0,
             "ticks": ""
            },
            "colorscale": [
             [
              0,
              "#0d0887"
             ],
             [
              0.1111111111111111,
              "#46039f"
             ],
             [
              0.2222222222222222,
              "#7201a8"
             ],
             [
              0.3333333333333333,
              "#9c179e"
             ],
             [
              0.4444444444444444,
              "#bd3786"
             ],
             [
              0.5555555555555556,
              "#d8576b"
             ],
             [
              0.6666666666666666,
              "#ed7953"
             ],
             [
              0.7777777777777778,
              "#fb9f3a"
             ],
             [
              0.8888888888888888,
              "#fdca26"
             ],
             [
              1,
              "#f0f921"
             ]
            ],
            "type": "heatmapgl"
           }
          ],
          "histogram": [
           {
            "marker": {
             "colorbar": {
              "outlinewidth": 0,
              "ticks": ""
             }
            },
            "type": "histogram"
           }
          ],
          "histogram2d": [
           {
            "colorbar": {
             "outlinewidth": 0,
             "ticks": ""
            },
            "colorscale": [
             [
              0,
              "#0d0887"
             ],
             [
              0.1111111111111111,
              "#46039f"
             ],
             [
              0.2222222222222222,
              "#7201a8"
             ],
             [
              0.3333333333333333,
              "#9c179e"
             ],
             [
              0.4444444444444444,
              "#bd3786"
             ],
             [
              0.5555555555555556,
              "#d8576b"
             ],
             [
              0.6666666666666666,
              "#ed7953"
             ],
             [
              0.7777777777777778,
              "#fb9f3a"
             ],
             [
              0.8888888888888888,
              "#fdca26"
             ],
             [
              1,
              "#f0f921"
             ]
            ],
            "type": "histogram2d"
           }
          ],
          "histogram2dcontour": [
           {
            "colorbar": {
             "outlinewidth": 0,
             "ticks": ""
            },
            "colorscale": [
             [
              0,
              "#0d0887"
             ],
             [
              0.1111111111111111,
              "#46039f"
             ],
             [
              0.2222222222222222,
              "#7201a8"
             ],
             [
              0.3333333333333333,
              "#9c179e"
             ],
             [
              0.4444444444444444,
              "#bd3786"
             ],
             [
              0.5555555555555556,
              "#d8576b"
             ],
             [
              0.6666666666666666,
              "#ed7953"
             ],
             [
              0.7777777777777778,
              "#fb9f3a"
             ],
             [
              0.8888888888888888,
              "#fdca26"
             ],
             [
              1,
              "#f0f921"
             ]
            ],
            "type": "histogram2dcontour"
           }
          ],
          "mesh3d": [
           {
            "colorbar": {
             "outlinewidth": 0,
             "ticks": ""
            },
            "type": "mesh3d"
           }
          ],
          "parcoords": [
           {
            "line": {
             "colorbar": {
              "outlinewidth": 0,
              "ticks": ""
             }
            },
            "type": "parcoords"
           }
          ],
          "pie": [
           {
            "automargin": true,
            "type": "pie"
           }
          ],
          "scatter": [
           {
            "marker": {
             "colorbar": {
              "outlinewidth": 0,
              "ticks": ""
             }
            },
            "type": "scatter"
           }
          ],
          "scatter3d": [
           {
            "line": {
             "colorbar": {
              "outlinewidth": 0,
              "ticks": ""
             }
            },
            "marker": {
             "colorbar": {
              "outlinewidth": 0,
              "ticks": ""
             }
            },
            "type": "scatter3d"
           }
          ],
          "scattercarpet": [
           {
            "marker": {
             "colorbar": {
              "outlinewidth": 0,
              "ticks": ""
             }
            },
            "type": "scattercarpet"
           }
          ],
          "scattergeo": [
           {
            "marker": {
             "colorbar": {
              "outlinewidth": 0,
              "ticks": ""
             }
            },
            "type": "scattergeo"
           }
          ],
          "scattergl": [
           {
            "marker": {
             "colorbar": {
              "outlinewidth": 0,
              "ticks": ""
             }
            },
            "type": "scattergl"
           }
          ],
          "scattermapbox": [
           {
            "marker": {
             "colorbar": {
              "outlinewidth": 0,
              "ticks": ""
             }
            },
            "type": "scattermapbox"
           }
          ],
          "scatterpolar": [
           {
            "marker": {
             "colorbar": {
              "outlinewidth": 0,
              "ticks": ""
             }
            },
            "type": "scatterpolar"
           }
          ],
          "scatterpolargl": [
           {
            "marker": {
             "colorbar": {
              "outlinewidth": 0,
              "ticks": ""
             }
            },
            "type": "scatterpolargl"
           }
          ],
          "scatterternary": [
           {
            "marker": {
             "colorbar": {
              "outlinewidth": 0,
              "ticks": ""
             }
            },
            "type": "scatterternary"
           }
          ],
          "surface": [
           {
            "colorbar": {
             "outlinewidth": 0,
             "ticks": ""
            },
            "colorscale": [
             [
              0,
              "#0d0887"
             ],
             [
              0.1111111111111111,
              "#46039f"
             ],
             [
              0.2222222222222222,
              "#7201a8"
             ],
             [
              0.3333333333333333,
              "#9c179e"
             ],
             [
              0.4444444444444444,
              "#bd3786"
             ],
             [
              0.5555555555555556,
              "#d8576b"
             ],
             [
              0.6666666666666666,
              "#ed7953"
             ],
             [
              0.7777777777777778,
              "#fb9f3a"
             ],
             [
              0.8888888888888888,
              "#fdca26"
             ],
             [
              1,
              "#f0f921"
             ]
            ],
            "type": "surface"
           }
          ],
          "table": [
           {
            "cells": {
             "fill": {
              "color": "#EBF0F8"
             },
             "line": {
              "color": "white"
             }
            },
            "header": {
             "fill": {
              "color": "#C8D4E3"
             },
             "line": {
              "color": "white"
             }
            },
            "type": "table"
           }
          ]
         },
         "layout": {
          "annotationdefaults": {
           "arrowcolor": "#2a3f5f",
           "arrowhead": 0,
           "arrowwidth": 1
          },
          "coloraxis": {
           "colorbar": {
            "outlinewidth": 0,
            "ticks": ""
           }
          },
          "colorscale": {
           "diverging": [
            [
             0,
             "#8e0152"
            ],
            [
             0.1,
             "#c51b7d"
            ],
            [
             0.2,
             "#de77ae"
            ],
            [
             0.3,
             "#f1b6da"
            ],
            [
             0.4,
             "#fde0ef"
            ],
            [
             0.5,
             "#f7f7f7"
            ],
            [
             0.6,
             "#e6f5d0"
            ],
            [
             0.7,
             "#b8e186"
            ],
            [
             0.8,
             "#7fbc41"
            ],
            [
             0.9,
             "#4d9221"
            ],
            [
             1,
             "#276419"
            ]
           ],
           "sequential": [
            [
             0,
             "#0d0887"
            ],
            [
             0.1111111111111111,
             "#46039f"
            ],
            [
             0.2222222222222222,
             "#7201a8"
            ],
            [
             0.3333333333333333,
             "#9c179e"
            ],
            [
             0.4444444444444444,
             "#bd3786"
            ],
            [
             0.5555555555555556,
             "#d8576b"
            ],
            [
             0.6666666666666666,
             "#ed7953"
            ],
            [
             0.7777777777777778,
             "#fb9f3a"
            ],
            [
             0.8888888888888888,
             "#fdca26"
            ],
            [
             1,
             "#f0f921"
            ]
           ],
           "sequentialminus": [
            [
             0,
             "#0d0887"
            ],
            [
             0.1111111111111111,
             "#46039f"
            ],
            [
             0.2222222222222222,
             "#7201a8"
            ],
            [
             0.3333333333333333,
             "#9c179e"
            ],
            [
             0.4444444444444444,
             "#bd3786"
            ],
            [
             0.5555555555555556,
             "#d8576b"
            ],
            [
             0.6666666666666666,
             "#ed7953"
            ],
            [
             0.7777777777777778,
             "#fb9f3a"
            ],
            [
             0.8888888888888888,
             "#fdca26"
            ],
            [
             1,
             "#f0f921"
            ]
           ]
          },
          "colorway": [
           "#636efa",
           "#EF553B",
           "#00cc96",
           "#ab63fa",
           "#FFA15A",
           "#19d3f3",
           "#FF6692",
           "#B6E880",
           "#FF97FF",
           "#FECB52"
          ],
          "font": {
           "color": "#2a3f5f"
          },
          "geo": {
           "bgcolor": "white",
           "lakecolor": "white",
           "landcolor": "#E5ECF6",
           "showlakes": true,
           "showland": true,
           "subunitcolor": "white"
          },
          "hoverlabel": {
           "align": "left"
          },
          "hovermode": "closest",
          "mapbox": {
           "style": "light"
          },
          "paper_bgcolor": "white",
          "plot_bgcolor": "#E5ECF6",
          "polar": {
           "angularaxis": {
            "gridcolor": "white",
            "linecolor": "white",
            "ticks": ""
           },
           "bgcolor": "#E5ECF6",
           "radialaxis": {
            "gridcolor": "white",
            "linecolor": "white",
            "ticks": ""
           }
          },
          "scene": {
           "xaxis": {
            "backgroundcolor": "#E5ECF6",
            "gridcolor": "white",
            "gridwidth": 2,
            "linecolor": "white",
            "showbackground": true,
            "ticks": "",
            "zerolinecolor": "white"
           },
           "yaxis": {
            "backgroundcolor": "#E5ECF6",
            "gridcolor": "white",
            "gridwidth": 2,
            "linecolor": "white",
            "showbackground": true,
            "ticks": "",
            "zerolinecolor": "white"
           },
           "zaxis": {
            "backgroundcolor": "#E5ECF6",
            "gridcolor": "white",
            "gridwidth": 2,
            "linecolor": "white",
            "showbackground": true,
            "ticks": "",
            "zerolinecolor": "white"
           }
          },
          "shapedefaults": {
           "line": {
            "color": "#2a3f5f"
           }
          },
          "ternary": {
           "aaxis": {
            "gridcolor": "white",
            "linecolor": "white",
            "ticks": ""
           },
           "baxis": {
            "gridcolor": "white",
            "linecolor": "white",
            "ticks": ""
           },
           "bgcolor": "#E5ECF6",
           "caxis": {
            "gridcolor": "white",
            "linecolor": "white",
            "ticks": ""
           }
          },
          "title": {
           "x": 0.05
          },
          "xaxis": {
           "automargin": true,
           "gridcolor": "white",
           "linecolor": "white",
           "ticks": "",
           "title": {
            "standoff": 15
           },
           "zerolinecolor": "white",
           "zerolinewidth": 2
          },
          "yaxis": {
           "automargin": true,
           "gridcolor": "white",
           "linecolor": "white",
           "ticks": "",
           "title": {
            "standoff": 15
           },
           "zerolinecolor": "white",
           "zerolinewidth": 2
          }
         }
        },
        "xaxis": {
         "anchor": "y",
         "domain": [
          0,
          1
         ],
         "title": {
          "text": "sepal_width"
         }
        },
        "xaxis2": {
         "anchor": "y2",
         "domain": [
          0,
          1
         ],
         "matches": "x",
         "showgrid": true,
         "showticklabels": false
        },
        "yaxis": {
         "anchor": "x",
         "domain": [
          0,
          0.7326
         ],
         "title": {
          "text": "count"
         }
        },
        "yaxis2": {
         "anchor": "x2",
         "domain": [
          0.7426,
          1
         ],
         "matches": "y2",
         "showgrid": false,
         "showline": false,
         "showticklabels": false,
         "ticks": ""
        }
       }
      },
      "text/html": [
       "<div>\n",
       "        \n",
       "        \n",
       "            <div id=\"5ffacd0b-ebb8-4c02-91cf-0971a9c504d6\" class=\"plotly-graph-div\" style=\"height:525px; width:100%;\"></div>\n",
       "            <script type=\"text/javascript\">\n",
       "                require([\"plotly\"], function(Plotly) {\n",
       "                    window.PLOTLYENV=window.PLOTLYENV || {};\n",
       "                    \n",
       "                if (document.getElementById(\"5ffacd0b-ebb8-4c02-91cf-0971a9c504d6\")) {\n",
       "                    Plotly.newPlot(\n",
       "                        '5ffacd0b-ebb8-4c02-91cf-0971a9c504d6',\n",
       "                        [{\"alignmentgroup\": \"True\", \"bingroup\": \"x\", \"hovertemplate\": \"Cluster=Cluster 0<br>sepal_width=%{x}<br>count=%{y}<extra></extra>\", \"legendgroup\": \"Cluster 0\", \"marker\": {\"color\": \"#636efa\", \"opacity\": 0.7}, \"name\": \"Cluster 0\", \"offsetgroup\": \"Cluster 0\", \"orientation\": \"v\", \"showlegend\": true, \"type\": \"histogram\", \"x\": [3.8, 3.6, 3.1, 3.2, 3.0, 4.2, 3.4, 3.4, 3.1, 3.4, 3.0, 3.4, 2.3, 3.8, 3.0, 3.1, 3.0, 3.5, 3.4, 3.0, 3.5, 2.9, 3.2, 3.7, 3.0, 4.4, 3.4, 3.9, 4.1, 4.0], \"xaxis\": \"x\", \"yaxis\": \"y\"}, {\"alignmentgroup\": \"True\", \"customdata\": [[5.1, 3.8, 1.6, 0.2, \"setosa\", \"Cluster 0\"], [5.0, 3.6, 1.4, 0.2, \"setosa\", \"Cluster 0\"], [4.6, 3.1, 1.5, 0.2, \"setosa\", \"Cluster 0\"], [5.0, 3.2, 1.2, 0.2, \"setosa\", \"Cluster 0\"], [5.0, 3.0, 1.6, 0.2, \"setosa\", \"Cluster 0\"], [5.5, 4.2, 1.4, 0.2, \"setosa\", \"Cluster 0\"], [5.0, 3.4, 1.5, 0.2, \"setosa\", \"Cluster 0\"], [5.4, 3.4, 1.5, 0.4, \"setosa\", \"Cluster 0\"], [4.8, 3.1, 1.6, 0.2, \"setosa\", \"Cluster 0\"], [4.8, 3.4, 1.9, 0.2, \"setosa\", \"Cluster 0\"], [4.4, 3.0, 1.3, 0.2, \"setosa\", \"Cluster 0\"], [5.0, 3.4, 1.6, 0.4, \"setosa\", \"Cluster 0\"], [4.5, 2.3, 1.3, 0.3, \"setosa\", \"Cluster 0\"], [5.7, 3.8, 1.7, 0.3, \"setosa\", \"Cluster 0\"], [4.8, 3.0, 1.4, 0.3, \"setosa\", \"Cluster 0\"], [4.9, 3.1, 1.5, 0.1, \"setosa\", \"Cluster 0\"], [4.8, 3.0, 1.4, 0.1, \"setosa\", \"Cluster 0\"], [5.2, 3.5, 1.5, 0.2, \"setosa\", \"Cluster 0\"], [5.4, 3.4, 1.7, 0.2, \"setosa\", \"Cluster 0\"], [4.3, 3.0, 1.1, 0.1, \"setosa\", \"Cluster 0\"], [5.1, 3.5, 1.4, 0.2, \"setosa\", \"Cluster 0\"], [4.4, 2.9, 1.4, 0.2, \"setosa\", \"Cluster 0\"], [4.7, 3.2, 1.6, 0.2, \"setosa\", \"Cluster 0\"], [5.1, 3.7, 1.5, 0.4, \"setosa\", \"Cluster 0\"], [4.9, 3.0, 1.4, 0.2, \"setosa\", \"Cluster 0\"], [5.7, 4.4, 1.5, 0.4, \"setosa\", \"Cluster 0\"], [5.2, 3.4, 1.4, 0.2, \"setosa\", \"Cluster 0\"], [5.4, 3.9, 1.3, 0.4, \"setosa\", \"Cluster 0\"], [5.2, 4.1, 1.5, 0.1, \"setosa\", \"Cluster 0\"], [5.8, 4.0, 1.2, 0.2, \"setosa\", \"Cluster 0\"]], \"hovertemplate\": \"Cluster=%{customdata[5]}<br>sepal_width=%{customdata[1]}<br>sepal_length=%{customdata[0]}<br>petal_length=%{customdata[2]}<br>petal_width=%{customdata[3]}<br>species=%{customdata[4]}<extra></extra>\", \"legendgroup\": \"Cluster 0\", \"marker\": {\"color\": \"#636efa\"}, \"name\": \"Cluster 0\", \"notched\": true, \"offsetgroup\": \"Cluster 0\", \"showlegend\": false, \"type\": \"box\", \"x\": [3.8, 3.6, 3.1, 3.2, 3.0, 4.2, 3.4, 3.4, 3.1, 3.4, 3.0, 3.4, 2.3, 3.8, 3.0, 3.1, 3.0, 3.5, 3.4, 3.0, 3.5, 2.9, 3.2, 3.7, 3.0, 4.4, 3.4, 3.9, 4.1, 4.0], \"xaxis\": \"x2\", \"yaxis\": \"y2\"}, {\"alignmentgroup\": \"True\", \"bingroup\": \"x\", \"hovertemplate\": \"Cluster=Cluster 1<br>sepal_width=%{x}<br>count=%{y}<extra></extra>\", \"legendgroup\": \"Cluster 1\", \"marker\": {\"color\": \"#EF553B\", \"opacity\": 0.7}, \"name\": \"Cluster 1\", \"offsetgroup\": \"Cluster 1\", \"orientation\": \"v\", \"showlegend\": true, \"type\": \"histogram\", \"x\": [2.8, 2.2, 2.7, 2.4, 3.0, 2.6, 2.7, 2.9, 2.8, 2.7, 2.7, 3.0, 2.6, 2.8, 2.7, 3.0, 2.9, 2.3, 2.6, 2.2, 3.0, 2.5, 2.3, 3.0, 2.0, 2.5, 2.4, 2.9, 2.7, 2.8, 2.5, 2.5, 2.8, 2.2, 2.4, 2.3, 2.9, 2.8, 2.7, 2.8], \"xaxis\": \"x\", \"yaxis\": \"y\"}, {\"alignmentgroup\": \"True\", \"customdata\": [[5.8, 2.8, 5.1, 2.4, \"virginica\", \"Cluster 1\"], [6.0, 2.2, 5.0, 1.5, \"virginica\", \"Cluster 1\"], [5.6, 2.7, 4.2, 1.3, \"versicolor\", \"Cluster 1\"], [5.5, 2.4, 3.7, 1.0, \"versicolor\", \"Cluster 1\"], [5.7, 3.0, 4.2, 1.2, \"versicolor\", \"Cluster 1\"], [5.5, 2.6, 4.4, 1.2, \"versicolor\", \"Cluster 1\"], [6.0, 2.7, 5.1, 1.6, \"versicolor\", \"Cluster 1\"], [6.2, 2.9, 4.3, 1.3, \"versicolor\", \"Cluster 1\"], [5.6, 2.8, 4.9, 2.0, \"virginica\", \"Cluster 1\"], [5.8, 2.7, 5.1, 1.9, \"virginica\", \"Cluster 1\"], [5.2, 2.7, 3.9, 1.4, \"versicolor\", \"Cluster 1\"], [6.0, 3.0, 4.8, 1.8, \"virginica\", \"Cluster 1\"], [5.7, 2.6, 3.5, 1.0, \"versicolor\", \"Cluster 1\"], [6.2, 2.8, 4.8, 1.8, \"virginica\", \"Cluster 1\"], [5.8, 2.7, 5.1, 1.9, \"virginica\", \"Cluster 1\"], [5.6, 3.0, 4.5, 1.5, \"versicolor\", \"Cluster 1\"], [6.1, 2.9, 4.7, 1.4, \"versicolor\", \"Cluster 1\"], [6.3, 2.3, 4.4, 1.3, \"versicolor\", \"Cluster 1\"], [5.8, 2.6, 4.0, 1.2, \"versicolor\", \"Cluster 1\"], [6.0, 2.2, 4.0, 1.0, \"versicolor\", \"Cluster 1\"], [5.4, 3.0, 4.5, 1.5, \"versicolor\", \"Cluster 1\"], [5.7, 2.5, 5.0, 2.0, \"virginica\", \"Cluster 1\"], [5.5, 2.3, 4.0, 1.3, \"versicolor\", \"Cluster 1\"], [6.1, 3.0, 4.6, 1.4, \"versicolor\", \"Cluster 1\"], [5.0, 2.0, 3.5, 1.0, \"versicolor\", \"Cluster 1\"], [6.3, 2.5, 5.0, 1.9, \"virginica\", \"Cluster 1\"], [5.5, 2.4, 3.8, 1.1, \"versicolor\", \"Cluster 1\"], [5.7, 2.9, 4.2, 1.3, \"versicolor\", \"Cluster 1\"], [5.8, 2.7, 4.1, 1.0, \"versicolor\", \"Cluster 1\"], [5.7, 2.8, 4.1, 1.3, \"versicolor\", \"Cluster 1\"], [4.9, 2.5, 4.5, 1.7, \"virginica\", \"Cluster 1\"], [6.3, 2.5, 4.9, 1.5, \"versicolor\", \"Cluster 1\"], [6.1, 2.8, 4.7, 1.2, \"versicolor\", \"Cluster 1\"], [6.2, 2.2, 4.5, 1.5, \"versicolor\", \"Cluster 1\"], [4.9, 2.4, 3.3, 1.0, \"versicolor\", \"Cluster 1\"], [5.0, 2.3, 3.3, 1.0, \"versicolor\", \"Cluster 1\"], [5.6, 2.9, 3.6, 1.3, \"versicolor\", \"Cluster 1\"], [6.5, 2.8, 4.6, 1.5, \"versicolor\", \"Cluster 1\"], [6.3, 2.7, 4.9, 1.8, \"virginica\", \"Cluster 1\"], [5.7, 2.8, 4.5, 1.3, \"versicolor\", \"Cluster 1\"]], \"hovertemplate\": \"Cluster=%{customdata[5]}<br>sepal_width=%{customdata[1]}<br>sepal_length=%{customdata[0]}<br>petal_length=%{customdata[2]}<br>petal_width=%{customdata[3]}<br>species=%{customdata[4]}<extra></extra>\", \"legendgroup\": \"Cluster 1\", \"marker\": {\"color\": \"#EF553B\"}, \"name\": \"Cluster 1\", \"notched\": true, \"offsetgroup\": \"Cluster 1\", \"showlegend\": false, \"type\": \"box\", \"x\": [2.8, 2.2, 2.7, 2.4, 3.0, 2.6, 2.7, 2.9, 2.8, 2.7, 2.7, 3.0, 2.6, 2.8, 2.7, 3.0, 2.9, 2.3, 2.6, 2.2, 3.0, 2.5, 2.3, 3.0, 2.0, 2.5, 2.4, 2.9, 2.7, 2.8, 2.5, 2.5, 2.8, 2.2, 2.4, 2.3, 2.9, 2.8, 2.7, 2.8], \"xaxis\": \"x2\", \"yaxis\": \"y2\"}, {\"alignmentgroup\": \"True\", \"bingroup\": \"x\", \"hovertemplate\": \"Cluster=Cluster 2<br>sepal_width=%{x}<br>count=%{y}<extra></extra>\", \"legendgroup\": \"Cluster 2\", \"marker\": {\"color\": \"#00cc96\", \"opacity\": 0.7}, \"name\": \"Cluster 2\", \"offsetgroup\": \"Cluster 2\", \"orientation\": \"v\", \"showlegend\": true, \"type\": \"histogram\", \"x\": [2.5, 3.2, 3.0, 3.2, 2.9, 3.3, 3.2, 2.8, 3.0, 3.1, 3.2, 3.2, 3.8, 3.3, 3.4, 3.1, 3.6, 2.6, 3.1, 3.0, 2.9, 3.0, 3.0, 3.2, 3.0, 2.8, 3.0, 3.0, 3.0, 3.0, 3.4, 3.2, 3.1, 2.8, 3.0], \"xaxis\": \"x\", \"yaxis\": \"y\"}, {\"alignmentgroup\": \"True\", \"customdata\": [[6.7, 2.5, 5.8, 1.8, \"virginica\", \"Cluster 2\"], [7.0, 3.2, 4.7, 1.4, \"versicolor\", \"Cluster 2\"], [6.8, 3.0, 5.5, 2.1, \"virginica\", \"Cluster 2\"], [6.8, 3.2, 5.9, 2.3, \"virginica\", \"Cluster 2\"], [6.6, 2.9, 4.6, 1.3, \"versicolor\", \"Cluster 2\"], [6.7, 3.3, 5.7, 2.5, \"virginica\", \"Cluster 2\"], [6.4, 3.2, 4.5, 1.5, \"versicolor\", \"Cluster 2\"], [6.4, 2.8, 5.6, 2.1, \"virginica\", \"Cluster 2\"], [6.6, 3.0, 4.4, 1.4, \"versicolor\", \"Cluster 2\"], [6.9, 3.1, 5.4, 2.1, \"virginica\", \"Cluster 2\"], [5.9, 3.2, 4.8, 1.8, \"versicolor\", \"Cluster 2\"], [6.9, 3.2, 5.7, 2.3, \"virginica\", \"Cluster 2\"], [7.9, 3.8, 6.4, 2.0, \"virginica\", \"Cluster 2\"], [6.3, 3.3, 6.0, 2.5, \"virginica\", \"Cluster 2\"], [6.0, 3.4, 4.5, 1.6, \"versicolor\", \"Cluster 2\"], [6.9, 3.1, 5.1, 2.3, \"virginica\", \"Cluster 2\"], [7.2, 3.6, 6.1, 2.5, \"virginica\", \"Cluster 2\"], [7.7, 2.6, 6.9, 2.3, \"virginica\", \"Cluster 2\"], [6.7, 3.1, 4.4, 1.4, \"versicolor\", \"Cluster 2\"], [6.7, 3.0, 5.0, 1.7, \"versicolor\", \"Cluster 2\"], [7.3, 2.9, 6.3, 1.8, \"virginica\", \"Cluster 2\"], [7.1, 3.0, 5.9, 2.1, \"virginica\", \"Cluster 2\"], [6.7, 3.0, 5.2, 2.3, \"virginica\", \"Cluster 2\"], [6.5, 3.2, 5.1, 2.0, \"virginica\", \"Cluster 2\"], [7.6, 3.0, 6.6, 2.1, \"virginica\", \"Cluster 2\"], [6.8, 2.8, 4.8, 1.4, \"versicolor\", \"Cluster 2\"], [6.5, 3.0, 5.8, 2.2, \"virginica\", \"Cluster 2\"], [7.7, 3.0, 6.1, 2.3, \"virginica\", \"Cluster 2\"], [7.2, 3.0, 5.8, 1.6, \"virginica\", \"Cluster 2\"], [6.5, 3.0, 5.2, 2.0, \"virginica\", \"Cluster 2\"], [6.3, 3.4, 5.6, 2.4, \"virginica\", \"Cluster 2\"], [6.4, 3.2, 5.3, 2.3, \"virginica\", \"Cluster 2\"], [6.7, 3.1, 5.6, 2.4, \"virginica\", \"Cluster 2\"], [6.4, 2.8, 5.6, 2.2, \"virginica\", \"Cluster 2\"], [6.1, 3.0, 4.9, 1.8, \"virginica\", \"Cluster 2\"]], \"hovertemplate\": \"Cluster=%{customdata[5]}<br>sepal_width=%{customdata[1]}<br>sepal_length=%{customdata[0]}<br>petal_length=%{customdata[2]}<br>petal_width=%{customdata[3]}<br>species=%{customdata[4]}<extra></extra>\", \"legendgroup\": \"Cluster 2\", \"marker\": {\"color\": \"#00cc96\"}, \"name\": \"Cluster 2\", \"notched\": true, \"offsetgroup\": \"Cluster 2\", \"showlegend\": false, \"type\": \"box\", \"x\": [2.5, 3.2, 3.0, 3.2, 2.9, 3.3, 3.2, 2.8, 3.0, 3.1, 3.2, 3.2, 3.8, 3.3, 3.4, 3.1, 3.6, 2.6, 3.1, 3.0, 2.9, 3.0, 3.0, 3.2, 3.0, 2.8, 3.0, 3.0, 3.0, 3.0, 3.4, 3.2, 3.1, 2.8, 3.0], \"xaxis\": \"x2\", \"yaxis\": \"y2\"}],\n",
       "                        {\"barmode\": \"relative\", \"legend\": {\"title\": {\"text\": \"Cluster\"}, \"tracegroupgap\": 0}, \"margin\": {\"t\": 60}, \"template\": {\"data\": {\"bar\": [{\"error_x\": {\"color\": \"#2a3f5f\"}, \"error_y\": {\"color\": \"#2a3f5f\"}, \"marker\": {\"line\": {\"color\": \"#E5ECF6\", \"width\": 0.5}}, \"type\": \"bar\"}], \"barpolar\": [{\"marker\": {\"line\": {\"color\": \"#E5ECF6\", \"width\": 0.5}}, \"type\": \"barpolar\"}], \"carpet\": [{\"aaxis\": {\"endlinecolor\": \"#2a3f5f\", \"gridcolor\": \"white\", \"linecolor\": \"white\", \"minorgridcolor\": \"white\", \"startlinecolor\": \"#2a3f5f\"}, \"baxis\": {\"endlinecolor\": \"#2a3f5f\", \"gridcolor\": \"white\", \"linecolor\": \"white\", \"minorgridcolor\": \"white\", \"startlinecolor\": \"#2a3f5f\"}, \"type\": \"carpet\"}], \"choropleth\": [{\"colorbar\": {\"outlinewidth\": 0, \"ticks\": \"\"}, \"type\": \"choropleth\"}], \"contour\": [{\"colorbar\": {\"outlinewidth\": 0, \"ticks\": \"\"}, \"colorscale\": [[0.0, \"#0d0887\"], [0.1111111111111111, \"#46039f\"], [0.2222222222222222, \"#7201a8\"], [0.3333333333333333, \"#9c179e\"], [0.4444444444444444, \"#bd3786\"], [0.5555555555555556, \"#d8576b\"], [0.6666666666666666, \"#ed7953\"], [0.7777777777777778, \"#fb9f3a\"], [0.8888888888888888, \"#fdca26\"], [1.0, \"#f0f921\"]], \"type\": \"contour\"}], \"contourcarpet\": [{\"colorbar\": {\"outlinewidth\": 0, \"ticks\": \"\"}, \"type\": \"contourcarpet\"}], \"heatmap\": [{\"colorbar\": {\"outlinewidth\": 0, \"ticks\": \"\"}, \"colorscale\": [[0.0, \"#0d0887\"], [0.1111111111111111, \"#46039f\"], [0.2222222222222222, \"#7201a8\"], [0.3333333333333333, \"#9c179e\"], [0.4444444444444444, \"#bd3786\"], [0.5555555555555556, \"#d8576b\"], [0.6666666666666666, \"#ed7953\"], [0.7777777777777778, \"#fb9f3a\"], [0.8888888888888888, \"#fdca26\"], [1.0, \"#f0f921\"]], \"type\": \"heatmap\"}], \"heatmapgl\": [{\"colorbar\": {\"outlinewidth\": 0, \"ticks\": \"\"}, \"colorscale\": [[0.0, \"#0d0887\"], [0.1111111111111111, \"#46039f\"], [0.2222222222222222, \"#7201a8\"], [0.3333333333333333, \"#9c179e\"], [0.4444444444444444, \"#bd3786\"], [0.5555555555555556, \"#d8576b\"], [0.6666666666666666, \"#ed7953\"], [0.7777777777777778, \"#fb9f3a\"], [0.8888888888888888, \"#fdca26\"], [1.0, \"#f0f921\"]], \"type\": \"heatmapgl\"}], \"histogram\": [{\"marker\": {\"colorbar\": {\"outlinewidth\": 0, \"ticks\": \"\"}}, \"type\": \"histogram\"}], \"histogram2d\": [{\"colorbar\": {\"outlinewidth\": 0, \"ticks\": \"\"}, \"colorscale\": [[0.0, \"#0d0887\"], [0.1111111111111111, \"#46039f\"], [0.2222222222222222, \"#7201a8\"], [0.3333333333333333, \"#9c179e\"], [0.4444444444444444, \"#bd3786\"], [0.5555555555555556, \"#d8576b\"], [0.6666666666666666, \"#ed7953\"], [0.7777777777777778, \"#fb9f3a\"], [0.8888888888888888, \"#fdca26\"], [1.0, \"#f0f921\"]], \"type\": \"histogram2d\"}], \"histogram2dcontour\": [{\"colorbar\": {\"outlinewidth\": 0, \"ticks\": \"\"}, \"colorscale\": [[0.0, \"#0d0887\"], [0.1111111111111111, \"#46039f\"], [0.2222222222222222, \"#7201a8\"], [0.3333333333333333, \"#9c179e\"], [0.4444444444444444, \"#bd3786\"], [0.5555555555555556, \"#d8576b\"], [0.6666666666666666, \"#ed7953\"], [0.7777777777777778, \"#fb9f3a\"], [0.8888888888888888, \"#fdca26\"], [1.0, \"#f0f921\"]], \"type\": \"histogram2dcontour\"}], \"mesh3d\": [{\"colorbar\": {\"outlinewidth\": 0, \"ticks\": \"\"}, \"type\": \"mesh3d\"}], \"parcoords\": [{\"line\": {\"colorbar\": {\"outlinewidth\": 0, \"ticks\": \"\"}}, \"type\": \"parcoords\"}], \"pie\": [{\"automargin\": true, \"type\": \"pie\"}], \"scatter\": [{\"marker\": {\"colorbar\": {\"outlinewidth\": 0, \"ticks\": \"\"}}, \"type\": \"scatter\"}], \"scatter3d\": [{\"line\": {\"colorbar\": {\"outlinewidth\": 0, \"ticks\": \"\"}}, \"marker\": {\"colorbar\": {\"outlinewidth\": 0, \"ticks\": \"\"}}, \"type\": \"scatter3d\"}], \"scattercarpet\": [{\"marker\": {\"colorbar\": {\"outlinewidth\": 0, \"ticks\": \"\"}}, \"type\": \"scattercarpet\"}], \"scattergeo\": [{\"marker\": {\"colorbar\": {\"outlinewidth\": 0, \"ticks\": \"\"}}, \"type\": \"scattergeo\"}], \"scattergl\": [{\"marker\": {\"colorbar\": {\"outlinewidth\": 0, \"ticks\": \"\"}}, \"type\": \"scattergl\"}], \"scattermapbox\": [{\"marker\": {\"colorbar\": {\"outlinewidth\": 0, \"ticks\": \"\"}}, \"type\": \"scattermapbox\"}], \"scatterpolar\": [{\"marker\": {\"colorbar\": {\"outlinewidth\": 0, \"ticks\": \"\"}}, \"type\": \"scatterpolar\"}], \"scatterpolargl\": [{\"marker\": {\"colorbar\": {\"outlinewidth\": 0, \"ticks\": \"\"}}, \"type\": \"scatterpolargl\"}], \"scatterternary\": [{\"marker\": {\"colorbar\": {\"outlinewidth\": 0, \"ticks\": \"\"}}, \"type\": \"scatterternary\"}], \"surface\": [{\"colorbar\": {\"outlinewidth\": 0, \"ticks\": \"\"}, \"colorscale\": [[0.0, \"#0d0887\"], [0.1111111111111111, \"#46039f\"], [0.2222222222222222, \"#7201a8\"], [0.3333333333333333, \"#9c179e\"], [0.4444444444444444, \"#bd3786\"], [0.5555555555555556, \"#d8576b\"], [0.6666666666666666, \"#ed7953\"], [0.7777777777777778, \"#fb9f3a\"], [0.8888888888888888, \"#fdca26\"], [1.0, \"#f0f921\"]], \"type\": \"surface\"}], \"table\": [{\"cells\": {\"fill\": {\"color\": \"#EBF0F8\"}, \"line\": {\"color\": \"white\"}}, \"header\": {\"fill\": {\"color\": \"#C8D4E3\"}, \"line\": {\"color\": \"white\"}}, \"type\": \"table\"}]}, \"layout\": {\"annotationdefaults\": {\"arrowcolor\": \"#2a3f5f\", \"arrowhead\": 0, \"arrowwidth\": 1}, \"coloraxis\": {\"colorbar\": {\"outlinewidth\": 0, \"ticks\": \"\"}}, \"colorscale\": {\"diverging\": [[0, \"#8e0152\"], [0.1, \"#c51b7d\"], [0.2, \"#de77ae\"], [0.3, \"#f1b6da\"], [0.4, \"#fde0ef\"], [0.5, \"#f7f7f7\"], [0.6, \"#e6f5d0\"], [0.7, \"#b8e186\"], [0.8, \"#7fbc41\"], [0.9, \"#4d9221\"], [1, \"#276419\"]], \"sequential\": [[0.0, \"#0d0887\"], [0.1111111111111111, \"#46039f\"], [0.2222222222222222, \"#7201a8\"], [0.3333333333333333, \"#9c179e\"], [0.4444444444444444, \"#bd3786\"], [0.5555555555555556, \"#d8576b\"], [0.6666666666666666, \"#ed7953\"], [0.7777777777777778, \"#fb9f3a\"], [0.8888888888888888, \"#fdca26\"], [1.0, \"#f0f921\"]], \"sequentialminus\": [[0.0, \"#0d0887\"], [0.1111111111111111, \"#46039f\"], [0.2222222222222222, \"#7201a8\"], [0.3333333333333333, \"#9c179e\"], [0.4444444444444444, \"#bd3786\"], [0.5555555555555556, \"#d8576b\"], [0.6666666666666666, \"#ed7953\"], [0.7777777777777778, \"#fb9f3a\"], [0.8888888888888888, \"#fdca26\"], [1.0, \"#f0f921\"]]}, \"colorway\": [\"#636efa\", \"#EF553B\", \"#00cc96\", \"#ab63fa\", \"#FFA15A\", \"#19d3f3\", \"#FF6692\", \"#B6E880\", \"#FF97FF\", \"#FECB52\"], \"font\": {\"color\": \"#2a3f5f\"}, \"geo\": {\"bgcolor\": \"white\", \"lakecolor\": \"white\", \"landcolor\": \"#E5ECF6\", \"showlakes\": true, \"showland\": true, \"subunitcolor\": \"white\"}, \"hoverlabel\": {\"align\": \"left\"}, \"hovermode\": \"closest\", \"mapbox\": {\"style\": \"light\"}, \"paper_bgcolor\": \"white\", \"plot_bgcolor\": \"#E5ECF6\", \"polar\": {\"angularaxis\": {\"gridcolor\": \"white\", \"linecolor\": \"white\", \"ticks\": \"\"}, \"bgcolor\": \"#E5ECF6\", \"radialaxis\": {\"gridcolor\": \"white\", \"linecolor\": \"white\", \"ticks\": \"\"}}, \"scene\": {\"xaxis\": {\"backgroundcolor\": \"#E5ECF6\", \"gridcolor\": \"white\", \"gridwidth\": 2, \"linecolor\": \"white\", \"showbackground\": true, \"ticks\": \"\", \"zerolinecolor\": \"white\"}, \"yaxis\": {\"backgroundcolor\": \"#E5ECF6\", \"gridcolor\": \"white\", \"gridwidth\": 2, \"linecolor\": \"white\", \"showbackground\": true, \"ticks\": \"\", \"zerolinecolor\": \"white\"}, \"zaxis\": {\"backgroundcolor\": \"#E5ECF6\", \"gridcolor\": \"white\", \"gridwidth\": 2, \"linecolor\": \"white\", \"showbackground\": true, \"ticks\": \"\", \"zerolinecolor\": \"white\"}}, \"shapedefaults\": {\"line\": {\"color\": \"#2a3f5f\"}}, \"ternary\": {\"aaxis\": {\"gridcolor\": \"white\", \"linecolor\": \"white\", \"ticks\": \"\"}, \"baxis\": {\"gridcolor\": \"white\", \"linecolor\": \"white\", \"ticks\": \"\"}, \"bgcolor\": \"#E5ECF6\", \"caxis\": {\"gridcolor\": \"white\", \"linecolor\": \"white\", \"ticks\": \"\"}}, \"title\": {\"x\": 0.05}, \"xaxis\": {\"automargin\": true, \"gridcolor\": \"white\", \"linecolor\": \"white\", \"ticks\": \"\", \"title\": {\"standoff\": 15}, \"zerolinecolor\": \"white\", \"zerolinewidth\": 2}, \"yaxis\": {\"automargin\": true, \"gridcolor\": \"white\", \"linecolor\": \"white\", \"ticks\": \"\", \"title\": {\"standoff\": 15}, \"zerolinecolor\": \"white\", \"zerolinewidth\": 2}}}, \"xaxis\": {\"anchor\": \"y\", \"domain\": [0.0, 1.0], \"title\": {\"text\": \"sepal_width\"}}, \"xaxis2\": {\"anchor\": \"y2\", \"domain\": [0.0, 1.0], \"matches\": \"x\", \"showgrid\": true, \"showticklabels\": false}, \"yaxis\": {\"anchor\": \"x\", \"domain\": [0.0, 0.7326], \"title\": {\"text\": \"count\"}}, \"yaxis2\": {\"anchor\": \"x2\", \"domain\": [0.7426, 1.0], \"matches\": \"y2\", \"showgrid\": false, \"showline\": false, \"showticklabels\": false, \"ticks\": \"\"}},\n",
       "                        {\"responsive\": true}\n",
       "                    ).then(function(){\n",
       "                            \n",
       "var gd = document.getElementById('5ffacd0b-ebb8-4c02-91cf-0971a9c504d6');\n",
       "var x = new MutationObserver(function (mutations, observer) {{\n",
       "        var display = window.getComputedStyle(gd).display;\n",
       "        if (!display || display === 'none') {{\n",
       "            console.log([gd, 'removed!']);\n",
       "            Plotly.purge(gd);\n",
       "            observer.disconnect();\n",
       "        }}\n",
       "}});\n",
       "\n",
       "// Listen for the removal of the full notebook cells\n",
       "var notebookContainer = gd.closest('#notebook-container');\n",
       "if (notebookContainer) {{\n",
       "    x.observe(notebookContainer, {childList: true});\n",
       "}}\n",
       "\n",
       "// Listen for the clearing of the current output cell\n",
       "var outputEl = gd.closest('.output');\n",
       "if (outputEl) {{\n",
       "    x.observe(outputEl, {childList: true});\n",
       "}}\n",
       "\n",
       "                        })\n",
       "                };\n",
       "                });\n",
       "            </script>\n",
       "        </div>"
      ]
     },
     "metadata": {},
     "output_type": "display_data"
    }
   ],
   "source": [
    "# plots\n",
    "clustering.plot_model(\n",
    "    model=clustering_model,\n",
    "    plot='distribution',\n",
    "    feature='sepal_width'\n",
    ")"
   ]
  },
  {
   "cell_type": "code",
   "execution_count": 46,
   "metadata": {},
   "outputs": [
    {
     "data": {
      "text/html": [
       "        <script type=\"text/javascript\">\n",
       "        window.PlotlyConfig = {MathJaxConfig: 'local'};\n",
       "        if (window.MathJax) {MathJax.Hub.Config({SVG: {font: \"STIX-Web\"}});}\n",
       "        if (typeof require !== 'undefined') {\n",
       "        require.undef(\"plotly\");\n",
       "        requirejs.config({\n",
       "            paths: {\n",
       "                'plotly': ['https://cdn.plot.ly/plotly-latest.min']\n",
       "            }\n",
       "        });\n",
       "        require(['plotly'], function(Plotly) {\n",
       "            window._Plotly = Plotly;\n",
       "        });\n",
       "        }\n",
       "        </script>\n",
       "        "
      ]
     },
     "metadata": {},
     "output_type": "display_data"
    },
    {
     "data": {
      "application/vnd.plotly.v1+json": {
       "config": {
        "plotlyServerURL": "https://plot.ly"
       },
       "data": [
        {
         "alignmentgroup": "True",
         "bingroup": "x",
         "hovertemplate": "Cluster=Cluster 0<br>species=%{x}<br>count=%{y}<extra></extra>",
         "legendgroup": "Cluster 0",
         "marker": {
          "color": "#636efa",
          "opacity": 0.7
         },
         "name": "Cluster 0",
         "offsetgroup": "Cluster 0",
         "orientation": "v",
         "showlegend": true,
         "type": "histogram",
         "x": [
          "setosa",
          "setosa",
          "setosa",
          "setosa",
          "setosa",
          "setosa",
          "setosa",
          "setosa",
          "setosa",
          "setosa",
          "setosa",
          "setosa",
          "setosa",
          "setosa",
          "setosa",
          "setosa",
          "setosa",
          "setosa",
          "setosa",
          "setosa",
          "setosa",
          "setosa",
          "setosa",
          "setosa",
          "setosa",
          "setosa",
          "setosa",
          "setosa",
          "setosa",
          "setosa"
         ],
         "xaxis": "x",
         "yaxis": "y"
        },
        {
         "alignmentgroup": "True",
         "customdata": [
          [
           5.1,
           3.8,
           1.6,
           0.2,
           "setosa",
           "Cluster 0"
          ],
          [
           5,
           3.6,
           1.4,
           0.2,
           "setosa",
           "Cluster 0"
          ],
          [
           4.6,
           3.1,
           1.5,
           0.2,
           "setosa",
           "Cluster 0"
          ],
          [
           5,
           3.2,
           1.2,
           0.2,
           "setosa",
           "Cluster 0"
          ],
          [
           5,
           3,
           1.6,
           0.2,
           "setosa",
           "Cluster 0"
          ],
          [
           5.5,
           4.2,
           1.4,
           0.2,
           "setosa",
           "Cluster 0"
          ],
          [
           5,
           3.4,
           1.5,
           0.2,
           "setosa",
           "Cluster 0"
          ],
          [
           5.4,
           3.4,
           1.5,
           0.4,
           "setosa",
           "Cluster 0"
          ],
          [
           4.8,
           3.1,
           1.6,
           0.2,
           "setosa",
           "Cluster 0"
          ],
          [
           4.8,
           3.4,
           1.9,
           0.2,
           "setosa",
           "Cluster 0"
          ],
          [
           4.4,
           3,
           1.3,
           0.2,
           "setosa",
           "Cluster 0"
          ],
          [
           5,
           3.4,
           1.6,
           0.4,
           "setosa",
           "Cluster 0"
          ],
          [
           4.5,
           2.3,
           1.3,
           0.3,
           "setosa",
           "Cluster 0"
          ],
          [
           5.7,
           3.8,
           1.7,
           0.3,
           "setosa",
           "Cluster 0"
          ],
          [
           4.8,
           3,
           1.4,
           0.3,
           "setosa",
           "Cluster 0"
          ],
          [
           4.9,
           3.1,
           1.5,
           0.1,
           "setosa",
           "Cluster 0"
          ],
          [
           4.8,
           3,
           1.4,
           0.1,
           "setosa",
           "Cluster 0"
          ],
          [
           5.2,
           3.5,
           1.5,
           0.2,
           "setosa",
           "Cluster 0"
          ],
          [
           5.4,
           3.4,
           1.7,
           0.2,
           "setosa",
           "Cluster 0"
          ],
          [
           4.3,
           3,
           1.1,
           0.1,
           "setosa",
           "Cluster 0"
          ],
          [
           5.1,
           3.5,
           1.4,
           0.2,
           "setosa",
           "Cluster 0"
          ],
          [
           4.4,
           2.9,
           1.4,
           0.2,
           "setosa",
           "Cluster 0"
          ],
          [
           4.7,
           3.2,
           1.6,
           0.2,
           "setosa",
           "Cluster 0"
          ],
          [
           5.1,
           3.7,
           1.5,
           0.4,
           "setosa",
           "Cluster 0"
          ],
          [
           4.9,
           3,
           1.4,
           0.2,
           "setosa",
           "Cluster 0"
          ],
          [
           5.7,
           4.4,
           1.5,
           0.4,
           "setosa",
           "Cluster 0"
          ],
          [
           5.2,
           3.4,
           1.4,
           0.2,
           "setosa",
           "Cluster 0"
          ],
          [
           5.4,
           3.9,
           1.3,
           0.4,
           "setosa",
           "Cluster 0"
          ],
          [
           5.2,
           4.1,
           1.5,
           0.1,
           "setosa",
           "Cluster 0"
          ],
          [
           5.8,
           4,
           1.2,
           0.2,
           "setosa",
           "Cluster 0"
          ]
         ],
         "hovertemplate": "Cluster=%{customdata[5]}<br>species=%{customdata[4]}<br>sepal_length=%{customdata[0]}<br>sepal_width=%{customdata[1]}<br>petal_length=%{customdata[2]}<br>petal_width=%{customdata[3]}<extra></extra>",
         "legendgroup": "Cluster 0",
         "marker": {
          "color": "#636efa"
         },
         "name": "Cluster 0",
         "notched": true,
         "offsetgroup": "Cluster 0",
         "showlegend": false,
         "type": "box",
         "x": [
          "setosa",
          "setosa",
          "setosa",
          "setosa",
          "setosa",
          "setosa",
          "setosa",
          "setosa",
          "setosa",
          "setosa",
          "setosa",
          "setosa",
          "setosa",
          "setosa",
          "setosa",
          "setosa",
          "setosa",
          "setosa",
          "setosa",
          "setosa",
          "setosa",
          "setosa",
          "setosa",
          "setosa",
          "setosa",
          "setosa",
          "setosa",
          "setosa",
          "setosa",
          "setosa"
         ],
         "xaxis": "x2",
         "yaxis": "y2"
        },
        {
         "alignmentgroup": "True",
         "bingroup": "x",
         "hovertemplate": "Cluster=Cluster 1<br>species=%{x}<br>count=%{y}<extra></extra>",
         "legendgroup": "Cluster 1",
         "marker": {
          "color": "#EF553B",
          "opacity": 0.7
         },
         "name": "Cluster 1",
         "offsetgroup": "Cluster 1",
         "orientation": "v",
         "showlegend": true,
         "type": "histogram",
         "x": [
          "virginica",
          "virginica",
          "versicolor",
          "versicolor",
          "versicolor",
          "versicolor",
          "versicolor",
          "versicolor",
          "virginica",
          "virginica",
          "versicolor",
          "virginica",
          "versicolor",
          "virginica",
          "virginica",
          "versicolor",
          "versicolor",
          "versicolor",
          "versicolor",
          "versicolor",
          "versicolor",
          "virginica",
          "versicolor",
          "versicolor",
          "versicolor",
          "virginica",
          "versicolor",
          "versicolor",
          "versicolor",
          "versicolor",
          "virginica",
          "versicolor",
          "versicolor",
          "versicolor",
          "versicolor",
          "versicolor",
          "versicolor",
          "versicolor",
          "virginica",
          "versicolor"
         ],
         "xaxis": "x",
         "yaxis": "y"
        },
        {
         "alignmentgroup": "True",
         "customdata": [
          [
           5.8,
           2.8,
           5.1,
           2.4,
           "virginica",
           "Cluster 1"
          ],
          [
           6,
           2.2,
           5,
           1.5,
           "virginica",
           "Cluster 1"
          ],
          [
           5.6,
           2.7,
           4.2,
           1.3,
           "versicolor",
           "Cluster 1"
          ],
          [
           5.5,
           2.4,
           3.7,
           1,
           "versicolor",
           "Cluster 1"
          ],
          [
           5.7,
           3,
           4.2,
           1.2,
           "versicolor",
           "Cluster 1"
          ],
          [
           5.5,
           2.6,
           4.4,
           1.2,
           "versicolor",
           "Cluster 1"
          ],
          [
           6,
           2.7,
           5.1,
           1.6,
           "versicolor",
           "Cluster 1"
          ],
          [
           6.2,
           2.9,
           4.3,
           1.3,
           "versicolor",
           "Cluster 1"
          ],
          [
           5.6,
           2.8,
           4.9,
           2,
           "virginica",
           "Cluster 1"
          ],
          [
           5.8,
           2.7,
           5.1,
           1.9,
           "virginica",
           "Cluster 1"
          ],
          [
           5.2,
           2.7,
           3.9,
           1.4,
           "versicolor",
           "Cluster 1"
          ],
          [
           6,
           3,
           4.8,
           1.8,
           "virginica",
           "Cluster 1"
          ],
          [
           5.7,
           2.6,
           3.5,
           1,
           "versicolor",
           "Cluster 1"
          ],
          [
           6.2,
           2.8,
           4.8,
           1.8,
           "virginica",
           "Cluster 1"
          ],
          [
           5.8,
           2.7,
           5.1,
           1.9,
           "virginica",
           "Cluster 1"
          ],
          [
           5.6,
           3,
           4.5,
           1.5,
           "versicolor",
           "Cluster 1"
          ],
          [
           6.1,
           2.9,
           4.7,
           1.4,
           "versicolor",
           "Cluster 1"
          ],
          [
           6.3,
           2.3,
           4.4,
           1.3,
           "versicolor",
           "Cluster 1"
          ],
          [
           5.8,
           2.6,
           4,
           1.2,
           "versicolor",
           "Cluster 1"
          ],
          [
           6,
           2.2,
           4,
           1,
           "versicolor",
           "Cluster 1"
          ],
          [
           5.4,
           3,
           4.5,
           1.5,
           "versicolor",
           "Cluster 1"
          ],
          [
           5.7,
           2.5,
           5,
           2,
           "virginica",
           "Cluster 1"
          ],
          [
           5.5,
           2.3,
           4,
           1.3,
           "versicolor",
           "Cluster 1"
          ],
          [
           6.1,
           3,
           4.6,
           1.4,
           "versicolor",
           "Cluster 1"
          ],
          [
           5,
           2,
           3.5,
           1,
           "versicolor",
           "Cluster 1"
          ],
          [
           6.3,
           2.5,
           5,
           1.9,
           "virginica",
           "Cluster 1"
          ],
          [
           5.5,
           2.4,
           3.8,
           1.1,
           "versicolor",
           "Cluster 1"
          ],
          [
           5.7,
           2.9,
           4.2,
           1.3,
           "versicolor",
           "Cluster 1"
          ],
          [
           5.8,
           2.7,
           4.1,
           1,
           "versicolor",
           "Cluster 1"
          ],
          [
           5.7,
           2.8,
           4.1,
           1.3,
           "versicolor",
           "Cluster 1"
          ],
          [
           4.9,
           2.5,
           4.5,
           1.7,
           "virginica",
           "Cluster 1"
          ],
          [
           6.3,
           2.5,
           4.9,
           1.5,
           "versicolor",
           "Cluster 1"
          ],
          [
           6.1,
           2.8,
           4.7,
           1.2,
           "versicolor",
           "Cluster 1"
          ],
          [
           6.2,
           2.2,
           4.5,
           1.5,
           "versicolor",
           "Cluster 1"
          ],
          [
           4.9,
           2.4,
           3.3,
           1,
           "versicolor",
           "Cluster 1"
          ],
          [
           5,
           2.3,
           3.3,
           1,
           "versicolor",
           "Cluster 1"
          ],
          [
           5.6,
           2.9,
           3.6,
           1.3,
           "versicolor",
           "Cluster 1"
          ],
          [
           6.5,
           2.8,
           4.6,
           1.5,
           "versicolor",
           "Cluster 1"
          ],
          [
           6.3,
           2.7,
           4.9,
           1.8,
           "virginica",
           "Cluster 1"
          ],
          [
           5.7,
           2.8,
           4.5,
           1.3,
           "versicolor",
           "Cluster 1"
          ]
         ],
         "hovertemplate": "Cluster=%{customdata[5]}<br>species=%{customdata[4]}<br>sepal_length=%{customdata[0]}<br>sepal_width=%{customdata[1]}<br>petal_length=%{customdata[2]}<br>petal_width=%{customdata[3]}<extra></extra>",
         "legendgroup": "Cluster 1",
         "marker": {
          "color": "#EF553B"
         },
         "name": "Cluster 1",
         "notched": true,
         "offsetgroup": "Cluster 1",
         "showlegend": false,
         "type": "box",
         "x": [
          "virginica",
          "virginica",
          "versicolor",
          "versicolor",
          "versicolor",
          "versicolor",
          "versicolor",
          "versicolor",
          "virginica",
          "virginica",
          "versicolor",
          "virginica",
          "versicolor",
          "virginica",
          "virginica",
          "versicolor",
          "versicolor",
          "versicolor",
          "versicolor",
          "versicolor",
          "versicolor",
          "virginica",
          "versicolor",
          "versicolor",
          "versicolor",
          "virginica",
          "versicolor",
          "versicolor",
          "versicolor",
          "versicolor",
          "virginica",
          "versicolor",
          "versicolor",
          "versicolor",
          "versicolor",
          "versicolor",
          "versicolor",
          "versicolor",
          "virginica",
          "versicolor"
         ],
         "xaxis": "x2",
         "yaxis": "y2"
        },
        {
         "alignmentgroup": "True",
         "bingroup": "x",
         "hovertemplate": "Cluster=Cluster 2<br>species=%{x}<br>count=%{y}<extra></extra>",
         "legendgroup": "Cluster 2",
         "marker": {
          "color": "#00cc96",
          "opacity": 0.7
         },
         "name": "Cluster 2",
         "offsetgroup": "Cluster 2",
         "orientation": "v",
         "showlegend": true,
         "type": "histogram",
         "x": [
          "virginica",
          "versicolor",
          "virginica",
          "virginica",
          "versicolor",
          "virginica",
          "versicolor",
          "virginica",
          "versicolor",
          "virginica",
          "versicolor",
          "virginica",
          "virginica",
          "virginica",
          "versicolor",
          "virginica",
          "virginica",
          "virginica",
          "versicolor",
          "versicolor",
          "virginica",
          "virginica",
          "virginica",
          "virginica",
          "virginica",
          "versicolor",
          "virginica",
          "virginica",
          "virginica",
          "virginica",
          "virginica",
          "virginica",
          "virginica",
          "virginica",
          "virginica"
         ],
         "xaxis": "x",
         "yaxis": "y"
        },
        {
         "alignmentgroup": "True",
         "customdata": [
          [
           6.7,
           2.5,
           5.8,
           1.8,
           "virginica",
           "Cluster 2"
          ],
          [
           7,
           3.2,
           4.7,
           1.4,
           "versicolor",
           "Cluster 2"
          ],
          [
           6.8,
           3,
           5.5,
           2.1,
           "virginica",
           "Cluster 2"
          ],
          [
           6.8,
           3.2,
           5.9,
           2.3,
           "virginica",
           "Cluster 2"
          ],
          [
           6.6,
           2.9,
           4.6,
           1.3,
           "versicolor",
           "Cluster 2"
          ],
          [
           6.7,
           3.3,
           5.7,
           2.5,
           "virginica",
           "Cluster 2"
          ],
          [
           6.4,
           3.2,
           4.5,
           1.5,
           "versicolor",
           "Cluster 2"
          ],
          [
           6.4,
           2.8,
           5.6,
           2.1,
           "virginica",
           "Cluster 2"
          ],
          [
           6.6,
           3,
           4.4,
           1.4,
           "versicolor",
           "Cluster 2"
          ],
          [
           6.9,
           3.1,
           5.4,
           2.1,
           "virginica",
           "Cluster 2"
          ],
          [
           5.9,
           3.2,
           4.8,
           1.8,
           "versicolor",
           "Cluster 2"
          ],
          [
           6.9,
           3.2,
           5.7,
           2.3,
           "virginica",
           "Cluster 2"
          ],
          [
           7.9,
           3.8,
           6.4,
           2,
           "virginica",
           "Cluster 2"
          ],
          [
           6.3,
           3.3,
           6,
           2.5,
           "virginica",
           "Cluster 2"
          ],
          [
           6,
           3.4,
           4.5,
           1.6,
           "versicolor",
           "Cluster 2"
          ],
          [
           6.9,
           3.1,
           5.1,
           2.3,
           "virginica",
           "Cluster 2"
          ],
          [
           7.2,
           3.6,
           6.1,
           2.5,
           "virginica",
           "Cluster 2"
          ],
          [
           7.7,
           2.6,
           6.9,
           2.3,
           "virginica",
           "Cluster 2"
          ],
          [
           6.7,
           3.1,
           4.4,
           1.4,
           "versicolor",
           "Cluster 2"
          ],
          [
           6.7,
           3,
           5,
           1.7,
           "versicolor",
           "Cluster 2"
          ],
          [
           7.3,
           2.9,
           6.3,
           1.8,
           "virginica",
           "Cluster 2"
          ],
          [
           7.1,
           3,
           5.9,
           2.1,
           "virginica",
           "Cluster 2"
          ],
          [
           6.7,
           3,
           5.2,
           2.3,
           "virginica",
           "Cluster 2"
          ],
          [
           6.5,
           3.2,
           5.1,
           2,
           "virginica",
           "Cluster 2"
          ],
          [
           7.6,
           3,
           6.6,
           2.1,
           "virginica",
           "Cluster 2"
          ],
          [
           6.8,
           2.8,
           4.8,
           1.4,
           "versicolor",
           "Cluster 2"
          ],
          [
           6.5,
           3,
           5.8,
           2.2,
           "virginica",
           "Cluster 2"
          ],
          [
           7.7,
           3,
           6.1,
           2.3,
           "virginica",
           "Cluster 2"
          ],
          [
           7.2,
           3,
           5.8,
           1.6,
           "virginica",
           "Cluster 2"
          ],
          [
           6.5,
           3,
           5.2,
           2,
           "virginica",
           "Cluster 2"
          ],
          [
           6.3,
           3.4,
           5.6,
           2.4,
           "virginica",
           "Cluster 2"
          ],
          [
           6.4,
           3.2,
           5.3,
           2.3,
           "virginica",
           "Cluster 2"
          ],
          [
           6.7,
           3.1,
           5.6,
           2.4,
           "virginica",
           "Cluster 2"
          ],
          [
           6.4,
           2.8,
           5.6,
           2.2,
           "virginica",
           "Cluster 2"
          ],
          [
           6.1,
           3,
           4.9,
           1.8,
           "virginica",
           "Cluster 2"
          ]
         ],
         "hovertemplate": "Cluster=%{customdata[5]}<br>species=%{customdata[4]}<br>sepal_length=%{customdata[0]}<br>sepal_width=%{customdata[1]}<br>petal_length=%{customdata[2]}<br>petal_width=%{customdata[3]}<extra></extra>",
         "legendgroup": "Cluster 2",
         "marker": {
          "color": "#00cc96"
         },
         "name": "Cluster 2",
         "notched": true,
         "offsetgroup": "Cluster 2",
         "showlegend": false,
         "type": "box",
         "x": [
          "virginica",
          "versicolor",
          "virginica",
          "virginica",
          "versicolor",
          "virginica",
          "versicolor",
          "virginica",
          "versicolor",
          "virginica",
          "versicolor",
          "virginica",
          "virginica",
          "virginica",
          "versicolor",
          "virginica",
          "virginica",
          "virginica",
          "versicolor",
          "versicolor",
          "virginica",
          "virginica",
          "virginica",
          "virginica",
          "virginica",
          "versicolor",
          "virginica",
          "virginica",
          "virginica",
          "virginica",
          "virginica",
          "virginica",
          "virginica",
          "virginica",
          "virginica"
         ],
         "xaxis": "x2",
         "yaxis": "y2"
        }
       ],
       "layout": {
        "barmode": "relative",
        "legend": {
         "title": {
          "text": "Cluster"
         },
         "tracegroupgap": 0
        },
        "margin": {
         "t": 60
        },
        "template": {
         "data": {
          "bar": [
           {
            "error_x": {
             "color": "#2a3f5f"
            },
            "error_y": {
             "color": "#2a3f5f"
            },
            "marker": {
             "line": {
              "color": "#E5ECF6",
              "width": 0.5
             }
            },
            "type": "bar"
           }
          ],
          "barpolar": [
           {
            "marker": {
             "line": {
              "color": "#E5ECF6",
              "width": 0.5
             }
            },
            "type": "barpolar"
           }
          ],
          "carpet": [
           {
            "aaxis": {
             "endlinecolor": "#2a3f5f",
             "gridcolor": "white",
             "linecolor": "white",
             "minorgridcolor": "white",
             "startlinecolor": "#2a3f5f"
            },
            "baxis": {
             "endlinecolor": "#2a3f5f",
             "gridcolor": "white",
             "linecolor": "white",
             "minorgridcolor": "white",
             "startlinecolor": "#2a3f5f"
            },
            "type": "carpet"
           }
          ],
          "choropleth": [
           {
            "colorbar": {
             "outlinewidth": 0,
             "ticks": ""
            },
            "type": "choropleth"
           }
          ],
          "contour": [
           {
            "colorbar": {
             "outlinewidth": 0,
             "ticks": ""
            },
            "colorscale": [
             [
              0,
              "#0d0887"
             ],
             [
              0.1111111111111111,
              "#46039f"
             ],
             [
              0.2222222222222222,
              "#7201a8"
             ],
             [
              0.3333333333333333,
              "#9c179e"
             ],
             [
              0.4444444444444444,
              "#bd3786"
             ],
             [
              0.5555555555555556,
              "#d8576b"
             ],
             [
              0.6666666666666666,
              "#ed7953"
             ],
             [
              0.7777777777777778,
              "#fb9f3a"
             ],
             [
              0.8888888888888888,
              "#fdca26"
             ],
             [
              1,
              "#f0f921"
             ]
            ],
            "type": "contour"
           }
          ],
          "contourcarpet": [
           {
            "colorbar": {
             "outlinewidth": 0,
             "ticks": ""
            },
            "type": "contourcarpet"
           }
          ],
          "heatmap": [
           {
            "colorbar": {
             "outlinewidth": 0,
             "ticks": ""
            },
            "colorscale": [
             [
              0,
              "#0d0887"
             ],
             [
              0.1111111111111111,
              "#46039f"
             ],
             [
              0.2222222222222222,
              "#7201a8"
             ],
             [
              0.3333333333333333,
              "#9c179e"
             ],
             [
              0.4444444444444444,
              "#bd3786"
             ],
             [
              0.5555555555555556,
              "#d8576b"
             ],
             [
              0.6666666666666666,
              "#ed7953"
             ],
             [
              0.7777777777777778,
              "#fb9f3a"
             ],
             [
              0.8888888888888888,
              "#fdca26"
             ],
             [
              1,
              "#f0f921"
             ]
            ],
            "type": "heatmap"
           }
          ],
          "heatmapgl": [
           {
            "colorbar": {
             "outlinewidth": 0,
             "ticks": ""
            },
            "colorscale": [
             [
              0,
              "#0d0887"
             ],
             [
              0.1111111111111111,
              "#46039f"
             ],
             [
              0.2222222222222222,
              "#7201a8"
             ],
             [
              0.3333333333333333,
              "#9c179e"
             ],
             [
              0.4444444444444444,
              "#bd3786"
             ],
             [
              0.5555555555555556,
              "#d8576b"
             ],
             [
              0.6666666666666666,
              "#ed7953"
             ],
             [
              0.7777777777777778,
              "#fb9f3a"
             ],
             [
              0.8888888888888888,
              "#fdca26"
             ],
             [
              1,
              "#f0f921"
             ]
            ],
            "type": "heatmapgl"
           }
          ],
          "histogram": [
           {
            "marker": {
             "colorbar": {
              "outlinewidth": 0,
              "ticks": ""
             }
            },
            "type": "histogram"
           }
          ],
          "histogram2d": [
           {
            "colorbar": {
             "outlinewidth": 0,
             "ticks": ""
            },
            "colorscale": [
             [
              0,
              "#0d0887"
             ],
             [
              0.1111111111111111,
              "#46039f"
             ],
             [
              0.2222222222222222,
              "#7201a8"
             ],
             [
              0.3333333333333333,
              "#9c179e"
             ],
             [
              0.4444444444444444,
              "#bd3786"
             ],
             [
              0.5555555555555556,
              "#d8576b"
             ],
             [
              0.6666666666666666,
              "#ed7953"
             ],
             [
              0.7777777777777778,
              "#fb9f3a"
             ],
             [
              0.8888888888888888,
              "#fdca26"
             ],
             [
              1,
              "#f0f921"
             ]
            ],
            "type": "histogram2d"
           }
          ],
          "histogram2dcontour": [
           {
            "colorbar": {
             "outlinewidth": 0,
             "ticks": ""
            },
            "colorscale": [
             [
              0,
              "#0d0887"
             ],
             [
              0.1111111111111111,
              "#46039f"
             ],
             [
              0.2222222222222222,
              "#7201a8"
             ],
             [
              0.3333333333333333,
              "#9c179e"
             ],
             [
              0.4444444444444444,
              "#bd3786"
             ],
             [
              0.5555555555555556,
              "#d8576b"
             ],
             [
              0.6666666666666666,
              "#ed7953"
             ],
             [
              0.7777777777777778,
              "#fb9f3a"
             ],
             [
              0.8888888888888888,
              "#fdca26"
             ],
             [
              1,
              "#f0f921"
             ]
            ],
            "type": "histogram2dcontour"
           }
          ],
          "mesh3d": [
           {
            "colorbar": {
             "outlinewidth": 0,
             "ticks": ""
            },
            "type": "mesh3d"
           }
          ],
          "parcoords": [
           {
            "line": {
             "colorbar": {
              "outlinewidth": 0,
              "ticks": ""
             }
            },
            "type": "parcoords"
           }
          ],
          "pie": [
           {
            "automargin": true,
            "type": "pie"
           }
          ],
          "scatter": [
           {
            "marker": {
             "colorbar": {
              "outlinewidth": 0,
              "ticks": ""
             }
            },
            "type": "scatter"
           }
          ],
          "scatter3d": [
           {
            "line": {
             "colorbar": {
              "outlinewidth": 0,
              "ticks": ""
             }
            },
            "marker": {
             "colorbar": {
              "outlinewidth": 0,
              "ticks": ""
             }
            },
            "type": "scatter3d"
           }
          ],
          "scattercarpet": [
           {
            "marker": {
             "colorbar": {
              "outlinewidth": 0,
              "ticks": ""
             }
            },
            "type": "scattercarpet"
           }
          ],
          "scattergeo": [
           {
            "marker": {
             "colorbar": {
              "outlinewidth": 0,
              "ticks": ""
             }
            },
            "type": "scattergeo"
           }
          ],
          "scattergl": [
           {
            "marker": {
             "colorbar": {
              "outlinewidth": 0,
              "ticks": ""
             }
            },
            "type": "scattergl"
           }
          ],
          "scattermapbox": [
           {
            "marker": {
             "colorbar": {
              "outlinewidth": 0,
              "ticks": ""
             }
            },
            "type": "scattermapbox"
           }
          ],
          "scatterpolar": [
           {
            "marker": {
             "colorbar": {
              "outlinewidth": 0,
              "ticks": ""
             }
            },
            "type": "scatterpolar"
           }
          ],
          "scatterpolargl": [
           {
            "marker": {
             "colorbar": {
              "outlinewidth": 0,
              "ticks": ""
             }
            },
            "type": "scatterpolargl"
           }
          ],
          "scatterternary": [
           {
            "marker": {
             "colorbar": {
              "outlinewidth": 0,
              "ticks": ""
             }
            },
            "type": "scatterternary"
           }
          ],
          "surface": [
           {
            "colorbar": {
             "outlinewidth": 0,
             "ticks": ""
            },
            "colorscale": [
             [
              0,
              "#0d0887"
             ],
             [
              0.1111111111111111,
              "#46039f"
             ],
             [
              0.2222222222222222,
              "#7201a8"
             ],
             [
              0.3333333333333333,
              "#9c179e"
             ],
             [
              0.4444444444444444,
              "#bd3786"
             ],
             [
              0.5555555555555556,
              "#d8576b"
             ],
             [
              0.6666666666666666,
              "#ed7953"
             ],
             [
              0.7777777777777778,
              "#fb9f3a"
             ],
             [
              0.8888888888888888,
              "#fdca26"
             ],
             [
              1,
              "#f0f921"
             ]
            ],
            "type": "surface"
           }
          ],
          "table": [
           {
            "cells": {
             "fill": {
              "color": "#EBF0F8"
             },
             "line": {
              "color": "white"
             }
            },
            "header": {
             "fill": {
              "color": "#C8D4E3"
             },
             "line": {
              "color": "white"
             }
            },
            "type": "table"
           }
          ]
         },
         "layout": {
          "annotationdefaults": {
           "arrowcolor": "#2a3f5f",
           "arrowhead": 0,
           "arrowwidth": 1
          },
          "coloraxis": {
           "colorbar": {
            "outlinewidth": 0,
            "ticks": ""
           }
          },
          "colorscale": {
           "diverging": [
            [
             0,
             "#8e0152"
            ],
            [
             0.1,
             "#c51b7d"
            ],
            [
             0.2,
             "#de77ae"
            ],
            [
             0.3,
             "#f1b6da"
            ],
            [
             0.4,
             "#fde0ef"
            ],
            [
             0.5,
             "#f7f7f7"
            ],
            [
             0.6,
             "#e6f5d0"
            ],
            [
             0.7,
             "#b8e186"
            ],
            [
             0.8,
             "#7fbc41"
            ],
            [
             0.9,
             "#4d9221"
            ],
            [
             1,
             "#276419"
            ]
           ],
           "sequential": [
            [
             0,
             "#0d0887"
            ],
            [
             0.1111111111111111,
             "#46039f"
            ],
            [
             0.2222222222222222,
             "#7201a8"
            ],
            [
             0.3333333333333333,
             "#9c179e"
            ],
            [
             0.4444444444444444,
             "#bd3786"
            ],
            [
             0.5555555555555556,
             "#d8576b"
            ],
            [
             0.6666666666666666,
             "#ed7953"
            ],
            [
             0.7777777777777778,
             "#fb9f3a"
            ],
            [
             0.8888888888888888,
             "#fdca26"
            ],
            [
             1,
             "#f0f921"
            ]
           ],
           "sequentialminus": [
            [
             0,
             "#0d0887"
            ],
            [
             0.1111111111111111,
             "#46039f"
            ],
            [
             0.2222222222222222,
             "#7201a8"
            ],
            [
             0.3333333333333333,
             "#9c179e"
            ],
            [
             0.4444444444444444,
             "#bd3786"
            ],
            [
             0.5555555555555556,
             "#d8576b"
            ],
            [
             0.6666666666666666,
             "#ed7953"
            ],
            [
             0.7777777777777778,
             "#fb9f3a"
            ],
            [
             0.8888888888888888,
             "#fdca26"
            ],
            [
             1,
             "#f0f921"
            ]
           ]
          },
          "colorway": [
           "#636efa",
           "#EF553B",
           "#00cc96",
           "#ab63fa",
           "#FFA15A",
           "#19d3f3",
           "#FF6692",
           "#B6E880",
           "#FF97FF",
           "#FECB52"
          ],
          "font": {
           "color": "#2a3f5f"
          },
          "geo": {
           "bgcolor": "white",
           "lakecolor": "white",
           "landcolor": "#E5ECF6",
           "showlakes": true,
           "showland": true,
           "subunitcolor": "white"
          },
          "hoverlabel": {
           "align": "left"
          },
          "hovermode": "closest",
          "mapbox": {
           "style": "light"
          },
          "paper_bgcolor": "white",
          "plot_bgcolor": "#E5ECF6",
          "polar": {
           "angularaxis": {
            "gridcolor": "white",
            "linecolor": "white",
            "ticks": ""
           },
           "bgcolor": "#E5ECF6",
           "radialaxis": {
            "gridcolor": "white",
            "linecolor": "white",
            "ticks": ""
           }
          },
          "scene": {
           "xaxis": {
            "backgroundcolor": "#E5ECF6",
            "gridcolor": "white",
            "gridwidth": 2,
            "linecolor": "white",
            "showbackground": true,
            "ticks": "",
            "zerolinecolor": "white"
           },
           "yaxis": {
            "backgroundcolor": "#E5ECF6",
            "gridcolor": "white",
            "gridwidth": 2,
            "linecolor": "white",
            "showbackground": true,
            "ticks": "",
            "zerolinecolor": "white"
           },
           "zaxis": {
            "backgroundcolor": "#E5ECF6",
            "gridcolor": "white",
            "gridwidth": 2,
            "linecolor": "white",
            "showbackground": true,
            "ticks": "",
            "zerolinecolor": "white"
           }
          },
          "shapedefaults": {
           "line": {
            "color": "#2a3f5f"
           }
          },
          "ternary": {
           "aaxis": {
            "gridcolor": "white",
            "linecolor": "white",
            "ticks": ""
           },
           "baxis": {
            "gridcolor": "white",
            "linecolor": "white",
            "ticks": ""
           },
           "bgcolor": "#E5ECF6",
           "caxis": {
            "gridcolor": "white",
            "linecolor": "white",
            "ticks": ""
           }
          },
          "title": {
           "x": 0.05
          },
          "xaxis": {
           "automargin": true,
           "gridcolor": "white",
           "linecolor": "white",
           "ticks": "",
           "title": {
            "standoff": 15
           },
           "zerolinecolor": "white",
           "zerolinewidth": 2
          },
          "yaxis": {
           "automargin": true,
           "gridcolor": "white",
           "linecolor": "white",
           "ticks": "",
           "title": {
            "standoff": 15
           },
           "zerolinecolor": "white",
           "zerolinewidth": 2
          }
         }
        },
        "xaxis": {
         "anchor": "y",
         "domain": [
          0,
          1
         ],
         "title": {
          "text": "species"
         }
        },
        "xaxis2": {
         "anchor": "y2",
         "domain": [
          0,
          1
         ],
         "matches": "x",
         "showgrid": true,
         "showticklabels": false
        },
        "yaxis": {
         "anchor": "x",
         "domain": [
          0,
          0.7326
         ],
         "title": {
          "text": "count"
         }
        },
        "yaxis2": {
         "anchor": "x2",
         "domain": [
          0.7426,
          1
         ],
         "matches": "y2",
         "showgrid": false,
         "showline": false,
         "showticklabels": false,
         "ticks": ""
        }
       }
      },
      "text/html": [
       "<div>\n",
       "        \n",
       "        \n",
       "            <div id=\"558dee20-f4fc-4a03-925f-1b6e696667da\" class=\"plotly-graph-div\" style=\"height:525px; width:100%;\"></div>\n",
       "            <script type=\"text/javascript\">\n",
       "                require([\"plotly\"], function(Plotly) {\n",
       "                    window.PLOTLYENV=window.PLOTLYENV || {};\n",
       "                    \n",
       "                if (document.getElementById(\"558dee20-f4fc-4a03-925f-1b6e696667da\")) {\n",
       "                    Plotly.newPlot(\n",
       "                        '558dee20-f4fc-4a03-925f-1b6e696667da',\n",
       "                        [{\"alignmentgroup\": \"True\", \"bingroup\": \"x\", \"hovertemplate\": \"Cluster=Cluster 0<br>species=%{x}<br>count=%{y}<extra></extra>\", \"legendgroup\": \"Cluster 0\", \"marker\": {\"color\": \"#636efa\", \"opacity\": 0.7}, \"name\": \"Cluster 0\", \"offsetgroup\": \"Cluster 0\", \"orientation\": \"v\", \"showlegend\": true, \"type\": \"histogram\", \"x\": [\"setosa\", \"setosa\", \"setosa\", \"setosa\", \"setosa\", \"setosa\", \"setosa\", \"setosa\", \"setosa\", \"setosa\", \"setosa\", \"setosa\", \"setosa\", \"setosa\", \"setosa\", \"setosa\", \"setosa\", \"setosa\", \"setosa\", \"setosa\", \"setosa\", \"setosa\", \"setosa\", \"setosa\", \"setosa\", \"setosa\", \"setosa\", \"setosa\", \"setosa\", \"setosa\"], \"xaxis\": \"x\", \"yaxis\": \"y\"}, {\"alignmentgroup\": \"True\", \"customdata\": [[5.1, 3.8, 1.6, 0.2, \"setosa\", \"Cluster 0\"], [5.0, 3.6, 1.4, 0.2, \"setosa\", \"Cluster 0\"], [4.6, 3.1, 1.5, 0.2, \"setosa\", \"Cluster 0\"], [5.0, 3.2, 1.2, 0.2, \"setosa\", \"Cluster 0\"], [5.0, 3.0, 1.6, 0.2, \"setosa\", \"Cluster 0\"], [5.5, 4.2, 1.4, 0.2, \"setosa\", \"Cluster 0\"], [5.0, 3.4, 1.5, 0.2, \"setosa\", \"Cluster 0\"], [5.4, 3.4, 1.5, 0.4, \"setosa\", \"Cluster 0\"], [4.8, 3.1, 1.6, 0.2, \"setosa\", \"Cluster 0\"], [4.8, 3.4, 1.9, 0.2, \"setosa\", \"Cluster 0\"], [4.4, 3.0, 1.3, 0.2, \"setosa\", \"Cluster 0\"], [5.0, 3.4, 1.6, 0.4, \"setosa\", \"Cluster 0\"], [4.5, 2.3, 1.3, 0.3, \"setosa\", \"Cluster 0\"], [5.7, 3.8, 1.7, 0.3, \"setosa\", \"Cluster 0\"], [4.8, 3.0, 1.4, 0.3, \"setosa\", \"Cluster 0\"], [4.9, 3.1, 1.5, 0.1, \"setosa\", \"Cluster 0\"], [4.8, 3.0, 1.4, 0.1, \"setosa\", \"Cluster 0\"], [5.2, 3.5, 1.5, 0.2, \"setosa\", \"Cluster 0\"], [5.4, 3.4, 1.7, 0.2, \"setosa\", \"Cluster 0\"], [4.3, 3.0, 1.1, 0.1, \"setosa\", \"Cluster 0\"], [5.1, 3.5, 1.4, 0.2, \"setosa\", \"Cluster 0\"], [4.4, 2.9, 1.4, 0.2, \"setosa\", \"Cluster 0\"], [4.7, 3.2, 1.6, 0.2, \"setosa\", \"Cluster 0\"], [5.1, 3.7, 1.5, 0.4, \"setosa\", \"Cluster 0\"], [4.9, 3.0, 1.4, 0.2, \"setosa\", \"Cluster 0\"], [5.7, 4.4, 1.5, 0.4, \"setosa\", \"Cluster 0\"], [5.2, 3.4, 1.4, 0.2, \"setosa\", \"Cluster 0\"], [5.4, 3.9, 1.3, 0.4, \"setosa\", \"Cluster 0\"], [5.2, 4.1, 1.5, 0.1, \"setosa\", \"Cluster 0\"], [5.8, 4.0, 1.2, 0.2, \"setosa\", \"Cluster 0\"]], \"hovertemplate\": \"Cluster=%{customdata[5]}<br>species=%{customdata[4]}<br>sepal_length=%{customdata[0]}<br>sepal_width=%{customdata[1]}<br>petal_length=%{customdata[2]}<br>petal_width=%{customdata[3]}<extra></extra>\", \"legendgroup\": \"Cluster 0\", \"marker\": {\"color\": \"#636efa\"}, \"name\": \"Cluster 0\", \"notched\": true, \"offsetgroup\": \"Cluster 0\", \"showlegend\": false, \"type\": \"box\", \"x\": [\"setosa\", \"setosa\", \"setosa\", \"setosa\", \"setosa\", \"setosa\", \"setosa\", \"setosa\", \"setosa\", \"setosa\", \"setosa\", \"setosa\", \"setosa\", \"setosa\", \"setosa\", \"setosa\", \"setosa\", \"setosa\", \"setosa\", \"setosa\", \"setosa\", \"setosa\", \"setosa\", \"setosa\", \"setosa\", \"setosa\", \"setosa\", \"setosa\", \"setosa\", \"setosa\"], \"xaxis\": \"x2\", \"yaxis\": \"y2\"}, {\"alignmentgroup\": \"True\", \"bingroup\": \"x\", \"hovertemplate\": \"Cluster=Cluster 1<br>species=%{x}<br>count=%{y}<extra></extra>\", \"legendgroup\": \"Cluster 1\", \"marker\": {\"color\": \"#EF553B\", \"opacity\": 0.7}, \"name\": \"Cluster 1\", \"offsetgroup\": \"Cluster 1\", \"orientation\": \"v\", \"showlegend\": true, \"type\": \"histogram\", \"x\": [\"virginica\", \"virginica\", \"versicolor\", \"versicolor\", \"versicolor\", \"versicolor\", \"versicolor\", \"versicolor\", \"virginica\", \"virginica\", \"versicolor\", \"virginica\", \"versicolor\", \"virginica\", \"virginica\", \"versicolor\", \"versicolor\", \"versicolor\", \"versicolor\", \"versicolor\", \"versicolor\", \"virginica\", \"versicolor\", \"versicolor\", \"versicolor\", \"virginica\", \"versicolor\", \"versicolor\", \"versicolor\", \"versicolor\", \"virginica\", \"versicolor\", \"versicolor\", \"versicolor\", \"versicolor\", \"versicolor\", \"versicolor\", \"versicolor\", \"virginica\", \"versicolor\"], \"xaxis\": \"x\", \"yaxis\": \"y\"}, {\"alignmentgroup\": \"True\", \"customdata\": [[5.8, 2.8, 5.1, 2.4, \"virginica\", \"Cluster 1\"], [6.0, 2.2, 5.0, 1.5, \"virginica\", \"Cluster 1\"], [5.6, 2.7, 4.2, 1.3, \"versicolor\", \"Cluster 1\"], [5.5, 2.4, 3.7, 1.0, \"versicolor\", \"Cluster 1\"], [5.7, 3.0, 4.2, 1.2, \"versicolor\", \"Cluster 1\"], [5.5, 2.6, 4.4, 1.2, \"versicolor\", \"Cluster 1\"], [6.0, 2.7, 5.1, 1.6, \"versicolor\", \"Cluster 1\"], [6.2, 2.9, 4.3, 1.3, \"versicolor\", \"Cluster 1\"], [5.6, 2.8, 4.9, 2.0, \"virginica\", \"Cluster 1\"], [5.8, 2.7, 5.1, 1.9, \"virginica\", \"Cluster 1\"], [5.2, 2.7, 3.9, 1.4, \"versicolor\", \"Cluster 1\"], [6.0, 3.0, 4.8, 1.8, \"virginica\", \"Cluster 1\"], [5.7, 2.6, 3.5, 1.0, \"versicolor\", \"Cluster 1\"], [6.2, 2.8, 4.8, 1.8, \"virginica\", \"Cluster 1\"], [5.8, 2.7, 5.1, 1.9, \"virginica\", \"Cluster 1\"], [5.6, 3.0, 4.5, 1.5, \"versicolor\", \"Cluster 1\"], [6.1, 2.9, 4.7, 1.4, \"versicolor\", \"Cluster 1\"], [6.3, 2.3, 4.4, 1.3, \"versicolor\", \"Cluster 1\"], [5.8, 2.6, 4.0, 1.2, \"versicolor\", \"Cluster 1\"], [6.0, 2.2, 4.0, 1.0, \"versicolor\", \"Cluster 1\"], [5.4, 3.0, 4.5, 1.5, \"versicolor\", \"Cluster 1\"], [5.7, 2.5, 5.0, 2.0, \"virginica\", \"Cluster 1\"], [5.5, 2.3, 4.0, 1.3, \"versicolor\", \"Cluster 1\"], [6.1, 3.0, 4.6, 1.4, \"versicolor\", \"Cluster 1\"], [5.0, 2.0, 3.5, 1.0, \"versicolor\", \"Cluster 1\"], [6.3, 2.5, 5.0, 1.9, \"virginica\", \"Cluster 1\"], [5.5, 2.4, 3.8, 1.1, \"versicolor\", \"Cluster 1\"], [5.7, 2.9, 4.2, 1.3, \"versicolor\", \"Cluster 1\"], [5.8, 2.7, 4.1, 1.0, \"versicolor\", \"Cluster 1\"], [5.7, 2.8, 4.1, 1.3, \"versicolor\", \"Cluster 1\"], [4.9, 2.5, 4.5, 1.7, \"virginica\", \"Cluster 1\"], [6.3, 2.5, 4.9, 1.5, \"versicolor\", \"Cluster 1\"], [6.1, 2.8, 4.7, 1.2, \"versicolor\", \"Cluster 1\"], [6.2, 2.2, 4.5, 1.5, \"versicolor\", \"Cluster 1\"], [4.9, 2.4, 3.3, 1.0, \"versicolor\", \"Cluster 1\"], [5.0, 2.3, 3.3, 1.0, \"versicolor\", \"Cluster 1\"], [5.6, 2.9, 3.6, 1.3, \"versicolor\", \"Cluster 1\"], [6.5, 2.8, 4.6, 1.5, \"versicolor\", \"Cluster 1\"], [6.3, 2.7, 4.9, 1.8, \"virginica\", \"Cluster 1\"], [5.7, 2.8, 4.5, 1.3, \"versicolor\", \"Cluster 1\"]], \"hovertemplate\": \"Cluster=%{customdata[5]}<br>species=%{customdata[4]}<br>sepal_length=%{customdata[0]}<br>sepal_width=%{customdata[1]}<br>petal_length=%{customdata[2]}<br>petal_width=%{customdata[3]}<extra></extra>\", \"legendgroup\": \"Cluster 1\", \"marker\": {\"color\": \"#EF553B\"}, \"name\": \"Cluster 1\", \"notched\": true, \"offsetgroup\": \"Cluster 1\", \"showlegend\": false, \"type\": \"box\", \"x\": [\"virginica\", \"virginica\", \"versicolor\", \"versicolor\", \"versicolor\", \"versicolor\", \"versicolor\", \"versicolor\", \"virginica\", \"virginica\", \"versicolor\", \"virginica\", \"versicolor\", \"virginica\", \"virginica\", \"versicolor\", \"versicolor\", \"versicolor\", \"versicolor\", \"versicolor\", \"versicolor\", \"virginica\", \"versicolor\", \"versicolor\", \"versicolor\", \"virginica\", \"versicolor\", \"versicolor\", \"versicolor\", \"versicolor\", \"virginica\", \"versicolor\", \"versicolor\", \"versicolor\", \"versicolor\", \"versicolor\", \"versicolor\", \"versicolor\", \"virginica\", \"versicolor\"], \"xaxis\": \"x2\", \"yaxis\": \"y2\"}, {\"alignmentgroup\": \"True\", \"bingroup\": \"x\", \"hovertemplate\": \"Cluster=Cluster 2<br>species=%{x}<br>count=%{y}<extra></extra>\", \"legendgroup\": \"Cluster 2\", \"marker\": {\"color\": \"#00cc96\", \"opacity\": 0.7}, \"name\": \"Cluster 2\", \"offsetgroup\": \"Cluster 2\", \"orientation\": \"v\", \"showlegend\": true, \"type\": \"histogram\", \"x\": [\"virginica\", \"versicolor\", \"virginica\", \"virginica\", \"versicolor\", \"virginica\", \"versicolor\", \"virginica\", \"versicolor\", \"virginica\", \"versicolor\", \"virginica\", \"virginica\", \"virginica\", \"versicolor\", \"virginica\", \"virginica\", \"virginica\", \"versicolor\", \"versicolor\", \"virginica\", \"virginica\", \"virginica\", \"virginica\", \"virginica\", \"versicolor\", \"virginica\", \"virginica\", \"virginica\", \"virginica\", \"virginica\", \"virginica\", \"virginica\", \"virginica\", \"virginica\"], \"xaxis\": \"x\", \"yaxis\": \"y\"}, {\"alignmentgroup\": \"True\", \"customdata\": [[6.7, 2.5, 5.8, 1.8, \"virginica\", \"Cluster 2\"], [7.0, 3.2, 4.7, 1.4, \"versicolor\", \"Cluster 2\"], [6.8, 3.0, 5.5, 2.1, \"virginica\", \"Cluster 2\"], [6.8, 3.2, 5.9, 2.3, \"virginica\", \"Cluster 2\"], [6.6, 2.9, 4.6, 1.3, \"versicolor\", \"Cluster 2\"], [6.7, 3.3, 5.7, 2.5, \"virginica\", \"Cluster 2\"], [6.4, 3.2, 4.5, 1.5, \"versicolor\", \"Cluster 2\"], [6.4, 2.8, 5.6, 2.1, \"virginica\", \"Cluster 2\"], [6.6, 3.0, 4.4, 1.4, \"versicolor\", \"Cluster 2\"], [6.9, 3.1, 5.4, 2.1, \"virginica\", \"Cluster 2\"], [5.9, 3.2, 4.8, 1.8, \"versicolor\", \"Cluster 2\"], [6.9, 3.2, 5.7, 2.3, \"virginica\", \"Cluster 2\"], [7.9, 3.8, 6.4, 2.0, \"virginica\", \"Cluster 2\"], [6.3, 3.3, 6.0, 2.5, \"virginica\", \"Cluster 2\"], [6.0, 3.4, 4.5, 1.6, \"versicolor\", \"Cluster 2\"], [6.9, 3.1, 5.1, 2.3, \"virginica\", \"Cluster 2\"], [7.2, 3.6, 6.1, 2.5, \"virginica\", \"Cluster 2\"], [7.7, 2.6, 6.9, 2.3, \"virginica\", \"Cluster 2\"], [6.7, 3.1, 4.4, 1.4, \"versicolor\", \"Cluster 2\"], [6.7, 3.0, 5.0, 1.7, \"versicolor\", \"Cluster 2\"], [7.3, 2.9, 6.3, 1.8, \"virginica\", \"Cluster 2\"], [7.1, 3.0, 5.9, 2.1, \"virginica\", \"Cluster 2\"], [6.7, 3.0, 5.2, 2.3, \"virginica\", \"Cluster 2\"], [6.5, 3.2, 5.1, 2.0, \"virginica\", \"Cluster 2\"], [7.6, 3.0, 6.6, 2.1, \"virginica\", \"Cluster 2\"], [6.8, 2.8, 4.8, 1.4, \"versicolor\", \"Cluster 2\"], [6.5, 3.0, 5.8, 2.2, \"virginica\", \"Cluster 2\"], [7.7, 3.0, 6.1, 2.3, \"virginica\", \"Cluster 2\"], [7.2, 3.0, 5.8, 1.6, \"virginica\", \"Cluster 2\"], [6.5, 3.0, 5.2, 2.0, \"virginica\", \"Cluster 2\"], [6.3, 3.4, 5.6, 2.4, \"virginica\", \"Cluster 2\"], [6.4, 3.2, 5.3, 2.3, \"virginica\", \"Cluster 2\"], [6.7, 3.1, 5.6, 2.4, \"virginica\", \"Cluster 2\"], [6.4, 2.8, 5.6, 2.2, \"virginica\", \"Cluster 2\"], [6.1, 3.0, 4.9, 1.8, \"virginica\", \"Cluster 2\"]], \"hovertemplate\": \"Cluster=%{customdata[5]}<br>species=%{customdata[4]}<br>sepal_length=%{customdata[0]}<br>sepal_width=%{customdata[1]}<br>petal_length=%{customdata[2]}<br>petal_width=%{customdata[3]}<extra></extra>\", \"legendgroup\": \"Cluster 2\", \"marker\": {\"color\": \"#00cc96\"}, \"name\": \"Cluster 2\", \"notched\": true, \"offsetgroup\": \"Cluster 2\", \"showlegend\": false, \"type\": \"box\", \"x\": [\"virginica\", \"versicolor\", \"virginica\", \"virginica\", \"versicolor\", \"virginica\", \"versicolor\", \"virginica\", \"versicolor\", \"virginica\", \"versicolor\", \"virginica\", \"virginica\", \"virginica\", \"versicolor\", \"virginica\", \"virginica\", \"virginica\", \"versicolor\", \"versicolor\", \"virginica\", \"virginica\", \"virginica\", \"virginica\", \"virginica\", \"versicolor\", \"virginica\", \"virginica\", \"virginica\", \"virginica\", \"virginica\", \"virginica\", \"virginica\", \"virginica\", \"virginica\"], \"xaxis\": \"x2\", \"yaxis\": \"y2\"}],\n",
       "                        {\"barmode\": \"relative\", \"legend\": {\"title\": {\"text\": \"Cluster\"}, \"tracegroupgap\": 0}, \"margin\": {\"t\": 60}, \"template\": {\"data\": {\"bar\": [{\"error_x\": {\"color\": \"#2a3f5f\"}, \"error_y\": {\"color\": \"#2a3f5f\"}, \"marker\": {\"line\": {\"color\": \"#E5ECF6\", \"width\": 0.5}}, \"type\": \"bar\"}], \"barpolar\": [{\"marker\": {\"line\": {\"color\": \"#E5ECF6\", \"width\": 0.5}}, \"type\": \"barpolar\"}], \"carpet\": [{\"aaxis\": {\"endlinecolor\": \"#2a3f5f\", \"gridcolor\": \"white\", \"linecolor\": \"white\", \"minorgridcolor\": \"white\", \"startlinecolor\": \"#2a3f5f\"}, \"baxis\": {\"endlinecolor\": \"#2a3f5f\", \"gridcolor\": \"white\", \"linecolor\": \"white\", \"minorgridcolor\": \"white\", \"startlinecolor\": \"#2a3f5f\"}, \"type\": \"carpet\"}], \"choropleth\": [{\"colorbar\": {\"outlinewidth\": 0, \"ticks\": \"\"}, \"type\": \"choropleth\"}], \"contour\": [{\"colorbar\": {\"outlinewidth\": 0, \"ticks\": \"\"}, \"colorscale\": [[0.0, \"#0d0887\"], [0.1111111111111111, \"#46039f\"], [0.2222222222222222, \"#7201a8\"], [0.3333333333333333, \"#9c179e\"], [0.4444444444444444, \"#bd3786\"], [0.5555555555555556, \"#d8576b\"], [0.6666666666666666, \"#ed7953\"], [0.7777777777777778, \"#fb9f3a\"], [0.8888888888888888, \"#fdca26\"], [1.0, \"#f0f921\"]], \"type\": \"contour\"}], \"contourcarpet\": [{\"colorbar\": {\"outlinewidth\": 0, \"ticks\": \"\"}, \"type\": \"contourcarpet\"}], \"heatmap\": [{\"colorbar\": {\"outlinewidth\": 0, \"ticks\": \"\"}, \"colorscale\": [[0.0, \"#0d0887\"], [0.1111111111111111, \"#46039f\"], [0.2222222222222222, \"#7201a8\"], [0.3333333333333333, \"#9c179e\"], [0.4444444444444444, \"#bd3786\"], [0.5555555555555556, \"#d8576b\"], [0.6666666666666666, \"#ed7953\"], [0.7777777777777778, \"#fb9f3a\"], [0.8888888888888888, \"#fdca26\"], [1.0, \"#f0f921\"]], \"type\": \"heatmap\"}], \"heatmapgl\": [{\"colorbar\": {\"outlinewidth\": 0, \"ticks\": \"\"}, \"colorscale\": [[0.0, \"#0d0887\"], [0.1111111111111111, \"#46039f\"], [0.2222222222222222, \"#7201a8\"], [0.3333333333333333, \"#9c179e\"], [0.4444444444444444, \"#bd3786\"], [0.5555555555555556, \"#d8576b\"], [0.6666666666666666, \"#ed7953\"], [0.7777777777777778, \"#fb9f3a\"], [0.8888888888888888, \"#fdca26\"], [1.0, \"#f0f921\"]], \"type\": \"heatmapgl\"}], \"histogram\": [{\"marker\": {\"colorbar\": {\"outlinewidth\": 0, \"ticks\": \"\"}}, \"type\": \"histogram\"}], \"histogram2d\": [{\"colorbar\": {\"outlinewidth\": 0, \"ticks\": \"\"}, \"colorscale\": [[0.0, \"#0d0887\"], [0.1111111111111111, \"#46039f\"], [0.2222222222222222, \"#7201a8\"], [0.3333333333333333, \"#9c179e\"], [0.4444444444444444, \"#bd3786\"], [0.5555555555555556, \"#d8576b\"], [0.6666666666666666, \"#ed7953\"], [0.7777777777777778, \"#fb9f3a\"], [0.8888888888888888, \"#fdca26\"], [1.0, \"#f0f921\"]], \"type\": \"histogram2d\"}], \"histogram2dcontour\": [{\"colorbar\": {\"outlinewidth\": 0, \"ticks\": \"\"}, \"colorscale\": [[0.0, \"#0d0887\"], [0.1111111111111111, \"#46039f\"], [0.2222222222222222, \"#7201a8\"], [0.3333333333333333, \"#9c179e\"], [0.4444444444444444, \"#bd3786\"], [0.5555555555555556, \"#d8576b\"], [0.6666666666666666, \"#ed7953\"], [0.7777777777777778, \"#fb9f3a\"], [0.8888888888888888, \"#fdca26\"], [1.0, \"#f0f921\"]], \"type\": \"histogram2dcontour\"}], \"mesh3d\": [{\"colorbar\": {\"outlinewidth\": 0, \"ticks\": \"\"}, \"type\": \"mesh3d\"}], \"parcoords\": [{\"line\": {\"colorbar\": {\"outlinewidth\": 0, \"ticks\": \"\"}}, \"type\": \"parcoords\"}], \"pie\": [{\"automargin\": true, \"type\": \"pie\"}], \"scatter\": [{\"marker\": {\"colorbar\": {\"outlinewidth\": 0, \"ticks\": \"\"}}, \"type\": \"scatter\"}], \"scatter3d\": [{\"line\": {\"colorbar\": {\"outlinewidth\": 0, \"ticks\": \"\"}}, \"marker\": {\"colorbar\": {\"outlinewidth\": 0, \"ticks\": \"\"}}, \"type\": \"scatter3d\"}], \"scattercarpet\": [{\"marker\": {\"colorbar\": {\"outlinewidth\": 0, \"ticks\": \"\"}}, \"type\": \"scattercarpet\"}], \"scattergeo\": [{\"marker\": {\"colorbar\": {\"outlinewidth\": 0, \"ticks\": \"\"}}, \"type\": \"scattergeo\"}], \"scattergl\": [{\"marker\": {\"colorbar\": {\"outlinewidth\": 0, \"ticks\": \"\"}}, \"type\": \"scattergl\"}], \"scattermapbox\": [{\"marker\": {\"colorbar\": {\"outlinewidth\": 0, \"ticks\": \"\"}}, \"type\": \"scattermapbox\"}], \"scatterpolar\": [{\"marker\": {\"colorbar\": {\"outlinewidth\": 0, \"ticks\": \"\"}}, \"type\": \"scatterpolar\"}], \"scatterpolargl\": [{\"marker\": {\"colorbar\": {\"outlinewidth\": 0, \"ticks\": \"\"}}, \"type\": \"scatterpolargl\"}], \"scatterternary\": [{\"marker\": {\"colorbar\": {\"outlinewidth\": 0, \"ticks\": \"\"}}, \"type\": \"scatterternary\"}], \"surface\": [{\"colorbar\": {\"outlinewidth\": 0, \"ticks\": \"\"}, \"colorscale\": [[0.0, \"#0d0887\"], [0.1111111111111111, \"#46039f\"], [0.2222222222222222, \"#7201a8\"], [0.3333333333333333, \"#9c179e\"], [0.4444444444444444, \"#bd3786\"], [0.5555555555555556, \"#d8576b\"], [0.6666666666666666, \"#ed7953\"], [0.7777777777777778, \"#fb9f3a\"], [0.8888888888888888, \"#fdca26\"], [1.0, \"#f0f921\"]], \"type\": \"surface\"}], \"table\": [{\"cells\": {\"fill\": {\"color\": \"#EBF0F8\"}, \"line\": {\"color\": \"white\"}}, \"header\": {\"fill\": {\"color\": \"#C8D4E3\"}, \"line\": {\"color\": \"white\"}}, \"type\": \"table\"}]}, \"layout\": {\"annotationdefaults\": {\"arrowcolor\": \"#2a3f5f\", \"arrowhead\": 0, \"arrowwidth\": 1}, \"coloraxis\": {\"colorbar\": {\"outlinewidth\": 0, \"ticks\": \"\"}}, \"colorscale\": {\"diverging\": [[0, \"#8e0152\"], [0.1, \"#c51b7d\"], [0.2, \"#de77ae\"], [0.3, \"#f1b6da\"], [0.4, \"#fde0ef\"], [0.5, \"#f7f7f7\"], [0.6, \"#e6f5d0\"], [0.7, \"#b8e186\"], [0.8, \"#7fbc41\"], [0.9, \"#4d9221\"], [1, \"#276419\"]], \"sequential\": [[0.0, \"#0d0887\"], [0.1111111111111111, \"#46039f\"], [0.2222222222222222, \"#7201a8\"], [0.3333333333333333, \"#9c179e\"], [0.4444444444444444, \"#bd3786\"], [0.5555555555555556, \"#d8576b\"], [0.6666666666666666, \"#ed7953\"], [0.7777777777777778, \"#fb9f3a\"], [0.8888888888888888, \"#fdca26\"], [1.0, \"#f0f921\"]], \"sequentialminus\": [[0.0, \"#0d0887\"], [0.1111111111111111, \"#46039f\"], [0.2222222222222222, \"#7201a8\"], [0.3333333333333333, \"#9c179e\"], [0.4444444444444444, \"#bd3786\"], [0.5555555555555556, \"#d8576b\"], [0.6666666666666666, \"#ed7953\"], [0.7777777777777778, \"#fb9f3a\"], [0.8888888888888888, \"#fdca26\"], [1.0, \"#f0f921\"]]}, \"colorway\": [\"#636efa\", \"#EF553B\", \"#00cc96\", \"#ab63fa\", \"#FFA15A\", \"#19d3f3\", \"#FF6692\", \"#B6E880\", \"#FF97FF\", \"#FECB52\"], \"font\": {\"color\": \"#2a3f5f\"}, \"geo\": {\"bgcolor\": \"white\", \"lakecolor\": \"white\", \"landcolor\": \"#E5ECF6\", \"showlakes\": true, \"showland\": true, \"subunitcolor\": \"white\"}, \"hoverlabel\": {\"align\": \"left\"}, \"hovermode\": \"closest\", \"mapbox\": {\"style\": \"light\"}, \"paper_bgcolor\": \"white\", \"plot_bgcolor\": \"#E5ECF6\", \"polar\": {\"angularaxis\": {\"gridcolor\": \"white\", \"linecolor\": \"white\", \"ticks\": \"\"}, \"bgcolor\": \"#E5ECF6\", \"radialaxis\": {\"gridcolor\": \"white\", \"linecolor\": \"white\", \"ticks\": \"\"}}, \"scene\": {\"xaxis\": {\"backgroundcolor\": \"#E5ECF6\", \"gridcolor\": \"white\", \"gridwidth\": 2, \"linecolor\": \"white\", \"showbackground\": true, \"ticks\": \"\", \"zerolinecolor\": \"white\"}, \"yaxis\": {\"backgroundcolor\": \"#E5ECF6\", \"gridcolor\": \"white\", \"gridwidth\": 2, \"linecolor\": \"white\", \"showbackground\": true, \"ticks\": \"\", \"zerolinecolor\": \"white\"}, \"zaxis\": {\"backgroundcolor\": \"#E5ECF6\", \"gridcolor\": \"white\", \"gridwidth\": 2, \"linecolor\": \"white\", \"showbackground\": true, \"ticks\": \"\", \"zerolinecolor\": \"white\"}}, \"shapedefaults\": {\"line\": {\"color\": \"#2a3f5f\"}}, \"ternary\": {\"aaxis\": {\"gridcolor\": \"white\", \"linecolor\": \"white\", \"ticks\": \"\"}, \"baxis\": {\"gridcolor\": \"white\", \"linecolor\": \"white\", \"ticks\": \"\"}, \"bgcolor\": \"#E5ECF6\", \"caxis\": {\"gridcolor\": \"white\", \"linecolor\": \"white\", \"ticks\": \"\"}}, \"title\": {\"x\": 0.05}, \"xaxis\": {\"automargin\": true, \"gridcolor\": \"white\", \"linecolor\": \"white\", \"ticks\": \"\", \"title\": {\"standoff\": 15}, \"zerolinecolor\": \"white\", \"zerolinewidth\": 2}, \"yaxis\": {\"automargin\": true, \"gridcolor\": \"white\", \"linecolor\": \"white\", \"ticks\": \"\", \"title\": {\"standoff\": 15}, \"zerolinecolor\": \"white\", \"zerolinewidth\": 2}}}, \"xaxis\": {\"anchor\": \"y\", \"domain\": [0.0, 1.0], \"title\": {\"text\": \"species\"}}, \"xaxis2\": {\"anchor\": \"y2\", \"domain\": [0.0, 1.0], \"matches\": \"x\", \"showgrid\": true, \"showticklabels\": false}, \"yaxis\": {\"anchor\": \"x\", \"domain\": [0.0, 0.7326], \"title\": {\"text\": \"count\"}}, \"yaxis2\": {\"anchor\": \"x2\", \"domain\": [0.7426, 1.0], \"matches\": \"y2\", \"showgrid\": false, \"showline\": false, \"showticklabels\": false, \"ticks\": \"\"}},\n",
       "                        {\"responsive\": true}\n",
       "                    ).then(function(){\n",
       "                            \n",
       "var gd = document.getElementById('558dee20-f4fc-4a03-925f-1b6e696667da');\n",
       "var x = new MutationObserver(function (mutations, observer) {{\n",
       "        var display = window.getComputedStyle(gd).display;\n",
       "        if (!display || display === 'none') {{\n",
       "            console.log([gd, 'removed!']);\n",
       "            Plotly.purge(gd);\n",
       "            observer.disconnect();\n",
       "        }}\n",
       "}});\n",
       "\n",
       "// Listen for the removal of the full notebook cells\n",
       "var notebookContainer = gd.closest('#notebook-container');\n",
       "if (notebookContainer) {{\n",
       "    x.observe(notebookContainer, {childList: true});\n",
       "}}\n",
       "\n",
       "// Listen for the clearing of the current output cell\n",
       "var outputEl = gd.closest('.output');\n",
       "if (outputEl) {{\n",
       "    x.observe(outputEl, {childList: true});\n",
       "}}\n",
       "\n",
       "                        })\n",
       "                };\n",
       "                });\n",
       "            </script>\n",
       "        </div>"
      ]
     },
     "metadata": {},
     "output_type": "display_data"
    }
   ],
   "source": [
    "# plots\n",
    "clustering.plot_model(\n",
    "    model=clustering_model,\n",
    "    plot='distribution',\n",
    "    feature='species'\n",
    ")"
   ]
  },
  {
   "cell_type": "code",
   "execution_count": 47,
   "metadata": {},
   "outputs": [],
   "source": [
    "# model predictions\n",
    "clustering_test_predictions = clustering.predict_model(\n",
    "    clustering_model,\n",
    "    data=df_iris_test\n",
    ")"
   ]
  },
  {
   "cell_type": "code",
   "execution_count": 48,
   "metadata": {},
   "outputs": [
    {
     "data": {
      "text/html": [
       "<div>\n",
       "<style scoped>\n",
       "    .dataframe tbody tr th:only-of-type {\n",
       "        vertical-align: middle;\n",
       "    }\n",
       "\n",
       "    .dataframe tbody tr th {\n",
       "        vertical-align: top;\n",
       "    }\n",
       "\n",
       "    .dataframe thead th {\n",
       "        text-align: right;\n",
       "    }\n",
       "</style>\n",
       "<table border=\"1\" class=\"dataframe\">\n",
       "  <thead>\n",
       "    <tr style=\"text-align: right;\">\n",
       "      <th></th>\n",
       "      <th>sepal_length</th>\n",
       "      <th>sepal_width</th>\n",
       "      <th>petal_length</th>\n",
       "      <th>petal_width</th>\n",
       "      <th>species</th>\n",
       "      <th>Cluster</th>\n",
       "    </tr>\n",
       "  </thead>\n",
       "  <tbody>\n",
       "    <tr>\n",
       "      <th>40</th>\n",
       "      <td>5.0</td>\n",
       "      <td>3.5</td>\n",
       "      <td>1.3</td>\n",
       "      <td>0.3</td>\n",
       "      <td>setosa</td>\n",
       "      <td>Cluster 0</td>\n",
       "    </tr>\n",
       "    <tr>\n",
       "      <th>42</th>\n",
       "      <td>4.4</td>\n",
       "      <td>3.2</td>\n",
       "      <td>1.3</td>\n",
       "      <td>0.2</td>\n",
       "      <td>setosa</td>\n",
       "      <td>Cluster 0</td>\n",
       "    </tr>\n",
       "    <tr>\n",
       "      <th>148</th>\n",
       "      <td>6.2</td>\n",
       "      <td>3.4</td>\n",
       "      <td>5.4</td>\n",
       "      <td>2.3</td>\n",
       "      <td>virginica</td>\n",
       "      <td>Cluster 2</td>\n",
       "    </tr>\n",
       "    <tr>\n",
       "      <th>19</th>\n",
       "      <td>5.1</td>\n",
       "      <td>3.8</td>\n",
       "      <td>1.5</td>\n",
       "      <td>0.3</td>\n",
       "      <td>setosa</td>\n",
       "      <td>Cluster 0</td>\n",
       "    </tr>\n",
       "    <tr>\n",
       "      <th>117</th>\n",
       "      <td>7.7</td>\n",
       "      <td>3.8</td>\n",
       "      <td>6.7</td>\n",
       "      <td>2.2</td>\n",
       "      <td>virginica</td>\n",
       "      <td>Cluster 2</td>\n",
       "    </tr>\n",
       "  </tbody>\n",
       "</table>\n",
       "</div>"
      ],
      "text/plain": [
       "     sepal_length  sepal_width  petal_length  petal_width    species  \\\n",
       "40            5.0          3.5           1.3          0.3     setosa   \n",
       "42            4.4          3.2           1.3          0.2     setosa   \n",
       "148           6.2          3.4           5.4          2.3  virginica   \n",
       "19            5.1          3.8           1.5          0.3     setosa   \n",
       "117           7.7          3.8           6.7          2.2  virginica   \n",
       "\n",
       "       Cluster  \n",
       "40   Cluster 0  \n",
       "42   Cluster 0  \n",
       "148  Cluster 2  \n",
       "19   Cluster 0  \n",
       "117  Cluster 2  "
      ]
     },
     "execution_count": 48,
     "metadata": {},
     "output_type": "execute_result"
    }
   ],
   "source": [
    "# view results\n",
    "clustering_test_predictions.head()"
   ]
  },
  {
   "cell_type": "code",
   "execution_count": 49,
   "metadata": {},
   "outputs": [
    {
     "data": {
      "text/plain": [
       "Cluster    species   \n",
       "Cluster 0  setosa        20\n",
       "Cluster 1  versicolor     9\n",
       "           virginica      3\n",
       "Cluster 2  versicolor     3\n",
       "           virginica     10\n",
       "dtype: int64"
      ]
     },
     "execution_count": 49,
     "metadata": {},
     "output_type": "execute_result"
    }
   ],
   "source": [
    "# view results\n",
    "clustering_test_predictions.groupby(by=['Cluster','species']).size()"
   ]
  },
  {
   "cell_type": "code",
   "execution_count": null,
   "metadata": {},
   "outputs": [],
   "source": []
  }
 ],
 "metadata": {
  "kernelspec": {
   "display_name": "Python 3",
   "language": "python",
   "name": "python3"
  },
  "language_info": {
   "codemirror_mode": {
    "name": "ipython",
    "version": 3
   },
   "file_extension": ".py",
   "mimetype": "text/x-python",
   "name": "python",
   "nbconvert_exporter": "python",
   "pygments_lexer": "ipython3",
   "version": "3.8.3"
  }
 },
 "nbformat": 4,
 "nbformat_minor": 4
}
