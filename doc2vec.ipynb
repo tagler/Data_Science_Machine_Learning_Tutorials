{
 "cells": [
  {
   "attachments": {},
   "cell_type": "markdown",
   "metadata": {},
   "source": [
    "# Document Similarity and Clustering via Doc2Vec"
   ]
  },
  {
   "cell_type": "code",
   "execution_count": 1,
   "metadata": {},
   "outputs": [],
   "source": [
    "import numpy as np\n",
    "import gensim\n",
    "import nltk\n",
    "from nltk.tokenize import word_tokenize\n",
    "from sklearn.metrics.pairwise import cosine_similarity"
   ]
  },
  {
   "cell_type": "code",
   "execution_count": 2,
   "metadata": {},
   "outputs": [],
   "source": [
    "group_1 = \"Computer scientist: A computer scientist is a professional who researches and analyzes how computers store and use information, develops new products or software, and solves practical computing problems. They may work as part of a research team with other IT professionals and engineers, or design efficient computer systems according to clients specifications and business functions. They also inspect and protect the security of the organization's database and manage software applications. They use algorithms, mathematics, physics, and creative thinking to study technological concepts, such as computational complexity theory, computer graphics, and programming languages. They work with different computer technologies and tools to improve and innovate existing and new ones. Some of the skills that a computer scientist needs include technical and mathematical skills, such as software development, hardware engineering, computer programming, linear algebra, discrete mathematics, calculus, and statistics. They also need technical writing skills to create technical manuals and document project data for others to interpret. Additionally, they need project management skills to lead IT teams when completing projects, communication skills to present theories and studies to the scientific community and educate other individuals in the field, and analytical skills to evaluate new computer systems or devices and conduct research experiments to test new theories.\"\n",
    "group_2 = \"Data scientist: A data scientist is a professional who collects, analyzes, and interprets large amounts of data from various sources to generate insights and solutions for business problems or scientific questions. They may work in different industries or sectors, such as healthcare, finance, education, or e-commerce. They use various methods and tools to process and manipulate data, such as machine learning, artificial intelligence, statistics, programming languages, databases, and visualization software. They also communicate their findings and recommendations to stakeholders or clients using reports, dashboards, or presentations .Some of the skills that a data scientist needs include technical skills such as Python, R, SQL, TensorFlow, Tableau, Excel etc., which are used for data analysis and manipulation. They also need mathematical and statistical skills to apply concepts such as linear algebra, probability theory, regression analysis, hypothesis testing etc., which are used for data modeling and inference. Additionally, they need business skills to understand the domain knowledge and the objectives of the projects, communication skills to explain complex data in simple terms and persuade others with data-driven arguments, and problem-solving skills to identify relevant data sources and design appropriate solutions for the challenges.\" \n",
    "group_3 = \"Security guard: A security guard is a professional who protects people and property from theft, vandalism, fire, or other hazards. They may work in various settings, such as malls, offices, schools, or museums. They monitor the premises using surveillance cameras or patrol on foot or by vehicle. They also enforce rules and regulations and report any suspicious or illegal activities to the authorities or management. Some of the skills that a security guard needs include physical skills such as strength, stamina, agility, and self-defense, which are used for deterring or responding to threats. They also need observation skills to spot any signs of danger or disturbance and record details of incidents. Additionally, they need communication skills to interact with the public and provide assistance or information when needed, and teamwork skills to coordinate with other security personnel or law enforcement officers when necessary.\"\n",
    "example_resume_text = \"\"\"\n",
    "- Solutions-oriented computer scientist with vast experience working across all software development phases.\n",
    "- Adept in identifying and solving complex computer system and software issues.\n",
    "- Proficient in Python, Java, C++, SQL, TensorFlow, PyTorch and AWS.\n",
    "- Seeking to leverage my skills and experience to benefit ABC Inc. as a senior computer scientist.\n",
    "Senior Computer Scientist \n",
    "- Led a team of four computer scientists to design, develop and test software solutions for various clients using agile methodology.\n",
    "- Implemented machine learning models for image recognition, natural language processing and recommendation systems using TensorFlow and PyTorch.\n",
    "- Improved the performance and scalability of the software systems by optimizing the code, debugging errors and deploying cloud services using AWS.\n",
    "- Collaborated with other developers, engineers and stakeholders to ensure the quality and functionality of the software products.\n",
    "Computer Science Intern \n",
    "- Assisted senior computer scientists with software development projects using Python, Java and C++.\n",
    "- Conducted research and analysis on various computer science topics such as artificial intelligence, data structures and algorithms.\n",
    "- Created and maintained documentation, reports and presentations for the software development process.\n",
    "- Learned new skills and technologies through online courses, workshops and mentorship².\n",
    "Bachelor of Science in Computer Science | University of California, Berkeley | Sep 2019 - May 2021\n",
    "- Graduated with a GPA of 3.8/4.0.\n",
    "- Completed courses in programming languages, data structures, algorithms, databases, operating systems, software engineering and machine learning.\n",
    "- Participated in various extracurricular activities such as coding clubs, hackathons and student organizations.\n",
    "- Programming Languages: Python, Java, C++, SQL\n",
    "- Frameworks and Libraries: TensorFlow, PyTorch, OpenCV, Flask\n",
    "- Tools and Platforms: AWS, Git, Android Studio, Heroku\n",
    "\"\"\""
   ]
  },
  {
   "attachments": {},
   "cell_type": "markdown",
   "metadata": {},
   "source": [
    "## Doc2Vec"
   ]
  },
  {
   "cell_type": "code",
   "execution_count": 3,
   "metadata": {},
   "outputs": [],
   "source": [
    "data = [gensim.models.doc2vec.TaggedDocument(words=word_tokenize(group_1), tags=['computer science']),\n",
    "        gensim.models.doc2vec.TaggedDocument(words=word_tokenize(group_2), tags=['data science']),\n",
    "        gensim.models.doc2vec.TaggedDocument(words=word_tokenize(group_3), tags=['security guard'])]"
   ]
  },
  {
   "cell_type": "code",
   "execution_count": 4,
   "metadata": {},
   "outputs": [],
   "source": [
    "model = gensim.models.doc2vec.Doc2Vec(vector_size=500, min_count=2, epochs=5)\n",
    "model.build_vocab(data)\n",
    "model.train(data, total_examples=model.corpus_count, epochs=model.epochs)\n",
    "model.save('my_doc2vec_model')\n",
    "model = gensim.models.doc2vec.Doc2Vec.load('my_doc2vec_model')"
   ]
  },
  {
   "cell_type": "code",
   "execution_count": 5,
   "metadata": {},
   "outputs": [
    {
     "data": {
      "text/plain": [
       "[('computer science', 0.47634610533714294),\n",
       " ('data science', 0.40098142623901367),\n",
       " ('security guard', 0.3115231990814209)]"
      ]
     },
     "execution_count": 5,
     "metadata": {},
     "output_type": "execute_result"
    }
   ],
   "source": [
    "new_document_vector = (model.infer_vector(word_tokenize(example_resume_text)))\n",
    "model.dv.most_similar([new_document_vector], topn=3)"
   ]
  },
  {
   "cell_type": "code",
   "execution_count": 6,
   "metadata": {},
   "outputs": [
    {
     "data": {
      "text/plain": [
       "array([[1.        , 0.33651694, 0.28686826],\n",
       "       [0.33651694, 1.        , 0.28662256],\n",
       "       [0.28686826, 0.28662256, 1.        ]])"
      ]
     },
     "execution_count": 6,
     "metadata": {},
     "output_type": "execute_result"
    }
   ],
   "source": [
    "document_embeddings=np.zeros((3,500))\n",
    "for i in range(3):\n",
    "    document_embeddings[i]=model.dv[i]\n",
    "pairwise_similarities=cosine_similarity(document_embeddings)\n",
    "pairwise_similarities"
   ]
  },
  {
   "cell_type": "code",
   "execution_count": null,
   "metadata": {},
   "outputs": [],
   "source": []
  }
 ],
 "metadata": {
  "kernelspec": {
   "display_name": "py311",
   "language": "python",
   "name": "python3"
  },
  "language_info": {
   "codemirror_mode": {
    "name": "ipython",
    "version": 3
   },
   "file_extension": ".py",
   "mimetype": "text/x-python",
   "name": "python",
   "nbconvert_exporter": "python",
   "pygments_lexer": "ipython3",
   "version": "3.11.3"
  },
  "orig_nbformat": 4
 },
 "nbformat": 4,
 "nbformat_minor": 2
}
