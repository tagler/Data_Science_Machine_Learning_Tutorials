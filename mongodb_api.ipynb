{
 "cells": [
  {
   "cell_type": "markdown",
   "metadata": {},
   "source": [
    "# MongoDB "
   ]
  },
  {
   "cell_type": "markdown",
   "metadata": {},
   "source": [
    "# setup"
   ]
  },
  {
   "cell_type": "code",
   "execution_count": null,
   "metadata": {},
   "outputs": [],
   "source": [
    "# mkdir -p /data/db\n",
    "# sudo chown -R `id -un` /data/db\n",
    "# run bin/mongod\n",
    "# run bin/mongo "
   ]
  },
  {
   "cell_type": "code",
   "execution_count": 1,
   "metadata": {},
   "outputs": [],
   "source": [
    "import pandas as pd"
   ]
  },
  {
   "cell_type": "code",
   "execution_count": 2,
   "metadata": {},
   "outputs": [],
   "source": [
    "import pymongo "
   ]
  },
  {
   "cell_type": "code",
   "execution_count": 3,
   "metadata": {},
   "outputs": [],
   "source": [
    "# use client = pymongo.MongoClient('mongodb://{user}:{password}@{host}:{port}/')\n",
    "# by default mongodb is run locally without authentication enabled \n",
    "# can download a web gui, such as \"compass\"\n",
    "client = pymongo.MongoClient(\"mongodb://localhost:27017/\")"
   ]
  },
  {
   "cell_type": "code",
   "execution_count": 4,
   "metadata": {},
   "outputs": [
    {
     "data": {
      "text/plain": [
       "{'version': '4.2.7',\n",
       " 'gitVersion': '51d9fe12b5d19720e72dcd7db0f2f17dd9a19212',\n",
       " 'modules': [],\n",
       " 'allocator': 'system',\n",
       " 'javascriptEngine': 'mozjs',\n",
       " 'sysInfo': 'deprecated',\n",
       " 'versionArray': [4, 2, 7, 0],\n",
       " 'openssl': {'running': 'Apple Secure Transport'},\n",
       " 'buildEnvironment': {'distmod': '',\n",
       "  'distarch': 'x86_64',\n",
       "  'cc': '/Applications/Xcode10.2.0.app/Contents/Developer/Toolchains/XcodeDefault.xctoolchain/usr/bin/clang: Apple LLVM version 10.0.1 (clang-1001.0.46.3)',\n",
       "  'ccflags': '-isysroot /Applications/Xcode10.2.0.app/Contents/Developer/Platforms/MacOSX.platform/Developer/SDKs/MacOSX10.14.sdk -mmacosx-version-min=10.12 -target darwin16.0.0 -arch x86_64 -fno-omit-frame-pointer -fno-strict-aliasing -ggdb -pthread -Wall -Wsign-compare -Wno-unknown-pragmas -Winvalid-pch -Werror -O2 -Wno-unused-local-typedefs -Wno-unused-function -Wno-unused-private-field -Wno-deprecated-declarations -Wno-tautological-constant-out-of-range-compare -Wno-tautological-constant-compare -Wno-tautological-unsigned-zero-compare -Wno-tautological-unsigned-enum-zero-compare -Wno-unused-const-variable -Wno-missing-braces -Wno-inconsistent-missing-override -Wno-potentially-evaluated-expression -Wno-unused-lambda-capture -Wno-exceptions -Wunguarded-availability -fstack-protector-strong -fno-builtin-memcmp',\n",
       "  'cxx': '/Applications/Xcode10.2.0.app/Contents/Developer/Toolchains/XcodeDefault.xctoolchain/usr/bin/clang++: Apple LLVM version 10.0.1 (clang-1001.0.46.3)',\n",
       "  'cxxflags': '-Woverloaded-virtual -Werror=unused-result -Wpessimizing-move -Wredundant-move -Wno-undefined-var-template -Wno-instantiation-after-specialization -fsized-deallocation -stdlib=libc++ -std=c++17',\n",
       "  'linkflags': '-Wl,-syslibroot,/Applications/Xcode10.2.0.app/Contents/Developer/Platforms/MacOSX.platform/Developer/SDKs/MacOSX10.14.sdk -mmacosx-version-min=10.12 -target darwin16.0.0 -arch x86_64 -Wl,-bind_at_load -Wl,-fatal_warnings -fstack-protector-strong -stdlib=libc++',\n",
       "  'target_arch': 'x86_64',\n",
       "  'target_os': 'macOS'},\n",
       " 'bits': 64,\n",
       " 'debug': False,\n",
       " 'maxBsonObjectSize': 16777216,\n",
       " 'storageEngines': ['biggie', 'devnull', 'ephemeralForTest', 'wiredTiger'],\n",
       " 'ok': 1.0}"
      ]
     },
     "execution_count": 4,
     "metadata": {},
     "output_type": "execute_result"
    }
   ],
   "source": [
    "client.server_info()"
   ]
  },
  {
   "cell_type": "code",
   "execution_count": 5,
   "metadata": {},
   "outputs": [
    {
     "data": {
      "text/plain": [
       "['admin', 'config', 'local']"
      ]
     },
     "execution_count": 5,
     "metadata": {},
     "output_type": "execute_result"
    }
   ],
   "source": [
    "client.list_database_names()"
   ]
  },
  {
   "cell_type": "markdown",
   "metadata": {},
   "source": [
    "# create databases and collections "
   ]
  },
  {
   "cell_type": "code",
   "execution_count": 6,
   "metadata": {},
   "outputs": [],
   "source": [
    "db = client.test_database"
   ]
  },
  {
   "cell_type": "code",
   "execution_count": 7,
   "metadata": {},
   "outputs": [
    {
     "data": {
      "text/plain": [
       "['admin', 'config', 'local']"
      ]
     },
     "execution_count": 7,
     "metadata": {},
     "output_type": "execute_result"
    }
   ],
   "source": [
    "client.list_database_names()"
   ]
  },
  {
   "cell_type": "code",
   "execution_count": 8,
   "metadata": {},
   "outputs": [],
   "source": [
    "test_collection = db.test_collection"
   ]
  },
  {
   "cell_type": "code",
   "execution_count": 9,
   "metadata": {},
   "outputs": [
    {
     "data": {
      "text/plain": [
       "[]"
      ]
     },
     "execution_count": 9,
     "metadata": {},
     "output_type": "execute_result"
    }
   ],
   "source": [
    "db.list_collection_names()"
   ]
  },
  {
   "cell_type": "code",
   "execution_count": 10,
   "metadata": {},
   "outputs": [],
   "source": [
    "# note: only creates new databases and collections after inserting first document "
   ]
  },
  {
   "cell_type": "code",
   "execution_count": 11,
   "metadata": {},
   "outputs": [],
   "source": [
    "test_document = {\"name\" : \"dave\",  \"score\" : 100,  \"skills\" : [\"python\", \"c++\", \"java\"]}"
   ]
  },
  {
   "cell_type": "code",
   "execution_count": 12,
   "metadata": {},
   "outputs": [],
   "source": [
    "insert_test_document = test_collection.insert_one(test_document)"
   ]
  },
  {
   "cell_type": "code",
   "execution_count": 13,
   "metadata": {},
   "outputs": [
    {
     "data": {
      "text/plain": [
       "ObjectId('5ee11e6d1d94031e4ea138f6')"
      ]
     },
     "execution_count": 13,
     "metadata": {},
     "output_type": "execute_result"
    }
   ],
   "source": [
    "insert_test_document.inserted_id"
   ]
  },
  {
   "cell_type": "code",
   "execution_count": 14,
   "metadata": {},
   "outputs": [
    {
     "data": {
      "text/plain": [
       "['admin', 'config', 'local', 'test_database']"
      ]
     },
     "execution_count": 14,
     "metadata": {},
     "output_type": "execute_result"
    }
   ],
   "source": [
    "client.list_database_names()"
   ]
  },
  {
   "cell_type": "code",
   "execution_count": 15,
   "metadata": {},
   "outputs": [
    {
     "data": {
      "text/plain": [
       "['test_collection']"
      ]
     },
     "execution_count": 15,
     "metadata": {},
     "output_type": "execute_result"
    }
   ],
   "source": [
    "db.list_collection_names()"
   ]
  },
  {
   "cell_type": "code",
   "execution_count": 16,
   "metadata": {},
   "outputs": [
    {
     "data": {
      "text/plain": [
       "1"
      ]
     },
     "execution_count": 16,
     "metadata": {},
     "output_type": "execute_result"
    }
   ],
   "source": [
    "test_collection.count_documents({})"
   ]
  },
  {
   "cell_type": "markdown",
   "metadata": {},
   "source": [
    "# inserting documents "
   ]
  },
  {
   "cell_type": "code",
   "execution_count": 17,
   "metadata": {},
   "outputs": [],
   "source": [
    "test_multiple_documents = [\n",
    "    {\"_id\" : 102, 'name': 'jeff', 'score': 73, 'skills': [\"javascript\"]},\n",
    "    {\"_id\" : 103, 'name': 'jeff', 'score': 42, 'skills': [\"c++\"]},\n",
    "    {\"_id\" : 104, 'name': 'drew', 'score': 32, 'skills': [\"matlab\",\"aspen\"]},\n",
    "    {\"_id\" : 105, 'name': 'drew', 'score': 15, 'skills': [\"cold fusion\"]},\n",
    "    {\"_id\" : 106, 'name': 'dave', 'score': 89, 'skills': [\"office\"]},\n",
    "    {\"_id\" : 107, 'name': 'dave', 'score': 100, 'skills': [\"linux\"]},\n",
    "]"
   ]
  },
  {
   "cell_type": "code",
   "execution_count": 18,
   "metadata": {},
   "outputs": [],
   "source": [
    "insert_multiple_documents = test_collection.insert_many(test_multiple_documents)"
   ]
  },
  {
   "cell_type": "code",
   "execution_count": 19,
   "metadata": {},
   "outputs": [
    {
     "data": {
      "text/plain": [
       "[102, 103, 104, 105, 106, 107]"
      ]
     },
     "execution_count": 19,
     "metadata": {},
     "output_type": "execute_result"
    }
   ],
   "source": [
    "insert_multiple_documents.inserted_ids"
   ]
  },
  {
   "cell_type": "code",
   "execution_count": 20,
   "metadata": {},
   "outputs": [
    {
     "data": {
      "text/plain": [
       "7"
      ]
     },
     "execution_count": 20,
     "metadata": {},
     "output_type": "execute_result"
    }
   ],
   "source": [
    "test_collection.count_documents({})"
   ]
  },
  {
   "cell_type": "markdown",
   "metadata": {},
   "source": [
    "# basic query"
   ]
  },
  {
   "cell_type": "code",
   "execution_count": 21,
   "metadata": {},
   "outputs": [
    {
     "name": "stdout",
     "output_type": "stream",
     "text": [
      "{'_id': 104, 'name': 'drew', 'score': 32, 'skills': ['matlab', 'aspen']}\n",
      "{'_id': 105, 'name': 'drew', 'score': 15, 'skills': ['cold fusion']}\n"
     ]
    }
   ],
   "source": [
    "query = {'name': 'drew'}\n",
    "for each in test_collection.find(query): print(each)"
   ]
  },
  {
   "cell_type": "code",
   "execution_count": 22,
   "metadata": {},
   "outputs": [
    {
     "data": {
      "text/plain": [
       "[{'_id': 104, 'name': 'drew', 'score': 32, 'skills': ['matlab', 'aspen']},\n",
       " {'_id': 105, 'name': 'drew', 'score': 15, 'skills': ['cold fusion']}]"
      ]
     },
     "execution_count": 22,
     "metadata": {},
     "output_type": "execute_result"
    }
   ],
   "source": [
    "query = {'name': 'drew'}\n",
    "list(test_collection.find(query))"
   ]
  },
  {
   "cell_type": "code",
   "execution_count": 23,
   "metadata": {},
   "outputs": [
    {
     "data": {
      "text/plain": [
       "{'_id': ObjectId('5ee11e6d1d94031e4ea138f6'),\n",
       " 'name': 'dave',\n",
       " 'score': 100,\n",
       " 'skills': ['python', 'c++', 'java']}"
      ]
     },
     "execution_count": 23,
     "metadata": {},
     "output_type": "execute_result"
    }
   ],
   "source": [
    "query = {'name': 'dave'}\n",
    "test_collection.find_one(query)"
   ]
  },
  {
   "cell_type": "code",
   "execution_count": 24,
   "metadata": {},
   "outputs": [
    {
     "data": {
      "text/plain": [
       "{'_id': 102, 'name': 'jeff', 'score': 73, 'skills': ['javascript']}"
      ]
     },
     "execution_count": 24,
     "metadata": {},
     "output_type": "execute_result"
    }
   ],
   "source": [
    "query = {'_id': 102}\n",
    "test_collection.find_one(query)"
   ]
  },
  {
   "cell_type": "markdown",
   "metadata": {},
   "source": [
    "## update documents"
   ]
  },
  {
   "cell_type": "code",
   "execution_count": 25,
   "metadata": {},
   "outputs": [],
   "source": [
    "query = {'name': 'dave'}"
   ]
  },
  {
   "cell_type": "code",
   "execution_count": 26,
   "metadata": {},
   "outputs": [],
   "source": [
    "updates_document = { \"$set\" : {\"score\" : 99, \"skills\" : [\"machine learning\",\"data science\",\"AI\"]}}"
   ]
  },
  {
   "cell_type": "code",
   "execution_count": 27,
   "metadata": {},
   "outputs": [],
   "source": [
    "test_update_document = test_collection.update_one(query, updates_document, upsert=False)"
   ]
  },
  {
   "cell_type": "code",
   "execution_count": 28,
   "metadata": {},
   "outputs": [
    {
     "data": {
      "text/plain": [
       "1"
      ]
     },
     "execution_count": 28,
     "metadata": {},
     "output_type": "execute_result"
    }
   ],
   "source": [
    "test_update_document.matched_count"
   ]
  },
  {
   "cell_type": "code",
   "execution_count": 29,
   "metadata": {},
   "outputs": [
    {
     "data": {
      "text/plain": [
       "{'_id': ObjectId('5ee11e6d1d94031e4ea138f6'),\n",
       " 'name': 'dave',\n",
       " 'score': 99,\n",
       " 'skills': ['machine learning', 'data science', 'AI']}"
      ]
     },
     "execution_count": 29,
     "metadata": {},
     "output_type": "execute_result"
    }
   ],
   "source": [
    "query = {'name': 'dave'}\n",
    "test_collection.find_one(query)"
   ]
  },
  {
   "cell_type": "code",
   "execution_count": 30,
   "metadata": {},
   "outputs": [],
   "source": [
    "query = {'name': 'drew'}\n",
    "updates_document = {'$set': {'score': 58}}\n",
    "test_many_update_document = test_collection.update_many(query, updates_document)"
   ]
  },
  {
   "cell_type": "code",
   "execution_count": 31,
   "metadata": {},
   "outputs": [
    {
     "data": {
      "text/plain": [
       "2"
      ]
     },
     "execution_count": 31,
     "metadata": {},
     "output_type": "execute_result"
    }
   ],
   "source": [
    "test_many_update_document.matched_count"
   ]
  },
  {
   "cell_type": "code",
   "execution_count": 32,
   "metadata": {},
   "outputs": [
    {
     "data": {
      "text/plain": [
       "[{'_id': 104, 'name': 'drew', 'score': 58, 'skills': ['matlab', 'aspen']},\n",
       " {'_id': 105, 'name': 'drew', 'score': 58, 'skills': ['cold fusion']}]"
      ]
     },
     "execution_count": 32,
     "metadata": {},
     "output_type": "execute_result"
    }
   ],
   "source": [
    "query = {'name': 'drew'}\n",
    "list(test_collection.find(query))"
   ]
  },
  {
   "cell_type": "markdown",
   "metadata": {},
   "source": [
    "# complex queries "
   ]
  },
  {
   "cell_type": "code",
   "execution_count": 33,
   "metadata": {},
   "outputs": [
    {
     "data": {
      "text/plain": [
       "[{'_id': ObjectId('5ee11e6d1d94031e4ea138f6'),\n",
       "  'name': 'dave',\n",
       "  'score': 99,\n",
       "  'skills': ['machine learning', 'data science', 'AI']},\n",
       " {'_id': 104, 'name': 'drew', 'score': 58, 'skills': ['matlab', 'aspen']},\n",
       " {'_id': 105, 'name': 'drew', 'score': 58, 'skills': ['cold fusion']},\n",
       " {'_id': 106, 'name': 'dave', 'score': 89, 'skills': ['office']},\n",
       " {'_id': 107, 'name': 'dave', 'score': 100, 'skills': ['linux']}]"
      ]
     },
     "execution_count": 33,
     "metadata": {},
     "output_type": "execute_result"
    }
   ],
   "source": [
    "# regex \n",
    "query = {'name': {'$regex': '^d'}}\n",
    "list(test_collection.find(query))"
   ]
  },
  {
   "cell_type": "code",
   "execution_count": 34,
   "metadata": {},
   "outputs": [
    {
     "data": {
      "text/plain": [
       "[{'name': 'dave', 'score': 99},\n",
       " {'name': 'drew', 'score': 58},\n",
       " {'name': 'drew', 'score': 58},\n",
       " {'name': 'dave', 'score': 89},\n",
       " {'name': 'dave', 'score': 100}]"
      ]
     },
     "execution_count": 34,
     "metadata": {},
     "output_type": "execute_result"
    }
   ],
   "source": [
    "# exclude fields \n",
    "query = {'name': {'$regex': '^d'}}\n",
    "exclude = {\"_id\" : 0, \"skills\" : 0}\n",
    "list(test_collection.find(query, exclude))"
   ]
  },
  {
   "cell_type": "code",
   "execution_count": 35,
   "metadata": {},
   "outputs": [
    {
     "data": {
      "text/plain": [
       "[{'_id': ObjectId('5ee11e6d1d94031e4ea138f6'),\n",
       "  'name': 'dave',\n",
       "  'score': 99,\n",
       "  'skills': ['machine learning', 'data science', 'AI']},\n",
       " {'_id': 104, 'name': 'drew', 'score': 58, 'skills': ['matlab', 'aspen']}]"
      ]
     },
     "execution_count": 35,
     "metadata": {},
     "output_type": "execute_result"
    }
   ],
   "source": [
    "# limit\n",
    "query = {'name': {'$regex': '^d'}}\n",
    "list(test_collection.find(query).limit(2))"
   ]
  },
  {
   "cell_type": "code",
   "execution_count": 36,
   "metadata": {},
   "outputs": [
    {
     "data": {
      "text/plain": [
       "[{'_id': 107, 'name': 'dave', 'score': 100, 'skills': ['linux']},\n",
       " {'_id': ObjectId('5ee11e6d1d94031e4ea138f6'),\n",
       "  'name': 'dave',\n",
       "  'score': 99,\n",
       "  'skills': ['machine learning', 'data science', 'AI']},\n",
       " {'_id': 106, 'name': 'dave', 'score': 89, 'skills': ['office']},\n",
       " {'_id': 104, 'name': 'drew', 'score': 58, 'skills': ['matlab', 'aspen']},\n",
       " {'_id': 105, 'name': 'drew', 'score': 58, 'skills': ['cold fusion']}]"
      ]
     },
     "execution_count": 36,
     "metadata": {},
     "output_type": "execute_result"
    }
   ],
   "source": [
    "# sort (1 vs. -1 in second argument for ascending vs. decending)\n",
    "query = {'name': {'$regex': '^d'}}\n",
    "list(test_collection.find(query).sort(\"score\", -1))"
   ]
  },
  {
   "cell_type": "code",
   "execution_count": 37,
   "metadata": {},
   "outputs": [
    {
     "data": {
      "text/plain": [
       "[{'name': 'dave', 'score': 99},\n",
       " {'name': 'dave', 'score': 89},\n",
       " {'name': 'dave', 'score': 100}]"
      ]
     },
     "execution_count": 37,
     "metadata": {},
     "output_type": "execute_result"
    }
   ],
   "source": [
    "# inequalities, \"$gt\" = greater than, \"$lt\" = less than, gte, lte\n",
    "exclude = {\"_id\" : 0, \"skills\" : 0}\n",
    "query =  {'name': {'$regex': '^d'}, \n",
    "          \"score\": { \"$gt\": 60 } }\n",
    "list(test_collection.find(query, exclude))"
   ]
  },
  {
   "cell_type": "code",
   "execution_count": 38,
   "metadata": {},
   "outputs": [
    {
     "data": {
      "text/plain": [
       "[{'name': 'drew', 'score': 58},\n",
       " {'name': 'drew', 'score': 58},\n",
       " {'name': 'dave', 'score': 89},\n",
       " {'name': 'dave', 'score': 100}]"
      ]
     },
     "execution_count": 38,
     "metadata": {},
     "output_type": "execute_result"
    }
   ],
   "source": [
    "# not euqual = \"$ne\"\n",
    "exclude = {\"_id\" : 0, \"skills\" : 0}\n",
    "query =  {'name': {'$regex': '^d'}, \n",
    "          \"score\": { \"$ne\": 99 } }\n",
    "list(test_collection.find(query, exclude))"
   ]
  },
  {
   "cell_type": "code",
   "execution_count": 39,
   "metadata": {},
   "outputs": [
    {
     "data": {
      "text/plain": [
       "[{'name': 'drew', 'score': 58},\n",
       " {'name': 'drew', 'score': 58},\n",
       " {'name': 'dave', 'score': 89},\n",
       " {'name': 'dave', 'score': 100}]"
      ]
     },
     "execution_count": 39,
     "metadata": {},
     "output_type": "execute_result"
    }
   ],
   "source": [
    "# and (implied by default) (same as above)\n",
    "exclude = {\"_id\" : 0, \"skills\" : 0}\n",
    "query =  {\"$and\" : [ {\"name\": {'$regex': '^d'}}, \n",
    "                     {\"score\": { \"$ne\": 99 }}]}\n",
    "list(test_collection.find(query, exclude))"
   ]
  },
  {
   "cell_type": "code",
   "execution_count": 40,
   "metadata": {},
   "outputs": [
    {
     "data": {
      "text/plain": [
       "[{'name': 'dave', 'score': 99},\n",
       " {'name': 'jeff', 'score': 73},\n",
       " {'name': 'jeff', 'score': 42},\n",
       " {'name': 'drew', 'score': 58},\n",
       " {'name': 'drew', 'score': 58},\n",
       " {'name': 'dave', 'score': 89},\n",
       " {'name': 'dave', 'score': 100}]"
      ]
     },
     "execution_count": 40,
     "metadata": {},
     "output_type": "execute_result"
    }
   ],
   "source": [
    "# or \n",
    "exclude = {\"_id\" : 0, \"skills\" : 0}\n",
    "query =  {\"$or\" : [ {\"name\": {'$regex': '^d'}}, \n",
    "                    {\"name\": {'$regex': '^j' }}]}\n",
    "list(test_collection.find(query, exclude))"
   ]
  },
  {
   "cell_type": "code",
   "execution_count": 41,
   "metadata": {},
   "outputs": [
    {
     "data": {
      "text/plain": [
       "[{'name': 'jeff', 'score': 73},\n",
       " {'name': 'jeff', 'score': 42},\n",
       " {'name': 'drew', 'score': 58},\n",
       " {'name': 'drew', 'score': 58}]"
      ]
     },
     "execution_count": 41,
     "metadata": {},
     "output_type": "execute_result"
    }
   ],
   "source": [
    "# in\n",
    "exclude = {\"_id\" : 0, \"skills\" : 0}\n",
    "query = { \"name\" : { \"$in\" : [\"jeff\", \"drew\"]}}\n",
    "list(test_collection.find(query, exclude))"
   ]
  },
  {
   "cell_type": "code",
   "execution_count": 42,
   "metadata": {},
   "outputs": [
    {
     "data": {
      "text/plain": [
       "[{'name': 'dave',\n",
       "  'score': 99,\n",
       "  'skills': ['machine learning', 'data science', 'AI']}]"
      ]
     },
     "execution_count": 42,
     "metadata": {},
     "output_type": "execute_result"
    }
   ],
   "source": [
    "# in (list)\n",
    "exclude = {\"_id\" : 0}\n",
    "query = { \"skills\" : { \"$in\" : [\"data science\"]}}\n",
    "list(test_collection.find(query, exclude))"
   ]
  },
  {
   "cell_type": "markdown",
   "metadata": {},
   "source": [
    "# grouping and aggregation functions"
   ]
  },
  {
   "cell_type": "code",
   "execution_count": 43,
   "metadata": {},
   "outputs": [
    {
     "data": {
      "text/plain": [
       "[{'_id': 'jeff', 'count': 2},\n",
       " {'_id': 'drew', 'count': 2},\n",
       " {'_id': 'dave', 'count': 3}]"
      ]
     },
     "execution_count": 43,
     "metadata": {},
     "output_type": "execute_result"
    }
   ],
   "source": [
    "pipeline = [\n",
    "    {\n",
    "        \"$group\": { \n",
    "            \"_id\": \"$name\", \n",
    "            \"count\": { \"$sum\": 1 }\n",
    "        }\n",
    "    }\n",
    "]\n",
    "list(test_collection.aggregate(pipeline))"
   ]
  },
  {
   "cell_type": "code",
   "execution_count": 44,
   "metadata": {},
   "outputs": [
    {
     "data": {
      "text/plain": [
       "[{'_id': 'dave',\n",
       "  'score_sum': 288,\n",
       "  'score_min': 89,\n",
       "  'score_max': 100,\n",
       "  'score_avg': 96.0,\n",
       "  'count': 3},\n",
       " {'_id': 'drew',\n",
       "  'score_sum': 116,\n",
       "  'score_min': 58,\n",
       "  'score_max': 58,\n",
       "  'score_avg': 58.0,\n",
       "  'count': 2},\n",
       " {'_id': 'jeff',\n",
       "  'score_sum': 115,\n",
       "  'score_min': 42,\n",
       "  'score_max': 73,\n",
       "  'score_avg': 57.5,\n",
       "  'count': 2}]"
      ]
     },
     "execution_count": 44,
     "metadata": {},
     "output_type": "execute_result"
    }
   ],
   "source": [
    "pipeline = [\n",
    "    {\n",
    "        \"$group\": { \n",
    "            \"_id\": \"$name\", \n",
    "            \"score_sum\" : {\"$sum\" : \"$score\"},\n",
    "            \"score_min\" : {\"$min\" : \"$score\"},\n",
    "            \"score_max\" : {\"$max\" : \"$score\"},\n",
    "            \"score_avg\" : {\"$avg\" : \"$score\"},\n",
    "            \"count\": { \"$sum\": 1 }\n",
    "        }\n",
    "    }\n",
    "]\n",
    "list(test_collection.aggregate(pipeline))"
   ]
  },
  {
   "cell_type": "code",
   "execution_count": 45,
   "metadata": {},
   "outputs": [
    {
     "data": {
      "text/html": [
       "<div>\n",
       "<style scoped>\n",
       "    .dataframe tbody tr th:only-of-type {\n",
       "        vertical-align: middle;\n",
       "    }\n",
       "\n",
       "    .dataframe tbody tr th {\n",
       "        vertical-align: top;\n",
       "    }\n",
       "\n",
       "    .dataframe thead th {\n",
       "        text-align: right;\n",
       "    }\n",
       "</style>\n",
       "<table border=\"1\" class=\"dataframe\">\n",
       "  <thead>\n",
       "    <tr style=\"text-align: right;\">\n",
       "      <th></th>\n",
       "      <th>_id</th>\n",
       "      <th>score_sum</th>\n",
       "      <th>score_min</th>\n",
       "      <th>score_max</th>\n",
       "      <th>score_avg</th>\n",
       "      <th>count</th>\n",
       "    </tr>\n",
       "  </thead>\n",
       "  <tbody>\n",
       "    <tr>\n",
       "      <th>0</th>\n",
       "      <td>dave</td>\n",
       "      <td>288</td>\n",
       "      <td>89</td>\n",
       "      <td>100</td>\n",
       "      <td>96.0</td>\n",
       "      <td>3</td>\n",
       "    </tr>\n",
       "    <tr>\n",
       "      <th>1</th>\n",
       "      <td>drew</td>\n",
       "      <td>116</td>\n",
       "      <td>58</td>\n",
       "      <td>58</td>\n",
       "      <td>58.0</td>\n",
       "      <td>2</td>\n",
       "    </tr>\n",
       "    <tr>\n",
       "      <th>2</th>\n",
       "      <td>jeff</td>\n",
       "      <td>115</td>\n",
       "      <td>42</td>\n",
       "      <td>73</td>\n",
       "      <td>57.5</td>\n",
       "      <td>2</td>\n",
       "    </tr>\n",
       "  </tbody>\n",
       "</table>\n",
       "</div>"
      ],
      "text/plain": [
       "    _id  score_sum  score_min  score_max  score_avg  count\n",
       "0  dave        288         89        100       96.0      3\n",
       "1  drew        116         58         58       58.0      2\n",
       "2  jeff        115         42         73       57.5      2"
      ]
     },
     "execution_count": 45,
     "metadata": {},
     "output_type": "execute_result"
    }
   ],
   "source": [
    "pd.DataFrame(list(test_collection.aggregate(pipeline)))"
   ]
  },
  {
   "cell_type": "markdown",
   "metadata": {},
   "source": [
    "# delete documents"
   ]
  },
  {
   "cell_type": "code",
   "execution_count": 46,
   "metadata": {},
   "outputs": [
    {
     "name": "stdout",
     "output_type": "stream",
     "text": [
      "{'_id': 104, 'name': 'drew', 'score': 58, 'skills': ['matlab', 'aspen']}\n",
      "{'_id': 105, 'name': 'drew', 'score': 58, 'skills': ['cold fusion']}\n"
     ]
    }
   ],
   "source": [
    "query = {'name': 'drew'}\n",
    "for each in test_collection.find(query): print(each)"
   ]
  },
  {
   "cell_type": "code",
   "execution_count": 47,
   "metadata": {},
   "outputs": [],
   "source": [
    "query = {'name': 'drew'}\n",
    "test_delete_documents = test_collection.delete_many(query)"
   ]
  },
  {
   "cell_type": "code",
   "execution_count": 48,
   "metadata": {},
   "outputs": [
    {
     "data": {
      "text/plain": [
       "2"
      ]
     },
     "execution_count": 48,
     "metadata": {},
     "output_type": "execute_result"
    }
   ],
   "source": [
    "test_delete_documents.deleted_count"
   ]
  },
  {
   "cell_type": "code",
   "execution_count": 49,
   "metadata": {},
   "outputs": [],
   "source": [
    "query = {'name': 'drew'}\n",
    "for each in test_collection.find(query): print(each)"
   ]
  },
  {
   "cell_type": "markdown",
   "metadata": {},
   "source": [
    "# delete collection"
   ]
  },
  {
   "cell_type": "code",
   "execution_count": 50,
   "metadata": {},
   "outputs": [],
   "source": [
    "db.test_collection.drop()"
   ]
  },
  {
   "cell_type": "markdown",
   "metadata": {},
   "source": [
    "# delete database "
   ]
  },
  {
   "cell_type": "code",
   "execution_count": 51,
   "metadata": {},
   "outputs": [],
   "source": [
    "client.drop_database(\"test_database\")"
   ]
  },
  {
   "cell_type": "markdown",
   "metadata": {},
   "source": [
    "# other"
   ]
  },
  {
   "cell_type": "code",
   "execution_count": 52,
   "metadata": {},
   "outputs": [],
   "source": [
    "# use .create_index() for faster querying, note: field must have unique entries  "
   ]
  },
  {
   "cell_type": "code",
   "execution_count": null,
   "metadata": {},
   "outputs": [],
   "source": []
  }
 ],
 "metadata": {
  "kernelspec": {
   "display_name": "Python 3",
   "language": "python",
   "name": "python3"
  },
  "language_info": {
   "codemirror_mode": {
    "name": "ipython",
    "version": 3
   },
   "file_extension": ".py",
   "mimetype": "text/x-python",
   "name": "python",
   "nbconvert_exporter": "python",
   "pygments_lexer": "ipython3",
   "version": "3.7.6"
  }
 },
 "nbformat": 4,
 "nbformat_minor": 4
}
