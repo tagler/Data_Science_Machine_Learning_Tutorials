{
 "cells": [
  {
   "cell_type": "markdown",
   "metadata": {},
   "source": [
    "# Conformal Prediction Intervals"
   ]
  },
  {
   "cell_type": "markdown",
   "metadata": {},
   "source": [
    "# setup - regression"
   ]
  },
  {
   "cell_type": "code",
   "execution_count": 1,
   "metadata": {},
   "outputs": [],
   "source": [
    "import numpy as np\n",
    "import pandas as pd\n",
    "import matplotlib.pyplot as plt\n",
    "import seaborn as sns"
   ]
  },
  {
   "cell_type": "code",
   "execution_count": 2,
   "metadata": {},
   "outputs": [],
   "source": [
    "from sklearn.datasets import load_boston\n",
    "from sklearn.model_selection import train_test_split"
   ]
  },
  {
   "cell_type": "code",
   "execution_count": 3,
   "metadata": {},
   "outputs": [],
   "source": [
    "boston = load_boston()\n",
    "features = boston[\"data\"]\n",
    "feature_names = boston[\"feature_names\"]\n",
    "labels = boston[\"target\"]"
   ]
  },
  {
   "cell_type": "code",
   "execution_count": 4,
   "metadata": {},
   "outputs": [],
   "source": [
    "df = pd.DataFrame(features)\n",
    "df.columns = feature_names \n",
    "df[\"LABEL\"] = labels"
   ]
  },
  {
   "cell_type": "code",
   "execution_count": 5,
   "metadata": {},
   "outputs": [],
   "source": [
    "X = df.drop(columns=[\"LABEL\"])\n",
    "y = df[\"LABEL\"]"
   ]
  },
  {
   "cell_type": "code",
   "execution_count": 6,
   "metadata": {},
   "outputs": [],
   "source": [
    "X_train_and_cal, X_test, y_train_and_cal, y_test = train_test_split(X, y, test_size=0.2, random_state=1)"
   ]
  },
  {
   "cell_type": "code",
   "execution_count": 7,
   "metadata": {},
   "outputs": [],
   "source": [
    "X_train, X_cal, y_train, y_cal = train_test_split(X_train_and_cal, y_train_and_cal, test_size=0.5, random_state=1)"
   ]
  },
  {
   "cell_type": "code",
   "execution_count": 8,
   "metadata": {},
   "outputs": [
    {
     "name": "stdout",
     "output_type": "stream",
     "text": [
      "Training Set Shape: (202, 13)\n",
      "Calibration Set Shape: (202, 13)\n",
      "Testing Set Shape: (102, 13)\n"
     ]
    }
   ],
   "source": [
    "print(f\"Training Set Shape: {X_train.shape}\")\n",
    "print(f\"Calibration Set Shape: {X_cal.shape}\")\n",
    "print(f\"Testing Set Shape: {X_test.shape}\")"
   ]
  },
  {
   "cell_type": "markdown",
   "metadata": {},
   "source": [
    "# conformal prediction - regression (not normalized, calibration)"
   ]
  },
  {
   "cell_type": "code",
   "execution_count": 9,
   "metadata": {},
   "outputs": [],
   "source": [
    "# https://github.com/donlnz/nonconformist/blob/master/README.ipynb"
   ]
  },
  {
   "cell_type": "code",
   "execution_count": null,
   "metadata": {},
   "outputs": [],
   "source": [
    "# https://scottlocklin.wordpress.com/2016/12/05/predicting-with-confidence-the-best-machine-learning-idea-you-never-heard-of/"
   ]
  },
  {
   "cell_type": "code",
   "execution_count": 10,
   "metadata": {},
   "outputs": [],
   "source": [
    "from nonconformist.nc import NcFactory\n",
    "from nonconformist.cp import IcpRegressor"
   ]
  },
  {
   "cell_type": "code",
   "execution_count": 11,
   "metadata": {},
   "outputs": [],
   "source": [
    "# underlying model"
   ]
  },
  {
   "cell_type": "code",
   "execution_count": 12,
   "metadata": {},
   "outputs": [],
   "source": [
    "from sklearn.ensemble import RandomForestRegressor"
   ]
  },
  {
   "cell_type": "code",
   "execution_count": 13,
   "metadata": {},
   "outputs": [],
   "source": [
    "clf_regression = RandomForestRegressor(n_estimators=500, \n",
    "                                       max_features=0.5,\n",
    "                                       min_samples_leaf=1, \n",
    "                                       n_jobs=-1, \n",
    "                                       oob_score=True)"
   ]
  },
  {
   "cell_type": "code",
   "execution_count": 14,
   "metadata": {},
   "outputs": [],
   "source": [
    "# nonconformity function "
   ]
  },
  {
   "cell_type": "code",
   "execution_count": 15,
   "metadata": {},
   "outputs": [],
   "source": [
    "nc_regression = NcFactory.create_nc(clf_regression)"
   ]
  },
  {
   "cell_type": "code",
   "execution_count": 16,
   "metadata": {},
   "outputs": [],
   "source": [
    "# inductive conformal regressor"
   ]
  },
  {
   "cell_type": "code",
   "execution_count": 17,
   "metadata": {},
   "outputs": [],
   "source": [
    "icp_regression = IcpRegressor(nc_regression)\t"
   ]
  },
  {
   "cell_type": "code",
   "execution_count": 18,
   "metadata": {},
   "outputs": [],
   "source": [
    "# fit training set"
   ]
  },
  {
   "cell_type": "code",
   "execution_count": 19,
   "metadata": {},
   "outputs": [],
   "source": [
    "icp_regression.fit(X_train, y_train)"
   ]
  },
  {
   "cell_type": "code",
   "execution_count": 20,
   "metadata": {},
   "outputs": [],
   "source": [
    "# predictions "
   ]
  },
  {
   "cell_type": "code",
   "execution_count": 21,
   "metadata": {},
   "outputs": [],
   "source": [
    "clf_predictions = clf_regression.predict(X_test)"
   ]
  },
  {
   "cell_type": "code",
   "execution_count": 22,
   "metadata": {},
   "outputs": [],
   "source": [
    "# calibrate icp"
   ]
  },
  {
   "cell_type": "code",
   "execution_count": 23,
   "metadata": {},
   "outputs": [],
   "source": [
    "icp_regression.calibrate(X_cal, y_cal)"
   ]
  },
  {
   "cell_type": "code",
   "execution_count": 24,
   "metadata": {},
   "outputs": [],
   "source": [
    "# prediction intervals "
   ]
  },
  {
   "cell_type": "code",
   "execution_count": 163,
   "metadata": {},
   "outputs": [],
   "source": [
    "epsilon = 0.05"
   ]
  },
  {
   "cell_type": "code",
   "execution_count": 164,
   "metadata": {},
   "outputs": [],
   "source": [
    "prediction_intervals = icp_regression.predict(np.array(X_test), significance=epsilon)"
   ]
  },
  {
   "cell_type": "code",
   "execution_count": 165,
   "metadata": {},
   "outputs": [],
   "source": [
    "prediction_ints_df = pd.DataFrame(prediction_intervals)\n",
    "prediction_ints_df.columns = [\"LOWER\",\"UPPER\"]"
   ]
  },
  {
   "cell_type": "code",
   "execution_count": 166,
   "metadata": {},
   "outputs": [],
   "source": [
    "# results"
   ]
  },
  {
   "cell_type": "code",
   "execution_count": 167,
   "metadata": {},
   "outputs": [],
   "source": [
    "actual_prediction_df = pd.DataFrame({'ACTUAL' : y_test,\n",
    "                                     'PREDICTION' : clf_predictions}).reset_index(drop=True)\n",
    "results_df = pd.concat([actual_prediction_df, prediction_ints_df], axis=1)"
   ]
  },
  {
   "cell_type": "code",
   "execution_count": 168,
   "metadata": {},
   "outputs": [
    {
     "data": {
      "text/html": [
       "<div>\n",
       "<style scoped>\n",
       "    .dataframe tbody tr th:only-of-type {\n",
       "        vertical-align: middle;\n",
       "    }\n",
       "\n",
       "    .dataframe tbody tr th {\n",
       "        vertical-align: top;\n",
       "    }\n",
       "\n",
       "    .dataframe thead th {\n",
       "        text-align: right;\n",
       "    }\n",
       "</style>\n",
       "<table border=\"1\" class=\"dataframe\">\n",
       "  <thead>\n",
       "    <tr style=\"text-align: right;\">\n",
       "      <th></th>\n",
       "      <th>ACTUAL</th>\n",
       "      <th>PREDICTION</th>\n",
       "      <th>LOWER</th>\n",
       "      <th>UPPER</th>\n",
       "    </tr>\n",
       "  </thead>\n",
       "  <tbody>\n",
       "    <tr>\n",
       "      <th>0</th>\n",
       "      <td>28.2</td>\n",
       "      <td>29.0080</td>\n",
       "      <td>22.7870</td>\n",
       "      <td>35.2290</td>\n",
       "    </tr>\n",
       "    <tr>\n",
       "      <th>1</th>\n",
       "      <td>23.9</td>\n",
       "      <td>27.5370</td>\n",
       "      <td>21.3160</td>\n",
       "      <td>33.7580</td>\n",
       "    </tr>\n",
       "    <tr>\n",
       "      <th>2</th>\n",
       "      <td>16.6</td>\n",
       "      <td>19.9540</td>\n",
       "      <td>13.7330</td>\n",
       "      <td>26.1750</td>\n",
       "    </tr>\n",
       "    <tr>\n",
       "      <th>3</th>\n",
       "      <td>22.0</td>\n",
       "      <td>21.0512</td>\n",
       "      <td>14.8302</td>\n",
       "      <td>27.2722</td>\n",
       "    </tr>\n",
       "    <tr>\n",
       "      <th>4</th>\n",
       "      <td>20.8</td>\n",
       "      <td>20.0862</td>\n",
       "      <td>13.8652</td>\n",
       "      <td>26.3072</td>\n",
       "    </tr>\n",
       "    <tr>\n",
       "      <th>...</th>\n",
       "      <td>...</td>\n",
       "      <td>...</td>\n",
       "      <td>...</td>\n",
       "      <td>...</td>\n",
       "    </tr>\n",
       "    <tr>\n",
       "      <th>97</th>\n",
       "      <td>22.9</td>\n",
       "      <td>24.3588</td>\n",
       "      <td>18.1378</td>\n",
       "      <td>30.5798</td>\n",
       "    </tr>\n",
       "    <tr>\n",
       "      <th>98</th>\n",
       "      <td>44.8</td>\n",
       "      <td>41.2264</td>\n",
       "      <td>35.0054</td>\n",
       "      <td>47.4474</td>\n",
       "    </tr>\n",
       "    <tr>\n",
       "      <th>99</th>\n",
       "      <td>21.7</td>\n",
       "      <td>20.7402</td>\n",
       "      <td>14.5192</td>\n",
       "      <td>26.9612</td>\n",
       "    </tr>\n",
       "    <tr>\n",
       "      <th>100</th>\n",
       "      <td>10.2</td>\n",
       "      <td>17.5524</td>\n",
       "      <td>11.3314</td>\n",
       "      <td>23.7734</td>\n",
       "    </tr>\n",
       "    <tr>\n",
       "      <th>101</th>\n",
       "      <td>15.4</td>\n",
       "      <td>14.5786</td>\n",
       "      <td>8.3576</td>\n",
       "      <td>20.7996</td>\n",
       "    </tr>\n",
       "  </tbody>\n",
       "</table>\n",
       "<p>102 rows × 4 columns</p>\n",
       "</div>"
      ],
      "text/plain": [
       "     ACTUAL  PREDICTION    LOWER    UPPER\n",
       "0      28.2     29.0080  22.7870  35.2290\n",
       "1      23.9     27.5370  21.3160  33.7580\n",
       "2      16.6     19.9540  13.7330  26.1750\n",
       "3      22.0     21.0512  14.8302  27.2722\n",
       "4      20.8     20.0862  13.8652  26.3072\n",
       "..      ...         ...      ...      ...\n",
       "97     22.9     24.3588  18.1378  30.5798\n",
       "98     44.8     41.2264  35.0054  47.4474\n",
       "99     21.7     20.7402  14.5192  26.9612\n",
       "100    10.2     17.5524  11.3314  23.7734\n",
       "101    15.4     14.5786   8.3576  20.7996\n",
       "\n",
       "[102 rows x 4 columns]"
      ]
     },
     "execution_count": 168,
     "metadata": {},
     "output_type": "execute_result"
    }
   ],
   "source": [
    "results_df"
   ]
  },
  {
   "cell_type": "code",
   "execution_count": 169,
   "metadata": {},
   "outputs": [],
   "source": [
    "results_df_sorted = results_df.sort_values(by='ACTUAL').reset_index(drop=True)"
   ]
  },
  {
   "cell_type": "code",
   "execution_count": 170,
   "metadata": {},
   "outputs": [
    {
     "data": {
      "text/plain": [
       "(0, 60)"
      ]
     },
     "execution_count": 170,
     "metadata": {},
     "output_type": "execute_result"
    },
    {
     "data": {
      "image/png": "[encoded data removed]",
      "text/plain": [
       "<Figure size 720x504 with 1 Axes>"
      ]
     },
     "metadata": {
      "needs_background": "light"
     },
     "output_type": "display_data"
    }
   ],
   "source": [
    "plt.figure(figsize=[10,7])\n",
    "plt.scatter(results_df_sorted.index,\n",
    "            results_df_sorted.ACTUAL,\n",
    "            color='green')\n",
    "plt.errorbar(results_df_sorted.index,\n",
    "             results_df_sorted.PREDICTION,\n",
    "             yerr=[results_df_sorted.PREDICTION - results_df_sorted.LOWER, \n",
    "                   results_df_sorted.UPPER - results_df_sorted.PREDICTION],\n",
    "             ecolor='lightblue', \n",
    "             fmt='bo',\n",
    "             elinewidth=0)\n",
    "plt.title(\"Actual vs. Prediction with Prediction Intervals\")\n",
    "plt.legend(['Actual','Predictions'])\n",
    "plt.ylim([0,60])"
   ]
  },
  {
   "cell_type": "code",
   "execution_count": 171,
   "metadata": {},
   "outputs": [
    {
     "name": "stdout",
     "output_type": "stream",
     "text": [
      "Percent of Predictions +/- Interval that Include Actual Value: 0.9215686274509803\n"
     ]
    }
   ],
   "source": [
    "correct = 0\n",
    "for each_row in results_df_sorted.itertuples():\n",
    "    if each_row.LOWER <= each_row.ACTUAL <= each_row.UPPER:\n",
    "        correct += 1\n",
    "print(f\"Percent of Predictions +/- Interval that Include Actual Value: {correct/results_df.shape[0]}\")"
   ]
  },
  {
   "cell_type": "markdown",
   "metadata": {},
   "source": [
    "# conformal prediction - regression (normalized, different intervals)"
   ]
  },
  {
   "cell_type": "code",
   "execution_count": 172,
   "metadata": {},
   "outputs": [],
   "source": [
    "# https://github.com/donlnz/nonconformist/blob/master/examples/icp_regression_tree.py"
   ]
  },
  {
   "cell_type": "code",
   "execution_count": 173,
   "metadata": {},
   "outputs": [],
   "source": [
    "from sklearn.neighbors import KNeighborsRegressor\n",
    "from nonconformist.base import RegressorAdapter\n",
    "from nonconformist.icp import IcpRegressor\n",
    "from nonconformist.nc import RegressorNc, AbsErrorErrFunc, RegressorNormalizer"
   ]
  },
  {
   "cell_type": "code",
   "execution_count": 174,
   "metadata": {},
   "outputs": [],
   "source": [
    "# underlying model"
   ]
  },
  {
   "cell_type": "code",
   "execution_count": 175,
   "metadata": {},
   "outputs": [],
   "source": [
    "from sklearn.ensemble import RandomForestRegressor"
   ]
  },
  {
   "cell_type": "code",
   "execution_count": 176,
   "metadata": {},
   "outputs": [],
   "source": [
    "clf_regression_normalized = RandomForestRegressor(n_estimators=500, \n",
    "                                                  max_features=0.5,\n",
    "                                                  min_samples_leaf=1, \n",
    "                                                  n_jobs=-1, \n",
    "                                                  oob_score=True)"
   ]
  },
  {
   "cell_type": "code",
   "execution_count": 177,
   "metadata": {},
   "outputs": [],
   "source": [
    "underlying_model = RegressorAdapter(clf_regression_normalized)"
   ]
  },
  {
   "cell_type": "code",
   "execution_count": 178,
   "metadata": {},
   "outputs": [],
   "source": [
    "# normalization "
   ]
  },
  {
   "cell_type": "code",
   "execution_count": 179,
   "metadata": {},
   "outputs": [],
   "source": [
    "#normalizing_model = RegressorAdapter(KNeighborsRegressor(n_neighbors=25))\n",
    "normalizing_model = RegressorAdapter(RandomForestRegressor())"
   ]
  },
  {
   "cell_type": "code",
   "execution_count": 180,
   "metadata": {},
   "outputs": [],
   "source": [
    "normalizer = RegressorNormalizer(underlying_model, normalizing_model, AbsErrorErrFunc())"
   ]
  },
  {
   "cell_type": "code",
   "execution_count": 181,
   "metadata": {},
   "outputs": [],
   "source": [
    "# nonconformity function "
   ]
  },
  {
   "cell_type": "code",
   "execution_count": 182,
   "metadata": {},
   "outputs": [],
   "source": [
    "nc_regression_normalized = RegressorNc(underlying_model, AbsErrorErrFunc(), normalizer)"
   ]
  },
  {
   "cell_type": "code",
   "execution_count": 183,
   "metadata": {},
   "outputs": [],
   "source": [
    "# inductive conformal regressor"
   ]
  },
  {
   "cell_type": "code",
   "execution_count": 184,
   "metadata": {},
   "outputs": [],
   "source": [
    "icp_regression_normalized = IcpRegressor(nc_regression_normalized)"
   ]
  },
  {
   "cell_type": "code",
   "execution_count": 185,
   "metadata": {},
   "outputs": [],
   "source": [
    "# fit training set"
   ]
  },
  {
   "cell_type": "code",
   "execution_count": 186,
   "metadata": {},
   "outputs": [],
   "source": [
    "icp_regression_normalized.fit(X_train, y_train)"
   ]
  },
  {
   "cell_type": "code",
   "execution_count": 187,
   "metadata": {},
   "outputs": [],
   "source": [
    "# predictions "
   ]
  },
  {
   "cell_type": "code",
   "execution_count": 188,
   "metadata": {},
   "outputs": [],
   "source": [
    "clf_predictions_normalized = clf_regression_normalized.predict(X_test)"
   ]
  },
  {
   "cell_type": "code",
   "execution_count": 189,
   "metadata": {},
   "outputs": [],
   "source": [
    "# calibrate icp"
   ]
  },
  {
   "cell_type": "code",
   "execution_count": 190,
   "metadata": {},
   "outputs": [],
   "source": [
    "icp_regression_normalized.calibrate(X_cal, y_cal)"
   ]
  },
  {
   "cell_type": "code",
   "execution_count": 191,
   "metadata": {},
   "outputs": [],
   "source": [
    "# prediction intervals "
   ]
  },
  {
   "cell_type": "code",
   "execution_count": 192,
   "metadata": {},
   "outputs": [],
   "source": [
    "epsilon = 0.1"
   ]
  },
  {
   "cell_type": "code",
   "execution_count": 193,
   "metadata": {},
   "outputs": [],
   "source": [
    "prediction_intervals_normalized = icp_regression_normalized.predict(np.array(X_test), significance=epsilon)"
   ]
  },
  {
   "cell_type": "code",
   "execution_count": 194,
   "metadata": {},
   "outputs": [],
   "source": [
    "prediction_ints_normalized_df = pd.DataFrame(prediction_intervals_normalized)\n",
    "prediction_ints_normalized_df.columns = [\"LOWER\",\"UPPER\"]"
   ]
  },
  {
   "cell_type": "code",
   "execution_count": 195,
   "metadata": {},
   "outputs": [],
   "source": [
    "# results"
   ]
  },
  {
   "cell_type": "code",
   "execution_count": 196,
   "metadata": {},
   "outputs": [],
   "source": [
    "actual_prediction_normalized_df = pd.DataFrame({'ACTUAL' : y_test,\n",
    "                                                'PREDICTION' : clf_predictions}).reset_index(drop=True)\n",
    "results_normalized_df = pd.concat([actual_prediction_normalized_df, prediction_ints_normalized_df], axis=1)"
   ]
  },
  {
   "cell_type": "code",
   "execution_count": 197,
   "metadata": {},
   "outputs": [
    {
     "data": {
      "text/html": [
       "<div>\n",
       "<style scoped>\n",
       "    .dataframe tbody tr th:only-of-type {\n",
       "        vertical-align: middle;\n",
       "    }\n",
       "\n",
       "    .dataframe tbody tr th {\n",
       "        vertical-align: top;\n",
       "    }\n",
       "\n",
       "    .dataframe thead th {\n",
       "        text-align: right;\n",
       "    }\n",
       "</style>\n",
       "<table border=\"1\" class=\"dataframe\">\n",
       "  <thead>\n",
       "    <tr style=\"text-align: right;\">\n",
       "      <th></th>\n",
       "      <th>ACTUAL</th>\n",
       "      <th>PREDICTION</th>\n",
       "      <th>LOWER</th>\n",
       "      <th>UPPER</th>\n",
       "    </tr>\n",
       "  </thead>\n",
       "  <tbody>\n",
       "    <tr>\n",
       "      <th>0</th>\n",
       "      <td>28.2</td>\n",
       "      <td>29.0080</td>\n",
       "      <td>26.069965</td>\n",
       "      <td>31.418035</td>\n",
       "    </tr>\n",
       "    <tr>\n",
       "      <th>1</th>\n",
       "      <td>23.9</td>\n",
       "      <td>27.5370</td>\n",
       "      <td>23.506595</td>\n",
       "      <td>31.212605</td>\n",
       "    </tr>\n",
       "    <tr>\n",
       "      <th>2</th>\n",
       "      <td>16.6</td>\n",
       "      <td>19.9540</td>\n",
       "      <td>10.933038</td>\n",
       "      <td>28.490962</td>\n",
       "    </tr>\n",
       "    <tr>\n",
       "      <th>3</th>\n",
       "      <td>22.0</td>\n",
       "      <td>21.0512</td>\n",
       "      <td>19.220894</td>\n",
       "      <td>22.540306</td>\n",
       "    </tr>\n",
       "    <tr>\n",
       "      <th>4</th>\n",
       "      <td>20.8</td>\n",
       "      <td>20.0862</td>\n",
       "      <td>15.877932</td>\n",
       "      <td>23.748868</td>\n",
       "    </tr>\n",
       "    <tr>\n",
       "      <th>...</th>\n",
       "      <td>...</td>\n",
       "      <td>...</td>\n",
       "      <td>...</td>\n",
       "      <td>...</td>\n",
       "    </tr>\n",
       "    <tr>\n",
       "      <th>97</th>\n",
       "      <td>22.9</td>\n",
       "      <td>24.3588</td>\n",
       "      <td>20.649084</td>\n",
       "      <td>28.188516</td>\n",
       "    </tr>\n",
       "    <tr>\n",
       "      <th>98</th>\n",
       "      <td>44.8</td>\n",
       "      <td>41.2264</td>\n",
       "      <td>22.000840</td>\n",
       "      <td>61.557160</td>\n",
       "    </tr>\n",
       "    <tr>\n",
       "      <th>99</th>\n",
       "      <td>21.7</td>\n",
       "      <td>20.7402</td>\n",
       "      <td>18.879767</td>\n",
       "      <td>22.714633</td>\n",
       "    </tr>\n",
       "    <tr>\n",
       "      <th>100</th>\n",
       "      <td>10.2</td>\n",
       "      <td>17.5524</td>\n",
       "      <td>9.159689</td>\n",
       "      <td>25.515911</td>\n",
       "    </tr>\n",
       "    <tr>\n",
       "      <th>101</th>\n",
       "      <td>15.4</td>\n",
       "      <td>14.5786</td>\n",
       "      <td>9.267429</td>\n",
       "      <td>19.325771</td>\n",
       "    </tr>\n",
       "  </tbody>\n",
       "</table>\n",
       "<p>102 rows × 4 columns</p>\n",
       "</div>"
      ],
      "text/plain": [
       "     ACTUAL  PREDICTION      LOWER      UPPER\n",
       "0      28.2     29.0080  26.069965  31.418035\n",
       "1      23.9     27.5370  23.506595  31.212605\n",
       "2      16.6     19.9540  10.933038  28.490962\n",
       "3      22.0     21.0512  19.220894  22.540306\n",
       "4      20.8     20.0862  15.877932  23.748868\n",
       "..      ...         ...        ...        ...\n",
       "97     22.9     24.3588  20.649084  28.188516\n",
       "98     44.8     41.2264  22.000840  61.557160\n",
       "99     21.7     20.7402  18.879767  22.714633\n",
       "100    10.2     17.5524   9.159689  25.515911\n",
       "101    15.4     14.5786   9.267429  19.325771\n",
       "\n",
       "[102 rows x 4 columns]"
      ]
     },
     "execution_count": 197,
     "metadata": {},
     "output_type": "execute_result"
    }
   ],
   "source": [
    "results_normalized_df"
   ]
  },
  {
   "cell_type": "code",
   "execution_count": 198,
   "metadata": {},
   "outputs": [],
   "source": [
    "results_df_normalized_sorted = results_normalized_df.sort_values(by='ACTUAL').reset_index(drop=True)"
   ]
  },
  {
   "cell_type": "code",
   "execution_count": 199,
   "metadata": {},
   "outputs": [
    {
     "data": {
      "text/plain": [
       "(0, 60)"
      ]
     },
     "execution_count": 199,
     "metadata": {},
     "output_type": "execute_result"
    },
    {
     "data": {
      "image/png": "[encoded data removed]",
      "text/plain": [
       "<Figure size 720x504 with 1 Axes>"
      ]
     },
     "metadata": {
      "needs_background": "light"
     },
     "output_type": "display_data"
    }
   ],
   "source": [
    "plt.figure(figsize=[10,7])\n",
    "plt.scatter(results_df_normalized_sorted.index,\n",
    "            results_df_normalized_sorted.ACTUAL,\n",
    "            color='green')\n",
    "plt.errorbar(results_df_normalized_sorted.index,\n",
    "             results_df_normalized_sorted.PREDICTION,\n",
    "             yerr=[results_df_normalized_sorted.PREDICTION - results_df_normalized_sorted.LOWER, \n",
    "                   results_df_normalized_sorted.UPPER - results_df_normalized_sorted.PREDICTION],\n",
    "             ecolor='lightblue', \n",
    "             fmt='bo',\n",
    "             elinewidth=0)\n",
    "plt.title(\"Actual vs. Prediction with Prediction Intervals\")\n",
    "plt.legend(['Actual','Predictions'])\n",
    "plt.ylim([0,60])"
   ]
  },
  {
   "cell_type": "code",
   "execution_count": 200,
   "metadata": {},
   "outputs": [
    {
     "name": "stdout",
     "output_type": "stream",
     "text": [
      "Percent of Predictions +/- Interval that Include Actual Value: 0.8627450980392157\n"
     ]
    }
   ],
   "source": [
    "correct = 0\n",
    "for each_row in results_df_normalized_sorted.itertuples():\n",
    "    if each_row.LOWER <= each_row.ACTUAL <= each_row.UPPER:\n",
    "        correct += 1\n",
    "print(f\"Percent of Predictions +/- Interval that Include Actual Value: {correct/results_df.shape[0]}\")"
   ]
  },
  {
   "cell_type": "code",
   "execution_count": null,
   "metadata": {},
   "outputs": [],
   "source": [
    "# https://github.com/venkatasandeepd/conformal_prediction/blob/master/KNN_Conformal.ipynb"
   ]
  },
  {
   "cell_type": "code",
   "execution_count": null,
   "metadata": {},
   "outputs": [],
   "source": []
  }
 ],
 "metadata": {
  "kernelspec": {
   "display_name": "Python 3",
   "language": "python",
   "name": "python3"
  },
  "language_info": {
   "codemirror_mode": {
    "name": "ipython",
    "version": 3
   },
   "file_extension": ".py",
   "mimetype": "text/x-python",
   "name": "python",
   "nbconvert_exporter": "python",
   "pygments_lexer": "ipython3",
   "version": "3.7.6"
  }
 },
 "nbformat": 4,
 "nbformat_minor": 4
}
