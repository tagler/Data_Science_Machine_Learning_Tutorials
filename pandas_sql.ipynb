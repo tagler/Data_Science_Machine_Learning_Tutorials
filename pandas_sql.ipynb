{
 "cells": [
  {
   "cell_type": "markdown",
   "id": "68190603-4bd9-4aa2-a7af-09ee6d7da3f8",
   "metadata": {},
   "source": [
    "# Open SQL Database in Pandas "
   ]
  },
  {
   "cell_type": "code",
   "execution_count": null,
   "id": "41139879-83e9-4ecc-b0a2-ab2e39e1d94a",
   "metadata": {},
   "outputs": [],
   "source": [
    "import sqlite3\n",
    "import pandas as pd"
   ]
  },
  {
   "cell_type": "code",
   "execution_count": null,
   "id": "65eb8e96-f90e-4670-b7a5-781298380d01",
   "metadata": {},
   "outputs": [],
   "source": [
    "pd.set_option(\"max_colwidth\", None)"
   ]
  },
  {
   "cell_type": "code",
   "execution_count": null,
   "id": "a56e5932-9113-497a-9b15-517059fdce19",
   "metadata": {},
   "outputs": [],
   "source": [
    "con = sqlite3.connect(\"data.sqlite\")\n",
    "con.text_factory = lambda b: b.decode(errors = 'ignore')"
   ]
  },
  {
   "cell_type": "code",
   "execution_count": null,
   "id": "08485e8c-aaa1-43a2-a501-56634e7142cf",
   "metadata": {},
   "outputs": [],
   "source": [
    "cursor = con.cursor()\n",
    "cursor.execute(\"SELECT name FROM sqlite_master WHERE type='table';\")\n",
    "cursor.fetchall()"
   ]
  },
  {
   "cell_type": "code",
   "execution_count": null,
   "id": "c5a40e03-2f8e-4566-a06a-b2e26bda38bd",
   "metadata": {},
   "outputs": [],
   "source": [
    "df = pd.read_sql_query(\"SELECT * FROM data\", con)"
   ]
  },
  {
   "cell_type": "code",
   "execution_count": null,
   "id": "2fed079e-4221-4c38-8275-2949db8dfec5",
   "metadata": {},
   "outputs": [],
   "source": [
    "df"
   ]
  },
  {
   "cell_type": "code",
   "execution_count": null,
   "id": "305c5282-1bbb-46c5-b854-6dbe1aeb0f32",
   "metadata": {},
   "outputs": [],
   "source": []
  }
 ],
 "metadata": {
  "kernelspec": {
   "display_name": "Python 3",
   "language": "python",
   "name": "python3"
  },
  "language_info": {
   "codemirror_mode": {
    "name": "ipython",
    "version": 3
   },
   "file_extension": ".py",
   "mimetype": "text/x-python",
   "name": "python",
   "nbconvert_exporter": "python",
   "pygments_lexer": "ipython3",
   "version": "3.8.8"
  }
 },
 "nbformat": 4,
 "nbformat_minor": 5
}
