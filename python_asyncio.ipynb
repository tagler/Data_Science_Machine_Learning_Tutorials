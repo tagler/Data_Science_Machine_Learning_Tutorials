{
 "cells": [
  {
   "cell_type": "markdown",
   "id": "0ae41fd8-5994-4b83-a045-7d21c6408d18",
   "metadata": {},
   "source": [
    "# Python Asynchronous I/O Tutorial"
   ]
  },
  {
   "cell_type": "code",
   "execution_count": 1,
   "id": "f44950cb-12ae-408d-9407-8281e084951b",
   "metadata": {},
   "outputs": [],
   "source": [
    "import aiohttp\n",
    "import asyncio\n",
    "import time\n",
    "import requests\n",
    "import multiprocessing\n",
    "from multiprocessing import Pool\n",
    "from multiprocessing.dummy import Pool as ThreadPool"
   ]
  },
  {
   "cell_type": "code",
   "execution_count": 2,
   "id": "e85c66a1-11f6-43fd-84ed-932a7ecd0738",
   "metadata": {},
   "outputs": [],
   "source": [
    "urls = [\n",
    "    \"https://www.google.com\",\n",
    "    \"https://www.microsoft.com\",\n",
    "    \"https://www.twitter.com\",\n",
    "    \"https://www.netflix.com\",\n",
    "    \"https://www.facebook.com\",\n",
    "    \"https://www.apple.com\",\n",
    "    \"https://www.amazon.com\",\n",
    "    \"https://www.reddit.com\",\n",
    "    \"https://www.sony.com\",\n",
    "    \"https://www.nintendo.com\",\n",
    "    \"https://www.oracle.com\",\n",
    "    \"https://www.intel.com\",\n",
    "    \"https://www.samsung.com\",\n",
    "    \"https://www.ibm.com\",\n",
    "]"
   ]
  },
  {
   "cell_type": "code",
   "execution_count": 3,
   "id": "3a1022cf-d0fe-44de-b507-28790b390b4f",
   "metadata": {},
   "outputs": [],
   "source": [
    "# fix needed for Python 3.8+ on mac\n",
    "# alternative is to use the 'multiprocess' library \n",
    "multiprocessing.set_start_method('fork')"
   ]
  },
  {
   "cell_type": "markdown",
   "id": "6f4f6095-ddac-4630-9749-8407b0c22432",
   "metadata": {},
   "source": [
    "## Sequential"
   ]
  },
  {
   "cell_type": "code",
   "execution_count": 4,
   "id": "317bfabf-671e-4a30-a3d1-294ff23b0879",
   "metadata": {},
   "outputs": [
    {
     "data": {
      "text/plain": [
       "9.155354976654053"
      ]
     },
     "execution_count": 4,
     "metadata": {},
     "output_type": "execute_result"
    }
   ],
   "source": [
    "start_time = time.time()\n",
    "\n",
    "results = []\n",
    "for each_url in urls:\n",
    "    try:\n",
    "        each_response = requests.get(each_url)\n",
    "        each_content = each_response.content\n",
    "        results.append(each_content)\n",
    "    except Exception as e:\n",
    "        print(f\"{each_url} {e}\")\n",
    "        results.append(None)\n",
    "    \n",
    "time.time() - start_time"
   ]
  },
  {
   "cell_type": "markdown",
   "id": "de772a69-3829-43fb-a7c6-2ff597120693",
   "metadata": {},
   "source": [
    "## Multi-Processing"
   ]
  },
  {
   "cell_type": "code",
   "execution_count": 5,
   "id": "c47b8023-354e-4e7b-b549-28083f3c34e9",
   "metadata": {},
   "outputs": [
    {
     "data": {
      "text/plain": [
       "2.842160940170288"
      ]
     },
     "execution_count": 5,
     "metadata": {},
     "output_type": "execute_result"
    }
   ],
   "source": [
    "start_time = time.time()\n",
    "\n",
    "def example_multiprocessing_function(each_url):\n",
    "    try:\n",
    "        each_response = requests.get(each_url)\n",
    "        each_content = each_response.content\n",
    "        return each_content\n",
    "    except Exception as e:\n",
    "        print(f\"{each_url} {e}\")\n",
    "        return None\n",
    "\n",
    "with Pool(processes=multiprocessing.cpu_count()) as pool:\n",
    "    results = pool.map(example_multiprocessing_function, urls)\n",
    "    \n",
    "time.time() - start_time"
   ]
  },
  {
   "cell_type": "markdown",
   "id": "2de027c8-c34a-4abe-b749-6a3752901de3",
   "metadata": {},
   "source": [
    "## Multi-Threading"
   ]
  },
  {
   "cell_type": "code",
   "execution_count": 6,
   "id": "29bfd1f2-89ed-4d92-8cfe-38beb0eb0291",
   "metadata": {},
   "outputs": [
    {
     "data": {
      "text/plain": [
       "4.485712051391602"
      ]
     },
     "execution_count": 6,
     "metadata": {},
     "output_type": "execute_result"
    }
   ],
   "source": [
    "start_time = time.time()\n",
    "\n",
    "with ThreadPool(processes=multiprocessing.cpu_count()) as pool:\n",
    "    results = pool.map(example_multiprocessing_function, urls)\n",
    "    \n",
    "time.time() - start_time"
   ]
  },
  {
   "cell_type": "markdown",
   "id": "dbf56d7e-91f8-467e-a55e-d96ace2eb4af",
   "metadata": {},
   "source": [
    "## Asyncio"
   ]
  },
  {
   "cell_type": "markdown",
   "id": "5e59902a-65e3-4d37-b981-0e756abdd617",
   "metadata": {},
   "source": [
    "### General Example"
   ]
  },
  {
   "cell_type": "code",
   "execution_count": 7,
   "id": "9d1c2c02-727f-4da8-8b89-7c31ee1ec463",
   "metadata": {},
   "outputs": [
    {
     "data": {
      "text/plain": [
       "6.003752946853638"
      ]
     },
     "execution_count": 7,
     "metadata": {},
     "output_type": "execute_result"
    }
   ],
   "source": [
    "start_time = time.time()\n",
    "\n",
    "# 1. add \"async\" to def to create a coroutine\n",
    "# 2. use \"await\" for concurrent/coroutine calls\n",
    "# note: await calls and packages must support asyncio \n",
    "async def example_asyncio_function(x):\n",
    "    await asyncio.sleep(x)\n",
    "    return x\n",
    "\n",
    "# 3. create concurrent main coroutine\n",
    "# 4. use asyncio.create_task() to create tasks\n",
    "# 5. use asyncio.gather() to schedule concurrent tasks\n",
    "# note: can also use asyncio.wait() and asyncio.wait_for()\n",
    "async def concurrent_main_function():\n",
    "    inputs = [1, 2, 3, 4, '5', 6]\n",
    "    tasks = []\n",
    "    for each_input in inputs:\n",
    "        each_coroutine = example_asyncio_function(each_input)\n",
    "        each_task = asyncio.create_task(each_coroutine)\n",
    "        tasks.append(each_task)\n",
    "    results = await asyncio.gather(*tasks, return_exceptions=True)\n",
    "    return results\n",
    "\n",
    "# 6. await main coroutine \n",
    "# note: if outside of a notebook, use asyncio.run()\n",
    "results = await concurrent_main_function()\n",
    "\n",
    "time.time() - start_time"
   ]
  },
  {
   "cell_type": "markdown",
   "id": "1b315d9d-5173-4406-90d1-a2683549430f",
   "metadata": {},
   "source": [
    "### HTTP Example"
   ]
  },
  {
   "cell_type": "code",
   "execution_count": 8,
   "id": "e867ff41-6444-46c1-b6e0-a5df518a06c1",
   "metadata": {},
   "outputs": [
    {
     "data": {
      "text/plain": [
       "1.4870429039001465"
      ]
     },
     "execution_count": 8,
     "metadata": {},
     "output_type": "execute_result"
    }
   ],
   "source": [
    "start_time = time.time()\n",
    "\n",
    "async def example_asyncio_get_request(session, each_url):\n",
    "    async with session.get(each_url) as resp:\n",
    "        result = await resp.read()\n",
    "        return result  \n",
    "\n",
    "async def main():\n",
    "    async with aiohttp.ClientSession() as session:\n",
    "        tasks = []\n",
    "        for each_url in urls:\n",
    "            each_coroutine = example_asyncio_get_request(session, each_url)\n",
    "            each_task = asyncio.create_task(each_coroutine)\n",
    "            tasks.append(each_task)\n",
    "        results = await asyncio.gather(*tasks, return_exceptions=True)\n",
    "        return results\n",
    "\n",
    "results = await main()\n",
    "\n",
    "time.time() - start_time"
   ]
  },
  {
   "cell_type": "code",
   "execution_count": null,
   "id": "eb30bbca-5ddd-4e87-8e40-0f25ab49f63f",
   "metadata": {},
   "outputs": [],
   "source": []
  }
 ],
 "metadata": {
  "kernelspec": {
   "display_name": "Python 3 (ipykernel)",
   "language": "python",
   "name": "python3"
  },
  "language_info": {
   "codemirror_mode": {
    "name": "ipython",
    "version": 3
   },
   "file_extension": ".py",
   "mimetype": "text/x-python",
   "name": "python",
   "nbconvert_exporter": "python",
   "pygments_lexer": "ipython3",
   "version": "3.9.7"
  }
 },
 "nbformat": 4,
 "nbformat_minor": 5
}
