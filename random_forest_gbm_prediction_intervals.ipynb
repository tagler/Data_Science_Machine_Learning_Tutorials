{
 "cells": [
  {
   "cell_type": "markdown",
   "metadata": {},
   "source": [
    "# Random Forest and Gradient Boosting Prediction Intervals "
   ]
  },
  {
   "cell_type": "markdown",
   "metadata": {},
   "source": [
    "# setup"
   ]
  },
  {
   "cell_type": "code",
   "execution_count": 1,
   "metadata": {},
   "outputs": [],
   "source": [
    "import numpy as np\n",
    "import pandas as pd\n",
    "import matplotlib.pyplot as plt\n",
    "import seaborn as sns"
   ]
  },
  {
   "cell_type": "code",
   "execution_count": 2,
   "metadata": {},
   "outputs": [],
   "source": [
    "from sklearn.datasets import load_boston\n",
    "from sklearn.model_selection import train_test_split"
   ]
  },
  {
   "cell_type": "code",
   "execution_count": 3,
   "metadata": {},
   "outputs": [],
   "source": [
    "boston = load_boston()\n",
    "features = boston[\"data\"]\n",
    "feature_names = boston[\"feature_names\"]\n",
    "labels = boston[\"target\"]"
   ]
  },
  {
   "cell_type": "code",
   "execution_count": 4,
   "metadata": {},
   "outputs": [],
   "source": [
    "df = pd.DataFrame(features)\n",
    "df.columns = feature_names \n",
    "df[\"LABEL\"] = labels"
   ]
  },
  {
   "cell_type": "code",
   "execution_count": 5,
   "metadata": {},
   "outputs": [],
   "source": [
    "X = df.drop(columns=[\"LABEL\"])\n",
    "y = df[\"LABEL\"]"
   ]
  },
  {
   "cell_type": "code",
   "execution_count": 6,
   "metadata": {},
   "outputs": [],
   "source": [
    "X_train, X_test, y_train, y_test = train_test_split(X, y, test_size=0.2, random_state=1)"
   ]
  },
  {
   "cell_type": "markdown",
   "metadata": {},
   "source": [
    "# random forest "
   ]
  },
  {
   "cell_type": "code",
   "execution_count": 7,
   "metadata": {},
   "outputs": [],
   "source": [
    "# https://blog.datadive.net/prediction-intervals-for-random-forests/"
   ]
  },
  {
   "cell_type": "code",
   "execution_count": 8,
   "metadata": {},
   "outputs": [],
   "source": [
    "from sklearn.ensemble import RandomForestRegressor"
   ]
  },
  {
   "cell_type": "code",
   "execution_count": 9,
   "metadata": {},
   "outputs": [],
   "source": [
    "clf = RandomForestRegressor(n_estimators=500, \n",
    "                            max_features=0.5,\n",
    "                            min_samples_leaf=1, \n",
    "                            n_jobs=-1, \n",
    "                            oob_score=True)"
   ]
  },
  {
   "cell_type": "code",
   "execution_count": 10,
   "metadata": {},
   "outputs": [
    {
     "data": {
      "text/plain": [
       "RandomForestRegressor(bootstrap=True, ccp_alpha=0.0, criterion='mse',\n",
       "                      max_depth=None, max_features=0.5, max_leaf_nodes=None,\n",
       "                      max_samples=None, min_impurity_decrease=0.0,\n",
       "                      min_impurity_split=None, min_samples_leaf=1,\n",
       "                      min_samples_split=2, min_weight_fraction_leaf=0.0,\n",
       "                      n_estimators=500, n_jobs=-1, oob_score=True,\n",
       "                      random_state=None, verbose=0, warm_start=False)"
      ]
     },
     "execution_count": 10,
     "metadata": {},
     "output_type": "execute_result"
    }
   ],
   "source": [
    "clf.fit(X_train, y_train)"
   ]
  },
  {
   "cell_type": "code",
   "execution_count": 11,
   "metadata": {},
   "outputs": [],
   "source": [
    "# predictions"
   ]
  },
  {
   "cell_type": "code",
   "execution_count": 12,
   "metadata": {},
   "outputs": [],
   "source": [
    "clf_predictions = clf.predict(X_test)"
   ]
  },
  {
   "cell_type": "code",
   "execution_count": 13,
   "metadata": {},
   "outputs": [],
   "source": [
    "# metrics "
   ]
  },
  {
   "cell_type": "code",
   "execution_count": 14,
   "metadata": {},
   "outputs": [
    {
     "name": "stdout",
     "output_type": "stream",
     "text": [
      "Training R^2: 0.9831956027550519\n"
     ]
    }
   ],
   "source": [
    "print(f\"Training R^2: {clf.score(X_train, y_train)}\")"
   ]
  },
  {
   "cell_type": "code",
   "execution_count": 15,
   "metadata": {},
   "outputs": [
    {
     "name": "stdout",
     "output_type": "stream",
     "text": [
      "Testing R^2: 0.9086902949522201\n"
     ]
    }
   ],
   "source": [
    "print(f\"Testing R^2: {clf.score(X_test, y_test)}\")"
   ]
  },
  {
   "cell_type": "code",
   "execution_count": 16,
   "metadata": {},
   "outputs": [
    {
     "name": "stdout",
     "output_type": "stream",
     "text": [
      "OOB Score: 0.8767155335949873\n"
     ]
    }
   ],
   "source": [
    "print(f\"OOB Score: {clf.oob_score_}\")"
   ]
  },
  {
   "cell_type": "code",
   "execution_count": 17,
   "metadata": {},
   "outputs": [
    {
     "data": {
      "text/plain": [
       "Text(0.5, 1.0, 'Actual vs. Prediction')"
      ]
     },
     "execution_count": 17,
     "metadata": {},
     "output_type": "execute_result"
    },
    {
     "data": {
      "image/png": "[encoded data removed]",
      "text/plain": [
       "<Figure size 720x504 with 1 Axes>"
      ]
     },
     "metadata": {
      "needs_background": "light"
     },
     "output_type": "display_data"
    }
   ],
   "source": [
    "plt.figure(figsize=[10,7])\n",
    "plt.scatter(y_test, clf_predictions)\n",
    "plt.plot([0,50],[0,50], 'b--')\n",
    "plt.title(\"Actual vs. Prediction\")"
   ]
  },
  {
   "cell_type": "code",
   "execution_count": 18,
   "metadata": {},
   "outputs": [],
   "source": [
    "# prediction intervals "
   ]
  },
  {
   "cell_type": "code",
   "execution_count": 19,
   "metadata": {},
   "outputs": [],
   "source": [
    "def prediction_intervals(model, X, percentile):\n",
    "    predictions = np.array([pred.predict(X) for pred in model.estimators_])\n",
    "    err_down = np.apply_along_axis(lambda x: np.percentile(x, (100 - percentile) / 2.), 0, predictions)\n",
    "    err_up = np.apply_along_axis(lambda x: np.percentile(x, 100 - (100 - percentile) / 2.), 0, predictions)\n",
    "    return np.transpose(np.array([err_down, err_up]))"
   ]
  },
  {
   "cell_type": "code",
   "execution_count": 20,
   "metadata": {},
   "outputs": [],
   "source": [
    "prediction_ints = prediction_intervals(clf, X_test, percentile=90)"
   ]
  },
  {
   "cell_type": "code",
   "execution_count": 21,
   "metadata": {},
   "outputs": [],
   "source": [
    "prediction_ints_df = pd.DataFrame(prediction_ints)\n",
    "prediction_ints_df.columns = [\"LOWER\",\"UPPER\"]"
   ]
  },
  {
   "cell_type": "code",
   "execution_count": 22,
   "metadata": {},
   "outputs": [],
   "source": [
    "# results "
   ]
  },
  {
   "cell_type": "code",
   "execution_count": 23,
   "metadata": {},
   "outputs": [],
   "source": [
    "actual_prediction_df = pd.DataFrame({'ACTUAL' : y_test,\n",
    "                                     'PREDICTION' : clf_predictions}).reset_index(drop=True)\n",
    "results_df = pd.concat([actual_prediction_df, prediction_ints_df], axis=1)"
   ]
  },
  {
   "cell_type": "code",
   "execution_count": 24,
   "metadata": {},
   "outputs": [
    {
     "data": {
      "text/html": [
       "<div>\n",
       "<style scoped>\n",
       "    .dataframe tbody tr th:only-of-type {\n",
       "        vertical-align: middle;\n",
       "    }\n",
       "\n",
       "    .dataframe tbody tr th {\n",
       "        vertical-align: top;\n",
       "    }\n",
       "\n",
       "    .dataframe thead th {\n",
       "        text-align: right;\n",
       "    }\n",
       "</style>\n",
       "<table border=\"1\" class=\"dataframe\">\n",
       "  <thead>\n",
       "    <tr style=\"text-align: right;\">\n",
       "      <th></th>\n",
       "      <th>ACTUAL</th>\n",
       "      <th>PREDICTION</th>\n",
       "      <th>LOWER</th>\n",
       "      <th>UPPER</th>\n",
       "    </tr>\n",
       "  </thead>\n",
       "  <tbody>\n",
       "    <tr>\n",
       "      <th>0</th>\n",
       "      <td>28.2</td>\n",
       "      <td>31.1186</td>\n",
       "      <td>23.6</td>\n",
       "      <td>36.200</td>\n",
       "    </tr>\n",
       "    <tr>\n",
       "      <th>1</th>\n",
       "      <td>23.9</td>\n",
       "      <td>27.3302</td>\n",
       "      <td>22.0</td>\n",
       "      <td>33.005</td>\n",
       "    </tr>\n",
       "    <tr>\n",
       "      <th>2</th>\n",
       "      <td>16.6</td>\n",
       "      <td>19.6284</td>\n",
       "      <td>14.4</td>\n",
       "      <td>24.400</td>\n",
       "    </tr>\n",
       "    <tr>\n",
       "      <th>3</th>\n",
       "      <td>22.0</td>\n",
       "      <td>20.9560</td>\n",
       "      <td>18.2</td>\n",
       "      <td>23.710</td>\n",
       "    </tr>\n",
       "    <tr>\n",
       "      <th>4</th>\n",
       "      <td>20.8</td>\n",
       "      <td>19.9878</td>\n",
       "      <td>15.0</td>\n",
       "      <td>24.300</td>\n",
       "    </tr>\n",
       "    <tr>\n",
       "      <th>...</th>\n",
       "      <td>...</td>\n",
       "      <td>...</td>\n",
       "      <td>...</td>\n",
       "      <td>...</td>\n",
       "    </tr>\n",
       "    <tr>\n",
       "      <th>97</th>\n",
       "      <td>22.9</td>\n",
       "      <td>23.6502</td>\n",
       "      <td>20.6</td>\n",
       "      <td>28.100</td>\n",
       "    </tr>\n",
       "    <tr>\n",
       "      <th>98</th>\n",
       "      <td>44.8</td>\n",
       "      <td>41.4482</td>\n",
       "      <td>31.5</td>\n",
       "      <td>50.000</td>\n",
       "    </tr>\n",
       "    <tr>\n",
       "      <th>99</th>\n",
       "      <td>21.7</td>\n",
       "      <td>20.8226</td>\n",
       "      <td>18.5</td>\n",
       "      <td>23.325</td>\n",
       "    </tr>\n",
       "    <tr>\n",
       "      <th>100</th>\n",
       "      <td>10.2</td>\n",
       "      <td>16.1484</td>\n",
       "      <td>10.8</td>\n",
       "      <td>21.400</td>\n",
       "    </tr>\n",
       "    <tr>\n",
       "      <th>101</th>\n",
       "      <td>15.4</td>\n",
       "      <td>14.8578</td>\n",
       "      <td>9.6</td>\n",
       "      <td>18.400</td>\n",
       "    </tr>\n",
       "  </tbody>\n",
       "</table>\n",
       "<p>102 rows × 4 columns</p>\n",
       "</div>"
      ],
      "text/plain": [
       "     ACTUAL  PREDICTION  LOWER   UPPER\n",
       "0      28.2     31.1186   23.6  36.200\n",
       "1      23.9     27.3302   22.0  33.005\n",
       "2      16.6     19.6284   14.4  24.400\n",
       "3      22.0     20.9560   18.2  23.710\n",
       "4      20.8     19.9878   15.0  24.300\n",
       "..      ...         ...    ...     ...\n",
       "97     22.9     23.6502   20.6  28.100\n",
       "98     44.8     41.4482   31.5  50.000\n",
       "99     21.7     20.8226   18.5  23.325\n",
       "100    10.2     16.1484   10.8  21.400\n",
       "101    15.4     14.8578    9.6  18.400\n",
       "\n",
       "[102 rows x 4 columns]"
      ]
     },
     "execution_count": 24,
     "metadata": {},
     "output_type": "execute_result"
    }
   ],
   "source": [
    "results_df"
   ]
  },
  {
   "cell_type": "code",
   "execution_count": 25,
   "metadata": {},
   "outputs": [
    {
     "data": {
      "text/html": [
       "<div>\n",
       "<style scoped>\n",
       "    .dataframe tbody tr th:only-of-type {\n",
       "        vertical-align: middle;\n",
       "    }\n",
       "\n",
       "    .dataframe tbody tr th {\n",
       "        vertical-align: top;\n",
       "    }\n",
       "\n",
       "    .dataframe thead th {\n",
       "        text-align: right;\n",
       "    }\n",
       "</style>\n",
       "<table border=\"1\" class=\"dataframe\">\n",
       "  <thead>\n",
       "    <tr style=\"text-align: right;\">\n",
       "      <th></th>\n",
       "      <th>ACTUAL</th>\n",
       "      <th>PREDICTION</th>\n",
       "      <th>LOWER</th>\n",
       "      <th>UPPER</th>\n",
       "    </tr>\n",
       "  </thead>\n",
       "  <tbody>\n",
       "    <tr>\n",
       "      <th>count</th>\n",
       "      <td>102.000000</td>\n",
       "      <td>102.000000</td>\n",
       "      <td>102.000000</td>\n",
       "      <td>102.000000</td>\n",
       "    </tr>\n",
       "    <tr>\n",
       "      <th>mean</th>\n",
       "      <td>22.574510</td>\n",
       "      <td>22.664502</td>\n",
       "      <td>17.361324</td>\n",
       "      <td>28.550098</td>\n",
       "    </tr>\n",
       "    <tr>\n",
       "      <th>std</th>\n",
       "      <td>9.990289</td>\n",
       "      <td>8.314350</td>\n",
       "      <td>6.876148</td>\n",
       "      <td>10.175153</td>\n",
       "    </tr>\n",
       "    <tr>\n",
       "      <th>min</th>\n",
       "      <td>6.300000</td>\n",
       "      <td>7.463400</td>\n",
       "      <td>5.000000</td>\n",
       "      <td>12.300000</td>\n",
       "    </tr>\n",
       "    <tr>\n",
       "      <th>25%</th>\n",
       "      <td>16.275000</td>\n",
       "      <td>17.456750</td>\n",
       "      <td>13.085000</td>\n",
       "      <td>21.751250</td>\n",
       "    </tr>\n",
       "    <tr>\n",
       "      <th>50%</th>\n",
       "      <td>21.850000</td>\n",
       "      <td>20.889300</td>\n",
       "      <td>17.100000</td>\n",
       "      <td>24.552500</td>\n",
       "    </tr>\n",
       "    <tr>\n",
       "      <th>75%</th>\n",
       "      <td>24.100000</td>\n",
       "      <td>25.382150</td>\n",
       "      <td>20.600000</td>\n",
       "      <td>32.200000</td>\n",
       "    </tr>\n",
       "    <tr>\n",
       "      <th>max</th>\n",
       "      <td>50.000000</td>\n",
       "      <td>48.149600</td>\n",
       "      <td>37.600000</td>\n",
       "      <td>50.000000</td>\n",
       "    </tr>\n",
       "  </tbody>\n",
       "</table>\n",
       "</div>"
      ],
      "text/plain": [
       "           ACTUAL  PREDICTION       LOWER       UPPER\n",
       "count  102.000000  102.000000  102.000000  102.000000\n",
       "mean    22.574510   22.664502   17.361324   28.550098\n",
       "std      9.990289    8.314350    6.876148   10.175153\n",
       "min      6.300000    7.463400    5.000000   12.300000\n",
       "25%     16.275000   17.456750   13.085000   21.751250\n",
       "50%     21.850000   20.889300   17.100000   24.552500\n",
       "75%     24.100000   25.382150   20.600000   32.200000\n",
       "max     50.000000   48.149600   37.600000   50.000000"
      ]
     },
     "execution_count": 25,
     "metadata": {},
     "output_type": "execute_result"
    }
   ],
   "source": [
    "results_df.describe()"
   ]
  },
  {
   "cell_type": "code",
   "execution_count": 26,
   "metadata": {},
   "outputs": [],
   "source": [
    "# plot results"
   ]
  },
  {
   "cell_type": "code",
   "execution_count": 27,
   "metadata": {},
   "outputs": [],
   "source": [
    "results_df_sorted = results_df.sort_values(by='ACTUAL').reset_index(drop=True)"
   ]
  },
  {
   "cell_type": "code",
   "execution_count": 28,
   "metadata": {},
   "outputs": [
    {
     "data": {
      "text/plain": [
       "(0, 60)"
      ]
     },
     "execution_count": 28,
     "metadata": {},
     "output_type": "execute_result"
    },
    {
     "data": {
      "image/png": "[encoded data removed]",
      "text/plain": [
       "<Figure size 720x504 with 1 Axes>"
      ]
     },
     "metadata": {
      "needs_background": "light"
     },
     "output_type": "display_data"
    }
   ],
   "source": [
    "plt.figure(figsize=[10,7])\n",
    "plt.scatter(results_df_sorted.index,\n",
    "            results_df_sorted.ACTUAL,\n",
    "            color='green')\n",
    "plt.errorbar(results_df_sorted.index,\n",
    "             results_df_sorted.PREDICTION,\n",
    "             yerr=[results_df_sorted.PREDICTION - results_df_sorted.LOWER, \n",
    "                   results_df_sorted.UPPER - results_df_sorted.PREDICTION],\n",
    "             ecolor='lightblue', \n",
    "             fmt='bo',\n",
    "             elinewidth=0)\n",
    "plt.title(\"Actual vs. Prediction with Prediction Intervals\")\n",
    "plt.legend(['Actual','Predictions'])\n",
    "plt.ylim([0,60])"
   ]
  },
  {
   "cell_type": "code",
   "execution_count": 29,
   "metadata": {},
   "outputs": [
    {
     "name": "stdout",
     "output_type": "stream",
     "text": [
      "Percent of Predictions +/- Interval that Include Actual Value: 0.9313725490196079\n"
     ]
    }
   ],
   "source": [
    "correct = 0\n",
    "for each_row in results_df_sorted.itertuples():\n",
    "    if each_row.LOWER <= each_row.ACTUAL <= each_row.UPPER:\n",
    "        correct += 1\n",
    "print(f\"Percent of Predictions +/- Interval that Include Actual Value: {correct/results_df.shape[0]}\")"
   ]
  },
  {
   "cell_type": "code",
   "execution_count": 30,
   "metadata": {},
   "outputs": [],
   "source": [
    "# other options: \n",
    "# https://github.com/scikit-learn-contrib/forest-confidence-interval - forest-confidence-interval\n",
    "# https://scikit-garden.github.io/examples/QuantileRegressionForests/ - Quantile Regression Forests \n",
    "# https://github.com/grf-labs/grf - Generalized Random Forests\n",
    "# https://github.com/imbs-hl/ranger - Ranger"
   ]
  },
  {
   "cell_type": "markdown",
   "metadata": {},
   "source": [
    "# sklearn gbm"
   ]
  },
  {
   "cell_type": "code",
   "execution_count": 31,
   "metadata": {},
   "outputs": [],
   "source": [
    "from sklearn.ensemble import GradientBoostingRegressor"
   ]
  },
  {
   "cell_type": "code",
   "execution_count": 32,
   "metadata": {},
   "outputs": [
    {
     "data": {
      "text/plain": [
       "GradientBoostingRegressor(alpha=0.9, ccp_alpha=0.0, criterion='friedman_mse',\n",
       "                          init=None, learning_rate=0.25, loss='lad',\n",
       "                          max_depth=3, max_features=None, max_leaf_nodes=None,\n",
       "                          min_impurity_decrease=0.0, min_impurity_split=None,\n",
       "                          min_samples_leaf=9, min_samples_split=9,\n",
       "                          min_weight_fraction_leaf=0.0, n_estimators=200,\n",
       "                          n_iter_no_change=None, presort='deprecated',\n",
       "                          random_state=1, subsample=1.0, tol=0.0001,\n",
       "                          validation_fraction=0.1, verbose=0, warm_start=False)"
      ]
     },
     "execution_count": 32,
     "metadata": {},
     "output_type": "execute_result"
    }
   ],
   "source": [
    "clf_gbm = GradientBoostingRegressor(loss='lad',\n",
    "                                    learning_rate=0.25,\n",
    "                                    min_samples_leaf=9, \n",
    "                                    min_samples_split=9,\n",
    "                                    n_estimators=200,\n",
    "                                    random_state=1)\n",
    "clf_gbm.fit(X_train, y_train)"
   ]
  },
  {
   "cell_type": "code",
   "execution_count": 33,
   "metadata": {},
   "outputs": [],
   "source": [
    "# predictions"
   ]
  },
  {
   "cell_type": "code",
   "execution_count": 34,
   "metadata": {},
   "outputs": [],
   "source": [
    "clf_gbm_predictions = clf_gbm.predict(X_test)"
   ]
  },
  {
   "cell_type": "code",
   "execution_count": 35,
   "metadata": {},
   "outputs": [],
   "source": [
    "# metrics "
   ]
  },
  {
   "cell_type": "code",
   "execution_count": 36,
   "metadata": {},
   "outputs": [
    {
     "name": "stdout",
     "output_type": "stream",
     "text": [
      "Training R^2: 0.9301751143196128\n"
     ]
    }
   ],
   "source": [
    "print(f\"Training R^2: {clf_gbm.score(X_train, y_train)}\")"
   ]
  },
  {
   "cell_type": "code",
   "execution_count": 37,
   "metadata": {},
   "outputs": [
    {
     "name": "stdout",
     "output_type": "stream",
     "text": [
      "Testing R^2: 0.8982176875817872\n"
     ]
    }
   ],
   "source": [
    "print(f\"Testing R^2: {clf_gbm.score(X_test, y_test)}\")"
   ]
  },
  {
   "cell_type": "code",
   "execution_count": 38,
   "metadata": {},
   "outputs": [
    {
     "data": {
      "text/plain": [
       "Text(0.5, 1.0, 'Actual vs. Prediction')"
      ]
     },
     "execution_count": 38,
     "metadata": {},
     "output_type": "execute_result"
    },
    {
     "data": {
      "image/png": "[encoded data removed]",
      "text/plain": [
       "<Figure size 720x504 with 1 Axes>"
      ]
     },
     "metadata": {
      "needs_background": "light"
     },
     "output_type": "display_data"
    }
   ],
   "source": [
    "plt.figure(figsize=[10,7])\n",
    "plt.scatter(y_test, clf_gbm_predictions)\n",
    "plt.plot([0,50],[0,50], 'b--')\n",
    "plt.title(\"Actual vs. Prediction\")"
   ]
  },
  {
   "cell_type": "code",
   "execution_count": 39,
   "metadata": {},
   "outputs": [],
   "source": [
    "# prediction intervals "
   ]
  },
  {
   "cell_type": "code",
   "execution_count": 40,
   "metadata": {},
   "outputs": [],
   "source": [
    "alpha = 0.975"
   ]
  },
  {
   "cell_type": "code",
   "execution_count": 41,
   "metadata": {},
   "outputs": [],
   "source": [
    "clf_gbm_upper = GradientBoostingRegressor(loss='quantile', \n",
    "                                          alpha=alpha,\n",
    "                                          learning_rate=0.25,\n",
    "                                          min_samples_leaf=9, \n",
    "                                          min_samples_split=9,\n",
    "                                          n_estimators=200,\n",
    "                                          random_state=1)\n",
    "clf_gbm_upper.fit(X_train, y_train)\n",
    "y_upper = clf_gbm_upper.predict(X_test)"
   ]
  },
  {
   "cell_type": "code",
   "execution_count": 42,
   "metadata": {},
   "outputs": [],
   "source": [
    "clf_gbm_lower = GradientBoostingRegressor(loss='quantile', \n",
    "                                          alpha=1-alpha,\n",
    "                                          learning_rate=0.25,\n",
    "                                          min_samples_leaf=9, \n",
    "                                          min_samples_split=9,\n",
    "                                          n_estimators=200,\n",
    "                                          random_state=1)\n",
    "clf_gbm_lower.fit(X_train, y_train)\n",
    "y_lower = clf_gbm_lower.predict(X_test)"
   ]
  },
  {
   "cell_type": "code",
   "execution_count": 43,
   "metadata": {},
   "outputs": [],
   "source": [
    "# results"
   ]
  },
  {
   "cell_type": "code",
   "execution_count": 44,
   "metadata": {},
   "outputs": [],
   "source": [
    "results_gbm_df = pd.DataFrame({'ACTUAL' : y_test,\n",
    "                               'PREDICTION' : clf_gbm_predictions,\n",
    "                               'UPPER' : y_upper,\n",
    "                               'LOWER' : y_lower}).reset_index(drop=True)"
   ]
  },
  {
   "cell_type": "code",
   "execution_count": 45,
   "metadata": {},
   "outputs": [
    {
     "data": {
      "text/html": [
       "<div>\n",
       "<style scoped>\n",
       "    .dataframe tbody tr th:only-of-type {\n",
       "        vertical-align: middle;\n",
       "    }\n",
       "\n",
       "    .dataframe tbody tr th {\n",
       "        vertical-align: top;\n",
       "    }\n",
       "\n",
       "    .dataframe thead th {\n",
       "        text-align: right;\n",
       "    }\n",
       "</style>\n",
       "<table border=\"1\" class=\"dataframe\">\n",
       "  <thead>\n",
       "    <tr style=\"text-align: right;\">\n",
       "      <th></th>\n",
       "      <th>ACTUAL</th>\n",
       "      <th>PREDICTION</th>\n",
       "      <th>UPPER</th>\n",
       "      <th>LOWER</th>\n",
       "    </tr>\n",
       "  </thead>\n",
       "  <tbody>\n",
       "    <tr>\n",
       "      <th>0</th>\n",
       "      <td>28.2</td>\n",
       "      <td>29.344403</td>\n",
       "      <td>31.180253</td>\n",
       "      <td>24.173866</td>\n",
       "    </tr>\n",
       "    <tr>\n",
       "      <th>1</th>\n",
       "      <td>23.9</td>\n",
       "      <td>27.079061</td>\n",
       "      <td>28.835753</td>\n",
       "      <td>24.267125</td>\n",
       "    </tr>\n",
       "    <tr>\n",
       "      <th>2</th>\n",
       "      <td>16.6</td>\n",
       "      <td>17.702270</td>\n",
       "      <td>22.660348</td>\n",
       "      <td>17.584184</td>\n",
       "    </tr>\n",
       "    <tr>\n",
       "      <th>3</th>\n",
       "      <td>22.0</td>\n",
       "      <td>19.298849</td>\n",
       "      <td>25.890126</td>\n",
       "      <td>19.325858</td>\n",
       "    </tr>\n",
       "    <tr>\n",
       "      <th>4</th>\n",
       "      <td>20.8</td>\n",
       "      <td>20.794504</td>\n",
       "      <td>21.988005</td>\n",
       "      <td>15.364676</td>\n",
       "    </tr>\n",
       "    <tr>\n",
       "      <th>...</th>\n",
       "      <td>...</td>\n",
       "      <td>...</td>\n",
       "      <td>...</td>\n",
       "      <td>...</td>\n",
       "    </tr>\n",
       "    <tr>\n",
       "      <th>97</th>\n",
       "      <td>22.9</td>\n",
       "      <td>25.106272</td>\n",
       "      <td>27.793616</td>\n",
       "      <td>21.224719</td>\n",
       "    </tr>\n",
       "    <tr>\n",
       "      <th>98</th>\n",
       "      <td>44.8</td>\n",
       "      <td>41.630003</td>\n",
       "      <td>48.515908</td>\n",
       "      <td>23.373630</td>\n",
       "    </tr>\n",
       "    <tr>\n",
       "      <th>99</th>\n",
       "      <td>21.7</td>\n",
       "      <td>20.897744</td>\n",
       "      <td>23.419427</td>\n",
       "      <td>17.769498</td>\n",
       "    </tr>\n",
       "    <tr>\n",
       "      <th>100</th>\n",
       "      <td>10.2</td>\n",
       "      <td>16.331613</td>\n",
       "      <td>22.047834</td>\n",
       "      <td>11.452114</td>\n",
       "    </tr>\n",
       "    <tr>\n",
       "      <th>101</th>\n",
       "      <td>15.4</td>\n",
       "      <td>15.952063</td>\n",
       "      <td>21.575533</td>\n",
       "      <td>14.216122</td>\n",
       "    </tr>\n",
       "  </tbody>\n",
       "</table>\n",
       "<p>102 rows × 4 columns</p>\n",
       "</div>"
      ],
      "text/plain": [
       "     ACTUAL  PREDICTION      UPPER      LOWER\n",
       "0      28.2   29.344403  31.180253  24.173866\n",
       "1      23.9   27.079061  28.835753  24.267125\n",
       "2      16.6   17.702270  22.660348  17.584184\n",
       "3      22.0   19.298849  25.890126  19.325858\n",
       "4      20.8   20.794504  21.988005  15.364676\n",
       "..      ...         ...        ...        ...\n",
       "97     22.9   25.106272  27.793616  21.224719\n",
       "98     44.8   41.630003  48.515908  23.373630\n",
       "99     21.7   20.897744  23.419427  17.769498\n",
       "100    10.2   16.331613  22.047834  11.452114\n",
       "101    15.4   15.952063  21.575533  14.216122\n",
       "\n",
       "[102 rows x 4 columns]"
      ]
     },
     "execution_count": 45,
     "metadata": {},
     "output_type": "execute_result"
    }
   ],
   "source": [
    "results_gbm_df"
   ]
  },
  {
   "cell_type": "code",
   "execution_count": 46,
   "metadata": {},
   "outputs": [],
   "source": [
    "# plot results"
   ]
  },
  {
   "cell_type": "code",
   "execution_count": 47,
   "metadata": {},
   "outputs": [],
   "source": [
    "results_gbm_df_sorted = results_gbm_df.sort_values(by='ACTUAL').reset_index(drop=True)"
   ]
  },
  {
   "cell_type": "code",
   "execution_count": 48,
   "metadata": {},
   "outputs": [
    {
     "data": {
      "text/plain": [
       "(0, 60)"
      ]
     },
     "execution_count": 48,
     "metadata": {},
     "output_type": "execute_result"
    },
    {
     "data": {
      "image/png": "[encoded data removed]",
      "text/plain": [
       "<Figure size 720x504 with 1 Axes>"
      ]
     },
     "metadata": {
      "needs_background": "light"
     },
     "output_type": "display_data"
    }
   ],
   "source": [
    "plt.figure(figsize=[10,7])\n",
    "plt.scatter(results_gbm_df_sorted.index,\n",
    "            results_gbm_df_sorted.ACTUAL,\n",
    "            color='green')\n",
    "plt.errorbar(results_gbm_df_sorted.index,\n",
    "             results_gbm_df_sorted.PREDICTION,\n",
    "             yerr=[results_gbm_df_sorted.PREDICTION - results_gbm_df_sorted.LOWER, \n",
    "                   results_gbm_df_sorted.UPPER - results_gbm_df_sorted.PREDICTION],\n",
    "             ecolor='lightblue', \n",
    "             fmt='bo',\n",
    "             elinewidth=0)\n",
    "plt.title(\"Actual vs. Prediction with Prediction Intervals\")\n",
    "plt.legend(['Actual','Predictions'])\n",
    "plt.ylim([0,60])"
   ]
  },
  {
   "cell_type": "code",
   "execution_count": 49,
   "metadata": {},
   "outputs": [
    {
     "name": "stdout",
     "output_type": "stream",
     "text": [
      "Percent of Predictions +/- Interval that Include Actual Value: 0.7058823529411765\n"
     ]
    }
   ],
   "source": [
    "correct = 0\n",
    "for each_row in results_gbm_df_sorted.itertuples():\n",
    "    if each_row.LOWER <= each_row.ACTUAL <= each_row.UPPER:\n",
    "        correct += 1\n",
    "print(f\"Percent of Predictions +/- Interval that Include Actual Value: {correct/results_gbm_df_sorted.shape[0]}\")"
   ]
  },
  {
   "cell_type": "markdown",
   "metadata": {},
   "source": [
    "# lightgbm"
   ]
  },
  {
   "cell_type": "code",
   "execution_count": 71,
   "metadata": {},
   "outputs": [],
   "source": [
    "import lightgbm"
   ]
  },
  {
   "cell_type": "code",
   "execution_count": 51,
   "metadata": {},
   "outputs": [],
   "source": [
    "clf_lgbm = lightgbm.LGBMRegressor(oobjective = \"regression_l1\",\n",
    "                                  reg_sqrt=True,\n",
    "                                  max_depth=3,\n",
    "                                  learning_rate=0.1,\n",
    "                                  min_data_in_leaf=5,\n",
    "                                  n_estimators=500,\n",
    "                                  random_state=1)"
   ]
  },
  {
   "cell_type": "code",
   "execution_count": 52,
   "metadata": {},
   "outputs": [
    {
     "data": {
      "text/plain": [
       "LGBMRegressor(boosting_type='gbdt', class_weight=None, colsample_bytree=1.0,\n",
       "              importance_type='split', learning_rate=0.1, max_depth=3,\n",
       "              min_child_samples=20, min_child_weight=0.001, min_data_in_leaf=5,\n",
       "              min_split_gain=0.0, n_estimators=500, n_jobs=-1, num_leaves=31,\n",
       "              objective=None, oobjective='regression_l1', random_state=1,\n",
       "              reg_alpha=0.0, reg_lambda=0.0, reg_sqrt=True, silent=True,\n",
       "              subsample=1.0, subsample_for_bin=200000, subsample_freq=0)"
      ]
     },
     "execution_count": 52,
     "metadata": {},
     "output_type": "execute_result"
    }
   ],
   "source": [
    "clf_lgbm.fit(X_train, y_train)"
   ]
  },
  {
   "cell_type": "code",
   "execution_count": 53,
   "metadata": {},
   "outputs": [],
   "source": [
    "# predictions "
   ]
  },
  {
   "cell_type": "code",
   "execution_count": 54,
   "metadata": {},
   "outputs": [],
   "source": [
    "clf_lgbm_predictions = clf_lgbm.predict(X_test)"
   ]
  },
  {
   "cell_type": "code",
   "execution_count": 55,
   "metadata": {},
   "outputs": [],
   "source": [
    "# metrics "
   ]
  },
  {
   "cell_type": "code",
   "execution_count": 56,
   "metadata": {},
   "outputs": [
    {
     "name": "stdout",
     "output_type": "stream",
     "text": [
      "Training R^2: 0.9980155718250587\n"
     ]
    }
   ],
   "source": [
    "print(f\"Training R^2: {clf_lgbm.score(X_train, y_train)}\")"
   ]
  },
  {
   "cell_type": "code",
   "execution_count": 57,
   "metadata": {},
   "outputs": [
    {
     "name": "stdout",
     "output_type": "stream",
     "text": [
      "Testing R^2: 0.9100028680778774\n"
     ]
    }
   ],
   "source": [
    "print(f\"Testing R^2: {clf_lgbm.score(X_test, y_test)}\")"
   ]
  },
  {
   "cell_type": "code",
   "execution_count": 58,
   "metadata": {},
   "outputs": [
    {
     "data": {
      "text/plain": [
       "Text(0.5, 1.0, 'Actual vs. Prediction')"
      ]
     },
     "execution_count": 58,
     "metadata": {},
     "output_type": "execute_result"
    },
    {
     "data": {
      "image/png": "[encoded data removed]",
      "text/plain": [
       "<Figure size 720x504 with 1 Axes>"
      ]
     },
     "metadata": {
      "needs_background": "light"
     },
     "output_type": "display_data"
    }
   ],
   "source": [
    "plt.figure(figsize=[10,7])\n",
    "plt.scatter(y_test, clf_lgbm_predictions)\n",
    "plt.plot([0,50],[0,50], 'b--')\n",
    "plt.title(\"Actual vs. Prediction\")"
   ]
  },
  {
   "cell_type": "code",
   "execution_count": 59,
   "metadata": {},
   "outputs": [],
   "source": [
    "# prediction intervals "
   ]
  },
  {
   "cell_type": "code",
   "execution_count": 60,
   "metadata": {},
   "outputs": [],
   "source": [
    "alpha = 0.95"
   ]
  },
  {
   "cell_type": "code",
   "execution_count": 61,
   "metadata": {},
   "outputs": [],
   "source": [
    "clf_lgbm_upper = lightgbm.LGBMRegressor(objective='quantile', \n",
    "                                        alpha=alpha,\n",
    "                                        reg_sqrt=True,\n",
    "                                        max_depth=3,\n",
    "                                        learning_rate=0.1,\n",
    "                                        min_data_in_leaf=5,\n",
    "                                        n_estimators=500,                                       \n",
    "                                        random_state=1)\n",
    "clf_lgbm_upper.fit(X_train, y_train)\n",
    "lgbm_y_upper = clf_lgbm_upper.predict(X_test)"
   ]
  },
  {
   "cell_type": "code",
   "execution_count": 62,
   "metadata": {},
   "outputs": [],
   "source": [
    "clf_lgbm_lower = lightgbm.LGBMRegressor(objective='quantile', \n",
    "                                        alpha=1-alpha,\n",
    "                                        reg_sqrt=True,\n",
    "                                        max_depth=3,\n",
    "                                        learning_rate=0.1,\n",
    "                                        min_data_in_leaf=5,\n",
    "                                        n_estimators=500,     \n",
    "                                        random_state=1)\n",
    "clf_lgbm_lower.fit(X_train, y_train)\n",
    "lgbm_y_lower = clf_lgbm_lower.predict(X_test)"
   ]
  },
  {
   "cell_type": "code",
   "execution_count": 63,
   "metadata": {},
   "outputs": [],
   "source": [
    "# results"
   ]
  },
  {
   "cell_type": "code",
   "execution_count": 64,
   "metadata": {},
   "outputs": [],
   "source": [
    "results_lgbm_df = pd.DataFrame({'ACTUAL' : y_test,\n",
    "                               'PREDICTION' : clf_lgbm_predictions,\n",
    "                               'UPPER' : lgbm_y_upper,\n",
    "                               'LOWER' : lgbm_y_lower}).reset_index(drop=True)"
   ]
  },
  {
   "cell_type": "code",
   "execution_count": 65,
   "metadata": {},
   "outputs": [
    {
     "data": {
      "text/html": [
       "<div>\n",
       "<style scoped>\n",
       "    .dataframe tbody tr th:only-of-type {\n",
       "        vertical-align: middle;\n",
       "    }\n",
       "\n",
       "    .dataframe tbody tr th {\n",
       "        vertical-align: top;\n",
       "    }\n",
       "\n",
       "    .dataframe thead th {\n",
       "        text-align: right;\n",
       "    }\n",
       "</style>\n",
       "<table border=\"1\" class=\"dataframe\">\n",
       "  <thead>\n",
       "    <tr style=\"text-align: right;\">\n",
       "      <th></th>\n",
       "      <th>ACTUAL</th>\n",
       "      <th>PREDICTION</th>\n",
       "      <th>UPPER</th>\n",
       "      <th>LOWER</th>\n",
       "    </tr>\n",
       "  </thead>\n",
       "  <tbody>\n",
       "    <tr>\n",
       "      <th>0</th>\n",
       "      <td>28.2</td>\n",
       "      <td>30.528815</td>\n",
       "      <td>32.665877</td>\n",
       "      <td>25.045502</td>\n",
       "    </tr>\n",
       "    <tr>\n",
       "      <th>1</th>\n",
       "      <td>23.9</td>\n",
       "      <td>28.002772</td>\n",
       "      <td>30.406091</td>\n",
       "      <td>24.500533</td>\n",
       "    </tr>\n",
       "    <tr>\n",
       "      <th>2</th>\n",
       "      <td>16.6</td>\n",
       "      <td>19.390872</td>\n",
       "      <td>24.654554</td>\n",
       "      <td>16.857341</td>\n",
       "    </tr>\n",
       "    <tr>\n",
       "      <th>3</th>\n",
       "      <td>22.0</td>\n",
       "      <td>19.989305</td>\n",
       "      <td>23.797818</td>\n",
       "      <td>19.689133</td>\n",
       "    </tr>\n",
       "    <tr>\n",
       "      <th>4</th>\n",
       "      <td>20.8</td>\n",
       "      <td>21.132097</td>\n",
       "      <td>20.420746</td>\n",
       "      <td>17.351349</td>\n",
       "    </tr>\n",
       "    <tr>\n",
       "      <th>...</th>\n",
       "      <td>...</td>\n",
       "      <td>...</td>\n",
       "      <td>...</td>\n",
       "      <td>...</td>\n",
       "    </tr>\n",
       "    <tr>\n",
       "      <th>97</th>\n",
       "      <td>22.9</td>\n",
       "      <td>24.552409</td>\n",
       "      <td>27.140044</td>\n",
       "      <td>21.824108</td>\n",
       "    </tr>\n",
       "    <tr>\n",
       "      <th>98</th>\n",
       "      <td>44.8</td>\n",
       "      <td>41.164675</td>\n",
       "      <td>49.946907</td>\n",
       "      <td>32.073854</td>\n",
       "    </tr>\n",
       "    <tr>\n",
       "      <th>99</th>\n",
       "      <td>21.7</td>\n",
       "      <td>22.018986</td>\n",
       "      <td>23.518032</td>\n",
       "      <td>18.823773</td>\n",
       "    </tr>\n",
       "    <tr>\n",
       "      <th>100</th>\n",
       "      <td>10.2</td>\n",
       "      <td>15.311287</td>\n",
       "      <td>21.121256</td>\n",
       "      <td>12.453773</td>\n",
       "    </tr>\n",
       "    <tr>\n",
       "      <th>101</th>\n",
       "      <td>15.4</td>\n",
       "      <td>16.447363</td>\n",
       "      <td>23.218045</td>\n",
       "      <td>12.638221</td>\n",
       "    </tr>\n",
       "  </tbody>\n",
       "</table>\n",
       "<p>102 rows × 4 columns</p>\n",
       "</div>"
      ],
      "text/plain": [
       "     ACTUAL  PREDICTION      UPPER      LOWER\n",
       "0      28.2   30.528815  32.665877  25.045502\n",
       "1      23.9   28.002772  30.406091  24.500533\n",
       "2      16.6   19.390872  24.654554  16.857341\n",
       "3      22.0   19.989305  23.797818  19.689133\n",
       "4      20.8   21.132097  20.420746  17.351349\n",
       "..      ...         ...        ...        ...\n",
       "97     22.9   24.552409  27.140044  21.824108\n",
       "98     44.8   41.164675  49.946907  32.073854\n",
       "99     21.7   22.018986  23.518032  18.823773\n",
       "100    10.2   15.311287  21.121256  12.453773\n",
       "101    15.4   16.447363  23.218045  12.638221\n",
       "\n",
       "[102 rows x 4 columns]"
      ]
     },
     "execution_count": 65,
     "metadata": {},
     "output_type": "execute_result"
    }
   ],
   "source": [
    "results_lgbm_df"
   ]
  },
  {
   "cell_type": "code",
   "execution_count": 66,
   "metadata": {},
   "outputs": [],
   "source": [
    "# plot results"
   ]
  },
  {
   "cell_type": "code",
   "execution_count": 67,
   "metadata": {},
   "outputs": [],
   "source": [
    "results_lgbm_df_sorted = results_lgbm_df.sort_values(by='ACTUAL').reset_index(drop=True)"
   ]
  },
  {
   "cell_type": "code",
   "execution_count": 68,
   "metadata": {},
   "outputs": [
    {
     "data": {
      "text/plain": [
       "(0, 60)"
      ]
     },
     "execution_count": 68,
     "metadata": {},
     "output_type": "execute_result"
    },
    {
     "data": {
      "image/png": "[encoded data removed]",
      "text/plain": [
       "<Figure size 720x504 with 1 Axes>"
      ]
     },
     "metadata": {
      "needs_background": "light"
     },
     "output_type": "display_data"
    }
   ],
   "source": [
    "plt.figure(figsize=[10,7])\n",
    "plt.scatter(results_lgbm_df_sorted.index,\n",
    "            results_lgbm_df_sorted.ACTUAL,\n",
    "            color='green')\n",
    "plt.errorbar(results_lgbm_df_sorted.index,\n",
    "             results_lgbm_df_sorted.PREDICTION,\n",
    "             yerr=[results_lgbm_df_sorted.PREDICTION - results_lgbm_df_sorted.LOWER, \n",
    "                   results_lgbm_df_sorted.UPPER - results_lgbm_df_sorted.PREDICTION],\n",
    "             ecolor='lightblue', \n",
    "             fmt='bo',\n",
    "             elinewidth=0)\n",
    "plt.title(\"Actual vs. Prediction with Prediction Intervals\")\n",
    "plt.legend(['Actual','Predictions'])\n",
    "plt.ylim([0,60])"
   ]
  },
  {
   "cell_type": "code",
   "execution_count": 69,
   "metadata": {},
   "outputs": [
    {
     "name": "stdout",
     "output_type": "stream",
     "text": [
      "Percent of Predictions +/- Interval that Include Actual Value: 0.6274509803921569\n"
     ]
    }
   ],
   "source": [
    "correct = 0\n",
    "for each_row in results_lgbm_df_sorted.itertuples():\n",
    "    if each_row.LOWER <= each_row.ACTUAL <= each_row.UPPER:\n",
    "        correct += 1\n",
    "print(f\"Percent of Predictions +/- Interval that Include Actual Value: {correct/results_lgbm_df_sorted.shape[0]}\")"
   ]
  },
  {
   "cell_type": "markdown",
   "metadata": {},
   "source": [
    "# xgboost"
   ]
  },
  {
   "cell_type": "code",
   "execution_count": 70,
   "metadata": {},
   "outputs": [],
   "source": [
    "# https://colab.research.google.com/drive/1KlRkrLi7JmVpprL94vN96lZU-HyFNkTq#scrollTo=EbvnttJdyCmI"
   ]
  },
  {
   "cell_type": "code",
   "execution_count": null,
   "metadata": {},
   "outputs": [],
   "source": []
  }
 ],
 "metadata": {
  "kernelspec": {
   "display_name": "Python 3",
   "language": "python",
   "name": "python3"
  },
  "language_info": {
   "codemirror_mode": {
    "name": "ipython",
    "version": 3
   },
   "file_extension": ".py",
   "mimetype": "text/x-python",
   "name": "python",
   "nbconvert_exporter": "python",
   "pygments_lexer": "ipython3",
   "version": "3.7.6"
  }
 },
 "nbformat": 4,
 "nbformat_minor": 4
}
